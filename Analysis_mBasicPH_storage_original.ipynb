{
 "cells": [
  {
   "cell_type": "markdown",
   "metadata": {},
   "source": [
    "For working with the model, we first import some packages and the modelclass:"
   ]
  },
  {
   "cell_type": "code",
   "execution_count": null,
   "metadata": {},
   "outputs": [],
   "source": [
    "#os.chdir('C:\\\\Users\\\\mpher\\\\Documents\\\\Uni\\\\Master\\\\02_Exchange\\\\01_Academics\\\\Energy Economics of the Green Transition\\\\0_Final Project\\EnergyEconGroupWork')"
   ]
  },
  {
   "cell_type": "code",
   "execution_count": null,
   "metadata": {},
   "outputs": [],
   "source": [
    "import os\n",
    "current_directory = os.getcwd()\n",
    "print(current_directory)"
   ]
  },
  {
   "cell_type": "code",
   "execution_count": 1,
   "metadata": {},
   "outputs": [],
   "source": [
    "%run ./stdPackages.ipynb\n",
    "from pyDbs import *\n",
    "\n",
    "os.chdir(os.path.join(d['curr'], 'py'))\n",
    "\n",
    "from mBasicPH_storage import *\n",
    "os.chdir(d['curr'])"
   ]
  },
  {
   "cell_type": "markdown",
   "metadata": {},
   "source": [
    "Next we load the database:"
   ]
  },
  {
   "cell_type": "code",
   "execution_count": 3,
   "metadata": {},
   "outputs": [],
   "source": [
    "kwargs = {'variables': ['Fundamentals', 'LoadVariables', 'GeneratorsVariables','StorageVariables'],\n",
    "        'maps': ['LoadMaps','GeneratorsMaps','StorageMaps'],\n",
    "        'variable2D': ['HourlyVariation'],\n",
    "        'scalars': ['Scalars']}\n",
    "\n",
    "path_to_data = os.path.join(d['curr'], 'Data', 'mBasicPH_storage_Data.xlsx')\n",
    "\n",
    "db = read.dbFromWB(path_to_data, kwargs)\n",
    "readSets(db)"
   ]
  },
  {
   "cell_type": "markdown",
   "metadata": {},
   "source": [
    "Convert variables to floats:"
   ]
  },
  {
   "cell_type": "code",
   "execution_count": 4,
   "metadata": {},
   "outputs": [],
   "source": [
    "[db.__setitem__(var,db[var].astype(float).sort_index()) for var in db.getTypes('variable').keys()];"
   ]
  },
  {
   "cell_type": "markdown",
   "metadata": {},
   "source": [
    "We need to read in heat areas manually:"
   ]
  },
  {
   "cell_type": "code",
   "execution_count": 5,
   "metadata": {},
   "outputs": [],
   "source": [
    "db['g_H'] = db['id2g_H'].get_level_values('g_H')"
   ]
  },
  {
   "cell_type": "code",
   "execution_count": 6,
   "metadata": {},
   "outputs": [
    {
     "data": {
      "text/plain": [
       "Index(['DK_Central', 'DK_Central', 'DK_Central', 'DK_Central', 'DK_Central',\n",
       "       'DK_Central', 'DK_Central', 'DK_Central', 'DK_Central', 'DK_Central',\n",
       "       'DK_Central', 'DK_Central', 'DK_Central', 'DK_Central', 'DK_Central',\n",
       "       'DK_Central', 'DK_Central', 'DK_Central', 'DK_Central', 'DK_Central',\n",
       "       'DK_Decentral', 'DK_Decentral', 'DK_Decentral', 'DK_Decentral',\n",
       "       'DK_Decentral', 'DK_Decentral', 'DK_Decentral', 'DK_Decentral',\n",
       "       'DK_Decentral', 'DK_Decentral', 'DK_Decentral', 'DK_Decentral',\n",
       "       'DK_Decentral', 'DK_Decentral', 'DK_Decentral', 'DK_Decentral',\n",
       "       'DK_Decentral', 'DK_Decentral', 'DK_Decentral', 'DK_Decentral',\n",
       "       'DK_Decentral'],\n",
       "      dtype='object', name='g_H')"
      ]
     },
     "execution_count": 6,
     "metadata": {},
     "output_type": "execute_result"
    }
   ],
   "source": [
    "db['g_H']"
   ]
  },
  {
   "cell_type": "markdown",
   "metadata": {},
   "source": [
    "We need to read in electricity areas manually:"
   ]
  },
  {
   "cell_type": "code",
   "execution_count": 10,
   "metadata": {},
   "outputs": [],
   "source": [
    "db['g_E'] = db['id2g_E'].get_level_values('g_E')"
   ]
  },
  {
   "cell_type": "code",
   "execution_count": 11,
   "metadata": {},
   "outputs": [
    {
     "data": {
      "text/plain": [
       "Index(['DK', 'DK', 'DK', 'DK', 'DK', 'DK', 'DK', 'DK', 'DK', 'DK', 'DK', 'DK',\n",
       "       'DK', 'DK', 'DK', 'DK', 'DK', 'DK', 'DK', 'DK', 'DK', 'DK', 'DK', 'DK',\n",
       "       'DK', 'DK', 'DK', 'DK', 'DK', 'DK', 'DK'],\n",
       "      dtype='object', name='g_E')"
      ]
     },
     "execution_count": 11,
     "metadata": {},
     "output_type": "execute_result"
    }
   ],
   "source": [
    "db['g_E']"
   ]
  },
  {
   "cell_type": "markdown",
   "metadata": {},
   "source": [
    "Collect all areas in one:"
   ]
  },
  {
   "cell_type": "code",
   "execution_count": 12,
   "metadata": {},
   "outputs": [],
   "source": [
    "db['g'] = db['g_E'].copy()"
   ]
  },
  {
   "cell_type": "code",
   "execution_count": 13,
   "metadata": {},
   "outputs": [
    {
     "data": {
      "text/plain": [
       "Index(['DK', 'DK', 'DK', 'DK', 'DK', 'DK', 'DK', 'DK', 'DK', 'DK', 'DK', 'DK',\n",
       "       'DK', 'DK', 'DK', 'DK', 'DK', 'DK', 'DK', 'DK', 'DK', 'DK', 'DK', 'DK',\n",
       "       'DK', 'DK', 'DK', 'DK', 'DK', 'DK', 'DK'],\n",
       "      dtype='object', name='g_E')"
      ]
     },
     "execution_count": 13,
     "metadata": {},
     "output_type": "execute_result"
    }
   ],
   "source": [
    "db['g']"
   ]
  },
  {
   "cell_type": "markdown",
   "metadata": {},
   "source": [
    "Finally, we will assume that linelosses and trade are zero such that the marginal willingness to pay and marginal generation costs of \"transmission lines\" does not have to be corrected. "
   ]
  },
  {
   "cell_type": "markdown",
   "metadata": {},
   "source": [
    "We then initialize and solve the model:"
   ]
  },
  {
   "cell_type": "code",
   "execution_count": 14,
   "metadata": {},
   "outputs": [
    {
     "data": {
      "text/plain": [
       "dict_keys(['EmissionTax', 'EmissionIntensity', 'FuelPrice', 'LoadVariation_E', 'Load_H', 'LoadVariation_H', 'Load_E', 'GeneratingCap_E', 'FuelMix', 'GeneratingCap_H', 'FOM', 'OtherMC', 'E2H', 'selfDischarge', 'chargeCap_H', 'sCap', 'effC', 'effD', 'c_H2g', 'c_E2g', 'id2tech', 'id2g_E', 'id2hvt', 'id2g_H', 'tech2modelTech', 'id2g', 'CapVariation', 'MWP_E', 'MWP_H', 'EmissionType', 'BFt', 'c_E', 'h', 'c_H', 'id', 'hvt', 'g_H', 'g', 'g_E', 'id2modelTech2tech'])"
      ]
     },
     "execution_count": 14,
     "metadata": {},
     "output_type": "execute_result"
    }
   ],
   "source": [
    "m = mSimple(db)\n",
    "m.db.symbols.keys()"
   ]
  },
  {
   "cell_type": "code",
   "execution_count": null,
   "metadata": {},
   "outputs": [],
   "source": [
    "variable_names = ['FuelPrice', 'EmissionIntensity', 'EmissionTax', 'LoadVariation_H', 'MWP_H', 'Load_E', 'MWP_E', \n",
    "                  'LoadVariation_E', 'Load_H', 'effD', 'sCap', 'InvestCost', 'selfDischarge', 'effC', 'OtherMC', \n",
    "                  'GeneratingCap_H', 'FOM', 'chargeCap_H', 'GeneratingCap_E', 'E2H', 'FuelMix', 'c_H2g_H', 'c_E2g_E', \n",
    "                  'id2tech', 'tech2modelTech', 'id2g_E', 'id2g_H', 'id2hvt', 'g_E2g_H', 'g_E2g', 'g_H2g', 'h2Month', \n",
    "                  'h2Weekday', 'h2Week', 'h2HourOfTheDay', 'CapVariation', 'BFt', 'EmissionType', 'c_H', 'h', 'c_E', \n",
    "                  'id', 'tech', 'hvt', 'g_H', 'g_E', 'g', 'id2modelTech2tech', 'mc']"
   ]
  },
  {
   "cell_type": "code",
   "execution_count": 15,
   "metadata": {},
   "outputs": [
    {
     "data": {
      "text/plain": [
       "Index(['DK', 'DK', 'DK', 'DK', 'DK', 'DK', 'DK', 'DK', 'DK', 'DK', 'DK', 'DK',\n",
       "       'DK', 'DK', 'DK', 'DK', 'DK', 'DK', 'DK', 'DK', 'DK', 'DK', 'DK', 'DK',\n",
       "       'DK', 'DK', 'DK', 'DK', 'DK', 'DK', 'DK'],\n",
       "      dtype='object', name='g_E')"
      ]
     },
     "execution_count": 15,
     "metadata": {},
     "output_type": "execute_result"
    }
   ],
   "source": [
    "m.db['g_E']"
   ]
  },
  {
   "cell_type": "code",
   "execution_count": null,
   "metadata": {},
   "outputs": [],
   "source": [
    "#m()"
   ]
  },
  {
   "cell_type": "code",
   "execution_count": null,
   "metadata": {},
   "outputs": [],
   "source": [
    "#df = pd.DataFrame(db['x'])\n",
    "#df.to_excel(os.path.join(d['curr'], 'x.xlsx'), engine='openpyxl')\n",
    "\n",
    "#db['x']"
   ]
  },
  {
   "cell_type": "markdown",
   "metadata": {},
   "source": [
    "What to plot?\n",
    "\n",
    "- CO2 Emissions\n",
    "- Usage of Storage\n",
    "- Marginal Economic value of storage\n",
    "- seasonal storage?"
   ]
  }
 ],
 "metadata": {
  "kernelspec": {
   "display_name": "EE2023",
   "language": "python",
   "name": "python3"
  },
  "language_info": {
   "codemirror_mode": {
    "name": "ipython",
    "version": 3
   },
   "file_extension": ".py",
   "mimetype": "text/x-python",
   "name": "python",
   "nbconvert_exporter": "python",
   "pygments_lexer": "ipython3",
   "version": "3.11.3"
  }
 },
 "nbformat": 4,
 "nbformat_minor": 2
}
