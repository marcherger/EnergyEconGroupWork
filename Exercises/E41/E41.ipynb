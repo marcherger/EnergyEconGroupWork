{
 "cells": [
  {
   "cell_type": "markdown",
   "id": "ba6e109b-13c9-44f1-a0f1-3d7dc83adb11",
   "metadata": {},
   "source": [
    "# A Basic Model of Electricity and Heat Systems"
   ]
  },
  {
   "cell_type": "markdown",
   "id": "29dc43dc-e9fd-4ffd-bc10-d98250c0bb2f",
   "metadata": {},
   "source": [
    "Consider a stylized model of the electricity and heat systems where a portfolio of generators (indexed $i$) competes to serve a time varying demand for electricity $(D_h^E)$ and heat $(D_h^H)$, where $h$ refers to hours. The consumers' willingness to pay are 100 €/MWh for both electricity and heat throughout all hours. The system relies on four different type of generators:\n",
    "\n",
    "- <u>Standard (dispatchable) plants</u> use a combination of primary energy carriers (indexed by $j$) and an aggregate of other inputs $(oth)$ to produce either electricity or heat. Let $\\mu_j^i$ denote the input share of energy carrier $j$ for generator $i$, measured as MWh input of energy carrier $j$ per MWh output of electricity or heat. Let $E_{i,h}$ and $H_{i,h}$ denote the hourly generation of electricity and heat, and let $q_i$ denote the installed hourly generating capacity for the plant $i$.\n",
    "- <u>Intermittent plants</u> are similar to standard plants, except that hourly generating capacity is defined as $q_{i,h} = q_i \\gamma_{i,h}$ where $\\gamma_{i,h}\\in[0,1]$ indicates availability of generator $i$ in hour $h$. We use the notation $\\mathcal{I}^E$ ($\\mathcal{I}^H$) to denote the set of all standard and intermittent electricity (heat) producing plants.    \n",
    "- <u>Back-pressure plants</u> are similar to standard electricity producing plants, except that they utilize the excess heat from electricity production to co-produce heat. Let $\\nu_i$ denote the electricity-to-heat ratio for a back-pressure plant $i$. We use the notation $\\mathcal{I}^{BP}$ to denote the set of all back-pressure plants. \n",
    "- <u>Heat pumps</u> are slightly different than standard heat producing plants as they rely on electricity as energy input. Thus, heat pumps have negative electricity-to-heat ratios $(\\nu_i<0)$. We use the notation $\\mathcal{I}^{HP}$ to denote the set of all heat pumps.\n",
    "\n",
    "The optimization problem is given by the system in (1):"
   ]
  },
  {
   "cell_type": "markdown",
   "id": "cd6a9a91-4ab5-4bb4-88c4-dbdb6f1da551",
   "metadata": {},
   "source": [
    "\\begin{align}\n",
    "    \\max_{E_{i,h}, H_{i,h}, D_h^E, D_h^H} \\ &W = \\sum_h\\left( u_E\\cdot D_h^E-\\sum_{i \\in \\lbrace \\mathcal{I}^E, \\mathcal{I}^{BP}\\rbrace}c_i\\cdot E_{i,h}\\right)-\\sum_{i\\in\\lbrace \\mathcal{I}^E,\\mathcal{I}^{BP}\\rbrace}\\text{FOM}_i\\cdot q_i^E \\tag{1a} \\\\ \n",
    "    & \\quad +{\\sum_h\\left( u_H\\cdot D_h^H-\\sum_{i \\in \\lbrace \\mathcal{I}^H, \\mathcal{I}^{HP}\\rbrace}c_i\\cdot H_{i,h}\\right)-\\sum_{i\\in\\lbrace \\mathcal{I}^H, \\mathcal{I}^{HP}\\rbrace}\\text{FOM}_i\\cdot q_i^H} \\notag \\\\\n",
    "    &E_{i,h}= \\nu_i H_{i,h}, \\qquad \\forall i\\in\\lbrace \\mathcal{I}^{BP}, \\mathcal{I}^{HP} \\rbrace \\tag{1b} \\\\\n",
    "    &D_h^E = \\sum_{i\\in \\lbrace \\mathcal{I}^E, \\mathcal{I}^{BP}, \\mathcal{I}^{HP}\\rbrace }E_{i,h}  \\tag{1c}\\\\ \n",
    "    &D_h^H = \\sum_{i\\in \\lbrace \\mathcal{I}^H, \\mathcal{I}^{BP}, \\mathcal{I}^{HP}\\rbrace} H_{i,h}  \\tag{1d}\\\\ \n",
    "    &D_h^E\\in[0, L_h^E]  \\tag{1e}\\\\ \n",
    "    &D_h^H\\in[0,L_h^H]  \\tag{1f}\\\\ \n",
    "    &E_{i,h} \\in[0,q_{i,h}^E], \\qquad \\forall i\\in\\lbrace \\mathcal{I}^E,\\mathcal{I}^{BP}\\rbrace.  \\tag{1g}\\\\\n",
    "    &H_{i,h} \\in[0,q_{i,h}^H], \\qquad \\forall i\\in\\lbrace \\mathcal{I}^H, \\mathcal{I}^{HP}\\rbrace  \\tag{1h}\n",
    "\\end{align}"
   ]
  },
  {
   "cell_type": "markdown",
   "id": "d4b41550",
   "metadata": {},
   "source": [
    "---\n",
    "**Notes** (see also MEE, p. 31)\n",
    "\n",
    "- (1e) and (1f): we allow for load shedding, the actual load can be smaller\n",
    "- (1b) co-generation constraint"
   ]
  },
  {
   "cell_type": "markdown",
   "id": "dd59dfec-ece8-42f3-8c11-ef11ffddc501",
   "metadata": {
    "tags": []
   },
   "source": [
    "# Part 1: Analytical exercises"
   ]
  },
  {
   "cell_type": "markdown",
   "id": "f87fe3d5-f18a-4312-a601-79f1611c1e63",
   "metadata": {},
   "source": [
    "## E1.1"
   ]
  },
  {
   "cell_type": "markdown",
   "id": "53520b2e-edb6-472b-bb35-fcc7a043f0c8",
   "metadata": {
    "tags": []
   },
   "source": [
    "__Describe the optimization problem above.__"
   ]
  },
  {
   "cell_type": "markdown",
   "id": "91ebb392",
   "metadata": {},
   "source": [
    "---\n",
    "**Solution**\n",
    "\n",
    "- (1a) is the welfare function, which is the sum of consumer and producer surplus subtracted by total fixed operating other maintanence costs on both electricity and heat markets. \n",
    "    - Note that since $q_i$ is fixed, the fixed costs do not impact the optimal solution to the linear programming (LP) problem in (1).\n",
    "- (1b) is the co-generation constraint of back-pressure plants $(\\nu_{\\lbrace i\\in\\mathcal{I^{BP}}\\rbrace}>0)$ as well as the inverse electrical efficiency of heat pumps $(\\nu_{\\lbrace i\\in\\mathcal{I^{HP}}\\rbrace}<0)$.\n",
    "- (1c) is the equilibrium identity on the electricity market. Here, the \"generation\" from heat pumps is negative because they use electricity when generating heat.\n",
    "- (1d) is the equilibrium identity on the heating market.\n",
    "- (1e) and (1f) are domain constraints on demand. It essentially allows the optimal solution to entail demand curtailment. \n",
    "    - Note that we abstract from loadshedding here.\n",
    "- Finally, (1g) and (1h) are domain constraints on generation, limiting maximum generation to be within capacity bounds. "
   ]
  },
  {
   "cell_type": "markdown",
   "id": "33e60f33-750f-42fc-9e14-b4ee7a13acab",
   "metadata": {},
   "source": [
    "## E1.2"
   ]
  },
  {
   "cell_type": "markdown",
   "id": "fdd9c454-84b2-4b5e-8158-27151bfd0b70",
   "metadata": {},
   "source": [
    "__Set up the Lagrangian for the optimization problem in [E1.1](#E1.1) and show that the first order conditions for $E_{i,h}$ and $H_{i,h}$ can be written as:__\n",
    "\n",
    "\\begin{align}\n",
    "\\forall i\\in\\mathcal{I}^E & : & - c_i+\\lambda_h^E + \\underline{\\theta}_{i,h}^E-\\overline{\\theta}_{i,h}^E &= 0& \\tag{2a}  \\\\\n",
    "\\forall i\\in\\mathcal{I}^{BP} & : & - c_i+\\lambda_h^E + \\frac{\\lambda^H}{\\nu_i} +\\underline{\\theta}_{i,h}^E-\\overline{\\theta}_{i,h}^E &= 0& \\tag{2b}  \\\\\n",
    "\\forall i\\in\\mathcal{I}^{H} & : & - c_i+\\lambda_h^H + \\underline{\\theta}_{i,h}^H-\\overline{\\theta}_{i,h}^H &= 0& \\tag{2c}  \\\\\n",
    "\\forall i\\in\\mathcal{I}^{HP} & : & - c_i+\\lambda_h^H + \\nu_i\\lambda^E +\\underline{\\theta}_{i,h}^H-\\overline{\\theta}_{i,h}^H &= 0& \\tag{2d} \n",
    "\\end{align}\n",
    "\n",
    "where $\\lambda^E$ and $\\lambda^H$ denote the shadow costs of equilibrium constraints on electricity and heat markets in hour $h$, respectively, and $\\underline{\\theta}$ and $\\overline{\\theta}$ denote the shadow costs on the domain constraints on generation variables $E$ and $H$. \n",
    "\n",
    "*Note: Use the same notation as in the above*."
   ]
  },
  {
   "cell_type": "markdown",
   "id": "680a76a5",
   "metadata": {},
   "source": [
    "---\n",
    "**Solution**\n",
    "\n",
    "\\begin{align}\n",
    "    \\mathcal{L} =& W + \\sum_h\\left( \\Lambda_h^E + \\Lambda_h^H + \\sum_{i\\in \\lbrace \\mathcal{I}^{BP}, \\mathcal{I}^{HP}\\rbrace }\\Lambda_{h,i}^{CHP}\\right) \\\\ \n",
    "    &+ \\sum_h\\left(\\Theta_h^{DH}+\\Theta_h^{DE}+\\sum_{i\\in \\lbrace \\mathcal{I}^{E}, \\mathcal{I}^{BP}\\rbrace}\\Theta_{h,i}^E+\\sum_{i\\in \\lbrace \\mathcal{I}^{H}, \\mathcal{I}^{HP}\\rbrace}\\Theta_{h,i}^H\\right) \\notag \\\\\n",
    "    \\Lambda_h^E =& \\lambda_h^E\\left(\\sum_{i\\in \\lbrace \\mathcal{I}^E, \\mathcal{I}^{BP}, \\mathcal{I}^{HP}\\rbrace } E_{i,h}-D_h^E\\right) \\notag \\\\\n",
    "    \\Lambda_h^H =& \\lambda_h^H\\left(\\sum_{i\\in \\lbrace \\mathcal{I}^H, \\mathcal{I}^{BP},\\mathcal{I}^{HP}\\rbrace} H_{i,h} - D_h^H\\right) \\notag \\\\\n",
    "    \\Lambda_{h,i}^{CHP} =& \\lambda_{i,h}^{CHP}\\left(E_{i,h}-\\nu_i H_{i,h}\\right) \\notag \\\\\n",
    "    \\Theta_h^{DE} =& \\underline{\\theta}^{DE}_hD_h^E+\\overline{\\theta}^{DE}_h(L_h^E-D_h^E) \\notag \\\\\n",
    "    \\Theta_h^{DH} =& \\underline{\\theta}^{DH}_hD_h^H+\\overline{\\theta}^{DH}_h(L_h^H-D_h^H) \\notag \\\\\n",
    "    \\Theta_{h,i}^E =& \\underline{\\theta}^E_{i,h}E_{i,h}+\\overline{\\theta}^E_{i,h}\\left(q_{i,h}-E_{i,h}\\right) \\notag \\\\\n",
    "    \\Theta_{h,i}^H =& \\underline{\\theta}^H_{i,h}H_{i,h}+\\overline{\\theta}^H_{i,h}\\left(q_{i,h}-H_{i,h}\\right) \\notag\n",
    "\\end{align}"
   ]
  },
  {
   "cell_type": "markdown",
   "id": "2a608302",
   "metadata": {},
   "source": [
    "*FOCS*\n",
    "\n",
    "\\begin{align}\n",
    "    \\text{For }i\\in\\mathcal{I}^E: && \\dfrac{\\partial \\mathcal{L}}{\\partial E_{i,h}} = 0: && -c_i +\\lambda_h^E +\\underline{\\theta}_{i,h}^E-\\overline{\\theta}_{i,h}^E =&0 \\tag{2a}\\\\ \n",
    "    \\text{For }i\\in\\mathcal{I}^{BP}: && \\dfrac{\\partial \\mathcal{L}}{\\partial E_{i,h}} = 0: && -c_i+\\lambda_h^E + \\lambda_{i,h}^{CHP}+\\underline{\\theta}_{i,h}^E-\\overline{\\theta}_{i,h}^E =& 0 \\tag{2bE}\\\\\n",
    "    \\text{For }i\\in\\mathcal{I}^{HP}: && \\dfrac{\\partial \\mathcal{L}}{\\partial E_{i,h}} =0: && \\lambda_h^E+\\lambda_{i,h}^{CHP} =& 0 \\tag{2dE} \\\\\n",
    "    \\text{For }i\\in\\mathcal{I}^H: && \\dfrac{\\partial \\mathcal{L}}{\\partial H_{i,h}} = 0: && -c_i +\\lambda_h^H +\\underline{\\theta}_{i,h}^H-\\overline{\\theta}_{i,h}^H =&0 \\tag{2c}\\\\ \n",
    "    \\text{For }i\\in\\mathcal{I}^{BP}: && \\dfrac{\\partial \\mathcal{L}}{\\partial H_{i,h}} = 0: && \\lambda_h^H-\\nu_i\\lambda_{i,h}^{CHP} =& 0 \\tag{2bH}\\\\\n",
    "    \\text{For }i\\in\\mathcal{I}^{HP}: && \\dfrac{\\partial \\mathcal{L}}{\\partial H_{i,h}} =0: && -c_i+\\lambda_h^H-\\nu_i\\cdot \\lambda_{i,h}^{CHP} +\\underline{\\theta}_{i,h}^H-\\overline{\\theta}_{i,h}^H=& 0 \\tag{2dH}.\n",
    "\\end{align}"
   ]
  },
  {
   "cell_type": "markdown",
   "id": "7455180c",
   "metadata": {},
   "source": [
    "Combining the dual conditions for BP and HP plants to eliminate $\\lambda^{CHP}$ we obtain:\n",
    "\\begin{align}\n",
    "    \\text{For }i\\in\\mathcal{I}^E: && -c_i +\\lambda_h^E +\\underline{\\theta}_{i,h}^E-\\overline{\\theta}_{i,h}^E =&0 \\tag{2e}\\\\ \n",
    "    \\text{For }i\\in\\mathcal{I}^{BP}: && -c_i + \\frac{\\lambda_h^{H}}{\\nu} + \\lambda_h^E+\\underline{\\theta}_{i,h}^E-\\overline{\\theta}_{i,h}^E =& 0 \\tag{2f}\\\\\n",
    "    \\text{For }i\\in\\mathcal{I}^H: && -c_i +\\lambda_h^H +\\underline{\\theta}_{i,h}^H-\\overline{\\theta}_{i,h}^H =&0 \\tag{2g}\\\\ \n",
    "    \\text{For }i\\in\\mathcal{I}^{HP}: && -c_i+\\lambda_h^E \\cdot \\nu_i + \\lambda_h^H +\\underline{\\theta}_{i,h}^H-\\overline{\\theta}_{i,h}^H=& 0 \\tag{2h}\n",
    "\\end{align}"
   ]
  },
  {
   "cell_type": "markdown",
   "id": "c86546f2-4ae6-4c76-9aad-0a53bd6ee676",
   "metadata": {},
   "source": [
    "## E1.3"
   ]
  },
  {
   "cell_type": "markdown",
   "id": "fb361284-b883-4b3a-b071-ee68482924ca",
   "metadata": {},
   "source": [
    "__Briefly explain the intuition the first-order conditions in [E1.2](#E1.2).__ "
   ]
  },
  {
   "cell_type": "markdown",
   "id": "f1d3f25b",
   "metadata": {},
   "source": [
    "---\n",
    "**Solution**\n",
    "\n",
    "To interpret the necessary first-order conditions, we first recognize that $\\lambda_h^E$ and $\\lambda_h^H$ as equilibrium prices in the electricity market and the heat market, respectively. We then see:\n",
    "\n",
    "- Eq. (2a) is the conventional first-order condition for standard electricity plants: When $\\lambda_h^E-c_i>0$, the plant is relatively cost-effective. In this case, $\\overline{\\theta}_{i,h}^E=\\lambda_h^E-c_i>0$ indicating that the relevant upper domain constraint is active $(E_{i,h}=q_{i,h})$. \n",
    "- An equivalent interpretation for standard heat producing electricity producing plants in (2c) holds.\n",
    "- For back-pressure plants, the condition in (2b) is the same as for standard plants, except that $\\lambda_h^E$ is replaced with $\\lambda_h^H/\\nu_i\\geq 0$. When a back-pressure plant generates 1 GJ electricity, it co-generates $1/\\nu_i$ GJ heat; thus, the marginal value of electricity generation is $\\lambda_h^E +  \\lambda_h^H/\\nu_i$. Importantly, this means that *the value of back-pressure plants is higher when the price (marginal system cost) of heat $(\\lambda_h^H)$ is high.*\n",
    "- For heat pumps, the condition in (2d) is the same as the ones for standard heat producing plants, except that $\\lambda_h^H$ is replaced with $\\lambda_h^H+\\nu_i \\lambda_{h}^{E}$. But, recall that for heat pumps, $\\nu_i<0$ measures how much electricity is needed to produce heat. So, unlike the back-pressure plant, this means that *the value of heat pumps is higher when the price (marginal system cost) of electricity is low."
   ]
  },
  {
   "cell_type": "markdown",
   "id": "a3b9873d-eec7-4a3a-b6aa-e886c15026be",
   "metadata": {},
   "source": [
    "## E1.4"
   ]
  },
  {
   "cell_type": "markdown",
   "id": "e8a01214-6250-4ac1-82d0-ced953bae6c1",
   "metadata": {},
   "source": [
    "__Show the reservation price of electricity (denoted $r_{i,h}^E$) for back-pressure producing plants is given by__\n",
    "\n",
    "\\begin{align}\n",
    "    \\forall i\\in\\mathcal{I}^{BP}: \\quad r_{i,h}^E = c_i-\\frac{\\lambda_h^H}{\\nu_i}\n",
    "\\end{align}\n",
    "\n",
    "__and provide intuition__.\n",
    "\n",
    "\n",
    "_Hint:_\n",
    "_By reservation price we mean the inverted supply function. To gain intuition let us consider standard plants $(i\\in\\mathcal{I}^E)$, which face the profit maximizing problem:_\n",
    "\n",
    "\\begin{align}\n",
    "    \\max_{E_{i,h}\\in[0,q_{i,h}]} \\quad E_{i,h}\\left(\\lambda_h^E - c_i\\right)\n",
    "\\end{align}\n",
    "*The optimal generation decision (i.e. the supply function) is then*\n",
    "\n",
    "\\begin{align}\n",
    "    E^*_{i,h}(\\lambda_h^E)\\begin{cases}\n",
    "    =q_{i,h} & \\lambda_h^E>c_i \\\\\n",
    "    \\in[0,q_{i,h}] & \\lambda_h^E=c_i \\\\\n",
    "    =0 & \\lambda_h^E<c_i\n",
    "    \\end{cases}\n",
    "\\end{align}\n",
    "\n",
    "*We cannot directly invert $E^*_{i,h}(\\lambda_h^E)$ (i.e. isolate for $\\lambda_h^E$), but it is quite clear, that plant $i\\in\\mathcal{I}^E$ only generates electricity if $\\lambda_h^E\\geq c_i$. Hence the reservation price of standard electricity producing plants are $r_{i,h}^E=c_i$.*\n",
    "\n",
    "*Another way to see this is simply to isolate for $\\lambda_h^E$ in the first-order condition in (2a) and drop the shadow prices on the domain constraints. You can use this last logic to derive the reservation price of electricity for heat producing plants.*"
   ]
  },
  {
   "cell_type": "markdown",
   "id": "1dd8a3a6",
   "metadata": {},
   "source": [
    "---\n",
    "**Solution**\n",
    "\n",
    "rearrange for $\\lambda_h^E$ in the first-order condition in (2f) and drop the shadow prices on the domain constraints (assuming the solution is interior):\n",
    "\n",
    "\\begin{align}\n",
    "    \\forall i\\in\\mathcal{I}^{BP}: -c_i + \\frac{\\lambda_h^{H}}{\\nu} + \\lambda_h^E =& 0\\\\\n",
    "    \\Leftrightarrow r_{i,h}^E = \\lambda_h^E = c_i - \\frac{\\lambda_h^{H}}{\\nu}\n",
    "\\end{align}\n",
    "\n",
    "This is the lowest price at which the BP plant is willing to produce and supply energy.\n",
    "\n",
    "**The intuition is that for each unit of electricity produced, the back-pressure plant earns $\\frac{\\lambda_h^H}{\\nu_i}$ on the market for heat, which is can use to cover its cost $(c_i)$. $\\lambda_h^H$ is the price of heat and $\\nu_i$ the conversion.**"
   ]
  },
  {
   "cell_type": "markdown",
   "id": "559966fd-b240-4e9d-8246-937c212faab1",
   "metadata": {},
   "source": [
    "## E1.5"
   ]
  },
  {
   "cell_type": "markdown",
   "id": "c0d8fa3b-91d1-48ba-b12b-8d410cb3cf97",
   "metadata": {},
   "source": [
    "__Derive heat pumps' hourly marginal willings to pay $(\\text{MWP}^{HP}_h)$ for electricity using the condition in eq. (2d) and provide intuition for the expression.__"
   ]
  },
  {
   "cell_type": "markdown",
   "id": "29711de3",
   "metadata": {},
   "source": [
    "---\n",
    "**Answer**\n",
    "\n",
    "Solving for $\\lambda_h^E$ in (2h) and dropping domain constraints yields\n",
    "\n",
    "\\begin{align}\n",
    "    -c_i+\\lambda_h^E \\cdot \\nu_i + \\lambda_h^H &= 0&\\\\\n",
    "    \\lambda_h^E \\cdot \\nu_i &= c_i - \\lambda_h^H&\\\\\n",
    "    \\lambda_h^E &= \\frac{c_i - \\lambda_h^H}{\\nu_i}&\\\\\n",
    "    \\text{MWP}^{HP}_h &= \\frac{c_i-\\lambda_h^H}{\\nu_i}&\n",
    "\\end{align}\n",
    "\n",
    "Given that $\\nu_i<0$ for heat pumps, the marginal willingness to pay for electricity is\n",
    "- decreasing the marginal costs $(c_i)$. \n",
    "\n",
    "    This is because all inputs are used in fixed proportions (i.e. the inputs are perfect complements). Higher generation costs of other inputs therefore cannot be mitigated by substuting for higher demand of electricity but directly translates into lower willingness to pay for electricity.\n",
    "- increasing in the unit revenue of heat $(p_h^H)$.\n",
    "\n",
    "    This is intuitive as higher revenues increases the willingess to pay for inputs. "
   ]
  },
  {
   "cell_type": "markdown",
   "id": "c2c16deb-8c38-4e23-985b-99efe8314b8b",
   "metadata": {},
   "source": [
    "## E1.6"
   ]
  },
  {
   "cell_type": "markdown",
   "id": "783b249f-4aee-4fe4-946c-f0690535d508",
   "metadata": {},
   "source": [
    "__Explain how the heat pump technology can be seen as an example of (i) electrification and (ii) flexible demand.__"
   ]
  },
  {
   "cell_type": "markdown",
   "id": "652c19be",
   "metadata": {},
   "source": [
    "---\n",
    "**Solution**\n",
    "\n",
    "*Ad i)* Electrification is an important strategy in the green transition and refers to the process whereby renewable electricity replaces fossil fuels in the production of goods and services. The heat pump technology is an example of electrification of the heat sector, since renewable electricity is converted into heat to provide heating services. Note that this should not be confused with use of e.g. solar heating or biomass in the generation of heating services. \n",
    "\n",
    "\n",
    "*Ad ii)* The heat pump is also an example of a flexible demand technology in the electricity system in that the marginal willingness to pay is non-constant and electricity demand from heat pumps is increasing in lower electricity prices. Similarly, heat pumps can shut down and reduce electricity demand when electricity costs are prohibitively high. While these features are also present in our simple model, there is an additional flexibility of heat pumps not captured by the model: **This additional flexibility of heat pumps comes from the fact that heat is more easily stored.** For instance, even if heat prices are low when electricity prices are also low, the generated heat can more easily be stored for when demand for heat is high."
   ]
  },
  {
   "cell_type": "markdown",
   "id": "9faa98e9-a1b7-4129-88c0-2355b1dfbab5",
   "metadata": {},
   "source": [
    "# Part 2: Numerical exercises"
   ]
  },
  {
   "cell_type": "markdown",
   "id": "366940b1-4453-4acb-8540-0d14aba7ce36",
   "metadata": {},
   "source": [
    "In the rest of this exercise, we will be working with a simplified version of the `mBasicPH` model adapted to the model setting above. The file `HP_InputData.xlsx` includes a model database with parameters for the model. We refer to the scenario with parameters as outlined in this data as the _baseline_ scenario. The table below translates the names used in the data to the symbols used in the model. \n",
    "\n",
    "| Name in excel file | Model symbol |\n",
    "|:--------|:--------:|\n",
    "| id | $i$ | \n",
    "| BFt | $j$ |\n",
    "| h | $h$ |\n",
    "|  FuelMix   |  $\\mu_{i,j}$   |\n",
    "|  GeneratingCapacity   | $q_i$   |\n",
    "|  OtherMC   | $c_i^{oth}$   |\n",
    "| E2H | $\\nu_i$ |\n",
    "| FuelPrice | $p_j^f$ |\n",
    "| EmissionIntensity | $\\phi_j$ |\n",
    "| MWP, E | $\\mu_E$ |\n",
    "| MWP, H | $\\mu_E$ |\n",
    "| LoadVariation, E | $L_h^E$ |\n",
    "| LoadVariation, H | $L_h^H$ |\n",
    "| CapVariation | $\\gamma_{i,h} $ |"
   ]
  },
  {
   "cell_type": "markdown",
   "id": "016c70e3-5dcb-4dde-a8ce-ce2a7a545548",
   "metadata": {},
   "source": [
    "For working with the model, we first import some packages and the modelclass:"
   ]
  },
  {
   "cell_type": "code",
   "execution_count": 1,
   "id": "9f2498de-d6e7-4c13-9695-1571fb03c7d8",
   "metadata": {
    "tags": []
   },
   "outputs": [
    {
     "name": "stdout",
     "output_type": "stream",
     "text": [
      "The autoreload extension is already loaded. To reload it, use:\n",
      "  %reload_ext autoreload\n"
     ]
    }
   ],
   "source": [
    "# from .py.modelclass import *\n",
    "%run ../stdPackages.ipynb\n",
    "from pyDbs import *\n",
    "from IPython.display import Image\n",
    "figs_path = os.path.join(d['curr'],'E41', 'Figs')\n",
    "os.chdir(os.path.join(d['curr'], 'E41', 'py'))\n",
    "from modelclass import *\n",
    "os.chdir(d['curr'])\n"
   ]
  },
  {
   "cell_type": "markdown",
   "id": "62e21e23-ecf0-41c4-b031-41d0a5eb22d4",
   "metadata": {
    "tags": []
   },
   "source": [
    "Next we load the database:"
   ]
  },
  {
   "cell_type": "code",
   "execution_count": 2,
   "id": "839c488d-c882-4fcb-a1c0-c284f6a33933",
   "metadata": {
    "tags": []
   },
   "outputs": [],
   "source": [
    "kwargs = {'variables': ['Fundamentals', 'LoadVariables', 'GeneratorsVariables'],\n",
    "        'maps': ['LoadMaps','GeneratorsMaps'],\n",
    "        'variable2D': ['HourlyVariation'],\n",
    "        'scalars': ['Scalars']}\n",
    "path_to_data = os.path.join(d['curr'],'E41', 'Data', 'E41_Data.xlsx')\n",
    "db = read.dbFromWB(path_to_data, kwargs)\n",
    "readSets(db)"
   ]
  },
  {
   "cell_type": "markdown",
   "id": "241ed51f",
   "metadata": {},
   "source": [
    "---\n",
    "**Code Explanation**\n",
    "\n",
    "- 3rd line uses a function called 'dbFromWB' to read data from an Excel workbook (.xlsx file) and create a database-like object named 'db'.\n",
    "---"
   ]
  },
  {
   "cell_type": "markdown",
   "id": "458a2e2d-de05-4291-9333-70aa17670cfe",
   "metadata": {
    "tags": []
   },
   "source": [
    "We then initialize and solve the model:"
   ]
  },
  {
   "cell_type": "code",
   "execution_count": 3,
   "id": "36f0005f-a035-42b6-a698-ec2f20a0e398",
   "metadata": {
    "tags": []
   },
   "outputs": [
    {
     "name": "stdout",
     "output_type": "stream",
     "text": [
      "Solution status 0: Optimization terminated successfully. (HiGHS Status 7: Optimal)\n"
     ]
    }
   ],
   "source": [
    "m = mSimple(db.copy()) # initialize using the database 'db' from above.\n",
    "m()"
   ]
  },
  {
   "cell_type": "markdown",
   "id": "cd99edfe-d4d8-48aa-8c77-e3e702c6144f",
   "metadata": {
    "tags": []
   },
   "source": [
    "Finally, we will store some variables for the different technology types:"
   ]
  },
  {
   "cell_type": "code",
   "execution_count": 4,
   "id": "17163295-fca9-4aa6-8fb8-2561a6df20f9",
   "metadata": {
    "tags": []
   },
   "outputs": [],
   "source": [
    "# Get a mapping from id to modelTech:\n",
    "id2modelTech = m.db['id2tech'].to_frame(index=False).merge(m.db['tech2modelTech'].to_frame(index=False)).set_index(['id','tech','modelTech'])\n",
    "# Back-pressure plants:\n",
    "BP_id = db['id'][db['id'].isin(id2modelTech.xs('BP',level='modelTech').index.get_level_values('id'))]\n",
    "# Standard electricity plants:\n",
    "StdE_id = db['id'][db['id'].isin(id2modelTech.xs('standard_E',level='modelTech').index.get_level_values('id'))]\n",
    "# All electricity plants:\n",
    "E_id = BP_id.append(StdE_id)\n",
    "# Standard heat plants:\n",
    "StdH_id = db['id'][db['id'].isin(id2modelTech.xs('standard_H',level='modelTech').index.get_level_values('id'))]\n",
    "# Heat pumps\n",
    "HP_id = db['id'][db['id'].isin(id2modelTech.xs('HP',level='modelTech').index.get_level_values('id'))]\n",
    "# All heat plants\n",
    "H_id = StdH_id.append(HP_id)"
   ]
  },
  {
   "cell_type": "markdown",
   "id": "61c728b4",
   "metadata": {},
   "source": [
    "---"
   ]
  },
  {
   "cell_type": "code",
   "execution_count": 5,
   "id": "d746cf27",
   "metadata": {},
   "outputs": [
    {
     "data": {
      "text/html": [
       "<div>\n",
       "<style scoped>\n",
       "    .dataframe tbody tr th:only-of-type {\n",
       "        vertical-align: middle;\n",
       "    }\n",
       "\n",
       "    .dataframe tbody tr th {\n",
       "        vertical-align: top;\n",
       "    }\n",
       "\n",
       "    .dataframe thead th {\n",
       "        text-align: right;\n",
       "    }\n",
       "</style>\n",
       "<table border=\"1\" class=\"dataframe\">\n",
       "  <thead>\n",
       "    <tr style=\"text-align: right;\">\n",
       "      <th></th>\n",
       "      <th></th>\n",
       "      <th></th>\n",
       "    </tr>\n",
       "    <tr>\n",
       "      <th>id</th>\n",
       "      <th>tech</th>\n",
       "      <th>modelTech</th>\n",
       "    </tr>\n",
       "  </thead>\n",
       "  <tbody>\n",
       "    <tr>\n",
       "      <th>g1_BP_Coal</th>\n",
       "      <th>BP_Coal</th>\n",
       "      <th>BP</th>\n",
       "    </tr>\n",
       "    <tr>\n",
       "      <th>g1_BP_NatGas</th>\n",
       "      <th>BP_NatGas</th>\n",
       "      <th>BP</th>\n",
       "    </tr>\n",
       "    <tr>\n",
       "      <th>g1_BP_BioMass</th>\n",
       "      <th>BP_BioMass</th>\n",
       "      <th>BP</th>\n",
       "    </tr>\n",
       "  </tbody>\n",
       "</table>\n",
       "</div>"
      ],
      "text/plain": [
       "Empty DataFrame\n",
       "Columns: []\n",
       "Index: [(g1_BP_Coal, BP_Coal, BP), (g1_BP_NatGas, BP_NatGas, BP), (g1_BP_BioMass, BP_BioMass, BP)]"
      ]
     },
     "execution_count": 5,
     "metadata": {},
     "output_type": "execute_result"
    }
   ],
   "source": [
    "id2modelTech.head(3)"
   ]
  },
  {
   "cell_type": "code",
   "execution_count": 6,
   "id": "1f5a29d5",
   "metadata": {},
   "outputs": [
    {
     "data": {
      "text/plain": [
       "Index(['g1_BP_BioMass', 'g1_BP_Coal', 'g1_BP_NatGas'], dtype='object', name='id')"
      ]
     },
     "execution_count": 6,
     "metadata": {},
     "output_type": "execute_result"
    }
   ],
   "source": [
    "BP_id"
   ]
  },
  {
   "cell_type": "markdown",
   "id": "1339f73f",
   "metadata": {},
   "source": [
    "---"
   ]
  },
  {
   "cell_type": "markdown",
   "id": "9aeddab0-84f2-4705-ab0a-9b919ff2d5e5",
   "metadata": {},
   "source": [
    "In the following, we will show how to  illustrate the hourly demand curve for heat. We will draw the curve $h=\\{1,5\\}$. You task in the following, will be to draw the supply curve for heat, as well as the supply and demand curve for electricity in the same hours.\n",
    "\n",
    "We start by making a grid of $h=\\{1,5\\}$:"
   ]
  },
  {
   "cell_type": "code",
   "execution_count": 7,
   "id": "816bfcb2-8588-4145-a18e-4ef2b8a945e9",
   "metadata": {
    "tags": []
   },
   "outputs": [],
   "source": [
    "h_grid = [1,5]"
   ]
  },
  {
   "cell_type": "markdown",
   "id": "9dd689ce-1d33-4b48-ab38-85235c573284",
   "metadata": {
    "tags": []
   },
   "source": [
    "We will also define a minimum price for drawing the curve:"
   ]
  },
  {
   "cell_type": "code",
   "execution_count": 8,
   "id": "cec29a5c-fc49-4d8b-8689-115958a25d97",
   "metadata": {
    "tags": []
   },
   "outputs": [],
   "source": [
    "loλ = 0"
   ]
  },
  {
   "cell_type": "markdown",
   "id": "f16ebb2f-b6cf-4e7f-aba0-6c63fa00ab7d",
   "metadata": {},
   "source": [
    "To make the illustration, we will first make a dateframe with quantity demand and the associated willingness to pay:"
   ]
  },
  {
   "cell_type": "code",
   "execution_count": 9,
   "id": "cee463da-e4b4-42fd-b18f-6ac580c93b77",
   "metadata": {
    "tags": []
   },
   "outputs": [],
   "source": [
    "# First we create a multiindex for the dataframe\n",
    "mi_Hd = pd.MultiIndex.from_product([['c1'],m.db['h']],names=['c_type','h'])\n",
    "\n",
    "# Now we build a dataframe with the demanded quantity and the marginal willingess to pay.\n",
    "df_Hd = pd.concat([\n",
    "  pd.Series(m.hourlyLoad_H.tolist(),index=mi_Hd,name='H'), # Hourly demand\n",
    "  pd.Series(list(np.repeat(m.db['MWP_H'],len(m.db['h']))),index=mi_Hd,name='mwp'), # MWP_H\n",
    "],axis=1)"
   ]
  },
  {
   "cell_type": "code",
   "execution_count": 10,
   "id": "25e05292",
   "metadata": {},
   "outputs": [
    {
     "data": {
      "text/plain": [
       "MultiIndex([('c1',   1),\n",
       "            ('c1',   2),\n",
       "            ('c1',   3),\n",
       "            ('c1',   4),\n",
       "            ('c1',   5),\n",
       "            ('c1',   6),\n",
       "            ('c1',   7),\n",
       "            ('c1',   8),\n",
       "            ('c1',   9),\n",
       "            ('c1',  10),\n",
       "            ...\n",
       "            ('c1', 279),\n",
       "            ('c1', 280),\n",
       "            ('c1', 281),\n",
       "            ('c1', 282),\n",
       "            ('c1', 283),\n",
       "            ('c1', 284),\n",
       "            ('c1', 285),\n",
       "            ('c1', 286),\n",
       "            ('c1', 287),\n",
       "            ('c1', 288)],\n",
       "           names=['c_type', 'h'], length=288)"
      ]
     },
     "execution_count": 10,
     "metadata": {},
     "output_type": "execute_result"
    }
   ],
   "source": [
    "mi_Hd"
   ]
  },
  {
   "cell_type": "markdown",
   "id": "86a40e21-f884-4048-b5df-895aabef95a2",
   "metadata": {},
   "source": [
    "Because the demand is kinked at the willingess to pay, we need a data-point above and below to draw the curve.\n",
    "\n",
    "The point above the kink is:"
   ]
  },
  {
   "cell_type": "code",
   "execution_count": 11,
   "id": "f39469e4-4246-481e-ba3d-74e78b0307b5",
   "metadata": {
    "tags": []
   },
   "outputs": [],
   "source": [
    "ϵ = np.finfo(float).eps*10**6 # small number\n",
    "# Upper point (crossing with y-axes):\n",
    "mi_Hd_up = pd.MultiIndex.from_product([['0'],db['h'].tolist()], names=['c_type','h'])\n",
    "df_Hd_up = pd.concat([\n",
    "    pd.Series(-ϵ,index=mi_Hd_up,name='H'),\n",
    "    pd.Series(m.db['MWP_H']+ϵ,index=mi_Hd_up,name='mwp')\n",
    "],axis=1)"
   ]
  },
  {
   "cell_type": "markdown",
   "id": "79642962-af4a-47e0-bdd1-cd90549f2efe",
   "metadata": {
    "tags": []
   },
   "source": [
    "The point "
   ]
  },
  {
   "cell_type": "code",
   "execution_count": 12,
   "id": "684811f0-8ccb-4c1d-b4ba-bcf245e47c43",
   "metadata": {
    "tags": []
   },
   "outputs": [],
   "source": [
    "# Lower point (crossing with x-axis):\n",
    "mi_Hd_lo = pd.MultiIndex.from_product([['-1'],db['h'].tolist()],names=['c_type','h'])\n",
    "df_Hd_lo = pd.concat([\n",
    "    pd.Series(ϵ,index=mi_Hd_lo,name='H'),\n",
    "    pd.Series(loλ,index=mi_Hd_lo,name='mwp')\n",
    "],axis=1)"
   ]
  },
  {
   "cell_type": "markdown",
   "id": "caa1b91e-26e7-498f-8ccc-d1cc533faa9c",
   "metadata": {},
   "source": [
    "Finally, we collect it all in a common dataframe and aggregate demand:"
   ]
  },
  {
   "cell_type": "code",
   "execution_count": 13,
   "id": "bae2f625-6a39-458d-b04b-593f6efd31ed",
   "metadata": {
    "tags": []
   },
   "outputs": [],
   "source": [
    "df_Hd = pd.concat([df_Hd,df_Hd_up,df_Hd_lo],axis=0).sort_values(['h','mwp'],ascending=[True,False])\n",
    "df_Hd['H_cs'] =df_Hd.groupby('h')['H'].transform('cumsum')"
   ]
  },
  {
   "cell_type": "markdown",
   "id": "3f84b473-fe95-4f5f-a65c-f8990339bb95",
   "metadata": {},
   "source": [
    "Now we make the graph:"
   ]
  },
  {
   "cell_type": "code",
   "execution_count": 14,
   "id": "ce8830b1-19ce-4119-9cd6-71964649bb0a",
   "metadata": {
    "tags": []
   },
   "outputs": [
    {
     "data": {
      "image/png": "[encoded data removed]",
      "text/plain": [
       "<Figure size 800x550 with 2 Axes>"
      ]
     },
     "metadata": {},
     "output_type": "display_data"
    }
   ],
   "source": [
    "fig, ax = plt.subplots(ncols=2,sharex=True,sharey=True)\n",
    "for i in range(len(h_grid)):\n",
    "    h = h_grid[i]\n",
    "    ax[i].step(df_Hd.xs(h,level='h')['H_cs'],df_Hd.xs(h,level='h')['mwp'])\n",
    "    ax[i].set_title(r'$h=$'+str(h))\n",
    "    \n",
    "[ax[i].set_xlabel('MWh') for i in [0,1]];\n",
    "ax[0].set_ylabel('Euros/MWh')\n",
    "fig.tight_layout()"
   ]
  },
  {
   "cell_type": "markdown",
   "id": "ed6d6af0-a4bf-4603-ab83-b70bbdb54be4",
   "metadata": {},
   "source": [
    "## E2.1"
   ]
  },
  {
   "cell_type": "markdown",
   "id": "5162c775-f2c0-4570-9427-fe2724df4180",
   "metadata": {},
   "source": [
    "__Compute and illustrate the hourly supply curve (i.e. the merit order curve) for heat for hours $h=\\{1,5\\}$. Include also the demand curve and the optimal value ${\\lambda^H_h}^*$ Finally, discuss how the reservation price of heat can be negative in $h=1$.__\n",
    "\n",
    "*Note: To compute the supply curve, you have to realize the the reservation price for back-pressure plants and heat pumps is not equal to their marginal costs $(mc_i)$ because their reservation price depend on the electricity market. Therefore, you may draw the supply curve given the optimal value ${\\lambda_{h}^{E}}^{*}$.*\n",
    "\n",
    "*Furthermore, the graph should look something like this:*"
   ]
  },
  {
   "cell_type": "code",
   "execution_count": 15,
   "id": "cdf293f2-5eca-4809-ae5d-aef412d4cbca",
   "metadata": {
    "tags": []
   },
   "outputs": [
    {
     "data": {
      "image/png": "[encoded data removed]",
      "text/plain": [
       "<IPython.core.display.Image object>"
      ]
     },
     "execution_count": 15,
     "metadata": {},
     "output_type": "execute_result"
    }
   ],
   "source": [
    "Image(os.path.join(figs_path,'E2.1_sol.png'))"
   ]
  },
  {
   "cell_type": "markdown",
   "id": "1095c6c2",
   "metadata": {},
   "source": [
    "---\n",
    "\n",
    "Note: reservation prices on heat is negative for a couple of BP plants as price on electricity at maximum, so they earn a lot on the electricity market. So they would accept a negative price on heat to produce.\n",
    "\n",
    "---"
   ]
  },
  {
   "cell_type": "markdown",
   "id": "2ed098cb",
   "metadata": {},
   "source": [
    "**Solution**\n",
    "\n",
    "*Supply*\n",
    "\n",
    "First, we find the capacities for generating heat:"
   ]
  },
  {
   "cell_type": "code",
   "execution_count": 16,
   "metadata": {},
   "outputs": [
    {
     "data": {
      "text/plain": [
       "id\n",
       "g1_BP_Coal       0.84\n",
       "g1_BP_NatGas      1.3\n",
       "g1_BP_BioMass    0.49\n",
       "g1_HP           -0.29\n",
       "Name: E2H, dtype: object"
      ]
     },
     "execution_count": 16,
     "metadata": {},
     "output_type": "execute_result"
    }
   ],
   "source": [
    "db['E2H']"
   ]
  },
  {
   "cell_type": "code",
   "execution_count": 16,
   "id": "9d15eeb4",
   "metadata": {},
   "outputs": [
    {
     "data": {
      "text/plain": [
       "id             h  \n",
       "g1_BH_BioMass  1            5.3\n",
       "               2            5.3\n",
       "               3            5.3\n",
       "               4            5.3\n",
       "               5            5.3\n",
       "                        ...    \n",
       "g1_BP_NatGas   284    15.492308\n",
       "               285    15.492308\n",
       "               286    15.492308\n",
       "               287    15.492308\n",
       "               288    15.492308\n",
       "Length: 2016, dtype: object"
      ]
     },
     "execution_count": 16,
     "metadata": {},
     "output_type": "execute_result"
    }
   ],
   "source": [
    "HCap = pd.concat([\n",
    "    m.hourlyGeneratingCap_H.loc[H_id,:],\n",
    "    m.hourlyGeneratingCap_E.loc[BP_id,:].div(db['E2H'].loc[BP_id]),\n",
    "],axis=0)\n",
    "HCap"
   ]
  },
  {
   "cell_type": "markdown",
   "id": "d45297d2",
   "metadata": {},
   "source": [
    "Next, by isolating $\\lambda_h^H$ in eq (2f) and assuming an interior solution we see that back-pressure plants reservation price in the optimum is equal to:\n",
    "\\begin{align}\n",
    "    \\forall i\\in\\mathcal{I}^{BP}: \\quad -c_i + \\frac{\\lambda_h^{H}}{\\nu} + {\\lambda_h^E}^{*} &= 0&\\\\\n",
    "    \\frac{\\lambda_h^{H}}{\\nu} &= c_i - {\\lambda_h^E}^{*}&\\\\\n",
    "    \\lambda_h^{H} &= \\nu_i \\left(c_i - {\\lambda_h^E}^{*}\\right)&\\\\\n",
    "    {r^{H}_{i,h}}^{*} &= \\nu_i \\left(c_i-{\\lambda_h^E}^{*}\\right)&,\n",
    "\\end{align}\n",
    "\n",
    "\n",
    "\n",
    "which can be computed as:"
   ]
  },
  {
   "cell_type": "code",
   "execution_count": 17,
   "id": "84f38eee",
   "metadata": {},
   "outputs": [
    {
     "data": {
      "text/plain": [
       "id             h  \n",
       "g1_BP_BioMass  1       33.11293\n",
       "g1_BP_Coal     1       5.661736\n",
       "g1_BP_NatGas   1      34.222356\n",
       "g1_BP_BioMass  2      24.311229\n",
       "g1_BP_Coal     2      -9.426894\n",
       "                        ...    \n",
       "               287     5.661736\n",
       "g1_BP_NatGas   287    34.222356\n",
       "g1_BP_BioMass  288     33.11293\n",
       "g1_BP_Coal     288     5.661736\n",
       "g1_BP_NatGas   288    34.222356\n",
       "Length: 864, dtype: object"
      ]
     },
     "execution_count": 17,
     "metadata": {},
     "output_type": "execute_result"
    }
   ],
   "source": [
    "rH_BP = pd.Series(0,index = HCap.loc[BP_id,:].index).add(m.db['mc'].loc[BP_id]).sub(m.db['marginalSystemCosts_E']).mul(db['E2H'].loc[BP_id]).droplevel('g').reorder_levels(HCap.index.names)\n",
    "rH_BP"
   ]
  },
  {
   "cell_type": "markdown",
   "id": "6803413c",
   "metadata": {},
   "source": [
    "Simiarly, isolating for $\\lambda_h^H$ in (2h), the reservation price of heat pumps in optimum is\n",
    "\n",
    "\\begin{align}\n",
    "    \\forall i\\in\\mathcal{I}^{HP}: \\quad {r^H_{i,h}}^{*} = c_i - \\nu_i{\\lambda_h^E}^{*},\n",
    "\\end{align}\n",
    "\n",
    "which can be computed as:\n",
    "\n",
    "*Note: watch out for the order of subtracting/multiplying and adding. First mention term that is multiplied and then add marginal costs.*\n"
   ]
  },
  {
   "cell_type": "code",
   "execution_count": 18,
   "id": "c4057c49",
   "metadata": {},
   "outputs": [
    {
     "data": {
      "text/plain": [
       "id     h  \n",
       "g1_HP  1       5.661736\n",
       "       2      10.870905\n",
       "       3      10.870905\n",
       "       4      10.870905\n",
       "       5          30.69\n",
       "                ...    \n",
       "       284    10.870905\n",
       "       285    10.870905\n",
       "       286     5.661736\n",
       "       287     5.661736\n",
       "       288     5.661736\n",
       "Length: 288, dtype: object"
      ]
     },
     "execution_count": 18,
     "metadata": {},
     "output_type": "execute_result"
    }
   ],
   "source": [
    "rH_HP = pd.Series(0,index=HCap.loc[HP_id,:].index).sub(m.db['marginalSystemCosts_E']).mul(db['E2H'].loc[HP_id]).add(m.db['mc'].loc[HP_id]).droplevel('g').reorder_levels(HCap.index.names)\n",
    "rH_HP"
   ]
  },
  {
   "cell_type": "markdown",
   "id": "6bdc4312",
   "metadata": {},
   "source": [
    "Finally, the reservation price of standard heat producing plants are simply equal to their marginal costs, i.e."
   ]
  },
  {
   "cell_type": "code",
   "execution_count": 19,
   "id": "9d072719",
   "metadata": {},
   "outputs": [
    {
     "data": {
      "text/plain": [
       "id             h  \n",
       "g1_BH_BioMass  1      26.87003\n",
       "               2      26.87003\n",
       "               3      26.87003\n",
       "               4      26.87003\n",
       "               5      26.87003\n",
       "                        ...   \n",
       "g1_SH          284        0.21\n",
       "               285        0.21\n",
       "               286        0.21\n",
       "               287        0.21\n",
       "               288        0.21\n",
       "Length: 864, dtype: object"
      ]
     },
     "execution_count": 19,
     "metadata": {},
     "output_type": "execute_result"
    }
   ],
   "source": [
    "rH_Std = pd.Series(0,index=HCap.loc[StdH_id,:].index).add(m.db['mc'].loc[StdH_id]).reorder_levels(HCap.index.names)\n",
    "rH_Std"
   ]
  },
  {
   "cell_type": "markdown",
   "id": "83c8faf2",
   "metadata": {},
   "source": [
    "Now we can collect all reservation prices in a common dataframe:"
   ]
  },
  {
   "cell_type": "code",
   "execution_count": 20,
   "id": "7e53ceb9",
   "metadata": {},
   "outputs": [],
   "source": [
    "rH = pd.concat([rH_BP,rH_HP,rH_Std],axis=0)"
   ]
  },
  {
   "cell_type": "markdown",
   "id": "ea09c7b3",
   "metadata": {},
   "source": [
    "Finally, we can build the supply frame:"
   ]
  },
  {
   "cell_type": "code",
   "execution_count": 21,
   "id": "af9e28f7",
   "metadata": {},
   "outputs": [],
   "source": [
    "df_Hs = pd.concat([HCap.rename('H').astype(float),rH.rename('r').astype(float)],axis=1)\n",
    "mi_Hs_lo = pd.MultiIndex.from_product([['0'],db['h']],names=df_Hs.index.names)\n",
    "df_Hs_lo = pd.concat([\n",
    "    pd.Series(0,index=mi_Hs_lo).rename('H'),\n",
    "    pd.Series(df_Hs.groupby('h')['r'].min().sub(ϵ).values,index=mi_Hs_lo,name='r')\n",
    "],axis=1)\n",
    "mi_Hs_up = pd.MultiIndex.from_product([['-1'],db['h']],names=df_Hs.index.names)\n",
    "df_Hs_up = pd.concat([\n",
    "    pd.Series(ϵ,index=mi_Hs_up).rename('H'),\n",
    "    pd.Series(m.db['MWP_H']*1.1,index=mi_Hs_up,name='r')\n",
    "],axis=1)\n",
    "df_Hs = pd.concat([df_Hs,df_Hs_up,df_Hs_lo],axis=0).sort_values(['h','r'])\n",
    "df_Hs['H_cs'] = df_Hs.groupby('h')['H'].transform('cumsum')"
   ]
  },
  {
   "cell_type": "code",
   "execution_count": 22,
   "id": "1d4fbfce",
   "metadata": {},
   "outputs": [
    {
     "data": {
      "text/html": [
       "<div>\n",
       "<style scoped>\n",
       "    .dataframe tbody tr th:only-of-type {\n",
       "        vertical-align: middle;\n",
       "    }\n",
       "\n",
       "    .dataframe tbody tr th {\n",
       "        vertical-align: top;\n",
       "    }\n",
       "\n",
       "    .dataframe thead th {\n",
       "        text-align: right;\n",
       "    }\n",
       "</style>\n",
       "<table border=\"1\" class=\"dataframe\">\n",
       "  <thead>\n",
       "    <tr style=\"text-align: right;\">\n",
       "      <th></th>\n",
       "      <th></th>\n",
       "      <th>H</th>\n",
       "      <th>r</th>\n",
       "      <th>H_cs</th>\n",
       "    </tr>\n",
       "    <tr>\n",
       "      <th>id</th>\n",
       "      <th>h</th>\n",
       "      <th></th>\n",
       "      <th></th>\n",
       "      <th></th>\n",
       "    </tr>\n",
       "  </thead>\n",
       "  <tbody>\n",
       "    <tr>\n",
       "      <th>0</th>\n",
       "      <th>1</th>\n",
       "      <td>0.000000e+00</td>\n",
       "      <td>0.210000</td>\n",
       "      <td>0.000000</td>\n",
       "    </tr>\n",
       "    <tr>\n",
       "      <th>g1_SH</th>\n",
       "      <th>1</th>\n",
       "      <td>0.000000e+00</td>\n",
       "      <td>0.210000</td>\n",
       "      <td>0.000000</td>\n",
       "    </tr>\n",
       "    <tr>\n",
       "      <th>g1_HP</th>\n",
       "      <th>1</th>\n",
       "      <td>1.000000e+02</td>\n",
       "      <td>5.661736</td>\n",
       "      <td>100.000000</td>\n",
       "    </tr>\n",
       "    <tr>\n",
       "      <th>g1_BP_Coal</th>\n",
       "      <th>1</th>\n",
       "      <td>8.488095e+01</td>\n",
       "      <td>5.661736</td>\n",
       "      <td>184.880952</td>\n",
       "    </tr>\n",
       "    <tr>\n",
       "      <th rowspan=\"3\" valign=\"top\">g1_BH_NatGas</th>\n",
       "      <th>1</th>\n",
       "      <td>2.969000e+01</td>\n",
       "      <td>19.301400</td>\n",
       "      <td>214.570952</td>\n",
       "    </tr>\n",
       "    <tr>\n",
       "      <th>...</th>\n",
       "      <td>...</td>\n",
       "      <td>...</td>\n",
       "      <td>...</td>\n",
       "    </tr>\n",
       "    <tr>\n",
       "      <th>288</th>\n",
       "      <td>2.969000e+01</td>\n",
       "      <td>19.301400</td>\n",
       "      <td>214.570952</td>\n",
       "    </tr>\n",
       "    <tr>\n",
       "      <th>g1_BH_BioMass</th>\n",
       "      <th>288</th>\n",
       "      <td>5.300000e+00</td>\n",
       "      <td>26.870030</td>\n",
       "      <td>219.870952</td>\n",
       "    </tr>\n",
       "    <tr>\n",
       "      <th>g1_BP_BioMass</th>\n",
       "      <th>288</th>\n",
       "      <td>1.081633e+01</td>\n",
       "      <td>33.112930</td>\n",
       "      <td>230.687279</td>\n",
       "    </tr>\n",
       "    <tr>\n",
       "      <th>g1_BP_NatGas</th>\n",
       "      <th>288</th>\n",
       "      <td>1.549231e+01</td>\n",
       "      <td>34.222356</td>\n",
       "      <td>246.179587</td>\n",
       "    </tr>\n",
       "    <tr>\n",
       "      <th>-1</th>\n",
       "      <th>288</th>\n",
       "      <td>2.220446e-10</td>\n",
       "      <td>110.000000</td>\n",
       "      <td>246.179587</td>\n",
       "    </tr>\n",
       "  </tbody>\n",
       "</table>\n",
       "<p>2592 rows × 3 columns</p>\n",
       "</div>"
      ],
      "text/plain": [
       "                              H           r        H_cs\n",
       "id            h                                        \n",
       "0             1    0.000000e+00    0.210000    0.000000\n",
       "g1_SH         1    0.000000e+00    0.210000    0.000000\n",
       "g1_HP         1    1.000000e+02    5.661736  100.000000\n",
       "g1_BP_Coal    1    8.488095e+01    5.661736  184.880952\n",
       "g1_BH_NatGas  1    2.969000e+01   19.301400  214.570952\n",
       "...                         ...         ...         ...\n",
       "              288  2.969000e+01   19.301400  214.570952\n",
       "g1_BH_BioMass 288  5.300000e+00   26.870030  219.870952\n",
       "g1_BP_BioMass 288  1.081633e+01   33.112930  230.687279\n",
       "g1_BP_NatGas  288  1.549231e+01   34.222356  246.179587\n",
       "-1            288  2.220446e-10  110.000000  246.179587\n",
       "\n",
       "[2592 rows x 3 columns]"
      ]
     },
     "execution_count": 22,
     "metadata": {},
     "output_type": "execute_result"
    }
   ],
   "source": [
    "df_Hs"
   ]
  },
  {
   "cell_type": "markdown",
   "id": "50afa5ac",
   "metadata": {},
   "source": [
    "*Plot*\n",
    "\n",
    "And then plot the equilibrium for the two hours:"
   ]
  },
  {
   "cell_type": "code",
   "execution_count": 23,
   "id": "81a1b5bf",
   "metadata": {},
   "outputs": [
    {
     "data": {
      "image/png": "[encoded data removed]",
      "text/plain": [
       "<Figure size 800x550 with 2 Axes>"
      ]
     },
     "metadata": {},
     "output_type": "display_data"
    }
   ],
   "source": [
    "fig, ax = plt.subplots(ncols=2,sharex=True,sharey=True)\n",
    "for i in range(len(h_grid)):\n",
    "    h = h_grid[i]\n",
    "    # Demand curve:\n",
    "    ax[i].step(df_Hd.xs(h,level='h')['H_cs'],df_Hd.xs(h,level='h')['mwp'])\n",
    "    # Supply curve:\n",
    "    ax[i].step(df_Hs.xs(h,level='h')['H_cs'],df_Hs.xs(h,level='h')['r'])\n",
    "    # Horizontal line indicating the equilibrium price\n",
    "    ax[i].hlines(xmin=0,xmax=df_Hd.xs(h,level='h')['H'].sum(),y=m.db['marginalSystemCosts_H'].xs(h,level='h').iloc[0],color='black',linestyle='--')\n",
    "    ax[i].set_title(r'$h=$'+str(h))\n",
    "    \n",
    "[ax[i].set_xlabel('MWh') for i in [0,1]];\n",
    "ax[0].set_ylabel('Euros/MWh')\n",
    "fig.legend(['Supply','Demand','Marginal System Costs'],loc='lower center', bbox_to_anchor=(0.5, -0.05), ncol=3, frameon=True)\n",
    "fig.tight_layout()"
   ]
  },
  {
   "cell_type": "markdown",
   "id": "56a4be98-79fd-4a1e-bbd4-7ee673573fb2",
   "metadata": {},
   "source": [
    "## E2.2"
   ]
  },
  {
   "cell_type": "markdown",
   "id": "6816dbf8-f9c9-4ed5-b1de-05718bc230e0",
   "metadata": {},
   "source": [
    "__Illustrate the demand curve for electricity for $h=\\{1,5\\}$ and comment on why the maximum willingness to pay in $h=5$ is so high.__ \n",
    "\n",
    "_Note: For this, you have to illustrate the aggregate demand curve is composed of the sum of the set of conventional consumes $(c_E)$ as well that the sum of heat pumps' maximum capacity for electricity consumption: $-\\sum_{i\\in\\mathcal{I}^E}\\nu_iq_{i,h}$. Hence, you will have compute $\\text{MWP}^{HP}_h$ using your answer in [E1.4](#E1.4) as well as heat pumps' maximum input capacity of electricity._\n",
    "\n",
    "_Furthermore, the figure should look something like this:__"
   ]
  },
  {
   "cell_type": "code",
   "execution_count": 24,
   "id": "20aed108-f1ef-4e28-ba4e-a605dafa3c4c",
   "metadata": {
    "tags": []
   },
   "outputs": [
    {
     "data": {
      "image/png": "[encoded data removed]",
      "text/plain": [
       "<IPython.core.display.Image object>"
      ]
     },
     "execution_count": 24,
     "metadata": {},
     "output_type": "execute_result"
    }
   ],
   "source": [
    "Image(os.path.join(figs_path,'E2.2_sol.png'))"
   ]
  },
  {
   "cell_type": "markdown",
   "id": "132281cb",
   "metadata": {},
   "source": [
    "---\n",
    "**Solution**\n",
    "\n",
    "First, the reason for the high willingness to pay in $h=5$ $(\\mu^E_{HP}=339)$ in hour 5, is that the heating price at its maximum of ${\\lambda_5^H}^*=\\mu^H=100$. Given the parameter values of $c_{HP}$ and $\\nu_{HP}$ it is possible that the heat pump's willingess to pay for electricity is higher than $\\mu^E=100$.\n",
    "\n",
    "Second, for illustrating the graph, we first note that the maximum electricity input capacity of $i\\in\\mathcal{I}^{HP}$ can be computed as:\n",
    "\n",
    "*$q_{HP}^E = -q_{HP,h}^H \\cdot \\nu_{HP}$, note that $\\nu_{HP}$ is negative, thus we need a negative sign in front of the equation.*\n"
   ]
  },
  {
   "cell_type": "code",
   "execution_count": 25,
   "id": "9b2ca4e2",
   "metadata": {},
   "outputs": [],
   "source": [
    "qE_HP = -m.hourlyGeneratingCap_H.loc[HP_id,:].mul(db['E2H'].loc[HP_id])"
   ]
  },
  {
   "cell_type": "markdown",
   "id": "e54d08b0",
   "metadata": {},
   "source": [
    "Using the answer in [E1.5](#E1.5), $\\text{MWP}^{HP}_h$ can be computed as:\n",
    "\n",
    "$\\text{MWP}^{HP}_h = \\frac{c_i-\\lambda_h^H}{\\nu_i}$"
   ]
  },
  {
   "cell_type": "code",
   "execution_count": 26,
   "id": "5a7e7df8",
   "metadata": {},
   "outputs": [],
   "source": [
    "MWP_HP = MWP_HP = pd.Series(0,index=HCap.loc[HP_id,:].index).add(m.db['mc'].loc[HP_id]).add(-m.db['marginalSystemCosts_H'].droplevel('g')).div(db['E2H'].loc[HP_id])"
   ]
  },
  {
   "cell_type": "markdown",
   "id": "bf622e10",
   "metadata": {},
   "source": [
    "We can collect demand from the heat pump together with the perfectly inelastic demand:"
   ]
  },
  {
   "cell_type": "code",
   "execution_count": 27,
   "id": "616adfeb",
   "metadata": {},
   "outputs": [],
   "source": [
    "# First we create a multiindex for the dataframe\n",
    "mi_Ed = pd.MultiIndex.from_product([['c1'],db['h']],names=['c_type','h'])\n",
    "\n",
    "# Now we build a dataframe with the demanded quantity and the marginal willingess to pay.\n",
    "# Note: we construct dataframe for conventional consumers and HP\n",
    "df_Ed = pd.concat([\n",
    "    pd.concat([\n",
    "        pd.Series(m.hourlyLoad_E.values,index=mi_Ed,name='E'),\n",
    "        pd.Series(db['MWP_E'],index=mi_Ed,name='mwp')\n",
    "    ],axis=1),\n",
    "    pd.concat([\n",
    "        qE_HP.rename('E'),\n",
    "        MWP_HP.rename('mwp')\n",
    "    ],axis=1).rename_axis(index={'id':'c_type'})\n",
    "],axis=0).astype(float)"
   ]
  },
  {
   "cell_type": "markdown",
   "id": "7acd16de",
   "metadata": {},
   "source": [
    "For plotting, we just need to add the upper and lower points:"
   ]
  },
  {
   "cell_type": "code",
   "execution_count": 28,
   "id": "34abc8fd",
   "metadata": {},
   "outputs": [],
   "source": [
    "mi_Ed_up = pd.MultiIndex.from_product([['0'],db['h'].tolist()],names=['c_type','h'])\n",
    "df_Ed_up = pd.concat([\n",
    "    pd.Series(-ϵ,index=mi_Ed_up,name='E'),\n",
    "    pd.Series(df_Ed.groupby('h')['mwp'].max().values+ϵ,index=mi_Ed_up,name='mwp')\n",
    "],axis=1)\n",
    "mi_Ed_lo = pd.MultiIndex.from_product([['-1'],db['h'].tolist()],names=['c_type','h'])\n",
    "df_Ed_lo = pd.concat([\n",
    "    pd.Series(ϵ,index=mi_Ed_lo,name='E'),\n",
    "    pd.Series(loλ,index=mi_Ed_lo,name='mwp')\n",
    "],axis=1)\n",
    "df_Ed = pd.concat([df_Ed,df_Ed_up,df_Ed_lo],axis=0).sort_values(['h','mwp'],ascending=[True,False]).astype(float)\n",
    "df_Ed['E_cs'] =df_Ed.groupby('h')['E'].transform('cumsum')"
   ]
  },
  {
   "cell_type": "markdown",
   "id": "4a9eda35",
   "metadata": {},
   "source": [
    "And now we can plot it:"
   ]
  },
  {
   "cell_type": "code",
   "execution_count": 29,
   "id": "64222068",
   "metadata": {},
   "outputs": [
    {
     "data": {
      "image/png": "[encoded data removed]",
      "text/plain": [
       "<Figure size 800x550 with 2 Axes>"
      ]
     },
     "metadata": {},
     "output_type": "display_data"
    }
   ],
   "source": [
    "fig, ax = plt.subplots(ncols=2,sharex=True,sharey=True)\n",
    "for i in range(len(h_grid)):\n",
    "    h = h_grid[i]\n",
    "    ax[i].step(df_Ed.xs(h,level='h')['E_cs'],df_Ed.xs(h,level='h')['mwp'])\n",
    "    ax[i].set_title(r'$h=$'+str(h))\n",
    "    \n",
    "[ax[i].set_xlabel('MWh') for i in [0,1]];\n",
    "ax[0].set_xlim(left=0)\n",
    "ax[0].set_ylabel('Euros/MWh')\n",
    "fig.tight_layout()"
   ]
  },
  {
   "cell_type": "markdown",
   "id": "4f9b6564-80a8-4803-93fe-3d40d618caa2",
   "metadata": {},
   "source": [
    "## E2.3"
   ]
  },
  {
   "cell_type": "markdown",
   "id": "6b056df8-7b2e-4e00-a1e3-71fdc5b23da4",
   "metadata": {},
   "source": [
    "__Compute and illustrate the hourly supply curve (i.e. the merit order curve) for electricity for hours $h=\\{1,5\\}$. Include also the demand curve and the optimal value ${\\lambda^E_h}^*$.__\n",
    "\n",
    "*Hint: The figure should look something like this:*"
   ]
  },
  {
   "cell_type": "code",
   "execution_count": 30,
   "id": "235d3345-6468-4dea-9866-462f220c7388",
   "metadata": {
    "tags": []
   },
   "outputs": [
    {
     "data": {
      "image/png": "[encoded data removed]",
      "text/plain": [
       "<IPython.core.display.Image object>"
      ]
     },
     "execution_count": 30,
     "metadata": {},
     "output_type": "execute_result"
    }
   ],
   "source": [
    "Image(os.path.join(figs_path,'E2.3_sol.png'))"
   ]
  },
  {
   "cell_type": "markdown",
   "id": "06ef7ad4",
   "metadata": {},
   "source": [
    "---\n",
    "**Solution**\n",
    "\n",
    "*Supply*\n",
    "\n",
    "First, we find the capacities for producing electricity."
   ]
  },
  {
   "cell_type": "code",
   "execution_count": 31,
   "id": "7905a972",
   "metadata": {},
   "outputs": [
    {
     "data": {
      "text/plain": [
       "id             h  \n",
       "g1_BP_BioMass  1            5.3\n",
       "               2            5.3\n",
       "               3            5.3\n",
       "               4            5.3\n",
       "               5            5.3\n",
       "                        ...    \n",
       "g1_WS          284    19.692423\n",
       "               285    19.519337\n",
       "               286    19.769678\n",
       "               287    20.076944\n",
       "               288     0.412484\n",
       "Name: 0, Length: 2304, dtype: object"
      ]
     },
     "execution_count": 31,
     "metadata": {},
     "output_type": "execute_result"
    }
   ],
   "source": [
    "ECap = m.hourlyGeneratingCap_E.loc[E_id,:]\n",
    "ECap"
   ]
  },
  {
   "cell_type": "code",
   "execution_count": 32,
   "id": "b92b0601",
   "metadata": {},
   "outputs": [
    {
     "data": {
      "text/plain": [
       "Index(['g1_BP_BioMass', 'g1_BP_Coal', 'g1_BP_NatGas', 'g1_CD_Coal',\n",
       "       'g1_CD_NatGas', 'g1_PV', 'g1_WL', 'g1_WS'],\n",
       "      dtype='object', name='id')"
      ]
     },
     "execution_count": 32,
     "metadata": {},
     "output_type": "execute_result"
    }
   ],
   "source": [
    "# Find unique values of a 'id' column\n",
    "ECap.index.get_level_values(0).unique()"
   ]
  },
  {
   "cell_type": "code",
   "execution_count": 33,
   "id": "70742874",
   "metadata": {},
   "outputs": [
    {
     "data": {
      "text/plain": [
       "Index(['g1_BP_BioMass', 'g1_BP_Coal', 'g1_BP_NatGas'], dtype='object', name='id')"
      ]
     },
     "execution_count": 33,
     "metadata": {},
     "output_type": "execute_result"
    }
   ],
   "source": [
    "BP_id"
   ]
  },
  {
   "cell_type": "markdown",
   "id": "c49058ba",
   "metadata": {},
   "source": [
    "From [E1.4](#E1.4) we know, that the back-pressure plant's reservation price for electricity is:\n",
    "\n",
    "$r_{i,h}^E = c_i - \\frac{\\lambda_h^H}{\\nu_i}$"
   ]
  },
  {
   "cell_type": "code",
   "execution_count": 34,
   "id": "17b75093",
   "metadata": {},
   "outputs": [
    {
     "data": {
      "text/plain": [
       "id             h  \n",
       "g1_BP_BioMass  1      69.718485\n",
       "g1_BP_Coal     1       13.69564\n",
       "g1_BP_NatGas   1      35.665348\n",
       "g1_BP_BioMass  2      59.087527\n",
       "g1_BP_Coal     2       7.494248\n",
       "                        ...    \n",
       "               287     13.69564\n",
       "g1_BP_NatGas   287    35.665348\n",
       "g1_BP_BioMass  288    69.718485\n",
       "g1_BP_Coal     288     13.69564\n",
       "g1_BP_NatGas   288    35.665348\n",
       "Length: 864, dtype: object"
      ]
     },
     "execution_count": 34,
     "metadata": {},
     "output_type": "execute_result"
    }
   ],
   "source": [
    "# Calculation reservation price\n",
    "rE_BP = pd.Series(0,index=ECap.loc[BP_id,:].index).sub(m.db['marginalSystemCosts_H']).div(db['E2H'].loc[BP_id]).add(m.db['mc'].loc[BP_id]).droplevel('g').reorder_levels(ECap.index.names)\n",
    "rE_BP"
   ]
  },
  {
   "cell_type": "markdown",
   "id": "039b0d90",
   "metadata": {},
   "source": [
    "The reservation prices for standard electricity producing plants are simply equal to their marginal costs, i.e."
   ]
  },
  {
   "cell_type": "code",
   "execution_count": 35,
   "id": "d1981250",
   "metadata": {},
   "outputs": [
    {
     "data": {
      "text/plain": [
       "id          h  \n",
       "g1_CD_Coal  1      19.009728\n",
       "            2      19.009728\n",
       "            3      19.009728\n",
       "            4      19.009728\n",
       "            5      19.009728\n",
       "                     ...    \n",
       "g1_WS       284          5.0\n",
       "            285          5.0\n",
       "            286          5.0\n",
       "            287          5.0\n",
       "            288          5.0\n",
       "Length: 1440, dtype: object"
      ]
     },
     "execution_count": 35,
     "metadata": {},
     "output_type": "execute_result"
    }
   ],
   "source": [
    "rE_Std = pd.Series(0,index=ECap.loc[StdE_id,:].index).add(m.db['mc'].loc[StdE_id])\n",
    "rE_Std"
   ]
  },
  {
   "cell_type": "markdown",
   "id": "f01f4429",
   "metadata": {},
   "source": [
    "Now we can collect the reservation prices in a common dataframe:"
   ]
  },
  {
   "cell_type": "code",
   "execution_count": 36,
   "id": "5ba47087",
   "metadata": {},
   "outputs": [],
   "source": [
    "rE = pd.concat([rE_BP, rE_Std],axis=0)"
   ]
  },
  {
   "cell_type": "markdown",
   "id": "a94ab59f",
   "metadata": {},
   "source": [
    "Finally, we can build the supply frame:"
   ]
  },
  {
   "cell_type": "code",
   "execution_count": 37,
   "id": "b469d02e",
   "metadata": {},
   "outputs": [],
   "source": [
    "df_Es = pd.concat([ECap.rename('E').astype(float),rE.rename('r').astype(float)],axis=1)\n",
    "mi_Es_lo = pd.MultiIndex.from_product([['0'],db['h']],names=df_Hs.index.names)\n",
    "df_Es_lo = pd.concat([\n",
    "    pd.Series(0,index=mi_Es_lo).rename('E'),\n",
    "    pd.Series(df_Es.groupby('h')['r'].min().sub(ϵ).values,index=mi_Es_lo,name='r')\n",
    "],axis=1)\n",
    "mi_Es_up = pd.MultiIndex.from_product([['-1'],db['h']],names=df_Es.index.names)\n",
    "df_Es_up = pd.concat([\n",
    "    pd.Series(ϵ,index=mi_Es_up).rename('E'),\n",
    "    pd.Series(m.db['MWP_E']*1.1,index=mi_Es_up,name='r')\n",
    "],axis=1)\n",
    "df_Es = pd.concat([df_Es,df_Es_up,df_Es_lo],axis=0).sort_values(['h','r'])\n",
    "df_Es['E_cs'] = df_Es.groupby('h')['E'].transform('cumsum')"
   ]
  },
  {
   "cell_type": "code",
   "execution_count": 38,
   "id": "b59b3be4",
   "metadata": {},
   "outputs": [
    {
     "data": {
      "text/html": [
       "<div>\n",
       "<style scoped>\n",
       "    .dataframe tbody tr th:only-of-type {\n",
       "        vertical-align: middle;\n",
       "    }\n",
       "\n",
       "    .dataframe tbody tr th {\n",
       "        vertical-align: top;\n",
       "    }\n",
       "\n",
       "    .dataframe thead th {\n",
       "        text-align: right;\n",
       "    }\n",
       "</style>\n",
       "<table border=\"1\" class=\"dataframe\">\n",
       "  <thead>\n",
       "    <tr style=\"text-align: right;\">\n",
       "      <th></th>\n",
       "      <th></th>\n",
       "      <th>E</th>\n",
       "      <th>r</th>\n",
       "      <th>E_cs</th>\n",
       "    </tr>\n",
       "    <tr>\n",
       "      <th>id</th>\n",
       "      <th>h</th>\n",
       "      <th></th>\n",
       "      <th></th>\n",
       "      <th></th>\n",
       "    </tr>\n",
       "  </thead>\n",
       "  <tbody>\n",
       "    <tr>\n",
       "      <th>0</th>\n",
       "      <th>1</th>\n",
       "      <td>0.000000e+00</td>\n",
       "      <td>-2.220446e-10</td>\n",
       "      <td>0.000000</td>\n",
       "    </tr>\n",
       "    <tr>\n",
       "      <th>g1_PV</th>\n",
       "      <th>1</th>\n",
       "      <td>0.000000e+00</td>\n",
       "      <td>0.000000e+00</td>\n",
       "      <td>0.000000</td>\n",
       "    </tr>\n",
       "    <tr>\n",
       "      <th>g1_WL</th>\n",
       "      <th>1</th>\n",
       "      <td>3.956532e+00</td>\n",
       "      <td>1.500000e+00</td>\n",
       "      <td>3.956532</td>\n",
       "    </tr>\n",
       "    <tr>\n",
       "      <th>g1_WS</th>\n",
       "      <th>1</th>\n",
       "      <td>2.029660e+01</td>\n",
       "      <td>5.000000e+00</td>\n",
       "      <td>24.253136</td>\n",
       "    </tr>\n",
       "    <tr>\n",
       "      <th>g1_BP_Coal</th>\n",
       "      <th>1</th>\n",
       "      <td>7.130000e+01</td>\n",
       "      <td>1.369564e+01</td>\n",
       "      <td>95.553136</td>\n",
       "    </tr>\n",
       "    <tr>\n",
       "      <th>...</th>\n",
       "      <th>...</th>\n",
       "      <td>...</td>\n",
       "      <td>...</td>\n",
       "      <td>...</td>\n",
       "    </tr>\n",
       "    <tr>\n",
       "      <th>g1_CD_Coal</th>\n",
       "      <th>288</th>\n",
       "      <td>1.600000e+00</td>\n",
       "      <td>1.900973e+01</td>\n",
       "      <td>103.309746</td>\n",
       "    </tr>\n",
       "    <tr>\n",
       "      <th>g1_CD_NatGas</th>\n",
       "      <th>288</th>\n",
       "      <td>1.600000e+00</td>\n",
       "      <td>3.227745e+01</td>\n",
       "      <td>104.909746</td>\n",
       "    </tr>\n",
       "    <tr>\n",
       "      <th>g1_BP_NatGas</th>\n",
       "      <th>288</th>\n",
       "      <td>2.014000e+01</td>\n",
       "      <td>3.566535e+01</td>\n",
       "      <td>125.049746</td>\n",
       "    </tr>\n",
       "    <tr>\n",
       "      <th>g1_BP_BioMass</th>\n",
       "      <th>288</th>\n",
       "      <td>5.300000e+00</td>\n",
       "      <td>6.971849e+01</td>\n",
       "      <td>130.349746</td>\n",
       "    </tr>\n",
       "    <tr>\n",
       "      <th>-1</th>\n",
       "      <th>288</th>\n",
       "      <td>2.220446e-10</td>\n",
       "      <td>1.100000e+02</td>\n",
       "      <td>130.349746</td>\n",
       "    </tr>\n",
       "  </tbody>\n",
       "</table>\n",
       "<p>2880 rows × 3 columns</p>\n",
       "</div>"
      ],
      "text/plain": [
       "                              E             r        E_cs\n",
       "id            h                                          \n",
       "0             1    0.000000e+00 -2.220446e-10    0.000000\n",
       "g1_PV         1    0.000000e+00  0.000000e+00    0.000000\n",
       "g1_WL         1    3.956532e+00  1.500000e+00    3.956532\n",
       "g1_WS         1    2.029660e+01  5.000000e+00   24.253136\n",
       "g1_BP_Coal    1    7.130000e+01  1.369564e+01   95.553136\n",
       "...                         ...           ...         ...\n",
       "g1_CD_Coal    288  1.600000e+00  1.900973e+01  103.309746\n",
       "g1_CD_NatGas  288  1.600000e+00  3.227745e+01  104.909746\n",
       "g1_BP_NatGas  288  2.014000e+01  3.566535e+01  125.049746\n",
       "g1_BP_BioMass 288  5.300000e+00  6.971849e+01  130.349746\n",
       "-1            288  2.220446e-10  1.100000e+02  130.349746\n",
       "\n",
       "[2880 rows x 3 columns]"
      ]
     },
     "execution_count": 38,
     "metadata": {},
     "output_type": "execute_result"
    }
   ],
   "source": [
    "df_Es"
   ]
  },
  {
   "cell_type": "markdown",
   "id": "34b2f27d",
   "metadata": {},
   "source": [
    "*Plot*\n",
    "\n",
    "We can then plot the equilibrium for the two hours:"
   ]
  },
  {
   "cell_type": "code",
   "execution_count": 39,
   "id": "82948157",
   "metadata": {},
   "outputs": [
    {
     "data": {
      "image/png": "[encoded data removed]",
      "text/plain": [
       "<Figure size 800x550 with 2 Axes>"
      ]
     },
     "metadata": {},
     "output_type": "display_data"
    }
   ],
   "source": [
    "fig, ax = plt.subplots(ncols=2,sharex=True,sharey=False)\n",
    "for i in range(len(h_grid)):\n",
    "    h = h_grid[i]\n",
    "    # Demand curve:\n",
    "    ax[i].step(df_Ed.xs(h,level='h')['E_cs'],df_Ed.xs(h,level='h')['mwp'])\n",
    "    # Supply curve:\n",
    "    ax[i].step(df_Es.xs(h,level='h')['E_cs'],df_Es.xs(h,level='h')['r'])\n",
    "    # Horizontal line indicating the equilibrium price\n",
    "    ax[i].hlines(xmin=0,xmax=df_Ed.xs(h,level='h')['E'].sum(),y=m.db['marginalSystemCosts_E'].xs(h,level='h').iloc[0],color='black',linestyle='--')\n",
    "    ax[i].set_title(r'$h=$'+str(h))\n",
    "    \n",
    "[ax[i].set_xlabel('MWh') for i in [0,1]];\n",
    "ax[0].set_ylabel('Euros/MWh')\n",
    "fig.legend(['Supply','Demand','Marginal System Costs'],loc='lower center', bbox_to_anchor=(0.5, -0.05), ncol=3, frameon=True)\n",
    "fig.tight_layout()"
   ]
  },
  {
   "cell_type": "markdown",
   "id": "e8507976-31fb-4a65-a1bd-c478b5cd14b1",
   "metadata": {
    "tags": []
   },
   "source": [
    "## E2.4"
   ]
  },
  {
   "cell_type": "markdown",
   "id": "cbf417e2-6182-4309-ad59-570149ac89e5",
   "metadata": {},
   "source": [
    "In this exercise you are asked to simulate the effects of increasing the heat pump capacity. We will do so by solving the model over of an exogenous grid of the heat pump capacity. For making the grid, the `pyDbs` package has a class called `adjMultiIndex`, which has a function called _addGrid_. It takes the four central arguments:\n",
    "\n",
    "```python\n",
    "adjMultiIndex.addGrid(v0,vT,index,name)\n",
    "```\n",
    "where \n",
    "- v0 is a Pandas Index specifying the first element of the grid. \n",
    "- vT is a Pandas Index specifying the last element of the grid.\n",
    "- index is a Pandas Index specifying the number points in the grid.\n",
    "- name is the name of the variable, we are changing. \n",
    "\n",
    "The following makes the grid:"
   ]
  },
  {
   "cell_type": "code",
   "execution_count": 40,
   "id": "a08f78cc-8901-4e4a-a3bd-e82c87ba215f",
   "metadata": {},
   "outputs": [],
   "source": [
    "loop = pd.Index(range(11), name = 'l1')\n",
    "v0 = pd.Series(0.01, index = pd.Index(['g1_HP'], name = 'id'), name = 'GeneratingCap_H')\n",
    "vT = v0+100\n",
    "grid = adjMultiIndex.addGrid(v0,vT,index=loop,name='GeneratingCap_H')"
   ]
  },
  {
   "cell_type": "markdown",
   "id": "23042016-d3b5-405d-add4-70d89fe6a7ba",
   "metadata": {},
   "source": [
    "__Now use the 'loopSolveExtract'-function in the `modelShell`-class to solve the model of the exogenous grid. Furthermore, extract the following list of variables:__\n",
    "```python\n",
    "extract = [\n",
    "    'meanConsumerPrice_E','meanConsumerPrice_H', # average yearly consumer prices\n",
    "    'marginalEconomicValue' # marginal economic value of capacity\n",
    "]\n",
    "```"
   ]
  },
  {
   "cell_type": "markdown",
   "id": "949d079b",
   "metadata": {},
   "source": [
    "---\n",
    "**Solution**"
   ]
  },
  {
   "cell_type": "code",
   "execution_count": 41,
   "id": "c1758952",
   "metadata": {},
   "outputs": [],
   "source": [
    "extract = [\n",
    "    'meanConsumerPrice_E','meanConsumerPrice_H', # average yearly consumer prices\n",
    "    'marginalEconomicValue' # marginal economic value of capacity\n",
    "]"
   ]
  },
  {
   "cell_type": "code",
   "execution_count": 42,
   "id": "b24a1e76",
   "metadata": {},
   "outputs": [
    {
     "data": {
      "text/plain": [
       "{'meanConsumerPrice_E': g   c_E  l1\n",
       " g1  c1   0     41.137500\n",
       "          1     42.908116\n",
       "          2     44.351215\n",
       "          3     45.245542\n",
       "          4     45.608927\n",
       "          5     45.990169\n",
       "          6     46.339927\n",
       "          7     46.479234\n",
       "          8     47.032881\n",
       "          9     47.603178\n",
       "          10    47.901323\n",
       " dtype: float64,\n",
       " 'meanConsumerPrice_H': g   c_H  l1\n",
       " g1  c1   0     48.043052\n",
       "          1     45.019557\n",
       "          2     40.886830\n",
       "          3     37.744340\n",
       "          4     36.272660\n",
       "          5     32.151908\n",
       "          6     30.393234\n",
       "          7     28.150436\n",
       "          8     24.044772\n",
       "          9     22.295966\n",
       "          10    18.295383\n",
       " dtype: float64,\n",
       " 'marginalEconomicValue': id             l1\n",
       " g1_BH_BioMass  0     4352.233089\n",
       "                1     3774.362113\n",
       "                2     3059.245129\n",
       "                3     2504.675151\n",
       "                4       2192.4274\n",
       "                         ...     \n",
       " g1_WS          6      1793.52413\n",
       "                7      1809.32083\n",
       "                8     1905.969123\n",
       "                9     1963.572576\n",
       "                10    1977.718449\n",
       " Length: 132, dtype: object}"
      ]
     },
     "execution_count": 42,
     "metadata": {},
     "output_type": "execute_result"
    }
   ],
   "source": [
    "solution = m.loopSolveExtract(loop, [grid], extract)\n",
    "solution"
   ]
  },
  {
   "cell_type": "markdown",
   "id": "e26c31d8-3f65-4399-b480-c06aa1420071",
   "metadata": {},
   "source": [
    "## E2.5"
   ]
  },
  {
   "cell_type": "markdown",
   "id": "80103fed-75a9-4ea4-81ab-3d37e072dbef",
   "metadata": {
    "tags": []
   },
   "source": [
    "Consider the following figure illustrating the _marginal economic value of generating capacity_ as a function of installed heat pump capacity split into electricity generators $(i\\in\\mathcal{I}^{E})$, heat generators $(i\\in\\mathcal{I}^{H})$, and back-pressure plants $(i\\in\\mathcal{I}^{BP})$:"
   ]
  },
  {
   "cell_type": "code",
   "execution_count": 43,
   "id": "222b0c35-cc5a-4690-bebc-53d61250ae4c",
   "metadata": {
    "tags": []
   },
   "outputs": [
    {
     "data": {
      "image/png": "[encoded data removed]",
      "text/plain": [
       "<IPython.core.display.Image object>"
      ]
     },
     "execution_count": 43,
     "metadata": {},
     "output_type": "execute_result"
    }
   ],
   "source": [
    "Image(os.path.join(figs_path,'E2.5_sol.png'))"
   ]
  },
  {
   "cell_type": "markdown",
   "id": "64f127fb-1903-44bf-bebc-f7e5a4862932",
   "metadata": {
    "tags": []
   },
   "source": [
    "__Define the marginal economic value of capacity and explain the effect of the heat pump capacity on the marginal economic value of generating capacity for (i) electricity producing plants, (ii) heat generating plants, and (iii) back-pressure plants.__"
   ]
  },
  {
   "cell_type": "markdown",
   "id": "d7056a27",
   "metadata": {},
   "source": [
    "---\n",
    "**Solution**\n",
    "$\\Rightarrow$ see 'E41_SolutionGuide'"
   ]
  }
 ],
 "metadata": {
  "kernelspec": {
   "display_name": "Python 3 (ipykernel)",
   "language": "python",
   "name": "python3"
  },
  "language_info": {
   "codemirror_mode": {
    "name": "ipython",
    "version": 3
   },
   "file_extension": ".py",
   "mimetype": "text/x-python",
   "name": "python",
   "nbconvert_exporter": "python",
   "pygments_lexer": "ipython3",
   "version": "3.11.3"
  },
  "toc-autonumbering": false,
  "toc-showcode": true,
  "toc-showmarkdowntxt": false
 },
 "nbformat": 4,
 "nbformat_minor": 5
}
