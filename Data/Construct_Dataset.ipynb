{
 "cells": [
  {
   "cell_type": "markdown",
   "metadata": {},
   "source": [
    "# Construct Dataset"
   ]
  },
  {
   "cell_type": "markdown",
   "metadata": {},
   "source": [
    "In this Jupyter notebook, the dataset going into the $mBasicPH\\_storage$ is being constructed. Basically, this file constructs an excel file (stored in \"EnergyEconGroupWork\\Data\") from the various excel files (stored in \"EnergyEconGroupWork\\DownloadDataForDK\\ModelData\") which were constructed from real world data."
   ]
  }
 ],
 "metadata": {
  "language_info": {
   "name": "python"
  }
 },
 "nbformat": 4,
 "nbformat_minor": 2
}
