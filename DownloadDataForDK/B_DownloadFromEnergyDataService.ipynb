{
 "cells": [
  {
   "cell_type": "markdown",
   "id": "a196289c-56f3-41ef-92db-138b66b3d5ff",
   "metadata": {
    "tags": []
   },
   "source": [
    "# How to downloade data from Energinet's Energy Data Service Platform"
   ]
  },
  {
   "cell_type": "markdown",
   "id": "face30b4-4432-4c6e-9733-715d6c796677",
   "metadata": {},
   "source": [
    "In this notebook you will learn how to download data from the Danish TSO's data platform, [**https://www.energidataservice.dk/**](https://www.energidataservice.dk/). Compared to ENTSO-e's Transparency Platform they have more statistics but they are only provided for DK. In my experience, other TSOs do not provide such a comprehensive overview of the energy system, but if you are aware of data platforms, please feel free to share them on Absalon!\n",
    "\n",
    "We will be downloading hourly transmission capacities (both importing and exporting). As with generation capacities of technologies relying on intermittent energy sources, transmissions capacities also vary at the hourly frequency. The difference between the technical transfer capacity of transmission lines (Total Transfer Capacity, TTC) and the actual available capacity (Net Transfer Capacity, NTC) can occur for multiple\n",
    "reasons. The main reasons include variability of intermittent renewables, power plant outages, outages in the transmission lines themselves, and variation in load patterns. You can have a look at ENTSO-e’s user information on Net Transfer Capacities (NTC) here: [**https://eepublicdownloads.\n",
    "entsoe.eu/clean-documents/pre2015/ntc/entsoe_NTCusersInformation.pdf**](https://eepublicdownloads.entsoe.eu/clean-documents/pre2015/ntc/entsoe_NTCusersInformation.pdf).\n",
    "\n",
    "\n",
    "Before running the code make sure you have the **requests**-package installed in you conda environment. If not, this is easily installed by typing the following in your anaconda prompt:\n",
    "\n",
    "> `$conda activate Insert_You_Environment_Name`<br>\n",
    "> `$python -m pip install requests`"
   ]
  },
  {
   "cell_type": "markdown",
   "id": "47a4a668-b422-4829-8a6d-959145ce1524",
   "metadata": {
    "tags": []
   },
   "source": [
    "We start by importing a few packages:"
   ]
  },
  {
   "cell_type": "code",
   "execution_count": 2,
   "id": "c4d11ff8-798d-42a6-8ba0-f6a3865072f1",
   "metadata": {
    "tags": []
   },
   "outputs": [],
   "source": [
    "import pandas as pd, numpy as np, os, pickle, requests"
   ]
  },
  {
   "cell_type": "markdown",
   "id": "adfc8304-05b4-4277-95cb-a1e49b32f5a1",
   "metadata": {
    "tags": []
   },
   "source": [
    "Let's specify an output folder:"
   ]
  },
  {
   "cell_type": "code",
   "execution_count": 3,
   "id": "f511b2ef-7df5-42e7-bff6-39643d72b935",
   "metadata": {
    "tags": []
   },
   "outputs": [],
   "source": [
    "direc = os.getcwd()\n",
    "data_dir = os.path.join(direc,'CleanedData')"
   ]
  },
  {
   "cell_type": "markdown",
   "id": "535f04dc-57ed-41d2-9562-7594e301993d",
   "metadata": {},
   "source": [
    "Choose the year you want to collect data for (currently only one year is supported, but you can easily adopt the notebook to collect for multiple years):"
   ]
  },
  {
   "cell_type": "code",
   "execution_count": 4,
   "id": "563eee68-047f-47ec-99e0-46ac58f77cf7",
   "metadata": {
    "tags": []
   },
   "outputs": [],
   "source": [
    "year = 2022"
   ]
  },
  {
   "cell_type": "markdown",
   "id": "a752f05b-c3b4-43d4-a152-0d6dd9849cf9",
   "metadata": {
    "tags": []
   },
   "source": [
    "Given the chosen year, create choose the first and last hour of that year:"
   ]
  },
  {
   "cell_type": "code",
   "execution_count": 5,
   "id": "cf4a0cf1-36b5-4d96-938e-f03d2e5c2ab3",
   "metadata": {
    "tags": []
   },
   "outputs": [],
   "source": [
    "start_str, end_str = str(year)+'-01-01T00',str(year)+'-12-31T23', \n",
    "start_CET = pd.Timestamp(start_str,tz='Europe/Copenhagen'); start_UTC = start_CET.tz_convert('UTC')\n",
    "end_CET = pd.Timestamp(end_str,tz='Europe/Copenhagen'); end_UTC = end_CET.tz_convert('UTC')"
   ]
  },
  {
   "cell_type": "code",
   "execution_count": 6,
   "id": "d56e57b4",
   "metadata": {},
   "outputs": [
    {
     "data": {
      "text/plain": [
       "Timestamp('2022-01-01 00:00:00+0100', tz='Europe/Copenhagen')"
      ]
     },
     "execution_count": 6,
     "metadata": {},
     "output_type": "execute_result"
    }
   ],
   "source": [
    "start_CET"
   ]
  },
  {
   "cell_type": "code",
   "execution_count": 7,
   "id": "4cf06120",
   "metadata": {},
   "outputs": [
    {
     "data": {
      "text/plain": [
       "Timestamp('2022-12-31 23:00:00+0100', tz='Europe/Copenhagen')"
      ]
     },
     "execution_count": 7,
     "metadata": {},
     "output_type": "execute_result"
    }
   ],
   "source": [
    "end_CET"
   ]
  },
  {
   "cell_type": "markdown",
   "id": "1a2365b8-5d61-46e5-bac6-6fa164a12d39",
   "metadata": {},
   "source": [
    "Download the transmission capacities using the API:"
   ]
  },
  {
   "cell_type": "code",
   "execution_count": 8,
   "id": "e6879697-a59e-4b84-b880-785fc64e2cd1",
   "metadata": {
    "tags": []
   },
   "outputs": [],
   "source": [
    "url = f\"https://api.energidataservice.dk/dataset/Transmissionlines/download?format=json&start={str(year)}-01-01T00:00&end={str(year+1)}-01-01T00:00&timezone=DK&limit=0\"\n",
    "r = requests.get(url)\n",
    "rawdata = r.json()"
   ]
  },
  {
   "cell_type": "markdown",
   "id": "9a2cbeeb-78c5-467d-90c3-cbb52cc20d3a",
   "metadata": {},
   "source": [
    "Subset data:"
   ]
  },
  {
   "cell_type": "code",
   "execution_count": 12,
   "id": "baf589a3-6932-4210-b956-d1ff50f1156f",
   "metadata": {
    "tags": []
   },
   "outputs": [],
   "source": [
    "variables = ['HourUTC','PriceArea','ConnectedArea','ImportCapacity','ExportCapacity','HomePriceEUR','ConnectedPriceEUR','CongestionIncomeEUR','ScheduledExchangeDayAhead']\n",
    "data = {var: [rawdata[i][var] for i in range(0,len(rawdata))] for var in variables}\n",
    "df_tcap = pd.DataFrame(data).rename(columns={\n",
    "    'PriceArea':'g_E','ConnectedArea':'g_EE',\n",
    "    'ImportCapacity':'ImportCapacity_MW','ExportCapacity':'ExportCapacity_MW',\n",
    "    'HomePriceEUR':'Price_EUR/MWh_gE','ConnectedPriceEUR':'Price_EUR/MWh_gEE'\n",
    "})"
   ]
  },
  {
   "cell_type": "markdown",
   "id": "9d0e41bf",
   "metadata": {},
   "source": [
    "---\n",
    "### Data Description"
   ]
  },
  {
   "cell_type": "code",
   "execution_count": 23,
   "id": "82224e52",
   "metadata": {},
   "outputs": [
    {
     "data": {
      "text/html": [
       "<div>\n",
       "<style scoped>\n",
       "    .dataframe tbody tr th:only-of-type {\n",
       "        vertical-align: middle;\n",
       "    }\n",
       "\n",
       "    .dataframe tbody tr th {\n",
       "        vertical-align: top;\n",
       "    }\n",
       "\n",
       "    .dataframe thead th {\n",
       "        text-align: right;\n",
       "    }\n",
       "</style>\n",
       "<table border=\"1\" class=\"dataframe\">\n",
       "  <thead>\n",
       "    <tr style=\"text-align: right;\">\n",
       "      <th></th>\n",
       "      <th>g_E</th>\n",
       "      <th>g_EE</th>\n",
       "      <th>HourUTC</th>\n",
       "      <th>HourCET/CEST</th>\n",
       "      <th>ImportCapacity_MW</th>\n",
       "      <th>ExportCapacity_MW</th>\n",
       "      <th>Price_EUR/MWh_gE</th>\n",
       "      <th>Price_EUR/MWh_gEE</th>\n",
       "    </tr>\n",
       "  </thead>\n",
       "  <tbody>\n",
       "    <tr>\n",
       "      <th>0</th>\n",
       "      <td>DK1</td>\n",
       "      <td>DELU</td>\n",
       "      <td>2021-12-31 23:00:00+00:00</td>\n",
       "      <td>2022-01-01 00:00:00+01:00</td>\n",
       "      <td>870.0</td>\n",
       "      <td>700.0</td>\n",
       "      <td>50.049999</td>\n",
       "      <td>50.049999</td>\n",
       "    </tr>\n",
       "    <tr>\n",
       "      <th>1</th>\n",
       "      <td>DK1</td>\n",
       "      <td>DELU</td>\n",
       "      <td>2022-01-01 00:00:00+00:00</td>\n",
       "      <td>2022-01-01 01:00:00+01:00</td>\n",
       "      <td>870.0</td>\n",
       "      <td>700.0</td>\n",
       "      <td>41.330002</td>\n",
       "      <td>41.330002</td>\n",
       "    </tr>\n",
       "    <tr>\n",
       "      <th>2</th>\n",
       "      <td>DK1</td>\n",
       "      <td>DELU</td>\n",
       "      <td>2022-01-01 01:00:00+00:00</td>\n",
       "      <td>2022-01-01 02:00:00+01:00</td>\n",
       "      <td>870.0</td>\n",
       "      <td>700.0</td>\n",
       "      <td>43.220001</td>\n",
       "      <td>43.220001</td>\n",
       "    </tr>\n",
       "    <tr>\n",
       "      <th>3</th>\n",
       "      <td>DK1</td>\n",
       "      <td>DELU</td>\n",
       "      <td>2022-01-01 02:00:00+00:00</td>\n",
       "      <td>2022-01-01 03:00:00+01:00</td>\n",
       "      <td>870.0</td>\n",
       "      <td>700.0</td>\n",
       "      <td>45.459999</td>\n",
       "      <td>45.459999</td>\n",
       "    </tr>\n",
       "    <tr>\n",
       "      <th>4</th>\n",
       "      <td>DK1</td>\n",
       "      <td>DELU</td>\n",
       "      <td>2022-01-01 03:00:00+00:00</td>\n",
       "      <td>2022-01-01 04:00:00+01:00</td>\n",
       "      <td>870.0</td>\n",
       "      <td>700.0</td>\n",
       "      <td>37.669998</td>\n",
       "      <td>37.669998</td>\n",
       "    </tr>\n",
       "  </tbody>\n",
       "</table>\n",
       "</div>"
      ],
      "text/plain": [
       "   g_E  g_EE                   HourUTC              HourCET/CEST  \\\n",
       "0  DK1  DELU 2021-12-31 23:00:00+00:00 2022-01-01 00:00:00+01:00   \n",
       "1  DK1  DELU 2022-01-01 00:00:00+00:00 2022-01-01 01:00:00+01:00   \n",
       "2  DK1  DELU 2022-01-01 01:00:00+00:00 2022-01-01 02:00:00+01:00   \n",
       "3  DK1  DELU 2022-01-01 02:00:00+00:00 2022-01-01 03:00:00+01:00   \n",
       "4  DK1  DELU 2022-01-01 03:00:00+00:00 2022-01-01 04:00:00+01:00   \n",
       "\n",
       "   ImportCapacity_MW  ExportCapacity_MW  Price_EUR/MWh_gE  Price_EUR/MWh_gEE  \n",
       "0              870.0              700.0         50.049999          50.049999  \n",
       "1              870.0              700.0         41.330002          41.330002  \n",
       "2              870.0              700.0         43.220001          43.220001  \n",
       "3              870.0              700.0         45.459999          45.459999  \n",
       "4              870.0              700.0         37.669998          37.669998  "
      ]
     },
     "execution_count": 23,
     "metadata": {},
     "output_type": "execute_result"
    }
   ],
   "source": [
    "df_tcap.head()"
   ]
  },
  {
   "cell_type": "code",
   "execution_count": 25,
   "id": "9b74525d",
   "metadata": {},
   "outputs": [
    {
     "name": "stdout",
     "output_type": "stream",
     "text": [
      "<class 'pandas.core.frame.DataFrame'>\n",
      "RangeIndex: 70080 entries, 0 to 70079\n",
      "Data columns (total 8 columns):\n",
      " #   Column             Non-Null Count  Dtype                          \n",
      "---  ------             --------------  -----                          \n",
      " 0   g_E                70080 non-null  object                         \n",
      " 1   g_EE               70080 non-null  object                         \n",
      " 2   HourUTC            70080 non-null  datetime64[ns, UTC]            \n",
      " 3   HourCET/CEST       70080 non-null  datetime64[ns, Europe/Brussels]\n",
      " 4   ImportCapacity_MW  70080 non-null  float64                        \n",
      " 5   ExportCapacity_MW  70080 non-null  float64                        \n",
      " 6   Price_EUR/MWh_gE   70080 non-null  float64                        \n",
      " 7   Price_EUR/MWh_gEE  70080 non-null  float64                        \n",
      "dtypes: datetime64[ns, Europe/Brussels](1), datetime64[ns, UTC](1), float64(4), object(2)\n",
      "memory usage: 4.3+ MB\n"
     ]
    }
   ],
   "source": [
    "df_tcap.info()"
   ]
  },
  {
   "cell_type": "code",
   "execution_count": 26,
   "id": "1390d8b1",
   "metadata": {},
   "outputs": [
    {
     "data": {
      "text/html": [
       "<div>\n",
       "<style scoped>\n",
       "    .dataframe tbody tr th:only-of-type {\n",
       "        vertical-align: middle;\n",
       "    }\n",
       "\n",
       "    .dataframe tbody tr th {\n",
       "        vertical-align: top;\n",
       "    }\n",
       "\n",
       "    .dataframe thead th {\n",
       "        text-align: right;\n",
       "    }\n",
       "</style>\n",
       "<table border=\"1\" class=\"dataframe\">\n",
       "  <thead>\n",
       "    <tr style=\"text-align: right;\">\n",
       "      <th></th>\n",
       "      <th>ImportCapacity_MW</th>\n",
       "      <th>ExportCapacity_MW</th>\n",
       "      <th>Price_EUR/MWh_gE</th>\n",
       "      <th>Price_EUR/MWh_gEE</th>\n",
       "    </tr>\n",
       "  </thead>\n",
       "  <tbody>\n",
       "    <tr>\n",
       "      <th>count</th>\n",
       "      <td>70080.000000</td>\n",
       "      <td>70080.000000</td>\n",
       "      <td>70080.000000</td>\n",
       "      <td>70080.000000</td>\n",
       "    </tr>\n",
       "    <tr>\n",
       "      <th>mean</th>\n",
       "      <td>949.898973</td>\n",
       "      <td>964.638570</td>\n",
       "      <td>215.706070</td>\n",
       "      <td>204.011210</td>\n",
       "    </tr>\n",
       "    <tr>\n",
       "      <th>std</th>\n",
       "      <td>559.291907</td>\n",
       "      <td>565.717462</td>\n",
       "      <td>147.306815</td>\n",
       "      <td>144.041292</td>\n",
       "    </tr>\n",
       "    <tr>\n",
       "      <th>min</th>\n",
       "      <td>-963.000000</td>\n",
       "      <td>0.000000</td>\n",
       "      <td>-19.040001</td>\n",
       "      <td>-222.360000</td>\n",
       "    </tr>\n",
       "    <tr>\n",
       "      <th>25%</th>\n",
       "      <td>600.000000</td>\n",
       "      <td>600.000000</td>\n",
       "      <td>112.489998</td>\n",
       "      <td>101.965000</td>\n",
       "    </tr>\n",
       "    <tr>\n",
       "      <th>50%</th>\n",
       "      <td>715.000000</td>\n",
       "      <td>704.000000</td>\n",
       "      <td>189.550003</td>\n",
       "      <td>182.400005</td>\n",
       "    </tr>\n",
       "    <tr>\n",
       "      <th>75%</th>\n",
       "      <td>1248.000000</td>\n",
       "      <td>1290.000000</td>\n",
       "      <td>291.220001</td>\n",
       "      <td>273.950004</td>\n",
       "    </tr>\n",
       "    <tr>\n",
       "      <th>max</th>\n",
       "      <td>2500.000000</td>\n",
       "      <td>2500.000000</td>\n",
       "      <td>871.000000</td>\n",
       "      <td>871.000000</td>\n",
       "    </tr>\n",
       "  </tbody>\n",
       "</table>\n",
       "</div>"
      ],
      "text/plain": [
       "       ImportCapacity_MW  ExportCapacity_MW  Price_EUR/MWh_gE  \\\n",
       "count       70080.000000       70080.000000      70080.000000   \n",
       "mean          949.898973         964.638570        215.706070   \n",
       "std           559.291907         565.717462        147.306815   \n",
       "min          -963.000000           0.000000        -19.040001   \n",
       "25%           600.000000         600.000000        112.489998   \n",
       "50%           715.000000         704.000000        189.550003   \n",
       "75%          1248.000000        1290.000000        291.220001   \n",
       "max          2500.000000        2500.000000        871.000000   \n",
       "\n",
       "       Price_EUR/MWh_gEE  \n",
       "count       70080.000000  \n",
       "mean          204.011210  \n",
       "std           144.041292  \n",
       "min          -222.360000  \n",
       "25%           101.965000  \n",
       "50%           182.400005  \n",
       "75%           273.950004  \n",
       "max           871.000000  "
      ]
     },
     "execution_count": 26,
     "metadata": {},
     "output_type": "execute_result"
    }
   ],
   "source": [
    "df_tcap.describe()"
   ]
  },
  {
   "cell_type": "markdown",
   "id": "bc2208d9",
   "metadata": {},
   "source": [
    "### Missing Values"
   ]
  },
  {
   "cell_type": "code",
   "execution_count": 30,
   "id": "e49d1a04",
   "metadata": {},
   "outputs": [
    {
     "data": {
      "text/plain": [
       "<Axes: >"
      ]
     },
     "execution_count": 30,
     "metadata": {},
     "output_type": "execute_result"
    }
   ],
   "source": [
    "import missingno as msno\n",
    "msno.bar(df_tcap)"
   ]
  },
  {
   "cell_type": "markdown",
   "id": "c7b29e9c",
   "metadata": {},
   "source": [
    "Note: there are no missing values (nice :-))"
   ]
  },
  {
   "cell_type": "markdown",
   "id": "1b47648a",
   "metadata": {},
   "source": [
    "\n",
    "---"
   ]
  },
  {
   "cell_type": "markdown",
   "id": "a7c4d58d-f06b-466d-b395-cb78719b0d3c",
   "metadata": {
    "tags": []
   },
   "source": [
    "Drop NL because it is weird:"
   ]
  },
  {
   "cell_type": "code",
   "execution_count": 7,
   "id": "0105e0f1-9558-4fb0-8a87-20a22dba85af",
   "metadata": {
    "tags": []
   },
   "outputs": [],
   "source": [
    "# df_tcap = df_tcap[df_tcap['g_EE']!='NL']"
   ]
  },
  {
   "cell_type": "markdown",
   "id": "2577e11a-5503-4e47-91fa-8a4575dc377f",
   "metadata": {
    "tags": []
   },
   "source": [
    "Correct datatime format:"
   ]
  },
  {
   "cell_type": "code",
   "execution_count": 16,
   "id": "95d637e4-c63c-40f1-af10-410109951385",
   "metadata": {
    "tags": []
   },
   "outputs": [],
   "source": [
    "df_tcap['HourUTC'] = pd.to_datetime(df_tcap['HourUTC'].str.replace('T',' '),utc=True)\n",
    "df_tcap['HourCET/CEST'] = df_tcap['HourUTC'].dt.tz_convert('Europe/Brussels')"
   ]
  },
  {
   "cell_type": "markdown",
   "id": "2db75733-07bd-47a1-8a39-e2e066466961",
   "metadata": {
    "tags": []
   },
   "source": [
    "Format float columns and insert nans where there are dictionaries:"
   ]
  },
  {
   "cell_type": "code",
   "execution_count": 17,
   "id": "3f656a53-5371-408b-9bfa-a8c1cd1824c2",
   "metadata": {
    "tags": []
   },
   "outputs": [],
   "source": [
    "num_cols = ['ImportCapacity_MW','ExportCapacity_MW','Price_EUR/MWh_gE','Price_EUR/MWh_gEE','CongestionIncomeEUR','ScheduledExchangeDayAhead']\n",
    "is_dict = df_tcap[num_cols].transform(lambda x: x.apply(type).eq(dict))\n",
    "for col in [x for x,y in zip(is_dict.columns,is_dict.any()) if y]:\n",
    "    df_tcap.loc[is_dict[col],col] = np.nan\n",
    "df_tcap[num_cols] = df_tcap[num_cols].astype(float)\n",
    "df_tcap['ExportCapacity_MW'] = df_tcap['ExportCapacity_MW'].abs()"
   ]
  },
  {
   "cell_type": "markdown",
   "id": "a8ce2512-4305-4a98-bd08-ffb9042810c5",
   "metadata": {
    "tags": []
   },
   "source": [
    "Impute domestic prices if they are not available in some hours:"
   ]
  },
  {
   "cell_type": "code",
   "execution_count": 18,
   "id": "dd86dce0-3268-41b3-a10e-d49cd1b77720",
   "metadata": {
    "tags": []
   },
   "outputs": [],
   "source": [
    "idx = df_tcap['Price_EUR/MWh_gE'].isna()\n",
    "df_tcap.loc[idx,'Price_EUR/MWh_gE'] = df_tcap.groupby(['HourUTC','g_E'])['Price_EUR/MWh_gE'].transform('mean')[idx]"
   ]
  },
  {
   "cell_type": "markdown",
   "id": "e536cb84-1dfa-4173-a2af-cbb71e1bac4c",
   "metadata": {
    "tags": []
   },
   "source": [
    "Assume missing capacities are at zero:"
   ]
  },
  {
   "cell_type": "code",
   "execution_count": 19,
   "id": "3306771e-b797-4105-aea6-c803f6789c32",
   "metadata": {
    "tags": []
   },
   "outputs": [],
   "source": [
    "df_tcap['ImportCapacity_MW'] = df_tcap['ImportCapacity_MW'].fillna(0)\n",
    "df_tcap['ExportCapacity_MW'] = df_tcap['ExportCapacity_MW'].fillna(0)"
   ]
  },
  {
   "cell_type": "markdown",
   "id": "778d8197-0bbb-4b98-9811-fb601fe14594",
   "metadata": {
    "tags": []
   },
   "source": [
    "Assume congestion income is zero if missing:"
   ]
  },
  {
   "cell_type": "code",
   "execution_count": 20,
   "id": "1b24e331-e3ea-44a6-b419-78242c20bba9",
   "metadata": {
    "tags": []
   },
   "outputs": [],
   "source": [
    "df_tcap['CongestionIncomeEUR'] = df_tcap['CongestionIncomeEUR'].fillna(0)"
   ]
  },
  {
   "cell_type": "markdown",
   "id": "22839651-00e8-480d-b575-884667fc4c90",
   "metadata": {
    "tags": []
   },
   "source": [
    "Import foreign electricity price if missing:"
   ]
  },
  {
   "cell_type": "code",
   "execution_count": 21,
   "id": "e73f12e1-4135-4e56-98bf-c986b3864e2f",
   "metadata": {
    "tags": []
   },
   "outputs": [],
   "source": [
    "idx = df_tcap['Price_EUR/MWh_gEE'].isna()\n",
    "# If conegestion income is zero\n",
    "idx_tmp = (idx) & (np.isclose(df_tcap['CongestionIncomeEUR'],0))\n",
    "df_tcap.loc[idx_tmp,'Price_EUR/MWh_gEE'] = df_tcap.loc[idx_tmp,'Price_EUR/MWh_gE']\n",
    "# If congestion income is not zero and DK is exporting:\n",
    "idx_tmp = (idx) & (~np.isclose(df_tcap['CongestionIncomeEUR'],0)) & (df_tcap['ScheduledExchangeDayAhead']<0)\n",
    "df_tcap.loc[idx_tmp,'Price_EUR/MWh_gEE'] = df_tcap.loc[idx_tmp,'Price_EUR/MWh_gE']+df_tcap.loc[idx_tmp,'CongestionIncomeEUR']/df_tcap.loc[idx_tmp,'ScheduledExchangeDayAhead'].abs()\n",
    "# If congestion income is not zero and DK is importing:\n",
    "idx_tmp = (idx) & (~np.isclose(df_tcap['CongestionIncomeEUR'],0)) & (df_tcap['ScheduledExchangeDayAhead']>0)\n",
    "df_tcap.loc[idx_tmp,'Price_EUR/MWh_gEE'] = df_tcap.loc[idx_tmp,'Price_EUR/MWh_gE']-df_tcap.loc[idx_tmp,'CongestionIncomeEUR']/df_tcap.loc[idx_tmp,'ScheduledExchangeDayAhead']\n",
    "df_tcap.drop(columns=['CongestionIncomeEUR','ScheduledExchangeDayAhead'],inplace=True)"
   ]
  },
  {
   "cell_type": "markdown",
   "id": "988a2f9f-f0d5-4317-baa8-31cada5ccede",
   "metadata": {
    "tags": []
   },
   "source": [
    "Aggregate hour domestic electricity areas:"
   ]
  },
  {
   "cell_type": "code",
   "execution_count": 22,
   "id": "038060e4-3ba0-401c-8e28-bdaa89dd2f54",
   "metadata": {
    "tags": []
   },
   "outputs": [],
   "source": [
    "df_tcap[['g_E','g_EE']] = df_tcap[['g_E','g_EE']].replace({'DK1':'DK1','DK2':'DK2','DE':'DELU'})\n",
    "df_tcap = df_tcap.groupby(['g_E','g_EE','HourUTC','HourCET/CEST'])[num_cols[0:-2]].agg({\n",
    "    'ImportCapacity_MW':'sum',\n",
    "    'ExportCapacity_MW':'sum',\n",
    "    'Price_EUR/MWh_gE':'mean',\n",
    "    'Price_EUR/MWh_gEE':'mean'\n",
    "}).reset_index()\n",
    "# Remoce connections that have been aggregated out\n",
    "idx = (df_tcap['g_E']=='DK') & (df_tcap['g_EE']=='DK')\n",
    "df_tcap = df_tcap[~(idx)]"
   ]
  },
  {
   "cell_type": "markdown",
   "id": "ad5f822d-3857-4c71-9b5d-6827ae64c889",
   "metadata": {
    "tags": []
   },
   "source": [
    "Add some helpfull variables:"
   ]
  },
  {
   "cell_type": "code",
   "execution_count": 31,
   "id": "84cd026b-2298-49d2-8ebe-0e6d4328775f",
   "metadata": {
    "tags": []
   },
   "outputs": [],
   "source": [
    "df_tcap['HourOfTheDay'] = df_tcap['HourCET/CEST'].dt.hour\n",
    "df_tcap['Weekday'] = df_tcap['HourCET/CEST'].dt.weekday \n",
    "df_tcap['Week'] = df_tcap['HourCET/CEST'].dt.isocalendar().week\n",
    "df_tcap['Month'] = df_tcap['HourCET/CEST'].dt.month\n",
    "df_tcap['Year'] = df_tcap['HourCET/CEST'].dt.year\n",
    "df_tcap = df_tcap[df_tcap['Year']==year]\n",
    "df_tcap['h'] = 1\n",
    "df_tcap['h'] = df_tcap.groupby(['g_E','g_EE'])['h'].cumsum()\n",
    "new_col_order = ['g_E','g_EE','HourUTC','HourCET/CEST','Year','Month','Week','Weekday','HourOfTheDay','h']+num_cols[0:-2]\n",
    "df_tcap = df_tcap[new_col_order].sort_values(new_col_order).reset_index(drop=True)"
   ]
  },
  {
   "cell_type": "markdown",
   "id": "bb814059-a8f0-421a-bdf2-420d5563d544",
   "metadata": {
    "tags": []
   },
   "source": [
    "Save the data as a pickle:"
   ]
  },
  {
   "cell_type": "code",
   "execution_count": 32,
   "id": "cf045bc1-4f65-4d8c-a437-5debe90f66c9",
   "metadata": {
    "tags": []
   },
   "outputs": [],
   "source": [
    "file_path = os.path.join(data_dir,'TransmissionCapacities_DK_'+str(year))\n",
    "df_tcap.to_pickle(file_path)"
   ]
  },
  {
   "cell_type": "markdown",
   "id": "fab7eb0e",
   "metadata": {},
   "source": [
    "---"
   ]
  },
  {
   "cell_type": "code",
   "execution_count": 33,
   "id": "a55b5489",
   "metadata": {},
   "outputs": [
    {
     "data": {
      "text/plain": [
       "'c:\\\\Users\\\\mpher\\\\Documents\\\\Uni\\\\Master\\\\02_Exchange\\\\01_Academics\\\\Energy Economics of the Green Transition\\\\EnergyEconomicsE2023\\\\DownloadDataForDK\\\\CleanedData\\\\TransmissionCapacities_DK_2022'"
      ]
     },
     "execution_count": 33,
     "metadata": {},
     "output_type": "execute_result"
    }
   ],
   "source": [
    "file_path"
   ]
  },
  {
   "cell_type": "code",
   "execution_count": 38,
   "id": "fd063ba9",
   "metadata": {},
   "outputs": [
    {
     "data": {
      "text/html": [
       "<div>\n",
       "<style scoped>\n",
       "    .dataframe tbody tr th:only-of-type {\n",
       "        vertical-align: middle;\n",
       "    }\n",
       "\n",
       "    .dataframe tbody tr th {\n",
       "        vertical-align: top;\n",
       "    }\n",
       "\n",
       "    .dataframe thead th {\n",
       "        text-align: right;\n",
       "    }\n",
       "</style>\n",
       "<table border=\"1\" class=\"dataframe\">\n",
       "  <thead>\n",
       "    <tr style=\"text-align: right;\">\n",
       "      <th></th>\n",
       "      <th>g_E</th>\n",
       "      <th>g_EE</th>\n",
       "      <th>HourUTC</th>\n",
       "      <th>HourCET/CEST</th>\n",
       "      <th>Year</th>\n",
       "      <th>Month</th>\n",
       "      <th>Week</th>\n",
       "      <th>Weekday</th>\n",
       "      <th>HourOfTheDay</th>\n",
       "      <th>h</th>\n",
       "      <th>ImportCapacity_MW</th>\n",
       "      <th>ExportCapacity_MW</th>\n",
       "      <th>Price_EUR/MWh_gE</th>\n",
       "      <th>Price_EUR/MWh_gEE</th>\n",
       "    </tr>\n",
       "  </thead>\n",
       "  <tbody>\n",
       "    <tr>\n",
       "      <th>0</th>\n",
       "      <td>DK1</td>\n",
       "      <td>DELU</td>\n",
       "      <td>2021-12-31 23:00:00+00:00</td>\n",
       "      <td>2022-01-01 00:00:00+01:00</td>\n",
       "      <td>2022</td>\n",
       "      <td>1</td>\n",
       "      <td>52</td>\n",
       "      <td>5</td>\n",
       "      <td>0</td>\n",
       "      <td>1</td>\n",
       "      <td>870.0</td>\n",
       "      <td>700.0</td>\n",
       "      <td>50.049999</td>\n",
       "      <td>50.049999</td>\n",
       "    </tr>\n",
       "    <tr>\n",
       "      <th>1</th>\n",
       "      <td>DK1</td>\n",
       "      <td>DELU</td>\n",
       "      <td>2022-01-01 00:00:00+00:00</td>\n",
       "      <td>2022-01-01 01:00:00+01:00</td>\n",
       "      <td>2022</td>\n",
       "      <td>1</td>\n",
       "      <td>52</td>\n",
       "      <td>5</td>\n",
       "      <td>1</td>\n",
       "      <td>2</td>\n",
       "      <td>870.0</td>\n",
       "      <td>700.0</td>\n",
       "      <td>41.330002</td>\n",
       "      <td>41.330002</td>\n",
       "    </tr>\n",
       "    <tr>\n",
       "      <th>2</th>\n",
       "      <td>DK1</td>\n",
       "      <td>DELU</td>\n",
       "      <td>2022-01-01 01:00:00+00:00</td>\n",
       "      <td>2022-01-01 02:00:00+01:00</td>\n",
       "      <td>2022</td>\n",
       "      <td>1</td>\n",
       "      <td>52</td>\n",
       "      <td>5</td>\n",
       "      <td>2</td>\n",
       "      <td>3</td>\n",
       "      <td>870.0</td>\n",
       "      <td>700.0</td>\n",
       "      <td>43.220001</td>\n",
       "      <td>43.220001</td>\n",
       "    </tr>\n",
       "    <tr>\n",
       "      <th>3</th>\n",
       "      <td>DK1</td>\n",
       "      <td>DELU</td>\n",
       "      <td>2022-01-01 02:00:00+00:00</td>\n",
       "      <td>2022-01-01 03:00:00+01:00</td>\n",
       "      <td>2022</td>\n",
       "      <td>1</td>\n",
       "      <td>52</td>\n",
       "      <td>5</td>\n",
       "      <td>3</td>\n",
       "      <td>4</td>\n",
       "      <td>870.0</td>\n",
       "      <td>700.0</td>\n",
       "      <td>45.459999</td>\n",
       "      <td>45.459999</td>\n",
       "    </tr>\n",
       "    <tr>\n",
       "      <th>4</th>\n",
       "      <td>DK1</td>\n",
       "      <td>DELU</td>\n",
       "      <td>2022-01-01 03:00:00+00:00</td>\n",
       "      <td>2022-01-01 04:00:00+01:00</td>\n",
       "      <td>2022</td>\n",
       "      <td>1</td>\n",
       "      <td>52</td>\n",
       "      <td>5</td>\n",
       "      <td>4</td>\n",
       "      <td>5</td>\n",
       "      <td>870.0</td>\n",
       "      <td>700.0</td>\n",
       "      <td>37.669998</td>\n",
       "      <td>37.669998</td>\n",
       "    </tr>\n",
       "  </tbody>\n",
       "</table>\n",
       "</div>"
      ],
      "text/plain": [
       "   g_E  g_EE                   HourUTC              HourCET/CEST  Year  Month  \\\n",
       "0  DK1  DELU 2021-12-31 23:00:00+00:00 2022-01-01 00:00:00+01:00  2022      1   \n",
       "1  DK1  DELU 2022-01-01 00:00:00+00:00 2022-01-01 01:00:00+01:00  2022      1   \n",
       "2  DK1  DELU 2022-01-01 01:00:00+00:00 2022-01-01 02:00:00+01:00  2022      1   \n",
       "3  DK1  DELU 2022-01-01 02:00:00+00:00 2022-01-01 03:00:00+01:00  2022      1   \n",
       "4  DK1  DELU 2022-01-01 03:00:00+00:00 2022-01-01 04:00:00+01:00  2022      1   \n",
       "\n",
       "   Week  Weekday  HourOfTheDay  h  ImportCapacity_MW  ExportCapacity_MW  \\\n",
       "0    52        5             0  1              870.0              700.0   \n",
       "1    52        5             1  2              870.0              700.0   \n",
       "2    52        5             2  3              870.0              700.0   \n",
       "3    52        5             3  4              870.0              700.0   \n",
       "4    52        5             4  5              870.0              700.0   \n",
       "\n",
       "   Price_EUR/MWh_gE  Price_EUR/MWh_gEE  \n",
       "0         50.049999          50.049999  \n",
       "1         41.330002          41.330002  \n",
       "2         43.220001          43.220001  \n",
       "3         45.459999          45.459999  \n",
       "4         37.669998          37.669998  "
      ]
     },
     "execution_count": 38,
     "metadata": {},
     "output_type": "execute_result"
    }
   ],
   "source": [
    "obj = pd.read_pickle(file_path)\n",
    "obj.head()"
   ]
  }
 ],
 "metadata": {
  "kernelspec": {
   "display_name": "Python 3 (ipykernel)",
   "language": "python",
   "name": "python3"
  },
  "language_info": {
   "codemirror_mode": {
    "name": "ipython",
    "version": 3
   },
   "file_extension": ".py",
   "mimetype": "text/x-python",
   "name": "python",
   "nbconvert_exporter": "python",
   "pygments_lexer": "ipython3",
   "version": "3.11.5"
  }
 },
 "nbformat": 4,
 "nbformat_minor": 5
}
