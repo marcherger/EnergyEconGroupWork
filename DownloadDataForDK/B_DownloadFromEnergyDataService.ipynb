{
 "cells": [
  {
   "cell_type": "markdown",
   "id": "a196289c-56f3-41ef-92db-138b66b3d5ff",
   "metadata": {
    "tags": []
   },
   "source": [
    "# How to downloade data from Energinet's Energy Data Service Platform"
   ]
  },
  {
   "cell_type": "markdown",
   "metadata": {},
   "source": [
    "`Note: As we disregard transmission, we do not run this jupyter notebook.`"
   ]
  },
  {
   "cell_type": "markdown",
   "id": "face30b4-4432-4c6e-9733-715d6c796677",
   "metadata": {},
   "source": [
    "In this notebook you will learn how to download data from the Danish TSO's data platform, [**https://www.energidataservice.dk/**](https://www.energidataservice.dk/). Compared to ENTSO-e's Transparency Platform they have more statistics but they are only provided for DK. In my experience, other TSOs do not provide such a comprehensive overview of the energy system, but if you are aware of data platforms, please feel free to share them on Absalon!\n",
    "\n",
    "We will be downloading hourly transmission capacities (both importing and exporting). As with generation capacities of technologies relying on intermittent energy sources, transmissions capacities also vary at the hourly frequency. The difference between the technical transfer capacity of transmission lines (Total Transfer Capacity, TTC) and the actual available capacity (Net Transfer Capacity, NTC) can occur for multiple\n",
    "reasons. The main reasons include variability of intermittent renewables, power plant outages, outages in the transmission lines themselves, and variation in load patterns. You can have a look at ENTSO-e’s user information on Net Transfer Capacities (NTC) here: [**https://eepublicdownloads.\n",
    "entsoe.eu/clean-documents/pre2015/ntc/entsoe_NTCusersInformation.pdf**](https://eepublicdownloads.entsoe.eu/clean-documents/pre2015/ntc/entsoe_NTCusersInformation.pdf).\n",
    "\n",
    "\n",
    "Before running the code make sure you have the **requests**-package installed in you conda environment. If not, this is easily installed by typing the following in your anaconda prompt:\n",
    "\n",
    "> `$conda activate Insert_You_Environment_Name`<br>\n",
    "> `$python -m pip install requests`"
   ]
  },
  {
   "cell_type": "markdown",
   "id": "47a4a668-b422-4829-8a6d-959145ce1524",
   "metadata": {
    "tags": []
   },
   "source": [
    "We start by importing a few packages:"
   ]
  },
  {
   "cell_type": "code",
   "execution_count": 1,
   "id": "c4d11ff8-798d-42a6-8ba0-f6a3865072f1",
   "metadata": {
    "tags": []
   },
   "outputs": [],
   "source": [
    "import pandas as pd, numpy as np, os, pickle, requests"
   ]
  },
  {
   "cell_type": "markdown",
   "id": "adfc8304-05b4-4277-95cb-a1e49b32f5a1",
   "metadata": {
    "tags": []
   },
   "source": [
    "Let's specify an output folder:"
   ]
  },
  {
   "cell_type": "code",
   "execution_count": 2,
   "id": "f511b2ef-7df5-42e7-bff6-39643d72b935",
   "metadata": {
    "tags": []
   },
   "outputs": [],
   "source": [
    "direc = os.getcwd()\n",
    "data_dir = os.path.join(direc,'CleanedData')"
   ]
  },
  {
   "cell_type": "markdown",
   "id": "535f04dc-57ed-41d2-9562-7594e301993d",
   "metadata": {},
   "source": [
    "Choose the year you want to collect data for (currently only one year is supported, but you can easily adopt the notebook to collect for multiple years):"
   ]
  },
  {
   "cell_type": "code",
   "execution_count": 3,
   "id": "563eee68-047f-47ec-99e0-46ac58f77cf7",
   "metadata": {
    "tags": []
   },
   "outputs": [],
   "source": [
    "year = 2019"
   ]
  },
  {
   "cell_type": "markdown",
   "id": "a752f05b-c3b4-43d4-a152-0d6dd9849cf9",
   "metadata": {
    "tags": []
   },
   "source": [
    "Given the chosen year, create choose the first and last hour of that year:"
   ]
  },
  {
   "cell_type": "code",
   "execution_count": 4,
   "id": "cf4a0cf1-36b5-4d96-938e-f03d2e5c2ab3",
   "metadata": {
    "tags": []
   },
   "outputs": [],
   "source": [
    "start_str, end_str = str(year)+'-01-01T00',str(year)+'-12-31T23', \n",
    "start_CET = pd.Timestamp(start_str,tz='Europe/Copenhagen'); start_UTC = start_CET.tz_convert('UTC')\n",
    "end_CET = pd.Timestamp(end_str,tz='Europe/Copenhagen'); end_UTC = end_CET.tz_convert('UTC')"
   ]
  },
  {
   "cell_type": "markdown",
   "id": "1a2365b8-5d61-46e5-bac6-6fa164a12d39",
   "metadata": {},
   "source": [
    "Download the transmission capacities using the API:"
   ]
  },
  {
   "cell_type": "code",
   "execution_count": 5,
   "id": "e6879697-a59e-4b84-b880-785fc64e2cd1",
   "metadata": {
    "tags": []
   },
   "outputs": [],
   "source": [
    "url = f\"https://api.energidataservice.dk/dataset/Transmissionlines/download?format=json&start={str(year)}-01-01T00:00&end={str(year+1)}-01-01T00:00&timezone=DK&limit=0\"\n",
    "r = requests.get(url)\n",
    "rawdata = r.json()"
   ]
  },
  {
   "cell_type": "markdown",
   "id": "9a2cbeeb-78c5-467d-90c3-cbb52cc20d3a",
   "metadata": {},
   "source": [
    "Subset data:"
   ]
  },
  {
   "cell_type": "code",
   "execution_count": 6,
   "id": "baf589a3-6932-4210-b956-d1ff50f1156f",
   "metadata": {
    "tags": []
   },
   "outputs": [],
   "source": [
    "variables = ['HourUTC','PriceArea','ConnectedArea','ImportCapacity','ExportCapacity','HomePriceEUR','ConnectedPriceEUR','CongestionIncomeEUR','ScheduledExchangeDayAhead']\n",
    "data = {var: [rawdata[i][var] for i in range(0,len(rawdata))] for var in variables}\n",
    "df_tcap = pd.DataFrame(data).rename(columns={\n",
    "    'PriceArea':'g_E','ConnectedArea':'g_EE',\n",
    "    'ImportCapacity':'ImportCapacity_MW','ExportCapacity':'ExportCapacity_MW',\n",
    "    'HomePriceEUR':'Price_EUR/MWh_gE','ConnectedPriceEUR':'Price_EUR/MWh_gEE'\n",
    "})"
   ]
  },
  {
   "cell_type": "markdown",
   "id": "9d0e41bf",
   "metadata": {},
   "source": [
    "---\n",
    "### `Data Description`"
   ]
  },
  {
   "cell_type": "code",
   "execution_count": 7,
   "metadata": {},
   "outputs": [
    {
     "name": "stdout",
     "output_type": "stream",
     "text": [
      "['DK1' 'DK2']\n",
      "['DE' 'DK2' 'NL' 'NO2' 'SE3' 'DK1' 'SE4']\n"
     ]
    }
   ],
   "source": [
    "print(df_tcap['g_E'].unique()) # unique price areas\n",
    "print(df_tcap['g_EE'].unique()) # unique connected areas"
   ]
  },
  {
   "cell_type": "code",
   "execution_count": 8,
   "id": "82224e52",
   "metadata": {},
   "outputs": [
    {
     "data": {
      "text/html": [
       "<div>\n",
       "<style scoped>\n",
       "    .dataframe tbody tr th:only-of-type {\n",
       "        vertical-align: middle;\n",
       "    }\n",
       "\n",
       "    .dataframe tbody tr th {\n",
       "        vertical-align: top;\n",
       "    }\n",
       "\n",
       "    .dataframe thead th {\n",
       "        text-align: right;\n",
       "    }\n",
       "</style>\n",
       "<table border=\"1\" class=\"dataframe\">\n",
       "  <thead>\n",
       "    <tr style=\"text-align: right;\">\n",
       "      <th></th>\n",
       "      <th>HourUTC</th>\n",
       "      <th>g_E</th>\n",
       "      <th>g_EE</th>\n",
       "      <th>ImportCapacity_MW</th>\n",
       "      <th>ExportCapacity_MW</th>\n",
       "      <th>Price_EUR/MWh_gE</th>\n",
       "      <th>Price_EUR/MWh_gEE</th>\n",
       "      <th>CongestionIncomeEUR</th>\n",
       "      <th>ScheduledExchangeDayAhead</th>\n",
       "    </tr>\n",
       "  </thead>\n",
       "  <tbody>\n",
       "    <tr>\n",
       "      <th>0</th>\n",
       "      <td>2019-12-31T22:00:00</td>\n",
       "      <td>DK1</td>\n",
       "      <td>DE</td>\n",
       "      <td>1500.0</td>\n",
       "      <td>-1350.0</td>\n",
       "      <td>32.279999</td>\n",
       "      <td>38.880001</td>\n",
       "      <td>0.0</td>\n",
       "      <td>-1350.0</td>\n",
       "    </tr>\n",
       "    <tr>\n",
       "      <th>1</th>\n",
       "      <td>2019-12-31T22:00:00</td>\n",
       "      <td>DK1</td>\n",
       "      <td>DK2</td>\n",
       "      <td>600.0</td>\n",
       "      <td>-590.0</td>\n",
       "      <td>32.279999</td>\n",
       "      <td>30.83</td>\n",
       "      <td>0.0</td>\n",
       "      <td>600.0</td>\n",
       "    </tr>\n",
       "    <tr>\n",
       "      <th>2</th>\n",
       "      <td>2019-12-31T22:00:00</td>\n",
       "      <td>DK1</td>\n",
       "      <td>NL</td>\n",
       "      <td>{'Data': None, 'UnityType': 2, 'AssemblyName':...</td>\n",
       "      <td>{'Data': None, 'UnityType': 2, 'AssemblyName':...</td>\n",
       "      <td>{'Data': None, 'UnityType': 2, 'AssemblyName':...</td>\n",
       "      <td>{'Data': None, 'UnityType': 2, 'AssemblyName':...</td>\n",
       "      <td>{'Data': None, 'UnityType': 2, 'AssemblyName':...</td>\n",
       "      <td>{'Data': None, 'UnityType': 2, 'AssemblyName':...</td>\n",
       "    </tr>\n",
       "    <tr>\n",
       "      <th>3</th>\n",
       "      <td>2019-12-31T22:00:00</td>\n",
       "      <td>DK1</td>\n",
       "      <td>NO2</td>\n",
       "      <td>850.0</td>\n",
       "      <td>-1287.0</td>\n",
       "      <td>32.279999</td>\n",
       "      <td>32.560001</td>\n",
       "      <td>0.0</td>\n",
       "      <td>-302.0</td>\n",
       "    </tr>\n",
       "    <tr>\n",
       "      <th>4</th>\n",
       "      <td>2019-12-31T22:00:00</td>\n",
       "      <td>DK1</td>\n",
       "      <td>SE3</td>\n",
       "      <td>715.0</td>\n",
       "      <td>-441.0</td>\n",
       "      <td>32.279999</td>\n",
       "      <td>30.83</td>\n",
       "      <td>0.0</td>\n",
       "      <td>715.0</td>\n",
       "    </tr>\n",
       "  </tbody>\n",
       "</table>\n",
       "</div>"
      ],
      "text/plain": [
       "               HourUTC  g_E g_EE  \\\n",
       "0  2019-12-31T22:00:00  DK1   DE   \n",
       "1  2019-12-31T22:00:00  DK1  DK2   \n",
       "2  2019-12-31T22:00:00  DK1   NL   \n",
       "3  2019-12-31T22:00:00  DK1  NO2   \n",
       "4  2019-12-31T22:00:00  DK1  SE3   \n",
       "\n",
       "                                   ImportCapacity_MW  \\\n",
       "0                                             1500.0   \n",
       "1                                              600.0   \n",
       "2  {'Data': None, 'UnityType': 2, 'AssemblyName':...   \n",
       "3                                              850.0   \n",
       "4                                              715.0   \n",
       "\n",
       "                                   ExportCapacity_MW  \\\n",
       "0                                            -1350.0   \n",
       "1                                             -590.0   \n",
       "2  {'Data': None, 'UnityType': 2, 'AssemblyName':...   \n",
       "3                                            -1287.0   \n",
       "4                                             -441.0   \n",
       "\n",
       "                                    Price_EUR/MWh_gE  \\\n",
       "0                                          32.279999   \n",
       "1                                          32.279999   \n",
       "2  {'Data': None, 'UnityType': 2, 'AssemblyName':...   \n",
       "3                                          32.279999   \n",
       "4                                          32.279999   \n",
       "\n",
       "                                   Price_EUR/MWh_gEE  \\\n",
       "0                                          38.880001   \n",
       "1                                              30.83   \n",
       "2  {'Data': None, 'UnityType': 2, 'AssemblyName':...   \n",
       "3                                          32.560001   \n",
       "4                                              30.83   \n",
       "\n",
       "                                 CongestionIncomeEUR  \\\n",
       "0                                                0.0   \n",
       "1                                                0.0   \n",
       "2  {'Data': None, 'UnityType': 2, 'AssemblyName':...   \n",
       "3                                                0.0   \n",
       "4                                                0.0   \n",
       "\n",
       "                           ScheduledExchangeDayAhead  \n",
       "0                                            -1350.0  \n",
       "1                                              600.0  \n",
       "2  {'Data': None, 'UnityType': 2, 'AssemblyName':...  \n",
       "3                                             -302.0  \n",
       "4                                              715.0  "
      ]
     },
     "execution_count": 8,
     "metadata": {},
     "output_type": "execute_result"
    }
   ],
   "source": [
    "df_tcap.head()"
   ]
  },
  {
   "cell_type": "code",
   "execution_count": 9,
   "id": "9b74525d",
   "metadata": {},
   "outputs": [
    {
     "name": "stdout",
     "output_type": "stream",
     "text": [
      "<class 'pandas.core.frame.DataFrame'>\n",
      "RangeIndex: 63929 entries, 0 to 63928\n",
      "Data columns (total 9 columns):\n",
      " #   Column                     Non-Null Count  Dtype \n",
      "---  ------                     --------------  ----- \n",
      " 0   HourUTC                    63929 non-null  object\n",
      " 1   g_E                        63929 non-null  object\n",
      " 2   g_EE                       63929 non-null  object\n",
      " 3   ImportCapacity_MW          63929 non-null  object\n",
      " 4   ExportCapacity_MW          63929 non-null  object\n",
      " 5   Price_EUR/MWh_gE           63929 non-null  object\n",
      " 6   Price_EUR/MWh_gEE          63929 non-null  object\n",
      " 7   CongestionIncomeEUR        63929 non-null  object\n",
      " 8   ScheduledExchangeDayAhead  63929 non-null  object\n",
      "dtypes: object(9)\n",
      "memory usage: 4.4+ MB\n"
     ]
    }
   ],
   "source": [
    "df_tcap.info()"
   ]
  },
  {
   "cell_type": "code",
   "execution_count": 10,
   "metadata": {},
   "outputs": [
    {
     "data": {
      "text/html": [
       "<div>\n",
       "<style scoped>\n",
       "    .dataframe tbody tr th:only-of-type {\n",
       "        vertical-align: middle;\n",
       "    }\n",
       "\n",
       "    .dataframe tbody tr th {\n",
       "        vertical-align: top;\n",
       "    }\n",
       "\n",
       "    .dataframe thead th {\n",
       "        text-align: right;\n",
       "    }\n",
       "</style>\n",
       "<table border=\"1\" class=\"dataframe\">\n",
       "  <thead>\n",
       "    <tr style=\"text-align: right;\">\n",
       "      <th></th>\n",
       "      <th>HourUTC</th>\n",
       "      <th>g_E</th>\n",
       "      <th>g_EE</th>\n",
       "      <th>ImportCapacity_MW</th>\n",
       "      <th>ExportCapacity_MW</th>\n",
       "      <th>Price_EUR/MWh_gE</th>\n",
       "      <th>Price_EUR/MWh_gEE</th>\n",
       "      <th>CongestionIncomeEUR</th>\n",
       "      <th>ScheduledExchangeDayAhead</th>\n",
       "    </tr>\n",
       "  </thead>\n",
       "  <tbody>\n",
       "    <tr>\n",
       "      <th>count</th>\n",
       "      <td>63929</td>\n",
       "      <td>63929</td>\n",
       "      <td>63929</td>\n",
       "      <td>63929.0</td>\n",
       "      <td>63929.0</td>\n",
       "      <td>63929</td>\n",
       "      <td>63929</td>\n",
       "      <td>63929.0</td>\n",
       "      <td>63929.0</td>\n",
       "    </tr>\n",
       "    <tr>\n",
       "      <th>unique</th>\n",
       "      <td>8759</td>\n",
       "      <td>2</td>\n",
       "      <td>7</td>\n",
       "      <td>92.0</td>\n",
       "      <td>1580.0</td>\n",
       "      <td>4058</td>\n",
       "      <td>4969</td>\n",
       "      <td>19145.0</td>\n",
       "      <td>16012.0</td>\n",
       "    </tr>\n",
       "    <tr>\n",
       "      <th>top</th>\n",
       "      <td>2019-12-31T22:00:00</td>\n",
       "      <td>DK1</td>\n",
       "      <td>DE</td>\n",
       "      <td>600.0</td>\n",
       "      <td>-600.0</td>\n",
       "      <td>{'Data': None, 'UnityType': 2, 'AssemblyName':...</td>\n",
       "      <td>{'Data': None, 'UnityType': 2, 'AssemblyName':...</td>\n",
       "      <td>0.0</td>\n",
       "      <td>0.0</td>\n",
       "    </tr>\n",
       "    <tr>\n",
       "      <th>freq</th>\n",
       "      <td>8</td>\n",
       "      <td>37652</td>\n",
       "      <td>17518</td>\n",
       "      <td>16985.0</td>\n",
       "      <td>8319.0</td>\n",
       "      <td>2616</td>\n",
       "      <td>2616</td>\n",
       "      <td>34254.0</td>\n",
       "      <td>7663.0</td>\n",
       "    </tr>\n",
       "  </tbody>\n",
       "</table>\n",
       "</div>"
      ],
      "text/plain": [
       "                    HourUTC    g_E   g_EE  ImportCapacity_MW  \\\n",
       "count                 63929  63929  63929            63929.0   \n",
       "unique                 8759      2      7               92.0   \n",
       "top     2019-12-31T22:00:00    DK1     DE              600.0   \n",
       "freq                      8  37652  17518            16985.0   \n",
       "\n",
       "        ExportCapacity_MW                                   Price_EUR/MWh_gE  \\\n",
       "count             63929.0                                              63929   \n",
       "unique             1580.0                                               4058   \n",
       "top                -600.0  {'Data': None, 'UnityType': 2, 'AssemblyName':...   \n",
       "freq               8319.0                                               2616   \n",
       "\n",
       "                                        Price_EUR/MWh_gEE  \\\n",
       "count                                               63929   \n",
       "unique                                               4969   \n",
       "top     {'Data': None, 'UnityType': 2, 'AssemblyName':...   \n",
       "freq                                                 2616   \n",
       "\n",
       "        CongestionIncomeEUR  ScheduledExchangeDayAhead  \n",
       "count               63929.0                    63929.0  \n",
       "unique              19145.0                    16012.0  \n",
       "top                     0.0                        0.0  \n",
       "freq                34254.0                     7663.0  "
      ]
     },
     "execution_count": 10,
     "metadata": {},
     "output_type": "execute_result"
    }
   ],
   "source": [
    "df_tcap.describe()"
   ]
  },
  {
   "cell_type": "markdown",
   "id": "1b47648a",
   "metadata": {},
   "source": [
    "\n",
    "---"
   ]
  },
  {
   "cell_type": "markdown",
   "id": "a7c4d58d-f06b-466d-b395-cb78719b0d3c",
   "metadata": {
    "tags": []
   },
   "source": [
    "Drop NL because it is weird:\n",
    "\n",
    "`We are interested in the interconnection between DK1-DK2 only. So NL does not matter.`"
   ]
  },
  {
   "cell_type": "code",
   "execution_count": 7,
   "id": "0105e0f1-9558-4fb0-8a87-20a22dba85af",
   "metadata": {
    "tags": []
   },
   "outputs": [],
   "source": [
    "# df_tcap = df_tcap[df_tcap['g_EE']!='NL']"
   ]
  },
  {
   "cell_type": "markdown",
   "id": "2577e11a-5503-4e47-91fa-8a4575dc377f",
   "metadata": {
    "tags": []
   },
   "source": [
    "Correct datatime format:"
   ]
  },
  {
   "cell_type": "code",
   "execution_count": 11,
   "id": "95d637e4-c63c-40f1-af10-410109951385",
   "metadata": {
    "tags": []
   },
   "outputs": [],
   "source": [
    "df_tcap['HourUTC'] = pd.to_datetime(df_tcap['HourUTC'].str.replace('T',' '),utc=True)\n",
    "df_tcap['HourCET/CEST'] = df_tcap['HourUTC'].dt.tz_convert('Europe/Brussels')"
   ]
  },
  {
   "cell_type": "markdown",
   "id": "2db75733-07bd-47a1-8a39-e2e066466961",
   "metadata": {
    "tags": []
   },
   "source": [
    "Format float columns and insert nans where there are dictionaries:"
   ]
  },
  {
   "cell_type": "code",
   "execution_count": 12,
   "id": "3f656a53-5371-408b-9bfa-a8c1cd1824c2",
   "metadata": {
    "tags": []
   },
   "outputs": [],
   "source": [
    "num_cols = ['ImportCapacity_MW','ExportCapacity_MW','Price_EUR/MWh_gE','Price_EUR/MWh_gEE','CongestionIncomeEUR','ScheduledExchangeDayAhead']\n",
    "is_dict = df_tcap[num_cols].transform(lambda x: x.apply(type).eq(dict))\n",
    "for col in [x for x,y in zip(is_dict.columns,is_dict.any()) if y]:\n",
    "    df_tcap.loc[is_dict[col],col] = np.nan\n",
    "df_tcap[num_cols] = df_tcap[num_cols].astype(float)\n",
    "df_tcap['ExportCapacity_MW'] = df_tcap['ExportCapacity_MW'].abs() # abs(): For each value in the 'ExportCapacity_MW' column, it takes the absolute value, to ensure that all values in the column are non-negative."
   ]
  },
  {
   "cell_type": "markdown",
   "id": "a8ce2512-4305-4a98-bd08-ffb9042810c5",
   "metadata": {
    "tags": []
   },
   "source": [
    "Impute domestic prices if they are not available in some hours:\n",
    "\n",
    "`Imputation by mean.`"
   ]
  },
  {
   "cell_type": "code",
   "execution_count": 13,
   "id": "dd86dce0-3268-41b3-a10e-d49cd1b77720",
   "metadata": {
    "tags": []
   },
   "outputs": [],
   "source": [
    "idx = df_tcap['Price_EUR/MWh_gE'].isna()\n",
    "df_tcap.loc[idx,'Price_EUR/MWh_gE'] = df_tcap.groupby(['HourUTC','g_E'])['Price_EUR/MWh_gE'].transform('mean')[idx]"
   ]
  },
  {
   "cell_type": "markdown",
   "id": "e536cb84-1dfa-4173-a2af-cbb71e1bac4c",
   "metadata": {
    "tags": []
   },
   "source": [
    "Assume missing capacities are at zero:"
   ]
  },
  {
   "cell_type": "code",
   "execution_count": 14,
   "id": "3306771e-b797-4105-aea6-c803f6789c32",
   "metadata": {
    "tags": []
   },
   "outputs": [],
   "source": [
    "df_tcap['ImportCapacity_MW'] = df_tcap['ImportCapacity_MW'].fillna(0)\n",
    "df_tcap['ExportCapacity_MW'] = df_tcap['ExportCapacity_MW'].fillna(0)"
   ]
  },
  {
   "cell_type": "markdown",
   "id": "778d8197-0bbb-4b98-9811-fb601fe14594",
   "metadata": {
    "tags": []
   },
   "source": [
    "Assume congestion income is zero if missing:"
   ]
  },
  {
   "cell_type": "code",
   "execution_count": 15,
   "id": "1b24e331-e3ea-44a6-b419-78242c20bba9",
   "metadata": {
    "tags": []
   },
   "outputs": [],
   "source": [
    "df_tcap['CongestionIncomeEUR'] = df_tcap['CongestionIncomeEUR'].fillna(0)"
   ]
  },
  {
   "cell_type": "markdown",
   "id": "22839651-00e8-480d-b575-884667fc4c90",
   "metadata": {
    "tags": []
   },
   "source": [
    "Import foreign electricity price if missing:"
   ]
  },
  {
   "cell_type": "code",
   "execution_count": 16,
   "id": "e73f12e1-4135-4e56-98bf-c986b3864e2f",
   "metadata": {
    "tags": []
   },
   "outputs": [],
   "source": [
    "idx = df_tcap['Price_EUR/MWh_gEE'].isna()\n",
    "# If conegestion income is zero\n",
    "idx_tmp = (idx) & (np.isclose(df_tcap['CongestionIncomeEUR'],0))\n",
    "df_tcap.loc[idx_tmp,'Price_EUR/MWh_gEE'] = df_tcap.loc[idx_tmp,'Price_EUR/MWh_gE']\n",
    "# If congestion income is not zero and DK is exporting:\n",
    "idx_tmp = (idx) & (~np.isclose(df_tcap['CongestionIncomeEUR'],0)) & (df_tcap['ScheduledExchangeDayAhead']<0)\n",
    "df_tcap.loc[idx_tmp,'Price_EUR/MWh_gEE'] = df_tcap.loc[idx_tmp,'Price_EUR/MWh_gE']+df_tcap.loc[idx_tmp,'CongestionIncomeEUR']/df_tcap.loc[idx_tmp,'ScheduledExchangeDayAhead'].abs()\n",
    "# If congestion income is not zero and DK is importing:\n",
    "idx_tmp = (idx) & (~np.isclose(df_tcap['CongestionIncomeEUR'],0)) & (df_tcap['ScheduledExchangeDayAhead']>0)\n",
    "df_tcap.loc[idx_tmp,'Price_EUR/MWh_gEE'] = df_tcap.loc[idx_tmp,'Price_EUR/MWh_gE']-df_tcap.loc[idx_tmp,'CongestionIncomeEUR']/df_tcap.loc[idx_tmp,'ScheduledExchangeDayAhead']\n",
    "df_tcap.drop(columns=['CongestionIncomeEUR','ScheduledExchangeDayAhead'],inplace=True)"
   ]
  },
  {
   "cell_type": "markdown",
   "id": "988a2f9f-f0d5-4317-baa8-31cada5ccede",
   "metadata": {
    "tags": []
   },
   "source": [
    "Aggregate hour domestic electricity areas:"
   ]
  },
  {
   "cell_type": "code",
   "execution_count": 17,
   "id": "038060e4-3ba0-401c-8e28-bdaa89dd2f54",
   "metadata": {
    "tags": []
   },
   "outputs": [],
   "source": [
    "df_tcap[['g_E','g_EE']] = df_tcap[['g_E','g_EE']].replace({'DK1':'DK1','DK2':'DK2','DE':'DELU'})\n",
    "df_tcap = df_tcap.groupby(['g_E','g_EE','HourUTC','HourCET/CEST'])[num_cols[0:-2]].agg({\n",
    "    'ImportCapacity_MW':'sum',\n",
    "    'ExportCapacity_MW':'sum',\n",
    "    'Price_EUR/MWh_gE':'mean',\n",
    "    'Price_EUR/MWh_gEE':'mean'\n",
    "}).reset_index()\n",
    "# Remoce connections that have been aggregated out\n",
    "idx = (df_tcap['g_E']=='DK') & (df_tcap['g_EE']=='DK')\n",
    "df_tcap = df_tcap[~(idx)]"
   ]
  },
  {
   "cell_type": "markdown",
   "id": "ad5f822d-3857-4c71-9b5d-6827ae64c889",
   "metadata": {
    "tags": []
   },
   "source": [
    "Add some helpfull variables:"
   ]
  },
  {
   "cell_type": "code",
   "execution_count": 18,
   "id": "84cd026b-2298-49d2-8ebe-0e6d4328775f",
   "metadata": {
    "tags": []
   },
   "outputs": [],
   "source": [
    "df_tcap['HourOfTheDay'] = df_tcap['HourCET/CEST'].dt.hour\n",
    "df_tcap['Weekday'] = df_tcap['HourCET/CEST'].dt.weekday \n",
    "df_tcap['Week'] = df_tcap['HourCET/CEST'].dt.isocalendar().week\n",
    "df_tcap['Month'] = df_tcap['HourCET/CEST'].dt.month\n",
    "df_tcap['Year'] = df_tcap['HourCET/CEST'].dt.year\n",
    "df_tcap = df_tcap[df_tcap['Year']==year]\n",
    "df_tcap['h'] = 1\n",
    "df_tcap['h'] = df_tcap.groupby(['g_E','g_EE'])['h'].cumsum()\n",
    "new_col_order = ['g_E','g_EE','HourUTC','HourCET/CEST','Year','Month','Week','Weekday','HourOfTheDay','h']+num_cols[0:-2]\n",
    "df_tcap = df_tcap[new_col_order].sort_values(new_col_order).reset_index(drop=True)"
   ]
  },
  {
   "cell_type": "markdown",
   "metadata": {},
   "source": [
    "`Check dataset once more`"
   ]
  },
  {
   "cell_type": "code",
   "execution_count": 19,
   "metadata": {},
   "outputs": [
    {
     "data": {
      "text/html": [
       "<div>\n",
       "<style scoped>\n",
       "    .dataframe tbody tr th:only-of-type {\n",
       "        vertical-align: middle;\n",
       "    }\n",
       "\n",
       "    .dataframe tbody tr th {\n",
       "        vertical-align: top;\n",
       "    }\n",
       "\n",
       "    .dataframe thead th {\n",
       "        text-align: right;\n",
       "    }\n",
       "</style>\n",
       "<table border=\"1\" class=\"dataframe\">\n",
       "  <thead>\n",
       "    <tr style=\"text-align: right;\">\n",
       "      <th></th>\n",
       "      <th>g_E</th>\n",
       "      <th>g_EE</th>\n",
       "      <th>HourUTC</th>\n",
       "      <th>HourCET/CEST</th>\n",
       "      <th>Year</th>\n",
       "      <th>Month</th>\n",
       "      <th>Week</th>\n",
       "      <th>Weekday</th>\n",
       "      <th>HourOfTheDay</th>\n",
       "      <th>h</th>\n",
       "      <th>ImportCapacity_MW</th>\n",
       "      <th>ExportCapacity_MW</th>\n",
       "      <th>Price_EUR/MWh_gE</th>\n",
       "      <th>Price_EUR/MWh_gEE</th>\n",
       "    </tr>\n",
       "  </thead>\n",
       "  <tbody>\n",
       "    <tr>\n",
       "      <th>0</th>\n",
       "      <td>DK1</td>\n",
       "      <td>DELU</td>\n",
       "      <td>2018-12-31 23:00:00+00:00</td>\n",
       "      <td>2019-01-01 00:00:00+01:00</td>\n",
       "      <td>2019</td>\n",
       "      <td>1</td>\n",
       "      <td>1</td>\n",
       "      <td>1</td>\n",
       "      <td>0</td>\n",
       "      <td>1</td>\n",
       "      <td>1500.0</td>\n",
       "      <td>900.0</td>\n",
       "      <td>28.32</td>\n",
       "      <td>4.16</td>\n",
       "    </tr>\n",
       "    <tr>\n",
       "      <th>1</th>\n",
       "      <td>DK1</td>\n",
       "      <td>DELU</td>\n",
       "      <td>2019-01-01 00:00:00+00:00</td>\n",
       "      <td>2019-01-01 01:00:00+01:00</td>\n",
       "      <td>2019</td>\n",
       "      <td>1</td>\n",
       "      <td>1</td>\n",
       "      <td>1</td>\n",
       "      <td>1</td>\n",
       "      <td>2</td>\n",
       "      <td>1500.0</td>\n",
       "      <td>900.0</td>\n",
       "      <td>10.07</td>\n",
       "      <td>0.06</td>\n",
       "    </tr>\n",
       "    <tr>\n",
       "      <th>2</th>\n",
       "      <td>DK1</td>\n",
       "      <td>DELU</td>\n",
       "      <td>2019-01-01 01:00:00+00:00</td>\n",
       "      <td>2019-01-01 02:00:00+01:00</td>\n",
       "      <td>2019</td>\n",
       "      <td>1</td>\n",
       "      <td>1</td>\n",
       "      <td>1</td>\n",
       "      <td>2</td>\n",
       "      <td>3</td>\n",
       "      <td>1500.0</td>\n",
       "      <td>900.0</td>\n",
       "      <td>-4.08</td>\n",
       "      <td>-4.97</td>\n",
       "    </tr>\n",
       "    <tr>\n",
       "      <th>3</th>\n",
       "      <td>DK1</td>\n",
       "      <td>DELU</td>\n",
       "      <td>2019-01-01 02:00:00+00:00</td>\n",
       "      <td>2019-01-01 03:00:00+01:00</td>\n",
       "      <td>2019</td>\n",
       "      <td>1</td>\n",
       "      <td>1</td>\n",
       "      <td>1</td>\n",
       "      <td>3</td>\n",
       "      <td>4</td>\n",
       "      <td>1500.0</td>\n",
       "      <td>900.0</td>\n",
       "      <td>-9.91</td>\n",
       "      <td>-7.17</td>\n",
       "    </tr>\n",
       "    <tr>\n",
       "      <th>4</th>\n",
       "      <td>DK1</td>\n",
       "      <td>DELU</td>\n",
       "      <td>2019-01-01 03:00:00+00:00</td>\n",
       "      <td>2019-01-01 04:00:00+01:00</td>\n",
       "      <td>2019</td>\n",
       "      <td>1</td>\n",
       "      <td>1</td>\n",
       "      <td>1</td>\n",
       "      <td>4</td>\n",
       "      <td>5</td>\n",
       "      <td>1500.0</td>\n",
       "      <td>900.0</td>\n",
       "      <td>-7.41</td>\n",
       "      <td>0.07</td>\n",
       "    </tr>\n",
       "  </tbody>\n",
       "</table>\n",
       "</div>"
      ],
      "text/plain": [
       "   g_E  g_EE                   HourUTC              HourCET/CEST  Year  Month  \\\n",
       "0  DK1  DELU 2018-12-31 23:00:00+00:00 2019-01-01 00:00:00+01:00  2019      1   \n",
       "1  DK1  DELU 2019-01-01 00:00:00+00:00 2019-01-01 01:00:00+01:00  2019      1   \n",
       "2  DK1  DELU 2019-01-01 01:00:00+00:00 2019-01-01 02:00:00+01:00  2019      1   \n",
       "3  DK1  DELU 2019-01-01 02:00:00+00:00 2019-01-01 03:00:00+01:00  2019      1   \n",
       "4  DK1  DELU 2019-01-01 03:00:00+00:00 2019-01-01 04:00:00+01:00  2019      1   \n",
       "\n",
       "   Week  Weekday  HourOfTheDay  h  ImportCapacity_MW  ExportCapacity_MW  \\\n",
       "0     1        1             0  1             1500.0              900.0   \n",
       "1     1        1             1  2             1500.0              900.0   \n",
       "2     1        1             2  3             1500.0              900.0   \n",
       "3     1        1             3  4             1500.0              900.0   \n",
       "4     1        1             4  5             1500.0              900.0   \n",
       "\n",
       "   Price_EUR/MWh_gE  Price_EUR/MWh_gEE  \n",
       "0             28.32               4.16  \n",
       "1             10.07               0.06  \n",
       "2             -4.08              -4.97  \n",
       "3             -9.91              -7.17  \n",
       "4             -7.41               0.07  "
      ]
     },
     "execution_count": 19,
     "metadata": {},
     "output_type": "execute_result"
    }
   ],
   "source": [
    "df_tcap.head()"
   ]
  },
  {
   "cell_type": "markdown",
   "id": "bb814059-a8f0-421a-bdf2-420d5563d544",
   "metadata": {
    "tags": []
   },
   "source": [
    "Save the data as a pickle:"
   ]
  },
  {
   "cell_type": "code",
   "execution_count": 20,
   "id": "cf045bc1-4f65-4d8c-a437-5debe90f66c9",
   "metadata": {
    "tags": []
   },
   "outputs": [],
   "source": [
    "file_path = os.path.join(data_dir,'TransmissionCapacities_DK_'+str(year))\n",
    "df_tcap.to_pickle(file_path)"
   ]
  }
 ],
 "metadata": {
  "kernelspec": {
   "display_name": "Python 3 (ipykernel)",
   "language": "python",
   "name": "python3"
  },
  "language_info": {
   "codemirror_mode": {
    "name": "ipython",
    "version": 3
   },
   "file_extension": ".py",
   "mimetype": "text/x-python",
   "name": "python",
   "nbconvert_exporter": "python",
   "pygments_lexer": "ipython3",
   "version": "3.11.3"
  }
 },
 "nbformat": 4,
 "nbformat_minor": 5
}
