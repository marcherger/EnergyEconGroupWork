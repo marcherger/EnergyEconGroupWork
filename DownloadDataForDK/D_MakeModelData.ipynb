{
 "cells": [
  {
   "cell_type": "code",
   "execution_count": 1,
   "id": "a25df18d-9b7a-448b-8b22-f01e5b868b54",
   "metadata": {
    "tags": []
   },
   "outputs": [],
   "source": [
    "import pandas as pd, numpy as np, os, sqlite3 as db3\n",
    "from matplotlib import pyplot as plt\n",
    "from py.tobit import *"
   ]
  },
  {
   "cell_type": "markdown",
   "id": "1db7136d-c011-4eb8-9529-b34645f99121",
   "metadata": {
    "tags": []
   },
   "source": [
    "Let's specify an output folder:"
   ]
  },
  {
   "cell_type": "code",
   "execution_count": 2,
   "id": "2c3717a1-f7b8-4635-bb70-c230119f4d9f",
   "metadata": {
    "tags": []
   },
   "outputs": [],
   "source": [
    "direc = os.getcwd()\n",
    "data_dir = os.path.join(direc,'CleanedData')"
   ]
  },
  {
   "cell_type": "markdown",
   "id": "08cbefb5-b3c2-4472-8987-d33c067f5312",
   "metadata": {},
   "source": [
    "## Electricity Demand"
   ]
  },
  {
   "cell_type": "markdown",
   "id": "54e36fa7-af38-42c1-b07a-fb39fc4d8d7f",
   "metadata": {
    "tags": []
   },
   "source": [
    "Get demand:"
   ]
  },
  {
   "cell_type": "code",
   "execution_count": 3,
   "id": "167cecff-f40f-4b25-b4fa-4dabd4c5f78f",
   "metadata": {
    "tags": []
   },
   "outputs": [],
   "source": [
    "df_demand = pd.read_pickle(os.path.join(data_dir,'Load_DK1DK2_2019'))"
   ]
  },
  {
   "cell_type": "markdown",
   "metadata": {},
   "source": [
    "`Inspect df_demand`"
   ]
  },
  {
   "cell_type": "code",
   "execution_count": 4,
   "metadata": {},
   "outputs": [
    {
     "data": {
      "text/html": [
       "<div>\n",
       "<style scoped>\n",
       "    .dataframe tbody tr th:only-of-type {\n",
       "        vertical-align: middle;\n",
       "    }\n",
       "\n",
       "    .dataframe tbody tr th {\n",
       "        vertical-align: top;\n",
       "    }\n",
       "\n",
       "    .dataframe thead th {\n",
       "        text-align: right;\n",
       "    }\n",
       "</style>\n",
       "<table border=\"1\" class=\"dataframe\">\n",
       "  <thead>\n",
       "    <tr style=\"text-align: right;\">\n",
       "      <th></th>\n",
       "      <th>g_E</th>\n",
       "      <th>HourUTC</th>\n",
       "      <th>HourCET/CEST</th>\n",
       "      <th>Month</th>\n",
       "      <th>Week</th>\n",
       "      <th>Weekday</th>\n",
       "      <th>HourOfTheDay</th>\n",
       "      <th>h</th>\n",
       "      <th>ForecastedLoad_MWh</th>\n",
       "      <th>ActualLoad_MWh</th>\n",
       "    </tr>\n",
       "  </thead>\n",
       "  <tbody>\n",
       "    <tr>\n",
       "      <th>0</th>\n",
       "      <td>DK1</td>\n",
       "      <td>2018-12-31 23:00:00+00:00</td>\n",
       "      <td>2019-01-01 00:00:00+01:00</td>\n",
       "      <td>1</td>\n",
       "      <td>1</td>\n",
       "      <td>1</td>\n",
       "      <td>0</td>\n",
       "      <td>1</td>\n",
       "      <td>1857.0</td>\n",
       "      <td>1898.0</td>\n",
       "    </tr>\n",
       "    <tr>\n",
       "      <th>1</th>\n",
       "      <td>DK1</td>\n",
       "      <td>2019-01-01 00:00:00+00:00</td>\n",
       "      <td>2019-01-01 01:00:00+01:00</td>\n",
       "      <td>1</td>\n",
       "      <td>1</td>\n",
       "      <td>1</td>\n",
       "      <td>1</td>\n",
       "      <td>2</td>\n",
       "      <td>1819.0</td>\n",
       "      <td>1838.0</td>\n",
       "    </tr>\n",
       "    <tr>\n",
       "      <th>2</th>\n",
       "      <td>DK1</td>\n",
       "      <td>2019-01-01 01:00:00+00:00</td>\n",
       "      <td>2019-01-01 02:00:00+01:00</td>\n",
       "      <td>1</td>\n",
       "      <td>1</td>\n",
       "      <td>1</td>\n",
       "      <td>2</td>\n",
       "      <td>3</td>\n",
       "      <td>1755.0</td>\n",
       "      <td>1779.0</td>\n",
       "    </tr>\n",
       "    <tr>\n",
       "      <th>3</th>\n",
       "      <td>DK1</td>\n",
       "      <td>2019-01-01 02:00:00+00:00</td>\n",
       "      <td>2019-01-01 03:00:00+01:00</td>\n",
       "      <td>1</td>\n",
       "      <td>1</td>\n",
       "      <td>1</td>\n",
       "      <td>3</td>\n",
       "      <td>4</td>\n",
       "      <td>1709.0</td>\n",
       "      <td>1726.0</td>\n",
       "    </tr>\n",
       "    <tr>\n",
       "      <th>4</th>\n",
       "      <td>DK1</td>\n",
       "      <td>2019-01-01 03:00:00+00:00</td>\n",
       "      <td>2019-01-01 04:00:00+01:00</td>\n",
       "      <td>1</td>\n",
       "      <td>1</td>\n",
       "      <td>1</td>\n",
       "      <td>4</td>\n",
       "      <td>5</td>\n",
       "      <td>1685.0</td>\n",
       "      <td>1710.0</td>\n",
       "    </tr>\n",
       "  </tbody>\n",
       "</table>\n",
       "</div>"
      ],
      "text/plain": [
       "   g_E                   HourUTC              HourCET/CEST  Month  Week  \\\n",
       "0  DK1 2018-12-31 23:00:00+00:00 2019-01-01 00:00:00+01:00      1     1   \n",
       "1  DK1 2019-01-01 00:00:00+00:00 2019-01-01 01:00:00+01:00      1     1   \n",
       "2  DK1 2019-01-01 01:00:00+00:00 2019-01-01 02:00:00+01:00      1     1   \n",
       "3  DK1 2019-01-01 02:00:00+00:00 2019-01-01 03:00:00+01:00      1     1   \n",
       "4  DK1 2019-01-01 03:00:00+00:00 2019-01-01 04:00:00+01:00      1     1   \n",
       "\n",
       "   Weekday  HourOfTheDay  h  ForecastedLoad_MWh  ActualLoad_MWh  \n",
       "0        1             0  1              1857.0          1898.0  \n",
       "1        1             1  2              1819.0          1838.0  \n",
       "2        1             2  3              1755.0          1779.0  \n",
       "3        1             3  4              1709.0          1726.0  \n",
       "4        1             4  5              1685.0          1710.0  "
      ]
     },
     "execution_count": 4,
     "metadata": {},
     "output_type": "execute_result"
    }
   ],
   "source": [
    "df_demand.head()"
   ]
  },
  {
   "cell_type": "markdown",
   "id": "aa3d43f8-e0fb-4d87-b56d-86e2c3db0f7b",
   "metadata": {
    "tags": []
   },
   "source": [
    "Get areas:"
   ]
  },
  {
   "cell_type": "code",
   "execution_count": 5,
   "id": "9cd1d9e7-c460-4be5-b9a1-ad796a6755e2",
   "metadata": {
    "tags": []
   },
   "outputs": [
    {
     "name": "stdout",
     "output_type": "stream",
     "text": [
      "['DK1', 'DK2']\n"
     ]
    }
   ],
   "source": [
    "g_area = df_demand['g_E'].unique().tolist()\n",
    "print(g_area) # to check that our df_demand was built correctly"
   ]
  },
  {
   "cell_type": "markdown",
   "id": "f25feffb-f055-46fa-ad6e-11efbd6c740d",
   "metadata": {
    "tags": []
   },
   "source": [
    "Estimate hourly variation in demand:"
   ]
  },
  {
   "cell_type": "code",
   "execution_count": 6,
   "id": "569ef763-98c0-4903-9aab-65da20db0ed8",
   "metadata": {
    "tags": []
   },
   "outputs": [],
   "source": [
    "# Make X and y variables:\n",
    "xvar, yvar = ['intercept','ForecastedLoad_MWh'], 'ActualLoad_MWh'\n",
    "d_yhat = {}\n",
    "for g in g_area:\n",
    "    idx_g = df_demand['g_E']==g\n",
    "    df_tmp = df_demand[idx_g].copy()\n",
    "    idx = df_tmp[xvar[1:]+[yvar]].isna().any(axis=1)\n",
    "    X, y = df_tmp.assign(intercept=1.0).loc[~idx,xvar].values,df_tmp.loc[~idx,[yvar]].values\n",
    "    # Make OLS estimator:\n",
    "    β_hat = np.matmul(np.linalg.inv(np.matmul(np.transpose(X),X)),np.matmul(np.transpose(X),y)) # formula OLS estimator: (X'X)^-1 X'y\n",
    "    # Make predicted load given β_hat\n",
    "    d_yhat[g] = pd.Series(np.matmul(df_tmp.assign(intercept=1.0)[xvar].values,β_hat).flatten(),index=pd.MultiIndex.from_product([['_'.join(['c',g])],df_tmp['h'].tolist()],names=['c_E','h']),name='LoadVariation_E')\n",
    "\n",
    "y_hat = pd.concat([d_yhat[g] for g in d_yhat.keys()],axis=0)"
   ]
  },
  {
   "cell_type": "markdown",
   "id": "1b48747b-7e64-42e6-ae51-8bac7fb0f707",
   "metadata": {},
   "source": [
    "Now calculate total yearly demand and share of hourly demand:"
   ]
  },
  {
   "cell_type": "code",
   "execution_count": 7,
   "id": "c9b69629-0d3f-4126-aea5-880669028feb",
   "metadata": {
    "tags": []
   },
   "outputs": [],
   "source": [
    "Load_E = y_hat.groupby('c_E').sum().rename('Load_E')\n",
    "LoadVariation_E = y_hat.div(Load_E).rename('LoadVariation_E')"
   ]
  },
  {
   "cell_type": "markdown",
   "id": "008fbd6e-a8a5-42b6-bded-28653a65062e",
   "metadata": {
    "tags": []
   },
   "source": [
    "Download marginal prices:"
   ]
  },
  {
   "cell_type": "code",
   "execution_count": 8,
   "id": "f20386fd-3447-445d-bce5-063949c10b76",
   "metadata": {
    "tags": []
   },
   "outputs": [],
   "source": [
    "df_prices = pd.read_pickle(os.path.join(data_dir,'SpotPrices_DELUDK1DK2NLNO2SE3SE4_2019'))"
   ]
  },
  {
   "cell_type": "markdown",
   "id": "05a52ff3-aa35-4057-9cd1-7c00fbc930a2",
   "metadata": {},
   "source": [
    "Drop DK prices:"
   ]
  },
  {
   "cell_type": "code",
   "execution_count": 9,
   "id": "828d27ec-b509-4ef3-b4ef-e2b5edf25168",
   "metadata": {
    "tags": []
   },
   "outputs": [],
   "source": [
    "df_prices = df_prices[df_prices['g_E'].str.find('DK')==-1]"
   ]
  },
  {
   "cell_type": "markdown",
   "id": "2123229f-647b-47ee-83ea-2667b3cb4c7d",
   "metadata": {
    "tags": []
   },
   "source": [
    "We need to map the countries to the correct areas; we therefore download mappings of interconnectors:"
   ]
  },
  {
   "cell_type": "code",
   "execution_count": 10,
   "id": "003f6deb-058f-4767-8dc1-7c98d39559bc",
   "metadata": {
    "tags": []
   },
   "outputs": [],
   "source": [
    "df_ic = pd.read_pickle(os.path.join(data_dir,'TransmissionCapacities_DK_2019'))[['g_E','g_EE']].drop_duplicates()"
   ]
  },
  {
   "cell_type": "markdown",
   "metadata": {},
   "source": [
    "`Inspect df_ic`"
   ]
  },
  {
   "cell_type": "code",
   "execution_count": 11,
   "metadata": {},
   "outputs": [
    {
     "data": {
      "text/html": [
       "<div>\n",
       "<style scoped>\n",
       "    .dataframe tbody tr th:only-of-type {\n",
       "        vertical-align: middle;\n",
       "    }\n",
       "\n",
       "    .dataframe tbody tr th {\n",
       "        vertical-align: top;\n",
       "    }\n",
       "\n",
       "    .dataframe thead th {\n",
       "        text-align: right;\n",
       "    }\n",
       "</style>\n",
       "<table border=\"1\" class=\"dataframe\">\n",
       "  <thead>\n",
       "    <tr style=\"text-align: right;\">\n",
       "      <th></th>\n",
       "      <th>g_E</th>\n",
       "      <th>g_EE</th>\n",
       "    </tr>\n",
       "  </thead>\n",
       "  <tbody>\n",
       "    <tr>\n",
       "      <th>0</th>\n",
       "      <td>DK1</td>\n",
       "      <td>DELU</td>\n",
       "    </tr>\n",
       "    <tr>\n",
       "      <th>8759</th>\n",
       "      <td>DK1</td>\n",
       "      <td>DK2</td>\n",
       "    </tr>\n",
       "    <tr>\n",
       "      <th>17518</th>\n",
       "      <td>DK1</td>\n",
       "      <td>NL</td>\n",
       "    </tr>\n",
       "    <tr>\n",
       "      <th>20134</th>\n",
       "      <td>DK1</td>\n",
       "      <td>NO2</td>\n",
       "    </tr>\n",
       "    <tr>\n",
       "      <th>28893</th>\n",
       "      <td>DK1</td>\n",
       "      <td>SE3</td>\n",
       "    </tr>\n",
       "  </tbody>\n",
       "</table>\n",
       "</div>"
      ],
      "text/plain": [
       "       g_E  g_EE\n",
       "0      DK1  DELU\n",
       "8759   DK1   DK2\n",
       "17518  DK1    NL\n",
       "20134  DK1   NO2\n",
       "28893  DK1   SE3"
      ]
     },
     "execution_count": 11,
     "metadata": {},
     "output_type": "execute_result"
    }
   ],
   "source": [
    "df_ic.head()"
   ]
  },
  {
   "cell_type": "markdown",
   "id": "6f032286-2753-4b55-bb3d-85b489510cd3",
   "metadata": {
    "tags": []
   },
   "source": [
    "Drop DK areas:"
   ]
  },
  {
   "cell_type": "code",
   "execution_count": 12,
   "id": "a67db154-e0f7-42fc-9b93-1a3ec161cb72",
   "metadata": {
    "tags": []
   },
   "outputs": [],
   "source": [
    "idx_DK = (df_ic['g_E'].str.find('DK')!=-1) & (df_ic['g_EE'].str.find('DK')!=-1)\n",
    "df_ic = df_ic[~idx_DK].rename(columns={'g_E':'g_EE','g_EE':'g_E'})"
   ]
  },
  {
   "cell_type": "markdown",
   "id": "5cb3ddc0-505e-4bad-a871-625a387b73f9",
   "metadata": {
    "tags": []
   },
   "source": [
    "Add the interconnectors to the prices:"
   ]
  },
  {
   "cell_type": "code",
   "execution_count": 13,
   "id": "a6266ce2-995d-44db-a40f-bb1e96ca6631",
   "metadata": {
    "tags": []
   },
   "outputs": [],
   "source": [
    "df_prices = df_prices.merge(df_ic,how='outer')"
   ]
  },
  {
   "cell_type": "markdown",
   "id": "3f8954e0-728d-4996-9108-83c0bf9f1eab",
   "metadata": {
    "tags": []
   },
   "source": [
    "Unstack:"
   ]
  },
  {
   "cell_type": "code",
   "execution_count": 14,
   "id": "3a633048-1018-44dd-b09d-ade81766ebf0",
   "metadata": {
    "tags": []
   },
   "outputs": [],
   "source": [
    "# df_prices = df_prices.set_index(['h','g_E'])['SpotPrice_€/MWh'].unstack('g_E').rename_axis(None,axis=1)"
   ]
  },
  {
   "cell_type": "markdown",
   "id": "e9b8a4ec-6846-4167-9ba7-4cf017784c25",
   "metadata": {},
   "source": [
    "Make marginal willing to pay:"
   ]
  },
  {
   "cell_type": "code",
   "execution_count": 15,
   "id": "895a7a82-0a02-452e-b9c4-c0a9316a53a7",
   "metadata": {
    "tags": []
   },
   "outputs": [],
   "source": [
    "# Remove DK to DK connections:\n",
    "idx = (df_prices['g_E'].str.find('DK')!=-1) & (df_prices['g_EE'].str.find('DK')!=-1)\n",
    "MWP_E = df_prices[~idx].replace({'g_E':{x:'c_'+x for x in df_prices['g_E']}})\n",
    "\n",
    "# Make labels:\n",
    "MWP_E['c_E'] = [g_EE+'_ExportTo_'+g_E for g_EE,g_E in zip(MWP_E['g_EE'],MWP_E['g_E'].str.replace('c_',''))]\n",
    "MWP_E = MWP_E.set_index(['c_E','h'])['SpotPrice_€/MWh'].rename('MWP_E').unstack('c_E').rename_axis(None,axis=1)"
   ]
  },
  {
   "cell_type": "markdown",
   "id": "49055310-bd15-4140-ba40-1437557c3d7f",
   "metadata": {},
   "source": [
    "Add for domestic consumer:"
   ]
  },
  {
   "cell_type": "code",
   "execution_count": 16,
   "id": "852e548e-9a54-4305-bf36-18ec0fa6331e",
   "metadata": {
    "tags": []
   },
   "outputs": [],
   "source": [
    "c_E_doms = [''.join(['c_',g_EE]) for g_EE in df_prices['g_EE'].unique()]\n",
    "MWP_E[c_E_doms] = 1000"
   ]
  },
  {
   "cell_type": "markdown",
   "metadata": {},
   "source": [
    "`Inspect`"
   ]
  },
  {
   "cell_type": "code",
   "execution_count": 17,
   "metadata": {},
   "outputs": [
    {
     "data": {
      "text/html": [
       "<div>\n",
       "<style scoped>\n",
       "    .dataframe tbody tr th:only-of-type {\n",
       "        vertical-align: middle;\n",
       "    }\n",
       "\n",
       "    .dataframe tbody tr th {\n",
       "        vertical-align: top;\n",
       "    }\n",
       "\n",
       "    .dataframe thead th {\n",
       "        text-align: right;\n",
       "    }\n",
       "</style>\n",
       "<table border=\"1\" class=\"dataframe\">\n",
       "  <thead>\n",
       "    <tr style=\"text-align: right;\">\n",
       "      <th></th>\n",
       "      <th>DK1_ExportTo_DELU</th>\n",
       "      <th>DK1_ExportTo_NL</th>\n",
       "      <th>DK1_ExportTo_NO2</th>\n",
       "      <th>DK1_ExportTo_SE3</th>\n",
       "      <th>DK2_ExportTo_DELU</th>\n",
       "      <th>DK2_ExportTo_SE4</th>\n",
       "      <th>c_DK1</th>\n",
       "      <th>c_DK2</th>\n",
       "    </tr>\n",
       "    <tr>\n",
       "      <th>h</th>\n",
       "      <th></th>\n",
       "      <th></th>\n",
       "      <th></th>\n",
       "      <th></th>\n",
       "      <th></th>\n",
       "      <th></th>\n",
       "      <th></th>\n",
       "      <th></th>\n",
       "    </tr>\n",
       "  </thead>\n",
       "  <tbody>\n",
       "    <tr>\n",
       "      <th>1</th>\n",
       "      <td>28.32</td>\n",
       "      <td>68.92</td>\n",
       "      <td>48.77</td>\n",
       "      <td>28.32</td>\n",
       "      <td>28.32</td>\n",
       "      <td>28.32</td>\n",
       "      <td>1000</td>\n",
       "      <td>1000</td>\n",
       "    </tr>\n",
       "    <tr>\n",
       "      <th>2</th>\n",
       "      <td>10.07</td>\n",
       "      <td>64.98</td>\n",
       "      <td>49.25</td>\n",
       "      <td>10.07</td>\n",
       "      <td>10.07</td>\n",
       "      <td>10.07</td>\n",
       "      <td>1000</td>\n",
       "      <td>1000</td>\n",
       "    </tr>\n",
       "    <tr>\n",
       "      <th>3</th>\n",
       "      <td>-4.08</td>\n",
       "      <td>60.27</td>\n",
       "      <td>49.17</td>\n",
       "      <td>10.03</td>\n",
       "      <td>-4.08</td>\n",
       "      <td>10.03</td>\n",
       "      <td>1000</td>\n",
       "      <td>1000</td>\n",
       "    </tr>\n",
       "    <tr>\n",
       "      <th>4</th>\n",
       "      <td>-9.91</td>\n",
       "      <td>49.97</td>\n",
       "      <td>48.37</td>\n",
       "      <td>4.56</td>\n",
       "      <td>-9.91</td>\n",
       "      <td>4.56</td>\n",
       "      <td>1000</td>\n",
       "      <td>1000</td>\n",
       "    </tr>\n",
       "    <tr>\n",
       "      <th>5</th>\n",
       "      <td>-7.41</td>\n",
       "      <td>47.66</td>\n",
       "      <td>47.19</td>\n",
       "      <td>4.83</td>\n",
       "      <td>-7.41</td>\n",
       "      <td>4.83</td>\n",
       "      <td>1000</td>\n",
       "      <td>1000</td>\n",
       "    </tr>\n",
       "  </tbody>\n",
       "</table>\n",
       "</div>"
      ],
      "text/plain": [
       "   DK1_ExportTo_DELU  DK1_ExportTo_NL  DK1_ExportTo_NO2  DK1_ExportTo_SE3  \\\n",
       "h                                                                           \n",
       "1              28.32            68.92             48.77             28.32   \n",
       "2              10.07            64.98             49.25             10.07   \n",
       "3              -4.08            60.27             49.17             10.03   \n",
       "4              -9.91            49.97             48.37              4.56   \n",
       "5              -7.41            47.66             47.19              4.83   \n",
       "\n",
       "   DK2_ExportTo_DELU  DK2_ExportTo_SE4  c_DK1  c_DK2  \n",
       "h                                                     \n",
       "1              28.32             28.32   1000   1000  \n",
       "2              10.07             10.07   1000   1000  \n",
       "3              -4.08             10.03   1000   1000  \n",
       "4              -9.91              4.56   1000   1000  \n",
       "5              -7.41              4.83   1000   1000  "
      ]
     },
     "execution_count": 17,
     "metadata": {},
     "output_type": "execute_result"
    }
   ],
   "source": [
    "MWP_E.head()"
   ]
  },
  {
   "cell_type": "markdown",
   "metadata": {},
   "source": [
    "`Note that domestic consumers are assumed to have a MWP_E of 1000 in both bidding areas.`"
   ]
  },
  {
   "cell_type": "markdown",
   "id": "f8a5d374-8e6b-4e90-9bb3-16290fa4abfe",
   "metadata": {
    "tags": []
   },
   "source": [
    "## Supply variation"
   ]
  },
  {
   "cell_type": "markdown",
   "id": "1e2c2b69-d3c9-4867-879c-361c7accb8dd",
   "metadata": {
    "tags": []
   },
   "source": [
    "Get supply:"
   ]
  },
  {
   "cell_type": "code",
   "execution_count": 18,
   "id": "9997f527-fa0e-4558-aab6-88e59df8a57e",
   "metadata": {
    "tags": []
   },
   "outputs": [],
   "source": [
    "df_supply = pd.read_pickle(os.path.join(data_dir,'IntermittentSupply_DK1DK2_2019')).replace({'hvt':{'Solar':'PV','WindOffshore':'WS','WindOnshore':'WL'}})"
   ]
  },
  {
   "cell_type": "markdown",
   "id": "dac015fa-4d9f-4413-ad19-8fb5ce895d00",
   "metadata": {},
   "source": [
    "Estimate hourly variation in supply:"
   ]
  },
  {
   "cell_type": "code",
   "execution_count": 19,
   "id": "fcec51a9-1ea9-457d-a464-8582a4369c15",
   "metadata": {
    "tags": []
   },
   "outputs": [],
   "source": [
    "d_y = {}\n",
    "xvar, yvar = ['intercept','Forecast_MWh'], 'Actual_MWh'\n",
    "nan_idx = df_supply[xvar[1:]+[yvar]].isna().any(axis=1)\n",
    "g2hvt = df_supply[['g_E','hvt']].drop_duplicates()\n",
    "g2hvt['label'] = ['_'.join([hvt,str(y)]) if g2hvt.groupby('hvt').size()[hvt]>1 else hvt for hvt,y in zip(g2hvt['hvt'],g2hvt['g_E'])]\n",
    "for g,hvt,hvt_label in g2hvt.itertuples(index=False):\n",
    "    # Subset data\n",
    "    ghvt_idx = (df_supply['hvt']==hvt) & (df_supply['g_E']==g)\n",
    "    mi = pd.Index(df_supply.loc[ghvt_idx,'h'].tolist(),name='h')\n",
    "    idx = (~nan_idx) & (ghvt_idx) \n",
    "    df_tmp = df_supply[idx]\n",
    "    if len(df_tmp)>0:\n",
    "        X, y = df_tmp.assign(intercept=1.0)[xvar].values,df_tmp[[yvar]].values\n",
    "        # Make OLS estimator:\n",
    "        β_hat = np.matmul(np.linalg.inv(np.matmul(np.transpose(X),X)),np.matmul(np.transpose(X),y))\n",
    "        # Make explanatory variables\n",
    "        X_idx = df_supply.loc[ghvt_idx,xvar[-1]].isna()\n",
    "        if X_idx.sum()>0:\n",
    "            # Estimate missing values using 12 representative days:\n",
    "            X_sim = df_supply[ghvt_idx][[xvar[-1]]+['HourOfTheDay','Month']]\n",
    "            X_sim['dummy'] = X_sim.groupby(['HourOfTheDay','Month']).grouper.group_info[0]\n",
    "            X_X = pd.get_dummies(X_sim.loc[~X_idx,'dummy'],drop_first=True).values\n",
    "            y_X = X_sim.loc[~X_idx,[xvar[-1]]].values\n",
    "            β_X = np.matmul(np.linalg.inv(np.matmul(np.transpose(X_X),X_X)),np.matmul(np.transpose(X_X),y_X))\n",
    "            X_hat = np.matmul(pd.get_dummies(X_sim['dummy'],drop_first=True).values,β_X).flatten()\n",
    "            X_sim.loc[X_idx,xvar[-1]] = X_hat[X_idx]\n",
    "            X_sim = X_sim.assign(intercept=1.0)[xvar].values\n",
    "        else:\n",
    "            X_sim = df_supply[ghvt_idx].assign(intercept=1.0)[xvar].values\n",
    "        # Make predicted load given β_hat\n",
    "        d_y['_'.join([g,hvt])] = pd.Series(np.matmul(X_sim,β_hat).flatten(),index=mi,name=hvt_label)\n",
    "    else:\n",
    "        y_idx =  df_supply.loc[ghvt_idx,yvar].isna()\n",
    "        if y_idx.sum()>0:\n",
    "            # Estimate missing values using 12 representative days:\n",
    "            y_sim = df_supply[ghvt_idx][[yvar]+['HourOfTheDay','Month']]\n",
    "            y_sim['dummy'] = y_sim.groupby(['HourOfTheDay','Month']).grouper.group_info[0]\n",
    "            X_y = pd.get_dummies(y_sim.loc[~y_idx,'dummy'],drop_first=True).values\n",
    "            y_y = y_sim.loc[~y_idx,[yvar]].values\n",
    "            β_y = np.matmul(np.linalg.inv(np.matmul(np.transpose(X_y),X_y)),np.matmul(np.transpose(X_y),y_y))\n",
    "            y_hat = np.matmul(pd.get_dummies(y_sim['dummy'],drop_first=True).values,β_y).flatten()\n",
    "            y_sim.loc[y_idx,yvar] = y_hat[y_idx]\n",
    "            y_sim = y_sim.assign(intercept=1.0)[yvar].values\n",
    "        else:\n",
    "            y_sim = df_supply.loc[ghvt_idx,yvar].tolist()\n",
    "        d_y['_'.join([g,hvt])] = pd.Series(y_sim,index=mi,name=hvt_label)\n",
    "\n",
    "    # Collect in dataframe\n",
    "CapVariation = pd.concat([d_y[hvt] for hvt in d_y.keys()],axis=1)"
   ]
  },
  {
   "cell_type": "markdown",
   "metadata": {},
   "source": [
    "`Inspect`"
   ]
  },
  {
   "cell_type": "code",
   "execution_count": 20,
   "metadata": {},
   "outputs": [
    {
     "data": {
      "text/html": [
       "<div>\n",
       "<style scoped>\n",
       "    .dataframe tbody tr th:only-of-type {\n",
       "        vertical-align: middle;\n",
       "    }\n",
       "\n",
       "    .dataframe tbody tr th {\n",
       "        vertical-align: top;\n",
       "    }\n",
       "\n",
       "    .dataframe thead th {\n",
       "        text-align: right;\n",
       "    }\n",
       "</style>\n",
       "<table border=\"1\" class=\"dataframe\">\n",
       "  <thead>\n",
       "    <tr style=\"text-align: right;\">\n",
       "      <th></th>\n",
       "      <th>ROR</th>\n",
       "      <th>PV_DK1</th>\n",
       "      <th>WS_DK1</th>\n",
       "      <th>WL_DK1</th>\n",
       "      <th>PV_DK2</th>\n",
       "      <th>WS_DK2</th>\n",
       "      <th>WL_DK2</th>\n",
       "    </tr>\n",
       "    <tr>\n",
       "      <th>h</th>\n",
       "      <th></th>\n",
       "      <th></th>\n",
       "      <th></th>\n",
       "      <th></th>\n",
       "      <th></th>\n",
       "      <th></th>\n",
       "      <th></th>\n",
       "    </tr>\n",
       "  </thead>\n",
       "  <tbody>\n",
       "    <tr>\n",
       "      <th>1</th>\n",
       "      <td>1.0</td>\n",
       "      <td>1.120471</td>\n",
       "      <td>559.630301</td>\n",
       "      <td>2310.433207</td>\n",
       "      <td>0.603258</td>\n",
       "      <td>258.497393</td>\n",
       "      <td>556.422855</td>\n",
       "    </tr>\n",
       "    <tr>\n",
       "      <th>2</th>\n",
       "      <td>1.0</td>\n",
       "      <td>1.120471</td>\n",
       "      <td>598.711511</td>\n",
       "      <td>2350.602615</td>\n",
       "      <td>0.603258</td>\n",
       "      <td>334.787070</td>\n",
       "      <td>649.508678</td>\n",
       "    </tr>\n",
       "    <tr>\n",
       "      <th>3</th>\n",
       "      <td>1.0</td>\n",
       "      <td>1.120471</td>\n",
       "      <td>243.167824</td>\n",
       "      <td>2235.115567</td>\n",
       "      <td>0.603258</td>\n",
       "      <td>262.566175</td>\n",
       "      <td>595.043569</td>\n",
       "    </tr>\n",
       "    <tr>\n",
       "      <th>4</th>\n",
       "      <td>1.0</td>\n",
       "      <td>1.120471</td>\n",
       "      <td>223.150619</td>\n",
       "      <td>2170.844514</td>\n",
       "      <td>0.603258</td>\n",
       "      <td>214.757978</td>\n",
       "      <td>571.276976</td>\n",
       "    </tr>\n",
       "    <tr>\n",
       "      <th>5</th>\n",
       "      <td>1.0</td>\n",
       "      <td>1.120471</td>\n",
       "      <td>223.150619</td>\n",
       "      <td>2115.611578</td>\n",
       "      <td>0.603258</td>\n",
       "      <td>208.654803</td>\n",
       "      <td>564.345053</td>\n",
       "    </tr>\n",
       "  </tbody>\n",
       "</table>\n",
       "</div>"
      ],
      "text/plain": [
       "   ROR    PV_DK1      WS_DK1       WL_DK1    PV_DK2      WS_DK2      WL_DK2\n",
       "h                                                                          \n",
       "1  1.0  1.120471  559.630301  2310.433207  0.603258  258.497393  556.422855\n",
       "2  1.0  1.120471  598.711511  2350.602615  0.603258  334.787070  649.508678\n",
       "3  1.0  1.120471  243.167824  2235.115567  0.603258  262.566175  595.043569\n",
       "4  1.0  1.120471  223.150619  2170.844514  0.603258  214.757978  571.276976\n",
       "5  1.0  1.120471  223.150619  2115.611578  0.603258  208.654803  564.345053"
      ]
     },
     "execution_count": 20,
     "metadata": {},
     "output_type": "execute_result"
    }
   ],
   "source": [
    "CapVariation.head()"
   ]
  },
  {
   "cell_type": "markdown",
   "id": "e5788d0c-d2f7-4468-ba28-b0d9ddffe2db",
   "metadata": {},
   "source": [
    "Get capacities:"
   ]
  },
  {
   "cell_type": "code",
   "execution_count": 21,
   "id": "9301344b-5663-4064-a40f-0ca29781b1a2",
   "metadata": {
    "tags": []
   },
   "outputs": [],
   "source": [
    "df_plant = pd.read_pickle(os.path.join(data_dir,'PlantData_DK_2023'))\n",
    "df_int = df_plant.loc[df_plant['tech'].isin(['PV','SH','WL','WS','ROR']),['id','g_E','g_H','tech','GeneratingCapacity_E','GeneratingCapacity_H','Generation_E','Generation_H']].rename(columns={'tech':'hvt'})"
   ]
  },
  {
   "cell_type": "markdown",
   "metadata": {},
   "source": [
    "`Inspect`"
   ]
  },
  {
   "cell_type": "code",
   "execution_count": 22,
   "metadata": {},
   "outputs": [
    {
     "data": {
      "text/html": [
       "<div>\n",
       "<style scoped>\n",
       "    .dataframe tbody tr th:only-of-type {\n",
       "        vertical-align: middle;\n",
       "    }\n",
       "\n",
       "    .dataframe tbody tr th {\n",
       "        vertical-align: top;\n",
       "    }\n",
       "\n",
       "    .dataframe thead th {\n",
       "        text-align: right;\n",
       "    }\n",
       "</style>\n",
       "<table border=\"1\" class=\"dataframe\">\n",
       "  <thead>\n",
       "    <tr style=\"text-align: right;\">\n",
       "      <th></th>\n",
       "      <th>id</th>\n",
       "      <th>g_E</th>\n",
       "      <th>g_H</th>\n",
       "      <th>hvt</th>\n",
       "      <th>GeneratingCapacity_E</th>\n",
       "      <th>GeneratingCapacity_H</th>\n",
       "      <th>Generation_E</th>\n",
       "      <th>Generation_H</th>\n",
       "    </tr>\n",
       "  </thead>\n",
       "  <tbody>\n",
       "    <tr>\n",
       "      <th>18</th>\n",
       "      <td>id_DK1_Central_SH</td>\n",
       "      <td>DK1</td>\n",
       "      <td>DK1_Central</td>\n",
       "      <td>SH</td>\n",
       "      <td>NaN</td>\n",
       "      <td>4.100</td>\n",
       "      <td>0.000</td>\n",
       "      <td>0.002</td>\n",
       "    </tr>\n",
       "    <tr>\n",
       "      <th>37</th>\n",
       "      <td>id_DK1_LargeDecentral_SH</td>\n",
       "      <td>DK1</td>\n",
       "      <td>DK1_LargeDecentral</td>\n",
       "      <td>SH</td>\n",
       "      <td>NaN</td>\n",
       "      <td>139.000</td>\n",
       "      <td>0.000</td>\n",
       "      <td>0.080</td>\n",
       "    </tr>\n",
       "    <tr>\n",
       "      <th>57</th>\n",
       "      <td>id_DK1_SmallDecentral_SH</td>\n",
       "      <td>DK1</td>\n",
       "      <td>DK1_SmallDecentral</td>\n",
       "      <td>SH</td>\n",
       "      <td>NaN</td>\n",
       "      <td>780.031</td>\n",
       "      <td>0.000</td>\n",
       "      <td>0.422</td>\n",
       "    </tr>\n",
       "    <tr>\n",
       "      <th>65</th>\n",
       "      <td>id_DK1_nan_PV</td>\n",
       "      <td>DK1</td>\n",
       "      <td>NaN</td>\n",
       "      <td>PV</td>\n",
       "      <td>2900.164</td>\n",
       "      <td>NaN</td>\n",
       "      <td>3.754</td>\n",
       "      <td>0.000</td>\n",
       "    </tr>\n",
       "    <tr>\n",
       "      <th>66</th>\n",
       "      <td>id_DK1_nan_ROR</td>\n",
       "      <td>DK1</td>\n",
       "      <td>NaN</td>\n",
       "      <td>ROR</td>\n",
       "      <td>6.894</td>\n",
       "      <td>NaN</td>\n",
       "      <td>0.016</td>\n",
       "      <td>0.000</td>\n",
       "    </tr>\n",
       "  </tbody>\n",
       "</table>\n",
       "</div>"
      ],
      "text/plain": [
       "                          id  g_E                 g_H  hvt  \\\n",
       "18         id_DK1_Central_SH  DK1         DK1_Central   SH   \n",
       "37  id_DK1_LargeDecentral_SH  DK1  DK1_LargeDecentral   SH   \n",
       "57  id_DK1_SmallDecentral_SH  DK1  DK1_SmallDecentral   SH   \n",
       "65             id_DK1_nan_PV  DK1                 NaN   PV   \n",
       "66            id_DK1_nan_ROR  DK1                 NaN  ROR   \n",
       "\n",
       "    GeneratingCapacity_E  GeneratingCapacity_H  Generation_E  Generation_H  \n",
       "18                   NaN                 4.100         0.000         0.002  \n",
       "37                   NaN               139.000         0.000         0.080  \n",
       "57                   NaN               780.031         0.000         0.422  \n",
       "65              2900.164                   NaN         3.754         0.000  \n",
       "66                 6.894                   NaN         0.016         0.000  "
      ]
     },
     "execution_count": 22,
     "metadata": {},
     "output_type": "execute_result"
    }
   ],
   "source": [
    "df_int.head()"
   ]
  },
  {
   "cell_type": "markdown",
   "id": "91419e20-8016-4ee2-b2fa-4a46d8b9ff0e",
   "metadata": {
    "tags": []
   },
   "source": [
    "Make unique hvt identifier:"
   ]
  },
  {
   "cell_type": "code",
   "execution_count": 23,
   "id": "4b814eea-f90f-4dfa-9688-9a8f2ba7990a",
   "metadata": {
    "tags": []
   },
   "outputs": [],
   "source": [
    "df_int['hvt'] = pd.Series(['_'.join([hvt,g_E]) if (str(g_H)=='nan') & (df_int.groupby('hvt').size()[hvt]>1) else '_'.join([hvt,str(g_H)]) if (isinstance(g_H,str)) & (df_int.groupby('hvt').size()[hvt]>1) else hvt for hvt,g_E,g_H in zip(df_int['hvt'],df_int['g_E'],df_int['g_H'])],index=df_int.index)"
   ]
  },
  {
   "cell_type": "markdown",
   "id": "cf3f55cb-54e8-44cc-8827-0939708d6905",
   "metadata": {},
   "source": [
    "Compute capacity factors:"
   ]
  },
  {
   "cell_type": "code",
   "execution_count": 24,
   "id": "9da3208b-3521-46cc-a4da-ac4ca0cf7858",
   "metadata": {
    "tags": []
   },
   "outputs": [],
   "source": [
    "for hvt in CapVariation.columns:\n",
    "    CapVariation[hvt] = CapVariation[hvt]/df_int.loc[df_int['hvt']==hvt,'GeneratingCapacity_E'].sum()"
   ]
  },
  {
   "cell_type": "markdown",
   "id": "b976979f-8287-4085-aa2e-a7fb83d59b52",
   "metadata": {
    "tags": []
   },
   "source": [
    "Assume solar heat has the same pattern as PV:"
   ]
  },
  {
   "cell_type": "code",
   "execution_count": 25,
   "id": "f4e70f82-17da-4b8f-9683-14278a4d20bd",
   "metadata": {
    "tags": []
   },
   "outputs": [],
   "source": [
    "SH_gen = df_int[df_int['hvt'].str.find('SH')!=-1].set_index(['hvt'])['Generation_H']\n",
    "SH_gen.index = pd.MultiIndex.from_tuples([('_'.join(hvt.replace('SH','PV').split('_')[0:2]),hvt) for hvt in SH_gen.index],name=['hvt_E','hvt'])\n",
    "PV_gen = CapVariation[[x for x in CapVariation.columns if x.find('PV')!=-1]].sum().rename_axis('hvt_E')\n",
    "scale = SH_gen.div(PV_gen)\n",
    "for i in range(len(scale)):\n",
    "    hvt_E, hvt = scale.index[i]\n",
    "    CapVariation[hvt] = CapVariation[hvt_E]*scale[:,hvt].iloc[0]"
   ]
  },
  {
   "cell_type": "markdown",
   "id": "d64f1c11-5a50-4c2f-9efd-6396989ed8de",
   "metadata": {
    "tags": []
   },
   "source": [
    "Add standard:"
   ]
  },
  {
   "cell_type": "code",
   "execution_count": 26,
   "id": "f466c7b3-0c78-4d69-aa64-ed5ea3aceaf3",
   "metadata": {
    "tags": []
   },
   "outputs": [],
   "source": [
    "CapVariation['Standard'] = 1"
   ]
  },
  {
   "cell_type": "markdown",
   "id": "e261139c-93a7-4f10-ac13-df2a18ef7a0d",
   "metadata": {},
   "source": [
    "Save id2hvt mapping:"
   ]
  },
  {
   "cell_type": "code",
   "execution_count": 27,
   "id": "1397db92-e2cb-487a-9b76-d1abcdd327c1",
   "metadata": {
    "tags": []
   },
   "outputs": [],
   "source": [
    "id2hvt = pd.concat([\n",
    "    df_int[['id','hvt']],\n",
    "    df_plant.loc[~df_plant['id'].isin(df_int['id']),['id']].assign(hvt='Standard')\n",
    "],axis=0).reset_index(drop=True)"
   ]
  },
  {
   "cell_type": "markdown",
   "metadata": {},
   "source": [
    "`Inspect`"
   ]
  },
  {
   "cell_type": "code",
   "execution_count": 28,
   "metadata": {},
   "outputs": [
    {
     "data": {
      "text/html": [
       "<div>\n",
       "<style scoped>\n",
       "    .dataframe tbody tr th:only-of-type {\n",
       "        vertical-align: middle;\n",
       "    }\n",
       "\n",
       "    .dataframe tbody tr th {\n",
       "        vertical-align: top;\n",
       "    }\n",
       "\n",
       "    .dataframe thead th {\n",
       "        text-align: right;\n",
       "    }\n",
       "</style>\n",
       "<table border=\"1\" class=\"dataframe\">\n",
       "  <thead>\n",
       "    <tr style=\"text-align: right;\">\n",
       "      <th></th>\n",
       "      <th>id</th>\n",
       "      <th>hvt</th>\n",
       "    </tr>\n",
       "  </thead>\n",
       "  <tbody>\n",
       "    <tr>\n",
       "      <th>0</th>\n",
       "      <td>id_DK1_Central_SH</td>\n",
       "      <td>SH_DK1_Central</td>\n",
       "    </tr>\n",
       "    <tr>\n",
       "      <th>1</th>\n",
       "      <td>id_DK1_LargeDecentral_SH</td>\n",
       "      <td>SH_DK1_LargeDecentral</td>\n",
       "    </tr>\n",
       "    <tr>\n",
       "      <th>2</th>\n",
       "      <td>id_DK1_SmallDecentral_SH</td>\n",
       "      <td>SH_DK1_SmallDecentral</td>\n",
       "    </tr>\n",
       "    <tr>\n",
       "      <th>3</th>\n",
       "      <td>id_DK1_nan_PV</td>\n",
       "      <td>PV_DK1</td>\n",
       "    </tr>\n",
       "    <tr>\n",
       "      <th>4</th>\n",
       "      <td>id_DK1_nan_ROR</td>\n",
       "      <td>ROR</td>\n",
       "    </tr>\n",
       "  </tbody>\n",
       "</table>\n",
       "</div>"
      ],
      "text/plain": [
       "                         id                    hvt\n",
       "0         id_DK1_Central_SH         SH_DK1_Central\n",
       "1  id_DK1_LargeDecentral_SH  SH_DK1_LargeDecentral\n",
       "2  id_DK1_SmallDecentral_SH  SH_DK1_SmallDecentral\n",
       "3             id_DK1_nan_PV                 PV_DK1\n",
       "4            id_DK1_nan_ROR                    ROR"
      ]
     },
     "execution_count": 28,
     "metadata": {},
     "output_type": "execute_result"
    }
   ],
   "source": [
    "id2hvt.head()"
   ]
  },
  {
   "cell_type": "markdown",
   "id": "785745c5-6313-4d16-a2db-831da2fd417a",
   "metadata": {
    "tags": []
   },
   "source": [
    "## Heat Demand"
   ]
  },
  {
   "cell_type": "markdown",
   "id": "accf4066-8aab-4927-b957-c3c6df5a1102",
   "metadata": {},
   "source": [
    "Download from Open Power System Data:\n",
    "\n",
    "`Download through URL and don't save csv because datafile is large.`"
   ]
  },
  {
   "cell_type": "code",
   "execution_count": 29,
   "id": "c8403af9-9eb8-48e9-85b7-0609815369d5",
   "metadata": {
    "tags": []
   },
   "outputs": [],
   "source": [
    "url = 'https://data.open-power-system-data.org/when2heat/2023-07-27/when2heat.csv'\n",
    "df_hd = pd.read_csv(url, sep=';', on_bad_lines='warn',decimal=',')"
   ]
  },
  {
   "cell_type": "code",
   "execution_count": 30,
   "metadata": {},
   "outputs": [
    {
     "data": {
      "text/html": [
       "<div>\n",
       "<style scoped>\n",
       "    .dataframe tbody tr th:only-of-type {\n",
       "        vertical-align: middle;\n",
       "    }\n",
       "\n",
       "    .dataframe tbody tr th {\n",
       "        vertical-align: top;\n",
       "    }\n",
       "\n",
       "    .dataframe thead th {\n",
       "        text-align: right;\n",
       "    }\n",
       "</style>\n",
       "<table border=\"1\" class=\"dataframe\">\n",
       "  <thead>\n",
       "    <tr style=\"text-align: right;\">\n",
       "      <th></th>\n",
       "      <th>utc_timestamp</th>\n",
       "      <th>cet_cest_timestamp</th>\n",
       "      <th>AT_COP_ASHP_floor</th>\n",
       "      <th>AT_COP_ASHP_radiator</th>\n",
       "      <th>AT_COP_ASHP_water</th>\n",
       "      <th>AT_COP_GSHP_floor</th>\n",
       "      <th>AT_COP_GSHP_radiator</th>\n",
       "      <th>AT_COP_GSHP_water</th>\n",
       "      <th>AT_COP_WSHP_floor</th>\n",
       "      <th>AT_COP_WSHP_radiator</th>\n",
       "      <th>...</th>\n",
       "      <th>SK_heat_demand_water</th>\n",
       "      <th>SK_heat_demand_water_COM</th>\n",
       "      <th>SK_heat_demand_water_MFH</th>\n",
       "      <th>SK_heat_demand_water_SFH</th>\n",
       "      <th>SK_heat_profile_space_COM</th>\n",
       "      <th>SK_heat_profile_space_MFH</th>\n",
       "      <th>SK_heat_profile_space_SFH</th>\n",
       "      <th>SK_heat_profile_water_COM</th>\n",
       "      <th>SK_heat_profile_water_MFH</th>\n",
       "      <th>SK_heat_profile_water_SFH</th>\n",
       "    </tr>\n",
       "  </thead>\n",
       "  <tbody>\n",
       "    <tr>\n",
       "      <th>0</th>\n",
       "      <td>2007-12-31T22:00:00Z</td>\n",
       "      <td>2007-12-31T23:00:00+0100</td>\n",
       "      <td>2.80</td>\n",
       "      <td>2.24</td>\n",
       "      <td>2.03</td>\n",
       "      <td>3.72</td>\n",
       "      <td>2.77</td>\n",
       "      <td>2.40</td>\n",
       "      <td>4.57</td>\n",
       "      <td>3.32</td>\n",
       "      <td>...</td>\n",
       "      <td>128.0</td>\n",
       "      <td>64.0</td>\n",
       "      <td>45.0</td>\n",
       "      <td>19.0</td>\n",
       "      <td>236</td>\n",
       "      <td>174</td>\n",
       "      <td>196</td>\n",
       "      <td>66</td>\n",
       "      <td>68</td>\n",
       "      <td>13</td>\n",
       "    </tr>\n",
       "    <tr>\n",
       "      <th>1</th>\n",
       "      <td>2007-12-31T23:00:00Z</td>\n",
       "      <td>2008-01-01T00:00:00+0100</td>\n",
       "      <td>2.80</td>\n",
       "      <td>2.24</td>\n",
       "      <td>2.03</td>\n",
       "      <td>3.72</td>\n",
       "      <td>2.77</td>\n",
       "      <td>2.40</td>\n",
       "      <td>4.57</td>\n",
       "      <td>3.32</td>\n",
       "      <td>...</td>\n",
       "      <td>128.0</td>\n",
       "      <td>64.0</td>\n",
       "      <td>45.0</td>\n",
       "      <td>19.0</td>\n",
       "      <td>236</td>\n",
       "      <td>174</td>\n",
       "      <td>196</td>\n",
       "      <td>66</td>\n",
       "      <td>68</td>\n",
       "      <td>13</td>\n",
       "    </tr>\n",
       "    <tr>\n",
       "      <th>2</th>\n",
       "      <td>2008-01-01T00:00:00Z</td>\n",
       "      <td>2008-01-01T01:00:00+0100</td>\n",
       "      <td>2.80</td>\n",
       "      <td>2.23</td>\n",
       "      <td>2.02</td>\n",
       "      <td>3.70</td>\n",
       "      <td>2.75</td>\n",
       "      <td>2.39</td>\n",
       "      <td>4.57</td>\n",
       "      <td>3.31</td>\n",
       "      <td>...</td>\n",
       "      <td>150.0</td>\n",
       "      <td>80.0</td>\n",
       "      <td>46.0</td>\n",
       "      <td>23.0</td>\n",
       "      <td>239</td>\n",
       "      <td>177</td>\n",
       "      <td>198</td>\n",
       "      <td>83</td>\n",
       "      <td>71</td>\n",
       "      <td>15</td>\n",
       "    </tr>\n",
       "    <tr>\n",
       "      <th>3</th>\n",
       "      <td>2008-01-01T01:00:00Z</td>\n",
       "      <td>2008-01-01T02:00:00+0100</td>\n",
       "      <td>2.78</td>\n",
       "      <td>2.21</td>\n",
       "      <td>2.02</td>\n",
       "      <td>3.67</td>\n",
       "      <td>2.72</td>\n",
       "      <td>2.38</td>\n",
       "      <td>4.55</td>\n",
       "      <td>3.29</td>\n",
       "      <td>...</td>\n",
       "      <td>147.0</td>\n",
       "      <td>84.0</td>\n",
       "      <td>45.0</td>\n",
       "      <td>19.0</td>\n",
       "      <td>244</td>\n",
       "      <td>179</td>\n",
       "      <td>204</td>\n",
       "      <td>86</td>\n",
       "      <td>69</td>\n",
       "      <td>12</td>\n",
       "    </tr>\n",
       "    <tr>\n",
       "      <th>4</th>\n",
       "      <td>2008-01-01T02:00:00Z</td>\n",
       "      <td>2008-01-01T03:00:00+0100</td>\n",
       "      <td>2.77</td>\n",
       "      <td>2.20</td>\n",
       "      <td>2.01</td>\n",
       "      <td>3.65</td>\n",
       "      <td>2.70</td>\n",
       "      <td>2.37</td>\n",
       "      <td>4.55</td>\n",
       "      <td>3.28</td>\n",
       "      <td>...</td>\n",
       "      <td>163.0</td>\n",
       "      <td>85.0</td>\n",
       "      <td>43.0</td>\n",
       "      <td>35.0</td>\n",
       "      <td>261</td>\n",
       "      <td>193</td>\n",
       "      <td>212</td>\n",
       "      <td>88</td>\n",
       "      <td>66</td>\n",
       "      <td>23</td>\n",
       "    </tr>\n",
       "  </tbody>\n",
       "</table>\n",
       "<p>5 rows × 656 columns</p>\n",
       "</div>"
      ],
      "text/plain": [
       "          utc_timestamp        cet_cest_timestamp  AT_COP_ASHP_floor  \\\n",
       "0  2007-12-31T22:00:00Z  2007-12-31T23:00:00+0100               2.80   \n",
       "1  2007-12-31T23:00:00Z  2008-01-01T00:00:00+0100               2.80   \n",
       "2  2008-01-01T00:00:00Z  2008-01-01T01:00:00+0100               2.80   \n",
       "3  2008-01-01T01:00:00Z  2008-01-01T02:00:00+0100               2.78   \n",
       "4  2008-01-01T02:00:00Z  2008-01-01T03:00:00+0100               2.77   \n",
       "\n",
       "   AT_COP_ASHP_radiator  AT_COP_ASHP_water  AT_COP_GSHP_floor  \\\n",
       "0                  2.24               2.03               3.72   \n",
       "1                  2.24               2.03               3.72   \n",
       "2                  2.23               2.02               3.70   \n",
       "3                  2.21               2.02               3.67   \n",
       "4                  2.20               2.01               3.65   \n",
       "\n",
       "   AT_COP_GSHP_radiator  AT_COP_GSHP_water  AT_COP_WSHP_floor  \\\n",
       "0                  2.77               2.40               4.57   \n",
       "1                  2.77               2.40               4.57   \n",
       "2                  2.75               2.39               4.57   \n",
       "3                  2.72               2.38               4.55   \n",
       "4                  2.70               2.37               4.55   \n",
       "\n",
       "   AT_COP_WSHP_radiator  ...  SK_heat_demand_water  SK_heat_demand_water_COM  \\\n",
       "0                  3.32  ...                 128.0                      64.0   \n",
       "1                  3.32  ...                 128.0                      64.0   \n",
       "2                  3.31  ...                 150.0                      80.0   \n",
       "3                  3.29  ...                 147.0                      84.0   \n",
       "4                  3.28  ...                 163.0                      85.0   \n",
       "\n",
       "   SK_heat_demand_water_MFH  SK_heat_demand_water_SFH  \\\n",
       "0                      45.0                      19.0   \n",
       "1                      45.0                      19.0   \n",
       "2                      46.0                      23.0   \n",
       "3                      45.0                      19.0   \n",
       "4                      43.0                      35.0   \n",
       "\n",
       "   SK_heat_profile_space_COM  SK_heat_profile_space_MFH  \\\n",
       "0                        236                        174   \n",
       "1                        236                        174   \n",
       "2                        239                        177   \n",
       "3                        244                        179   \n",
       "4                        261                        193   \n",
       "\n",
       "   SK_heat_profile_space_SFH  SK_heat_profile_water_COM  \\\n",
       "0                        196                         66   \n",
       "1                        196                         66   \n",
       "2                        198                         83   \n",
       "3                        204                         86   \n",
       "4                        212                         88   \n",
       "\n",
       "   SK_heat_profile_water_MFH  SK_heat_profile_water_SFH  \n",
       "0                         68                         13  \n",
       "1                         68                         13  \n",
       "2                         71                         15  \n",
       "3                         69                         12  \n",
       "4                         66                         23  \n",
       "\n",
       "[5 rows x 656 columns]"
      ]
     },
     "execution_count": 30,
     "metadata": {},
     "output_type": "execute_result"
    }
   ],
   "source": [
    "df_hd.head()"
   ]
  },
  {
   "cell_type": "markdown",
   "id": "2b9f66cf-0c04-4691-b3c4-0b7e8deb740b",
   "metadata": {
    "tags": []
   },
   "source": [
    "Subset to DK"
   ]
  },
  {
   "cell_type": "code",
   "execution_count": 31,
   "id": "96a7a389-2f70-407b-bfb2-2eb54ff5fb5b",
   "metadata": {
    "tags": []
   },
   "outputs": [],
   "source": [
    "DK_cols = ['utc_timestamp'] + [x for x in df_hd.columns if x.find('DK_')!=-1]\n",
    "df_hd = df_hd[DK_cols].copy()"
   ]
  },
  {
   "cell_type": "markdown",
   "id": "e2c9254b-eeb7-40b1-92be-d9f2f0ec372f",
   "metadata": {},
   "source": [
    "Format timestamp:"
   ]
  },
  {
   "cell_type": "code",
   "execution_count": 32,
   "id": "6eb2c11d-eec4-44c5-bb41-74859cec0125",
   "metadata": {
    "tags": []
   },
   "outputs": [],
   "source": [
    "df_hd['HourUTC'] = pd.to_datetime(df_hd['utc_timestamp'].str.replace('T',' '),utc=True)\n",
    "df_hd['HourCET/CEST'] = df_hd['HourUTC'].dt.tz_convert('Europe/Brussels')"
   ]
  },
  {
   "cell_type": "markdown",
   "id": "c0088ba6-3b64-42af-a8e8-47b7defd3477",
   "metadata": {
    "tags": []
   },
   "source": [
    "Subset year:\n",
    "\n",
    "`2019`"
   ]
  },
  {
   "cell_type": "code",
   "execution_count": 33,
   "id": "b6903a2d-bf83-4512-a20e-d7a50866d84b",
   "metadata": {
    "tags": []
   },
   "outputs": [],
   "source": [
    "df_hd = df_hd[df_hd['HourCET/CEST'].dt.year==2019].drop(columns='utc_timestamp')"
   ]
  },
  {
   "cell_type": "markdown",
   "metadata": {},
   "source": [
    "`Inspect to see that we have data for 2019.`"
   ]
  },
  {
   "cell_type": "code",
   "execution_count": 34,
   "metadata": {},
   "outputs": [
    {
     "data": {
      "text/html": [
       "<div>\n",
       "<style scoped>\n",
       "    .dataframe tbody tr th:only-of-type {\n",
       "        vertical-align: middle;\n",
       "    }\n",
       "\n",
       "    .dataframe tbody tr th {\n",
       "        vertical-align: top;\n",
       "    }\n",
       "\n",
       "    .dataframe thead th {\n",
       "        text-align: right;\n",
       "    }\n",
       "</style>\n",
       "<table border=\"1\" class=\"dataframe\">\n",
       "  <thead>\n",
       "    <tr style=\"text-align: right;\">\n",
       "      <th></th>\n",
       "      <th>DK_COP_ASHP_floor</th>\n",
       "      <th>DK_COP_ASHP_radiator</th>\n",
       "      <th>DK_COP_ASHP_water</th>\n",
       "      <th>DK_COP_GSHP_floor</th>\n",
       "      <th>DK_COP_GSHP_radiator</th>\n",
       "      <th>DK_COP_GSHP_water</th>\n",
       "      <th>DK_COP_WSHP_floor</th>\n",
       "      <th>DK_COP_WSHP_radiator</th>\n",
       "      <th>DK_COP_WSHP_water</th>\n",
       "      <th>DK_heat_demand_space</th>\n",
       "      <th>...</th>\n",
       "      <th>DK_heat_demand_water_MFH</th>\n",
       "      <th>DK_heat_demand_water_SFH</th>\n",
       "      <th>DK_heat_profile_space_COM</th>\n",
       "      <th>DK_heat_profile_space_MFH</th>\n",
       "      <th>DK_heat_profile_space_SFH</th>\n",
       "      <th>DK_heat_profile_water_COM</th>\n",
       "      <th>DK_heat_profile_water_MFH</th>\n",
       "      <th>DK_heat_profile_water_SFH</th>\n",
       "      <th>HourUTC</th>\n",
       "      <th>HourCET/CEST</th>\n",
       "    </tr>\n",
       "  </thead>\n",
       "  <tbody>\n",
       "    <tr>\n",
       "      <th>96422</th>\n",
       "      <td>3.82</td>\n",
       "      <td>3.43</td>\n",
       "      <td>2.49</td>\n",
       "      <td>5.00</td>\n",
       "      <td>4.30</td>\n",
       "      <td>2.77</td>\n",
       "      <td>5.28</td>\n",
       "      <td>4.52</td>\n",
       "      <td>2.8</td>\n",
       "      <td>NaN</td>\n",
       "      <td>...</td>\n",
       "      <td>NaN</td>\n",
       "      <td>NaN</td>\n",
       "      <td>126</td>\n",
       "      <td>112</td>\n",
       "      <td>93</td>\n",
       "      <td>76</td>\n",
       "      <td>90</td>\n",
       "      <td>30</td>\n",
       "      <td>2018-12-31 23:00:00+00:00</td>\n",
       "      <td>2019-01-01 00:00:00+01:00</td>\n",
       "    </tr>\n",
       "    <tr>\n",
       "      <th>96423</th>\n",
       "      <td>3.84</td>\n",
       "      <td>3.46</td>\n",
       "      <td>2.50</td>\n",
       "      <td>5.02</td>\n",
       "      <td>4.33</td>\n",
       "      <td>2.77</td>\n",
       "      <td>5.29</td>\n",
       "      <td>4.54</td>\n",
       "      <td>2.8</td>\n",
       "      <td>NaN</td>\n",
       "      <td>...</td>\n",
       "      <td>NaN</td>\n",
       "      <td>NaN</td>\n",
       "      <td>125</td>\n",
       "      <td>94</td>\n",
       "      <td>88</td>\n",
       "      <td>83</td>\n",
       "      <td>70</td>\n",
       "      <td>15</td>\n",
       "      <td>2019-01-01 00:00:00+00:00</td>\n",
       "      <td>2019-01-01 01:00:00+01:00</td>\n",
       "    </tr>\n",
       "    <tr>\n",
       "      <th>96424</th>\n",
       "      <td>3.84</td>\n",
       "      <td>3.46</td>\n",
       "      <td>2.50</td>\n",
       "      <td>5.02</td>\n",
       "      <td>4.33</td>\n",
       "      <td>2.77</td>\n",
       "      <td>5.29</td>\n",
       "      <td>4.54</td>\n",
       "      <td>2.8</td>\n",
       "      <td>NaN</td>\n",
       "      <td>...</td>\n",
       "      <td>NaN</td>\n",
       "      <td>NaN</td>\n",
       "      <td>130</td>\n",
       "      <td>89</td>\n",
       "      <td>92</td>\n",
       "      <td>86</td>\n",
       "      <td>68</td>\n",
       "      <td>12</td>\n",
       "      <td>2019-01-01 01:00:00+00:00</td>\n",
       "      <td>2019-01-01 02:00:00+01:00</td>\n",
       "    </tr>\n",
       "    <tr>\n",
       "      <th>96425</th>\n",
       "      <td>3.83</td>\n",
       "      <td>3.44</td>\n",
       "      <td>2.49</td>\n",
       "      <td>5.01</td>\n",
       "      <td>4.31</td>\n",
       "      <td>2.77</td>\n",
       "      <td>5.29</td>\n",
       "      <td>4.53</td>\n",
       "      <td>2.8</td>\n",
       "      <td>NaN</td>\n",
       "      <td>...</td>\n",
       "      <td>NaN</td>\n",
       "      <td>NaN</td>\n",
       "      <td>144</td>\n",
       "      <td>100</td>\n",
       "      <td>105</td>\n",
       "      <td>88</td>\n",
       "      <td>65</td>\n",
       "      <td>22</td>\n",
       "      <td>2019-01-01 02:00:00+00:00</td>\n",
       "      <td>2019-01-01 03:00:00+01:00</td>\n",
       "    </tr>\n",
       "    <tr>\n",
       "      <th>96426</th>\n",
       "      <td>3.81</td>\n",
       "      <td>3.42</td>\n",
       "      <td>2.48</td>\n",
       "      <td>5.00</td>\n",
       "      <td>4.29</td>\n",
       "      <td>2.77</td>\n",
       "      <td>5.27</td>\n",
       "      <td>4.51</td>\n",
       "      <td>2.8</td>\n",
       "      <td>NaN</td>\n",
       "      <td>...</td>\n",
       "      <td>NaN</td>\n",
       "      <td>NaN</td>\n",
       "      <td>160</td>\n",
       "      <td>130</td>\n",
       "      <td>133</td>\n",
       "      <td>121</td>\n",
       "      <td>105</td>\n",
       "      <td>53</td>\n",
       "      <td>2019-01-01 03:00:00+00:00</td>\n",
       "      <td>2019-01-01 04:00:00+01:00</td>\n",
       "    </tr>\n",
       "  </tbody>\n",
       "</table>\n",
       "<p>5 rows × 26 columns</p>\n",
       "</div>"
      ],
      "text/plain": [
       "       DK_COP_ASHP_floor  DK_COP_ASHP_radiator  DK_COP_ASHP_water  \\\n",
       "96422               3.82                  3.43               2.49   \n",
       "96423               3.84                  3.46               2.50   \n",
       "96424               3.84                  3.46               2.50   \n",
       "96425               3.83                  3.44               2.49   \n",
       "96426               3.81                  3.42               2.48   \n",
       "\n",
       "       DK_COP_GSHP_floor  DK_COP_GSHP_radiator  DK_COP_GSHP_water  \\\n",
       "96422               5.00                  4.30               2.77   \n",
       "96423               5.02                  4.33               2.77   \n",
       "96424               5.02                  4.33               2.77   \n",
       "96425               5.01                  4.31               2.77   \n",
       "96426               5.00                  4.29               2.77   \n",
       "\n",
       "       DK_COP_WSHP_floor  DK_COP_WSHP_radiator  DK_COP_WSHP_water  \\\n",
       "96422               5.28                  4.52                2.8   \n",
       "96423               5.29                  4.54                2.8   \n",
       "96424               5.29                  4.54                2.8   \n",
       "96425               5.29                  4.53                2.8   \n",
       "96426               5.27                  4.51                2.8   \n",
       "\n",
       "       DK_heat_demand_space  ...  DK_heat_demand_water_MFH  \\\n",
       "96422                   NaN  ...                       NaN   \n",
       "96423                   NaN  ...                       NaN   \n",
       "96424                   NaN  ...                       NaN   \n",
       "96425                   NaN  ...                       NaN   \n",
       "96426                   NaN  ...                       NaN   \n",
       "\n",
       "       DK_heat_demand_water_SFH  DK_heat_profile_space_COM  \\\n",
       "96422                       NaN                        126   \n",
       "96423                       NaN                        125   \n",
       "96424                       NaN                        130   \n",
       "96425                       NaN                        144   \n",
       "96426                       NaN                        160   \n",
       "\n",
       "       DK_heat_profile_space_MFH  DK_heat_profile_space_SFH  \\\n",
       "96422                        112                         93   \n",
       "96423                         94                         88   \n",
       "96424                         89                         92   \n",
       "96425                        100                        105   \n",
       "96426                        130                        133   \n",
       "\n",
       "       DK_heat_profile_water_COM  DK_heat_profile_water_MFH  \\\n",
       "96422                         76                         90   \n",
       "96423                         83                         70   \n",
       "96424                         86                         68   \n",
       "96425                         88                         65   \n",
       "96426                        121                        105   \n",
       "\n",
       "       DK_heat_profile_water_SFH                   HourUTC  \\\n",
       "96422                         30 2018-12-31 23:00:00+00:00   \n",
       "96423                         15 2019-01-01 00:00:00+00:00   \n",
       "96424                         12 2019-01-01 01:00:00+00:00   \n",
       "96425                         22 2019-01-01 02:00:00+00:00   \n",
       "96426                         53 2019-01-01 03:00:00+00:00   \n",
       "\n",
       "                   HourCET/CEST  \n",
       "96422 2019-01-01 00:00:00+01:00  \n",
       "96423 2019-01-01 01:00:00+01:00  \n",
       "96424 2019-01-01 02:00:00+01:00  \n",
       "96425 2019-01-01 03:00:00+01:00  \n",
       "96426 2019-01-01 04:00:00+01:00  \n",
       "\n",
       "[5 rows x 26 columns]"
      ]
     },
     "execution_count": 34,
     "metadata": {},
     "output_type": "execute_result"
    }
   ],
   "source": [
    "df_hd.head()"
   ]
  },
  {
   "cell_type": "markdown",
   "id": "88ea8c93-f3ee-4f30-b44a-6ab2fd7fba70",
   "metadata": {
    "tags": []
   },
   "source": [
    "Now select the columns we need:\n",
    "\n",
    "`Heat profile columns only.`"
   ]
  },
  {
   "cell_type": "code",
   "execution_count": 35,
   "id": "334dc958-395f-44b7-b167-8cdf3a7738b5",
   "metadata": {
    "tags": []
   },
   "outputs": [],
   "source": [
    "LoadVariation_H = df_hd.set_index(['HourCET/CEST'])[[x for x in df_hd.columns if x.find('heat_profile')!=-1]].sum(axis=1).rename('LoadVariation_H')"
   ]
  },
  {
   "cell_type": "markdown",
   "id": "67d530fe-ec94-4b49-a639-51a303a5069a",
   "metadata": {
    "tags": []
   },
   "source": [
    "Linearly interpolate missing values:\n",
    "\n",
    "`Linear interpolation is a method to estimate the missing values in a dataset by filling in the gaps with values that create a straight line between the known values on either side.`"
   ]
  },
  {
   "cell_type": "code",
   "execution_count": 36,
   "id": "77161bf7-5501-42d3-bfff-4888d0b9f2ba",
   "metadata": {
    "tags": []
   },
   "outputs": [],
   "source": [
    "LoadVariation_H = LoadVariation_H.reindex(pd.date_range(LoadVariation_H.index[0],LoadVariation_H.index[-1],freq='H'))\n",
    "id_time = LoadVariation_H[LoadVariation_H.isna()].index\n",
    "LoadVariation_H = LoadVariation_H.interpolate()"
   ]
  },
  {
   "cell_type": "markdown",
   "id": "ca212ec4-dff0-448f-a197-79864cf0c012",
   "metadata": {},
   "source": [
    "Add index:"
   ]
  },
  {
   "cell_type": "code",
   "execution_count": 37,
   "id": "e0d650ed-f32a-4795-9b51-643b6c769f4d",
   "metadata": {
    "tags": []
   },
   "outputs": [],
   "source": [
    "LoadVariation_H.index = pd.Index(range(1,8761),name='h')"
   ]
  },
  {
   "cell_type": "markdown",
   "id": "7b32d0f3-2cfb-46fa-957e-c0dafbaf286b",
   "metadata": {
    "tags": []
   },
   "source": [
    "Rescale load variation:"
   ]
  },
  {
   "cell_type": "code",
   "execution_count": 38,
   "id": "01cf4a15-8612-43cf-ac34-40a73e4f81d0",
   "metadata": {
    "tags": []
   },
   "outputs": [],
   "source": [
    "Tot_H = LoadVariation_H.sum()\n",
    "LoadVariation_H = LoadVariation_H/Tot_H"
   ]
  },
  {
   "cell_type": "markdown",
   "id": "6af7c049-b067-4191-8621-9d6f40d11c7a",
   "metadata": {},
   "source": [
    "Duplicate for all g_H areas:"
   ]
  },
  {
   "cell_type": "code",
   "execution_count": 39,
   "id": "84feffa3-8954-4c62-adaa-a07abd27d9f6",
   "metadata": {
    "tags": []
   },
   "outputs": [],
   "source": [
    "mi = pd.MultiIndex.from_product([['c_'+x for x in df_plant['g_H'].dropna().unique()],LoadVariation_H.index],names=['c_H','h'])\n",
    "LoadVariation_H = pd.Series(0,index=mi,name='LoadVariation_H').add(LoadVariation_H)"
   ]
  },
  {
   "cell_type": "markdown",
   "metadata": {},
   "source": [
    "`Inspect LoadVariation_H`"
   ]
  },
  {
   "cell_type": "code",
   "execution_count": 40,
   "metadata": {},
   "outputs": [
    {
     "name": "stdout",
     "output_type": "stream",
     "text": [
      "c_H                   h   \n",
      "c_DK1_Central         1       0.000088\n",
      "                      2       0.000079\n",
      "                      3       0.000079\n",
      "                      4       0.000087\n",
      "                      5       0.000117\n",
      "                                ...   \n",
      "c_DK2_SmallDecentral  8756    0.000165\n",
      "                      8757    0.000165\n",
      "                      8758    0.000150\n",
      "                      8759    0.000120\n",
      "                      8760    0.000091\n",
      "Name: LoadVariation_H, Length: 52560, dtype: float64\n"
     ]
    }
   ],
   "source": [
    "print(LoadVariation_H)"
   ]
  },
  {
   "cell_type": "markdown",
   "id": "d254d0d1-efad-4e50-9d9b-82308c620d8f",
   "metadata": {},
   "source": [
    "Get total demand:"
   ]
  },
  {
   "cell_type": "code",
   "execution_count": 41,
   "id": "e786a681-5d87-482d-b426-6f06f75d165a",
   "metadata": {
    "tags": []
   },
   "outputs": [],
   "source": [
    "Load_H = df_plant.groupby('g_H')['Generation_H'].sum().mul(10**6).rename('Load_H').rename_axis('c_H')\n",
    "Load_H.index = ['c_'+x for x in Load_H.index]"
   ]
  },
  {
   "cell_type": "markdown",
   "metadata": {},
   "source": [
    "`Inspect: Load for geographical scope.`"
   ]
  },
  {
   "cell_type": "code",
   "execution_count": 42,
   "metadata": {},
   "outputs": [
    {
     "name": "stdout",
     "output_type": "stream",
     "text": [
      "c_DK1_Central           12759000.0\n",
      "c_DK1_LargeDecentral     3896000.0\n",
      "c_DK1_SmallDecentral     5906000.0\n",
      "c_DK2_Central           12200000.0\n",
      "c_DK2_LargeDecentral     2017000.0\n",
      "c_DK2_SmallDecentral     1998000.0\n",
      "Name: Load_H, dtype: float64\n"
     ]
    }
   ],
   "source": [
    "print(Load_H)"
   ]
  },
  {
   "cell_type": "markdown",
   "id": "38d28f8e-7ff9-4785-9dbf-788ccdf41c54",
   "metadata": {
    "tags": []
   },
   "source": [
    "## Transmission capacities "
   ]
  },
  {
   "cell_type": "markdown",
   "id": "d47dc5b4-18a3-4242-817b-8314da0f3e0b",
   "metadata": {
    "tags": []
   },
   "source": [
    "Get hourly variations:"
   ]
  },
  {
   "cell_type": "code",
   "execution_count": 43,
   "id": "a0840227-ebf6-4fd8-8d20-27a4d7641ae7",
   "metadata": {
    "tags": []
   },
   "outputs": [],
   "source": [
    "file_path = os.path.join(data_dir,'TransmissionCapacities_DK_2019')\n",
    "df_ntc = pd.read_pickle(file_path)"
   ]
  },
  {
   "cell_type": "markdown",
   "id": "18dede57-c4c8-436f-b8d9-c46adfd12313",
   "metadata": {
    "tags": []
   },
   "source": [
    "Melt dataframe:"
   ]
  },
  {
   "cell_type": "code",
   "execution_count": 44,
   "id": "201d80bb-f92a-4f74-9fd4-ade3eb87f438",
   "metadata": {
    "tags": []
   },
   "outputs": [],
   "source": [
    "idx = (df_ntc['g_E']=='DK2') & (df_ntc['g_EE']=='DK1')\n",
    "df_ntc = pd.concat([\n",
    "    df_ntc.loc[~idx,['g_E','g_EE','h','ImportCapacity_MW']].rename(columns={'g_E':'g_EE','g_EE':'g_E','ImportCapacity_MW':'NTC'}),\n",
    "    df_ntc.loc[~idx,['g_E','g_EE','h','ExportCapacity_MW']].rename(columns={'ExportCapacity_MW':'NTC'})\n",
    "],axis=0)"
   ]
  },
  {
   "cell_type": "markdown",
   "metadata": {},
   "source": [
    "`Inspect df_ntc`"
   ]
  },
  {
   "cell_type": "code",
   "execution_count": 45,
   "metadata": {},
   "outputs": [
    {
     "data": {
      "text/html": [
       "<div>\n",
       "<style scoped>\n",
       "    .dataframe tbody tr th:only-of-type {\n",
       "        vertical-align: middle;\n",
       "    }\n",
       "\n",
       "    .dataframe tbody tr th {\n",
       "        vertical-align: top;\n",
       "    }\n",
       "\n",
       "    .dataframe thead th {\n",
       "        text-align: right;\n",
       "    }\n",
       "</style>\n",
       "<table border=\"1\" class=\"dataframe\">\n",
       "  <thead>\n",
       "    <tr style=\"text-align: right;\">\n",
       "      <th></th>\n",
       "      <th>g_EE</th>\n",
       "      <th>g_E</th>\n",
       "      <th>h</th>\n",
       "      <th>NTC</th>\n",
       "    </tr>\n",
       "  </thead>\n",
       "  <tbody>\n",
       "    <tr>\n",
       "      <th>0</th>\n",
       "      <td>DK1</td>\n",
       "      <td>DELU</td>\n",
       "      <td>1</td>\n",
       "      <td>1500.0</td>\n",
       "    </tr>\n",
       "    <tr>\n",
       "      <th>1</th>\n",
       "      <td>DK1</td>\n",
       "      <td>DELU</td>\n",
       "      <td>2</td>\n",
       "      <td>1500.0</td>\n",
       "    </tr>\n",
       "    <tr>\n",
       "      <th>2</th>\n",
       "      <td>DK1</td>\n",
       "      <td>DELU</td>\n",
       "      <td>3</td>\n",
       "      <td>1500.0</td>\n",
       "    </tr>\n",
       "    <tr>\n",
       "      <th>3</th>\n",
       "      <td>DK1</td>\n",
       "      <td>DELU</td>\n",
       "      <td>4</td>\n",
       "      <td>1500.0</td>\n",
       "    </tr>\n",
       "    <tr>\n",
       "      <th>4</th>\n",
       "      <td>DK1</td>\n",
       "      <td>DELU</td>\n",
       "      <td>5</td>\n",
       "      <td>1500.0</td>\n",
       "    </tr>\n",
       "  </tbody>\n",
       "</table>\n",
       "</div>"
      ],
      "text/plain": [
       "  g_EE   g_E  h     NTC\n",
       "0  DK1  DELU  1  1500.0\n",
       "1  DK1  DELU  2  1500.0\n",
       "2  DK1  DELU  3  1500.0\n",
       "3  DK1  DELU  4  1500.0\n",
       "4  DK1  DELU  5  1500.0"
      ]
     },
     "execution_count": 45,
     "metadata": {},
     "output_type": "execute_result"
    }
   ],
   "source": [
    "df_ntc.head()"
   ]
  },
  {
   "cell_type": "markdown",
   "id": "1118c5b0-ab38-48ab-9d61-b008d4ba97e9",
   "metadata": {},
   "source": [
    "Get maximum capacity:"
   ]
  },
  {
   "cell_type": "code",
   "execution_count": 46,
   "id": "f93ea0a6-6a9f-4904-a9f6-82c5ce0b71e2",
   "metadata": {
    "tags": []
   },
   "outputs": [],
   "source": [
    "df_ttc = pd.read_pickle(os.path.join(data_dir,'TTC_DK_2023')).replace({'NOS':'NO2'})"
   ]
  },
  {
   "cell_type": "markdown",
   "id": "fc63d8ff-b189-4514-be59-3ce4b88a2be4",
   "metadata": {
    "tags": []
   },
   "source": [
    "Add hourly variations:"
   ]
  },
  {
   "cell_type": "code",
   "execution_count": 47,
   "id": "1827e555-0417-4b6a-b76d-88b24e2fd795",
   "metadata": {
    "tags": []
   },
   "outputs": [],
   "source": [
    "df_TCap = df_ntc.merge(df_ttc,how='outer')"
   ]
  },
  {
   "cell_type": "markdown",
   "metadata": {},
   "source": [
    "`Inspect df_TCap`"
   ]
  },
  {
   "cell_type": "code",
   "execution_count": 48,
   "metadata": {},
   "outputs": [
    {
     "data": {
      "text/html": [
       "<div>\n",
       "<style scoped>\n",
       "    .dataframe tbody tr th:only-of-type {\n",
       "        vertical-align: middle;\n",
       "    }\n",
       "\n",
       "    .dataframe tbody tr th {\n",
       "        vertical-align: top;\n",
       "    }\n",
       "\n",
       "    .dataframe thead th {\n",
       "        text-align: right;\n",
       "    }\n",
       "</style>\n",
       "<table border=\"1\" class=\"dataframe\">\n",
       "  <thead>\n",
       "    <tr style=\"text-align: right;\">\n",
       "      <th></th>\n",
       "      <th>g_EE</th>\n",
       "      <th>g_E</th>\n",
       "      <th>h</th>\n",
       "      <th>NTC</th>\n",
       "      <th>Year</th>\n",
       "      <th>TTC</th>\n",
       "    </tr>\n",
       "  </thead>\n",
       "  <tbody>\n",
       "    <tr>\n",
       "      <th>0</th>\n",
       "      <td>DK1</td>\n",
       "      <td>DELU</td>\n",
       "      <td>1</td>\n",
       "      <td>1500.0</td>\n",
       "      <td>2023</td>\n",
       "      <td>2500</td>\n",
       "    </tr>\n",
       "    <tr>\n",
       "      <th>1</th>\n",
       "      <td>DK1</td>\n",
       "      <td>DELU</td>\n",
       "      <td>2</td>\n",
       "      <td>1500.0</td>\n",
       "      <td>2023</td>\n",
       "      <td>2500</td>\n",
       "    </tr>\n",
       "    <tr>\n",
       "      <th>2</th>\n",
       "      <td>DK1</td>\n",
       "      <td>DELU</td>\n",
       "      <td>3</td>\n",
       "      <td>1500.0</td>\n",
       "      <td>2023</td>\n",
       "      <td>2500</td>\n",
       "    </tr>\n",
       "    <tr>\n",
       "      <th>3</th>\n",
       "      <td>DK1</td>\n",
       "      <td>DELU</td>\n",
       "      <td>4</td>\n",
       "      <td>1500.0</td>\n",
       "      <td>2023</td>\n",
       "      <td>2500</td>\n",
       "    </tr>\n",
       "    <tr>\n",
       "      <th>4</th>\n",
       "      <td>DK1</td>\n",
       "      <td>DELU</td>\n",
       "      <td>5</td>\n",
       "      <td>1500.0</td>\n",
       "      <td>2023</td>\n",
       "      <td>2500</td>\n",
       "    </tr>\n",
       "  </tbody>\n",
       "</table>\n",
       "</div>"
      ],
      "text/plain": [
       "  g_EE   g_E  h     NTC  Year   TTC\n",
       "0  DK1  DELU  1  1500.0  2023  2500\n",
       "1  DK1  DELU  2  1500.0  2023  2500\n",
       "2  DK1  DELU  3  1500.0  2023  2500\n",
       "3  DK1  DELU  4  1500.0  2023  2500\n",
       "4  DK1  DELU  5  1500.0  2023  2500"
      ]
     },
     "execution_count": 48,
     "metadata": {},
     "output_type": "execute_result"
    }
   ],
   "source": [
    "df_TCap.head()"
   ]
  },
  {
   "cell_type": "markdown",
   "id": "d2734353-3595-48b8-a632-72edf183f48e",
   "metadata": {
    "tags": []
   },
   "source": [
    "Correct TTC if actual measured it higher:"
   ]
  },
  {
   "cell_type": "code",
   "execution_count": 49,
   "id": "e9135642-4790-4d5b-b840-2b667f23213e",
   "metadata": {
    "tags": []
   },
   "outputs": [],
   "source": [
    "df_TCap['TTC'] = [max(x,y) for x,y in zip(df_TCap['NTC'],df_TCap['TTC'])]"
   ]
  },
  {
   "cell_type": "markdown",
   "id": "d84416ea-86e3-40dd-92f8-a079b64217ab",
   "metadata": {},
   "source": [
    "Calculate capacity factor:"
   ]
  },
  {
   "cell_type": "code",
   "execution_count": 50,
   "id": "45f1ece3-c66c-4bc2-a331-794ce074fde3",
   "metadata": {
    "tags": []
   },
   "outputs": [],
   "source": [
    "df_TCap['CapVariation'] = [max(x,0)/y for x,y in zip(df_TCap['NTC'],df_TCap['TTC'])]"
   ]
  },
  {
   "cell_type": "markdown",
   "id": "5e8faca3-6dec-4f19-b79d-0dd28d343c8a",
   "metadata": {
    "tags": []
   },
   "source": [
    "Find rows with foreign connections:"
   ]
  },
  {
   "cell_type": "code",
   "execution_count": 51,
   "id": "78727577-39b6-4d55-b48f-b8437a8f5d7c",
   "metadata": {
    "tags": []
   },
   "outputs": [],
   "source": [
    "idx_DK = (df_TCap['g_E'].str.find('DK')!=-1) & (df_TCap['g_EE'].str.find('DK')!=-1)"
   ]
  },
  {
   "cell_type": "markdown",
   "id": "190bc8cc-1ddd-41d7-9866-2729ced1bbff",
   "metadata": {},
   "source": [
    "Make variation in import capacities:"
   ]
  },
  {
   "cell_type": "code",
   "execution_count": 52,
   "id": "d3ba343f-ac32-4787-aa3a-31474a278aeb",
   "metadata": {
    "tags": []
   },
   "outputs": [],
   "source": [
    "import_idx = (df_TCap['g_E'].str.find('DK')!=-1) & (~idx_DK)\n",
    "df_M = df_TCap[import_idx].copy()\n",
    "df_M['hvt'] = [g_E+'_ImportFrom_'+g_EE for g_E,g_EE in zip(df_M['g_E'],df_M['g_EE'])] \n",
    "df_M2 = df_M.set_index(['h','hvt'])['CapVariation'].unstack('hvt').rename_axis(None,axis=1)"
   ]
  },
  {
   "cell_type": "markdown",
   "id": "bb2e65b0-3834-4144-a5ae-45c909ce8956",
   "metadata": {
    "tags": []
   },
   "source": [
    "Add import capacity variation to the main dataframe"
   ]
  },
  {
   "cell_type": "code",
   "execution_count": 53,
   "id": "e2d6b4f1-f385-42bf-bb5c-b745cd388247",
   "metadata": {
    "tags": []
   },
   "outputs": [],
   "source": [
    "CapVariation = pd.concat([CapVariation,df_M2],axis=1)"
   ]
  },
  {
   "cell_type": "markdown",
   "metadata": {},
   "source": [
    "`Inspect CapVariation`"
   ]
  },
  {
   "cell_type": "code",
   "execution_count": 54,
   "metadata": {},
   "outputs": [
    {
     "data": {
      "text/html": [
       "<div>\n",
       "<style scoped>\n",
       "    .dataframe tbody tr th:only-of-type {\n",
       "        vertical-align: middle;\n",
       "    }\n",
       "\n",
       "    .dataframe tbody tr th {\n",
       "        vertical-align: top;\n",
       "    }\n",
       "\n",
       "    .dataframe thead th {\n",
       "        text-align: right;\n",
       "    }\n",
       "</style>\n",
       "<table border=\"1\" class=\"dataframe\">\n",
       "  <thead>\n",
       "    <tr style=\"text-align: right;\">\n",
       "      <th></th>\n",
       "      <th>ROR</th>\n",
       "      <th>PV_DK1</th>\n",
       "      <th>WS_DK1</th>\n",
       "      <th>WL_DK1</th>\n",
       "      <th>PV_DK2</th>\n",
       "      <th>WS_DK2</th>\n",
       "      <th>WL_DK2</th>\n",
       "      <th>SH_DK1_Central</th>\n",
       "      <th>SH_DK1_LargeDecentral</th>\n",
       "      <th>SH_DK1_SmallDecentral</th>\n",
       "      <th>SH_DK2_Central</th>\n",
       "      <th>SH_DK2_LargeDecentral</th>\n",
       "      <th>SH_DK2_SmallDecentral</th>\n",
       "      <th>Standard</th>\n",
       "      <th>DK1_ImportFrom_DELU</th>\n",
       "      <th>DK1_ImportFrom_NL</th>\n",
       "      <th>DK1_ImportFrom_NO2</th>\n",
       "      <th>DK1_ImportFrom_SE3</th>\n",
       "      <th>DK2_ImportFrom_DELU</th>\n",
       "      <th>DK2_ImportFrom_SE4</th>\n",
       "    </tr>\n",
       "    <tr>\n",
       "      <th>h</th>\n",
       "      <th></th>\n",
       "      <th></th>\n",
       "      <th></th>\n",
       "      <th></th>\n",
       "      <th></th>\n",
       "      <th></th>\n",
       "      <th></th>\n",
       "      <th></th>\n",
       "      <th></th>\n",
       "      <th></th>\n",
       "      <th></th>\n",
       "      <th></th>\n",
       "      <th></th>\n",
       "      <th></th>\n",
       "      <th></th>\n",
       "      <th></th>\n",
       "      <th></th>\n",
       "      <th></th>\n",
       "      <th></th>\n",
       "      <th></th>\n",
       "    </tr>\n",
       "  </thead>\n",
       "  <tbody>\n",
       "    <tr>\n",
       "      <th>1</th>\n",
       "      <td>0.145054</td>\n",
       "      <td>0.000386</td>\n",
       "      <td>0.348375</td>\n",
       "      <td>0.561605</td>\n",
       "      <td>0.000597</td>\n",
       "      <td>0.246376</td>\n",
       "      <td>0.749428</td>\n",
       "      <td>3.570287e-09</td>\n",
       "      <td>1.428115e-07</td>\n",
       "      <td>7.533306e-07</td>\n",
       "      <td>1.766600e-09</td>\n",
       "      <td>3.533201e-09</td>\n",
       "      <td>1.943260e-07</td>\n",
       "      <td>1</td>\n",
       "      <td>0.36</td>\n",
       "      <td>0.0</td>\n",
       "      <td>0.938725</td>\n",
       "      <td>0.293706</td>\n",
       "      <td>0.593909</td>\n",
       "      <td>0.275429</td>\n",
       "    </tr>\n",
       "    <tr>\n",
       "      <th>2</th>\n",
       "      <td>0.145054</td>\n",
       "      <td>0.000386</td>\n",
       "      <td>0.372704</td>\n",
       "      <td>0.571369</td>\n",
       "      <td>0.000597</td>\n",
       "      <td>0.319088</td>\n",
       "      <td>0.874803</td>\n",
       "      <td>3.570287e-09</td>\n",
       "      <td>1.428115e-07</td>\n",
       "      <td>7.533306e-07</td>\n",
       "      <td>1.766600e-09</td>\n",
       "      <td>3.533201e-09</td>\n",
       "      <td>1.943260e-07</td>\n",
       "      <td>1</td>\n",
       "      <td>0.36</td>\n",
       "      <td>0.0</td>\n",
       "      <td>0.938725</td>\n",
       "      <td>0.289510</td>\n",
       "      <td>0.593909</td>\n",
       "      <td>0.271429</td>\n",
       "    </tr>\n",
       "    <tr>\n",
       "      <th>3</th>\n",
       "      <td>0.145054</td>\n",
       "      <td>0.000386</td>\n",
       "      <td>0.151374</td>\n",
       "      <td>0.543297</td>\n",
       "      <td>0.000597</td>\n",
       "      <td>0.250254</td>\n",
       "      <td>0.801445</td>\n",
       "      <td>3.570287e-09</td>\n",
       "      <td>1.428115e-07</td>\n",
       "      <td>7.533306e-07</td>\n",
       "      <td>1.766600e-09</td>\n",
       "      <td>3.533201e-09</td>\n",
       "      <td>1.943260e-07</td>\n",
       "      <td>1</td>\n",
       "      <td>0.36</td>\n",
       "      <td>0.0</td>\n",
       "      <td>0.938725</td>\n",
       "      <td>0.302098</td>\n",
       "      <td>0.593909</td>\n",
       "      <td>0.282857</td>\n",
       "    </tr>\n",
       "    <tr>\n",
       "      <th>4</th>\n",
       "      <td>0.145054</td>\n",
       "      <td>0.000386</td>\n",
       "      <td>0.138913</td>\n",
       "      <td>0.527675</td>\n",
       "      <td>0.000597</td>\n",
       "      <td>0.204687</td>\n",
       "      <td>0.769435</td>\n",
       "      <td>3.570287e-09</td>\n",
       "      <td>1.428115e-07</td>\n",
       "      <td>7.533306e-07</td>\n",
       "      <td>1.766600e-09</td>\n",
       "      <td>3.533201e-09</td>\n",
       "      <td>1.943260e-07</td>\n",
       "      <td>1</td>\n",
       "      <td>0.36</td>\n",
       "      <td>0.0</td>\n",
       "      <td>0.938725</td>\n",
       "      <td>0.309091</td>\n",
       "      <td>0.593909</td>\n",
       "      <td>0.290286</td>\n",
       "    </tr>\n",
       "    <tr>\n",
       "      <th>5</th>\n",
       "      <td>0.145054</td>\n",
       "      <td>0.000386</td>\n",
       "      <td>0.138913</td>\n",
       "      <td>0.514249</td>\n",
       "      <td>0.000597</td>\n",
       "      <td>0.198870</td>\n",
       "      <td>0.760099</td>\n",
       "      <td>3.570287e-09</td>\n",
       "      <td>1.428115e-07</td>\n",
       "      <td>7.533306e-07</td>\n",
       "      <td>1.766600e-09</td>\n",
       "      <td>3.533201e-09</td>\n",
       "      <td>1.943260e-07</td>\n",
       "      <td>1</td>\n",
       "      <td>0.36</td>\n",
       "      <td>0.0</td>\n",
       "      <td>0.938725</td>\n",
       "      <td>0.327273</td>\n",
       "      <td>0.593909</td>\n",
       "      <td>0.306857</td>\n",
       "    </tr>\n",
       "  </tbody>\n",
       "</table>\n",
       "</div>"
      ],
      "text/plain": [
       "        ROR    PV_DK1    WS_DK1    WL_DK1    PV_DK2    WS_DK2    WL_DK2  \\\n",
       "h                                                                         \n",
       "1  0.145054  0.000386  0.348375  0.561605  0.000597  0.246376  0.749428   \n",
       "2  0.145054  0.000386  0.372704  0.571369  0.000597  0.319088  0.874803   \n",
       "3  0.145054  0.000386  0.151374  0.543297  0.000597  0.250254  0.801445   \n",
       "4  0.145054  0.000386  0.138913  0.527675  0.000597  0.204687  0.769435   \n",
       "5  0.145054  0.000386  0.138913  0.514249  0.000597  0.198870  0.760099   \n",
       "\n",
       "   SH_DK1_Central  SH_DK1_LargeDecentral  SH_DK1_SmallDecentral  \\\n",
       "h                                                                 \n",
       "1    3.570287e-09           1.428115e-07           7.533306e-07   \n",
       "2    3.570287e-09           1.428115e-07           7.533306e-07   \n",
       "3    3.570287e-09           1.428115e-07           7.533306e-07   \n",
       "4    3.570287e-09           1.428115e-07           7.533306e-07   \n",
       "5    3.570287e-09           1.428115e-07           7.533306e-07   \n",
       "\n",
       "   SH_DK2_Central  SH_DK2_LargeDecentral  SH_DK2_SmallDecentral  Standard  \\\n",
       "h                                                                           \n",
       "1    1.766600e-09           3.533201e-09           1.943260e-07         1   \n",
       "2    1.766600e-09           3.533201e-09           1.943260e-07         1   \n",
       "3    1.766600e-09           3.533201e-09           1.943260e-07         1   \n",
       "4    1.766600e-09           3.533201e-09           1.943260e-07         1   \n",
       "5    1.766600e-09           3.533201e-09           1.943260e-07         1   \n",
       "\n",
       "   DK1_ImportFrom_DELU  DK1_ImportFrom_NL  DK1_ImportFrom_NO2  \\\n",
       "h                                                               \n",
       "1                 0.36                0.0            0.938725   \n",
       "2                 0.36                0.0            0.938725   \n",
       "3                 0.36                0.0            0.938725   \n",
       "4                 0.36                0.0            0.938725   \n",
       "5                 0.36                0.0            0.938725   \n",
       "\n",
       "   DK1_ImportFrom_SE3  DK2_ImportFrom_DELU  DK2_ImportFrom_SE4  \n",
       "h                                                               \n",
       "1            0.293706             0.593909            0.275429  \n",
       "2            0.289510             0.593909            0.271429  \n",
       "3            0.302098             0.593909            0.282857  \n",
       "4            0.309091             0.593909            0.290286  \n",
       "5            0.327273             0.593909            0.306857  "
      ]
     },
     "execution_count": 54,
     "metadata": {},
     "output_type": "execute_result"
    }
   ],
   "source": [
    "CapVariation.head()"
   ]
  },
  {
   "cell_type": "markdown",
   "id": "276e7253-8a61-48ea-abf4-e8b4515a640b",
   "metadata": {
    "tags": []
   },
   "source": [
    "Add variation in importing capacities to mapping:"
   ]
  },
  {
   "cell_type": "code",
   "execution_count": 55,
   "id": "f6882e6f-908c-4613-8256-55f1e212fe6f",
   "metadata": {
    "tags": []
   },
   "outputs": [],
   "source": [
    "import_hvts = CapVariation.columns[CapVariation.columns.str.find('ImportFrom')!=-1]\n",
    "import_ids = ['id_' + hvt for hvt in import_hvts]\n",
    "id2hvt = pd.concat([id2hvt,pd.DataFrame().assign(id=import_ids,hvt=import_hvts)],axis=0)"
   ]
  },
  {
   "cell_type": "markdown",
   "id": "77878597-b527-494e-9203-e46f2d9c760f",
   "metadata": {},
   "source": [
    "Make variation in export capacities:"
   ]
  },
  {
   "cell_type": "code",
   "execution_count": 56,
   "id": "d5e3c538-b21f-4773-a08b-a18b159f5625",
   "metadata": {
    "tags": []
   },
   "outputs": [],
   "source": [
    "export_idx = (df_TCap['g_EE'].str.find('DK')!=-1) & (~idx_DK)\n",
    "df_X = df_TCap[export_idx].copy()\n",
    "df_X['c_E'] = [g_EE+'_ExportTo_'+g_E for g_E,g_EE in zip(df_X['g_E'],df_X['g_EE'])]\n",
    "df_X2 = df_X.set_index(['c_E','h'])['CapVariation'].rename('LoadVariation_E')"
   ]
  },
  {
   "cell_type": "markdown",
   "id": "7aab082b-c6da-4c83-bc2e-f84fb97076e9",
   "metadata": {
    "tags": []
   },
   "source": [
    "Add export variation to load variation:"
   ]
  },
  {
   "cell_type": "code",
   "execution_count": 57,
   "id": "25708adf-6fcc-45d1-a3bf-94e7c68fc226",
   "metadata": {
    "tags": []
   },
   "outputs": [],
   "source": [
    "LoadVariation_E = pd.concat([LoadVariation_E,df_X2],axis=0)"
   ]
  },
  {
   "cell_type": "markdown",
   "id": "e801b08e-7c23-4358-8306-bd171aa4842d",
   "metadata": {
    "tags": []
   },
   "source": [
    "Add total demand:"
   ]
  },
  {
   "cell_type": "code",
   "execution_count": 58,
   "id": "e3a6789d-bff8-4b3a-be66-7cf0419d875f",
   "metadata": {
    "tags": []
   },
   "outputs": [],
   "source": [
    "Load_E = pd.concat([Load_E,df_X.groupby('c_E')['TTC'].max().rename('Load_E')],axis=0)"
   ]
  },
  {
   "cell_type": "markdown",
   "id": "101f77e4-187a-4e93-a369-8cd3f718207a",
   "metadata": {
    "tags": []
   },
   "source": [
    "Finally, get actual transmission capacities if they are present:"
   ]
  },
  {
   "cell_type": "code",
   "execution_count": 59,
   "id": "ad62dec4-0d16-49ef-8abd-e38e1239248c",
   "metadata": {
    "tags": []
   },
   "outputs": [],
   "source": [
    "lineCapacity = df_TCap[idx_DK].groupby(['g_E','g_EE'])['TTC'].max().reset_index().rename(columns={'g_EE':'g_E_alias'})"
   ]
  },
  {
   "cell_type": "markdown",
   "id": "deb2e737-1198-46c2-ac63-21aa08305f48",
   "metadata": {
    "tags": []
   },
   "source": [
    "And also variation transmission lines:"
   ]
  },
  {
   "cell_type": "code",
   "execution_count": 60,
   "id": "5a9fd90b-90e2-47e3-b09f-0bfbcf400274",
   "metadata": {
    "tags": []
   },
   "outputs": [],
   "source": [
    "lineVariation = df_TCap.loc[idx_DK,['g_E','g_EE','h','CapVariation']].rename(columns={'g_EE':'g_E_alias','CapVariation':'lineVariation'})"
   ]
  },
  {
   "cell_type": "markdown",
   "id": "1b830dc0-6713-4cb3-854a-b3e3ba8b4653",
   "metadata": {
    "tags": []
   },
   "source": [
    "## Generation technologies"
   ]
  },
  {
   "cell_type": "markdown",
   "id": "05aed536-f682-4ac3-8218-f61686a2dd08",
   "metadata": {
    "tags": []
   },
   "source": [
    "Electricity generators from Danish Energy Agency:"
   ]
  },
  {
   "cell_type": "code",
   "execution_count": 61,
   "id": "fb8c7b2e-a69e-4432-8313-5e47ea7d0aa1",
   "metadata": {
    "tags": []
   },
   "outputs": [],
   "source": [
    "GeneratingCapacity_E = df_plant.set_index('id')['GeneratingCapacity_E'].dropna()"
   ]
  },
  {
   "cell_type": "markdown",
   "id": "3add6207-e756-4e77-8fcb-b5956e7545f1",
   "metadata": {
    "tags": []
   },
   "source": [
    "Add importing areas:"
   ]
  },
  {
   "cell_type": "code",
   "execution_count": 62,
   "id": "5b5c9d83-1eb5-40db-8aa9-8ab8e77acd32",
   "metadata": {
    "tags": []
   },
   "outputs": [],
   "source": [
    "df_M['id'] = ['id_'+x for x in df_M['hvt']]\n",
    "GeneratingCapacity_E = pd.concat([\n",
    "    GeneratingCapacity_E,\n",
    "    df_M.groupby('id')['TTC'].max().rename('GeneratingCapacity_E')\n",
    "],axis=0).reset_index()"
   ]
  },
  {
   "cell_type": "markdown",
   "id": "28127f48-c97f-4e1d-8ca3-ff3da9f5e861",
   "metadata": {
    "tags": []
   },
   "source": [
    "Heat generators from Danish Energy Agency:"
   ]
  },
  {
   "cell_type": "code",
   "execution_count": 63,
   "id": "b13f64f7-f199-40f4-9386-0ac5279221fa",
   "metadata": {
    "tags": []
   },
   "outputs": [],
   "source": [
    "GeneratingCapacity_H = df_plant.set_index('id')['GeneratingCapacity_H'].dropna().reset_index()"
   ]
  },
  {
   "cell_type": "markdown",
   "id": "784ef9f1-3000-4f4c-a478-f00515fee870",
   "metadata": {
    "tags": []
   },
   "source": [
    "Fuel mix:"
   ]
  },
  {
   "cell_type": "code",
   "execution_count": 64,
   "id": "7e48e48a-563c-4f10-8b7f-452991b4a73d",
   "metadata": {
    "tags": []
   },
   "outputs": [],
   "source": [
    "FuelMix = df_plant.set_index(['id','BFt'])['FuelMix'].dropna().reset_index()"
   ]
  },
  {
   "cell_type": "markdown",
   "id": "7f8f87d1-8584-485b-9fda-fc1b5d7af3de",
   "metadata": {
    "tags": []
   },
   "source": [
    "Electricity to Heat ratios:"
   ]
  },
  {
   "cell_type": "code",
   "execution_count": 65,
   "id": "9ec44fd8-5bdf-482c-b62e-b74e27a0a6d1",
   "metadata": {
    "tags": []
   },
   "outputs": [],
   "source": [
    "E2H = df_plant.set_index('id')['E2H'].dropna().reset_index()"
   ]
  },
  {
   "cell_type": "markdown",
   "id": "d75c4789-ebf2-4af1-83c9-38e2c139ce90",
   "metadata": {
    "tags": []
   },
   "source": [
    "Electricity to Hydrogen ratios:"
   ]
  },
  {
   "cell_type": "code",
   "execution_count": 66,
   "id": "24b951b6-23fc-4ac8-a2e1-56866604e0b1",
   "metadata": {
    "tags": []
   },
   "outputs": [],
   "source": [
    "E2HH = df_plant.set_index('id')['E2HH'].dropna().reset_index()"
   ]
  },
  {
   "cell_type": "markdown",
   "id": "a01f0227-2b0b-4925-adbf-526e255f5dbd",
   "metadata": {
    "tags": []
   },
   "source": [
    "Foreign plants marginal generation costs:"
   ]
  },
  {
   "cell_type": "code",
   "execution_count": 67,
   "id": "11a7cc22-ac4d-47fb-a068-69b32c143621",
   "metadata": {
    "tags": []
   },
   "outputs": [],
   "source": [
    "OtherMC = df_prices[['g_E','g_EE','h','SpotPrice_€/MWh']].drop_duplicates()\n",
    "OtherMC['id'] = ['id_'+g_EE+'_ImportFrom_'+g_E for g_E,g_EE in zip(OtherMC['g_E'],OtherMC['g_EE'])]\n",
    "OtherMC = OtherMC.set_index(['id','h'])['SpotPrice_€/MWh'].rename('OtherMC').unstack('id').rename_axis(None,axis=1)"
   ]
  },
  {
   "cell_type": "markdown",
   "id": "491259b0-b152-4b8f-9924-4534a2b529bc",
   "metadata": {},
   "source": [
    "## Marginal generation costs:"
   ]
  },
  {
   "cell_type": "markdown",
   "id": "58b2e1c1-fa64-419a-b2f2-5fc83ce632a3",
   "metadata": {},
   "source": [
    "Download Danish Energy Agency's technology catalogue:"
   ]
  },
  {
   "cell_type": "code",
   "execution_count": 68,
   "id": "0cd2b861-aaf7-4d9c-8c26-f2436fe77089",
   "metadata": {
    "tags": []
   },
   "outputs": [],
   "source": [
    "file_path = os.path.join(direc,'RawData','technology_data_for_el_and_dh.xlsx')\n",
    "if os.path.isfile(file_path):\n",
    "    df_tc = pd.read_excel(file_path,decimal=',')\n",
    "else:\n",
    "    url = 'https://ens.dk/sites/ens.dk/files/Analyser/technology_data_for_el_and_dh.xlsx'\n",
    "    df_tc= pd.read_excel(url,sheet_name='alldata_flat')\n",
    "    df_tc.to_excel(file_path)"
   ]
  },
  {
   "cell_type": "markdown",
   "id": "05db68ee-08d6-445b-a2a9-98647bb1a5e7",
   "metadata": {
    "tags": []
   },
   "source": [
    "Subset to most recent year:"
   ]
  },
  {
   "cell_type": "markdown",
   "metadata": {},
   "source": [
    "`Find unique values in year column to make decision.`"
   ]
  },
  {
   "cell_type": "code",
   "execution_count": 69,
   "metadata": {},
   "outputs": [
    {
     "name": "stdout",
     "output_type": "stream",
     "text": [
      "[2015 2020 2030 2050 2040 2025]\n"
     ]
    }
   ],
   "source": [
    "print(df_tc['year'].unique())"
   ]
  },
  {
   "cell_type": "markdown",
   "metadata": {},
   "source": [
    "`We are also going to use 2020 as the most recent year. Additionally, it is closer to 2019 than 2015 is to 2019.`"
   ]
  },
  {
   "cell_type": "code",
   "execution_count": 70,
   "id": "0fcced2e-11e3-407d-b355-bb85afcafb70",
   "metadata": {
    "tags": []
   },
   "outputs": [],
   "source": [
    "df_tc = df_tc[df_tc['year']==2020]"
   ]
  },
  {
   "cell_type": "markdown",
   "id": "fc2f6e02-42b9-4c56-904a-a55a0cd2bbee",
   "metadata": {
    "tags": []
   },
   "source": [
    "Subset to only financial data:"
   ]
  },
  {
   "cell_type": "code",
   "execution_count": 71,
   "id": "bf9f7fe6-cade-4181-a107-bdabd42b6167",
   "metadata": {
    "tags": []
   },
   "outputs": [],
   "source": [
    "df_tc = df_tc[df_tc['cat']=='Financial data']"
   ]
  },
  {
   "cell_type": "markdown",
   "id": "67ae1bf3-9e19-4321-915a-a7431722050d",
   "metadata": {
    "tags": []
   },
   "source": [
    "Get DEA's technologies:"
   ]
  },
  {
   "cell_type": "code",
   "execution_count": 72,
   "id": "94051ad5-bc61-4875-9af8-eaff41e16c50",
   "metadata": {
    "tags": []
   },
   "outputs": [],
   "source": [
    "DEA_tc = df_tc['technology'].sort_values().unique()"
   ]
  },
  {
   "cell_type": "markdown",
   "id": "43619eb9-d7a5-40e4-adc4-a470b6eeff31",
   "metadata": {
    "tags": []
   },
   "source": [
    "Specifying mapping between model technologies and the ones in Danish Energy Agency's catalogue:"
   ]
  },
  {
   "cell_type": "code",
   "execution_count": 73,
   "metadata": {},
   "outputs": [
    {
     "name": "stdout",
     "output_type": "stream",
     "text": [
      "['BP_Biogas' 'IndustryH_Biogas' 'BH_Biomass' 'BP_Biomass' 'BP_Coal'\n",
      " 'BH_Natgas' 'BP_Natgas' 'IndustryH_Natgas' 'BH_Oil' 'BP_Oil'\n",
      " 'IndustryH_Oil' 'BH_Waste' 'BP_Waste' 'EP' 'HPstandard' 'HPsurplusheat'\n",
      " 'IH' 'IndustryH' 'SH' 'BH_Biogas' 'IndustryH_Biomass' 'GT' 'CD_Biogas'\n",
      " 'IndustryE_Biogas' 'IndustryE_Biomass' 'CD_Natgas' 'IndustryE_Natgas'\n",
      " 'CD_Oil' 'IndustryE_Oil' 'PV' 'ROR' 'WL' 'WS' 'CD_Coal']\n"
     ]
    }
   ],
   "source": [
    "# Plants from ClimateOutlook\n",
    "print(df_plant['tech'].unique())"
   ]
  },
  {
   "cell_type": "code",
   "execution_count": 74,
   "id": "68cc7d6e-182a-4ac2-9504-d153f92fab07",
   "metadata": {
    "tags": []
   },
   "outputs": [],
   "source": [
    "tech2technology = {\n",
    "    ## BH (Boiler)\n",
    "    # 'BH_Biogas':[np.nan], \n",
    "    'BH_Biomass':[x for x in DEA_tc if x.find('Biomass boiler')!=-1], \n",
    "    'BH_Natgas':[x for x in DEA_tc if x.find('Gas boiler')!=-1],  \n",
    "    # 'BH_Oil': [np.nan], \n",
    "    'BH_Waste':[x for x in DEA_tc if x.find('Waste boiler')!=-1],\n",
    "    'IH':[x for x in DEA_tc if x.find('Electric boiler')!=-1], \n",
    "    ## BP\n",
    "    'BP_Biogas':[x for x in DEA_tc if x.find('back pressure - biogas')!=-1], \n",
    "    'BP_Biomass':[x for x in DEA_tc if x.find('Biomass CHP - back pressure')!=-1], \n",
    "    'BP_Coal':[x for x in DEA_tc if x.find('Coal power plant, supercritical - extraction -')!=-1], \n",
    "    'BP_Natgas':[x for x in DEA_tc if x.find('back pressure - natural gas')!=-1], \n",
    "    'BP_Oil':[x for x in DEA_tc if x.find('back pressure - light fuel oil')!=-1],\n",
    "    'BP_Waste':[x for x in DEA_tc if x.find('Waste CHP')!=-1], \n",
    "    ## CD (Steam turbine for electricity production only)\n",
    "    # 'CD_Biogas':[np.nan], \n",
    "    'CD_Coal':[x for x in DEA_tc if x.find('Coal power plant, supercritical - extraction -')!=-1], \n",
    "    'CD_Natgas':[x for x in DEA_tc if x.find('extraction - natural gas')!=-1], \n",
    "    'CD_Oil':[x for x in DEA_tc if x.find('back pressure - light fuel oil')!=-1], \n",
    "    ## Geothermal\n",
    "    'GT':[x for x in DEA_tc if x.find('Geothermal plant, absorption heat pump')!=-1],\n",
    "    ## HP\n",
    "    'HPstandard':[x for x in DEA_tc if x.find('Heat pump, air source')!=-1], \n",
    "    'HPsurplusheat':[x for x in DEA_tc if x.find('Heat pump, industrial excess heat')!=-1],\n",
    "    # 'IndustryE_Biogas':[np.nan],\n",
    "    # 'IndustryE_Natgas':[np.nan], \n",
    "    # 'IndustryE_Oil':[np.nan], \n",
    "    # 'IndustryH':[np.nan],\n",
    "    # 'IndustryH_Biogas':[np.nan], \n",
    "    # 'IndustryH_Biomass':[np.nan], \n",
    "    # 'IndustryH_Natgas':[np.nan],\n",
    "    # 'IndustryH_Oil':[np.nan], \n",
    "    'PV':[x for x in DEA_tc if x.find('PV -')!=-1], \n",
    "    # 'EP':[np.nan], \n",
    "    # 'ROR':[x for x in DEA_tc if x.find('Wave power')!=-1], \n",
    "    'SH':[x for x in DEA_tc if x.find('Solar DH')!=-1],\n",
    "    'WL':[x for x in DEA_tc if x.find('Onshore wind turbine')!=-1],\n",
    "    'WS':[x for x in DEA_tc if x.find('Offshore wind turbines')!=-1]\n",
    "}"
   ]
  },
  {
   "cell_type": "markdown",
   "id": "9c6dcee3-12f0-47f0-a75f-2bfff0e33461",
   "metadata": {
    "tags": []
   },
   "source": [
    "Inflation rates:"
   ]
  },
  {
   "cell_type": "code",
   "execution_count": 75,
   "id": "1f55f8ad-9259-489b-8e80-6d488ebe6c35",
   "metadata": {
    "tags": []
   },
   "outputs": [],
   "source": [
    "π = pd.Series([1.531122704, 3.289449396, 2.662841655, 1.219993423, 0.199343827, -0.06164468, 0.183334861, 1.429107433, 1.73860862, 1.630522608, 0.476498853, 2.554506996, 8.833698867],index=pd.Index(range(2010,2023),name='t')).div(100).add(1)"
   ]
  },
  {
   "cell_type": "markdown",
   "id": "d94c49a4-d059-492d-825e-1fb68d9e0d6b",
   "metadata": {
    "tags": []
   },
   "source": [
    "Now get the average estimates:\n",
    "\n",
    "`Adjusting inflation: As we use electricity and heat prices for 2019 and we have the years 2015 and 2020 as base years in the file \"technology_data_for_el_and_dh\", we either need to adjust prices upwards (from 2015 to 2019) or downward (from 2020 to 2019). We do this with the if, elif loop and adjusting the lambda function in the code below.`"
   ]
  },
  {
   "cell_type": "code",
   "execution_count": 76,
   "metadata": {},
   "outputs": [
    {
     "data": {
      "text/html": [
       "<div>\n",
       "<style scoped>\n",
       "    .dataframe tbody tr th:only-of-type {\n",
       "        vertical-align: middle;\n",
       "    }\n",
       "\n",
       "    .dataframe tbody tr th {\n",
       "        vertical-align: top;\n",
       "    }\n",
       "\n",
       "    .dataframe thead th {\n",
       "        text-align: right;\n",
       "    }\n",
       "</style>\n",
       "<table border=\"1\" class=\"dataframe\">\n",
       "  <thead>\n",
       "    <tr style=\"text-align: right;\">\n",
       "      <th></th>\n",
       "      <th>Unnamed: 0</th>\n",
       "      <th>ws</th>\n",
       "      <th>technology</th>\n",
       "      <th>tech</th>\n",
       "      <th>type</th>\n",
       "      <th>input</th>\n",
       "      <th>size</th>\n",
       "      <th>cat</th>\n",
       "      <th>par</th>\n",
       "      <th>par_short</th>\n",
       "      <th>info</th>\n",
       "      <th>unit</th>\n",
       "      <th>priceyear</th>\n",
       "      <th>note</th>\n",
       "      <th>ref</th>\n",
       "      <th>est</th>\n",
       "      <th>year</th>\n",
       "      <th>val</th>\n",
       "    </tr>\n",
       "  </thead>\n",
       "  <tbody>\n",
       "    <tr>\n",
       "      <th>45</th>\n",
       "      <td>45</td>\n",
       "      <td>01 Coal CHP</td>\n",
       "      <td>Coal power plant, supercritical - extraction -...</td>\n",
       "      <td>Coal power plant, supercritical</td>\n",
       "      <td>extraction</td>\n",
       "      <td>coal</td>\n",
       "      <td>medium</td>\n",
       "      <td>Financial data</td>\n",
       "      <td>Fixed O&amp;M (*total) [2015-EUR/MW_e/y]</td>\n",
       "      <td>Fixed O&amp;M</td>\n",
       "      <td>*total</td>\n",
       "      <td>EUR/MW_e/y</td>\n",
       "      <td>2015.0</td>\n",
       "      <td>J</td>\n",
       "      <td>[17, 18, 19, 20, 21, 22]</td>\n",
       "      <td>ctrl</td>\n",
       "      <td>2020</td>\n",
       "      <td>31000.000000</td>\n",
       "    </tr>\n",
       "    <tr>\n",
       "      <th>49</th>\n",
       "      <td>49</td>\n",
       "      <td>01 Coal CHP</td>\n",
       "      <td>Coal power plant, supercritical - extraction -...</td>\n",
       "      <td>Coal power plant, supercritical</td>\n",
       "      <td>extraction</td>\n",
       "      <td>coal</td>\n",
       "      <td>medium</td>\n",
       "      <td>Financial data</td>\n",
       "      <td>Nominal investment (*total) [2015-MEUR/MW_e]</td>\n",
       "      <td>Nominal investment</td>\n",
       "      <td>*total</td>\n",
       "      <td>MEUR/MW_e</td>\n",
       "      <td>2015.0</td>\n",
       "      <td>J</td>\n",
       "      <td>[17, 18, 19, 20, 21, 22]</td>\n",
       "      <td>ctrl</td>\n",
       "      <td>2020</td>\n",
       "      <td>1.900000</td>\n",
       "    </tr>\n",
       "    <tr>\n",
       "      <th>53</th>\n",
       "      <td>53</td>\n",
       "      <td>01 Coal CHP</td>\n",
       "      <td>Coal power plant, supercritical - extraction -...</td>\n",
       "      <td>Coal power plant, supercritical</td>\n",
       "      <td>extraction</td>\n",
       "      <td>coal</td>\n",
       "      <td>medium</td>\n",
       "      <td>Financial data</td>\n",
       "      <td>Variable O&amp;M (*total) [2015-EUR/MWh_e]</td>\n",
       "      <td>Variable O&amp;M</td>\n",
       "      <td>*total</td>\n",
       "      <td>EUR/MWh_e</td>\n",
       "      <td>2015.0</td>\n",
       "      <td>J</td>\n",
       "      <td>[17, 18, 19, 20, 21, 22]</td>\n",
       "      <td>ctrl</td>\n",
       "      <td>2020</td>\n",
       "      <td>2.900000</td>\n",
       "    </tr>\n",
       "    <tr>\n",
       "      <th>181</th>\n",
       "      <td>181</td>\n",
       "      <td>02 LTE existing plant</td>\n",
       "      <td>Life time extension of coal extraction plant -...</td>\n",
       "      <td>Life time extension of coal extraction plant</td>\n",
       "      <td>refurbish</td>\n",
       "      <td>coal</td>\n",
       "      <td>large</td>\n",
       "      <td>Financial data</td>\n",
       "      <td>Nominal investment (equipment) [2015-MEUR/MW_e]</td>\n",
       "      <td>Nominal investment</td>\n",
       "      <td>equipment</td>\n",
       "      <td>MEUR/MW_e</td>\n",
       "      <td>2015.0</td>\n",
       "      <td>NaN</td>\n",
       "      <td>NaN</td>\n",
       "      <td>ctrl</td>\n",
       "      <td>2020</td>\n",
       "      <td>NaN</td>\n",
       "    </tr>\n",
       "    <tr>\n",
       "      <th>182</th>\n",
       "      <td>182</td>\n",
       "      <td>02 LTE existing plant</td>\n",
       "      <td>Life time extension of coal extraction plant -...</td>\n",
       "      <td>Life time extension of coal extraction plant</td>\n",
       "      <td>refurbish</td>\n",
       "      <td>coal</td>\n",
       "      <td>large</td>\n",
       "      <td>Financial data</td>\n",
       "      <td>Nominal investment (equipment) [2015-MEUR/MW_e]</td>\n",
       "      <td>Nominal investment</td>\n",
       "      <td>equipment</td>\n",
       "      <td>MEUR/MW_e</td>\n",
       "      <td>2015.0</td>\n",
       "      <td>NaN</td>\n",
       "      <td>NaN</td>\n",
       "      <td>lower</td>\n",
       "      <td>2020</td>\n",
       "      <td>NaN</td>\n",
       "    </tr>\n",
       "    <tr>\n",
       "      <th>...</th>\n",
       "      <td>...</td>\n",
       "      <td>...</td>\n",
       "      <td>...</td>\n",
       "      <td>...</td>\n",
       "      <td>...</td>\n",
       "      <td>...</td>\n",
       "      <td>...</td>\n",
       "      <td>...</td>\n",
       "      <td>...</td>\n",
       "      <td>...</td>\n",
       "      <td>...</td>\n",
       "      <td>...</td>\n",
       "      <td>...</td>\n",
       "      <td>...</td>\n",
       "      <td>...</td>\n",
       "      <td>...</td>\n",
       "      <td>...</td>\n",
       "      <td>...</td>\n",
       "    </tr>\n",
       "    <tr>\n",
       "      <th>18528</th>\n",
       "      <td>18528</td>\n",
       "      <td>21 Near shore turbines</td>\n",
       "      <td>Offshore wind turbines, nearshore - renewable ...</td>\n",
       "      <td>Offshore wind turbines, nearshore</td>\n",
       "      <td>renewable power</td>\n",
       "      <td>wind</td>\n",
       "      <td>large</td>\n",
       "      <td>Financial data</td>\n",
       "      <td>Nominal investment (project development etc.) ...</td>\n",
       "      <td>Nominal investment</td>\n",
       "      <td>project development etc.</td>\n",
       "      <td>MEUR/MW_e</td>\n",
       "      <td>2020.0</td>\n",
       "      <td>NaN</td>\n",
       "      <td>3, 6</td>\n",
       "      <td>ctrl</td>\n",
       "      <td>2020</td>\n",
       "      <td>0.394347</td>\n",
       "    </tr>\n",
       "    <tr>\n",
       "      <th>18537</th>\n",
       "      <td>18537</td>\n",
       "      <td>21 Near shore turbines</td>\n",
       "      <td>Offshore wind turbines, nearshore - renewable ...</td>\n",
       "      <td>Offshore wind turbines, nearshore</td>\n",
       "      <td>renewable power</td>\n",
       "      <td>wind</td>\n",
       "      <td>large</td>\n",
       "      <td>Financial data</td>\n",
       "      <td>Nominal investment (array cables) [2020-MEUR/M...</td>\n",
       "      <td>Nominal investment</td>\n",
       "      <td>array cables</td>\n",
       "      <td>MEUR/MW_e</td>\n",
       "      <td>2020.0</td>\n",
       "      <td>NaN</td>\n",
       "      <td>3</td>\n",
       "      <td>ctrl</td>\n",
       "      <td>2020</td>\n",
       "      <td>0.012591</td>\n",
       "    </tr>\n",
       "    <tr>\n",
       "      <th>18546</th>\n",
       "      <td>18546</td>\n",
       "      <td>21 Near shore turbines</td>\n",
       "      <td>Offshore wind turbines, nearshore - renewable ...</td>\n",
       "      <td>Offshore wind turbines, nearshore</td>\n",
       "      <td>renewable power</td>\n",
       "      <td>wind</td>\n",
       "      <td>large</td>\n",
       "      <td>Financial data</td>\n",
       "      <td>Nominal investment (foundation) [2020-MEUR/MW_e]</td>\n",
       "      <td>Nominal investment</td>\n",
       "      <td>foundation</td>\n",
       "      <td>MEUR/MW_e</td>\n",
       "      <td>2020.0</td>\n",
       "      <td>NaN</td>\n",
       "      <td>3, 4</td>\n",
       "      <td>ctrl</td>\n",
       "      <td>2020</td>\n",
       "      <td>0.134929</td>\n",
       "    </tr>\n",
       "    <tr>\n",
       "      <th>18555</th>\n",
       "      <td>18555</td>\n",
       "      <td>21 Near shore turbines</td>\n",
       "      <td>Offshore wind turbines, nearshore - renewable ...</td>\n",
       "      <td>Offshore wind turbines, nearshore</td>\n",
       "      <td>renewable power</td>\n",
       "      <td>wind</td>\n",
       "      <td>large</td>\n",
       "      <td>Financial data</td>\n",
       "      <td>Nominal investment (grid connection) [2020-MEU...</td>\n",
       "      <td>Nominal investment</td>\n",
       "      <td>grid connection</td>\n",
       "      <td>MEUR/MW_e</td>\n",
       "      <td>2020.0</td>\n",
       "      <td>NaN</td>\n",
       "      <td>3, 5</td>\n",
       "      <td>ctrl</td>\n",
       "      <td>2020</td>\n",
       "      <td>0.052000</td>\n",
       "    </tr>\n",
       "    <tr>\n",
       "      <th>18564</th>\n",
       "      <td>18564</td>\n",
       "      <td>21 Near shore turbines</td>\n",
       "      <td>Offshore wind turbines, nearshore - renewable ...</td>\n",
       "      <td>Offshore wind turbines, nearshore</td>\n",
       "      <td>renewable power</td>\n",
       "      <td>wind</td>\n",
       "      <td>large</td>\n",
       "      <td>Financial data</td>\n",
       "      <td>Nominal investment (turbines) [2020-MEUR/MW_e]</td>\n",
       "      <td>Nominal investment</td>\n",
       "      <td>turbines</td>\n",
       "      <td>MEUR/MW_e</td>\n",
       "      <td>2020.0</td>\n",
       "      <td>NaN</td>\n",
       "      <td>3</td>\n",
       "      <td>ctrl</td>\n",
       "      <td>2020</td>\n",
       "      <td>0.716319</td>\n",
       "    </tr>\n",
       "  </tbody>\n",
       "</table>\n",
       "<p>1100 rows × 18 columns</p>\n",
       "</div>"
      ],
      "text/plain": [
       "       Unnamed: 0                      ws  \\\n",
       "45             45             01 Coal CHP   \n",
       "49             49             01 Coal CHP   \n",
       "53             53             01 Coal CHP   \n",
       "181           181   02 LTE existing plant   \n",
       "182           182   02 LTE existing plant   \n",
       "...           ...                     ...   \n",
       "18528       18528  21 Near shore turbines   \n",
       "18537       18537  21 Near shore turbines   \n",
       "18546       18546  21 Near shore turbines   \n",
       "18555       18555  21 Near shore turbines   \n",
       "18564       18564  21 Near shore turbines   \n",
       "\n",
       "                                              technology  \\\n",
       "45     Coal power plant, supercritical - extraction -...   \n",
       "49     Coal power plant, supercritical - extraction -...   \n",
       "53     Coal power plant, supercritical - extraction -...   \n",
       "181    Life time extension of coal extraction plant -...   \n",
       "182    Life time extension of coal extraction plant -...   \n",
       "...                                                  ...   \n",
       "18528  Offshore wind turbines, nearshore - renewable ...   \n",
       "18537  Offshore wind turbines, nearshore - renewable ...   \n",
       "18546  Offshore wind turbines, nearshore - renewable ...   \n",
       "18555  Offshore wind turbines, nearshore - renewable ...   \n",
       "18564  Offshore wind turbines, nearshore - renewable ...   \n",
       "\n",
       "                                               tech             type input  \\\n",
       "45                  Coal power plant, supercritical       extraction  coal   \n",
       "49                  Coal power plant, supercritical       extraction  coal   \n",
       "53                  Coal power plant, supercritical       extraction  coal   \n",
       "181    Life time extension of coal extraction plant        refurbish  coal   \n",
       "182    Life time extension of coal extraction plant        refurbish  coal   \n",
       "...                                             ...              ...   ...   \n",
       "18528             Offshore wind turbines, nearshore  renewable power  wind   \n",
       "18537             Offshore wind turbines, nearshore  renewable power  wind   \n",
       "18546             Offshore wind turbines, nearshore  renewable power  wind   \n",
       "18555             Offshore wind turbines, nearshore  renewable power  wind   \n",
       "18564             Offshore wind turbines, nearshore  renewable power  wind   \n",
       "\n",
       "         size             cat  \\\n",
       "45     medium  Financial data   \n",
       "49     medium  Financial data   \n",
       "53     medium  Financial data   \n",
       "181     large  Financial data   \n",
       "182     large  Financial data   \n",
       "...       ...             ...   \n",
       "18528   large  Financial data   \n",
       "18537   large  Financial data   \n",
       "18546   large  Financial data   \n",
       "18555   large  Financial data   \n",
       "18564   large  Financial data   \n",
       "\n",
       "                                                     par           par_short  \\\n",
       "45                  Fixed O&M (*total) [2015-EUR/MW_e/y]           Fixed O&M   \n",
       "49          Nominal investment (*total) [2015-MEUR/MW_e]  Nominal investment   \n",
       "53                Variable O&M (*total) [2015-EUR/MWh_e]        Variable O&M   \n",
       "181      Nominal investment (equipment) [2015-MEUR/MW_e]  Nominal investment   \n",
       "182      Nominal investment (equipment) [2015-MEUR/MW_e]  Nominal investment   \n",
       "...                                                  ...                 ...   \n",
       "18528  Nominal investment (project development etc.) ...  Nominal investment   \n",
       "18537  Nominal investment (array cables) [2020-MEUR/M...  Nominal investment   \n",
       "18546   Nominal investment (foundation) [2020-MEUR/MW_e]  Nominal investment   \n",
       "18555  Nominal investment (grid connection) [2020-MEU...  Nominal investment   \n",
       "18564     Nominal investment (turbines) [2020-MEUR/MW_e]  Nominal investment   \n",
       "\n",
       "                           info        unit  priceyear note  \\\n",
       "45                       *total  EUR/MW_e/y     2015.0    J   \n",
       "49                       *total   MEUR/MW_e     2015.0    J   \n",
       "53                       *total   EUR/MWh_e     2015.0    J   \n",
       "181                   equipment   MEUR/MW_e     2015.0  NaN   \n",
       "182                   equipment   MEUR/MW_e     2015.0  NaN   \n",
       "...                         ...         ...        ...  ...   \n",
       "18528  project development etc.   MEUR/MW_e     2020.0  NaN   \n",
       "18537              array cables   MEUR/MW_e     2020.0  NaN   \n",
       "18546                foundation   MEUR/MW_e     2020.0  NaN   \n",
       "18555           grid connection   MEUR/MW_e     2020.0  NaN   \n",
       "18564                  turbines   MEUR/MW_e     2020.0  NaN   \n",
       "\n",
       "                            ref    est  year           val  \n",
       "45     [17, 18, 19, 20, 21, 22]   ctrl  2020  31000.000000  \n",
       "49     [17, 18, 19, 20, 21, 22]   ctrl  2020      1.900000  \n",
       "53     [17, 18, 19, 20, 21, 22]   ctrl  2020      2.900000  \n",
       "181                         NaN   ctrl  2020           NaN  \n",
       "182                         NaN  lower  2020           NaN  \n",
       "...                         ...    ...   ...           ...  \n",
       "18528                      3, 6   ctrl  2020      0.394347  \n",
       "18537                         3   ctrl  2020      0.012591  \n",
       "18546                      3, 4   ctrl  2020      0.134929  \n",
       "18555                      3, 5   ctrl  2020      0.052000  \n",
       "18564                         3   ctrl  2020      0.716319  \n",
       "\n",
       "[1100 rows x 18 columns]"
      ]
     },
     "execution_count": 76,
     "metadata": {},
     "output_type": "execute_result"
    }
   ],
   "source": [
    "df_tc"
   ]
  },
  {
   "cell_type": "code",
   "execution_count": 77,
   "metadata": {},
   "outputs": [
    {
     "data": {
      "text/html": [
       "<div>\n",
       "<style scoped>\n",
       "    .dataframe tbody tr th:only-of-type {\n",
       "        vertical-align: middle;\n",
       "    }\n",
       "\n",
       "    .dataframe tbody tr th {\n",
       "        vertical-align: top;\n",
       "    }\n",
       "\n",
       "    .dataframe thead th {\n",
       "        text-align: right;\n",
       "    }\n",
       "</style>\n",
       "<table border=\"1\" class=\"dataframe\">\n",
       "  <thead>\n",
       "    <tr style=\"text-align: right;\">\n",
       "      <th></th>\n",
       "      <th>Year</th>\n",
       "      <th>g_E</th>\n",
       "      <th>g_H</th>\n",
       "      <th>BFt</th>\n",
       "      <th>tech</th>\n",
       "      <th>modelTech</th>\n",
       "      <th>GeneratingCapacity_E</th>\n",
       "      <th>GeneratingCapacity_H</th>\n",
       "      <th>FuelMix</th>\n",
       "      <th>E2H</th>\n",
       "      <th>E2HH</th>\n",
       "      <th>Generation_E</th>\n",
       "      <th>Generation_H</th>\n",
       "      <th>id</th>\n",
       "    </tr>\n",
       "  </thead>\n",
       "  <tbody>\n",
       "    <tr>\n",
       "      <th>0</th>\n",
       "      <td>2023</td>\n",
       "      <td>DK1</td>\n",
       "      <td>DK1_Central</td>\n",
       "      <td>Biogas</td>\n",
       "      <td>BP_Biogas</td>\n",
       "      <td>BP</td>\n",
       "      <td>9.412</td>\n",
       "      <td>NaN</td>\n",
       "      <td>2.544304</td>\n",
       "      <td>0.895869</td>\n",
       "      <td>NaN</td>\n",
       "      <td>0.079</td>\n",
       "      <td>0.087</td>\n",
       "      <td>id_DK1_Central_BP_Biogas</td>\n",
       "    </tr>\n",
       "    <tr>\n",
       "      <th>1</th>\n",
       "      <td>2023</td>\n",
       "      <td>DK1</td>\n",
       "      <td>DK1_Central</td>\n",
       "      <td>Biogas</td>\n",
       "      <td>IndustryH_Biogas</td>\n",
       "      <td>standard_H</td>\n",
       "      <td>NaN</td>\n",
       "      <td>8.414</td>\n",
       "      <td>0.518519</td>\n",
       "      <td>NaN</td>\n",
       "      <td>NaN</td>\n",
       "      <td>0.000</td>\n",
       "      <td>0.027</td>\n",
       "      <td>id_DK1_Central_IndustryH_Biogas</td>\n",
       "    </tr>\n",
       "    <tr>\n",
       "      <th>2</th>\n",
       "      <td>2023</td>\n",
       "      <td>DK1</td>\n",
       "      <td>DK1_Central</td>\n",
       "      <td>Biomass</td>\n",
       "      <td>BH_Biomass</td>\n",
       "      <td>standard_H</td>\n",
       "      <td>NaN</td>\n",
       "      <td>266.306</td>\n",
       "      <td>0.946472</td>\n",
       "      <td>NaN</td>\n",
       "      <td>NaN</td>\n",
       "      <td>0.000</td>\n",
       "      <td>0.411</td>\n",
       "      <td>id_DK1_Central_BH_Biomass</td>\n",
       "    </tr>\n",
       "    <tr>\n",
       "      <th>3</th>\n",
       "      <td>2023</td>\n",
       "      <td>DK1</td>\n",
       "      <td>DK1_Central</td>\n",
       "      <td>Biomass</td>\n",
       "      <td>BP_Biomass</td>\n",
       "      <td>BP</td>\n",
       "      <td>671.081</td>\n",
       "      <td>NaN</td>\n",
       "      <td>4.169188</td>\n",
       "      <td>0.504207</td>\n",
       "      <td>NaN</td>\n",
       "      <td>2.181</td>\n",
       "      <td>5.694</td>\n",
       "      <td>id_DK1_Central_BP_Biomass</td>\n",
       "    </tr>\n",
       "    <tr>\n",
       "      <th>4</th>\n",
       "      <td>2023</td>\n",
       "      <td>DK1</td>\n",
       "      <td>DK1_Central</td>\n",
       "      <td>Coal</td>\n",
       "      <td>BP_Coal</td>\n",
       "      <td>BP</td>\n",
       "      <td>1091.285</td>\n",
       "      <td>NaN</td>\n",
       "      <td>2.650372</td>\n",
       "      <td>0.825316</td>\n",
       "      <td>NaN</td>\n",
       "      <td>1.882</td>\n",
       "      <td>1.131</td>\n",
       "      <td>id_DK1_Central_BP_Coal</td>\n",
       "    </tr>\n",
       "    <tr>\n",
       "      <th>...</th>\n",
       "      <td>...</td>\n",
       "      <td>...</td>\n",
       "      <td>...</td>\n",
       "      <td>...</td>\n",
       "      <td>...</td>\n",
       "      <td>...</td>\n",
       "      <td>...</td>\n",
       "      <td>...</td>\n",
       "      <td>...</td>\n",
       "      <td>...</td>\n",
       "      <td>...</td>\n",
       "      <td>...</td>\n",
       "      <td>...</td>\n",
       "      <td>...</td>\n",
       "    </tr>\n",
       "    <tr>\n",
       "      <th>118</th>\n",
       "      <td>2023</td>\n",
       "      <td>DK2</td>\n",
       "      <td>NaN</td>\n",
       "      <td>Oil</td>\n",
       "      <td>CD_Oil</td>\n",
       "      <td>standard_E</td>\n",
       "      <td>833.282</td>\n",
       "      <td>NaN</td>\n",
       "      <td>2.600000</td>\n",
       "      <td>NaN</td>\n",
       "      <td>NaN</td>\n",
       "      <td>0.005</td>\n",
       "      <td>0.000</td>\n",
       "      <td>id_DK2_nan_CD_Oil</td>\n",
       "    </tr>\n",
       "    <tr>\n",
       "      <th>119</th>\n",
       "      <td>2023</td>\n",
       "      <td>DK2</td>\n",
       "      <td>NaN</td>\n",
       "      <td>Oil</td>\n",
       "      <td>IndustryE_Oil</td>\n",
       "      <td>standard_E</td>\n",
       "      <td>1.250</td>\n",
       "      <td>NaN</td>\n",
       "      <td>NaN</td>\n",
       "      <td>NaN</td>\n",
       "      <td>NaN</td>\n",
       "      <td>0.000</td>\n",
       "      <td>0.000</td>\n",
       "      <td>id_DK2_nan_IndustryE_Oil</td>\n",
       "    </tr>\n",
       "    <tr>\n",
       "      <th>120</th>\n",
       "      <td>2023</td>\n",
       "      <td>DK2</td>\n",
       "      <td>NaN</td>\n",
       "      <td>NaN</td>\n",
       "      <td>PV</td>\n",
       "      <td>standard_E</td>\n",
       "      <td>1010.638</td>\n",
       "      <td>NaN</td>\n",
       "      <td>NaN</td>\n",
       "      <td>NaN</td>\n",
       "      <td>NaN</td>\n",
       "      <td>1.282</td>\n",
       "      <td>0.000</td>\n",
       "      <td>id_DK2_nan_PV</td>\n",
       "    </tr>\n",
       "    <tr>\n",
       "      <th>121</th>\n",
       "      <td>2023</td>\n",
       "      <td>DK2</td>\n",
       "      <td>NaN</td>\n",
       "      <td>NaN</td>\n",
       "      <td>WL</td>\n",
       "      <td>standard_E</td>\n",
       "      <td>742.463</td>\n",
       "      <td>NaN</td>\n",
       "      <td>NaN</td>\n",
       "      <td>NaN</td>\n",
       "      <td>NaN</td>\n",
       "      <td>1.812</td>\n",
       "      <td>0.000</td>\n",
       "      <td>id_DK2_nan_WL</td>\n",
       "    </tr>\n",
       "    <tr>\n",
       "      <th>122</th>\n",
       "      <td>2023</td>\n",
       "      <td>DK2</td>\n",
       "      <td>NaN</td>\n",
       "      <td>NaN</td>\n",
       "      <td>WS</td>\n",
       "      <td>standard_E</td>\n",
       "      <td>1049.200</td>\n",
       "      <td>NaN</td>\n",
       "      <td>NaN</td>\n",
       "      <td>NaN</td>\n",
       "      <td>NaN</td>\n",
       "      <td>4.088</td>\n",
       "      <td>0.000</td>\n",
       "      <td>id_DK2_nan_WS</td>\n",
       "    </tr>\n",
       "  </tbody>\n",
       "</table>\n",
       "<p>123 rows × 14 columns</p>\n",
       "</div>"
      ],
      "text/plain": [
       "     Year  g_E          g_H      BFt              tech   modelTech  \\\n",
       "0    2023  DK1  DK1_Central   Biogas         BP_Biogas          BP   \n",
       "1    2023  DK1  DK1_Central   Biogas  IndustryH_Biogas  standard_H   \n",
       "2    2023  DK1  DK1_Central  Biomass        BH_Biomass  standard_H   \n",
       "3    2023  DK1  DK1_Central  Biomass        BP_Biomass          BP   \n",
       "4    2023  DK1  DK1_Central     Coal           BP_Coal          BP   \n",
       "..    ...  ...          ...      ...               ...         ...   \n",
       "118  2023  DK2          NaN      Oil            CD_Oil  standard_E   \n",
       "119  2023  DK2          NaN      Oil     IndustryE_Oil  standard_E   \n",
       "120  2023  DK2          NaN      NaN                PV  standard_E   \n",
       "121  2023  DK2          NaN      NaN                WL  standard_E   \n",
       "122  2023  DK2          NaN      NaN                WS  standard_E   \n",
       "\n",
       "     GeneratingCapacity_E  GeneratingCapacity_H   FuelMix       E2H  E2HH  \\\n",
       "0                   9.412                   NaN  2.544304  0.895869   NaN   \n",
       "1                     NaN                 8.414  0.518519       NaN   NaN   \n",
       "2                     NaN               266.306  0.946472       NaN   NaN   \n",
       "3                 671.081                   NaN  4.169188  0.504207   NaN   \n",
       "4                1091.285                   NaN  2.650372  0.825316   NaN   \n",
       "..                    ...                   ...       ...       ...   ...   \n",
       "118               833.282                   NaN  2.600000       NaN   NaN   \n",
       "119                 1.250                   NaN       NaN       NaN   NaN   \n",
       "120              1010.638                   NaN       NaN       NaN   NaN   \n",
       "121               742.463                   NaN       NaN       NaN   NaN   \n",
       "122              1049.200                   NaN       NaN       NaN   NaN   \n",
       "\n",
       "     Generation_E  Generation_H                               id  \n",
       "0           0.079         0.087         id_DK1_Central_BP_Biogas  \n",
       "1           0.000         0.027  id_DK1_Central_IndustryH_Biogas  \n",
       "2           0.000         0.411        id_DK1_Central_BH_Biomass  \n",
       "3           2.181         5.694        id_DK1_Central_BP_Biomass  \n",
       "4           1.882         1.131           id_DK1_Central_BP_Coal  \n",
       "..            ...           ...                              ...  \n",
       "118         0.005         0.000                id_DK2_nan_CD_Oil  \n",
       "119         0.000         0.000         id_DK2_nan_IndustryE_Oil  \n",
       "120         1.282         0.000                    id_DK2_nan_PV  \n",
       "121         1.812         0.000                    id_DK2_nan_WL  \n",
       "122         4.088         0.000                    id_DK2_nan_WS  \n",
       "\n",
       "[123 rows x 14 columns]"
      ]
     },
     "execution_count": 77,
     "metadata": {},
     "output_type": "execute_result"
    }
   ],
   "source": [
    "# Check FOMs without inflation adjustment\n",
    "df_plant"
   ]
  },
  {
   "cell_type": "code",
   "execution_count": 101,
   "metadata": {},
   "outputs": [
    {
     "data": {
      "text/plain": [
       "1.050674133950355"
      ]
     },
     "execution_count": 101,
     "metadata": {},
     "output_type": "execute_result"
    }
   ],
   "source": [
    "π[range(int(2015 + 1), 2023)].cumprod()[2019]"
   ]
  },
  {
   "cell_type": "code",
   "execution_count": 78,
   "id": "2c125d9b-6de5-4d64-91bd-3b8c22b3c05f",
   "metadata": {
    "tags": []
   },
   "outputs": [],
   "source": [
    "FOM_tmp = [x for x in df_tc['par'] if x.find('Fixed O&M (*total)')!=-1]\n",
    "for tech in tech2technology.keys():\n",
    "    idx_plant = df_plant['tech']==tech\n",
    "    df_tmp = df_tc[df_tc['technology'].isin(tech2technology[tech])].copy()\n",
    "    if (df_tmp['par'].str.find('Variable O&M (other O&M)')!=-1).sum()>0:\n",
    "        OtherMC_tmp = [x for x in df_tmp['par'] if x.find('Variable O&M (other O&M)')!=-1]\n",
    "    else:\n",
    "        OtherMC_tmp = [x for x in df_tmp['par'] if x.find('Variable O&M (*total)')!=-1]\n",
    "    techvars = {\n",
    "        'OtherMC': OtherMC_tmp,\n",
    "        'FOM': FOM_tmp\n",
    "    }\n",
    "    for var in techvars.keys():\n",
    "        df_var = df_tmp[df_tmp['par'].isin(techvars[var])].copy()\n",
    "        if len(df_var) > 0 and (df_var['priceyear'] != 2020).any():\n",
    "            df_var['price_scale'] = df_var['priceyear'].apply(lambda x: π[range(int(x + 1), 2023)].cumprod()[2019])\n",
    "            val = (df_var['price_scale'] * df_var['val']).mean()\n",
    "        elif len(df_var) > 0 and (df_var['priceyear'] == 2020).any():\n",
    "            df_var['price_scale'] = df_var['priceyear'].apply(lambda x: 1 / π[2020])\n",
    "            val = (df_var['price_scale'] * df_var['val']).mean()\n",
    "        else:\n",
    "            val = 0\n",
    "        df_plant.loc[idx_plant,var] = val"
   ]
  },
  {
   "cell_type": "code",
   "execution_count": 80,
   "metadata": {},
   "outputs": [
    {
     "data": {
      "text/html": [
       "<div>\n",
       "<style scoped>\n",
       "    .dataframe tbody tr th:only-of-type {\n",
       "        vertical-align: middle;\n",
       "    }\n",
       "\n",
       "    .dataframe tbody tr th {\n",
       "        vertical-align: top;\n",
       "    }\n",
       "\n",
       "    .dataframe thead th {\n",
       "        text-align: right;\n",
       "    }\n",
       "</style>\n",
       "<table border=\"1\" class=\"dataframe\">\n",
       "  <thead>\n",
       "    <tr style=\"text-align: right;\">\n",
       "      <th></th>\n",
       "      <th>Year</th>\n",
       "      <th>g_E</th>\n",
       "      <th>g_H</th>\n",
       "      <th>BFt</th>\n",
       "      <th>tech</th>\n",
       "      <th>modelTech</th>\n",
       "      <th>GeneratingCapacity_E</th>\n",
       "      <th>GeneratingCapacity_H</th>\n",
       "      <th>FuelMix</th>\n",
       "      <th>E2H</th>\n",
       "      <th>E2HH</th>\n",
       "      <th>Generation_E</th>\n",
       "      <th>Generation_H</th>\n",
       "      <th>id</th>\n",
       "      <th>OtherMC</th>\n",
       "      <th>FOM</th>\n",
       "    </tr>\n",
       "  </thead>\n",
       "  <tbody>\n",
       "    <tr>\n",
       "      <th>0</th>\n",
       "      <td>2023</td>\n",
       "      <td>DK1</td>\n",
       "      <td>DK1_Central</td>\n",
       "      <td>Biogas</td>\n",
       "      <td>BP_Biogas</td>\n",
       "      <td>BP</td>\n",
       "      <td>9.412</td>\n",
       "      <td>NaN</td>\n",
       "      <td>2.544304</td>\n",
       "      <td>0.895869</td>\n",
       "      <td>NaN</td>\n",
       "      <td>0.079</td>\n",
       "      <td>0.087</td>\n",
       "      <td>id_DK1_Central_BP_Biogas</td>\n",
       "      <td>9.280955</td>\n",
       "      <td>109751.668909</td>\n",
       "    </tr>\n",
       "    <tr>\n",
       "      <th>1</th>\n",
       "      <td>2023</td>\n",
       "      <td>DK1</td>\n",
       "      <td>DK1_Central</td>\n",
       "      <td>Biogas</td>\n",
       "      <td>IndustryH_Biogas</td>\n",
       "      <td>standard_H</td>\n",
       "      <td>NaN</td>\n",
       "      <td>8.414</td>\n",
       "      <td>0.518519</td>\n",
       "      <td>NaN</td>\n",
       "      <td>NaN</td>\n",
       "      <td>0.000</td>\n",
       "      <td>0.027</td>\n",
       "      <td>id_DK1_Central_IndustryH_Biogas</td>\n",
       "      <td>NaN</td>\n",
       "      <td>NaN</td>\n",
       "    </tr>\n",
       "    <tr>\n",
       "      <th>2</th>\n",
       "      <td>2023</td>\n",
       "      <td>DK1</td>\n",
       "      <td>DK1_Central</td>\n",
       "      <td>Biomass</td>\n",
       "      <td>BH_Biomass</td>\n",
       "      <td>standard_H</td>\n",
       "      <td>NaN</td>\n",
       "      <td>266.306</td>\n",
       "      <td>0.946472</td>\n",
       "      <td>NaN</td>\n",
       "      <td>NaN</td>\n",
       "      <td>0.000</td>\n",
       "      <td>0.411</td>\n",
       "      <td>id_DK1_Central_BH_Biomass</td>\n",
       "      <td>1.038205</td>\n",
       "      <td>40675.097972</td>\n",
       "    </tr>\n",
       "    <tr>\n",
       "      <th>3</th>\n",
       "      <td>2023</td>\n",
       "      <td>DK1</td>\n",
       "      <td>DK1_Central</td>\n",
       "      <td>Biomass</td>\n",
       "      <td>BP_Biomass</td>\n",
       "      <td>BP</td>\n",
       "      <td>671.081</td>\n",
       "      <td>NaN</td>\n",
       "      <td>4.169188</td>\n",
       "      <td>0.504207</td>\n",
       "      <td>NaN</td>\n",
       "      <td>2.181</td>\n",
       "      <td>5.694</td>\n",
       "      <td>id_DK1_Central_BP_Biomass</td>\n",
       "      <td>4.441489</td>\n",
       "      <td>213076.714365</td>\n",
       "    </tr>\n",
       "    <tr>\n",
       "      <th>4</th>\n",
       "      <td>2023</td>\n",
       "      <td>DK1</td>\n",
       "      <td>DK1_Central</td>\n",
       "      <td>Coal</td>\n",
       "      <td>BP_Coal</td>\n",
       "      <td>BP</td>\n",
       "      <td>1091.285</td>\n",
       "      <td>NaN</td>\n",
       "      <td>2.650372</td>\n",
       "      <td>0.825316</td>\n",
       "      <td>NaN</td>\n",
       "      <td>1.882</td>\n",
       "      <td>1.131</td>\n",
       "      <td>id_DK1_Central_BP_Coal</td>\n",
       "      <td>3.046955</td>\n",
       "      <td>32570.898152</td>\n",
       "    </tr>\n",
       "    <tr>\n",
       "      <th>...</th>\n",
       "      <td>...</td>\n",
       "      <td>...</td>\n",
       "      <td>...</td>\n",
       "      <td>...</td>\n",
       "      <td>...</td>\n",
       "      <td>...</td>\n",
       "      <td>...</td>\n",
       "      <td>...</td>\n",
       "      <td>...</td>\n",
       "      <td>...</td>\n",
       "      <td>...</td>\n",
       "      <td>...</td>\n",
       "      <td>...</td>\n",
       "      <td>...</td>\n",
       "      <td>...</td>\n",
       "      <td>...</td>\n",
       "    </tr>\n",
       "    <tr>\n",
       "      <th>118</th>\n",
       "      <td>2023</td>\n",
       "      <td>DK2</td>\n",
       "      <td>NaN</td>\n",
       "      <td>Oil</td>\n",
       "      <td>CD_Oil</td>\n",
       "      <td>standard_E</td>\n",
       "      <td>833.282</td>\n",
       "      <td>NaN</td>\n",
       "      <td>2.600000</td>\n",
       "      <td>NaN</td>\n",
       "      <td>NaN</td>\n",
       "      <td>0.005</td>\n",
       "      <td>0.000</td>\n",
       "      <td>id_DK2_nan_CD_Oil</td>\n",
       "      <td>NaN</td>\n",
       "      <td>NaN</td>\n",
       "    </tr>\n",
       "    <tr>\n",
       "      <th>119</th>\n",
       "      <td>2023</td>\n",
       "      <td>DK2</td>\n",
       "      <td>NaN</td>\n",
       "      <td>Oil</td>\n",
       "      <td>IndustryE_Oil</td>\n",
       "      <td>standard_E</td>\n",
       "      <td>1.250</td>\n",
       "      <td>NaN</td>\n",
       "      <td>NaN</td>\n",
       "      <td>NaN</td>\n",
       "      <td>NaN</td>\n",
       "      <td>0.000</td>\n",
       "      <td>0.000</td>\n",
       "      <td>id_DK2_nan_IndustryE_Oil</td>\n",
       "      <td>NaN</td>\n",
       "      <td>NaN</td>\n",
       "    </tr>\n",
       "    <tr>\n",
       "      <th>120</th>\n",
       "      <td>2023</td>\n",
       "      <td>DK2</td>\n",
       "      <td>NaN</td>\n",
       "      <td>NaN</td>\n",
       "      <td>PV</td>\n",
       "      <td>standard_E</td>\n",
       "      <td>1010.638</td>\n",
       "      <td>NaN</td>\n",
       "      <td>NaN</td>\n",
       "      <td>NaN</td>\n",
       "      <td>NaN</td>\n",
       "      <td>1.282</td>\n",
       "      <td>0.000</td>\n",
       "      <td>id_DK2_nan_PV</td>\n",
       "      <td>0.000000</td>\n",
       "      <td>11802.096479</td>\n",
       "    </tr>\n",
       "    <tr>\n",
       "      <th>121</th>\n",
       "      <td>2023</td>\n",
       "      <td>DK2</td>\n",
       "      <td>NaN</td>\n",
       "      <td>NaN</td>\n",
       "      <td>WL</td>\n",
       "      <td>standard_E</td>\n",
       "      <td>742.463</td>\n",
       "      <td>NaN</td>\n",
       "      <td>NaN</td>\n",
       "      <td>NaN</td>\n",
       "      <td>NaN</td>\n",
       "      <td>1.812</td>\n",
       "      <td>0.000</td>\n",
       "      <td>id_DK2_nan_WL</td>\n",
       "      <td>1.576011</td>\n",
       "      <td>35985.589088</td>\n",
       "    </tr>\n",
       "    <tr>\n",
       "      <th>122</th>\n",
       "      <td>2023</td>\n",
       "      <td>DK2</td>\n",
       "      <td>NaN</td>\n",
       "      <td>NaN</td>\n",
       "      <td>WS</td>\n",
       "      <td>standard_E</td>\n",
       "      <td>1049.200</td>\n",
       "      <td>NaN</td>\n",
       "      <td>NaN</td>\n",
       "      <td>NaN</td>\n",
       "      <td>NaN</td>\n",
       "      <td>4.088</td>\n",
       "      <td>0.000</td>\n",
       "      <td>id_DK2_nan_WS</td>\n",
       "      <td>4.976288</td>\n",
       "      <td>49762.880445</td>\n",
       "    </tr>\n",
       "  </tbody>\n",
       "</table>\n",
       "<p>123 rows × 16 columns</p>\n",
       "</div>"
      ],
      "text/plain": [
       "     Year  g_E          g_H      BFt              tech   modelTech  \\\n",
       "0    2023  DK1  DK1_Central   Biogas         BP_Biogas          BP   \n",
       "1    2023  DK1  DK1_Central   Biogas  IndustryH_Biogas  standard_H   \n",
       "2    2023  DK1  DK1_Central  Biomass        BH_Biomass  standard_H   \n",
       "3    2023  DK1  DK1_Central  Biomass        BP_Biomass          BP   \n",
       "4    2023  DK1  DK1_Central     Coal           BP_Coal          BP   \n",
       "..    ...  ...          ...      ...               ...         ...   \n",
       "118  2023  DK2          NaN      Oil            CD_Oil  standard_E   \n",
       "119  2023  DK2          NaN      Oil     IndustryE_Oil  standard_E   \n",
       "120  2023  DK2          NaN      NaN                PV  standard_E   \n",
       "121  2023  DK2          NaN      NaN                WL  standard_E   \n",
       "122  2023  DK2          NaN      NaN                WS  standard_E   \n",
       "\n",
       "     GeneratingCapacity_E  GeneratingCapacity_H   FuelMix       E2H  E2HH  \\\n",
       "0                   9.412                   NaN  2.544304  0.895869   NaN   \n",
       "1                     NaN                 8.414  0.518519       NaN   NaN   \n",
       "2                     NaN               266.306  0.946472       NaN   NaN   \n",
       "3                 671.081                   NaN  4.169188  0.504207   NaN   \n",
       "4                1091.285                   NaN  2.650372  0.825316   NaN   \n",
       "..                    ...                   ...       ...       ...   ...   \n",
       "118               833.282                   NaN  2.600000       NaN   NaN   \n",
       "119                 1.250                   NaN       NaN       NaN   NaN   \n",
       "120              1010.638                   NaN       NaN       NaN   NaN   \n",
       "121               742.463                   NaN       NaN       NaN   NaN   \n",
       "122              1049.200                   NaN       NaN       NaN   NaN   \n",
       "\n",
       "     Generation_E  Generation_H                               id   OtherMC  \\\n",
       "0           0.079         0.087         id_DK1_Central_BP_Biogas  9.280955   \n",
       "1           0.000         0.027  id_DK1_Central_IndustryH_Biogas       NaN   \n",
       "2           0.000         0.411        id_DK1_Central_BH_Biomass  1.038205   \n",
       "3           2.181         5.694        id_DK1_Central_BP_Biomass  4.441489   \n",
       "4           1.882         1.131           id_DK1_Central_BP_Coal  3.046955   \n",
       "..            ...           ...                              ...       ...   \n",
       "118         0.005         0.000                id_DK2_nan_CD_Oil       NaN   \n",
       "119         0.000         0.000         id_DK2_nan_IndustryE_Oil       NaN   \n",
       "120         1.282         0.000                    id_DK2_nan_PV  0.000000   \n",
       "121         1.812         0.000                    id_DK2_nan_WL  1.576011   \n",
       "122         4.088         0.000                    id_DK2_nan_WS  4.976288   \n",
       "\n",
       "               FOM  \n",
       "0    109751.668909  \n",
       "1              NaN  \n",
       "2     40675.097972  \n",
       "3    213076.714365  \n",
       "4     32570.898152  \n",
       "..             ...  \n",
       "118            NaN  \n",
       "119            NaN  \n",
       "120   11802.096479  \n",
       "121   35985.589088  \n",
       "122   49762.880445  \n",
       "\n",
       "[123 rows x 16 columns]"
      ]
     },
     "execution_count": 80,
     "metadata": {},
     "output_type": "execute_result"
    }
   ],
   "source": [
    "# Check FOMs with inflation adjustment\n",
    "df_plant"
   ]
  },
  {
   "cell_type": "markdown",
   "id": "9dc3e6b1-9421-4d7e-9655-8fdedbcf5916",
   "metadata": {
    "tags": []
   },
   "source": [
    "For industry generators, we just assume marginal costs are zero:"
   ]
  },
  {
   "cell_type": "code",
   "execution_count": 81,
   "id": "7db01a0f-22f4-426e-bb3f-fbf2901211e0",
   "metadata": {},
   "outputs": [],
   "source": [
    "idx_plant = df_plant['tech'].str.find('Industry')!=-1\n",
    "df_plant.loc[idx_plant,'OtherMC'], df_plant.loc[idx_plant,'FOM'] = 0, 0"
   ]
  },
  {
   "cell_type": "markdown",
   "id": "554b5a42-cb17-4054-8a00-cf004464158d",
   "metadata": {
    "tags": []
   },
   "source": [
    "For the remaining we average out the estimates of samilar technologies:"
   ]
  },
  {
   "cell_type": "code",
   "execution_count": 82,
   "id": "b43492b4-0912-41d8-b8b4-a50907cfaea1",
   "metadata": {
    "tags": []
   },
   "outputs": [],
   "source": [
    "df_plant['tech_tmp'] = [x[0] for x in df_plant['tech'].str.split('_')]\n",
    "idx_nans = df_plant['OtherMC'].isna()\n",
    "df_plant.loc[idx_nans,'OtherMC'] = df_plant.groupby('tech_tmp')['OtherMC'].transform('mean')[idx_nans]\n",
    "df_plant.loc[idx_nans,'FOM'] = df_plant.groupby('tech_tmp')['FOM'].transform('mean')[idx_nans]"
   ]
  },
  {
   "cell_type": "markdown",
   "id": "b89d80ff-74b5-453a-ac78-86858591ab72",
   "metadata": {
    "tags": []
   },
   "source": [
    "Subset:"
   ]
  },
  {
   "cell_type": "code",
   "execution_count": 83,
   "id": "b58389f9-14b0-4973-8598-22b69b34a5bd",
   "metadata": {
    "tags": []
   },
   "outputs": [],
   "source": [
    "OtherMC_domes = df_plant.set_index('id')['OtherMC']\n",
    "FOM = df_plant.set_index('id')['FOM']"
   ]
  },
  {
   "cell_type": "markdown",
   "id": "0596e273-2cad-4ce3-aca8-44b6cba32f9b",
   "metadata": {
    "tags": []
   },
   "source": [
    "Now add FOM of foreign plants:"
   ]
  },
  {
   "cell_type": "code",
   "execution_count": 84,
   "id": "3e08a7d5-1f35-4d02-95d8-fd5959736786",
   "metadata": {
    "tags": []
   },
   "outputs": [],
   "source": [
    "id_tcap = GeneratingCapacity_E['id'][~GeneratingCapacity_E['id'].isin(FOM.index)]\n",
    "FOM = pd.concat([FOM,pd.Series(0,index=pd.Index(id_tcap,name='id'),name='FOM')],axis=0)"
   ]
  },
  {
   "cell_type": "markdown",
   "id": "057e8a9a-ea81-4d1c-a4bf-a50161f264a6",
   "metadata": {
    "tags": []
   },
   "source": [
    "Add marginal generation costs of foreign plants:"
   ]
  },
  {
   "cell_type": "code",
   "execution_count": 85,
   "id": "a40d8b81-ef4c-4e18-9009-8cae5f42f48e",
   "metadata": {
    "tags": []
   },
   "outputs": [],
   "source": [
    "for plant in OtherMC_domes.index:\n",
    "    OtherMC = pd.concat([OtherMC,pd.Series(OtherMC_domes.loc[plant],index=OtherMC.index,name=plant)],axis=1)"
   ]
  },
  {
   "cell_type": "markdown",
   "id": "e4e80db4-917a-4dff-bd0a-2ed604da0afe",
   "metadata": {
    "tags": []
   },
   "source": [
    "## Mappings"
   ]
  },
  {
   "cell_type": "markdown",
   "id": "310e7eb0-965f-48b6-b29e-85b61dd6066b",
   "metadata": {
    "tags": []
   },
   "source": [
    "Add exporting tranmission lines:"
   ]
  },
  {
   "cell_type": "code",
   "execution_count": 86,
   "id": "bbb495eb-9187-456e-ac27-bc5fe03df433",
   "metadata": {
    "tags": []
   },
   "outputs": [],
   "source": [
    "df_maps = pd.concat([df_plant[['id','g_E','g_H','tech','modelTech','GeneratingCapacity_E','GeneratingCapacity_H']],\n",
    "    pd.DataFrame().assign(\n",
    "        id = GeneratingCapacity_E['id'][GeneratingCapacity_E['id'].str.find('ImportFrom')!=-1].tolist(),\n",
    "        GeneratingCapacity_E = GeneratingCapacity_E['GeneratingCapacity_E'][GeneratingCapacity_E['id'].str.find('ImportFrom')!=-1].tolist(),\n",
    "        GeneratingCapacity_H = np.nan,\n",
    "        g_E = [x[1] for x in GeneratingCapacity_E['id'][GeneratingCapacity_E['id'].str.find('ImportFrom')!=-1].str.split('_')],\n",
    "        g_H = np.nan,\n",
    "        tech = [x[1]+'_ImportFrom_'+x[-1] for x in GeneratingCapacity_E['id'][GeneratingCapacity_E['id'].str.find('ImportFrom')!=-1].str.split('_')],\n",
    "        modelTech = 'standard_E'\n",
    "    )\n",
    "],axis=0)"
   ]
  },
  {
   "cell_type": "markdown",
   "id": "3b48f230-2d1b-47ad-8cd3-ea6f8254b4f7",
   "metadata": {},
   "source": [
    "## Save variables"
   ]
  },
  {
   "cell_type": "code",
   "execution_count": 87,
   "id": "512da695-2dbf-41b7-a6a9-082f6965dd17",
   "metadata": {
    "tags": []
   },
   "outputs": [],
   "source": [
    "output_dir = os.path.join(direc,'ModelData')"
   ]
  },
  {
   "cell_type": "code",
   "execution_count": 88,
   "id": "3154404f-e4d8-4856-993e-c6ed65fc56f2",
   "metadata": {
    "tags": []
   },
   "outputs": [],
   "source": [
    "# Capacity variation\n",
    "CapVariation.reset_index().to_excel(os.path.join(output_dir,'CapVariation.xlsx'),index=False)"
   ]
  },
  {
   "cell_type": "code",
   "execution_count": 89,
   "id": "97441d03-034e-44e9-a8cb-d143131c86ae",
   "metadata": {
    "tags": []
   },
   "outputs": [],
   "source": [
    "# Generating capacities\n",
    "GeneratingCapacity_E.to_excel(os.path.join(output_dir,'GeneratingCapacity_E.xlsx'),index=False)\n",
    "GeneratingCapacity_H.to_excel(os.path.join(output_dir,'GeneratingCapacity_H.xlsx'),index=False)"
   ]
  },
  {
   "cell_type": "code",
   "execution_count": 90,
   "id": "a45893c3-428f-402c-8bd2-cb3dd03c7f8b",
   "metadata": {
    "tags": []
   },
   "outputs": [],
   "source": [
    "# Costs:\n",
    "OtherMC.reset_index().to_excel(os.path.join(output_dir,'OtherMC.xlsx'),index=False)\n",
    "FOM.reset_index().to_excel(os.path.join(output_dir,'FOM.xlsx'),index=False)"
   ]
  },
  {
   "cell_type": "code",
   "execution_count": 91,
   "id": "4a947e55-fc1c-4241-b8a3-835981b09429",
   "metadata": {
    "tags": []
   },
   "outputs": [],
   "source": [
    "# Fuel mix\n",
    "FuelMix.to_excel(os.path.join(output_dir,'FuelMix.xlsx'),index=False)"
   ]
  },
  {
   "cell_type": "code",
   "execution_count": 92,
   "id": "9713a269-2317-4cdd-af7c-ea558561215b",
   "metadata": {
    "tags": []
   },
   "outputs": [],
   "source": [
    "# Electricity-to-Heat/Hydrogen ratios\n",
    "E2H.to_excel(os.path.join(output_dir,'E2H.xlsx'),index=False)\n",
    "E2HH.to_excel(os.path.join(output_dir,'E2HH.xlsx'),index=False)"
   ]
  },
  {
   "cell_type": "code",
   "execution_count": 93,
   "id": "0bd9ea92-6af0-4112-a523-cb03544f9781",
   "metadata": {
    "tags": []
   },
   "outputs": [],
   "source": [
    "# Electricity demand\n",
    "LoadVariation_E.reset_index().to_excel(os.path.join(output_dir,'LoadVariation_E.xlsx'),index=False)\n",
    "Load_E.reset_index().to_excel(os.path.join(output_dir,'Load_E.xlsx'),index=False)\n",
    "MWP_E.reset_index().to_excel(os.path.join(output_dir,'MWP_E.xlsx'),index=False)"
   ]
  },
  {
   "cell_type": "code",
   "execution_count": 94,
   "id": "dcdaf136-4a38-4ae4-93ad-61f90f00a735",
   "metadata": {
    "tags": []
   },
   "outputs": [],
   "source": [
    "# Heat demand\n",
    "LoadVariation_H.reset_index().to_excel(os.path.join(output_dir,'LoadVariation_H.xlsx'),index=False)\n",
    "Load_H.reset_index().to_excel(os.path.join(output_dir,'Load_H.xlsx'),index=False)"
   ]
  },
  {
   "cell_type": "code",
   "execution_count": 95,
   "id": "fc79d9a7-7dfc-4a1c-ac79-24d54c5257c4",
   "metadata": {
    "tags": []
   },
   "outputs": [],
   "source": [
    "# Transmission capacities\n",
    "lineCapacity.to_excel(os.path.join(output_dir,'lineCapacity.xlsx'),index=False)\n",
    "lineVariation.to_excel(os.path.join(output_dir,'lineVariation.xlsx'),index=False)"
   ]
  },
  {
   "cell_type": "code",
   "execution_count": 96,
   "id": "8939c2a3-e22f-4365-8fb5-b0c0cfcca9b4",
   "metadata": {
    "tags": []
   },
   "outputs": [],
   "source": [
    "# Mappings:\n",
    "df_maps[['id','tech']].to_excel(os.path.join(output_dir,'id2tech.xlsx'),index=False)\n",
    "df_maps[['tech','modelTech']].drop_duplicates().to_excel(os.path.join(output_dir,'tech2modelTech.xlsx'),index=False)\n",
    "df_maps.loc[df_maps['modelTech'].isin(['standard_E','BP','HP']),['id','g_E']].to_excel(os.path.join(output_dir,'id2g_E.xlsx'),index=False)\n",
    "df_maps.loc[df_maps['modelTech'].isin(['standard_H','BP','HP']),['id','g_H']].to_excel(os.path.join(output_dir,'id2g_H.xlsx'),index=False)\n",
    "df_maps.loc[df_maps['GeneratingCapacity_H'].isna()==False,['g_E','g_H']].drop_duplicates().to_excel(os.path.join(output_dir,'g_E2g_H.xlsx'),index=False)\n",
    "id2hvt.to_excel(os.path.join(output_dir,'id2hvt.xlsx'),index=False)"
   ]
  },
  {
   "cell_type": "code",
   "execution_count": 100,
   "id": "cb803b47-53ad-4eeb-a495-f8759ddd5720",
   "metadata": {
    "tags": []
   },
   "outputs": [],
   "source": [
    "# Hour to date mappings\n",
    "pd.read_pickle(os.path.join(data_dir,'Load_DK1DK2_2019')).set_index(['g_E','h']).xs('DK1',level='g_E').reset_index()[['h','HourOfTheDay','Weekday','Week','Month']].to_excel(os.path.join(output_dir,'h2dates.xlsx'),index=False)"
   ]
  },
  {
   "cell_type": "code",
   "execution_count": null,
   "id": "21d9720c-e87f-49f5-b98f-acaba7ce47ec",
   "metadata": {},
   "outputs": [],
   "source": [
    "\n"
   ]
  }
 ],
 "metadata": {
  "kernelspec": {
   "display_name": "Python 3 (ipykernel)",
   "language": "python",
   "name": "python3"
  },
  "language_info": {
   "codemirror_mode": {
    "name": "ipython",
    "version": 3
   },
   "file_extension": ".py",
   "mimetype": "text/x-python",
   "name": "python",
   "nbconvert_exporter": "python",
   "pygments_lexer": "ipython3",
   "version": "3.11.3"
  }
 },
 "nbformat": 4,
 "nbformat_minor": 5
}
