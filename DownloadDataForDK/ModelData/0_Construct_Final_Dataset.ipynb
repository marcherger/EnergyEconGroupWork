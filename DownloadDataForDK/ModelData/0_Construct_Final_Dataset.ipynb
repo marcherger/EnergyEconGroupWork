{
 "cells": [
  {
   "cell_type": "markdown",
   "metadata": {},
   "source": [
    "# Construct Dataset"
   ]
  },
  {
   "cell_type": "markdown",
   "metadata": {},
   "source": [
    "In this Jupyter notebook, the dataset going into the $mBasicPH\\_storage$ is being constructed. Basically, this file constructs an excel file (stored in \"EnergyEconGroupWork\\Data\") from the various excel files (stored in \"EnergyEconGroupWork\\DownloadDataForDK\\ModelData\") which were constructed from real world data."
   ]
  },
  {
   "cell_type": "markdown",
   "metadata": {},
   "source": [
    "## Settings"
   ]
  },
  {
   "cell_type": "markdown",
   "metadata": {},
   "source": [
    "Import standard packages:"
   ]
  },
  {
   "cell_type": "code",
   "execution_count": 1,
   "metadata": {},
   "outputs": [],
   "source": [
    "import pandas as pd,os, numpy as np"
   ]
  },
  {
   "cell_type": "markdown",
   "metadata": {},
   "source": [
    "Let's specify an output folder:"
   ]
  },
  {
   "cell_type": "code",
   "execution_count": 2,
   "metadata": {},
   "outputs": [],
   "source": [
    "output_dir = os.path.join(os.getcwd(),'Final_Dataset')"
   ]
  },
  {
   "cell_type": "code",
   "execution_count": 3,
   "metadata": {},
   "outputs": [
    {
     "name": "stdout",
     "output_type": "stream",
     "text": [
      "c:\\Users\\mpher\\Documents\\Uni\\Master\\02_Exchange\\01_Academics\\Energy Economics of the Green Transition\\0_Final Project\\EnergyEconGroupWork\\DownloadDataForDK\\ModelData\\Final_Dataset\n"
     ]
    }
   ],
   "source": [
    "print(output_dir)"
   ]
  },
  {
   "cell_type": "markdown",
   "metadata": {},
   "source": [
    "## Sheet \"Log\""
   ]
  },
  {
   "cell_type": "markdown",
   "metadata": {},
   "source": [
    "Here we construct the sheet \"Log\", which defines the **UNITS** of variables."
   ]
  },
  {
   "cell_type": "markdown",
   "metadata": {},
   "source": [
    "Define **UNITS**:"
   ]
  },
  {
   "cell_type": "code",
   "execution_count": 4,
   "metadata": {},
   "outputs": [],
   "source": [
    "UNITS = {\n",
    "    'FuelPrice':'EUR/MWh',\n",
    "    'EmissionIntensity':'Ton CO2/MWh input',\n",
    "    'EmissionTax':'EUR/TCO2',\n",
    "    'Load':'MWh',\n",
    "    'FuelMix':'MWh input / MWh output', # Data: 'TWh input / TWh output' -> adjust\n",
    "    'GeneratingCapacity':'MW', \n",
    "    'OtherMC':'EUR/MWh output',\n",
    "    'FOM':'EUR/MW/(hours per model year)/8760', # convert from year to hours per model year\n",
    "    'InvestCost':'Million EUR2015/MWhCapacity', # Data: 'Million EUR2015/GWhCapacity' -> adjust\n",
    "    'LoadVariation':'Percent of annual demand',\n",
    "    'CapVariation':'Percent of generating capacity',\n",
    "    'MWP_E':'EUR/MWh',\n",
    "    'MWP_H':'EUR/MWh'\n",
    "}"
   ]
  },
  {
   "cell_type": "markdown",
   "metadata": {},
   "source": [
    "Add dictionary to \"Log\" dataset:"
   ]
  },
  {
   "cell_type": "code",
   "execution_count": 5,
   "metadata": {},
   "outputs": [],
   "source": [
    "df_Log = pd.DataFrame(list(UNITS.items()), columns=['Parameter', 'Unit/description'])"
   ]
  },
  {
   "cell_type": "markdown",
   "metadata": {},
   "source": [
    "Save as excel:"
   ]
  },
  {
   "cell_type": "code",
   "execution_count": 6,
   "metadata": {},
   "outputs": [],
   "source": [
    "df_Log.to_excel(os.path.join(output_dir,'log.xlsx'),sheet_name='Log', index=False)"
   ]
  },
  {
   "cell_type": "markdown",
   "metadata": {},
   "source": [
    "## Sheet \"Fundamentals\""
   ]
  },
  {
   "cell_type": "markdown",
   "metadata": {},
   "source": [
    "### FuelPrice/BFt"
   ]
  },
  {
   "cell_type": "markdown",
   "metadata": {},
   "source": [
    "Get different fuel types from \"FuelMix\" excel file in cwd."
   ]
  },
  {
   "cell_type": "code",
   "execution_count": 7,
   "metadata": {},
   "outputs": [],
   "source": [
    "BFt = pd.read_excel(os.path.join(os.getcwd(), 'FuelMix.xlsx'))"
   ]
  },
  {
   "cell_type": "markdown",
   "metadata": {},
   "source": [
    "Subset:"
   ]
  },
  {
   "cell_type": "code",
   "execution_count": 8,
   "metadata": {},
   "outputs": [],
   "source": [
    "BFt = BFt['BFt'].drop_duplicates()"
   ]
  },
  {
   "cell_type": "markdown",
   "metadata": {},
   "source": [
    "Convert to df and set column name:"
   ]
  },
  {
   "cell_type": "code",
   "execution_count": 9,
   "metadata": {},
   "outputs": [],
   "source": [
    "Fundamentals_df = pd.DataFrame({'FuelPrice/BFt': BFt})"
   ]
  },
  {
   "cell_type": "code",
   "execution_count": 10,
   "metadata": {},
   "outputs": [
    {
     "data": {
      "text/html": [
       "<div>\n",
       "<style scoped>\n",
       "    .dataframe tbody tr th:only-of-type {\n",
       "        vertical-align: middle;\n",
       "    }\n",
       "\n",
       "    .dataframe tbody tr th {\n",
       "        vertical-align: top;\n",
       "    }\n",
       "\n",
       "    .dataframe thead th {\n",
       "        text-align: right;\n",
       "    }\n",
       "</style>\n",
       "<table border=\"1\" class=\"dataframe\">\n",
       "  <thead>\n",
       "    <tr style=\"text-align: right;\">\n",
       "      <th></th>\n",
       "      <th>FuelPrice/BFt</th>\n",
       "    </tr>\n",
       "  </thead>\n",
       "  <tbody>\n",
       "    <tr>\n",
       "      <th>0</th>\n",
       "      <td>Biogas</td>\n",
       "    </tr>\n",
       "    <tr>\n",
       "      <th>2</th>\n",
       "      <td>Biomass</td>\n",
       "    </tr>\n",
       "    <tr>\n",
       "      <th>4</th>\n",
       "      <td>Coal</td>\n",
       "    </tr>\n",
       "    <tr>\n",
       "      <th>5</th>\n",
       "      <td>Natgas</td>\n",
       "    </tr>\n",
       "    <tr>\n",
       "      <th>7</th>\n",
       "      <td>Oil</td>\n",
       "    </tr>\n",
       "    <tr>\n",
       "      <th>10</th>\n",
       "      <td>Waste</td>\n",
       "    </tr>\n",
       "  </tbody>\n",
       "</table>\n",
       "</div>"
      ],
      "text/plain": [
       "   FuelPrice/BFt\n",
       "0         Biogas\n",
       "2        Biomass\n",
       "4           Coal\n",
       "5         Natgas\n",
       "7            Oil\n",
       "10         Waste"
      ]
     },
     "execution_count": 10,
     "metadata": {},
     "output_type": "execute_result"
    }
   ],
   "source": [
    "Fundamentals_df"
   ]
  },
  {
   "cell_type": "markdown",
   "metadata": {},
   "source": [
    "### FuelPrice/FuelPrice"
   ]
  },
  {
   "cell_type": "markdown",
   "metadata": {},
   "source": [
    "We use the file \"FuelProjections\" (data from DEA) from the \"EnergyEconomicsE2023\" GitHub repository. Unfortunately, fuel prices are only stated from 2020 onwards. Therefore, we use the prices for 2020 as they are closest to 2019. We do so, because most fuel prices in the \"FuelProjections\" dataset increase over time, so we are the closest to 2019 prices by using the 2020 estimates."
   ]
  },
  {
   "cell_type": "code",
   "execution_count": 11,
   "metadata": {},
   "outputs": [],
   "source": [
    "FuelPrice = pd.read_excel(os.path.join(os.getcwd(), 'FuelProjections.xlsx'), sheet_name='prices')"
   ]
  },
  {
   "cell_type": "markdown",
   "metadata": {},
   "source": [
    "In the FuelPrice df the prices are in EUR/GJ but we want EUR/MWh:\n",
    "\n",
    "1 GJ = 0.2777777778 MWh ([Source](https://www.unitconverters.net/energy/gigajoule-to-megawatt-hour.htm))"
   ]
  },
  {
   "cell_type": "markdown",
   "metadata": {},
   "source": [
    "Add to fundamentals df:"
   ]
  },
  {
   "cell_type": "code",
   "execution_count": 12,
   "metadata": {},
   "outputs": [],
   "source": [
    "# Create empty new column in Fundamentals_df\n",
    "Fundamentals_df['FuelPrice/FuelPrice'] = np.nan"
   ]
  },
  {
   "cell_type": "code",
   "execution_count": 13,
   "metadata": {},
   "outputs": [],
   "source": [
    "# Biogas\n",
    "Fundamentals_df.loc[Fundamentals_df['FuelPrice/BFt'] == 'Biogas', 'FuelPrice/FuelPrice'] = FuelPrice.loc[0,'Biogas'] / 0.2777777778\n",
    "\n",
    "# Biomass (we assume Biomass only consists of Wood pellets so we get close to prices in the mBasicPH_storageLarge)\n",
    "Fundamentals_df.loc[Fundamentals_df['FuelPrice/BFt'] == 'Biomass', 'FuelPrice/FuelPrice'] = FuelPrice.loc[0,'Wood pellets'] / 0.2777777778\n",
    "\n",
    "# Coal\n",
    "Fundamentals_df.loc[Fundamentals_df['FuelPrice/BFt'] == 'Coal', 'FuelPrice/FuelPrice'] = FuelPrice.loc[0,'Coal'] / 0.2777777778\n",
    "                                                                                                          \n",
    "# Natgas\n",
    "Fundamentals_df.loc[Fundamentals_df['FuelPrice/BFt'] == 'Natgas', 'FuelPrice/FuelPrice'] = FuelPrice.loc[0,'Natural gas'] / 0.2777777778\n",
    "\n",
    "# Oil\n",
    "Fundamentals_df.loc[Fundamentals_df['FuelPrice/BFt'] == 'Oil', 'FuelPrice/FuelPrice'] = FuelPrice.loc[0,'Oil'] / 0.2777777778\n",
    "\n",
    "# Waste\n",
    "Fundamentals_df.loc[Fundamentals_df['FuelPrice/BFt'] == 'Waste', 'FuelPrice/FuelPrice'] = FuelPrice.loc[0,'Waste'] / 0.2777777778\n"
   ]
  },
  {
   "cell_type": "code",
   "execution_count": 14,
   "metadata": {},
   "outputs": [
    {
     "data": {
      "text/html": [
       "<div>\n",
       "<style scoped>\n",
       "    .dataframe tbody tr th:only-of-type {\n",
       "        vertical-align: middle;\n",
       "    }\n",
       "\n",
       "    .dataframe tbody tr th {\n",
       "        vertical-align: top;\n",
       "    }\n",
       "\n",
       "    .dataframe thead th {\n",
       "        text-align: right;\n",
       "    }\n",
       "</style>\n",
       "<table border=\"1\" class=\"dataframe\">\n",
       "  <thead>\n",
       "    <tr style=\"text-align: right;\">\n",
       "      <th></th>\n",
       "      <th>FuelPrice/BFt</th>\n",
       "      <th>FuelPrice/FuelPrice</th>\n",
       "    </tr>\n",
       "  </thead>\n",
       "  <tbody>\n",
       "    <tr>\n",
       "      <th>0</th>\n",
       "      <td>Biogas</td>\n",
       "      <td>57.902680</td>\n",
       "    </tr>\n",
       "    <tr>\n",
       "      <th>2</th>\n",
       "      <td>Biomass</td>\n",
       "      <td>34.279615</td>\n",
       "    </tr>\n",
       "    <tr>\n",
       "      <th>4</th>\n",
       "      <td>Coal</td>\n",
       "      <td>7.339794</td>\n",
       "    </tr>\n",
       "    <tr>\n",
       "      <th>5</th>\n",
       "      <td>Natgas</td>\n",
       "      <td>13.265219</td>\n",
       "    </tr>\n",
       "    <tr>\n",
       "      <th>7</th>\n",
       "      <td>Oil</td>\n",
       "      <td>26.222730</td>\n",
       "    </tr>\n",
       "    <tr>\n",
       "      <th>10</th>\n",
       "      <td>Waste</td>\n",
       "      <td>0.048322</td>\n",
       "    </tr>\n",
       "  </tbody>\n",
       "</table>\n",
       "</div>"
      ],
      "text/plain": [
       "   FuelPrice/BFt  FuelPrice/FuelPrice\n",
       "0         Biogas            57.902680\n",
       "2        Biomass            34.279615\n",
       "4           Coal             7.339794\n",
       "5         Natgas            13.265219\n",
       "7            Oil            26.222730\n",
       "10         Waste             0.048322"
      ]
     },
     "execution_count": 14,
     "metadata": {},
     "output_type": "execute_result"
    }
   ],
   "source": [
    "Fundamentals_df"
   ]
  },
  {
   "cell_type": "markdown",
   "metadata": {},
   "source": [
    "### EmissionIntensity/BFt"
   ]
  },
  {
   "cell_type": "markdown",
   "metadata": {},
   "source": [
    "Copy row \"FuelPrice/BFt\""
   ]
  },
  {
   "cell_type": "code",
   "execution_count": 15,
   "metadata": {},
   "outputs": [],
   "source": [
    "Fundamentals_df['EmissionIntensity/BFt'] = Fundamentals_df['FuelPrice/BFt']"
   ]
  },
  {
   "cell_type": "markdown",
   "metadata": {},
   "source": [
    "### EmissionIntensity/EmissionType"
   ]
  },
  {
   "cell_type": "markdown",
   "metadata": {},
   "source": [
    "Fill new column with value \"CO2\", i.e. the same emission type for all fuels."
   ]
  },
  {
   "cell_type": "code",
   "execution_count": 16,
   "metadata": {},
   "outputs": [],
   "source": [
    "Fundamentals_df['EmissionIntensity/EmissionType'] = 'CO2'"
   ]
  },
  {
   "cell_type": "markdown",
   "metadata": {},
   "source": [
    "### EmissionIntensity/EmissionIntensity"
   ]
  },
  {
   "cell_type": "markdown",
   "metadata": {},
   "source": [
    "As with the FuelPrice/FuelPrice, we use the file \"FuelProjections\" (data from DEA) from the \"EnergyEconomicsE2023\" GitHub repository. However, \"EmissionIntensity\" does not depend on time."
   ]
  },
  {
   "cell_type": "code",
   "execution_count": 17,
   "metadata": {},
   "outputs": [],
   "source": [
    "EmissionIntensity = pd.read_excel(os.path.join(os.getcwd(), 'FuelProjections.xlsx'), sheet_name='emissionIntensity')"
   ]
  },
  {
   "cell_type": "code",
   "execution_count": 18,
   "metadata": {},
   "outputs": [
    {
     "data": {
      "text/html": [
       "<div>\n",
       "<style scoped>\n",
       "    .dataframe tbody tr th:only-of-type {\n",
       "        vertical-align: middle;\n",
       "    }\n",
       "\n",
       "    .dataframe tbody tr th {\n",
       "        vertical-align: top;\n",
       "    }\n",
       "\n",
       "    .dataframe thead th {\n",
       "        text-align: right;\n",
       "    }\n",
       "</style>\n",
       "<table border=\"1\" class=\"dataframe\">\n",
       "  <thead>\n",
       "    <tr style=\"text-align: right;\">\n",
       "      <th></th>\n",
       "      <th>EmissionIntensity/EmissionType/BFt</th>\n",
       "      <th>Coal</th>\n",
       "      <th>Oil</th>\n",
       "      <th>Natural gas</th>\n",
       "      <th>Straw</th>\n",
       "      <th>Wood pellets</th>\n",
       "      <th>Wood chips</th>\n",
       "      <th>Wood waste</th>\n",
       "      <th>Waste</th>\n",
       "      <th>Biogas</th>\n",
       "      <th>Hydrogen</th>\n",
       "      <th>Uranium</th>\n",
       "    </tr>\n",
       "  </thead>\n",
       "  <tbody>\n",
       "    <tr>\n",
       "      <th>0</th>\n",
       "      <td>CO2</td>\n",
       "      <td>94.370</td>\n",
       "      <td>76.645000</td>\n",
       "      <td>57</td>\n",
       "      <td>0.0</td>\n",
       "      <td>0</td>\n",
       "      <td>0</td>\n",
       "      <td>0</td>\n",
       "      <td>42.500</td>\n",
       "      <td>0</td>\n",
       "      <td>0</td>\n",
       "      <td>0</td>\n",
       "    </tr>\n",
       "    <tr>\n",
       "      <th>1</th>\n",
       "      <td>SO2</td>\n",
       "      <td>0.272</td>\n",
       "      <td>0.159884</td>\n",
       "      <td>0</td>\n",
       "      <td>0.2</td>\n",
       "      <td>0</td>\n",
       "      <td>0</td>\n",
       "      <td>0</td>\n",
       "      <td>0.075</td>\n",
       "      <td>0</td>\n",
       "      <td>0</td>\n",
       "      <td>0</td>\n",
       "    </tr>\n",
       "  </tbody>\n",
       "</table>\n",
       "</div>"
      ],
      "text/plain": [
       "  EmissionIntensity/EmissionType/BFt    Coal        Oil  Natural gas  Straw  \\\n",
       "0                                CO2  94.370  76.645000           57    0.0   \n",
       "1                                SO2   0.272   0.159884            0    0.2   \n",
       "\n",
       "   Wood pellets  Wood chips  Wood waste   Waste  Biogas  Hydrogen  Uranium  \n",
       "0             0           0           0  42.500       0         0        0  \n",
       "1             0           0           0   0.075       0         0        0  "
      ]
     },
     "execution_count": 18,
     "metadata": {},
     "output_type": "execute_result"
    }
   ],
   "source": [
    "EmissionIntensity"
   ]
  },
  {
   "cell_type": "markdown",
   "metadata": {},
   "source": [
    "Add the emission intensity of CO2 to Fundamentals_df:\n",
    "\n",
    "In the \"EmissionIntensity\" datafile above the values are in **kg/GJ** but we want **Ton CO2/MWh**. \n",
    "\n",
    "Thus, we devide by $1000*0.2777777778$. "
   ]
  },
  {
   "cell_type": "code",
   "execution_count": 19,
   "metadata": {},
   "outputs": [],
   "source": [
    "# Create empty new column in Fundamentals_df\n",
    "Fundamentals_df['EmissionIntensity/EmissionIntensity'] = np.nan\n",
    "\n",
    "# Biogas\n",
    "Fundamentals_df.loc[Fundamentals_df['EmissionIntensity/BFt'] == 'Biogas', 'EmissionIntensity/EmissionIntensity'] = EmissionIntensity.loc[0,'Biogas'] / (1000*0.2777777778)\n",
    "\n",
    "# Biomass (we assume Biomass only consists of Wood pellets so we get close to prices in the mBasicPH_storageLarge)\n",
    "Fundamentals_df.loc[Fundamentals_df['EmissionIntensity/BFt'] == 'Biomass', 'EmissionIntensity/EmissionIntensity'] = EmissionIntensity.loc[0,'Wood pellets'] / (1000*0.2777777778)\n",
    "\n",
    "# Coal\n",
    "Fundamentals_df.loc[Fundamentals_df['EmissionIntensity/BFt'] == 'Coal', 'EmissionIntensity/EmissionIntensity'] = EmissionIntensity.loc[0,'Coal'] / (1000*0.2777777778)\n",
    "                                                                                                          \n",
    "# Natgas\n",
    "Fundamentals_df.loc[Fundamentals_df['EmissionIntensity/BFt'] == 'Natgas', 'EmissionIntensity/EmissionIntensity'] = EmissionIntensity.loc[0,'Natural gas'] / (1000*0.2777777778)\n",
    "\n",
    "# Oil\n",
    "Fundamentals_df.loc[Fundamentals_df['EmissionIntensity/BFt'] == 'Oil', 'EmissionIntensity/EmissionIntensity'] = EmissionIntensity.loc[0,'Oil'] / (1000*0.2777777778)\n",
    "\n",
    "# Waste\n",
    "Fundamentals_df.loc[Fundamentals_df['EmissionIntensity/BFt'] == 'Waste', 'EmissionIntensity/EmissionIntensity'] = EmissionIntensity.loc[0,'Waste'] / (1000*0.2777777778)"
   ]
  },
  {
   "cell_type": "code",
   "execution_count": 20,
   "metadata": {},
   "outputs": [
    {
     "data": {
      "text/html": [
       "<div>\n",
       "<style scoped>\n",
       "    .dataframe tbody tr th:only-of-type {\n",
       "        vertical-align: middle;\n",
       "    }\n",
       "\n",
       "    .dataframe tbody tr th {\n",
       "        vertical-align: top;\n",
       "    }\n",
       "\n",
       "    .dataframe thead th {\n",
       "        text-align: right;\n",
       "    }\n",
       "</style>\n",
       "<table border=\"1\" class=\"dataframe\">\n",
       "  <thead>\n",
       "    <tr style=\"text-align: right;\">\n",
       "      <th></th>\n",
       "      <th>FuelPrice/BFt</th>\n",
       "      <th>FuelPrice/FuelPrice</th>\n",
       "      <th>EmissionIntensity/BFt</th>\n",
       "      <th>EmissionIntensity/EmissionType</th>\n",
       "      <th>EmissionIntensity/EmissionIntensity</th>\n",
       "    </tr>\n",
       "  </thead>\n",
       "  <tbody>\n",
       "    <tr>\n",
       "      <th>0</th>\n",
       "      <td>Biogas</td>\n",
       "      <td>57.902680</td>\n",
       "      <td>Biogas</td>\n",
       "      <td>CO2</td>\n",
       "      <td>0.000000</td>\n",
       "    </tr>\n",
       "    <tr>\n",
       "      <th>2</th>\n",
       "      <td>Biomass</td>\n",
       "      <td>34.279615</td>\n",
       "      <td>Biomass</td>\n",
       "      <td>CO2</td>\n",
       "      <td>0.000000</td>\n",
       "    </tr>\n",
       "    <tr>\n",
       "      <th>4</th>\n",
       "      <td>Coal</td>\n",
       "      <td>7.339794</td>\n",
       "      <td>Coal</td>\n",
       "      <td>CO2</td>\n",
       "      <td>0.339732</td>\n",
       "    </tr>\n",
       "    <tr>\n",
       "      <th>5</th>\n",
       "      <td>Natgas</td>\n",
       "      <td>13.265219</td>\n",
       "      <td>Natgas</td>\n",
       "      <td>CO2</td>\n",
       "      <td>0.205200</td>\n",
       "    </tr>\n",
       "    <tr>\n",
       "      <th>7</th>\n",
       "      <td>Oil</td>\n",
       "      <td>26.222730</td>\n",
       "      <td>Oil</td>\n",
       "      <td>CO2</td>\n",
       "      <td>0.275922</td>\n",
       "    </tr>\n",
       "    <tr>\n",
       "      <th>10</th>\n",
       "      <td>Waste</td>\n",
       "      <td>0.048322</td>\n",
       "      <td>Waste</td>\n",
       "      <td>CO2</td>\n",
       "      <td>0.153000</td>\n",
       "    </tr>\n",
       "  </tbody>\n",
       "</table>\n",
       "</div>"
      ],
      "text/plain": [
       "   FuelPrice/BFt  FuelPrice/FuelPrice EmissionIntensity/BFt  \\\n",
       "0         Biogas            57.902680                Biogas   \n",
       "2        Biomass            34.279615               Biomass   \n",
       "4           Coal             7.339794                  Coal   \n",
       "5         Natgas            13.265219                Natgas   \n",
       "7            Oil            26.222730                   Oil   \n",
       "10         Waste             0.048322                 Waste   \n",
       "\n",
       "   EmissionIntensity/EmissionType  EmissionIntensity/EmissionIntensity  \n",
       "0                             CO2                             0.000000  \n",
       "2                             CO2                             0.000000  \n",
       "4                             CO2                             0.339732  \n",
       "5                             CO2                             0.205200  \n",
       "7                             CO2                             0.275922  \n",
       "10                            CO2                             0.153000  "
      ]
     },
     "execution_count": 20,
     "metadata": {},
     "output_type": "execute_result"
    }
   ],
   "source": [
    "Fundamentals_df"
   ]
  },
  {
   "cell_type": "markdown",
   "metadata": {},
   "source": [
    "### Save as excel"
   ]
  },
  {
   "cell_type": "code",
   "execution_count": 21,
   "metadata": {},
   "outputs": [],
   "source": [
    "Fundamentals_df.to_excel(os.path.join(output_dir,'Fundamentals.xlsx'),sheet_name='Fundamentals', index=False)"
   ]
  },
  {
   "cell_type": "markdown",
   "metadata": {},
   "source": [
    "## Sheet \"LoadVariables\""
   ]
  },
  {
   "cell_type": "markdown",
   "metadata": {},
   "source": [
    "*Note: Subtitles to previous section slightly differ (as we use less subtitles, i.e. subtitles per category and not per column as in \"Sheet Fundamentals\" section) to make the code more readable.*"
   ]
  },
  {
   "cell_type": "markdown",
   "metadata": {},
   "source": [
    "### Load_E"
   ]
  },
  {
   "cell_type": "markdown",
   "metadata": {},
   "source": [
    "We get load from \"Load_E\" file and only use rows \"c_DK1\" and \"c_DK2\" because we do not model transmission. In this step, we also already rename columns we want in our output df \"LoadVariables_df\"."
   ]
  },
  {
   "cell_type": "code",
   "execution_count": 30,
   "metadata": {},
   "outputs": [],
   "source": [
    "Load_E = pd.read_excel(os.path.join(os.getcwd(), 'Load_E.xlsx')).rename(columns={\n",
    "    'c_E':'Load_E/c_E',\n",
    "    'Load_E':'Load_E/Load_E'})"
   ]
  },
  {
   "cell_type": "markdown",
   "metadata": {},
   "source": [
    "Add the rows not conserning transmission to LoadVariables_df."
   ]
  },
  {
   "cell_type": "code",
   "execution_count": 31,
   "metadata": {},
   "outputs": [],
   "source": [
    "LoadVariables_df = Load_E[Load_E['Load_E/c_E'].isin(['c_DK1', 'c_DK2'])]"
   ]
  },
  {
   "cell_type": "markdown",
   "metadata": {},
   "source": [
    "### LoadVariation"
   ]
  },
  {
   "cell_type": "markdown",
   "metadata": {},
   "source": [
    "## Combine excel files"
   ]
  },
  {
   "cell_type": "markdown",
   "metadata": {},
   "source": [
    "In this last step, we combine the different excel files into one excel file split up into multiple sheets."
   ]
  },
  {
   "cell_type": "code",
   "execution_count": 22,
   "metadata": {},
   "outputs": [],
   "source": [
    "# List to store DataFrames from each file\n",
    "#df_final = []\n",
    "\n",
    "# Iterate over each file in the directory\n",
    "#for file in os.listdir(output_dir):\n",
    "#    if file.endswith('.xlsx'):\n",
    "#        file_path = os.path.join(output_dir, file)\n",
    "        # Read each Excel file into a DataFrame\n",
    "#        df = pd.read_excel(file_path)\n",
    "        # Append DataFrame to the list\n",
    "#        df_final.append(df)\n",
    "\n",
    "# Create a new Excel file with multiple sheets\n",
    "#with pd.ExcelWriter(output_dir, engine='xlsxwriter') as writer:\n",
    "    # Iterate over DataFrames and write each to a separate sheet\n",
    "#    for i, df in enumerate(df_final):\n",
    "#        sheet_name = f'Sheet_{i+1}'\n",
    "#        df.to_excel(writer, sheet_name=sheet_name, index=False)"
   ]
  }
 ],
 "metadata": {
  "kernelspec": {
   "display_name": "EE2023",
   "language": "python",
   "name": "python3"
  },
  "language_info": {
   "codemirror_mode": {
    "name": "ipython",
    "version": 3
   },
   "file_extension": ".py",
   "mimetype": "text/x-python",
   "name": "python",
   "nbconvert_exporter": "python",
   "pygments_lexer": "ipython3",
   "version": "3.11.3"
  }
 },
 "nbformat": 4,
 "nbformat_minor": 2
}
