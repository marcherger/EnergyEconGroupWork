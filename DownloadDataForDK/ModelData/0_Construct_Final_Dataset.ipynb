{
 "cells": [
  {
   "cell_type": "markdown",
   "metadata": {},
   "source": [
    "# Construct Dataset"
   ]
  },
  {
   "cell_type": "markdown",
   "metadata": {},
   "source": [
    "In this Jupyter notebook, the dataset going into the $mBasicPH\\_storage$ is being constructed. Basically, this file constructs an excel file (stored in \"EnergyEconGroupWork\\Data\") from the various excel files (stored in \"EnergyEconGroupWork\\DownloadDataForDK\\ModelData\") which were constructed from real world data."
   ]
  },
  {
   "cell_type": "markdown",
   "metadata": {},
   "source": [
    "## Settings"
   ]
  },
  {
   "cell_type": "markdown",
   "metadata": {},
   "source": [
    "Import standard packages:"
   ]
  },
  {
   "cell_type": "code",
   "execution_count": 1,
   "metadata": {},
   "outputs": [],
   "source": [
    "import pandas as pd,os, numpy as np"
   ]
  },
  {
   "cell_type": "markdown",
   "metadata": {},
   "source": [
    "Let's specify an output folder:"
   ]
  },
  {
   "cell_type": "code",
   "execution_count": 2,
   "metadata": {},
   "outputs": [],
   "source": [
    "output_dir = os.path.join(os.getcwd(),'Final_Dataset')"
   ]
  },
  {
   "cell_type": "code",
   "execution_count": 3,
   "metadata": {},
   "outputs": [
    {
     "name": "stdout",
     "output_type": "stream",
     "text": [
      "c:\\Users\\mpher\\Documents\\Uni\\Master\\02_Exchange\\01_Academics\\Energy Economics of the Green Transition\\0_Final Project\\EnergyEconGroupWork\\DownloadDataForDK\\ModelData\\Final_Dataset\n"
     ]
    }
   ],
   "source": [
    "print(output_dir)"
   ]
  },
  {
   "cell_type": "markdown",
   "metadata": {},
   "source": [
    "## Sheet \"Log\""
   ]
  },
  {
   "cell_type": "markdown",
   "metadata": {},
   "source": [
    "Here we construct the sheet \"Log\", which defines the **UNITS** of variables."
   ]
  },
  {
   "cell_type": "markdown",
   "metadata": {},
   "source": [
    "Define **UNITS**:"
   ]
  },
  {
   "cell_type": "code",
   "execution_count": 4,
   "metadata": {},
   "outputs": [],
   "source": [
    "UNITS = {\n",
    "    'FuelPrice':'EUR/MWh',\n",
    "    'EmissionIntensity':'Ton CO2/MWh input',\n",
    "    'EmissionTax':'EUR/TCO2',\n",
    "    'Load':'MWh',\n",
    "    'FuelMix':'MWh input / MWh output', # Data: 'TWh input / TWh output' -> no need to adjust ratio stays\n",
    "    'GeneratingCapacity':'MW', \n",
    "    'OtherMC':'EUR/MWh output',\n",
    "    'FOM':'EUR/(MW/(hours per model year))/8760', # convert from year to hours per model year\n",
    "    'InvestCost':'Million EUR2015/MWhCapacity', # Data: 'Million EUR2015/GWhCapacity' -> adjust\n",
    "    'LoadVariation':'Percent of annual demand',\n",
    "    'CapVariation':'Percent of generating capacity',\n",
    "    'MWP_E':'EUR/MWh',\n",
    "    'MWP_H':'EUR/MWh',\n",
    "    'E2H':'Coefficient (negative for heat pumps, positive for backpressure)'\n",
    "}"
   ]
  },
  {
   "cell_type": "markdown",
   "metadata": {},
   "source": [
    "Add dictionary to \"Log\" dataset:"
   ]
  },
  {
   "cell_type": "code",
   "execution_count": 5,
   "metadata": {},
   "outputs": [],
   "source": [
    "df_Log = pd.DataFrame(list(UNITS.items()), columns=['Parameter', 'Unit/description'])"
   ]
  },
  {
   "cell_type": "markdown",
   "metadata": {},
   "source": [
    "Save as excel:"
   ]
  },
  {
   "cell_type": "code",
   "execution_count": 6,
   "metadata": {},
   "outputs": [],
   "source": [
    "df_Log.to_excel(os.path.join(output_dir,'Log.xlsx'),sheet_name='Log', index=False)"
   ]
  },
  {
   "cell_type": "markdown",
   "metadata": {},
   "source": [
    "## Sheet \"Fundamentals\""
   ]
  },
  {
   "cell_type": "markdown",
   "metadata": {},
   "source": [
    "### FuelPrice"
   ]
  },
  {
   "cell_type": "markdown",
   "metadata": {},
   "source": [
    "#### FuelPrice/BFt"
   ]
  },
  {
   "cell_type": "markdown",
   "metadata": {},
   "source": [
    "Get different fuel types from \"FuelMix\" excel file in cwd."
   ]
  },
  {
   "cell_type": "code",
   "execution_count": 7,
   "metadata": {},
   "outputs": [],
   "source": [
    "BFt = pd.read_excel(os.path.join(os.getcwd(), 'FuelMix.xlsx'))"
   ]
  },
  {
   "cell_type": "markdown",
   "metadata": {},
   "source": [
    "Subset:"
   ]
  },
  {
   "cell_type": "code",
   "execution_count": 8,
   "metadata": {},
   "outputs": [],
   "source": [
    "BFt = BFt['BFt'].drop_duplicates()"
   ]
  },
  {
   "cell_type": "markdown",
   "metadata": {},
   "source": [
    "Convert to df and set column name:"
   ]
  },
  {
   "cell_type": "code",
   "execution_count": 9,
   "metadata": {},
   "outputs": [],
   "source": [
    "Fundamentals_df = pd.DataFrame({'FuelPrice/BFt': BFt})"
   ]
  },
  {
   "cell_type": "code",
   "execution_count": 10,
   "metadata": {},
   "outputs": [
    {
     "data": {
      "text/html": [
       "<div>\n",
       "<style scoped>\n",
       "    .dataframe tbody tr th:only-of-type {\n",
       "        vertical-align: middle;\n",
       "    }\n",
       "\n",
       "    .dataframe tbody tr th {\n",
       "        vertical-align: top;\n",
       "    }\n",
       "\n",
       "    .dataframe thead th {\n",
       "        text-align: right;\n",
       "    }\n",
       "</style>\n",
       "<table border=\"1\" class=\"dataframe\">\n",
       "  <thead>\n",
       "    <tr style=\"text-align: right;\">\n",
       "      <th></th>\n",
       "      <th>FuelPrice/BFt</th>\n",
       "    </tr>\n",
       "  </thead>\n",
       "  <tbody>\n",
       "    <tr>\n",
       "      <th>0</th>\n",
       "      <td>Biogas</td>\n",
       "    </tr>\n",
       "    <tr>\n",
       "      <th>2</th>\n",
       "      <td>Biomass</td>\n",
       "    </tr>\n",
       "    <tr>\n",
       "      <th>4</th>\n",
       "      <td>Coal</td>\n",
       "    </tr>\n",
       "    <tr>\n",
       "      <th>5</th>\n",
       "      <td>Natgas</td>\n",
       "    </tr>\n",
       "    <tr>\n",
       "      <th>7</th>\n",
       "      <td>Oil</td>\n",
       "    </tr>\n",
       "    <tr>\n",
       "      <th>10</th>\n",
       "      <td>Waste</td>\n",
       "    </tr>\n",
       "  </tbody>\n",
       "</table>\n",
       "</div>"
      ],
      "text/plain": [
       "   FuelPrice/BFt\n",
       "0         Biogas\n",
       "2        Biomass\n",
       "4           Coal\n",
       "5         Natgas\n",
       "7            Oil\n",
       "10         Waste"
      ]
     },
     "execution_count": 10,
     "metadata": {},
     "output_type": "execute_result"
    }
   ],
   "source": [
    "Fundamentals_df"
   ]
  },
  {
   "cell_type": "markdown",
   "metadata": {},
   "source": [
    "#### FuelPrice/FuelPrice"
   ]
  },
  {
   "cell_type": "markdown",
   "metadata": {},
   "source": [
    "We use the file \"FuelProjections\" (data from DEA) from the \"EnergyEconomicsE2023\" GitHub repository. Unfortunately, fuel prices are only stated from 2020 onwards. Therefore, we use the prices for 2020 as they are closest to 2019. We do so, because most fuel prices in the \"FuelProjections\" dataset increase over time, so we are the closest to 2019 prices by using the 2020 estimates."
   ]
  },
  {
   "cell_type": "code",
   "execution_count": 11,
   "metadata": {},
   "outputs": [],
   "source": [
    "FuelPrice = pd.read_excel(os.path.join(os.getcwd(), 'FuelProjections.xlsx'), sheet_name='prices')"
   ]
  },
  {
   "cell_type": "markdown",
   "metadata": {},
   "source": [
    "In the FuelPrice df the prices are in EUR/GJ but we want EUR/MWh:\n",
    "\n",
    "1 GJ = 0.2777777778 MWh ([Source](https://www.unitconverters.net/energy/gigajoule-to-megawatt-hour.htm))"
   ]
  },
  {
   "cell_type": "markdown",
   "metadata": {},
   "source": [
    "Add to fundamentals df:"
   ]
  },
  {
   "cell_type": "code",
   "execution_count": 12,
   "metadata": {},
   "outputs": [],
   "source": [
    "# Create empty new column in Fundamentals_df\n",
    "Fundamentals_df['FuelPrice/FuelPrice'] = np.nan"
   ]
  },
  {
   "cell_type": "code",
   "execution_count": 13,
   "metadata": {},
   "outputs": [],
   "source": [
    "# Biogas\n",
    "Fundamentals_df.loc[Fundamentals_df['FuelPrice/BFt'] == 'Biogas', 'FuelPrice/FuelPrice'] = FuelPrice.loc[0,'Biogas'] / 0.2777777778\n",
    "\n",
    "# Biomass (we assume Biomass only consists of Wood pellets so we get close to prices in the mBasicPH_storageLarge)\n",
    "Fundamentals_df.loc[Fundamentals_df['FuelPrice/BFt'] == 'Biomass', 'FuelPrice/FuelPrice'] = FuelPrice.loc[0,'Wood pellets'] / 0.2777777778\n",
    "\n",
    "# Coal\n",
    "Fundamentals_df.loc[Fundamentals_df['FuelPrice/BFt'] == 'Coal', 'FuelPrice/FuelPrice'] = FuelPrice.loc[0,'Coal'] / 0.2777777778\n",
    "                                                                                                          \n",
    "# Natgas\n",
    "Fundamentals_df.loc[Fundamentals_df['FuelPrice/BFt'] == 'Natgas', 'FuelPrice/FuelPrice'] = FuelPrice.loc[0,'Natural gas'] / 0.2777777778\n",
    "\n",
    "# Oil\n",
    "Fundamentals_df.loc[Fundamentals_df['FuelPrice/BFt'] == 'Oil', 'FuelPrice/FuelPrice'] = FuelPrice.loc[0,'Oil'] / 0.2777777778\n",
    "\n",
    "# Waste\n",
    "Fundamentals_df.loc[Fundamentals_df['FuelPrice/BFt'] == 'Waste', 'FuelPrice/FuelPrice'] = FuelPrice.loc[0,'Waste'] / 0.2777777778\n"
   ]
  },
  {
   "cell_type": "code",
   "execution_count": 14,
   "metadata": {},
   "outputs": [
    {
     "data": {
      "text/html": [
       "<div>\n",
       "<style scoped>\n",
       "    .dataframe tbody tr th:only-of-type {\n",
       "        vertical-align: middle;\n",
       "    }\n",
       "\n",
       "    .dataframe tbody tr th {\n",
       "        vertical-align: top;\n",
       "    }\n",
       "\n",
       "    .dataframe thead th {\n",
       "        text-align: right;\n",
       "    }\n",
       "</style>\n",
       "<table border=\"1\" class=\"dataframe\">\n",
       "  <thead>\n",
       "    <tr style=\"text-align: right;\">\n",
       "      <th></th>\n",
       "      <th>FuelPrice/BFt</th>\n",
       "      <th>FuelPrice/FuelPrice</th>\n",
       "    </tr>\n",
       "  </thead>\n",
       "  <tbody>\n",
       "    <tr>\n",
       "      <th>0</th>\n",
       "      <td>Biogas</td>\n",
       "      <td>57.902680</td>\n",
       "    </tr>\n",
       "    <tr>\n",
       "      <th>2</th>\n",
       "      <td>Biomass</td>\n",
       "      <td>34.279615</td>\n",
       "    </tr>\n",
       "    <tr>\n",
       "      <th>4</th>\n",
       "      <td>Coal</td>\n",
       "      <td>7.339794</td>\n",
       "    </tr>\n",
       "    <tr>\n",
       "      <th>5</th>\n",
       "      <td>Natgas</td>\n",
       "      <td>13.265219</td>\n",
       "    </tr>\n",
       "    <tr>\n",
       "      <th>7</th>\n",
       "      <td>Oil</td>\n",
       "      <td>26.222730</td>\n",
       "    </tr>\n",
       "    <tr>\n",
       "      <th>10</th>\n",
       "      <td>Waste</td>\n",
       "      <td>0.048322</td>\n",
       "    </tr>\n",
       "  </tbody>\n",
       "</table>\n",
       "</div>"
      ],
      "text/plain": [
       "   FuelPrice/BFt  FuelPrice/FuelPrice\n",
       "0         Biogas            57.902680\n",
       "2        Biomass            34.279615\n",
       "4           Coal             7.339794\n",
       "5         Natgas            13.265219\n",
       "7            Oil            26.222730\n",
       "10         Waste             0.048322"
      ]
     },
     "execution_count": 14,
     "metadata": {},
     "output_type": "execute_result"
    }
   ],
   "source": [
    "Fundamentals_df"
   ]
  },
  {
   "cell_type": "markdown",
   "metadata": {},
   "source": [
    "### EmissionIntensity"
   ]
  },
  {
   "cell_type": "markdown",
   "metadata": {},
   "source": [
    "#### EmissionIntensity/BFt"
   ]
  },
  {
   "cell_type": "markdown",
   "metadata": {},
   "source": [
    "Copy row \"FuelPrice/BFt\""
   ]
  },
  {
   "cell_type": "code",
   "execution_count": 15,
   "metadata": {},
   "outputs": [],
   "source": [
    "Fundamentals_df['EmissionIntensity/BFt'] = Fundamentals_df['FuelPrice/BFt']"
   ]
  },
  {
   "cell_type": "markdown",
   "metadata": {},
   "source": [
    "#### EmissionIntensity/EmissionType"
   ]
  },
  {
   "cell_type": "markdown",
   "metadata": {},
   "source": [
    "Fill new column with value \"CO2\", i.e. the same emission type for all fuels."
   ]
  },
  {
   "cell_type": "code",
   "execution_count": 16,
   "metadata": {},
   "outputs": [],
   "source": [
    "Fundamentals_df['EmissionIntensity/EmissionType'] = 'CO2'"
   ]
  },
  {
   "cell_type": "markdown",
   "metadata": {},
   "source": [
    "#### EmissionIntensity/EmissionIntensity"
   ]
  },
  {
   "cell_type": "markdown",
   "metadata": {},
   "source": [
    "As with the FuelPrice/FuelPrice, we use the file \"FuelProjections\" (data from DEA) from the \"EnergyEconomicsE2023\" GitHub repository. However, \"EmissionIntensity\" does not depend on time."
   ]
  },
  {
   "cell_type": "code",
   "execution_count": 17,
   "metadata": {},
   "outputs": [],
   "source": [
    "EmissionIntensity = pd.read_excel(os.path.join(os.getcwd(), 'FuelProjections.xlsx'), sheet_name='emissionIntensity')"
   ]
  },
  {
   "cell_type": "code",
   "execution_count": 18,
   "metadata": {},
   "outputs": [
    {
     "data": {
      "text/html": [
       "<div>\n",
       "<style scoped>\n",
       "    .dataframe tbody tr th:only-of-type {\n",
       "        vertical-align: middle;\n",
       "    }\n",
       "\n",
       "    .dataframe tbody tr th {\n",
       "        vertical-align: top;\n",
       "    }\n",
       "\n",
       "    .dataframe thead th {\n",
       "        text-align: right;\n",
       "    }\n",
       "</style>\n",
       "<table border=\"1\" class=\"dataframe\">\n",
       "  <thead>\n",
       "    <tr style=\"text-align: right;\">\n",
       "      <th></th>\n",
       "      <th>EmissionIntensity/EmissionType/BFt</th>\n",
       "      <th>Coal</th>\n",
       "      <th>Oil</th>\n",
       "      <th>Natural gas</th>\n",
       "      <th>Straw</th>\n",
       "      <th>Wood pellets</th>\n",
       "      <th>Wood chips</th>\n",
       "      <th>Wood waste</th>\n",
       "      <th>Waste</th>\n",
       "      <th>Biogas</th>\n",
       "      <th>Hydrogen</th>\n",
       "      <th>Uranium</th>\n",
       "    </tr>\n",
       "  </thead>\n",
       "  <tbody>\n",
       "    <tr>\n",
       "      <th>0</th>\n",
       "      <td>CO2</td>\n",
       "      <td>94.370</td>\n",
       "      <td>76.645000</td>\n",
       "      <td>57</td>\n",
       "      <td>0.0</td>\n",
       "      <td>0</td>\n",
       "      <td>0</td>\n",
       "      <td>0</td>\n",
       "      <td>42.500</td>\n",
       "      <td>0</td>\n",
       "      <td>0</td>\n",
       "      <td>0</td>\n",
       "    </tr>\n",
       "    <tr>\n",
       "      <th>1</th>\n",
       "      <td>SO2</td>\n",
       "      <td>0.272</td>\n",
       "      <td>0.159884</td>\n",
       "      <td>0</td>\n",
       "      <td>0.2</td>\n",
       "      <td>0</td>\n",
       "      <td>0</td>\n",
       "      <td>0</td>\n",
       "      <td>0.075</td>\n",
       "      <td>0</td>\n",
       "      <td>0</td>\n",
       "      <td>0</td>\n",
       "    </tr>\n",
       "  </tbody>\n",
       "</table>\n",
       "</div>"
      ],
      "text/plain": [
       "  EmissionIntensity/EmissionType/BFt    Coal        Oil  Natural gas  Straw  \\\n",
       "0                                CO2  94.370  76.645000           57    0.0   \n",
       "1                                SO2   0.272   0.159884            0    0.2   \n",
       "\n",
       "   Wood pellets  Wood chips  Wood waste   Waste  Biogas  Hydrogen  Uranium  \n",
       "0             0           0           0  42.500       0         0        0  \n",
       "1             0           0           0   0.075       0         0        0  "
      ]
     },
     "execution_count": 18,
     "metadata": {},
     "output_type": "execute_result"
    }
   ],
   "source": [
    "EmissionIntensity"
   ]
  },
  {
   "cell_type": "markdown",
   "metadata": {},
   "source": [
    "Add the emission intensity of CO2 to Fundamentals_df:\n",
    "\n",
    "In the \"EmissionIntensity\" datafile above the values are in **kg/GJ** but we want **Ton CO2/MWh**. \n",
    "\n",
    "Thus, we devide by $1000*0.2777777778$. "
   ]
  },
  {
   "cell_type": "code",
   "execution_count": 19,
   "metadata": {},
   "outputs": [],
   "source": [
    "# Create empty new column in Fundamentals_df\n",
    "Fundamentals_df['EmissionIntensity/EmissionIntensity'] = np.nan\n",
    "\n",
    "# Biogas\n",
    "Fundamentals_df.loc[Fundamentals_df['EmissionIntensity/BFt'] == 'Biogas', 'EmissionIntensity/EmissionIntensity'] = EmissionIntensity.loc[0,'Biogas'] / (1000*0.2777777778)\n",
    "\n",
    "# Biomass (we assume Biomass only consists of Wood pellets so we get close to prices in the mBasicPH_storageLarge)\n",
    "Fundamentals_df.loc[Fundamentals_df['EmissionIntensity/BFt'] == 'Biomass', 'EmissionIntensity/EmissionIntensity'] = EmissionIntensity.loc[0,'Wood pellets'] / (1000*0.2777777778)\n",
    "\n",
    "# Coal\n",
    "Fundamentals_df.loc[Fundamentals_df['EmissionIntensity/BFt'] == 'Coal', 'EmissionIntensity/EmissionIntensity'] = EmissionIntensity.loc[0,'Coal'] / (1000*0.2777777778)\n",
    "                                                                                                          \n",
    "# Natgas\n",
    "Fundamentals_df.loc[Fundamentals_df['EmissionIntensity/BFt'] == 'Natgas', 'EmissionIntensity/EmissionIntensity'] = EmissionIntensity.loc[0,'Natural gas'] / (1000*0.2777777778)\n",
    "\n",
    "# Oil\n",
    "Fundamentals_df.loc[Fundamentals_df['EmissionIntensity/BFt'] == 'Oil', 'EmissionIntensity/EmissionIntensity'] = EmissionIntensity.loc[0,'Oil'] / (1000*0.2777777778)\n",
    "\n",
    "# Waste\n",
    "Fundamentals_df.loc[Fundamentals_df['EmissionIntensity/BFt'] == 'Waste', 'EmissionIntensity/EmissionIntensity'] = EmissionIntensity.loc[0,'Waste'] / (1000*0.2777777778)"
   ]
  },
  {
   "cell_type": "code",
   "execution_count": 20,
   "metadata": {},
   "outputs": [
    {
     "data": {
      "text/html": [
       "<div>\n",
       "<style scoped>\n",
       "    .dataframe tbody tr th:only-of-type {\n",
       "        vertical-align: middle;\n",
       "    }\n",
       "\n",
       "    .dataframe tbody tr th {\n",
       "        vertical-align: top;\n",
       "    }\n",
       "\n",
       "    .dataframe thead th {\n",
       "        text-align: right;\n",
       "    }\n",
       "</style>\n",
       "<table border=\"1\" class=\"dataframe\">\n",
       "  <thead>\n",
       "    <tr style=\"text-align: right;\">\n",
       "      <th></th>\n",
       "      <th>FuelPrice/BFt</th>\n",
       "      <th>FuelPrice/FuelPrice</th>\n",
       "      <th>EmissionIntensity/BFt</th>\n",
       "      <th>EmissionIntensity/EmissionType</th>\n",
       "      <th>EmissionIntensity/EmissionIntensity</th>\n",
       "    </tr>\n",
       "  </thead>\n",
       "  <tbody>\n",
       "    <tr>\n",
       "      <th>0</th>\n",
       "      <td>Biogas</td>\n",
       "      <td>57.902680</td>\n",
       "      <td>Biogas</td>\n",
       "      <td>CO2</td>\n",
       "      <td>0.000000</td>\n",
       "    </tr>\n",
       "    <tr>\n",
       "      <th>2</th>\n",
       "      <td>Biomass</td>\n",
       "      <td>34.279615</td>\n",
       "      <td>Biomass</td>\n",
       "      <td>CO2</td>\n",
       "      <td>0.000000</td>\n",
       "    </tr>\n",
       "    <tr>\n",
       "      <th>4</th>\n",
       "      <td>Coal</td>\n",
       "      <td>7.339794</td>\n",
       "      <td>Coal</td>\n",
       "      <td>CO2</td>\n",
       "      <td>0.339732</td>\n",
       "    </tr>\n",
       "    <tr>\n",
       "      <th>5</th>\n",
       "      <td>Natgas</td>\n",
       "      <td>13.265219</td>\n",
       "      <td>Natgas</td>\n",
       "      <td>CO2</td>\n",
       "      <td>0.205200</td>\n",
       "    </tr>\n",
       "    <tr>\n",
       "      <th>7</th>\n",
       "      <td>Oil</td>\n",
       "      <td>26.222730</td>\n",
       "      <td>Oil</td>\n",
       "      <td>CO2</td>\n",
       "      <td>0.275922</td>\n",
       "    </tr>\n",
       "    <tr>\n",
       "      <th>10</th>\n",
       "      <td>Waste</td>\n",
       "      <td>0.048322</td>\n",
       "      <td>Waste</td>\n",
       "      <td>CO2</td>\n",
       "      <td>0.153000</td>\n",
       "    </tr>\n",
       "  </tbody>\n",
       "</table>\n",
       "</div>"
      ],
      "text/plain": [
       "   FuelPrice/BFt  FuelPrice/FuelPrice EmissionIntensity/BFt  \\\n",
       "0         Biogas            57.902680                Biogas   \n",
       "2        Biomass            34.279615               Biomass   \n",
       "4           Coal             7.339794                  Coal   \n",
       "5         Natgas            13.265219                Natgas   \n",
       "7            Oil            26.222730                   Oil   \n",
       "10         Waste             0.048322                 Waste   \n",
       "\n",
       "   EmissionIntensity/EmissionType  EmissionIntensity/EmissionIntensity  \n",
       "0                             CO2                             0.000000  \n",
       "2                             CO2                             0.000000  \n",
       "4                             CO2                             0.339732  \n",
       "5                             CO2                             0.205200  \n",
       "7                             CO2                             0.275922  \n",
       "10                            CO2                             0.153000  "
      ]
     },
     "execution_count": 20,
     "metadata": {},
     "output_type": "execute_result"
    }
   ],
   "source": [
    "Fundamentals_df"
   ]
  },
  {
   "cell_type": "markdown",
   "metadata": {},
   "source": [
    "### EmissionTax"
   ]
  },
  {
   "cell_type": "markdown",
   "metadata": {},
   "source": [
    "We are goint to assume the average EU ETS price during the year 2019. The average EU Carbon Permits prices during 2019 was **24.64 EUR/TCO2** ([Source](https://tradingeconomics.com/commodity/carbon))."
   ]
  },
  {
   "cell_type": "markdown",
   "metadata": {},
   "source": [
    "We can add this information to the existing *Fundamentals_df*."
   ]
  },
  {
   "cell_type": "code",
   "execution_count": 21,
   "metadata": {},
   "outputs": [],
   "source": [
    "Fundamentals_df['EmissionTax/EmissionType'] = ['CO2'] + [np.nan] * (len(Fundamentals_df) - 1)\n",
    "Fundamentals_df['EmissionTax/EmissionTax'] = [24.64] + [np.nan] * (len(Fundamentals_df) - 1)"
   ]
  },
  {
   "cell_type": "markdown",
   "metadata": {},
   "source": [
    "### Save as excel"
   ]
  },
  {
   "cell_type": "code",
   "execution_count": 22,
   "metadata": {},
   "outputs": [],
   "source": [
    "Fundamentals_df.to_excel(os.path.join(output_dir,'Fundamentals.xlsx'),sheet_name='Fundamentals', index=False)"
   ]
  },
  {
   "cell_type": "markdown",
   "metadata": {},
   "source": [
    "## Sheet \"LoadVariables\""
   ]
  },
  {
   "cell_type": "markdown",
   "metadata": {},
   "source": [
    "*Note: Subtitles to previous section slightly differ (as we use less subtitles, i.e. subtitles per category and not per column as in \"Sheet Fundamentals\" section) to make the code more readable.*"
   ]
  },
  {
   "cell_type": "markdown",
   "metadata": {},
   "source": [
    "### Electricity"
   ]
  },
  {
   "cell_type": "markdown",
   "metadata": {},
   "source": [
    "We get load from \"Load_E\" file and only use rows \"c_DK1\" and \"c_DK2\" because we do not model transmission. In this step, we also already rename columns we want in our output df \"LoadVariables_df\"."
   ]
  },
  {
   "cell_type": "code",
   "execution_count": 23,
   "metadata": {},
   "outputs": [],
   "source": [
    "Load_E = pd.read_excel(os.path.join(os.getcwd(), 'Load_E.xlsx')).rename(columns={\n",
    "    'c_E':'Load_E/c_E',\n",
    "    'Load_E':'Load_E/Load_E'})"
   ]
  },
  {
   "cell_type": "markdown",
   "metadata": {},
   "source": [
    "Add the rows not conserning transmission to LoadVariables_df."
   ]
  },
  {
   "cell_type": "code",
   "execution_count": 24,
   "metadata": {},
   "outputs": [],
   "source": [
    "LoadVariables_df = Load_E[Load_E['Load_E/c_E'].isin(['c_DK1', 'c_DK2'])]"
   ]
  },
  {
   "cell_type": "markdown",
   "metadata": {},
   "source": [
    "We get load variation from \"LoadVariation_E\" file. Again, we omit transmission."
   ]
  },
  {
   "cell_type": "code",
   "execution_count": 25,
   "metadata": {},
   "outputs": [],
   "source": [
    "LoadVariation_E = pd.read_excel(os.path.join(os.getcwd(), 'LoadVariation_E.xlsx')).rename(columns={\n",
    "    'c_E':'LoadVariation_E/c_E',\n",
    "    'h':'LoadVariation_E/h',\n",
    "    'LoadVariation_E':'LoadVariation_E/LoadVariation_E'})"
   ]
  },
  {
   "cell_type": "markdown",
   "metadata": {},
   "source": [
    "Add the rows not conserning transmission to LoadVariables_df."
   ]
  },
  {
   "cell_type": "code",
   "execution_count": 26,
   "metadata": {},
   "outputs": [],
   "source": [
    "LoadVariables_df = pd.concat([LoadVariables_df, LoadVariation_E[LoadVariation_E['LoadVariation_E/c_E'].isin(['c_DK1', 'c_DK2'])]], axis=1)"
   ]
  },
  {
   "cell_type": "code",
   "execution_count": 27,
   "metadata": {},
   "outputs": [
    {
     "data": {
      "text/html": [
       "<div>\n",
       "<style scoped>\n",
       "    .dataframe tbody tr th:only-of-type {\n",
       "        vertical-align: middle;\n",
       "    }\n",
       "\n",
       "    .dataframe tbody tr th {\n",
       "        vertical-align: top;\n",
       "    }\n",
       "\n",
       "    .dataframe thead th {\n",
       "        text-align: right;\n",
       "    }\n",
       "</style>\n",
       "<table border=\"1\" class=\"dataframe\">\n",
       "  <thead>\n",
       "    <tr style=\"text-align: right;\">\n",
       "      <th></th>\n",
       "      <th>Load_E/c_E</th>\n",
       "      <th>Load_E/Load_E</th>\n",
       "      <th>LoadVariation_E/c_E</th>\n",
       "      <th>LoadVariation_E/h</th>\n",
       "      <th>LoadVariation_E/LoadVariation_E</th>\n",
       "    </tr>\n",
       "  </thead>\n",
       "  <tbody>\n",
       "    <tr>\n",
       "      <th>0</th>\n",
       "      <td>c_DK1</td>\n",
       "      <td>2.037151e+07</td>\n",
       "      <td>c_DK1</td>\n",
       "      <td>1</td>\n",
       "      <td>0.000091</td>\n",
       "    </tr>\n",
       "    <tr>\n",
       "      <th>1</th>\n",
       "      <td>c_DK2</td>\n",
       "      <td>1.316852e+07</td>\n",
       "      <td>c_DK1</td>\n",
       "      <td>2</td>\n",
       "      <td>0.000089</td>\n",
       "    </tr>\n",
       "    <tr>\n",
       "      <th>2</th>\n",
       "      <td>NaN</td>\n",
       "      <td>NaN</td>\n",
       "      <td>c_DK1</td>\n",
       "      <td>3</td>\n",
       "      <td>0.000086</td>\n",
       "    </tr>\n",
       "    <tr>\n",
       "      <th>3</th>\n",
       "      <td>NaN</td>\n",
       "      <td>NaN</td>\n",
       "      <td>c_DK1</td>\n",
       "      <td>4</td>\n",
       "      <td>0.000084</td>\n",
       "    </tr>\n",
       "    <tr>\n",
       "      <th>4</th>\n",
       "      <td>NaN</td>\n",
       "      <td>NaN</td>\n",
       "      <td>c_DK1</td>\n",
       "      <td>5</td>\n",
       "      <td>0.000083</td>\n",
       "    </tr>\n",
       "    <tr>\n",
       "      <th>...</th>\n",
       "      <td>...</td>\n",
       "      <td>...</td>\n",
       "      <td>...</td>\n",
       "      <td>...</td>\n",
       "      <td>...</td>\n",
       "    </tr>\n",
       "    <tr>\n",
       "      <th>17515</th>\n",
       "      <td>NaN</td>\n",
       "      <td>NaN</td>\n",
       "      <td>c_DK2</td>\n",
       "      <td>8756</td>\n",
       "      <td>0.000131</td>\n",
       "    </tr>\n",
       "    <tr>\n",
       "      <th>17516</th>\n",
       "      <td>NaN</td>\n",
       "      <td>NaN</td>\n",
       "      <td>c_DK2</td>\n",
       "      <td>8757</td>\n",
       "      <td>0.000121</td>\n",
       "    </tr>\n",
       "    <tr>\n",
       "      <th>17517</th>\n",
       "      <td>NaN</td>\n",
       "      <td>NaN</td>\n",
       "      <td>c_DK2</td>\n",
       "      <td>8758</td>\n",
       "      <td>0.000115</td>\n",
       "    </tr>\n",
       "    <tr>\n",
       "      <th>17518</th>\n",
       "      <td>NaN</td>\n",
       "      <td>NaN</td>\n",
       "      <td>c_DK2</td>\n",
       "      <td>8759</td>\n",
       "      <td>0.000111</td>\n",
       "    </tr>\n",
       "    <tr>\n",
       "      <th>17519</th>\n",
       "      <td>NaN</td>\n",
       "      <td>NaN</td>\n",
       "      <td>c_DK2</td>\n",
       "      <td>8760</td>\n",
       "      <td>0.000107</td>\n",
       "    </tr>\n",
       "  </tbody>\n",
       "</table>\n",
       "<p>17520 rows × 5 columns</p>\n",
       "</div>"
      ],
      "text/plain": [
       "      Load_E/c_E  Load_E/Load_E LoadVariation_E/c_E  LoadVariation_E/h  \\\n",
       "0          c_DK1   2.037151e+07               c_DK1                  1   \n",
       "1          c_DK2   1.316852e+07               c_DK1                  2   \n",
       "2            NaN            NaN               c_DK1                  3   \n",
       "3            NaN            NaN               c_DK1                  4   \n",
       "4            NaN            NaN               c_DK1                  5   \n",
       "...          ...            ...                 ...                ...   \n",
       "17515        NaN            NaN               c_DK2               8756   \n",
       "17516        NaN            NaN               c_DK2               8757   \n",
       "17517        NaN            NaN               c_DK2               8758   \n",
       "17518        NaN            NaN               c_DK2               8759   \n",
       "17519        NaN            NaN               c_DK2               8760   \n",
       "\n",
       "       LoadVariation_E/LoadVariation_E  \n",
       "0                             0.000091  \n",
       "1                             0.000089  \n",
       "2                             0.000086  \n",
       "3                             0.000084  \n",
       "4                             0.000083  \n",
       "...                                ...  \n",
       "17515                         0.000131  \n",
       "17516                         0.000121  \n",
       "17517                         0.000115  \n",
       "17518                         0.000111  \n",
       "17519                         0.000107  \n",
       "\n",
       "[17520 rows x 5 columns]"
      ]
     },
     "execution_count": 27,
     "metadata": {},
     "output_type": "execute_result"
    }
   ],
   "source": [
    "LoadVariables_df"
   ]
  },
  {
   "cell_type": "markdown",
   "metadata": {},
   "source": [
    "### Heat"
   ]
  },
  {
   "cell_type": "markdown",
   "metadata": {},
   "source": [
    "We do the same steps as for electricity. But there is no export/import of heat."
   ]
  },
  {
   "cell_type": "code",
   "execution_count": 28,
   "metadata": {},
   "outputs": [],
   "source": [
    "Load_H = pd.read_excel(os.path.join(os.getcwd(), 'Load_H.xlsx')).rename(columns={\n",
    "    'index':'Load_H/c_H',\n",
    "    'Load_H':'Load_H/Load_H'})"
   ]
  },
  {
   "cell_type": "code",
   "execution_count": 29,
   "metadata": {},
   "outputs": [],
   "source": [
    "LoadVariables_df = pd.concat([LoadVariables_df, Load_H], axis=1)"
   ]
  },
  {
   "cell_type": "code",
   "execution_count": 30,
   "metadata": {},
   "outputs": [],
   "source": [
    "LoadVariation_H = pd.read_excel(os.path.join(os.getcwd(), 'LoadVariation_H.xlsx')).rename(columns={\n",
    "    'c_H':'LoadVariation_H/c_H',\n",
    "    'h':'LoadVariation_H/h',\n",
    "    'LoadVariation_H':'LoadVariation_H/LoadVariation_H'})"
   ]
  },
  {
   "cell_type": "code",
   "execution_count": 31,
   "metadata": {},
   "outputs": [],
   "source": [
    "LoadVariables_df = pd.concat([LoadVariables_df, LoadVariation_H], axis=1)"
   ]
  },
  {
   "cell_type": "code",
   "execution_count": 32,
   "metadata": {},
   "outputs": [
    {
     "data": {
      "text/html": [
       "<div>\n",
       "<style scoped>\n",
       "    .dataframe tbody tr th:only-of-type {\n",
       "        vertical-align: middle;\n",
       "    }\n",
       "\n",
       "    .dataframe tbody tr th {\n",
       "        vertical-align: top;\n",
       "    }\n",
       "\n",
       "    .dataframe thead th {\n",
       "        text-align: right;\n",
       "    }\n",
       "</style>\n",
       "<table border=\"1\" class=\"dataframe\">\n",
       "  <thead>\n",
       "    <tr style=\"text-align: right;\">\n",
       "      <th></th>\n",
       "      <th>Load_E/c_E</th>\n",
       "      <th>Load_E/Load_E</th>\n",
       "      <th>LoadVariation_E/c_E</th>\n",
       "      <th>LoadVariation_E/h</th>\n",
       "      <th>LoadVariation_E/LoadVariation_E</th>\n",
       "      <th>Load_H/c_H</th>\n",
       "      <th>Load_H/Load_H</th>\n",
       "      <th>LoadVariation_H/c_H</th>\n",
       "      <th>LoadVariation_H/h</th>\n",
       "      <th>LoadVariation_H/LoadVariation_H</th>\n",
       "    </tr>\n",
       "  </thead>\n",
       "  <tbody>\n",
       "    <tr>\n",
       "      <th>0</th>\n",
       "      <td>c_DK1</td>\n",
       "      <td>2.037151e+07</td>\n",
       "      <td>c_DK1</td>\n",
       "      <td>1.0</td>\n",
       "      <td>0.000091</td>\n",
       "      <td>c_DK1_Central</td>\n",
       "      <td>12759000.0</td>\n",
       "      <td>c_DK1_Central</td>\n",
       "      <td>1</td>\n",
       "      <td>0.000088</td>\n",
       "    </tr>\n",
       "    <tr>\n",
       "      <th>1</th>\n",
       "      <td>c_DK2</td>\n",
       "      <td>1.316852e+07</td>\n",
       "      <td>c_DK1</td>\n",
       "      <td>2.0</td>\n",
       "      <td>0.000089</td>\n",
       "      <td>c_DK1_LargeDecentral</td>\n",
       "      <td>3896000.0</td>\n",
       "      <td>c_DK1_Central</td>\n",
       "      <td>2</td>\n",
       "      <td>0.000079</td>\n",
       "    </tr>\n",
       "    <tr>\n",
       "      <th>2</th>\n",
       "      <td>NaN</td>\n",
       "      <td>NaN</td>\n",
       "      <td>c_DK1</td>\n",
       "      <td>3.0</td>\n",
       "      <td>0.000086</td>\n",
       "      <td>c_DK1_SmallDecentral</td>\n",
       "      <td>5906000.0</td>\n",
       "      <td>c_DK1_Central</td>\n",
       "      <td>3</td>\n",
       "      <td>0.000079</td>\n",
       "    </tr>\n",
       "    <tr>\n",
       "      <th>3</th>\n",
       "      <td>NaN</td>\n",
       "      <td>NaN</td>\n",
       "      <td>c_DK1</td>\n",
       "      <td>4.0</td>\n",
       "      <td>0.000084</td>\n",
       "      <td>c_DK2_Central</td>\n",
       "      <td>12200000.0</td>\n",
       "      <td>c_DK1_Central</td>\n",
       "      <td>4</td>\n",
       "      <td>0.000087</td>\n",
       "    </tr>\n",
       "    <tr>\n",
       "      <th>4</th>\n",
       "      <td>NaN</td>\n",
       "      <td>NaN</td>\n",
       "      <td>c_DK1</td>\n",
       "      <td>5.0</td>\n",
       "      <td>0.000083</td>\n",
       "      <td>c_DK2_LargeDecentral</td>\n",
       "      <td>2017000.0</td>\n",
       "      <td>c_DK1_Central</td>\n",
       "      <td>5</td>\n",
       "      <td>0.000117</td>\n",
       "    </tr>\n",
       "    <tr>\n",
       "      <th>...</th>\n",
       "      <td>...</td>\n",
       "      <td>...</td>\n",
       "      <td>...</td>\n",
       "      <td>...</td>\n",
       "      <td>...</td>\n",
       "      <td>...</td>\n",
       "      <td>...</td>\n",
       "      <td>...</td>\n",
       "      <td>...</td>\n",
       "      <td>...</td>\n",
       "    </tr>\n",
       "    <tr>\n",
       "      <th>52555</th>\n",
       "      <td>NaN</td>\n",
       "      <td>NaN</td>\n",
       "      <td>NaN</td>\n",
       "      <td>NaN</td>\n",
       "      <td>NaN</td>\n",
       "      <td>NaN</td>\n",
       "      <td>NaN</td>\n",
       "      <td>c_DK2_SmallDecentral</td>\n",
       "      <td>8756</td>\n",
       "      <td>0.000165</td>\n",
       "    </tr>\n",
       "    <tr>\n",
       "      <th>52556</th>\n",
       "      <td>NaN</td>\n",
       "      <td>NaN</td>\n",
       "      <td>NaN</td>\n",
       "      <td>NaN</td>\n",
       "      <td>NaN</td>\n",
       "      <td>NaN</td>\n",
       "      <td>NaN</td>\n",
       "      <td>c_DK2_SmallDecentral</td>\n",
       "      <td>8757</td>\n",
       "      <td>0.000165</td>\n",
       "    </tr>\n",
       "    <tr>\n",
       "      <th>52557</th>\n",
       "      <td>NaN</td>\n",
       "      <td>NaN</td>\n",
       "      <td>NaN</td>\n",
       "      <td>NaN</td>\n",
       "      <td>NaN</td>\n",
       "      <td>NaN</td>\n",
       "      <td>NaN</td>\n",
       "      <td>c_DK2_SmallDecentral</td>\n",
       "      <td>8758</td>\n",
       "      <td>0.000150</td>\n",
       "    </tr>\n",
       "    <tr>\n",
       "      <th>52558</th>\n",
       "      <td>NaN</td>\n",
       "      <td>NaN</td>\n",
       "      <td>NaN</td>\n",
       "      <td>NaN</td>\n",
       "      <td>NaN</td>\n",
       "      <td>NaN</td>\n",
       "      <td>NaN</td>\n",
       "      <td>c_DK2_SmallDecentral</td>\n",
       "      <td>8759</td>\n",
       "      <td>0.000120</td>\n",
       "    </tr>\n",
       "    <tr>\n",
       "      <th>52559</th>\n",
       "      <td>NaN</td>\n",
       "      <td>NaN</td>\n",
       "      <td>NaN</td>\n",
       "      <td>NaN</td>\n",
       "      <td>NaN</td>\n",
       "      <td>NaN</td>\n",
       "      <td>NaN</td>\n",
       "      <td>c_DK2_SmallDecentral</td>\n",
       "      <td>8760</td>\n",
       "      <td>0.000091</td>\n",
       "    </tr>\n",
       "  </tbody>\n",
       "</table>\n",
       "<p>52560 rows × 10 columns</p>\n",
       "</div>"
      ],
      "text/plain": [
       "      Load_E/c_E  Load_E/Load_E LoadVariation_E/c_E  LoadVariation_E/h  \\\n",
       "0          c_DK1   2.037151e+07               c_DK1                1.0   \n",
       "1          c_DK2   1.316852e+07               c_DK1                2.0   \n",
       "2            NaN            NaN               c_DK1                3.0   \n",
       "3            NaN            NaN               c_DK1                4.0   \n",
       "4            NaN            NaN               c_DK1                5.0   \n",
       "...          ...            ...                 ...                ...   \n",
       "52555        NaN            NaN                 NaN                NaN   \n",
       "52556        NaN            NaN                 NaN                NaN   \n",
       "52557        NaN            NaN                 NaN                NaN   \n",
       "52558        NaN            NaN                 NaN                NaN   \n",
       "52559        NaN            NaN                 NaN                NaN   \n",
       "\n",
       "       LoadVariation_E/LoadVariation_E            Load_H/c_H  Load_H/Load_H  \\\n",
       "0                             0.000091         c_DK1_Central     12759000.0   \n",
       "1                             0.000089  c_DK1_LargeDecentral      3896000.0   \n",
       "2                             0.000086  c_DK1_SmallDecentral      5906000.0   \n",
       "3                             0.000084         c_DK2_Central     12200000.0   \n",
       "4                             0.000083  c_DK2_LargeDecentral      2017000.0   \n",
       "...                                ...                   ...            ...   \n",
       "52555                              NaN                   NaN            NaN   \n",
       "52556                              NaN                   NaN            NaN   \n",
       "52557                              NaN                   NaN            NaN   \n",
       "52558                              NaN                   NaN            NaN   \n",
       "52559                              NaN                   NaN            NaN   \n",
       "\n",
       "        LoadVariation_H/c_H  LoadVariation_H/h  \\\n",
       "0             c_DK1_Central                  1   \n",
       "1             c_DK1_Central                  2   \n",
       "2             c_DK1_Central                  3   \n",
       "3             c_DK1_Central                  4   \n",
       "4             c_DK1_Central                  5   \n",
       "...                     ...                ...   \n",
       "52555  c_DK2_SmallDecentral               8756   \n",
       "52556  c_DK2_SmallDecentral               8757   \n",
       "52557  c_DK2_SmallDecentral               8758   \n",
       "52558  c_DK2_SmallDecentral               8759   \n",
       "52559  c_DK2_SmallDecentral               8760   \n",
       "\n",
       "       LoadVariation_H/LoadVariation_H  \n",
       "0                             0.000088  \n",
       "1                             0.000079  \n",
       "2                             0.000079  \n",
       "3                             0.000087  \n",
       "4                             0.000117  \n",
       "...                                ...  \n",
       "52555                         0.000165  \n",
       "52556                         0.000165  \n",
       "52557                         0.000150  \n",
       "52558                         0.000120  \n",
       "52559                         0.000091  \n",
       "\n",
       "[52560 rows x 10 columns]"
      ]
     },
     "execution_count": 32,
     "metadata": {},
     "output_type": "execute_result"
    }
   ],
   "source": [
    "LoadVariables_df"
   ]
  },
  {
   "cell_type": "markdown",
   "metadata": {},
   "source": [
    "### Save as excel"
   ]
  },
  {
   "cell_type": "code",
   "execution_count": 33,
   "metadata": {},
   "outputs": [],
   "source": [
    "LoadVariables_df.to_excel(os.path.join(output_dir,'LoadVariables.xlsx'),sheet_name='LoadVariables', index=False)"
   ]
  },
  {
   "cell_type": "markdown",
   "metadata": {},
   "source": [
    "## Sheet \"LoadMaps\""
   ]
  },
  {
   "cell_type": "markdown",
   "metadata": {},
   "source": [
    "We take \"c_E\" columns from before created \"LoadVariables\" excel file."
   ]
  },
  {
   "cell_type": "code",
   "execution_count": 34,
   "metadata": {},
   "outputs": [],
   "source": [
    "LoadMaps_df = pd.read_excel(os.path.join(output_dir, 'LoadVariables.xlsx'),\n",
    "                            usecols=['Load_E/c_E', 'Load_H/c_H']).dropna(subset=['Load_H/c_H']).rename(columns={\n",
    "                                'Load_E/c_E':'c_E2g_E/c_E',\n",
    "                                'Load_H/c_H':'c_H2g_H/c_H'})"
   ]
  },
  {
   "cell_type": "markdown",
   "metadata": {},
   "source": [
    "Define a function to check if \"DK1\" or \"DK2\" is included in the just created columns\n"
   ]
  },
  {
   "cell_type": "code",
   "execution_count": 35,
   "metadata": {},
   "outputs": [],
   "source": [
    "def check_dk(value):\n",
    "    if isinstance(value, str):\n",
    "        if 'DK1' in value:\n",
    "            return 'DK1'\n",
    "        elif 'DK2' in value:\n",
    "            return 'DK2'\n",
    "    return np.nan"
   ]
  },
  {
   "cell_type": "markdown",
   "metadata": {},
   "source": [
    "Apply function to creat new columns \"c_E2g/g\" and \"c_H2g/g\":"
   ]
  },
  {
   "cell_type": "code",
   "execution_count": 36,
   "metadata": {},
   "outputs": [],
   "source": [
    "LoadMaps_df['c_E2g_E/g_E'] = LoadMaps_df['c_E2g_E/c_E'].apply(check_dk)\n",
    "LoadMaps_df['c_H2g_H/g_H'] = LoadMaps_df['c_H2g_H/c_H'].apply(check_dk)"
   ]
  },
  {
   "cell_type": "markdown",
   "metadata": {},
   "source": [
    "Rearrange columns:"
   ]
  },
  {
   "cell_type": "code",
   "execution_count": 37,
   "metadata": {},
   "outputs": [],
   "source": [
    "LoadMaps_df = LoadMaps_df[['c_E2g_E/c_E','c_E2g_E/g_E','c_H2g_H/c_H','c_H2g_H/g_H']]"
   ]
  },
  {
   "cell_type": "markdown",
   "metadata": {},
   "source": [
    "### Save as excel"
   ]
  },
  {
   "cell_type": "code",
   "execution_count": 38,
   "metadata": {},
   "outputs": [],
   "source": [
    "LoadMaps_df.to_excel(os.path.join(output_dir,'LoadMaps.xlsx'),sheet_name='LoadMaps', index=False)"
   ]
  },
  {
   "cell_type": "markdown",
   "metadata": {},
   "source": [
    "## Sheet \"MarketMaps\""
   ]
  },
  {
   "cell_type": "markdown",
   "metadata": {},
   "source": [
    "We take the market maps from *E42_Data* and store it in our folder *Final_Dataset*."
   ]
  },
  {
   "cell_type": "markdown",
   "metadata": {},
   "source": [
    "## Sheet \"GeneratorsVariables\""
   ]
  },
  {
   "cell_type": "markdown",
   "metadata": {},
   "source": [
    "### FuelMix"
   ]
  },
  {
   "cell_type": "markdown",
   "metadata": {},
   "source": [
    "Import from \"FuelMix.xlsx\"."
   ]
  },
  {
   "cell_type": "code",
   "execution_count": 39,
   "metadata": {},
   "outputs": [],
   "source": [
    "FuelMix = pd.read_excel(os.path.join(os.getcwd(), 'FuelMix.xlsx')).rename(columns={\n",
    "    'id':'FuelMix/id',\n",
    "    'BFt':'FuelMix/BFt',\n",
    "    'FuelMix':'FuelMix/FuelMix'})"
   ]
  },
  {
   "cell_type": "markdown",
   "metadata": {},
   "source": [
    "Remove \"id_\" prefix from \"FuelMix/id\" column"
   ]
  },
  {
   "cell_type": "code",
   "execution_count": 40,
   "metadata": {},
   "outputs": [],
   "source": [
    "FuelMix['FuelMix/id'] = FuelMix['FuelMix/id'].str.replace('id_', '')"
   ]
  },
  {
   "cell_type": "markdown",
   "metadata": {},
   "source": [
    "### GeneratingCap Electricity"
   ]
  },
  {
   "cell_type": "code",
   "execution_count": 41,
   "metadata": {},
   "outputs": [],
   "source": [
    "GeneratingCap_E = pd.read_excel(os.path.join(os.getcwd(), 'GeneratingCapacity_E.xlsx')).rename(columns={\n",
    "    'id':'GeneratingCap_E/id',\n",
    "    'GeneratingCapacity_E':'GeneratingCap_E/GeneratingCap_E'})"
   ]
  },
  {
   "cell_type": "code",
   "execution_count": 42,
   "metadata": {},
   "outputs": [],
   "source": [
    "GeneratingCap_E['GeneratingCap_E/id'] = GeneratingCap_E['GeneratingCap_E/id'].str.replace('id_', '')"
   ]
  },
  {
   "cell_type": "code",
   "execution_count": 43,
   "metadata": {},
   "outputs": [],
   "source": [
    "# Filter out rows containing \"ImportFrom\"\n",
    "GeneratingCap_E = GeneratingCap_E[~GeneratingCap_E['GeneratingCap_E/id'].str.contains('ImportFrom')]"
   ]
  },
  {
   "cell_type": "markdown",
   "metadata": {},
   "source": [
    "### GeneratingCap Heat"
   ]
  },
  {
   "cell_type": "code",
   "execution_count": 44,
   "metadata": {},
   "outputs": [],
   "source": [
    "GeneratingCap_H = pd.read_excel(os.path.join(os.getcwd(), 'GeneratingCapacity_H.xlsx')).rename(columns={\n",
    "    'id':'GeneratingCap_H/id',\n",
    "    'GeneratingCapacity_H':'GeneratingCap_H/GeneratingCap_H'})"
   ]
  },
  {
   "cell_type": "code",
   "execution_count": 45,
   "metadata": {},
   "outputs": [],
   "source": [
    "GeneratingCap_H['GeneratingCap_H/id'] = GeneratingCap_H['GeneratingCap_H/id'].str.replace('id_', '')"
   ]
  },
  {
   "cell_type": "markdown",
   "metadata": {},
   "source": [
    "### OtherMC"
   ]
  },
  {
   "cell_type": "markdown",
   "metadata": {},
   "source": [
    "Importing while only keeping first row. We only keep the first row, because expect for importing MC, which we are disregarding, MC are the same across all hours."
   ]
  },
  {
   "cell_type": "code",
   "execution_count": 46,
   "metadata": {},
   "outputs": [],
   "source": [
    "OtherMC = pd.read_excel(os.path.join(os.getcwd(), 'OtherMC.xlsx')).head(1).drop(columns='h')"
   ]
  },
  {
   "cell_type": "markdown",
   "metadata": {},
   "source": [
    "Filter out importing MC:"
   ]
  },
  {
   "cell_type": "code",
   "execution_count": 47,
   "metadata": {},
   "outputs": [],
   "source": [
    "OtherMC = OtherMC.filter(regex='^(?!.*ImportFrom).*$', axis=1)"
   ]
  },
  {
   "cell_type": "markdown",
   "metadata": {},
   "source": [
    "Transfer df from wide to long:"
   ]
  },
  {
   "cell_type": "code",
   "execution_count": 48,
   "metadata": {},
   "outputs": [],
   "source": [
    "OtherMC = OtherMC.melt(var_name='OtherMC/id', value_name='OtherMC/OtherMC')"
   ]
  },
  {
   "cell_type": "markdown",
   "metadata": {},
   "source": [
    "Drop \"id\" again:"
   ]
  },
  {
   "cell_type": "code",
   "execution_count": 49,
   "metadata": {},
   "outputs": [],
   "source": [
    "OtherMC['OtherMC/id'] = OtherMC['OtherMC/id'].str.replace('id_', '')"
   ]
  },
  {
   "cell_type": "markdown",
   "metadata": {},
   "source": [
    "### FOM"
   ]
  },
  {
   "cell_type": "code",
   "execution_count": 50,
   "metadata": {},
   "outputs": [],
   "source": [
    "FOM = pd.read_excel(os.path.join(os.getcwd(), 'FOM.xlsx')).rename(columns={\n",
    "    'id':'FOM/id',\n",
    "    'FOM':'FOM/FOM'})"
   ]
  },
  {
   "cell_type": "code",
   "execution_count": 51,
   "metadata": {},
   "outputs": [],
   "source": [
    "FOM['FOM/id'] = FOM['FOM/id'].str.replace('id_', '')"
   ]
  },
  {
   "cell_type": "markdown",
   "metadata": {},
   "source": [
    "Filter out importing MC:"
   ]
  },
  {
   "cell_type": "code",
   "execution_count": 52,
   "metadata": {},
   "outputs": [],
   "source": [
    "# Filter out rows containing \"ImportFrom\"\n",
    "FOM = FOM[~FOM['FOM/id'].str.contains('ImportFrom')]"
   ]
  },
  {
   "cell_type": "markdown",
   "metadata": {},
   "source": [
    "### InvestCost"
   ]
  },
  {
   "cell_type": "markdown",
   "metadata": {},
   "source": [
    "We abstract from investment costs in generators."
   ]
  },
  {
   "cell_type": "markdown",
   "metadata": {},
   "source": [
    "### E2H"
   ]
  },
  {
   "cell_type": "code",
   "execution_count": 53,
   "metadata": {},
   "outputs": [],
   "source": [
    "E2H = pd.read_excel(os.path.join(os.getcwd(), 'E2H.xlsx')).rename(columns={\n",
    "    'id':'E2H/id',\n",
    "    'E2H':'E2H/E2H'})"
   ]
  },
  {
   "cell_type": "code",
   "execution_count": 54,
   "metadata": {},
   "outputs": [],
   "source": [
    "E2H['E2H/id'] = E2H['E2H/id'].str.replace('id_', '')"
   ]
  },
  {
   "cell_type": "markdown",
   "metadata": {},
   "source": [
    "### Put dataframes together"
   ]
  },
  {
   "cell_type": "code",
   "execution_count": 55,
   "metadata": {},
   "outputs": [],
   "source": [
    "GeneratorsVariables_df = pd.concat([FuelMix,GeneratingCap_E,GeneratingCap_H,OtherMC,FOM,E2H], axis=1)"
   ]
  },
  {
   "cell_type": "markdown",
   "metadata": {},
   "source": [
    "### Save as excel"
   ]
  },
  {
   "cell_type": "code",
   "execution_count": 56,
   "metadata": {},
   "outputs": [],
   "source": [
    "GeneratorsVariables_df.to_excel(os.path.join(output_dir,'GeneratorsVariables.xlsx'),sheet_name='GeneratorsVariables', index=False)"
   ]
  },
  {
   "cell_type": "markdown",
   "metadata": {},
   "source": [
    "## Sheet \"GeneratorsMaps\""
   ]
  },
  {
   "cell_type": "markdown",
   "metadata": {},
   "source": []
  },
  {
   "cell_type": "markdown",
   "metadata": {},
   "source": [
    "## Combine excel files"
   ]
  },
  {
   "cell_type": "markdown",
   "metadata": {},
   "source": [
    "In this last step, we combine the different excel files into one excel file split up into multiple sheets."
   ]
  },
  {
   "cell_type": "code",
   "execution_count": 57,
   "metadata": {},
   "outputs": [],
   "source": [
    "# List to store DataFrames from each file\n",
    "#df_final = []\n",
    "\n",
    "# Iterate over each file in the directory\n",
    "#for file in os.listdir(output_dir):\n",
    "#    if file.endswith('.xlsx'):\n",
    "#        file_path = os.path.join(output_dir, file)\n",
    "        # Read each Excel file into a DataFrame\n",
    "#        df = pd.read_excel(file_path)\n",
    "        # Append DataFrame to the list\n",
    "#        df_final.append(df)\n",
    "\n",
    "# Create a new Excel file with multiple sheets\n",
    "#with pd.ExcelWriter(output_dir, engine='xlsxwriter') as writer:\n",
    "    # Iterate over DataFrames and write each to a separate sheet\n",
    "#    for i, df in enumerate(df_final):\n",
    "#        sheet_name = f'Sheet_{i+1}'\n",
    "#        df.to_excel(writer, sheet_name=sheet_name, index=False)"
   ]
  }
 ],
 "metadata": {
  "kernelspec": {
   "display_name": "EE2023",
   "language": "python",
   "name": "python3"
  },
  "language_info": {
   "codemirror_mode": {
    "name": "ipython",
    "version": 3
   },
   "file_extension": ".py",
   "mimetype": "text/x-python",
   "name": "python",
   "nbconvert_exporter": "python",
   "pygments_lexer": "ipython3",
   "version": "3.11.3"
  }
 },
 "nbformat": 4,
 "nbformat_minor": 2
}
