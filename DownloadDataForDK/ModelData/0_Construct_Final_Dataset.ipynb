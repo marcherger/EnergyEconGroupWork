{
 "cells": [
  {
   "cell_type": "markdown",
   "metadata": {},
   "source": [
    "# Construct Dataset"
   ]
  },
  {
   "cell_type": "markdown",
   "metadata": {},
   "source": [
    "In this Jupyter notebook, the dataset going into the $mBasicPH\\_storage$ model is being constructed. Basically, this file constructs an excel file (stored in \"EnergyEconGroupWork\\Data\") from the various excel files (stored in \"EnergyEconGroupWork\\DownloadDataForDK\\ModelData\") which were constructed from real world data."
   ]
  },
  {
   "cell_type": "markdown",
   "metadata": {},
   "source": [
    "## Settings"
   ]
  },
  {
   "cell_type": "markdown",
   "metadata": {},
   "source": [
    "Import standard packages:"
   ]
  },
  {
   "cell_type": "code",
   "execution_count": 1,
   "metadata": {},
   "outputs": [],
   "source": [
    "import pandas as pd,os, numpy as np"
   ]
  },
  {
   "cell_type": "markdown",
   "metadata": {},
   "source": [
    "Let's specify an output folder:"
   ]
  },
  {
   "cell_type": "code",
   "execution_count": 2,
   "metadata": {},
   "outputs": [],
   "source": [
    "output_dir = os.path.join(os.getcwd(),'Final_Dataset')"
   ]
  },
  {
   "cell_type": "code",
   "execution_count": 3,
   "metadata": {},
   "outputs": [
    {
     "name": "stdout",
     "output_type": "stream",
     "text": [
      "c:\\Users\\mpher\\Documents\\Uni\\Master\\02_Exchange\\01_Academics\\Energy Economics of the Green Transition\\EnergyEconGroupWork\\DownloadDataForDK\\ModelData\\Final_Dataset\n"
     ]
    }
   ],
   "source": [
    "print(output_dir)"
   ]
  },
  {
   "cell_type": "markdown",
   "metadata": {},
   "source": [
    "## Sheet \"Log\""
   ]
  },
  {
   "cell_type": "markdown",
   "metadata": {},
   "source": [
    "Here we construct the sheet \"Log\", which defines the **UNITS** of variables."
   ]
  },
  {
   "cell_type": "markdown",
   "metadata": {},
   "source": [
    "Define **UNITS**:"
   ]
  },
  {
   "cell_type": "code",
   "execution_count": 4,
   "metadata": {},
   "outputs": [],
   "source": [
    "UNITS = {\n",
    "    'FuelPrice':'EUR/MWh',\n",
    "    'EmissionIntensity':'Ton CO2/MWh input',\n",
    "    'EmissionTax':'EUR/TCO2',\n",
    "    'Load':'MWh',\n",
    "    'FuelMix':'MWh input / MWh output', # Data: 'TWh input / TWh output' -> no need to adjust ratio stays\n",
    "    'GeneratingCapacity':'MW', \n",
    "    'OtherMC':'EUR/MWh output',\n",
    "    'FOM':'EUR/(MW/(hours per model year))/8760', # convert from year to hours per model year\n",
    "    'InvestCost':'EUR2015/MWhCapacity', # Data: 'Million EUR2015/GWhCapacity' -> adjust\n",
    "    'LoadVariation':'Percent of annual demand',\n",
    "    'CapVariation':'Percent of generating capacity',\n",
    "    'MWP_E':'EUR/MWh',\n",
    "    'MWP_H':'EUR/MWh',\n",
    "    'E2H':'Coefficient (negative for heat pumps, positive for backpressure)'\n",
    "}"
   ]
  },
  {
   "cell_type": "markdown",
   "metadata": {},
   "source": [
    "Add dictionary to \"Log\" dataset:"
   ]
  },
  {
   "cell_type": "code",
   "execution_count": 5,
   "metadata": {},
   "outputs": [],
   "source": [
    "df_Log = pd.DataFrame(list(UNITS.items()), columns=['Parameter', 'Unit/description'])"
   ]
  },
  {
   "cell_type": "markdown",
   "metadata": {},
   "source": [
    "Save as excel:"
   ]
  },
  {
   "cell_type": "code",
   "execution_count": 6,
   "metadata": {},
   "outputs": [],
   "source": [
    "df_Log.to_excel(os.path.join(output_dir,'Log.xlsx'),sheet_name='Log', index=False)"
   ]
  },
  {
   "cell_type": "markdown",
   "metadata": {},
   "source": [
    "## Sheet \"Fundamentals\""
   ]
  },
  {
   "cell_type": "markdown",
   "metadata": {},
   "source": [
    "### FuelPrice"
   ]
  },
  {
   "cell_type": "markdown",
   "metadata": {},
   "source": [
    "#### FuelPrice/BFt"
   ]
  },
  {
   "cell_type": "markdown",
   "metadata": {},
   "source": [
    "Get different fuel types from \"FuelMix\" excel file in cwd."
   ]
  },
  {
   "cell_type": "code",
   "execution_count": 7,
   "metadata": {},
   "outputs": [],
   "source": [
    "BFt = pd.read_excel(os.path.join(os.getcwd(), 'FuelMix.xlsx'))"
   ]
  },
  {
   "cell_type": "markdown",
   "metadata": {},
   "source": [
    "Subset:"
   ]
  },
  {
   "cell_type": "code",
   "execution_count": 8,
   "metadata": {},
   "outputs": [],
   "source": [
    "BFt = BFt['BFt'].drop_duplicates()"
   ]
  },
  {
   "cell_type": "markdown",
   "metadata": {},
   "source": [
    "Convert to df and set column name:"
   ]
  },
  {
   "cell_type": "code",
   "execution_count": 9,
   "metadata": {},
   "outputs": [],
   "source": [
    "Fundamentals_df = pd.DataFrame({'FuelPrice/BFt': BFt})"
   ]
  },
  {
   "cell_type": "code",
   "execution_count": 10,
   "metadata": {},
   "outputs": [
    {
     "data": {
      "text/html": [
       "<div>\n",
       "<style scoped>\n",
       "    .dataframe tbody tr th:only-of-type {\n",
       "        vertical-align: middle;\n",
       "    }\n",
       "\n",
       "    .dataframe tbody tr th {\n",
       "        vertical-align: top;\n",
       "    }\n",
       "\n",
       "    .dataframe thead th {\n",
       "        text-align: right;\n",
       "    }\n",
       "</style>\n",
       "<table border=\"1\" class=\"dataframe\">\n",
       "  <thead>\n",
       "    <tr style=\"text-align: right;\">\n",
       "      <th></th>\n",
       "      <th>FuelPrice/BFt</th>\n",
       "    </tr>\n",
       "  </thead>\n",
       "  <tbody>\n",
       "    <tr>\n",
       "      <th>0</th>\n",
       "      <td>Biogas</td>\n",
       "    </tr>\n",
       "    <tr>\n",
       "      <th>3</th>\n",
       "      <td>Biomass</td>\n",
       "    </tr>\n",
       "    <tr>\n",
       "      <th>6</th>\n",
       "      <td>Coal</td>\n",
       "    </tr>\n",
       "    <tr>\n",
       "      <th>7</th>\n",
       "      <td>Natgas</td>\n",
       "    </tr>\n",
       "    <tr>\n",
       "      <th>10</th>\n",
       "      <td>Oil</td>\n",
       "    </tr>\n",
       "    <tr>\n",
       "      <th>13</th>\n",
       "      <td>Waste</td>\n",
       "    </tr>\n",
       "  </tbody>\n",
       "</table>\n",
       "</div>"
      ],
      "text/plain": [
       "   FuelPrice/BFt\n",
       "0         Biogas\n",
       "3        Biomass\n",
       "6           Coal\n",
       "7         Natgas\n",
       "10           Oil\n",
       "13         Waste"
      ]
     },
     "execution_count": 10,
     "metadata": {},
     "output_type": "execute_result"
    }
   ],
   "source": [
    "Fundamentals_df"
   ]
  },
  {
   "cell_type": "markdown",
   "metadata": {},
   "source": [
    "#### FuelPrice/FuelPrice"
   ]
  },
  {
   "cell_type": "markdown",
   "metadata": {},
   "source": [
    "We use the file \"FuelProjections\" (data from DEA) from the \"EnergyEconomicsE2023\" GitHub repository. Unfortunately, fuel prices are only stated from 2020 onwards. Therefore, we use the prices for 2020 as they are closest to 2019. We do so, because most fuel prices in the \"FuelProjections\" dataset increase over time, so we are the closest to 2019 prices by using the 2020 estimates."
   ]
  },
  {
   "cell_type": "code",
   "execution_count": 11,
   "metadata": {},
   "outputs": [],
   "source": [
    "FuelPrice = pd.read_excel(os.path.join(os.getcwd(), 'FuelProjections.xlsx'), sheet_name='prices')"
   ]
  },
  {
   "cell_type": "markdown",
   "metadata": {},
   "source": [
    "In the FuelPrice df the prices are in EUR/GJ but we want EUR/MWh:\n",
    "\n",
    "1 GJ = 0.2777777778 MWh ([Source](https://www.unitconverters.net/energy/gigajoule-to-megawatt-hour.htm))"
   ]
  },
  {
   "cell_type": "markdown",
   "metadata": {},
   "source": [
    "Add to fundamentals df:"
   ]
  },
  {
   "cell_type": "code",
   "execution_count": 12,
   "metadata": {},
   "outputs": [],
   "source": [
    "# Create empty new column in Fundamentals_df\n",
    "Fundamentals_df['FuelPrice/FuelPrice'] = np.nan"
   ]
  },
  {
   "cell_type": "code",
   "execution_count": 13,
   "metadata": {},
   "outputs": [],
   "source": [
    "# Biogas\n",
    "Fundamentals_df.loc[Fundamentals_df['FuelPrice/BFt'] == 'Biogas', 'FuelPrice/FuelPrice'] = FuelPrice.loc[0,'Biogas'] / 0.2777777778\n",
    "\n",
    "# Biomass (we assume Biomass only consists of Wood pellets so we get close to prices in the mBasicPH_storageLarge)\n",
    "Fundamentals_df.loc[Fundamentals_df['FuelPrice/BFt'] == 'Biomass', 'FuelPrice/FuelPrice'] = FuelPrice.loc[0,'Wood pellets'] / 0.2777777778\n",
    "\n",
    "# Coal\n",
    "Fundamentals_df.loc[Fundamentals_df['FuelPrice/BFt'] == 'Coal', 'FuelPrice/FuelPrice'] = FuelPrice.loc[0,'Coal'] / 0.2777777778\n",
    "                                                                                                          \n",
    "# Natgas\n",
    "Fundamentals_df.loc[Fundamentals_df['FuelPrice/BFt'] == 'Natgas', 'FuelPrice/FuelPrice'] = FuelPrice.loc[0,'Natural gas'] / 0.2777777778\n",
    "\n",
    "# Oil\n",
    "Fundamentals_df.loc[Fundamentals_df['FuelPrice/BFt'] == 'Oil', 'FuelPrice/FuelPrice'] = FuelPrice.loc[0,'Oil'] / 0.2777777778\n",
    "\n",
    "# Waste\n",
    "Fundamentals_df.loc[Fundamentals_df['FuelPrice/BFt'] == 'Waste', 'FuelPrice/FuelPrice'] = FuelPrice.loc[0,'Waste'] / 0.2777777778\n"
   ]
  },
  {
   "cell_type": "code",
   "execution_count": 14,
   "metadata": {},
   "outputs": [
    {
     "data": {
      "text/html": [
       "<div>\n",
       "<style scoped>\n",
       "    .dataframe tbody tr th:only-of-type {\n",
       "        vertical-align: middle;\n",
       "    }\n",
       "\n",
       "    .dataframe tbody tr th {\n",
       "        vertical-align: top;\n",
       "    }\n",
       "\n",
       "    .dataframe thead th {\n",
       "        text-align: right;\n",
       "    }\n",
       "</style>\n",
       "<table border=\"1\" class=\"dataframe\">\n",
       "  <thead>\n",
       "    <tr style=\"text-align: right;\">\n",
       "      <th></th>\n",
       "      <th>FuelPrice/BFt</th>\n",
       "      <th>FuelPrice/FuelPrice</th>\n",
       "    </tr>\n",
       "  </thead>\n",
       "  <tbody>\n",
       "    <tr>\n",
       "      <th>0</th>\n",
       "      <td>Biogas</td>\n",
       "      <td>57.902680</td>\n",
       "    </tr>\n",
       "    <tr>\n",
       "      <th>3</th>\n",
       "      <td>Biomass</td>\n",
       "      <td>34.279615</td>\n",
       "    </tr>\n",
       "    <tr>\n",
       "      <th>6</th>\n",
       "      <td>Coal</td>\n",
       "      <td>7.339794</td>\n",
       "    </tr>\n",
       "    <tr>\n",
       "      <th>7</th>\n",
       "      <td>Natgas</td>\n",
       "      <td>13.265219</td>\n",
       "    </tr>\n",
       "    <tr>\n",
       "      <th>10</th>\n",
       "      <td>Oil</td>\n",
       "      <td>26.222730</td>\n",
       "    </tr>\n",
       "    <tr>\n",
       "      <th>13</th>\n",
       "      <td>Waste</td>\n",
       "      <td>0.048322</td>\n",
       "    </tr>\n",
       "  </tbody>\n",
       "</table>\n",
       "</div>"
      ],
      "text/plain": [
       "   FuelPrice/BFt  FuelPrice/FuelPrice\n",
       "0         Biogas            57.902680\n",
       "3        Biomass            34.279615\n",
       "6           Coal             7.339794\n",
       "7         Natgas            13.265219\n",
       "10           Oil            26.222730\n",
       "13         Waste             0.048322"
      ]
     },
     "execution_count": 14,
     "metadata": {},
     "output_type": "execute_result"
    }
   ],
   "source": [
    "Fundamentals_df"
   ]
  },
  {
   "cell_type": "markdown",
   "metadata": {},
   "source": [
    "### EmissionIntensity"
   ]
  },
  {
   "cell_type": "markdown",
   "metadata": {},
   "source": [
    "#### EmissionIntensity/BFt"
   ]
  },
  {
   "cell_type": "markdown",
   "metadata": {},
   "source": [
    "Copy row \"FuelPrice/BFt\""
   ]
  },
  {
   "cell_type": "code",
   "execution_count": 15,
   "metadata": {},
   "outputs": [],
   "source": [
    "Fundamentals_df['EmissionIntensity/BFt'] = Fundamentals_df['FuelPrice/BFt']"
   ]
  },
  {
   "cell_type": "markdown",
   "metadata": {},
   "source": [
    "#### EmissionIntensity/EmissionType"
   ]
  },
  {
   "cell_type": "markdown",
   "metadata": {},
   "source": [
    "Fill new column with value \"CO2\", i.e. the same emission type for all fuels."
   ]
  },
  {
   "cell_type": "code",
   "execution_count": 16,
   "metadata": {},
   "outputs": [],
   "source": [
    "Fundamentals_df['EmissionIntensity/EmissionType'] = 'CO2'"
   ]
  },
  {
   "cell_type": "markdown",
   "metadata": {},
   "source": [
    "#### EmissionIntensity/EmissionIntensity"
   ]
  },
  {
   "cell_type": "markdown",
   "metadata": {},
   "source": [
    "As with the FuelPrice/FuelPrice, we use the file \"FuelProjections\" (data from DEA) from the \"EnergyEconomicsE2023\" GitHub repository. However, \"EmissionIntensity\" does not depend on time."
   ]
  },
  {
   "cell_type": "code",
   "execution_count": 17,
   "metadata": {},
   "outputs": [],
   "source": [
    "EmissionIntensity = pd.read_excel(os.path.join(os.getcwd(), 'FuelProjections.xlsx'), sheet_name='emissionIntensity')"
   ]
  },
  {
   "cell_type": "code",
   "execution_count": 18,
   "metadata": {},
   "outputs": [
    {
     "data": {
      "text/html": [
       "<div>\n",
       "<style scoped>\n",
       "    .dataframe tbody tr th:only-of-type {\n",
       "        vertical-align: middle;\n",
       "    }\n",
       "\n",
       "    .dataframe tbody tr th {\n",
       "        vertical-align: top;\n",
       "    }\n",
       "\n",
       "    .dataframe thead th {\n",
       "        text-align: right;\n",
       "    }\n",
       "</style>\n",
       "<table border=\"1\" class=\"dataframe\">\n",
       "  <thead>\n",
       "    <tr style=\"text-align: right;\">\n",
       "      <th></th>\n",
       "      <th>EmissionIntensity/EmissionType/BFt</th>\n",
       "      <th>Coal</th>\n",
       "      <th>Oil</th>\n",
       "      <th>Natural gas</th>\n",
       "      <th>Straw</th>\n",
       "      <th>Wood pellets</th>\n",
       "      <th>Wood chips</th>\n",
       "      <th>Wood waste</th>\n",
       "      <th>Waste</th>\n",
       "      <th>Biogas</th>\n",
       "      <th>Hydrogen</th>\n",
       "      <th>Uranium</th>\n",
       "    </tr>\n",
       "  </thead>\n",
       "  <tbody>\n",
       "    <tr>\n",
       "      <th>0</th>\n",
       "      <td>CO2</td>\n",
       "      <td>94.370</td>\n",
       "      <td>76.645000</td>\n",
       "      <td>57</td>\n",
       "      <td>0.0</td>\n",
       "      <td>0</td>\n",
       "      <td>0</td>\n",
       "      <td>0</td>\n",
       "      <td>42.500</td>\n",
       "      <td>0</td>\n",
       "      <td>0</td>\n",
       "      <td>0</td>\n",
       "    </tr>\n",
       "    <tr>\n",
       "      <th>1</th>\n",
       "      <td>SO2</td>\n",
       "      <td>0.272</td>\n",
       "      <td>0.159884</td>\n",
       "      <td>0</td>\n",
       "      <td>0.2</td>\n",
       "      <td>0</td>\n",
       "      <td>0</td>\n",
       "      <td>0</td>\n",
       "      <td>0.075</td>\n",
       "      <td>0</td>\n",
       "      <td>0</td>\n",
       "      <td>0</td>\n",
       "    </tr>\n",
       "  </tbody>\n",
       "</table>\n",
       "</div>"
      ],
      "text/plain": [
       "  EmissionIntensity/EmissionType/BFt    Coal        Oil  Natural gas  Straw  \\\n",
       "0                                CO2  94.370  76.645000           57    0.0   \n",
       "1                                SO2   0.272   0.159884            0    0.2   \n",
       "\n",
       "   Wood pellets  Wood chips  Wood waste   Waste  Biogas  Hydrogen  Uranium  \n",
       "0             0           0           0  42.500       0         0        0  \n",
       "1             0           0           0   0.075       0         0        0  "
      ]
     },
     "execution_count": 18,
     "metadata": {},
     "output_type": "execute_result"
    }
   ],
   "source": [
    "EmissionIntensity"
   ]
  },
  {
   "cell_type": "markdown",
   "metadata": {},
   "source": [
    "Add the emission intensity of CO2 to Fundamentals_df:\n",
    "\n",
    "In the \"EmissionIntensity\" datafile above the values are in **kg/GJ** but we want **Ton CO2/MWh**. \n",
    "\n",
    "Thus, we devide by $1000*0.2777777778$. "
   ]
  },
  {
   "cell_type": "code",
   "execution_count": 19,
   "metadata": {},
   "outputs": [],
   "source": [
    "# Create empty new column in Fundamentals_df\n",
    "Fundamentals_df['EmissionIntensity/EmissionIntensity'] = np.nan\n",
    "\n",
    "# Biogas\n",
    "Fundamentals_df.loc[Fundamentals_df['EmissionIntensity/BFt'] == 'Biogas', 'EmissionIntensity/EmissionIntensity'] = EmissionIntensity.loc[0,'Biogas'] / (1000*0.2777777778)\n",
    "\n",
    "# Biomass (we assume Biomass only consists of Wood pellets so we get close to prices in the mBasicPH_storageLarge)\n",
    "Fundamentals_df.loc[Fundamentals_df['EmissionIntensity/BFt'] == 'Biomass', 'EmissionIntensity/EmissionIntensity'] = EmissionIntensity.loc[0,'Wood pellets'] / (1000*0.2777777778)\n",
    "\n",
    "# Coal\n",
    "Fundamentals_df.loc[Fundamentals_df['EmissionIntensity/BFt'] == 'Coal', 'EmissionIntensity/EmissionIntensity'] = EmissionIntensity.loc[0,'Coal'] / (1000*0.2777777778)\n",
    "                                                                                                          \n",
    "# Natgas\n",
    "Fundamentals_df.loc[Fundamentals_df['EmissionIntensity/BFt'] == 'Natgas', 'EmissionIntensity/EmissionIntensity'] = EmissionIntensity.loc[0,'Natural gas'] / (1000*0.2777777778)\n",
    "\n",
    "# Oil\n",
    "Fundamentals_df.loc[Fundamentals_df['EmissionIntensity/BFt'] == 'Oil', 'EmissionIntensity/EmissionIntensity'] = EmissionIntensity.loc[0,'Oil'] / (1000*0.2777777778)\n",
    "\n",
    "# Waste\n",
    "Fundamentals_df.loc[Fundamentals_df['EmissionIntensity/BFt'] == 'Waste', 'EmissionIntensity/EmissionIntensity'] = EmissionIntensity.loc[0,'Waste'] / (1000*0.2777777778)"
   ]
  },
  {
   "cell_type": "code",
   "execution_count": 20,
   "metadata": {},
   "outputs": [
    {
     "data": {
      "text/html": [
       "<div>\n",
       "<style scoped>\n",
       "    .dataframe tbody tr th:only-of-type {\n",
       "        vertical-align: middle;\n",
       "    }\n",
       "\n",
       "    .dataframe tbody tr th {\n",
       "        vertical-align: top;\n",
       "    }\n",
       "\n",
       "    .dataframe thead th {\n",
       "        text-align: right;\n",
       "    }\n",
       "</style>\n",
       "<table border=\"1\" class=\"dataframe\">\n",
       "  <thead>\n",
       "    <tr style=\"text-align: right;\">\n",
       "      <th></th>\n",
       "      <th>FuelPrice/BFt</th>\n",
       "      <th>FuelPrice/FuelPrice</th>\n",
       "      <th>EmissionIntensity/BFt</th>\n",
       "      <th>EmissionIntensity/EmissionType</th>\n",
       "      <th>EmissionIntensity/EmissionIntensity</th>\n",
       "    </tr>\n",
       "  </thead>\n",
       "  <tbody>\n",
       "    <tr>\n",
       "      <th>0</th>\n",
       "      <td>Biogas</td>\n",
       "      <td>57.902680</td>\n",
       "      <td>Biogas</td>\n",
       "      <td>CO2</td>\n",
       "      <td>0.000000</td>\n",
       "    </tr>\n",
       "    <tr>\n",
       "      <th>3</th>\n",
       "      <td>Biomass</td>\n",
       "      <td>34.279615</td>\n",
       "      <td>Biomass</td>\n",
       "      <td>CO2</td>\n",
       "      <td>0.000000</td>\n",
       "    </tr>\n",
       "    <tr>\n",
       "      <th>6</th>\n",
       "      <td>Coal</td>\n",
       "      <td>7.339794</td>\n",
       "      <td>Coal</td>\n",
       "      <td>CO2</td>\n",
       "      <td>0.339732</td>\n",
       "    </tr>\n",
       "    <tr>\n",
       "      <th>7</th>\n",
       "      <td>Natgas</td>\n",
       "      <td>13.265219</td>\n",
       "      <td>Natgas</td>\n",
       "      <td>CO2</td>\n",
       "      <td>0.205200</td>\n",
       "    </tr>\n",
       "    <tr>\n",
       "      <th>10</th>\n",
       "      <td>Oil</td>\n",
       "      <td>26.222730</td>\n",
       "      <td>Oil</td>\n",
       "      <td>CO2</td>\n",
       "      <td>0.275922</td>\n",
       "    </tr>\n",
       "    <tr>\n",
       "      <th>13</th>\n",
       "      <td>Waste</td>\n",
       "      <td>0.048322</td>\n",
       "      <td>Waste</td>\n",
       "      <td>CO2</td>\n",
       "      <td>0.153000</td>\n",
       "    </tr>\n",
       "  </tbody>\n",
       "</table>\n",
       "</div>"
      ],
      "text/plain": [
       "   FuelPrice/BFt  FuelPrice/FuelPrice EmissionIntensity/BFt  \\\n",
       "0         Biogas            57.902680                Biogas   \n",
       "3        Biomass            34.279615               Biomass   \n",
       "6           Coal             7.339794                  Coal   \n",
       "7         Natgas            13.265219                Natgas   \n",
       "10           Oil            26.222730                   Oil   \n",
       "13         Waste             0.048322                 Waste   \n",
       "\n",
       "   EmissionIntensity/EmissionType  EmissionIntensity/EmissionIntensity  \n",
       "0                             CO2                             0.000000  \n",
       "3                             CO2                             0.000000  \n",
       "6                             CO2                             0.339732  \n",
       "7                             CO2                             0.205200  \n",
       "10                            CO2                             0.275922  \n",
       "13                            CO2                             0.153000  "
      ]
     },
     "execution_count": 20,
     "metadata": {},
     "output_type": "execute_result"
    }
   ],
   "source": [
    "Fundamentals_df"
   ]
  },
  {
   "cell_type": "markdown",
   "metadata": {},
   "source": [
    "### EmissionTax"
   ]
  },
  {
   "cell_type": "markdown",
   "metadata": {},
   "source": [
    "We are goint to assume the average EU ETS price during the year 2019. The average EU Carbon Permits prices during 2019 was **24.64 EUR/TCO2** ([Source](https://tradingeconomics.com/commodity/carbon))."
   ]
  },
  {
   "cell_type": "markdown",
   "metadata": {},
   "source": [
    "We can add this information to the existing *Fundamentals_df*."
   ]
  },
  {
   "cell_type": "code",
   "execution_count": 21,
   "metadata": {},
   "outputs": [],
   "source": [
    "Fundamentals_df['EmissionTax/EmissionType'] = ['CO2'] + [np.nan] * (len(Fundamentals_df) - 1)\n",
    "Fundamentals_df['EmissionTax/EmissionTax'] = [24.64] + [np.nan] * (len(Fundamentals_df) - 1)"
   ]
  },
  {
   "cell_type": "markdown",
   "metadata": {},
   "source": [
    "### Save as excel"
   ]
  },
  {
   "cell_type": "code",
   "execution_count": 22,
   "metadata": {},
   "outputs": [],
   "source": [
    "Fundamentals_df.to_excel(os.path.join(output_dir,'Fundamentals.xlsx'),sheet_name='Fundamentals', index=False)"
   ]
  },
  {
   "cell_type": "markdown",
   "metadata": {},
   "source": [
    "## Sheet \"LoadVariables\""
   ]
  },
  {
   "cell_type": "markdown",
   "metadata": {},
   "source": [
    "*Note: Subtitles to previous section slightly differ (as we use less subtitles, i.e. subtitles per category and not per column as in \"Sheet Fundamentals\" section) to make the code more readable.*"
   ]
  },
  {
   "cell_type": "markdown",
   "metadata": {},
   "source": [
    "### Electricity"
   ]
  },
  {
   "cell_type": "markdown",
   "metadata": {},
   "source": [
    "We get load from *Load_E.xlsx* file. In this step, we also already rename columns we want in our output df \"LoadVariables_df\"."
   ]
  },
  {
   "cell_type": "code",
   "execution_count": 23,
   "metadata": {},
   "outputs": [],
   "source": [
    "LoadVariables_df = pd.read_excel(os.path.join(os.getcwd(), 'Load_E.xlsx')).rename(columns={\n",
    "    'c_E':'Load_E/c_E',\n",
    "    'Load_E':'Load_E/Load_E'})"
   ]
  },
  {
   "cell_type": "markdown",
   "metadata": {},
   "source": [
    "We get load variation from *LoadVariation_E.xlsx* file."
   ]
  },
  {
   "cell_type": "code",
   "execution_count": 24,
   "metadata": {},
   "outputs": [],
   "source": [
    "LoadVariation_E = pd.read_excel(os.path.join(os.getcwd(), 'LoadVariation_E.xlsx')).rename(columns={\n",
    "    'c_E':'LoadVariation_E/c_E',\n",
    "    'h':'LoadVariation_E/h',\n",
    "    'LoadVariation_E':'LoadVariation_E/LoadVariation_E'})"
   ]
  },
  {
   "cell_type": "markdown",
   "metadata": {},
   "source": [
    "Add the rows to LoadVariables_df."
   ]
  },
  {
   "cell_type": "code",
   "execution_count": 25,
   "metadata": {},
   "outputs": [],
   "source": [
    "LoadVariables_df = pd.concat([LoadVariables_df, LoadVariation_E], axis=1)"
   ]
  },
  {
   "cell_type": "markdown",
   "metadata": {},
   "source": [
    "### Heat"
   ]
  },
  {
   "cell_type": "markdown",
   "metadata": {},
   "source": [
    "We do the same steps as for electricity."
   ]
  },
  {
   "cell_type": "code",
   "execution_count": 26,
   "metadata": {},
   "outputs": [],
   "source": [
    "Load_H = pd.read_excel(os.path.join(os.getcwd(), 'Load_H.xlsx')).rename(columns={\n",
    "    'index':'Load_H/c_H',\n",
    "    'Load_H':'Load_H/Load_H'})"
   ]
  },
  {
   "cell_type": "code",
   "execution_count": 27,
   "metadata": {},
   "outputs": [],
   "source": [
    "LoadVariables_df = pd.concat([LoadVariables_df, Load_H], axis=1)"
   ]
  },
  {
   "cell_type": "code",
   "execution_count": 28,
   "metadata": {},
   "outputs": [],
   "source": [
    "LoadVariation_H = pd.read_excel(os.path.join(os.getcwd(), 'LoadVariation_H.xlsx')).rename(columns={\n",
    "    'c_H':'LoadVariation_H/c_H',\n",
    "    'h':'LoadVariation_H/h',\n",
    "    'LoadVariation_H':'LoadVariation_H/LoadVariation_H'})"
   ]
  },
  {
   "cell_type": "code",
   "execution_count": 29,
   "metadata": {},
   "outputs": [],
   "source": [
    "LoadVariables_df = pd.concat([LoadVariables_df, LoadVariation_H], axis=1)"
   ]
  },
  {
   "cell_type": "markdown",
   "metadata": {},
   "source": [
    "### Save as excel"
   ]
  },
  {
   "cell_type": "code",
   "execution_count": 30,
   "metadata": {},
   "outputs": [],
   "source": [
    "LoadVariables_df.to_excel(os.path.join(output_dir,'LoadVariables.xlsx'),sheet_name='LoadVariables', index=False)"
   ]
  },
  {
   "cell_type": "markdown",
   "metadata": {},
   "source": [
    "## Sheet \"LoadMaps\""
   ]
  },
  {
   "cell_type": "markdown",
   "metadata": {},
   "source": [
    "We take \"c_E\" column of electricity consumer from before created \"LoadVariables\" excel file."
   ]
  },
  {
   "cell_type": "code",
   "execution_count": 31,
   "metadata": {},
   "outputs": [],
   "source": [
    "LoadMaps_E = pd.read_excel(os.path.join(output_dir, 'LoadVariables.xlsx'),\n",
    "                            usecols=['Load_E/c_E']).dropna().rename(columns={\n",
    "                                'Load_E/c_E':'c_E2g_E/c_E'})"
   ]
  },
  {
   "cell_type": "markdown",
   "metadata": {},
   "source": [
    "Create mapping from consumers to generators:"
   ]
  },
  {
   "cell_type": "code",
   "execution_count": 32,
   "metadata": {},
   "outputs": [],
   "source": [
    "LoadMaps_E['c_E2g_E/g_E'] = 'DK'"
   ]
  },
  {
   "cell_type": "code",
   "execution_count": 33,
   "metadata": {},
   "outputs": [
    {
     "data": {
      "text/html": [
       "<div>\n",
       "<style scoped>\n",
       "    .dataframe tbody tr th:only-of-type {\n",
       "        vertical-align: middle;\n",
       "    }\n",
       "\n",
       "    .dataframe tbody tr th {\n",
       "        vertical-align: top;\n",
       "    }\n",
       "\n",
       "    .dataframe thead th {\n",
       "        text-align: right;\n",
       "    }\n",
       "</style>\n",
       "<table border=\"1\" class=\"dataframe\">\n",
       "  <thead>\n",
       "    <tr style=\"text-align: right;\">\n",
       "      <th></th>\n",
       "      <th>c_E2g_E/c_E</th>\n",
       "      <th>c_E2g_E/g_E</th>\n",
       "    </tr>\n",
       "  </thead>\n",
       "  <tbody>\n",
       "    <tr>\n",
       "      <th>0</th>\n",
       "      <td>c_DK</td>\n",
       "      <td>DK</td>\n",
       "    </tr>\n",
       "  </tbody>\n",
       "</table>\n",
       "</div>"
      ],
      "text/plain": [
       "  c_E2g_E/c_E c_E2g_E/g_E\n",
       "0        c_DK          DK"
      ]
     },
     "execution_count": 33,
     "metadata": {},
     "output_type": "execute_result"
    }
   ],
   "source": [
    "LoadMaps_E"
   ]
  },
  {
   "cell_type": "markdown",
   "metadata": {},
   "source": [
    "We do the same steps for heat consumers:"
   ]
  },
  {
   "cell_type": "code",
   "execution_count": 34,
   "metadata": {},
   "outputs": [],
   "source": [
    "LoadMaps_H = pd.read_excel(os.path.join(output_dir, 'LoadVariables.xlsx'),\n",
    "                            usecols=['Load_H/c_H']).dropna().rename(columns={\n",
    "                                'Load_H/c_H':'c_H2g_H/c_H'})"
   ]
  },
  {
   "cell_type": "markdown",
   "metadata": {},
   "source": [
    "Define a function to create correct mapping of heat consumers and generators:"
   ]
  },
  {
   "cell_type": "code",
   "execution_count": 35,
   "metadata": {},
   "outputs": [],
   "source": [
    "def mapping_heat(value):\n",
    "    if isinstance(value, str):\n",
    "        if 'c_DK_Central' in value:\n",
    "            return 'DK_Central'\n",
    "        elif 'c_DK_Decentral' in value:\n",
    "            return 'DK_Decentral'\n",
    "    return np.nan"
   ]
  },
  {
   "cell_type": "markdown",
   "metadata": {},
   "source": [
    "Apply function:"
   ]
  },
  {
   "cell_type": "code",
   "execution_count": 36,
   "metadata": {},
   "outputs": [],
   "source": [
    "LoadMaps_H['c_H2g_H/g_H'] = LoadMaps_H['c_H2g_H/c_H'].apply(mapping_heat)"
   ]
  },
  {
   "cell_type": "markdown",
   "metadata": {},
   "source": [
    "Combine mapping for electricity and heat markets:"
   ]
  },
  {
   "cell_type": "code",
   "execution_count": 37,
   "metadata": {},
   "outputs": [],
   "source": [
    "LoadMaps_df = pd.concat([LoadMaps_E,LoadMaps_H],axis=1)"
   ]
  },
  {
   "cell_type": "code",
   "execution_count": 38,
   "metadata": {},
   "outputs": [
    {
     "data": {
      "text/html": [
       "<div>\n",
       "<style scoped>\n",
       "    .dataframe tbody tr th:only-of-type {\n",
       "        vertical-align: middle;\n",
       "    }\n",
       "\n",
       "    .dataframe tbody tr th {\n",
       "        vertical-align: top;\n",
       "    }\n",
       "\n",
       "    .dataframe thead th {\n",
       "        text-align: right;\n",
       "    }\n",
       "</style>\n",
       "<table border=\"1\" class=\"dataframe\">\n",
       "  <thead>\n",
       "    <tr style=\"text-align: right;\">\n",
       "      <th></th>\n",
       "      <th>c_E2g_E/c_E</th>\n",
       "      <th>c_E2g_E/g_E</th>\n",
       "      <th>c_H2g_H/c_H</th>\n",
       "      <th>c_H2g_H/g_H</th>\n",
       "    </tr>\n",
       "  </thead>\n",
       "  <tbody>\n",
       "    <tr>\n",
       "      <th>0</th>\n",
       "      <td>c_DK</td>\n",
       "      <td>DK</td>\n",
       "      <td>c_DK_Central</td>\n",
       "      <td>DK_Central</td>\n",
       "    </tr>\n",
       "  </tbody>\n",
       "</table>\n",
       "</div>"
      ],
      "text/plain": [
       "  c_E2g_E/c_E c_E2g_E/g_E   c_H2g_H/c_H c_H2g_H/g_H\n",
       "0        c_DK          DK  c_DK_Central  DK_Central"
      ]
     },
     "execution_count": 38,
     "metadata": {},
     "output_type": "execute_result"
    }
   ],
   "source": [
    "LoadMaps_df"
   ]
  },
  {
   "cell_type": "markdown",
   "metadata": {},
   "source": [
    "### Save as excel"
   ]
  },
  {
   "cell_type": "code",
   "execution_count": 39,
   "metadata": {},
   "outputs": [],
   "source": [
    "LoadMaps_df.to_excel(os.path.join(output_dir,'LoadMaps.xlsx'),sheet_name='LoadMaps', index=False)"
   ]
  },
  {
   "cell_type": "markdown",
   "metadata": {},
   "source": [
    "## Sheet \"GeneratorsVariables\""
   ]
  },
  {
   "cell_type": "markdown",
   "metadata": {},
   "source": [
    "### FuelMix"
   ]
  },
  {
   "cell_type": "markdown",
   "metadata": {},
   "source": [
    "Import from \"FuelMix.xlsx\"."
   ]
  },
  {
   "cell_type": "code",
   "execution_count": 40,
   "metadata": {},
   "outputs": [],
   "source": [
    "FuelMix = pd.read_excel(os.path.join(os.getcwd(), 'FuelMix.xlsx')).rename(columns={\n",
    "    'id':'FuelMix/id',\n",
    "    'BFt':'FuelMix/BFt',\n",
    "    'FuelMix':'FuelMix/FuelMix'}).dropna()"
   ]
  },
  {
   "cell_type": "code",
   "execution_count": 41,
   "metadata": {},
   "outputs": [
    {
     "data": {
      "text/html": [
       "<div>\n",
       "<style scoped>\n",
       "    .dataframe tbody tr th:only-of-type {\n",
       "        vertical-align: middle;\n",
       "    }\n",
       "\n",
       "    .dataframe tbody tr th {\n",
       "        vertical-align: top;\n",
       "    }\n",
       "\n",
       "    .dataframe thead th {\n",
       "        text-align: right;\n",
       "    }\n",
       "</style>\n",
       "<table border=\"1\" class=\"dataframe\">\n",
       "  <thead>\n",
       "    <tr style=\"text-align: right;\">\n",
       "      <th></th>\n",
       "      <th>FuelMix/id</th>\n",
       "      <th>FuelMix/BFt</th>\n",
       "      <th>FuelMix/FuelMix</th>\n",
       "    </tr>\n",
       "  </thead>\n",
       "  <tbody>\n",
       "    <tr>\n",
       "      <th>0</th>\n",
       "      <td>id_DK_Central_BH_Biogas</td>\n",
       "      <td>Biogas</td>\n",
       "      <td>1.500000</td>\n",
       "    </tr>\n",
       "    <tr>\n",
       "      <th>1</th>\n",
       "      <td>id_DK_Central_BP_Biogas</td>\n",
       "      <td>Biogas</td>\n",
       "      <td>2.595057</td>\n",
       "    </tr>\n",
       "    <tr>\n",
       "      <th>2</th>\n",
       "      <td>id_DK_Central_IndustryH_Biogas</td>\n",
       "      <td>Biogas</td>\n",
       "      <td>0.657895</td>\n",
       "    </tr>\n",
       "    <tr>\n",
       "      <th>3</th>\n",
       "      <td>id_DK_Central_BH_Biomass</td>\n",
       "      <td>Biomass</td>\n",
       "      <td>1.014458</td>\n",
       "    </tr>\n",
       "    <tr>\n",
       "      <th>4</th>\n",
       "      <td>id_DK_Central_BP_Biomass</td>\n",
       "      <td>Biomass</td>\n",
       "      <td>4.261060</td>\n",
       "    </tr>\n",
       "    <tr>\n",
       "      <th>5</th>\n",
       "      <td>id_DK_Central_IndustryH_Biomass</td>\n",
       "      <td>Biomass</td>\n",
       "      <td>0.971154</td>\n",
       "    </tr>\n",
       "    <tr>\n",
       "      <th>6</th>\n",
       "      <td>id_DK_Central_BP_Coal</td>\n",
       "      <td>Coal</td>\n",
       "      <td>2.650372</td>\n",
       "    </tr>\n",
       "    <tr>\n",
       "      <th>7</th>\n",
       "      <td>id_DK_Central_BH_Natgas</td>\n",
       "      <td>Natgas</td>\n",
       "      <td>1.019108</td>\n",
       "    </tr>\n",
       "    <tr>\n",
       "      <th>8</th>\n",
       "      <td>id_DK_Central_BP_Natgas</td>\n",
       "      <td>Natgas</td>\n",
       "      <td>2.489051</td>\n",
       "    </tr>\n",
       "    <tr>\n",
       "      <th>9</th>\n",
       "      <td>id_DK_Central_IndustryH_Natgas</td>\n",
       "      <td>Natgas</td>\n",
       "      <td>1.000000</td>\n",
       "    </tr>\n",
       "    <tr>\n",
       "      <th>10</th>\n",
       "      <td>id_DK_Central_BH_Oil</td>\n",
       "      <td>Oil</td>\n",
       "      <td>1.127044</td>\n",
       "    </tr>\n",
       "    <tr>\n",
       "      <th>11</th>\n",
       "      <td>id_DK_Central_BP_Oil</td>\n",
       "      <td>Oil</td>\n",
       "      <td>3.369565</td>\n",
       "    </tr>\n",
       "    <tr>\n",
       "      <th>12</th>\n",
       "      <td>id_DK_Central_IndustryH_Oil</td>\n",
       "      <td>Oil</td>\n",
       "      <td>0.500000</td>\n",
       "    </tr>\n",
       "    <tr>\n",
       "      <th>13</th>\n",
       "      <td>id_DK_Central_BH_Waste</td>\n",
       "      <td>Waste</td>\n",
       "      <td>1.035806</td>\n",
       "    </tr>\n",
       "    <tr>\n",
       "      <th>14</th>\n",
       "      <td>id_DK_Central_BP_Waste</td>\n",
       "      <td>Waste</td>\n",
       "      <td>6.546302</td>\n",
       "    </tr>\n",
       "    <tr>\n",
       "      <th>15</th>\n",
       "      <td>id_DK_nan_CD_Biogas</td>\n",
       "      <td>Biogas</td>\n",
       "      <td>2.846154</td>\n",
       "    </tr>\n",
       "    <tr>\n",
       "      <th>16</th>\n",
       "      <td>id_DK_nan_IndustryE_Biogas</td>\n",
       "      <td>Biogas</td>\n",
       "      <td>2.110204</td>\n",
       "    </tr>\n",
       "    <tr>\n",
       "      <th>17</th>\n",
       "      <td>id_DK_nan_IndustryE_Biomass</td>\n",
       "      <td>Biomass</td>\n",
       "      <td>inf</td>\n",
       "    </tr>\n",
       "    <tr>\n",
       "      <th>18</th>\n",
       "      <td>id_DK_nan_CD_Coal</td>\n",
       "      <td>Coal</td>\n",
       "      <td>3.210526</td>\n",
       "    </tr>\n",
       "    <tr>\n",
       "      <th>19</th>\n",
       "      <td>id_DK_nan_IndustryE_Natgas</td>\n",
       "      <td>Natgas</td>\n",
       "      <td>2.452632</td>\n",
       "    </tr>\n",
       "    <tr>\n",
       "      <th>20</th>\n",
       "      <td>id_DK_nan_CD_Oil</td>\n",
       "      <td>Oil</td>\n",
       "      <td>2.600000</td>\n",
       "    </tr>\n",
       "    <tr>\n",
       "      <th>21</th>\n",
       "      <td>id_DK_nan_IndustryE_Oil</td>\n",
       "      <td>Oil</td>\n",
       "      <td>11.000000</td>\n",
       "    </tr>\n",
       "  </tbody>\n",
       "</table>\n",
       "</div>"
      ],
      "text/plain": [
       "                         FuelMix/id FuelMix/BFt  FuelMix/FuelMix\n",
       "0           id_DK_Central_BH_Biogas      Biogas         1.500000\n",
       "1           id_DK_Central_BP_Biogas      Biogas         2.595057\n",
       "2    id_DK_Central_IndustryH_Biogas      Biogas         0.657895\n",
       "3          id_DK_Central_BH_Biomass     Biomass         1.014458\n",
       "4          id_DK_Central_BP_Biomass     Biomass         4.261060\n",
       "5   id_DK_Central_IndustryH_Biomass     Biomass         0.971154\n",
       "6             id_DK_Central_BP_Coal        Coal         2.650372\n",
       "7           id_DK_Central_BH_Natgas      Natgas         1.019108\n",
       "8           id_DK_Central_BP_Natgas      Natgas         2.489051\n",
       "9    id_DK_Central_IndustryH_Natgas      Natgas         1.000000\n",
       "10             id_DK_Central_BH_Oil         Oil         1.127044\n",
       "11             id_DK_Central_BP_Oil         Oil         3.369565\n",
       "12      id_DK_Central_IndustryH_Oil         Oil         0.500000\n",
       "13           id_DK_Central_BH_Waste       Waste         1.035806\n",
       "14           id_DK_Central_BP_Waste       Waste         6.546302\n",
       "15              id_DK_nan_CD_Biogas      Biogas         2.846154\n",
       "16       id_DK_nan_IndustryE_Biogas      Biogas         2.110204\n",
       "17      id_DK_nan_IndustryE_Biomass     Biomass              inf\n",
       "18                id_DK_nan_CD_Coal        Coal         3.210526\n",
       "19       id_DK_nan_IndustryE_Natgas      Natgas         2.452632\n",
       "20                 id_DK_nan_CD_Oil         Oil         2.600000\n",
       "21          id_DK_nan_IndustryE_Oil         Oil        11.000000"
      ]
     },
     "execution_count": 41,
     "metadata": {},
     "output_type": "execute_result"
    }
   ],
   "source": [
    "FuelMix"
   ]
  },
  {
   "cell_type": "markdown",
   "metadata": {},
   "source": [
    "(Remove \"id_\" prefix from \"FuelMix/id\" column:)"
   ]
  },
  {
   "cell_type": "code",
   "execution_count": 42,
   "metadata": {},
   "outputs": [],
   "source": [
    "#FuelMix['FuelMix/id'] = FuelMix['FuelMix/id'].str.replace('id_', '')"
   ]
  },
  {
   "cell_type": "markdown",
   "metadata": {},
   "source": [
    "There is one problem with the plant *id_DK_nan_IndustryE_Biomass*. It has a value of \"inf\" of use of fuel (column: FuelMix/FuelMix). We are going to drop this column."
   ]
  },
  {
   "cell_type": "code",
   "execution_count": 43,
   "metadata": {},
   "outputs": [],
   "source": [
    "FuelMix = FuelMix[FuelMix['FuelMix/FuelMix'] != np.inf]"
   ]
  },
  {
   "cell_type": "markdown",
   "metadata": {},
   "source": [
    "### GeneratingCap Electricity"
   ]
  },
  {
   "cell_type": "code",
   "execution_count": 44,
   "metadata": {},
   "outputs": [],
   "source": [
    "GeneratingCap_E = pd.read_excel(os.path.join(os.getcwd(), 'GeneratingCapacity_E.xlsx')).rename(columns={\n",
    "    'id':'GeneratingCap_E/id',\n",
    "    'GeneratingCapacity_E':'GeneratingCap_E/GeneratingCap_E'})"
   ]
  },
  {
   "cell_type": "code",
   "execution_count": 45,
   "metadata": {},
   "outputs": [
    {
     "data": {
      "text/html": [
       "<div>\n",
       "<style scoped>\n",
       "    .dataframe tbody tr th:only-of-type {\n",
       "        vertical-align: middle;\n",
       "    }\n",
       "\n",
       "    .dataframe tbody tr th {\n",
       "        vertical-align: top;\n",
       "    }\n",
       "\n",
       "    .dataframe thead th {\n",
       "        text-align: right;\n",
       "    }\n",
       "</style>\n",
       "<table border=\"1\" class=\"dataframe\">\n",
       "  <thead>\n",
       "    <tr style=\"text-align: right;\">\n",
       "      <th></th>\n",
       "      <th>GeneratingCap_E/id</th>\n",
       "      <th>GeneratingCap_E/GeneratingCap_E</th>\n",
       "    </tr>\n",
       "  </thead>\n",
       "  <tbody>\n",
       "    <tr>\n",
       "      <th>0</th>\n",
       "      <td>id_DK_Central_BP_Biogas</td>\n",
       "      <td>72.398</td>\n",
       "    </tr>\n",
       "    <tr>\n",
       "      <th>1</th>\n",
       "      <td>id_DK_Central_BP_Biomass</td>\n",
       "      <td>1648.792</td>\n",
       "    </tr>\n",
       "    <tr>\n",
       "      <th>2</th>\n",
       "      <td>id_DK_Central_BP_Coal</td>\n",
       "      <td>1091.285</td>\n",
       "    </tr>\n",
       "    <tr>\n",
       "      <th>3</th>\n",
       "      <td>id_DK_Central_BP_Natgas</td>\n",
       "      <td>1833.323</td>\n",
       "    </tr>\n",
       "    <tr>\n",
       "      <th>4</th>\n",
       "      <td>id_DK_Central_BP_Oil</td>\n",
       "      <td>75.204</td>\n",
       "    </tr>\n",
       "    <tr>\n",
       "      <th>5</th>\n",
       "      <td>id_DK_Central_BP_Waste</td>\n",
       "      <td>210.999</td>\n",
       "    </tr>\n",
       "    <tr>\n",
       "      <th>6</th>\n",
       "      <td>id_DK_nan_CD_Biogas</td>\n",
       "      <td>11.174</td>\n",
       "    </tr>\n",
       "    <tr>\n",
       "      <th>7</th>\n",
       "      <td>id_DK_nan_IndustryE_Biogas</td>\n",
       "      <td>49.789</td>\n",
       "    </tr>\n",
       "    <tr>\n",
       "      <th>8</th>\n",
       "      <td>id_DK_nan_IndustryE_Biomass</td>\n",
       "      <td>1.781</td>\n",
       "    </tr>\n",
       "    <tr>\n",
       "      <th>9</th>\n",
       "      <td>id_DK_nan_CD_Coal</td>\n",
       "      <td>21.340</td>\n",
       "    </tr>\n",
       "    <tr>\n",
       "      <th>10</th>\n",
       "      <td>id_DK_nan_CD_Natgas</td>\n",
       "      <td>124.224</td>\n",
       "    </tr>\n",
       "    <tr>\n",
       "      <th>11</th>\n",
       "      <td>id_DK_nan_IndustryE_Natgas</td>\n",
       "      <td>123.332</td>\n",
       "    </tr>\n",
       "    <tr>\n",
       "      <th>12</th>\n",
       "      <td>id_DK_nan_CD_Oil</td>\n",
       "      <td>928.382</td>\n",
       "    </tr>\n",
       "    <tr>\n",
       "      <th>13</th>\n",
       "      <td>id_DK_nan_IndustryE_Oil</td>\n",
       "      <td>27.331</td>\n",
       "    </tr>\n",
       "    <tr>\n",
       "      <th>14</th>\n",
       "      <td>id_DK_nan_PV</td>\n",
       "      <td>3910.802</td>\n",
       "    </tr>\n",
       "    <tr>\n",
       "      <th>15</th>\n",
       "      <td>id_DK_nan_ROR</td>\n",
       "      <td>6.894</td>\n",
       "    </tr>\n",
       "    <tr>\n",
       "      <th>16</th>\n",
       "      <td>id_DK_nan_WL</td>\n",
       "      <td>4856.446</td>\n",
       "    </tr>\n",
       "    <tr>\n",
       "      <th>17</th>\n",
       "      <td>id_DK_nan_WS</td>\n",
       "      <td>2655.600</td>\n",
       "    </tr>\n",
       "  </tbody>\n",
       "</table>\n",
       "</div>"
      ],
      "text/plain": [
       "             GeneratingCap_E/id  GeneratingCap_E/GeneratingCap_E\n",
       "0       id_DK_Central_BP_Biogas                           72.398\n",
       "1      id_DK_Central_BP_Biomass                         1648.792\n",
       "2         id_DK_Central_BP_Coal                         1091.285\n",
       "3       id_DK_Central_BP_Natgas                         1833.323\n",
       "4          id_DK_Central_BP_Oil                           75.204\n",
       "5        id_DK_Central_BP_Waste                          210.999\n",
       "6           id_DK_nan_CD_Biogas                           11.174\n",
       "7    id_DK_nan_IndustryE_Biogas                           49.789\n",
       "8   id_DK_nan_IndustryE_Biomass                            1.781\n",
       "9             id_DK_nan_CD_Coal                           21.340\n",
       "10          id_DK_nan_CD_Natgas                          124.224\n",
       "11   id_DK_nan_IndustryE_Natgas                          123.332\n",
       "12             id_DK_nan_CD_Oil                          928.382\n",
       "13      id_DK_nan_IndustryE_Oil                           27.331\n",
       "14                 id_DK_nan_PV                         3910.802\n",
       "15                id_DK_nan_ROR                            6.894\n",
       "16                 id_DK_nan_WL                         4856.446\n",
       "17                 id_DK_nan_WS                         2655.600"
      ]
     },
     "execution_count": 45,
     "metadata": {},
     "output_type": "execute_result"
    }
   ],
   "source": [
    "GeneratingCap_E"
   ]
  },
  {
   "cell_type": "code",
   "execution_count": 46,
   "metadata": {},
   "outputs": [],
   "source": [
    "#GeneratingCap_E['GeneratingCap_E/id'] = GeneratingCap_E['GeneratingCap_E/id'].str.replace('id_', '')"
   ]
  },
  {
   "cell_type": "code",
   "execution_count": 47,
   "metadata": {},
   "outputs": [],
   "source": [
    "# Filter out rows containing \"ImportFrom\"\n",
    "#GeneratingCap_E = GeneratingCap_E[~GeneratingCap_E['GeneratingCap_E/id'].str.contains('ImportFrom')]"
   ]
  },
  {
   "cell_type": "code",
   "execution_count": 48,
   "metadata": {},
   "outputs": [],
   "source": [
    "# Filter out rows containing \"nan\"\n",
    "#GeneratingCap_E = GeneratingCap_E[~GeneratingCap_E['GeneratingCap_E/id'].str.contains('nan')]"
   ]
  },
  {
   "cell_type": "markdown",
   "metadata": {},
   "source": [
    "### GeneratingCap Heat"
   ]
  },
  {
   "cell_type": "code",
   "execution_count": 49,
   "metadata": {},
   "outputs": [],
   "source": [
    "GeneratingCap_H = pd.read_excel(os.path.join(os.getcwd(), 'GeneratingCapacity_H.xlsx')).rename(columns={\n",
    "    'id':'GeneratingCap_H/id',\n",
    "    'GeneratingCapacity_H':'GeneratingCap_H/GeneratingCap_H'})"
   ]
  },
  {
   "cell_type": "code",
   "execution_count": 50,
   "metadata": {},
   "outputs": [
    {
     "data": {
      "text/html": [
       "<div>\n",
       "<style scoped>\n",
       "    .dataframe tbody tr th:only-of-type {\n",
       "        vertical-align: middle;\n",
       "    }\n",
       "\n",
       "    .dataframe tbody tr th {\n",
       "        vertical-align: top;\n",
       "    }\n",
       "\n",
       "    .dataframe thead th {\n",
       "        text-align: right;\n",
       "    }\n",
       "</style>\n",
       "<table border=\"1\" class=\"dataframe\">\n",
       "  <thead>\n",
       "    <tr style=\"text-align: right;\">\n",
       "      <th></th>\n",
       "      <th>GeneratingCap_H/id</th>\n",
       "      <th>GeneratingCap_H/GeneratingCap_H</th>\n",
       "    </tr>\n",
       "  </thead>\n",
       "  <tbody>\n",
       "    <tr>\n",
       "      <th>0</th>\n",
       "      <td>id_DK_Central_BH_Biogas</td>\n",
       "      <td>30.059</td>\n",
       "    </tr>\n",
       "    <tr>\n",
       "      <th>1</th>\n",
       "      <td>id_DK_Central_IndustryH_Biogas</td>\n",
       "      <td>33.022</td>\n",
       "    </tr>\n",
       "    <tr>\n",
       "      <th>2</th>\n",
       "      <td>id_DK_Central_BH_Biomass</td>\n",
       "      <td>2663.333</td>\n",
       "    </tr>\n",
       "    <tr>\n",
       "      <th>3</th>\n",
       "      <td>id_DK_Central_IndustryH_Biomass</td>\n",
       "      <td>64.684</td>\n",
       "    </tr>\n",
       "    <tr>\n",
       "      <th>4</th>\n",
       "      <td>id_DK_Central_BH_Natgas</td>\n",
       "      <td>5490.355</td>\n",
       "    </tr>\n",
       "    <tr>\n",
       "      <th>5</th>\n",
       "      <td>id_DK_Central_IndustryH_Natgas</td>\n",
       "      <td>8.619</td>\n",
       "    </tr>\n",
       "    <tr>\n",
       "      <th>6</th>\n",
       "      <td>id_DK_Central_BH_Oil</td>\n",
       "      <td>4518.727</td>\n",
       "    </tr>\n",
       "    <tr>\n",
       "      <th>7</th>\n",
       "      <td>id_DK_Central_IndustryH_Oil</td>\n",
       "      <td>53.102</td>\n",
       "    </tr>\n",
       "    <tr>\n",
       "      <th>8</th>\n",
       "      <td>id_DK_Central_BH_Waste</td>\n",
       "      <td>99.549</td>\n",
       "    </tr>\n",
       "    <tr>\n",
       "      <th>9</th>\n",
       "      <td>id_DK_Central_EP</td>\n",
       "      <td>10.800</td>\n",
       "    </tr>\n",
       "    <tr>\n",
       "      <th>10</th>\n",
       "      <td>id_DK_Central_GT</td>\n",
       "      <td>8.300</td>\n",
       "    </tr>\n",
       "    <tr>\n",
       "      <th>11</th>\n",
       "      <td>id_DK_Central_HPstandard</td>\n",
       "      <td>566.432</td>\n",
       "    </tr>\n",
       "    <tr>\n",
       "      <th>12</th>\n",
       "      <td>id_DK_Central_HPsurplusheat</td>\n",
       "      <td>79.771</td>\n",
       "    </tr>\n",
       "    <tr>\n",
       "      <th>13</th>\n",
       "      <td>id_DK_Central_IH</td>\n",
       "      <td>1567.350</td>\n",
       "    </tr>\n",
       "    <tr>\n",
       "      <th>14</th>\n",
       "      <td>id_DK_Central_IndustryH</td>\n",
       "      <td>362.120</td>\n",
       "    </tr>\n",
       "    <tr>\n",
       "      <th>15</th>\n",
       "      <td>id_DK_Central_SH</td>\n",
       "      <td>1107.157</td>\n",
       "    </tr>\n",
       "  </tbody>\n",
       "</table>\n",
       "</div>"
      ],
      "text/plain": [
       "                 GeneratingCap_H/id  GeneratingCap_H/GeneratingCap_H\n",
       "0           id_DK_Central_BH_Biogas                           30.059\n",
       "1    id_DK_Central_IndustryH_Biogas                           33.022\n",
       "2          id_DK_Central_BH_Biomass                         2663.333\n",
       "3   id_DK_Central_IndustryH_Biomass                           64.684\n",
       "4           id_DK_Central_BH_Natgas                         5490.355\n",
       "5    id_DK_Central_IndustryH_Natgas                            8.619\n",
       "6              id_DK_Central_BH_Oil                         4518.727\n",
       "7       id_DK_Central_IndustryH_Oil                           53.102\n",
       "8            id_DK_Central_BH_Waste                           99.549\n",
       "9                  id_DK_Central_EP                           10.800\n",
       "10                 id_DK_Central_GT                            8.300\n",
       "11         id_DK_Central_HPstandard                          566.432\n",
       "12      id_DK_Central_HPsurplusheat                           79.771\n",
       "13                 id_DK_Central_IH                         1567.350\n",
       "14          id_DK_Central_IndustryH                          362.120\n",
       "15                 id_DK_Central_SH                         1107.157"
      ]
     },
     "execution_count": 50,
     "metadata": {},
     "output_type": "execute_result"
    }
   ],
   "source": [
    "GeneratingCap_H"
   ]
  },
  {
   "cell_type": "code",
   "execution_count": 51,
   "metadata": {},
   "outputs": [],
   "source": [
    "#GeneratingCap_H['GeneratingCap_H/id'] = GeneratingCap_H['GeneratingCap_H/id'].str.replace('id_', '')"
   ]
  },
  {
   "cell_type": "markdown",
   "metadata": {},
   "source": [
    "### OtherMC"
   ]
  },
  {
   "cell_type": "code",
   "execution_count": 52,
   "metadata": {},
   "outputs": [],
   "source": [
    "OtherMC = pd.read_excel(os.path.join(os.getcwd(), 'OtherMC.xlsx')).rename(columns={\n",
    "    'id':'OtherMC/id',\n",
    "    'OtherMC':'OtherMC/OtherMC'}).dropna()"
   ]
  },
  {
   "cell_type": "code",
   "execution_count": 53,
   "metadata": {},
   "outputs": [
    {
     "data": {
      "text/html": [
       "<div>\n",
       "<style scoped>\n",
       "    .dataframe tbody tr th:only-of-type {\n",
       "        vertical-align: middle;\n",
       "    }\n",
       "\n",
       "    .dataframe tbody tr th {\n",
       "        vertical-align: top;\n",
       "    }\n",
       "\n",
       "    .dataframe thead th {\n",
       "        text-align: right;\n",
       "    }\n",
       "</style>\n",
       "<table border=\"1\" class=\"dataframe\">\n",
       "  <thead>\n",
       "    <tr style=\"text-align: right;\">\n",
       "      <th></th>\n",
       "      <th>OtherMC/id</th>\n",
       "      <th>OtherMC/OtherMC</th>\n",
       "    </tr>\n",
       "  </thead>\n",
       "  <tbody>\n",
       "    <tr>\n",
       "      <th>0</th>\n",
       "      <td>id_DK_Central_BH_Biogas</td>\n",
       "      <td>2.715967</td>\n",
       "    </tr>\n",
       "    <tr>\n",
       "      <th>1</th>\n",
       "      <td>id_DK_Central_BP_Biogas</td>\n",
       "      <td>9.280955</td>\n",
       "    </tr>\n",
       "    <tr>\n",
       "      <th>2</th>\n",
       "      <td>id_DK_Central_IndustryH_Biogas</td>\n",
       "      <td>0.000000</td>\n",
       "    </tr>\n",
       "    <tr>\n",
       "      <th>3</th>\n",
       "      <td>id_DK_Central_BH_Biomass</td>\n",
       "      <td>1.038205</td>\n",
       "    </tr>\n",
       "    <tr>\n",
       "      <th>4</th>\n",
       "      <td>id_DK_Central_BP_Biomass</td>\n",
       "      <td>4.441489</td>\n",
       "    </tr>\n",
       "    <tr>\n",
       "      <th>5</th>\n",
       "      <td>id_DK_Central_IndustryH_Biomass</td>\n",
       "      <td>0.000000</td>\n",
       "    </tr>\n",
       "    <tr>\n",
       "      <th>6</th>\n",
       "      <td>id_DK_Central_BP_Coal</td>\n",
       "      <td>3.046955</td>\n",
       "    </tr>\n",
       "    <tr>\n",
       "      <th>7</th>\n",
       "      <td>id_DK_Central_BH_Natgas</td>\n",
       "      <td>1.225786</td>\n",
       "    </tr>\n",
       "    <tr>\n",
       "      <th>8</th>\n",
       "      <td>id_DK_Central_BP_Natgas</td>\n",
       "      <td>6.889420</td>\n",
       "    </tr>\n",
       "    <tr>\n",
       "      <th>9</th>\n",
       "      <td>id_DK_Central_IndustryH_Natgas</td>\n",
       "      <td>0.000000</td>\n",
       "    </tr>\n",
       "    <tr>\n",
       "      <th>10</th>\n",
       "      <td>id_DK_Central_BH_Oil</td>\n",
       "      <td>2.715967</td>\n",
       "    </tr>\n",
       "    <tr>\n",
       "      <th>11</th>\n",
       "      <td>id_DK_Central_BP_Oil</td>\n",
       "      <td>10.173945</td>\n",
       "    </tr>\n",
       "    <tr>\n",
       "      <th>12</th>\n",
       "      <td>id_DK_Central_IndustryH_Oil</td>\n",
       "      <td>0.000000</td>\n",
       "    </tr>\n",
       "    <tr>\n",
       "      <th>13</th>\n",
       "      <td>id_DK_Central_BH_Waste</td>\n",
       "      <td>5.883910</td>\n",
       "    </tr>\n",
       "    <tr>\n",
       "      <th>14</th>\n",
       "      <td>id_DK_Central_BP_Waste</td>\n",
       "      <td>27.210905</td>\n",
       "    </tr>\n",
       "    <tr>\n",
       "      <th>16</th>\n",
       "      <td>id_DK_Central_GT</td>\n",
       "      <td>2.663131</td>\n",
       "    </tr>\n",
       "    <tr>\n",
       "      <th>17</th>\n",
       "      <td>id_DK_Central_HPstandard</td>\n",
       "      <td>2.300976</td>\n",
       "    </tr>\n",
       "    <tr>\n",
       "      <th>18</th>\n",
       "      <td>id_DK_Central_HPsurplusheat</td>\n",
       "      <td>2.300976</td>\n",
       "    </tr>\n",
       "    <tr>\n",
       "      <th>19</th>\n",
       "      <td>id_DK_Central_IH</td>\n",
       "      <td>0.490315</td>\n",
       "    </tr>\n",
       "    <tr>\n",
       "      <th>20</th>\n",
       "      <td>id_DK_Central_IndustryH</td>\n",
       "      <td>0.000000</td>\n",
       "    </tr>\n",
       "    <tr>\n",
       "      <th>21</th>\n",
       "      <td>id_DK_Central_SH</td>\n",
       "      <td>0.000000</td>\n",
       "    </tr>\n",
       "    <tr>\n",
       "      <th>22</th>\n",
       "      <td>id_DK_nan_CD_Biogas</td>\n",
       "      <td>4.045095</td>\n",
       "    </tr>\n",
       "    <tr>\n",
       "      <th>23</th>\n",
       "      <td>id_DK_nan_IndustryE_Biogas</td>\n",
       "      <td>0.000000</td>\n",
       "    </tr>\n",
       "    <tr>\n",
       "      <th>24</th>\n",
       "      <td>id_DK_nan_IndustryE_Biomass</td>\n",
       "      <td>0.000000</td>\n",
       "    </tr>\n",
       "    <tr>\n",
       "      <th>25</th>\n",
       "      <td>id_DK_nan_CD_Coal</td>\n",
       "      <td>3.046955</td>\n",
       "    </tr>\n",
       "    <tr>\n",
       "      <th>26</th>\n",
       "      <td>id_DK_nan_CD_Natgas</td>\n",
       "      <td>5.043236</td>\n",
       "    </tr>\n",
       "    <tr>\n",
       "      <th>27</th>\n",
       "      <td>id_DK_nan_IndustryE_Natgas</td>\n",
       "      <td>0.000000</td>\n",
       "    </tr>\n",
       "    <tr>\n",
       "      <th>28</th>\n",
       "      <td>id_DK_nan_CD_Oil</td>\n",
       "      <td>4.045095</td>\n",
       "    </tr>\n",
       "    <tr>\n",
       "      <th>29</th>\n",
       "      <td>id_DK_nan_IndustryE_Oil</td>\n",
       "      <td>0.000000</td>\n",
       "    </tr>\n",
       "    <tr>\n",
       "      <th>30</th>\n",
       "      <td>id_DK_nan_PV</td>\n",
       "      <td>0.000000</td>\n",
       "    </tr>\n",
       "    <tr>\n",
       "      <th>32</th>\n",
       "      <td>id_DK_nan_WL</td>\n",
       "      <td>1.576011</td>\n",
       "    </tr>\n",
       "    <tr>\n",
       "      <th>33</th>\n",
       "      <td>id_DK_nan_WS</td>\n",
       "      <td>4.976288</td>\n",
       "    </tr>\n",
       "  </tbody>\n",
       "</table>\n",
       "</div>"
      ],
      "text/plain": [
       "                         OtherMC/id  OtherMC/OtherMC\n",
       "0           id_DK_Central_BH_Biogas         2.715967\n",
       "1           id_DK_Central_BP_Biogas         9.280955\n",
       "2    id_DK_Central_IndustryH_Biogas         0.000000\n",
       "3          id_DK_Central_BH_Biomass         1.038205\n",
       "4          id_DK_Central_BP_Biomass         4.441489\n",
       "5   id_DK_Central_IndustryH_Biomass         0.000000\n",
       "6             id_DK_Central_BP_Coal         3.046955\n",
       "7           id_DK_Central_BH_Natgas         1.225786\n",
       "8           id_DK_Central_BP_Natgas         6.889420\n",
       "9    id_DK_Central_IndustryH_Natgas         0.000000\n",
       "10             id_DK_Central_BH_Oil         2.715967\n",
       "11             id_DK_Central_BP_Oil        10.173945\n",
       "12      id_DK_Central_IndustryH_Oil         0.000000\n",
       "13           id_DK_Central_BH_Waste         5.883910\n",
       "14           id_DK_Central_BP_Waste        27.210905\n",
       "16                 id_DK_Central_GT         2.663131\n",
       "17         id_DK_Central_HPstandard         2.300976\n",
       "18      id_DK_Central_HPsurplusheat         2.300976\n",
       "19                 id_DK_Central_IH         0.490315\n",
       "20          id_DK_Central_IndustryH         0.000000\n",
       "21                 id_DK_Central_SH         0.000000\n",
       "22              id_DK_nan_CD_Biogas         4.045095\n",
       "23       id_DK_nan_IndustryE_Biogas         0.000000\n",
       "24      id_DK_nan_IndustryE_Biomass         0.000000\n",
       "25                id_DK_nan_CD_Coal         3.046955\n",
       "26              id_DK_nan_CD_Natgas         5.043236\n",
       "27       id_DK_nan_IndustryE_Natgas         0.000000\n",
       "28                 id_DK_nan_CD_Oil         4.045095\n",
       "29          id_DK_nan_IndustryE_Oil         0.000000\n",
       "30                     id_DK_nan_PV         0.000000\n",
       "32                     id_DK_nan_WL         1.576011\n",
       "33                     id_DK_nan_WS         4.976288"
      ]
     },
     "execution_count": 53,
     "metadata": {},
     "output_type": "execute_result"
    }
   ],
   "source": [
    "OtherMC"
   ]
  },
  {
   "cell_type": "markdown",
   "metadata": {},
   "source": [
    "Filter out importing MC:"
   ]
  },
  {
   "cell_type": "code",
   "execution_count": 54,
   "metadata": {},
   "outputs": [],
   "source": [
    "#OtherMC = OtherMC.filter(regex='^(?!.*ImportFrom).*$', axis=1)"
   ]
  },
  {
   "cell_type": "markdown",
   "metadata": {},
   "source": [
    "Transfer df from wide to long:"
   ]
  },
  {
   "cell_type": "code",
   "execution_count": 55,
   "metadata": {},
   "outputs": [],
   "source": [
    "#OtherMC = OtherMC.melt(var_name='OtherMC/id', value_name='OtherMC/OtherMC')"
   ]
  },
  {
   "cell_type": "markdown",
   "metadata": {},
   "source": [
    "Drop \"id\" again:"
   ]
  },
  {
   "cell_type": "code",
   "execution_count": 56,
   "metadata": {},
   "outputs": [],
   "source": [
    "#OtherMC['OtherMC/id'] = OtherMC['OtherMC/id'].str.replace('id_', '')"
   ]
  },
  {
   "cell_type": "code",
   "execution_count": 57,
   "metadata": {},
   "outputs": [],
   "source": [
    "# Filter out rows containing \"nan\"\n",
    "#OtherMC = OtherMC[~OtherMC['OtherMC/id'].str.contains('nan')]"
   ]
  },
  {
   "cell_type": "markdown",
   "metadata": {},
   "source": [
    "### FOM"
   ]
  },
  {
   "cell_type": "code",
   "execution_count": 58,
   "metadata": {},
   "outputs": [],
   "source": [
    "FOM = pd.read_excel(os.path.join(os.getcwd(), 'FOM.xlsx')).rename(columns={\n",
    "    'id':'FOM/id',\n",
    "    'FOM':'FOM/FOM'}).dropna()"
   ]
  },
  {
   "cell_type": "code",
   "execution_count": 59,
   "metadata": {},
   "outputs": [
    {
     "data": {
      "text/html": [
       "<div>\n",
       "<style scoped>\n",
       "    .dataframe tbody tr th:only-of-type {\n",
       "        vertical-align: middle;\n",
       "    }\n",
       "\n",
       "    .dataframe tbody tr th {\n",
       "        vertical-align: top;\n",
       "    }\n",
       "\n",
       "    .dataframe thead th {\n",
       "        text-align: right;\n",
       "    }\n",
       "</style>\n",
       "<table border=\"1\" class=\"dataframe\">\n",
       "  <thead>\n",
       "    <tr style=\"text-align: right;\">\n",
       "      <th></th>\n",
       "      <th>FOM/id</th>\n",
       "      <th>FOM/FOM</th>\n",
       "    </tr>\n",
       "  </thead>\n",
       "  <tbody>\n",
       "    <tr>\n",
       "      <th>0</th>\n",
       "      <td>id_DK_Central_BH_Biogas</td>\n",
       "      <td>41780.640644</td>\n",
       "    </tr>\n",
       "    <tr>\n",
       "      <th>1</th>\n",
       "      <td>id_DK_Central_BP_Biogas</td>\n",
       "      <td>109751.668909</td>\n",
       "    </tr>\n",
       "    <tr>\n",
       "      <th>2</th>\n",
       "      <td>id_DK_Central_IndustryH_Biogas</td>\n",
       "      <td>0.000000</td>\n",
       "    </tr>\n",
       "    <tr>\n",
       "      <th>3</th>\n",
       "      <td>id_DK_Central_BH_Biomass</td>\n",
       "      <td>40675.097972</td>\n",
       "    </tr>\n",
       "    <tr>\n",
       "      <th>4</th>\n",
       "      <td>id_DK_Central_BP_Biomass</td>\n",
       "      <td>213076.714365</td>\n",
       "    </tr>\n",
       "    <tr>\n",
       "      <th>5</th>\n",
       "      <td>id_DK_Central_IndustryH_Biomass</td>\n",
       "      <td>0.000000</td>\n",
       "    </tr>\n",
       "    <tr>\n",
       "      <th>6</th>\n",
       "      <td>id_DK_Central_BP_Coal</td>\n",
       "      <td>32570.898152</td>\n",
       "    </tr>\n",
       "    <tr>\n",
       "      <th>7</th>\n",
       "      <td>id_DK_Central_BH_Natgas</td>\n",
       "      <td>1908.724677</td>\n",
       "    </tr>\n",
       "    <tr>\n",
       "      <th>8</th>\n",
       "      <td>id_DK_Central_BP_Natgas</td>\n",
       "      <td>18871.998659</td>\n",
       "    </tr>\n",
       "    <tr>\n",
       "      <th>9</th>\n",
       "      <td>id_DK_Central_IndustryH_Natgas</td>\n",
       "      <td>0.000000</td>\n",
       "    </tr>\n",
       "    <tr>\n",
       "      <th>10</th>\n",
       "      <td>id_DK_Central_BH_Oil</td>\n",
       "      <td>41780.640644</td>\n",
       "    </tr>\n",
       "    <tr>\n",
       "      <th>11</th>\n",
       "      <td>id_DK_Central_BP_Oil</td>\n",
       "      <td>131117.855890</td>\n",
       "    </tr>\n",
       "    <tr>\n",
       "      <th>12</th>\n",
       "      <td>id_DK_Central_IndustryH_Oil</td>\n",
       "      <td>0.000000</td>\n",
       "    </tr>\n",
       "    <tr>\n",
       "      <th>13</th>\n",
       "      <td>id_DK_Central_BH_Waste</td>\n",
       "      <td>82758.099284</td>\n",
       "    </tr>\n",
       "    <tr>\n",
       "      <th>14</th>\n",
       "      <td>id_DK_Central_BP_Waste</td>\n",
       "      <td>281317.999365</td>\n",
       "    </tr>\n",
       "    <tr>\n",
       "      <th>16</th>\n",
       "      <td>id_DK_Central_GT</td>\n",
       "      <td>14919.572702</td>\n",
       "    </tr>\n",
       "    <tr>\n",
       "      <th>17</th>\n",
       "      <td>id_DK_Central_HPstandard</td>\n",
       "      <td>2101.348268</td>\n",
       "    </tr>\n",
       "    <tr>\n",
       "      <th>18</th>\n",
       "      <td>id_DK_Central_HPsurplusheat</td>\n",
       "      <td>2101.348268</td>\n",
       "    </tr>\n",
       "    <tr>\n",
       "      <th>19</th>\n",
       "      <td>id_DK_Central_IH</td>\n",
       "      <td>1110.212335</td>\n",
       "    </tr>\n",
       "    <tr>\n",
       "      <th>20</th>\n",
       "      <td>id_DK_Central_IndustryH</td>\n",
       "      <td>0.000000</td>\n",
       "    </tr>\n",
       "    <tr>\n",
       "      <th>21</th>\n",
       "      <td>id_DK_Central_SH</td>\n",
       "      <td>63.660221</td>\n",
       "    </tr>\n",
       "    <tr>\n",
       "      <th>22</th>\n",
       "      <td>id_DK_nan_CD_Biogas</td>\n",
       "      <td>31922.982437</td>\n",
       "    </tr>\n",
       "    <tr>\n",
       "      <th>23</th>\n",
       "      <td>id_DK_nan_IndustryE_Biogas</td>\n",
       "      <td>0.000000</td>\n",
       "    </tr>\n",
       "    <tr>\n",
       "      <th>24</th>\n",
       "      <td>id_DK_nan_IndustryE_Biomass</td>\n",
       "      <td>0.000000</td>\n",
       "    </tr>\n",
       "    <tr>\n",
       "      <th>25</th>\n",
       "      <td>id_DK_nan_CD_Coal</td>\n",
       "      <td>32570.898152</td>\n",
       "    </tr>\n",
       "    <tr>\n",
       "      <th>26</th>\n",
       "      <td>id_DK_nan_CD_Natgas</td>\n",
       "      <td>31275.066721</td>\n",
       "    </tr>\n",
       "    <tr>\n",
       "      <th>27</th>\n",
       "      <td>id_DK_nan_IndustryE_Natgas</td>\n",
       "      <td>0.000000</td>\n",
       "    </tr>\n",
       "    <tr>\n",
       "      <th>28</th>\n",
       "      <td>id_DK_nan_CD_Oil</td>\n",
       "      <td>31922.982437</td>\n",
       "    </tr>\n",
       "    <tr>\n",
       "      <th>29</th>\n",
       "      <td>id_DK_nan_IndustryE_Oil</td>\n",
       "      <td>0.000000</td>\n",
       "    </tr>\n",
       "    <tr>\n",
       "      <th>30</th>\n",
       "      <td>id_DK_nan_PV</td>\n",
       "      <td>11802.096479</td>\n",
       "    </tr>\n",
       "    <tr>\n",
       "      <th>32</th>\n",
       "      <td>id_DK_nan_WL</td>\n",
       "      <td>35985.589088</td>\n",
       "    </tr>\n",
       "    <tr>\n",
       "      <th>33</th>\n",
       "      <td>id_DK_nan_WS</td>\n",
       "      <td>49762.880445</td>\n",
       "    </tr>\n",
       "  </tbody>\n",
       "</table>\n",
       "</div>"
      ],
      "text/plain": [
       "                             FOM/id        FOM/FOM\n",
       "0           id_DK_Central_BH_Biogas   41780.640644\n",
       "1           id_DK_Central_BP_Biogas  109751.668909\n",
       "2    id_DK_Central_IndustryH_Biogas       0.000000\n",
       "3          id_DK_Central_BH_Biomass   40675.097972\n",
       "4          id_DK_Central_BP_Biomass  213076.714365\n",
       "5   id_DK_Central_IndustryH_Biomass       0.000000\n",
       "6             id_DK_Central_BP_Coal   32570.898152\n",
       "7           id_DK_Central_BH_Natgas    1908.724677\n",
       "8           id_DK_Central_BP_Natgas   18871.998659\n",
       "9    id_DK_Central_IndustryH_Natgas       0.000000\n",
       "10             id_DK_Central_BH_Oil   41780.640644\n",
       "11             id_DK_Central_BP_Oil  131117.855890\n",
       "12      id_DK_Central_IndustryH_Oil       0.000000\n",
       "13           id_DK_Central_BH_Waste   82758.099284\n",
       "14           id_DK_Central_BP_Waste  281317.999365\n",
       "16                 id_DK_Central_GT   14919.572702\n",
       "17         id_DK_Central_HPstandard    2101.348268\n",
       "18      id_DK_Central_HPsurplusheat    2101.348268\n",
       "19                 id_DK_Central_IH    1110.212335\n",
       "20          id_DK_Central_IndustryH       0.000000\n",
       "21                 id_DK_Central_SH      63.660221\n",
       "22              id_DK_nan_CD_Biogas   31922.982437\n",
       "23       id_DK_nan_IndustryE_Biogas       0.000000\n",
       "24      id_DK_nan_IndustryE_Biomass       0.000000\n",
       "25                id_DK_nan_CD_Coal   32570.898152\n",
       "26              id_DK_nan_CD_Natgas   31275.066721\n",
       "27       id_DK_nan_IndustryE_Natgas       0.000000\n",
       "28                 id_DK_nan_CD_Oil   31922.982437\n",
       "29          id_DK_nan_IndustryE_Oil       0.000000\n",
       "30                     id_DK_nan_PV   11802.096479\n",
       "32                     id_DK_nan_WL   35985.589088\n",
       "33                     id_DK_nan_WS   49762.880445"
      ]
     },
     "execution_count": 59,
     "metadata": {},
     "output_type": "execute_result"
    }
   ],
   "source": [
    "FOM"
   ]
  },
  {
   "cell_type": "code",
   "execution_count": 60,
   "metadata": {},
   "outputs": [],
   "source": [
    "#FOM['FOM/id'] = FOM['FOM/id'].str.replace('id_', '')"
   ]
  },
  {
   "cell_type": "code",
   "execution_count": 61,
   "metadata": {},
   "outputs": [],
   "source": [
    "# Filter out rows containing \"nan\"\n",
    "#FOM = FOM[~FOM['FOM/id'].str.contains('nan')]"
   ]
  },
  {
   "cell_type": "markdown",
   "metadata": {},
   "source": [
    "Filter out importing MC:"
   ]
  },
  {
   "cell_type": "code",
   "execution_count": 62,
   "metadata": {},
   "outputs": [],
   "source": [
    "# Filter out rows containing \"ImportFrom\"\n",
    "#FOM = FOM[~FOM['FOM/id'].str.contains('ImportFrom')]"
   ]
  },
  {
   "cell_type": "markdown",
   "metadata": {},
   "source": [
    "### InvestCost"
   ]
  },
  {
   "cell_type": "markdown",
   "metadata": {},
   "source": [
    "We abstract from investment costs in generators."
   ]
  },
  {
   "cell_type": "markdown",
   "metadata": {},
   "source": [
    "### E2H"
   ]
  },
  {
   "cell_type": "code",
   "execution_count": 63,
   "metadata": {},
   "outputs": [],
   "source": [
    "E2H = pd.read_excel(os.path.join(os.getcwd(), 'E2H.xlsx')).rename(columns={\n",
    "    'id':'E2H/id',\n",
    "    'E2H':'E2H/E2H'})"
   ]
  },
  {
   "cell_type": "code",
   "execution_count": 64,
   "metadata": {},
   "outputs": [
    {
     "data": {
      "text/html": [
       "<div>\n",
       "<style scoped>\n",
       "    .dataframe tbody tr th:only-of-type {\n",
       "        vertical-align: middle;\n",
       "    }\n",
       "\n",
       "    .dataframe tbody tr th {\n",
       "        vertical-align: top;\n",
       "    }\n",
       "\n",
       "    .dataframe thead th {\n",
       "        text-align: right;\n",
       "    }\n",
       "</style>\n",
       "<table border=\"1\" class=\"dataframe\">\n",
       "  <thead>\n",
       "    <tr style=\"text-align: right;\">\n",
       "      <th></th>\n",
       "      <th>E2H/id</th>\n",
       "      <th>E2H/E2H</th>\n",
       "    </tr>\n",
       "  </thead>\n",
       "  <tbody>\n",
       "    <tr>\n",
       "      <th>0</th>\n",
       "      <td>id_DK_Central_BP_Biogas</td>\n",
       "      <td>0.831903</td>\n",
       "    </tr>\n",
       "    <tr>\n",
       "      <th>1</th>\n",
       "      <td>id_DK_Central_BP_Biomass</td>\n",
       "      <td>0.495391</td>\n",
       "    </tr>\n",
       "    <tr>\n",
       "      <th>2</th>\n",
       "      <td>id_DK_Central_BP_Coal</td>\n",
       "      <td>0.825316</td>\n",
       "    </tr>\n",
       "    <tr>\n",
       "      <th>3</th>\n",
       "      <td>id_DK_Central_BP_Natgas</td>\n",
       "      <td>0.855208</td>\n",
       "    </tr>\n",
       "    <tr>\n",
       "      <th>4</th>\n",
       "      <td>id_DK_Central_BP_Oil</td>\n",
       "      <td>0.940250</td>\n",
       "    </tr>\n",
       "    <tr>\n",
       "      <th>5</th>\n",
       "      <td>id_DK_Central_BP_Waste</td>\n",
       "      <td>0.212297</td>\n",
       "    </tr>\n",
       "    <tr>\n",
       "      <th>6</th>\n",
       "      <td>id_DK_Central_EP</td>\n",
       "      <td>-10.000000</td>\n",
       "    </tr>\n",
       "    <tr>\n",
       "      <th>7</th>\n",
       "      <td>id_DK_Central_HPstandard</td>\n",
       "      <td>-0.294999</td>\n",
       "    </tr>\n",
       "    <tr>\n",
       "      <th>8</th>\n",
       "      <td>id_DK_Central_HPsurplusheat</td>\n",
       "      <td>-0.218450</td>\n",
       "    </tr>\n",
       "    <tr>\n",
       "      <th>9</th>\n",
       "      <td>id_DK_Central_IH</td>\n",
       "      <td>-1.000000</td>\n",
       "    </tr>\n",
       "  </tbody>\n",
       "</table>\n",
       "</div>"
      ],
      "text/plain": [
       "                        E2H/id    E2H/E2H\n",
       "0      id_DK_Central_BP_Biogas   0.831903\n",
       "1     id_DK_Central_BP_Biomass   0.495391\n",
       "2        id_DK_Central_BP_Coal   0.825316\n",
       "3      id_DK_Central_BP_Natgas   0.855208\n",
       "4         id_DK_Central_BP_Oil   0.940250\n",
       "5       id_DK_Central_BP_Waste   0.212297\n",
       "6             id_DK_Central_EP -10.000000\n",
       "7     id_DK_Central_HPstandard  -0.294999\n",
       "8  id_DK_Central_HPsurplusheat  -0.218450\n",
       "9             id_DK_Central_IH  -1.000000"
      ]
     },
     "execution_count": 64,
     "metadata": {},
     "output_type": "execute_result"
    }
   ],
   "source": [
    "E2H"
   ]
  },
  {
   "cell_type": "code",
   "execution_count": 65,
   "metadata": {},
   "outputs": [],
   "source": [
    "#E2H['E2H/id'] = E2H['E2H/id'].str.replace('id_', '')"
   ]
  },
  {
   "cell_type": "markdown",
   "metadata": {},
   "source": [
    "### Put dataframes together"
   ]
  },
  {
   "cell_type": "code",
   "execution_count": 66,
   "metadata": {},
   "outputs": [],
   "source": [
    "GeneratorsVariables_df = pd.concat([FuelMix,GeneratingCap_E,GeneratingCap_H,OtherMC,FOM,E2H], axis=1)"
   ]
  },
  {
   "cell_type": "markdown",
   "metadata": {},
   "source": [
    "### Save as excel"
   ]
  },
  {
   "cell_type": "code",
   "execution_count": 67,
   "metadata": {},
   "outputs": [],
   "source": [
    "GeneratorsVariables_df.to_excel(os.path.join(output_dir,'GeneratorsVariables.xlsx'),sheet_name='GeneratorsVariables', index=False)"
   ]
  },
  {
   "cell_type": "markdown",
   "metadata": {},
   "source": [
    "## Sheet \"GeneratorsMaps\""
   ]
  },
  {
   "cell_type": "markdown",
   "metadata": {},
   "source": [
    "### id2tech"
   ]
  },
  {
   "cell_type": "markdown",
   "metadata": {},
   "source": [
    "Import from *id2tech.xlsx*:"
   ]
  },
  {
   "cell_type": "code",
   "execution_count": 68,
   "metadata": {},
   "outputs": [],
   "source": [
    "id2tech = pd.read_excel(os.path.join(os.getcwd(), 'id2tech.xlsx')).rename(columns={\n",
    "    'id':'id2tech/id',\n",
    "    'tech':'id2tech/tech'})"
   ]
  },
  {
   "cell_type": "code",
   "execution_count": 69,
   "metadata": {},
   "outputs": [
    {
     "data": {
      "text/html": [
       "<div>\n",
       "<style scoped>\n",
       "    .dataframe tbody tr th:only-of-type {\n",
       "        vertical-align: middle;\n",
       "    }\n",
       "\n",
       "    .dataframe tbody tr th {\n",
       "        vertical-align: top;\n",
       "    }\n",
       "\n",
       "    .dataframe thead th {\n",
       "        text-align: right;\n",
       "    }\n",
       "</style>\n",
       "<table border=\"1\" class=\"dataframe\">\n",
       "  <thead>\n",
       "    <tr style=\"text-align: right;\">\n",
       "      <th></th>\n",
       "      <th>id2tech/id</th>\n",
       "      <th>id2tech/tech</th>\n",
       "    </tr>\n",
       "  </thead>\n",
       "  <tbody>\n",
       "    <tr>\n",
       "      <th>0</th>\n",
       "      <td>id_DK_Central_BH_Biogas</td>\n",
       "      <td>BH_Biogas</td>\n",
       "    </tr>\n",
       "    <tr>\n",
       "      <th>1</th>\n",
       "      <td>id_DK_Central_BP_Biogas</td>\n",
       "      <td>BP_Biogas</td>\n",
       "    </tr>\n",
       "    <tr>\n",
       "      <th>2</th>\n",
       "      <td>id_DK_Central_IndustryH_Biogas</td>\n",
       "      <td>IndustryH_Biogas</td>\n",
       "    </tr>\n",
       "    <tr>\n",
       "      <th>3</th>\n",
       "      <td>id_DK_Central_BH_Biomass</td>\n",
       "      <td>BH_Biomass</td>\n",
       "    </tr>\n",
       "    <tr>\n",
       "      <th>4</th>\n",
       "      <td>id_DK_Central_BP_Biomass</td>\n",
       "      <td>BP_Biomass</td>\n",
       "    </tr>\n",
       "    <tr>\n",
       "      <th>5</th>\n",
       "      <td>id_DK_Central_IndustryH_Biomass</td>\n",
       "      <td>IndustryH_Biomass</td>\n",
       "    </tr>\n",
       "    <tr>\n",
       "      <th>6</th>\n",
       "      <td>id_DK_Central_BP_Coal</td>\n",
       "      <td>BP_Coal</td>\n",
       "    </tr>\n",
       "    <tr>\n",
       "      <th>7</th>\n",
       "      <td>id_DK_Central_BH_Natgas</td>\n",
       "      <td>BH_Natgas</td>\n",
       "    </tr>\n",
       "    <tr>\n",
       "      <th>8</th>\n",
       "      <td>id_DK_Central_BP_Natgas</td>\n",
       "      <td>BP_Natgas</td>\n",
       "    </tr>\n",
       "    <tr>\n",
       "      <th>9</th>\n",
       "      <td>id_DK_Central_IndustryH_Natgas</td>\n",
       "      <td>IndustryH_Natgas</td>\n",
       "    </tr>\n",
       "    <tr>\n",
       "      <th>10</th>\n",
       "      <td>id_DK_Central_BH_Oil</td>\n",
       "      <td>BH_Oil</td>\n",
       "    </tr>\n",
       "    <tr>\n",
       "      <th>11</th>\n",
       "      <td>id_DK_Central_BP_Oil</td>\n",
       "      <td>BP_Oil</td>\n",
       "    </tr>\n",
       "    <tr>\n",
       "      <th>12</th>\n",
       "      <td>id_DK_Central_IndustryH_Oil</td>\n",
       "      <td>IndustryH_Oil</td>\n",
       "    </tr>\n",
       "    <tr>\n",
       "      <th>13</th>\n",
       "      <td>id_DK_Central_BH_Waste</td>\n",
       "      <td>BH_Waste</td>\n",
       "    </tr>\n",
       "    <tr>\n",
       "      <th>14</th>\n",
       "      <td>id_DK_Central_BP_Waste</td>\n",
       "      <td>BP_Waste</td>\n",
       "    </tr>\n",
       "    <tr>\n",
       "      <th>15</th>\n",
       "      <td>id_DK_Central_EP</td>\n",
       "      <td>EP</td>\n",
       "    </tr>\n",
       "    <tr>\n",
       "      <th>16</th>\n",
       "      <td>id_DK_Central_GT</td>\n",
       "      <td>GT</td>\n",
       "    </tr>\n",
       "    <tr>\n",
       "      <th>17</th>\n",
       "      <td>id_DK_Central_HPstandard</td>\n",
       "      <td>HPstandard</td>\n",
       "    </tr>\n",
       "    <tr>\n",
       "      <th>18</th>\n",
       "      <td>id_DK_Central_HPsurplusheat</td>\n",
       "      <td>HPsurplusheat</td>\n",
       "    </tr>\n",
       "    <tr>\n",
       "      <th>19</th>\n",
       "      <td>id_DK_Central_IH</td>\n",
       "      <td>IH</td>\n",
       "    </tr>\n",
       "    <tr>\n",
       "      <th>20</th>\n",
       "      <td>id_DK_Central_IndustryH</td>\n",
       "      <td>IndustryH</td>\n",
       "    </tr>\n",
       "    <tr>\n",
       "      <th>21</th>\n",
       "      <td>id_DK_Central_SH</td>\n",
       "      <td>SH</td>\n",
       "    </tr>\n",
       "    <tr>\n",
       "      <th>22</th>\n",
       "      <td>id_DK_nan_CD_Biogas</td>\n",
       "      <td>CD_Biogas</td>\n",
       "    </tr>\n",
       "    <tr>\n",
       "      <th>23</th>\n",
       "      <td>id_DK_nan_IndustryE_Biogas</td>\n",
       "      <td>IndustryE_Biogas</td>\n",
       "    </tr>\n",
       "    <tr>\n",
       "      <th>24</th>\n",
       "      <td>id_DK_nan_IndustryE_Biomass</td>\n",
       "      <td>IndustryE_Biomass</td>\n",
       "    </tr>\n",
       "    <tr>\n",
       "      <th>25</th>\n",
       "      <td>id_DK_nan_CD_Coal</td>\n",
       "      <td>CD_Coal</td>\n",
       "    </tr>\n",
       "    <tr>\n",
       "      <th>26</th>\n",
       "      <td>id_DK_nan_CD_Natgas</td>\n",
       "      <td>CD_Natgas</td>\n",
       "    </tr>\n",
       "    <tr>\n",
       "      <th>27</th>\n",
       "      <td>id_DK_nan_IndustryE_Natgas</td>\n",
       "      <td>IndustryE_Natgas</td>\n",
       "    </tr>\n",
       "    <tr>\n",
       "      <th>28</th>\n",
       "      <td>id_DK_nan_CD_Oil</td>\n",
       "      <td>CD_Oil</td>\n",
       "    </tr>\n",
       "    <tr>\n",
       "      <th>29</th>\n",
       "      <td>id_DK_nan_IndustryE_Oil</td>\n",
       "      <td>IndustryE_Oil</td>\n",
       "    </tr>\n",
       "    <tr>\n",
       "      <th>30</th>\n",
       "      <td>id_DK_nan_PV</td>\n",
       "      <td>PV</td>\n",
       "    </tr>\n",
       "    <tr>\n",
       "      <th>31</th>\n",
       "      <td>id_DK_nan_ROR</td>\n",
       "      <td>ROR</td>\n",
       "    </tr>\n",
       "    <tr>\n",
       "      <th>32</th>\n",
       "      <td>id_DK_nan_WL</td>\n",
       "      <td>WL</td>\n",
       "    </tr>\n",
       "    <tr>\n",
       "      <th>33</th>\n",
       "      <td>id_DK_nan_WS</td>\n",
       "      <td>WS</td>\n",
       "    </tr>\n",
       "  </tbody>\n",
       "</table>\n",
       "</div>"
      ],
      "text/plain": [
       "                         id2tech/id       id2tech/tech\n",
       "0           id_DK_Central_BH_Biogas          BH_Biogas\n",
       "1           id_DK_Central_BP_Biogas          BP_Biogas\n",
       "2    id_DK_Central_IndustryH_Biogas   IndustryH_Biogas\n",
       "3          id_DK_Central_BH_Biomass         BH_Biomass\n",
       "4          id_DK_Central_BP_Biomass         BP_Biomass\n",
       "5   id_DK_Central_IndustryH_Biomass  IndustryH_Biomass\n",
       "6             id_DK_Central_BP_Coal            BP_Coal\n",
       "7           id_DK_Central_BH_Natgas          BH_Natgas\n",
       "8           id_DK_Central_BP_Natgas          BP_Natgas\n",
       "9    id_DK_Central_IndustryH_Natgas   IndustryH_Natgas\n",
       "10             id_DK_Central_BH_Oil             BH_Oil\n",
       "11             id_DK_Central_BP_Oil             BP_Oil\n",
       "12      id_DK_Central_IndustryH_Oil      IndustryH_Oil\n",
       "13           id_DK_Central_BH_Waste           BH_Waste\n",
       "14           id_DK_Central_BP_Waste           BP_Waste\n",
       "15                 id_DK_Central_EP                 EP\n",
       "16                 id_DK_Central_GT                 GT\n",
       "17         id_DK_Central_HPstandard         HPstandard\n",
       "18      id_DK_Central_HPsurplusheat      HPsurplusheat\n",
       "19                 id_DK_Central_IH                 IH\n",
       "20          id_DK_Central_IndustryH          IndustryH\n",
       "21                 id_DK_Central_SH                 SH\n",
       "22              id_DK_nan_CD_Biogas          CD_Biogas\n",
       "23       id_DK_nan_IndustryE_Biogas   IndustryE_Biogas\n",
       "24      id_DK_nan_IndustryE_Biomass  IndustryE_Biomass\n",
       "25                id_DK_nan_CD_Coal            CD_Coal\n",
       "26              id_DK_nan_CD_Natgas          CD_Natgas\n",
       "27       id_DK_nan_IndustryE_Natgas   IndustryE_Natgas\n",
       "28                 id_DK_nan_CD_Oil             CD_Oil\n",
       "29          id_DK_nan_IndustryE_Oil      IndustryE_Oil\n",
       "30                     id_DK_nan_PV                 PV\n",
       "31                    id_DK_nan_ROR                ROR\n",
       "32                     id_DK_nan_WL                 WL\n",
       "33                     id_DK_nan_WS                 WS"
      ]
     },
     "execution_count": 69,
     "metadata": {},
     "output_type": "execute_result"
    }
   ],
   "source": [
    "id2tech"
   ]
  },
  {
   "cell_type": "markdown",
   "metadata": {},
   "source": [
    "Remove *id_* prefix from *id2tech/id* column:"
   ]
  },
  {
   "cell_type": "code",
   "execution_count": 70,
   "metadata": {},
   "outputs": [],
   "source": [
    "#id2tech['id2tech/id'] = id2tech['id2tech/id'].str.replace('id_', '')"
   ]
  },
  {
   "cell_type": "markdown",
   "metadata": {},
   "source": [
    "Filter out rows containing *ImportFrom*:"
   ]
  },
  {
   "cell_type": "code",
   "execution_count": 71,
   "metadata": {},
   "outputs": [],
   "source": [
    "#id2tech = id2tech[~id2tech['id2tech/id'].str.contains('ImportFrom')]"
   ]
  },
  {
   "cell_type": "code",
   "execution_count": 72,
   "metadata": {},
   "outputs": [],
   "source": [
    "# Filter out rows containing \"nan\"\n",
    "#id2tech = id2tech[~id2tech['id2tech/id'].str.contains('nan')]"
   ]
  },
  {
   "cell_type": "markdown",
   "metadata": {},
   "source": [
    "### id2hvt"
   ]
  },
  {
   "cell_type": "markdown",
   "metadata": {},
   "source": [
    "Import from *id2hvt.xlsx*:"
   ]
  },
  {
   "cell_type": "code",
   "execution_count": 73,
   "metadata": {},
   "outputs": [],
   "source": [
    "id2hvt = pd.read_excel(os.path.join(os.getcwd(), 'id2hvt.xlsx')).rename(columns={\n",
    "    'id':'id2hvt/id',\n",
    "    'hvt':'id2hvt/hvt'})"
   ]
  },
  {
   "cell_type": "code",
   "execution_count": 74,
   "metadata": {},
   "outputs": [
    {
     "data": {
      "text/html": [
       "<div>\n",
       "<style scoped>\n",
       "    .dataframe tbody tr th:only-of-type {\n",
       "        vertical-align: middle;\n",
       "    }\n",
       "\n",
       "    .dataframe tbody tr th {\n",
       "        vertical-align: top;\n",
       "    }\n",
       "\n",
       "    .dataframe thead th {\n",
       "        text-align: right;\n",
       "    }\n",
       "</style>\n",
       "<table border=\"1\" class=\"dataframe\">\n",
       "  <thead>\n",
       "    <tr style=\"text-align: right;\">\n",
       "      <th></th>\n",
       "      <th>id2hvt/id</th>\n",
       "      <th>id2hvt/hvt</th>\n",
       "    </tr>\n",
       "  </thead>\n",
       "  <tbody>\n",
       "    <tr>\n",
       "      <th>0</th>\n",
       "      <td>id_DK_Central_SH</td>\n",
       "      <td>SH_DK_Central</td>\n",
       "    </tr>\n",
       "    <tr>\n",
       "      <th>1</th>\n",
       "      <td>id_DK_nan_PV</td>\n",
       "      <td>PV_DK</td>\n",
       "    </tr>\n",
       "    <tr>\n",
       "      <th>2</th>\n",
       "      <td>id_DK_nan_ROR</td>\n",
       "      <td>ROR_DK</td>\n",
       "    </tr>\n",
       "    <tr>\n",
       "      <th>3</th>\n",
       "      <td>id_DK_nan_WL</td>\n",
       "      <td>WL_DK</td>\n",
       "    </tr>\n",
       "    <tr>\n",
       "      <th>4</th>\n",
       "      <td>id_DK_nan_WS</td>\n",
       "      <td>WS_DK</td>\n",
       "    </tr>\n",
       "    <tr>\n",
       "      <th>5</th>\n",
       "      <td>id_DK_Central_BH_Biogas</td>\n",
       "      <td>Standard</td>\n",
       "    </tr>\n",
       "    <tr>\n",
       "      <th>6</th>\n",
       "      <td>id_DK_Central_BP_Biogas</td>\n",
       "      <td>Standard</td>\n",
       "    </tr>\n",
       "    <tr>\n",
       "      <th>7</th>\n",
       "      <td>id_DK_Central_IndustryH_Biogas</td>\n",
       "      <td>Standard</td>\n",
       "    </tr>\n",
       "    <tr>\n",
       "      <th>8</th>\n",
       "      <td>id_DK_Central_BH_Biomass</td>\n",
       "      <td>Standard</td>\n",
       "    </tr>\n",
       "    <tr>\n",
       "      <th>9</th>\n",
       "      <td>id_DK_Central_BP_Biomass</td>\n",
       "      <td>Standard</td>\n",
       "    </tr>\n",
       "    <tr>\n",
       "      <th>10</th>\n",
       "      <td>id_DK_Central_IndustryH_Biomass</td>\n",
       "      <td>Standard</td>\n",
       "    </tr>\n",
       "    <tr>\n",
       "      <th>11</th>\n",
       "      <td>id_DK_Central_BP_Coal</td>\n",
       "      <td>Standard</td>\n",
       "    </tr>\n",
       "    <tr>\n",
       "      <th>12</th>\n",
       "      <td>id_DK_Central_BH_Natgas</td>\n",
       "      <td>Standard</td>\n",
       "    </tr>\n",
       "    <tr>\n",
       "      <th>13</th>\n",
       "      <td>id_DK_Central_BP_Natgas</td>\n",
       "      <td>Standard</td>\n",
       "    </tr>\n",
       "    <tr>\n",
       "      <th>14</th>\n",
       "      <td>id_DK_Central_IndustryH_Natgas</td>\n",
       "      <td>Standard</td>\n",
       "    </tr>\n",
       "    <tr>\n",
       "      <th>15</th>\n",
       "      <td>id_DK_Central_BH_Oil</td>\n",
       "      <td>Standard</td>\n",
       "    </tr>\n",
       "    <tr>\n",
       "      <th>16</th>\n",
       "      <td>id_DK_Central_BP_Oil</td>\n",
       "      <td>Standard</td>\n",
       "    </tr>\n",
       "    <tr>\n",
       "      <th>17</th>\n",
       "      <td>id_DK_Central_IndustryH_Oil</td>\n",
       "      <td>Standard</td>\n",
       "    </tr>\n",
       "    <tr>\n",
       "      <th>18</th>\n",
       "      <td>id_DK_Central_BH_Waste</td>\n",
       "      <td>Standard</td>\n",
       "    </tr>\n",
       "    <tr>\n",
       "      <th>19</th>\n",
       "      <td>id_DK_Central_BP_Waste</td>\n",
       "      <td>Standard</td>\n",
       "    </tr>\n",
       "    <tr>\n",
       "      <th>20</th>\n",
       "      <td>id_DK_Central_EP</td>\n",
       "      <td>Standard</td>\n",
       "    </tr>\n",
       "    <tr>\n",
       "      <th>21</th>\n",
       "      <td>id_DK_Central_GT</td>\n",
       "      <td>Standard</td>\n",
       "    </tr>\n",
       "    <tr>\n",
       "      <th>22</th>\n",
       "      <td>id_DK_Central_HPstandard</td>\n",
       "      <td>Standard</td>\n",
       "    </tr>\n",
       "    <tr>\n",
       "      <th>23</th>\n",
       "      <td>id_DK_Central_HPsurplusheat</td>\n",
       "      <td>Standard</td>\n",
       "    </tr>\n",
       "    <tr>\n",
       "      <th>24</th>\n",
       "      <td>id_DK_Central_IH</td>\n",
       "      <td>Standard</td>\n",
       "    </tr>\n",
       "    <tr>\n",
       "      <th>25</th>\n",
       "      <td>id_DK_Central_IndustryH</td>\n",
       "      <td>Standard</td>\n",
       "    </tr>\n",
       "    <tr>\n",
       "      <th>26</th>\n",
       "      <td>id_DK_nan_CD_Biogas</td>\n",
       "      <td>Standard</td>\n",
       "    </tr>\n",
       "    <tr>\n",
       "      <th>27</th>\n",
       "      <td>id_DK_nan_IndustryE_Biogas</td>\n",
       "      <td>Standard</td>\n",
       "    </tr>\n",
       "    <tr>\n",
       "      <th>28</th>\n",
       "      <td>id_DK_nan_IndustryE_Biomass</td>\n",
       "      <td>Standard</td>\n",
       "    </tr>\n",
       "    <tr>\n",
       "      <th>29</th>\n",
       "      <td>id_DK_nan_CD_Coal</td>\n",
       "      <td>Standard</td>\n",
       "    </tr>\n",
       "    <tr>\n",
       "      <th>30</th>\n",
       "      <td>id_DK_nan_CD_Natgas</td>\n",
       "      <td>Standard</td>\n",
       "    </tr>\n",
       "    <tr>\n",
       "      <th>31</th>\n",
       "      <td>id_DK_nan_IndustryE_Natgas</td>\n",
       "      <td>Standard</td>\n",
       "    </tr>\n",
       "    <tr>\n",
       "      <th>32</th>\n",
       "      <td>id_DK_nan_CD_Oil</td>\n",
       "      <td>Standard</td>\n",
       "    </tr>\n",
       "    <tr>\n",
       "      <th>33</th>\n",
       "      <td>id_DK_nan_IndustryE_Oil</td>\n",
       "      <td>Standard</td>\n",
       "    </tr>\n",
       "  </tbody>\n",
       "</table>\n",
       "</div>"
      ],
      "text/plain": [
       "                          id2hvt/id     id2hvt/hvt\n",
       "0                  id_DK_Central_SH  SH_DK_Central\n",
       "1                      id_DK_nan_PV          PV_DK\n",
       "2                     id_DK_nan_ROR         ROR_DK\n",
       "3                      id_DK_nan_WL          WL_DK\n",
       "4                      id_DK_nan_WS          WS_DK\n",
       "5           id_DK_Central_BH_Biogas       Standard\n",
       "6           id_DK_Central_BP_Biogas       Standard\n",
       "7    id_DK_Central_IndustryH_Biogas       Standard\n",
       "8          id_DK_Central_BH_Biomass       Standard\n",
       "9          id_DK_Central_BP_Biomass       Standard\n",
       "10  id_DK_Central_IndustryH_Biomass       Standard\n",
       "11            id_DK_Central_BP_Coal       Standard\n",
       "12          id_DK_Central_BH_Natgas       Standard\n",
       "13          id_DK_Central_BP_Natgas       Standard\n",
       "14   id_DK_Central_IndustryH_Natgas       Standard\n",
       "15             id_DK_Central_BH_Oil       Standard\n",
       "16             id_DK_Central_BP_Oil       Standard\n",
       "17      id_DK_Central_IndustryH_Oil       Standard\n",
       "18           id_DK_Central_BH_Waste       Standard\n",
       "19           id_DK_Central_BP_Waste       Standard\n",
       "20                 id_DK_Central_EP       Standard\n",
       "21                 id_DK_Central_GT       Standard\n",
       "22         id_DK_Central_HPstandard       Standard\n",
       "23      id_DK_Central_HPsurplusheat       Standard\n",
       "24                 id_DK_Central_IH       Standard\n",
       "25          id_DK_Central_IndustryH       Standard\n",
       "26              id_DK_nan_CD_Biogas       Standard\n",
       "27       id_DK_nan_IndustryE_Biogas       Standard\n",
       "28      id_DK_nan_IndustryE_Biomass       Standard\n",
       "29                id_DK_nan_CD_Coal       Standard\n",
       "30              id_DK_nan_CD_Natgas       Standard\n",
       "31       id_DK_nan_IndustryE_Natgas       Standard\n",
       "32                 id_DK_nan_CD_Oil       Standard\n",
       "33          id_DK_nan_IndustryE_Oil       Standard"
      ]
     },
     "execution_count": 74,
     "metadata": {},
     "output_type": "execute_result"
    }
   ],
   "source": [
    "id2hvt"
   ]
  },
  {
   "cell_type": "markdown",
   "metadata": {},
   "source": [
    "Remove *id_* prefix from *id2hvt/id* column:"
   ]
  },
  {
   "cell_type": "code",
   "execution_count": 75,
   "metadata": {},
   "outputs": [],
   "source": [
    "#id2hvt['id2hvt/id'] = id2hvt['id2hvt/id'].str.replace('id_', '')"
   ]
  },
  {
   "cell_type": "markdown",
   "metadata": {},
   "source": [
    "Filter out rows containing *ImportFrom*:"
   ]
  },
  {
   "cell_type": "code",
   "execution_count": 76,
   "metadata": {},
   "outputs": [],
   "source": [
    "#id2hvt = id2hvt[~id2hvt['id2hvt/id'].str.contains('ImportFrom')]"
   ]
  },
  {
   "cell_type": "code",
   "execution_count": 77,
   "metadata": {},
   "outputs": [],
   "source": [
    "# Filter out rows containing \"nan\"\n",
    "#id2hvt = id2hvt[~id2hvt['id2hvt/id'].str.contains('nan')]"
   ]
  },
  {
   "cell_type": "markdown",
   "metadata": {},
   "source": [
    "### id2g_E"
   ]
  },
  {
   "cell_type": "markdown",
   "metadata": {},
   "source": [
    "Import from *id2g_E.xlsx*:"
   ]
  },
  {
   "cell_type": "code",
   "execution_count": 78,
   "metadata": {},
   "outputs": [],
   "source": [
    "id2g_E = pd.read_excel(os.path.join(os.getcwd(), 'id2g_E.xlsx')).rename(columns={\n",
    "    'id':'id2g_E/id',\n",
    "    'g_E':'id2g_E/g_E'})"
   ]
  },
  {
   "cell_type": "code",
   "execution_count": 79,
   "metadata": {},
   "outputs": [
    {
     "data": {
      "text/html": [
       "<div>\n",
       "<style scoped>\n",
       "    .dataframe tbody tr th:only-of-type {\n",
       "        vertical-align: middle;\n",
       "    }\n",
       "\n",
       "    .dataframe tbody tr th {\n",
       "        vertical-align: top;\n",
       "    }\n",
       "\n",
       "    .dataframe thead th {\n",
       "        text-align: right;\n",
       "    }\n",
       "</style>\n",
       "<table border=\"1\" class=\"dataframe\">\n",
       "  <thead>\n",
       "    <tr style=\"text-align: right;\">\n",
       "      <th></th>\n",
       "      <th>id2g_E/id</th>\n",
       "      <th>id2g_E/g_E</th>\n",
       "    </tr>\n",
       "  </thead>\n",
       "  <tbody>\n",
       "    <tr>\n",
       "      <th>0</th>\n",
       "      <td>id_DK_Central_BP_Biogas</td>\n",
       "      <td>DK</td>\n",
       "    </tr>\n",
       "    <tr>\n",
       "      <th>1</th>\n",
       "      <td>id_DK_Central_BP_Biomass</td>\n",
       "      <td>DK</td>\n",
       "    </tr>\n",
       "    <tr>\n",
       "      <th>2</th>\n",
       "      <td>id_DK_Central_BP_Coal</td>\n",
       "      <td>DK</td>\n",
       "    </tr>\n",
       "    <tr>\n",
       "      <th>3</th>\n",
       "      <td>id_DK_Central_BP_Natgas</td>\n",
       "      <td>DK</td>\n",
       "    </tr>\n",
       "    <tr>\n",
       "      <th>4</th>\n",
       "      <td>id_DK_Central_BP_Oil</td>\n",
       "      <td>DK</td>\n",
       "    </tr>\n",
       "    <tr>\n",
       "      <th>5</th>\n",
       "      <td>id_DK_Central_BP_Waste</td>\n",
       "      <td>DK</td>\n",
       "    </tr>\n",
       "    <tr>\n",
       "      <th>6</th>\n",
       "      <td>id_DK_Central_EP</td>\n",
       "      <td>DK</td>\n",
       "    </tr>\n",
       "    <tr>\n",
       "      <th>7</th>\n",
       "      <td>id_DK_Central_HPstandard</td>\n",
       "      <td>DK</td>\n",
       "    </tr>\n",
       "    <tr>\n",
       "      <th>8</th>\n",
       "      <td>id_DK_Central_HPsurplusheat</td>\n",
       "      <td>DK</td>\n",
       "    </tr>\n",
       "    <tr>\n",
       "      <th>9</th>\n",
       "      <td>id_DK_Central_IH</td>\n",
       "      <td>DK</td>\n",
       "    </tr>\n",
       "    <tr>\n",
       "      <th>10</th>\n",
       "      <td>id_DK_nan_CD_Biogas</td>\n",
       "      <td>DK</td>\n",
       "    </tr>\n",
       "    <tr>\n",
       "      <th>11</th>\n",
       "      <td>id_DK_nan_IndustryE_Biogas</td>\n",
       "      <td>DK</td>\n",
       "    </tr>\n",
       "    <tr>\n",
       "      <th>12</th>\n",
       "      <td>id_DK_nan_IndustryE_Biomass</td>\n",
       "      <td>DK</td>\n",
       "    </tr>\n",
       "    <tr>\n",
       "      <th>13</th>\n",
       "      <td>id_DK_nan_CD_Coal</td>\n",
       "      <td>DK</td>\n",
       "    </tr>\n",
       "    <tr>\n",
       "      <th>14</th>\n",
       "      <td>id_DK_nan_CD_Natgas</td>\n",
       "      <td>DK</td>\n",
       "    </tr>\n",
       "    <tr>\n",
       "      <th>15</th>\n",
       "      <td>id_DK_nan_IndustryE_Natgas</td>\n",
       "      <td>DK</td>\n",
       "    </tr>\n",
       "    <tr>\n",
       "      <th>16</th>\n",
       "      <td>id_DK_nan_CD_Oil</td>\n",
       "      <td>DK</td>\n",
       "    </tr>\n",
       "    <tr>\n",
       "      <th>17</th>\n",
       "      <td>id_DK_nan_IndustryE_Oil</td>\n",
       "      <td>DK</td>\n",
       "    </tr>\n",
       "    <tr>\n",
       "      <th>18</th>\n",
       "      <td>id_DK_nan_PV</td>\n",
       "      <td>DK</td>\n",
       "    </tr>\n",
       "    <tr>\n",
       "      <th>19</th>\n",
       "      <td>id_DK_nan_ROR</td>\n",
       "      <td>DK</td>\n",
       "    </tr>\n",
       "    <tr>\n",
       "      <th>20</th>\n",
       "      <td>id_DK_nan_WL</td>\n",
       "      <td>DK</td>\n",
       "    </tr>\n",
       "    <tr>\n",
       "      <th>21</th>\n",
       "      <td>id_DK_nan_WS</td>\n",
       "      <td>DK</td>\n",
       "    </tr>\n",
       "  </tbody>\n",
       "</table>\n",
       "</div>"
      ],
      "text/plain": [
       "                      id2g_E/id id2g_E/g_E\n",
       "0       id_DK_Central_BP_Biogas         DK\n",
       "1      id_DK_Central_BP_Biomass         DK\n",
       "2         id_DK_Central_BP_Coal         DK\n",
       "3       id_DK_Central_BP_Natgas         DK\n",
       "4          id_DK_Central_BP_Oil         DK\n",
       "5        id_DK_Central_BP_Waste         DK\n",
       "6              id_DK_Central_EP         DK\n",
       "7      id_DK_Central_HPstandard         DK\n",
       "8   id_DK_Central_HPsurplusheat         DK\n",
       "9              id_DK_Central_IH         DK\n",
       "10          id_DK_nan_CD_Biogas         DK\n",
       "11   id_DK_nan_IndustryE_Biogas         DK\n",
       "12  id_DK_nan_IndustryE_Biomass         DK\n",
       "13            id_DK_nan_CD_Coal         DK\n",
       "14          id_DK_nan_CD_Natgas         DK\n",
       "15   id_DK_nan_IndustryE_Natgas         DK\n",
       "16             id_DK_nan_CD_Oil         DK\n",
       "17      id_DK_nan_IndustryE_Oil         DK\n",
       "18                 id_DK_nan_PV         DK\n",
       "19                id_DK_nan_ROR         DK\n",
       "20                 id_DK_nan_WL         DK\n",
       "21                 id_DK_nan_WS         DK"
      ]
     },
     "execution_count": 79,
     "metadata": {},
     "output_type": "execute_result"
    }
   ],
   "source": [
    "id2g_E"
   ]
  },
  {
   "cell_type": "markdown",
   "metadata": {},
   "source": [
    "Remove *id_* prefix from *id2g_E/id* column:"
   ]
  },
  {
   "cell_type": "code",
   "execution_count": 80,
   "metadata": {},
   "outputs": [],
   "source": [
    "#id2g_E['id2g_E/id'] = id2g_E['id2g_E/id'].str.replace('id_', '')"
   ]
  },
  {
   "cell_type": "markdown",
   "metadata": {},
   "source": [
    "Filter out rows containing *ImportFrom*:"
   ]
  },
  {
   "cell_type": "code",
   "execution_count": 81,
   "metadata": {},
   "outputs": [],
   "source": [
    "#id2g_E = id2g_E[~id2g_E['id2g_E/id'].str.contains('ImportFrom')]"
   ]
  },
  {
   "cell_type": "code",
   "execution_count": 82,
   "metadata": {},
   "outputs": [],
   "source": [
    "# Filter out rows containing \"nan\"\n",
    "#id2g_E = id2g_E[~id2g_E['id2g_E/id'].str.contains('nan')]"
   ]
  },
  {
   "cell_type": "markdown",
   "metadata": {},
   "source": [
    "### id2g_H"
   ]
  },
  {
   "cell_type": "markdown",
   "metadata": {},
   "source": [
    "Import from *id2g_H.xlsx*:"
   ]
  },
  {
   "cell_type": "code",
   "execution_count": 83,
   "metadata": {},
   "outputs": [],
   "source": [
    "id2g_H = pd.read_excel(os.path.join(os.getcwd(), 'id2g_H.xlsx')).rename(columns={\n",
    "    'id':'id2g_H/id',\n",
    "    'g_H':'id2g_H/g_H'})"
   ]
  },
  {
   "cell_type": "code",
   "execution_count": 84,
   "metadata": {},
   "outputs": [
    {
     "data": {
      "text/html": [
       "<div>\n",
       "<style scoped>\n",
       "    .dataframe tbody tr th:only-of-type {\n",
       "        vertical-align: middle;\n",
       "    }\n",
       "\n",
       "    .dataframe tbody tr th {\n",
       "        vertical-align: top;\n",
       "    }\n",
       "\n",
       "    .dataframe thead th {\n",
       "        text-align: right;\n",
       "    }\n",
       "</style>\n",
       "<table border=\"1\" class=\"dataframe\">\n",
       "  <thead>\n",
       "    <tr style=\"text-align: right;\">\n",
       "      <th></th>\n",
       "      <th>id2g_H/id</th>\n",
       "      <th>id2g_H/g_H</th>\n",
       "    </tr>\n",
       "  </thead>\n",
       "  <tbody>\n",
       "    <tr>\n",
       "      <th>0</th>\n",
       "      <td>id_DK_Central_BH_Biogas</td>\n",
       "      <td>DK_Central</td>\n",
       "    </tr>\n",
       "    <tr>\n",
       "      <th>1</th>\n",
       "      <td>id_DK_Central_BP_Biogas</td>\n",
       "      <td>DK_Central</td>\n",
       "    </tr>\n",
       "    <tr>\n",
       "      <th>2</th>\n",
       "      <td>id_DK_Central_IndustryH_Biogas</td>\n",
       "      <td>DK_Central</td>\n",
       "    </tr>\n",
       "    <tr>\n",
       "      <th>3</th>\n",
       "      <td>id_DK_Central_BH_Biomass</td>\n",
       "      <td>DK_Central</td>\n",
       "    </tr>\n",
       "    <tr>\n",
       "      <th>4</th>\n",
       "      <td>id_DK_Central_BP_Biomass</td>\n",
       "      <td>DK_Central</td>\n",
       "    </tr>\n",
       "    <tr>\n",
       "      <th>5</th>\n",
       "      <td>id_DK_Central_IndustryH_Biomass</td>\n",
       "      <td>DK_Central</td>\n",
       "    </tr>\n",
       "    <tr>\n",
       "      <th>6</th>\n",
       "      <td>id_DK_Central_BP_Coal</td>\n",
       "      <td>DK_Central</td>\n",
       "    </tr>\n",
       "    <tr>\n",
       "      <th>7</th>\n",
       "      <td>id_DK_Central_BH_Natgas</td>\n",
       "      <td>DK_Central</td>\n",
       "    </tr>\n",
       "    <tr>\n",
       "      <th>8</th>\n",
       "      <td>id_DK_Central_BP_Natgas</td>\n",
       "      <td>DK_Central</td>\n",
       "    </tr>\n",
       "    <tr>\n",
       "      <th>9</th>\n",
       "      <td>id_DK_Central_IndustryH_Natgas</td>\n",
       "      <td>DK_Central</td>\n",
       "    </tr>\n",
       "    <tr>\n",
       "      <th>10</th>\n",
       "      <td>id_DK_Central_BH_Oil</td>\n",
       "      <td>DK_Central</td>\n",
       "    </tr>\n",
       "    <tr>\n",
       "      <th>11</th>\n",
       "      <td>id_DK_Central_BP_Oil</td>\n",
       "      <td>DK_Central</td>\n",
       "    </tr>\n",
       "    <tr>\n",
       "      <th>12</th>\n",
       "      <td>id_DK_Central_IndustryH_Oil</td>\n",
       "      <td>DK_Central</td>\n",
       "    </tr>\n",
       "    <tr>\n",
       "      <th>13</th>\n",
       "      <td>id_DK_Central_BH_Waste</td>\n",
       "      <td>DK_Central</td>\n",
       "    </tr>\n",
       "    <tr>\n",
       "      <th>14</th>\n",
       "      <td>id_DK_Central_BP_Waste</td>\n",
       "      <td>DK_Central</td>\n",
       "    </tr>\n",
       "    <tr>\n",
       "      <th>15</th>\n",
       "      <td>id_DK_Central_EP</td>\n",
       "      <td>DK_Central</td>\n",
       "    </tr>\n",
       "    <tr>\n",
       "      <th>16</th>\n",
       "      <td>id_DK_Central_GT</td>\n",
       "      <td>DK_Central</td>\n",
       "    </tr>\n",
       "    <tr>\n",
       "      <th>17</th>\n",
       "      <td>id_DK_Central_HPstandard</td>\n",
       "      <td>DK_Central</td>\n",
       "    </tr>\n",
       "    <tr>\n",
       "      <th>18</th>\n",
       "      <td>id_DK_Central_HPsurplusheat</td>\n",
       "      <td>DK_Central</td>\n",
       "    </tr>\n",
       "    <tr>\n",
       "      <th>19</th>\n",
       "      <td>id_DK_Central_IH</td>\n",
       "      <td>DK_Central</td>\n",
       "    </tr>\n",
       "    <tr>\n",
       "      <th>20</th>\n",
       "      <td>id_DK_Central_IndustryH</td>\n",
       "      <td>DK_Central</td>\n",
       "    </tr>\n",
       "    <tr>\n",
       "      <th>21</th>\n",
       "      <td>id_DK_Central_SH</td>\n",
       "      <td>DK_Central</td>\n",
       "    </tr>\n",
       "  </tbody>\n",
       "</table>\n",
       "</div>"
      ],
      "text/plain": [
       "                          id2g_H/id  id2g_H/g_H\n",
       "0           id_DK_Central_BH_Biogas  DK_Central\n",
       "1           id_DK_Central_BP_Biogas  DK_Central\n",
       "2    id_DK_Central_IndustryH_Biogas  DK_Central\n",
       "3          id_DK_Central_BH_Biomass  DK_Central\n",
       "4          id_DK_Central_BP_Biomass  DK_Central\n",
       "5   id_DK_Central_IndustryH_Biomass  DK_Central\n",
       "6             id_DK_Central_BP_Coal  DK_Central\n",
       "7           id_DK_Central_BH_Natgas  DK_Central\n",
       "8           id_DK_Central_BP_Natgas  DK_Central\n",
       "9    id_DK_Central_IndustryH_Natgas  DK_Central\n",
       "10             id_DK_Central_BH_Oil  DK_Central\n",
       "11             id_DK_Central_BP_Oil  DK_Central\n",
       "12      id_DK_Central_IndustryH_Oil  DK_Central\n",
       "13           id_DK_Central_BH_Waste  DK_Central\n",
       "14           id_DK_Central_BP_Waste  DK_Central\n",
       "15                 id_DK_Central_EP  DK_Central\n",
       "16                 id_DK_Central_GT  DK_Central\n",
       "17         id_DK_Central_HPstandard  DK_Central\n",
       "18      id_DK_Central_HPsurplusheat  DK_Central\n",
       "19                 id_DK_Central_IH  DK_Central\n",
       "20          id_DK_Central_IndustryH  DK_Central\n",
       "21                 id_DK_Central_SH  DK_Central"
      ]
     },
     "execution_count": 84,
     "metadata": {},
     "output_type": "execute_result"
    }
   ],
   "source": [
    "id2g_H"
   ]
  },
  {
   "cell_type": "markdown",
   "metadata": {},
   "source": [
    "Remove *id_* prefix from *id2g_H/id* column:"
   ]
  },
  {
   "cell_type": "code",
   "execution_count": 85,
   "metadata": {},
   "outputs": [],
   "source": [
    "#id2g_H['id2g_H/id'] = id2g_H['id2g_H/id'].str.replace('id_', '')"
   ]
  },
  {
   "cell_type": "markdown",
   "metadata": {},
   "source": [
    "Merge *id2g_E* and *id2g_H*:"
   ]
  },
  {
   "cell_type": "code",
   "execution_count": 86,
   "metadata": {},
   "outputs": [],
   "source": [
    "id2g = pd.concat([id2g_E,id2g_H], axis=1).reset_index(drop=True)"
   ]
  },
  {
   "cell_type": "code",
   "execution_count": 87,
   "metadata": {},
   "outputs": [
    {
     "data": {
      "text/html": [
       "<div>\n",
       "<style scoped>\n",
       "    .dataframe tbody tr th:only-of-type {\n",
       "        vertical-align: middle;\n",
       "    }\n",
       "\n",
       "    .dataframe tbody tr th {\n",
       "        vertical-align: top;\n",
       "    }\n",
       "\n",
       "    .dataframe thead th {\n",
       "        text-align: right;\n",
       "    }\n",
       "</style>\n",
       "<table border=\"1\" class=\"dataframe\">\n",
       "  <thead>\n",
       "    <tr style=\"text-align: right;\">\n",
       "      <th></th>\n",
       "      <th>id2g_E/id</th>\n",
       "      <th>id2g_E/g_E</th>\n",
       "      <th>id2g_H/id</th>\n",
       "      <th>id2g_H/g_H</th>\n",
       "    </tr>\n",
       "  </thead>\n",
       "  <tbody>\n",
       "    <tr>\n",
       "      <th>0</th>\n",
       "      <td>id_DK_Central_BP_Biogas</td>\n",
       "      <td>DK</td>\n",
       "      <td>id_DK_Central_BH_Biogas</td>\n",
       "      <td>DK_Central</td>\n",
       "    </tr>\n",
       "    <tr>\n",
       "      <th>1</th>\n",
       "      <td>id_DK_Central_BP_Biomass</td>\n",
       "      <td>DK</td>\n",
       "      <td>id_DK_Central_BP_Biogas</td>\n",
       "      <td>DK_Central</td>\n",
       "    </tr>\n",
       "    <tr>\n",
       "      <th>2</th>\n",
       "      <td>id_DK_Central_BP_Coal</td>\n",
       "      <td>DK</td>\n",
       "      <td>id_DK_Central_IndustryH_Biogas</td>\n",
       "      <td>DK_Central</td>\n",
       "    </tr>\n",
       "    <tr>\n",
       "      <th>3</th>\n",
       "      <td>id_DK_Central_BP_Natgas</td>\n",
       "      <td>DK</td>\n",
       "      <td>id_DK_Central_BH_Biomass</td>\n",
       "      <td>DK_Central</td>\n",
       "    </tr>\n",
       "    <tr>\n",
       "      <th>4</th>\n",
       "      <td>id_DK_Central_BP_Oil</td>\n",
       "      <td>DK</td>\n",
       "      <td>id_DK_Central_BP_Biomass</td>\n",
       "      <td>DK_Central</td>\n",
       "    </tr>\n",
       "    <tr>\n",
       "      <th>5</th>\n",
       "      <td>id_DK_Central_BP_Waste</td>\n",
       "      <td>DK</td>\n",
       "      <td>id_DK_Central_IndustryH_Biomass</td>\n",
       "      <td>DK_Central</td>\n",
       "    </tr>\n",
       "    <tr>\n",
       "      <th>6</th>\n",
       "      <td>id_DK_Central_EP</td>\n",
       "      <td>DK</td>\n",
       "      <td>id_DK_Central_BP_Coal</td>\n",
       "      <td>DK_Central</td>\n",
       "    </tr>\n",
       "    <tr>\n",
       "      <th>7</th>\n",
       "      <td>id_DK_Central_HPstandard</td>\n",
       "      <td>DK</td>\n",
       "      <td>id_DK_Central_BH_Natgas</td>\n",
       "      <td>DK_Central</td>\n",
       "    </tr>\n",
       "    <tr>\n",
       "      <th>8</th>\n",
       "      <td>id_DK_Central_HPsurplusheat</td>\n",
       "      <td>DK</td>\n",
       "      <td>id_DK_Central_BP_Natgas</td>\n",
       "      <td>DK_Central</td>\n",
       "    </tr>\n",
       "    <tr>\n",
       "      <th>9</th>\n",
       "      <td>id_DK_Central_IH</td>\n",
       "      <td>DK</td>\n",
       "      <td>id_DK_Central_IndustryH_Natgas</td>\n",
       "      <td>DK_Central</td>\n",
       "    </tr>\n",
       "    <tr>\n",
       "      <th>10</th>\n",
       "      <td>id_DK_nan_CD_Biogas</td>\n",
       "      <td>DK</td>\n",
       "      <td>id_DK_Central_BH_Oil</td>\n",
       "      <td>DK_Central</td>\n",
       "    </tr>\n",
       "    <tr>\n",
       "      <th>11</th>\n",
       "      <td>id_DK_nan_IndustryE_Biogas</td>\n",
       "      <td>DK</td>\n",
       "      <td>id_DK_Central_BP_Oil</td>\n",
       "      <td>DK_Central</td>\n",
       "    </tr>\n",
       "    <tr>\n",
       "      <th>12</th>\n",
       "      <td>id_DK_nan_IndustryE_Biomass</td>\n",
       "      <td>DK</td>\n",
       "      <td>id_DK_Central_IndustryH_Oil</td>\n",
       "      <td>DK_Central</td>\n",
       "    </tr>\n",
       "    <tr>\n",
       "      <th>13</th>\n",
       "      <td>id_DK_nan_CD_Coal</td>\n",
       "      <td>DK</td>\n",
       "      <td>id_DK_Central_BH_Waste</td>\n",
       "      <td>DK_Central</td>\n",
       "    </tr>\n",
       "    <tr>\n",
       "      <th>14</th>\n",
       "      <td>id_DK_nan_CD_Natgas</td>\n",
       "      <td>DK</td>\n",
       "      <td>id_DK_Central_BP_Waste</td>\n",
       "      <td>DK_Central</td>\n",
       "    </tr>\n",
       "    <tr>\n",
       "      <th>15</th>\n",
       "      <td>id_DK_nan_IndustryE_Natgas</td>\n",
       "      <td>DK</td>\n",
       "      <td>id_DK_Central_EP</td>\n",
       "      <td>DK_Central</td>\n",
       "    </tr>\n",
       "    <tr>\n",
       "      <th>16</th>\n",
       "      <td>id_DK_nan_CD_Oil</td>\n",
       "      <td>DK</td>\n",
       "      <td>id_DK_Central_GT</td>\n",
       "      <td>DK_Central</td>\n",
       "    </tr>\n",
       "    <tr>\n",
       "      <th>17</th>\n",
       "      <td>id_DK_nan_IndustryE_Oil</td>\n",
       "      <td>DK</td>\n",
       "      <td>id_DK_Central_HPstandard</td>\n",
       "      <td>DK_Central</td>\n",
       "    </tr>\n",
       "    <tr>\n",
       "      <th>18</th>\n",
       "      <td>id_DK_nan_PV</td>\n",
       "      <td>DK</td>\n",
       "      <td>id_DK_Central_HPsurplusheat</td>\n",
       "      <td>DK_Central</td>\n",
       "    </tr>\n",
       "    <tr>\n",
       "      <th>19</th>\n",
       "      <td>id_DK_nan_ROR</td>\n",
       "      <td>DK</td>\n",
       "      <td>id_DK_Central_IH</td>\n",
       "      <td>DK_Central</td>\n",
       "    </tr>\n",
       "    <tr>\n",
       "      <th>20</th>\n",
       "      <td>id_DK_nan_WL</td>\n",
       "      <td>DK</td>\n",
       "      <td>id_DK_Central_IndustryH</td>\n",
       "      <td>DK_Central</td>\n",
       "    </tr>\n",
       "    <tr>\n",
       "      <th>21</th>\n",
       "      <td>id_DK_nan_WS</td>\n",
       "      <td>DK</td>\n",
       "      <td>id_DK_Central_SH</td>\n",
       "      <td>DK_Central</td>\n",
       "    </tr>\n",
       "  </tbody>\n",
       "</table>\n",
       "</div>"
      ],
      "text/plain": [
       "                      id2g_E/id id2g_E/g_E                        id2g_H/id  \\\n",
       "0       id_DK_Central_BP_Biogas         DK          id_DK_Central_BH_Biogas   \n",
       "1      id_DK_Central_BP_Biomass         DK          id_DK_Central_BP_Biogas   \n",
       "2         id_DK_Central_BP_Coal         DK   id_DK_Central_IndustryH_Biogas   \n",
       "3       id_DK_Central_BP_Natgas         DK         id_DK_Central_BH_Biomass   \n",
       "4          id_DK_Central_BP_Oil         DK         id_DK_Central_BP_Biomass   \n",
       "5        id_DK_Central_BP_Waste         DK  id_DK_Central_IndustryH_Biomass   \n",
       "6              id_DK_Central_EP         DK            id_DK_Central_BP_Coal   \n",
       "7      id_DK_Central_HPstandard         DK          id_DK_Central_BH_Natgas   \n",
       "8   id_DK_Central_HPsurplusheat         DK          id_DK_Central_BP_Natgas   \n",
       "9              id_DK_Central_IH         DK   id_DK_Central_IndustryH_Natgas   \n",
       "10          id_DK_nan_CD_Biogas         DK             id_DK_Central_BH_Oil   \n",
       "11   id_DK_nan_IndustryE_Biogas         DK             id_DK_Central_BP_Oil   \n",
       "12  id_DK_nan_IndustryE_Biomass         DK      id_DK_Central_IndustryH_Oil   \n",
       "13            id_DK_nan_CD_Coal         DK           id_DK_Central_BH_Waste   \n",
       "14          id_DK_nan_CD_Natgas         DK           id_DK_Central_BP_Waste   \n",
       "15   id_DK_nan_IndustryE_Natgas         DK                 id_DK_Central_EP   \n",
       "16             id_DK_nan_CD_Oil         DK                 id_DK_Central_GT   \n",
       "17      id_DK_nan_IndustryE_Oil         DK         id_DK_Central_HPstandard   \n",
       "18                 id_DK_nan_PV         DK      id_DK_Central_HPsurplusheat   \n",
       "19                id_DK_nan_ROR         DK                 id_DK_Central_IH   \n",
       "20                 id_DK_nan_WL         DK          id_DK_Central_IndustryH   \n",
       "21                 id_DK_nan_WS         DK                 id_DK_Central_SH   \n",
       "\n",
       "    id2g_H/g_H  \n",
       "0   DK_Central  \n",
       "1   DK_Central  \n",
       "2   DK_Central  \n",
       "3   DK_Central  \n",
       "4   DK_Central  \n",
       "5   DK_Central  \n",
       "6   DK_Central  \n",
       "7   DK_Central  \n",
       "8   DK_Central  \n",
       "9   DK_Central  \n",
       "10  DK_Central  \n",
       "11  DK_Central  \n",
       "12  DK_Central  \n",
       "13  DK_Central  \n",
       "14  DK_Central  \n",
       "15  DK_Central  \n",
       "16  DK_Central  \n",
       "17  DK_Central  \n",
       "18  DK_Central  \n",
       "19  DK_Central  \n",
       "20  DK_Central  \n",
       "21  DK_Central  "
      ]
     },
     "execution_count": 87,
     "metadata": {},
     "output_type": "execute_result"
    }
   ],
   "source": [
    "id2g"
   ]
  },
  {
   "cell_type": "markdown",
   "metadata": {},
   "source": [
    "### tech2modelTech"
   ]
  },
  {
   "cell_type": "markdown",
   "metadata": {},
   "source": [
    "Import from *tech2modelTech.xlsx*:"
   ]
  },
  {
   "cell_type": "code",
   "execution_count": 88,
   "metadata": {},
   "outputs": [],
   "source": [
    "tech2modelTech = pd.read_excel(os.path.join(os.getcwd(), 'tech2modelTech.xlsx')).rename(columns={\n",
    "    'tech':'tech2modelTech/tech',\n",
    "    'modelTech':'tech2modelTech/modelTech'})"
   ]
  },
  {
   "cell_type": "code",
   "execution_count": 89,
   "metadata": {},
   "outputs": [
    {
     "data": {
      "text/html": [
       "<div>\n",
       "<style scoped>\n",
       "    .dataframe tbody tr th:only-of-type {\n",
       "        vertical-align: middle;\n",
       "    }\n",
       "\n",
       "    .dataframe tbody tr th {\n",
       "        vertical-align: top;\n",
       "    }\n",
       "\n",
       "    .dataframe thead th {\n",
       "        text-align: right;\n",
       "    }\n",
       "</style>\n",
       "<table border=\"1\" class=\"dataframe\">\n",
       "  <thead>\n",
       "    <tr style=\"text-align: right;\">\n",
       "      <th></th>\n",
       "      <th>tech2modelTech/tech</th>\n",
       "      <th>tech2modelTech/modelTech</th>\n",
       "    </tr>\n",
       "  </thead>\n",
       "  <tbody>\n",
       "    <tr>\n",
       "      <th>0</th>\n",
       "      <td>BH_Biogas</td>\n",
       "      <td>standard_H</td>\n",
       "    </tr>\n",
       "    <tr>\n",
       "      <th>1</th>\n",
       "      <td>BP_Biogas</td>\n",
       "      <td>BP</td>\n",
       "    </tr>\n",
       "    <tr>\n",
       "      <th>2</th>\n",
       "      <td>IndustryH_Biogas</td>\n",
       "      <td>standard_H</td>\n",
       "    </tr>\n",
       "    <tr>\n",
       "      <th>3</th>\n",
       "      <td>BH_Biomass</td>\n",
       "      <td>standard_H</td>\n",
       "    </tr>\n",
       "    <tr>\n",
       "      <th>4</th>\n",
       "      <td>BP_Biomass</td>\n",
       "      <td>BP</td>\n",
       "    </tr>\n",
       "    <tr>\n",
       "      <th>5</th>\n",
       "      <td>IndustryH_Biomass</td>\n",
       "      <td>standard_H</td>\n",
       "    </tr>\n",
       "    <tr>\n",
       "      <th>6</th>\n",
       "      <td>BP_Coal</td>\n",
       "      <td>BP</td>\n",
       "    </tr>\n",
       "    <tr>\n",
       "      <th>7</th>\n",
       "      <td>BH_Natgas</td>\n",
       "      <td>standard_H</td>\n",
       "    </tr>\n",
       "    <tr>\n",
       "      <th>8</th>\n",
       "      <td>BP_Natgas</td>\n",
       "      <td>BP</td>\n",
       "    </tr>\n",
       "    <tr>\n",
       "      <th>9</th>\n",
       "      <td>IndustryH_Natgas</td>\n",
       "      <td>standard_H</td>\n",
       "    </tr>\n",
       "    <tr>\n",
       "      <th>10</th>\n",
       "      <td>BH_Oil</td>\n",
       "      <td>standard_H</td>\n",
       "    </tr>\n",
       "    <tr>\n",
       "      <th>11</th>\n",
       "      <td>BP_Oil</td>\n",
       "      <td>BP</td>\n",
       "    </tr>\n",
       "    <tr>\n",
       "      <th>12</th>\n",
       "      <td>IndustryH_Oil</td>\n",
       "      <td>standard_H</td>\n",
       "    </tr>\n",
       "    <tr>\n",
       "      <th>13</th>\n",
       "      <td>BH_Waste</td>\n",
       "      <td>standard_H</td>\n",
       "    </tr>\n",
       "    <tr>\n",
       "      <th>14</th>\n",
       "      <td>BP_Waste</td>\n",
       "      <td>BP</td>\n",
       "    </tr>\n",
       "    <tr>\n",
       "      <th>15</th>\n",
       "      <td>EP</td>\n",
       "      <td>HP</td>\n",
       "    </tr>\n",
       "    <tr>\n",
       "      <th>16</th>\n",
       "      <td>GT</td>\n",
       "      <td>standard_H</td>\n",
       "    </tr>\n",
       "    <tr>\n",
       "      <th>17</th>\n",
       "      <td>HPstandard</td>\n",
       "      <td>HP</td>\n",
       "    </tr>\n",
       "    <tr>\n",
       "      <th>18</th>\n",
       "      <td>HPsurplusheat</td>\n",
       "      <td>HP</td>\n",
       "    </tr>\n",
       "    <tr>\n",
       "      <th>19</th>\n",
       "      <td>IH</td>\n",
       "      <td>HP</td>\n",
       "    </tr>\n",
       "    <tr>\n",
       "      <th>20</th>\n",
       "      <td>IndustryH</td>\n",
       "      <td>standard_H</td>\n",
       "    </tr>\n",
       "    <tr>\n",
       "      <th>21</th>\n",
       "      <td>SH</td>\n",
       "      <td>standard_H</td>\n",
       "    </tr>\n",
       "    <tr>\n",
       "      <th>22</th>\n",
       "      <td>CD_Biogas</td>\n",
       "      <td>standard_E</td>\n",
       "    </tr>\n",
       "    <tr>\n",
       "      <th>23</th>\n",
       "      <td>IndustryE_Biogas</td>\n",
       "      <td>standard_E</td>\n",
       "    </tr>\n",
       "    <tr>\n",
       "      <th>24</th>\n",
       "      <td>IndustryE_Biomass</td>\n",
       "      <td>standard_E</td>\n",
       "    </tr>\n",
       "    <tr>\n",
       "      <th>25</th>\n",
       "      <td>CD_Coal</td>\n",
       "      <td>standard_E</td>\n",
       "    </tr>\n",
       "    <tr>\n",
       "      <th>26</th>\n",
       "      <td>CD_Natgas</td>\n",
       "      <td>standard_E</td>\n",
       "    </tr>\n",
       "    <tr>\n",
       "      <th>27</th>\n",
       "      <td>IndustryE_Natgas</td>\n",
       "      <td>standard_E</td>\n",
       "    </tr>\n",
       "    <tr>\n",
       "      <th>28</th>\n",
       "      <td>CD_Oil</td>\n",
       "      <td>standard_E</td>\n",
       "    </tr>\n",
       "    <tr>\n",
       "      <th>29</th>\n",
       "      <td>IndustryE_Oil</td>\n",
       "      <td>standard_E</td>\n",
       "    </tr>\n",
       "    <tr>\n",
       "      <th>30</th>\n",
       "      <td>PV</td>\n",
       "      <td>standard_E</td>\n",
       "    </tr>\n",
       "    <tr>\n",
       "      <th>31</th>\n",
       "      <td>ROR</td>\n",
       "      <td>standard_E</td>\n",
       "    </tr>\n",
       "    <tr>\n",
       "      <th>32</th>\n",
       "      <td>WL</td>\n",
       "      <td>standard_E</td>\n",
       "    </tr>\n",
       "    <tr>\n",
       "      <th>33</th>\n",
       "      <td>WS</td>\n",
       "      <td>standard_E</td>\n",
       "    </tr>\n",
       "  </tbody>\n",
       "</table>\n",
       "</div>"
      ],
      "text/plain": [
       "   tech2modelTech/tech tech2modelTech/modelTech\n",
       "0            BH_Biogas               standard_H\n",
       "1            BP_Biogas                       BP\n",
       "2     IndustryH_Biogas               standard_H\n",
       "3           BH_Biomass               standard_H\n",
       "4           BP_Biomass                       BP\n",
       "5    IndustryH_Biomass               standard_H\n",
       "6              BP_Coal                       BP\n",
       "7            BH_Natgas               standard_H\n",
       "8            BP_Natgas                       BP\n",
       "9     IndustryH_Natgas               standard_H\n",
       "10              BH_Oil               standard_H\n",
       "11              BP_Oil                       BP\n",
       "12       IndustryH_Oil               standard_H\n",
       "13            BH_Waste               standard_H\n",
       "14            BP_Waste                       BP\n",
       "15                  EP                       HP\n",
       "16                  GT               standard_H\n",
       "17          HPstandard                       HP\n",
       "18       HPsurplusheat                       HP\n",
       "19                  IH                       HP\n",
       "20           IndustryH               standard_H\n",
       "21                  SH               standard_H\n",
       "22           CD_Biogas               standard_E\n",
       "23    IndustryE_Biogas               standard_E\n",
       "24   IndustryE_Biomass               standard_E\n",
       "25             CD_Coal               standard_E\n",
       "26           CD_Natgas               standard_E\n",
       "27    IndustryE_Natgas               standard_E\n",
       "28              CD_Oil               standard_E\n",
       "29       IndustryE_Oil               standard_E\n",
       "30                  PV               standard_E\n",
       "31                 ROR               standard_E\n",
       "32                  WL               standard_E\n",
       "33                  WS               standard_E"
      ]
     },
     "execution_count": 89,
     "metadata": {},
     "output_type": "execute_result"
    }
   ],
   "source": [
    "tech2modelTech"
   ]
  },
  {
   "cell_type": "markdown",
   "metadata": {},
   "source": [
    "### Put dataframes together"
   ]
  },
  {
   "cell_type": "code",
   "execution_count": 90,
   "metadata": {},
   "outputs": [],
   "source": [
    "GeneratorsMaps_df = pd.concat([id2tech,id2hvt,id2g,tech2modelTech], axis=1)"
   ]
  },
  {
   "cell_type": "code",
   "execution_count": 91,
   "metadata": {},
   "outputs": [
    {
     "data": {
      "text/html": [
       "<div>\n",
       "<style scoped>\n",
       "    .dataframe tbody tr th:only-of-type {\n",
       "        vertical-align: middle;\n",
       "    }\n",
       "\n",
       "    .dataframe tbody tr th {\n",
       "        vertical-align: top;\n",
       "    }\n",
       "\n",
       "    .dataframe thead th {\n",
       "        text-align: right;\n",
       "    }\n",
       "</style>\n",
       "<table border=\"1\" class=\"dataframe\">\n",
       "  <thead>\n",
       "    <tr style=\"text-align: right;\">\n",
       "      <th></th>\n",
       "      <th>id2tech/id</th>\n",
       "      <th>id2tech/tech</th>\n",
       "      <th>id2hvt/id</th>\n",
       "      <th>id2hvt/hvt</th>\n",
       "      <th>id2g_E/id</th>\n",
       "      <th>id2g_E/g_E</th>\n",
       "      <th>id2g_H/id</th>\n",
       "      <th>id2g_H/g_H</th>\n",
       "      <th>tech2modelTech/tech</th>\n",
       "      <th>tech2modelTech/modelTech</th>\n",
       "    </tr>\n",
       "  </thead>\n",
       "  <tbody>\n",
       "    <tr>\n",
       "      <th>0</th>\n",
       "      <td>id_DK_Central_BH_Biogas</td>\n",
       "      <td>BH_Biogas</td>\n",
       "      <td>id_DK_Central_SH</td>\n",
       "      <td>SH_DK_Central</td>\n",
       "      <td>id_DK_Central_BP_Biogas</td>\n",
       "      <td>DK</td>\n",
       "      <td>id_DK_Central_BH_Biogas</td>\n",
       "      <td>DK_Central</td>\n",
       "      <td>BH_Biogas</td>\n",
       "      <td>standard_H</td>\n",
       "    </tr>\n",
       "    <tr>\n",
       "      <th>1</th>\n",
       "      <td>id_DK_Central_BP_Biogas</td>\n",
       "      <td>BP_Biogas</td>\n",
       "      <td>id_DK_nan_PV</td>\n",
       "      <td>PV_DK</td>\n",
       "      <td>id_DK_Central_BP_Biomass</td>\n",
       "      <td>DK</td>\n",
       "      <td>id_DK_Central_BP_Biogas</td>\n",
       "      <td>DK_Central</td>\n",
       "      <td>BP_Biogas</td>\n",
       "      <td>BP</td>\n",
       "    </tr>\n",
       "    <tr>\n",
       "      <th>2</th>\n",
       "      <td>id_DK_Central_IndustryH_Biogas</td>\n",
       "      <td>IndustryH_Biogas</td>\n",
       "      <td>id_DK_nan_ROR</td>\n",
       "      <td>ROR_DK</td>\n",
       "      <td>id_DK_Central_BP_Coal</td>\n",
       "      <td>DK</td>\n",
       "      <td>id_DK_Central_IndustryH_Biogas</td>\n",
       "      <td>DK_Central</td>\n",
       "      <td>IndustryH_Biogas</td>\n",
       "      <td>standard_H</td>\n",
       "    </tr>\n",
       "    <tr>\n",
       "      <th>3</th>\n",
       "      <td>id_DK_Central_BH_Biomass</td>\n",
       "      <td>BH_Biomass</td>\n",
       "      <td>id_DK_nan_WL</td>\n",
       "      <td>WL_DK</td>\n",
       "      <td>id_DK_Central_BP_Natgas</td>\n",
       "      <td>DK</td>\n",
       "      <td>id_DK_Central_BH_Biomass</td>\n",
       "      <td>DK_Central</td>\n",
       "      <td>BH_Biomass</td>\n",
       "      <td>standard_H</td>\n",
       "    </tr>\n",
       "    <tr>\n",
       "      <th>4</th>\n",
       "      <td>id_DK_Central_BP_Biomass</td>\n",
       "      <td>BP_Biomass</td>\n",
       "      <td>id_DK_nan_WS</td>\n",
       "      <td>WS_DK</td>\n",
       "      <td>id_DK_Central_BP_Oil</td>\n",
       "      <td>DK</td>\n",
       "      <td>id_DK_Central_BP_Biomass</td>\n",
       "      <td>DK_Central</td>\n",
       "      <td>BP_Biomass</td>\n",
       "      <td>BP</td>\n",
       "    </tr>\n",
       "    <tr>\n",
       "      <th>5</th>\n",
       "      <td>id_DK_Central_IndustryH_Biomass</td>\n",
       "      <td>IndustryH_Biomass</td>\n",
       "      <td>id_DK_Central_BH_Biogas</td>\n",
       "      <td>Standard</td>\n",
       "      <td>id_DK_Central_BP_Waste</td>\n",
       "      <td>DK</td>\n",
       "      <td>id_DK_Central_IndustryH_Biomass</td>\n",
       "      <td>DK_Central</td>\n",
       "      <td>IndustryH_Biomass</td>\n",
       "      <td>standard_H</td>\n",
       "    </tr>\n",
       "    <tr>\n",
       "      <th>6</th>\n",
       "      <td>id_DK_Central_BP_Coal</td>\n",
       "      <td>BP_Coal</td>\n",
       "      <td>id_DK_Central_BP_Biogas</td>\n",
       "      <td>Standard</td>\n",
       "      <td>id_DK_Central_EP</td>\n",
       "      <td>DK</td>\n",
       "      <td>id_DK_Central_BP_Coal</td>\n",
       "      <td>DK_Central</td>\n",
       "      <td>BP_Coal</td>\n",
       "      <td>BP</td>\n",
       "    </tr>\n",
       "    <tr>\n",
       "      <th>7</th>\n",
       "      <td>id_DK_Central_BH_Natgas</td>\n",
       "      <td>BH_Natgas</td>\n",
       "      <td>id_DK_Central_IndustryH_Biogas</td>\n",
       "      <td>Standard</td>\n",
       "      <td>id_DK_Central_HPstandard</td>\n",
       "      <td>DK</td>\n",
       "      <td>id_DK_Central_BH_Natgas</td>\n",
       "      <td>DK_Central</td>\n",
       "      <td>BH_Natgas</td>\n",
       "      <td>standard_H</td>\n",
       "    </tr>\n",
       "    <tr>\n",
       "      <th>8</th>\n",
       "      <td>id_DK_Central_BP_Natgas</td>\n",
       "      <td>BP_Natgas</td>\n",
       "      <td>id_DK_Central_BH_Biomass</td>\n",
       "      <td>Standard</td>\n",
       "      <td>id_DK_Central_HPsurplusheat</td>\n",
       "      <td>DK</td>\n",
       "      <td>id_DK_Central_BP_Natgas</td>\n",
       "      <td>DK_Central</td>\n",
       "      <td>BP_Natgas</td>\n",
       "      <td>BP</td>\n",
       "    </tr>\n",
       "    <tr>\n",
       "      <th>9</th>\n",
       "      <td>id_DK_Central_IndustryH_Natgas</td>\n",
       "      <td>IndustryH_Natgas</td>\n",
       "      <td>id_DK_Central_BP_Biomass</td>\n",
       "      <td>Standard</td>\n",
       "      <td>id_DK_Central_IH</td>\n",
       "      <td>DK</td>\n",
       "      <td>id_DK_Central_IndustryH_Natgas</td>\n",
       "      <td>DK_Central</td>\n",
       "      <td>IndustryH_Natgas</td>\n",
       "      <td>standard_H</td>\n",
       "    </tr>\n",
       "    <tr>\n",
       "      <th>10</th>\n",
       "      <td>id_DK_Central_BH_Oil</td>\n",
       "      <td>BH_Oil</td>\n",
       "      <td>id_DK_Central_IndustryH_Biomass</td>\n",
       "      <td>Standard</td>\n",
       "      <td>id_DK_nan_CD_Biogas</td>\n",
       "      <td>DK</td>\n",
       "      <td>id_DK_Central_BH_Oil</td>\n",
       "      <td>DK_Central</td>\n",
       "      <td>BH_Oil</td>\n",
       "      <td>standard_H</td>\n",
       "    </tr>\n",
       "    <tr>\n",
       "      <th>11</th>\n",
       "      <td>id_DK_Central_BP_Oil</td>\n",
       "      <td>BP_Oil</td>\n",
       "      <td>id_DK_Central_BP_Coal</td>\n",
       "      <td>Standard</td>\n",
       "      <td>id_DK_nan_IndustryE_Biogas</td>\n",
       "      <td>DK</td>\n",
       "      <td>id_DK_Central_BP_Oil</td>\n",
       "      <td>DK_Central</td>\n",
       "      <td>BP_Oil</td>\n",
       "      <td>BP</td>\n",
       "    </tr>\n",
       "    <tr>\n",
       "      <th>12</th>\n",
       "      <td>id_DK_Central_IndustryH_Oil</td>\n",
       "      <td>IndustryH_Oil</td>\n",
       "      <td>id_DK_Central_BH_Natgas</td>\n",
       "      <td>Standard</td>\n",
       "      <td>id_DK_nan_IndustryE_Biomass</td>\n",
       "      <td>DK</td>\n",
       "      <td>id_DK_Central_IndustryH_Oil</td>\n",
       "      <td>DK_Central</td>\n",
       "      <td>IndustryH_Oil</td>\n",
       "      <td>standard_H</td>\n",
       "    </tr>\n",
       "    <tr>\n",
       "      <th>13</th>\n",
       "      <td>id_DK_Central_BH_Waste</td>\n",
       "      <td>BH_Waste</td>\n",
       "      <td>id_DK_Central_BP_Natgas</td>\n",
       "      <td>Standard</td>\n",
       "      <td>id_DK_nan_CD_Coal</td>\n",
       "      <td>DK</td>\n",
       "      <td>id_DK_Central_BH_Waste</td>\n",
       "      <td>DK_Central</td>\n",
       "      <td>BH_Waste</td>\n",
       "      <td>standard_H</td>\n",
       "    </tr>\n",
       "    <tr>\n",
       "      <th>14</th>\n",
       "      <td>id_DK_Central_BP_Waste</td>\n",
       "      <td>BP_Waste</td>\n",
       "      <td>id_DK_Central_IndustryH_Natgas</td>\n",
       "      <td>Standard</td>\n",
       "      <td>id_DK_nan_CD_Natgas</td>\n",
       "      <td>DK</td>\n",
       "      <td>id_DK_Central_BP_Waste</td>\n",
       "      <td>DK_Central</td>\n",
       "      <td>BP_Waste</td>\n",
       "      <td>BP</td>\n",
       "    </tr>\n",
       "    <tr>\n",
       "      <th>15</th>\n",
       "      <td>id_DK_Central_EP</td>\n",
       "      <td>EP</td>\n",
       "      <td>id_DK_Central_BH_Oil</td>\n",
       "      <td>Standard</td>\n",
       "      <td>id_DK_nan_IndustryE_Natgas</td>\n",
       "      <td>DK</td>\n",
       "      <td>id_DK_Central_EP</td>\n",
       "      <td>DK_Central</td>\n",
       "      <td>EP</td>\n",
       "      <td>HP</td>\n",
       "    </tr>\n",
       "    <tr>\n",
       "      <th>16</th>\n",
       "      <td>id_DK_Central_GT</td>\n",
       "      <td>GT</td>\n",
       "      <td>id_DK_Central_BP_Oil</td>\n",
       "      <td>Standard</td>\n",
       "      <td>id_DK_nan_CD_Oil</td>\n",
       "      <td>DK</td>\n",
       "      <td>id_DK_Central_GT</td>\n",
       "      <td>DK_Central</td>\n",
       "      <td>GT</td>\n",
       "      <td>standard_H</td>\n",
       "    </tr>\n",
       "    <tr>\n",
       "      <th>17</th>\n",
       "      <td>id_DK_Central_HPstandard</td>\n",
       "      <td>HPstandard</td>\n",
       "      <td>id_DK_Central_IndustryH_Oil</td>\n",
       "      <td>Standard</td>\n",
       "      <td>id_DK_nan_IndustryE_Oil</td>\n",
       "      <td>DK</td>\n",
       "      <td>id_DK_Central_HPstandard</td>\n",
       "      <td>DK_Central</td>\n",
       "      <td>HPstandard</td>\n",
       "      <td>HP</td>\n",
       "    </tr>\n",
       "    <tr>\n",
       "      <th>18</th>\n",
       "      <td>id_DK_Central_HPsurplusheat</td>\n",
       "      <td>HPsurplusheat</td>\n",
       "      <td>id_DK_Central_BH_Waste</td>\n",
       "      <td>Standard</td>\n",
       "      <td>id_DK_nan_PV</td>\n",
       "      <td>DK</td>\n",
       "      <td>id_DK_Central_HPsurplusheat</td>\n",
       "      <td>DK_Central</td>\n",
       "      <td>HPsurplusheat</td>\n",
       "      <td>HP</td>\n",
       "    </tr>\n",
       "    <tr>\n",
       "      <th>19</th>\n",
       "      <td>id_DK_Central_IH</td>\n",
       "      <td>IH</td>\n",
       "      <td>id_DK_Central_BP_Waste</td>\n",
       "      <td>Standard</td>\n",
       "      <td>id_DK_nan_ROR</td>\n",
       "      <td>DK</td>\n",
       "      <td>id_DK_Central_IH</td>\n",
       "      <td>DK_Central</td>\n",
       "      <td>IH</td>\n",
       "      <td>HP</td>\n",
       "    </tr>\n",
       "    <tr>\n",
       "      <th>20</th>\n",
       "      <td>id_DK_Central_IndustryH</td>\n",
       "      <td>IndustryH</td>\n",
       "      <td>id_DK_Central_EP</td>\n",
       "      <td>Standard</td>\n",
       "      <td>id_DK_nan_WL</td>\n",
       "      <td>DK</td>\n",
       "      <td>id_DK_Central_IndustryH</td>\n",
       "      <td>DK_Central</td>\n",
       "      <td>IndustryH</td>\n",
       "      <td>standard_H</td>\n",
       "    </tr>\n",
       "    <tr>\n",
       "      <th>21</th>\n",
       "      <td>id_DK_Central_SH</td>\n",
       "      <td>SH</td>\n",
       "      <td>id_DK_Central_GT</td>\n",
       "      <td>Standard</td>\n",
       "      <td>id_DK_nan_WS</td>\n",
       "      <td>DK</td>\n",
       "      <td>id_DK_Central_SH</td>\n",
       "      <td>DK_Central</td>\n",
       "      <td>SH</td>\n",
       "      <td>standard_H</td>\n",
       "    </tr>\n",
       "    <tr>\n",
       "      <th>22</th>\n",
       "      <td>id_DK_nan_CD_Biogas</td>\n",
       "      <td>CD_Biogas</td>\n",
       "      <td>id_DK_Central_HPstandard</td>\n",
       "      <td>Standard</td>\n",
       "      <td>NaN</td>\n",
       "      <td>NaN</td>\n",
       "      <td>NaN</td>\n",
       "      <td>NaN</td>\n",
       "      <td>CD_Biogas</td>\n",
       "      <td>standard_E</td>\n",
       "    </tr>\n",
       "    <tr>\n",
       "      <th>23</th>\n",
       "      <td>id_DK_nan_IndustryE_Biogas</td>\n",
       "      <td>IndustryE_Biogas</td>\n",
       "      <td>id_DK_Central_HPsurplusheat</td>\n",
       "      <td>Standard</td>\n",
       "      <td>NaN</td>\n",
       "      <td>NaN</td>\n",
       "      <td>NaN</td>\n",
       "      <td>NaN</td>\n",
       "      <td>IndustryE_Biogas</td>\n",
       "      <td>standard_E</td>\n",
       "    </tr>\n",
       "    <tr>\n",
       "      <th>24</th>\n",
       "      <td>id_DK_nan_IndustryE_Biomass</td>\n",
       "      <td>IndustryE_Biomass</td>\n",
       "      <td>id_DK_Central_IH</td>\n",
       "      <td>Standard</td>\n",
       "      <td>NaN</td>\n",
       "      <td>NaN</td>\n",
       "      <td>NaN</td>\n",
       "      <td>NaN</td>\n",
       "      <td>IndustryE_Biomass</td>\n",
       "      <td>standard_E</td>\n",
       "    </tr>\n",
       "    <tr>\n",
       "      <th>25</th>\n",
       "      <td>id_DK_nan_CD_Coal</td>\n",
       "      <td>CD_Coal</td>\n",
       "      <td>id_DK_Central_IndustryH</td>\n",
       "      <td>Standard</td>\n",
       "      <td>NaN</td>\n",
       "      <td>NaN</td>\n",
       "      <td>NaN</td>\n",
       "      <td>NaN</td>\n",
       "      <td>CD_Coal</td>\n",
       "      <td>standard_E</td>\n",
       "    </tr>\n",
       "    <tr>\n",
       "      <th>26</th>\n",
       "      <td>id_DK_nan_CD_Natgas</td>\n",
       "      <td>CD_Natgas</td>\n",
       "      <td>id_DK_nan_CD_Biogas</td>\n",
       "      <td>Standard</td>\n",
       "      <td>NaN</td>\n",
       "      <td>NaN</td>\n",
       "      <td>NaN</td>\n",
       "      <td>NaN</td>\n",
       "      <td>CD_Natgas</td>\n",
       "      <td>standard_E</td>\n",
       "    </tr>\n",
       "    <tr>\n",
       "      <th>27</th>\n",
       "      <td>id_DK_nan_IndustryE_Natgas</td>\n",
       "      <td>IndustryE_Natgas</td>\n",
       "      <td>id_DK_nan_IndustryE_Biogas</td>\n",
       "      <td>Standard</td>\n",
       "      <td>NaN</td>\n",
       "      <td>NaN</td>\n",
       "      <td>NaN</td>\n",
       "      <td>NaN</td>\n",
       "      <td>IndustryE_Natgas</td>\n",
       "      <td>standard_E</td>\n",
       "    </tr>\n",
       "    <tr>\n",
       "      <th>28</th>\n",
       "      <td>id_DK_nan_CD_Oil</td>\n",
       "      <td>CD_Oil</td>\n",
       "      <td>id_DK_nan_IndustryE_Biomass</td>\n",
       "      <td>Standard</td>\n",
       "      <td>NaN</td>\n",
       "      <td>NaN</td>\n",
       "      <td>NaN</td>\n",
       "      <td>NaN</td>\n",
       "      <td>CD_Oil</td>\n",
       "      <td>standard_E</td>\n",
       "    </tr>\n",
       "    <tr>\n",
       "      <th>29</th>\n",
       "      <td>id_DK_nan_IndustryE_Oil</td>\n",
       "      <td>IndustryE_Oil</td>\n",
       "      <td>id_DK_nan_CD_Coal</td>\n",
       "      <td>Standard</td>\n",
       "      <td>NaN</td>\n",
       "      <td>NaN</td>\n",
       "      <td>NaN</td>\n",
       "      <td>NaN</td>\n",
       "      <td>IndustryE_Oil</td>\n",
       "      <td>standard_E</td>\n",
       "    </tr>\n",
       "    <tr>\n",
       "      <th>30</th>\n",
       "      <td>id_DK_nan_PV</td>\n",
       "      <td>PV</td>\n",
       "      <td>id_DK_nan_CD_Natgas</td>\n",
       "      <td>Standard</td>\n",
       "      <td>NaN</td>\n",
       "      <td>NaN</td>\n",
       "      <td>NaN</td>\n",
       "      <td>NaN</td>\n",
       "      <td>PV</td>\n",
       "      <td>standard_E</td>\n",
       "    </tr>\n",
       "    <tr>\n",
       "      <th>31</th>\n",
       "      <td>id_DK_nan_ROR</td>\n",
       "      <td>ROR</td>\n",
       "      <td>id_DK_nan_IndustryE_Natgas</td>\n",
       "      <td>Standard</td>\n",
       "      <td>NaN</td>\n",
       "      <td>NaN</td>\n",
       "      <td>NaN</td>\n",
       "      <td>NaN</td>\n",
       "      <td>ROR</td>\n",
       "      <td>standard_E</td>\n",
       "    </tr>\n",
       "    <tr>\n",
       "      <th>32</th>\n",
       "      <td>id_DK_nan_WL</td>\n",
       "      <td>WL</td>\n",
       "      <td>id_DK_nan_CD_Oil</td>\n",
       "      <td>Standard</td>\n",
       "      <td>NaN</td>\n",
       "      <td>NaN</td>\n",
       "      <td>NaN</td>\n",
       "      <td>NaN</td>\n",
       "      <td>WL</td>\n",
       "      <td>standard_E</td>\n",
       "    </tr>\n",
       "    <tr>\n",
       "      <th>33</th>\n",
       "      <td>id_DK_nan_WS</td>\n",
       "      <td>WS</td>\n",
       "      <td>id_DK_nan_IndustryE_Oil</td>\n",
       "      <td>Standard</td>\n",
       "      <td>NaN</td>\n",
       "      <td>NaN</td>\n",
       "      <td>NaN</td>\n",
       "      <td>NaN</td>\n",
       "      <td>WS</td>\n",
       "      <td>standard_E</td>\n",
       "    </tr>\n",
       "  </tbody>\n",
       "</table>\n",
       "</div>"
      ],
      "text/plain": [
       "                         id2tech/id       id2tech/tech  \\\n",
       "0           id_DK_Central_BH_Biogas          BH_Biogas   \n",
       "1           id_DK_Central_BP_Biogas          BP_Biogas   \n",
       "2    id_DK_Central_IndustryH_Biogas   IndustryH_Biogas   \n",
       "3          id_DK_Central_BH_Biomass         BH_Biomass   \n",
       "4          id_DK_Central_BP_Biomass         BP_Biomass   \n",
       "5   id_DK_Central_IndustryH_Biomass  IndustryH_Biomass   \n",
       "6             id_DK_Central_BP_Coal            BP_Coal   \n",
       "7           id_DK_Central_BH_Natgas          BH_Natgas   \n",
       "8           id_DK_Central_BP_Natgas          BP_Natgas   \n",
       "9    id_DK_Central_IndustryH_Natgas   IndustryH_Natgas   \n",
       "10             id_DK_Central_BH_Oil             BH_Oil   \n",
       "11             id_DK_Central_BP_Oil             BP_Oil   \n",
       "12      id_DK_Central_IndustryH_Oil      IndustryH_Oil   \n",
       "13           id_DK_Central_BH_Waste           BH_Waste   \n",
       "14           id_DK_Central_BP_Waste           BP_Waste   \n",
       "15                 id_DK_Central_EP                 EP   \n",
       "16                 id_DK_Central_GT                 GT   \n",
       "17         id_DK_Central_HPstandard         HPstandard   \n",
       "18      id_DK_Central_HPsurplusheat      HPsurplusheat   \n",
       "19                 id_DK_Central_IH                 IH   \n",
       "20          id_DK_Central_IndustryH          IndustryH   \n",
       "21                 id_DK_Central_SH                 SH   \n",
       "22              id_DK_nan_CD_Biogas          CD_Biogas   \n",
       "23       id_DK_nan_IndustryE_Biogas   IndustryE_Biogas   \n",
       "24      id_DK_nan_IndustryE_Biomass  IndustryE_Biomass   \n",
       "25                id_DK_nan_CD_Coal            CD_Coal   \n",
       "26              id_DK_nan_CD_Natgas          CD_Natgas   \n",
       "27       id_DK_nan_IndustryE_Natgas   IndustryE_Natgas   \n",
       "28                 id_DK_nan_CD_Oil             CD_Oil   \n",
       "29          id_DK_nan_IndustryE_Oil      IndustryE_Oil   \n",
       "30                     id_DK_nan_PV                 PV   \n",
       "31                    id_DK_nan_ROR                ROR   \n",
       "32                     id_DK_nan_WL                 WL   \n",
       "33                     id_DK_nan_WS                 WS   \n",
       "\n",
       "                          id2hvt/id     id2hvt/hvt  \\\n",
       "0                  id_DK_Central_SH  SH_DK_Central   \n",
       "1                      id_DK_nan_PV          PV_DK   \n",
       "2                     id_DK_nan_ROR         ROR_DK   \n",
       "3                      id_DK_nan_WL          WL_DK   \n",
       "4                      id_DK_nan_WS          WS_DK   \n",
       "5           id_DK_Central_BH_Biogas       Standard   \n",
       "6           id_DK_Central_BP_Biogas       Standard   \n",
       "7    id_DK_Central_IndustryH_Biogas       Standard   \n",
       "8          id_DK_Central_BH_Biomass       Standard   \n",
       "9          id_DK_Central_BP_Biomass       Standard   \n",
       "10  id_DK_Central_IndustryH_Biomass       Standard   \n",
       "11            id_DK_Central_BP_Coal       Standard   \n",
       "12          id_DK_Central_BH_Natgas       Standard   \n",
       "13          id_DK_Central_BP_Natgas       Standard   \n",
       "14   id_DK_Central_IndustryH_Natgas       Standard   \n",
       "15             id_DK_Central_BH_Oil       Standard   \n",
       "16             id_DK_Central_BP_Oil       Standard   \n",
       "17      id_DK_Central_IndustryH_Oil       Standard   \n",
       "18           id_DK_Central_BH_Waste       Standard   \n",
       "19           id_DK_Central_BP_Waste       Standard   \n",
       "20                 id_DK_Central_EP       Standard   \n",
       "21                 id_DK_Central_GT       Standard   \n",
       "22         id_DK_Central_HPstandard       Standard   \n",
       "23      id_DK_Central_HPsurplusheat       Standard   \n",
       "24                 id_DK_Central_IH       Standard   \n",
       "25          id_DK_Central_IndustryH       Standard   \n",
       "26              id_DK_nan_CD_Biogas       Standard   \n",
       "27       id_DK_nan_IndustryE_Biogas       Standard   \n",
       "28      id_DK_nan_IndustryE_Biomass       Standard   \n",
       "29                id_DK_nan_CD_Coal       Standard   \n",
       "30              id_DK_nan_CD_Natgas       Standard   \n",
       "31       id_DK_nan_IndustryE_Natgas       Standard   \n",
       "32                 id_DK_nan_CD_Oil       Standard   \n",
       "33          id_DK_nan_IndustryE_Oil       Standard   \n",
       "\n",
       "                      id2g_E/id id2g_E/g_E                        id2g_H/id  \\\n",
       "0       id_DK_Central_BP_Biogas         DK          id_DK_Central_BH_Biogas   \n",
       "1      id_DK_Central_BP_Biomass         DK          id_DK_Central_BP_Biogas   \n",
       "2         id_DK_Central_BP_Coal         DK   id_DK_Central_IndustryH_Biogas   \n",
       "3       id_DK_Central_BP_Natgas         DK         id_DK_Central_BH_Biomass   \n",
       "4          id_DK_Central_BP_Oil         DK         id_DK_Central_BP_Biomass   \n",
       "5        id_DK_Central_BP_Waste         DK  id_DK_Central_IndustryH_Biomass   \n",
       "6              id_DK_Central_EP         DK            id_DK_Central_BP_Coal   \n",
       "7      id_DK_Central_HPstandard         DK          id_DK_Central_BH_Natgas   \n",
       "8   id_DK_Central_HPsurplusheat         DK          id_DK_Central_BP_Natgas   \n",
       "9              id_DK_Central_IH         DK   id_DK_Central_IndustryH_Natgas   \n",
       "10          id_DK_nan_CD_Biogas         DK             id_DK_Central_BH_Oil   \n",
       "11   id_DK_nan_IndustryE_Biogas         DK             id_DK_Central_BP_Oil   \n",
       "12  id_DK_nan_IndustryE_Biomass         DK      id_DK_Central_IndustryH_Oil   \n",
       "13            id_DK_nan_CD_Coal         DK           id_DK_Central_BH_Waste   \n",
       "14          id_DK_nan_CD_Natgas         DK           id_DK_Central_BP_Waste   \n",
       "15   id_DK_nan_IndustryE_Natgas         DK                 id_DK_Central_EP   \n",
       "16             id_DK_nan_CD_Oil         DK                 id_DK_Central_GT   \n",
       "17      id_DK_nan_IndustryE_Oil         DK         id_DK_Central_HPstandard   \n",
       "18                 id_DK_nan_PV         DK      id_DK_Central_HPsurplusheat   \n",
       "19                id_DK_nan_ROR         DK                 id_DK_Central_IH   \n",
       "20                 id_DK_nan_WL         DK          id_DK_Central_IndustryH   \n",
       "21                 id_DK_nan_WS         DK                 id_DK_Central_SH   \n",
       "22                          NaN        NaN                              NaN   \n",
       "23                          NaN        NaN                              NaN   \n",
       "24                          NaN        NaN                              NaN   \n",
       "25                          NaN        NaN                              NaN   \n",
       "26                          NaN        NaN                              NaN   \n",
       "27                          NaN        NaN                              NaN   \n",
       "28                          NaN        NaN                              NaN   \n",
       "29                          NaN        NaN                              NaN   \n",
       "30                          NaN        NaN                              NaN   \n",
       "31                          NaN        NaN                              NaN   \n",
       "32                          NaN        NaN                              NaN   \n",
       "33                          NaN        NaN                              NaN   \n",
       "\n",
       "    id2g_H/g_H tech2modelTech/tech tech2modelTech/modelTech  \n",
       "0   DK_Central           BH_Biogas               standard_H  \n",
       "1   DK_Central           BP_Biogas                       BP  \n",
       "2   DK_Central    IndustryH_Biogas               standard_H  \n",
       "3   DK_Central          BH_Biomass               standard_H  \n",
       "4   DK_Central          BP_Biomass                       BP  \n",
       "5   DK_Central   IndustryH_Biomass               standard_H  \n",
       "6   DK_Central             BP_Coal                       BP  \n",
       "7   DK_Central           BH_Natgas               standard_H  \n",
       "8   DK_Central           BP_Natgas                       BP  \n",
       "9   DK_Central    IndustryH_Natgas               standard_H  \n",
       "10  DK_Central              BH_Oil               standard_H  \n",
       "11  DK_Central              BP_Oil                       BP  \n",
       "12  DK_Central       IndustryH_Oil               standard_H  \n",
       "13  DK_Central            BH_Waste               standard_H  \n",
       "14  DK_Central            BP_Waste                       BP  \n",
       "15  DK_Central                  EP                       HP  \n",
       "16  DK_Central                  GT               standard_H  \n",
       "17  DK_Central          HPstandard                       HP  \n",
       "18  DK_Central       HPsurplusheat                       HP  \n",
       "19  DK_Central                  IH                       HP  \n",
       "20  DK_Central           IndustryH               standard_H  \n",
       "21  DK_Central                  SH               standard_H  \n",
       "22         NaN           CD_Biogas               standard_E  \n",
       "23         NaN    IndustryE_Biogas               standard_E  \n",
       "24         NaN   IndustryE_Biomass               standard_E  \n",
       "25         NaN             CD_Coal               standard_E  \n",
       "26         NaN           CD_Natgas               standard_E  \n",
       "27         NaN    IndustryE_Natgas               standard_E  \n",
       "28         NaN              CD_Oil               standard_E  \n",
       "29         NaN       IndustryE_Oil               standard_E  \n",
       "30         NaN                  PV               standard_E  \n",
       "31         NaN                 ROR               standard_E  \n",
       "32         NaN                  WL               standard_E  \n",
       "33         NaN                  WS               standard_E  "
      ]
     },
     "execution_count": 91,
     "metadata": {},
     "output_type": "execute_result"
    }
   ],
   "source": [
    "GeneratorsMaps_df"
   ]
  },
  {
   "cell_type": "markdown",
   "metadata": {},
   "source": [
    "### Save as excel"
   ]
  },
  {
   "cell_type": "code",
   "execution_count": 92,
   "metadata": {},
   "outputs": [],
   "source": [
    "GeneratorsMaps_df.to_excel(os.path.join(output_dir,'GeneratorsMaps.xlsx'),sheet_name='GeneratorsMaps', index=False)"
   ]
  },
  {
   "cell_type": "markdown",
   "metadata": {},
   "source": [
    "## Sheet \"StorageVariables\""
   ]
  },
  {
   "cell_type": "markdown",
   "metadata": {},
   "source": [
    "For the different values below we take the DEA's *technology_datasheet_for_energy_storage.xlsx*. We consider the case of a **141 Large hot water tank**."
   ]
  },
  {
   "cell_type": "markdown",
   "metadata": {},
   "source": [
    "Notes:\n",
    "- All prices in the datasheet are in EUR2020. Thus, we are going to inflation adjust them for 2019.\n",
    "- As the technology *141 Large scale hot water tank* was last updated in 2018 (see *Index* sheet in excel file) we are goint to use the data for year 2015 (observed and thus not estimated data). We do this without loss of generality as the data for the 2020 middle estimate remained unchanged compared to 2015."
   ]
  },
  {
   "cell_type": "markdown",
   "metadata": {},
   "source": [
    "Import data:"
   ]
  },
  {
   "cell_type": "code",
   "execution_count": 93,
   "metadata": {},
   "outputs": [],
   "source": [
    "technology_datasheet_for_energy_storage = pd.read_excel(os.path.join(os.getcwd(), 'technology_datasheet_for_energy_storage.xlsx'),sheet_name='alldata_flat').drop(columns=['Technology'])"
   ]
  },
  {
   "cell_type": "markdown",
   "metadata": {},
   "source": [
    "Subset for *141 Large hot water tank*:"
   ]
  },
  {
   "cell_type": "code",
   "execution_count": 94,
   "metadata": {},
   "outputs": [],
   "source": [
    "technology_datasheet_for_energy_storage = technology_datasheet_for_energy_storage[technology_datasheet_for_energy_storage['ws'] == '141 Large hot water tank']"
   ]
  },
  {
   "cell_type": "markdown",
   "metadata": {},
   "source": [
    "Subset for 2015 data:"
   ]
  },
  {
   "cell_type": "code",
   "execution_count": 95,
   "metadata": {},
   "outputs": [],
   "source": [
    "technology_datasheet_for_energy_storage = technology_datasheet_for_energy_storage[technology_datasheet_for_energy_storage['year'] == 2015]"
   ]
  },
  {
   "cell_type": "markdown",
   "metadata": {},
   "source": [
    "### GeneratingCap_H"
   ]
  },
  {
   "cell_type": "markdown",
   "metadata": {},
   "source": [
    "First we define the id column for the heat storage technology."
   ]
  },
  {
   "cell_type": "code",
   "execution_count": 96,
   "metadata": {},
   "outputs": [
    {
     "data": {
      "text/html": [
       "<div>\n",
       "<style scoped>\n",
       "    .dataframe tbody tr th:only-of-type {\n",
       "        vertical-align: middle;\n",
       "    }\n",
       "\n",
       "    .dataframe tbody tr th {\n",
       "        vertical-align: top;\n",
       "    }\n",
       "\n",
       "    .dataframe thead th {\n",
       "        text-align: right;\n",
       "    }\n",
       "</style>\n",
       "<table border=\"1\" class=\"dataframe\">\n",
       "  <thead>\n",
       "    <tr style=\"text-align: right;\">\n",
       "      <th></th>\n",
       "      <th>GeneratingCap_H/id</th>\n",
       "    </tr>\n",
       "  </thead>\n",
       "  <tbody>\n",
       "    <tr>\n",
       "      <th>11</th>\n",
       "      <td>id_DK_Central_HS</td>\n",
       "    </tr>\n",
       "  </tbody>\n",
       "</table>\n",
       "</div>"
      ],
      "text/plain": [
       "   GeneratingCap_H/id\n",
       "11   id_DK_Central_HS"
      ]
     },
     "execution_count": 96,
     "metadata": {},
     "output_type": "execute_result"
    }
   ],
   "source": [
    "GeneratingCap_HS = pd.read_excel(os.path.join(output_dir,'GeneratorsVariables.xlsx'), usecols=['GeneratingCap_H/id']).dropna()\n",
    "GeneratingCap_HS = GeneratingCap_HS[GeneratingCap_HS['GeneratingCap_H/id'].str.contains('HPstandard')]\n",
    "GeneratingCap_HS['GeneratingCap_H/id'] = GeneratingCap_HS['GeneratingCap_H/id'].str.replace('HPstandard', 'HS')\n",
    "GeneratingCap_HS"
   ]
  },
  {
   "cell_type": "markdown",
   "metadata": {},
   "source": [
    "In DEA's *technology datasheet*, `GeneratingCap_H` corresponds to *Output capacity for one unit [MW]*. "
   ]
  },
  {
   "cell_type": "code",
   "execution_count": 97,
   "metadata": {},
   "outputs": [
    {
     "data": {
      "text/plain": [
       "0    276.3\n",
       "Name: val, dtype: float64"
      ]
     },
     "execution_count": 97,
     "metadata": {},
     "output_type": "execute_result"
    }
   ],
   "source": [
    "DEA_GeneratingCap_H = pd.to_numeric((technology_datasheet_for_energy_storage.loc[technology_datasheet_for_energy_storage['par']=='Output capacity for one unit [MW]', 'val']).reset_index(drop=True))\n",
    "DEA_GeneratingCap_H"
   ]
  },
  {
   "cell_type": "code",
   "execution_count": 98,
   "metadata": {},
   "outputs": [
    {
     "data": {
      "text/html": [
       "<div>\n",
       "<style scoped>\n",
       "    .dataframe tbody tr th:only-of-type {\n",
       "        vertical-align: middle;\n",
       "    }\n",
       "\n",
       "    .dataframe tbody tr th {\n",
       "        vertical-align: top;\n",
       "    }\n",
       "\n",
       "    .dataframe thead th {\n",
       "        text-align: right;\n",
       "    }\n",
       "</style>\n",
       "<table border=\"1\" class=\"dataframe\">\n",
       "  <thead>\n",
       "    <tr style=\"text-align: right;\">\n",
       "      <th></th>\n",
       "      <th>GeneratingCap_H/id</th>\n",
       "      <th>GeneratingCap_H/GeneratingCap_H</th>\n",
       "    </tr>\n",
       "  </thead>\n",
       "  <tbody>\n",
       "    <tr>\n",
       "      <th>11</th>\n",
       "      <td>id_DK_Central_HS</td>\n",
       "      <td>276.3</td>\n",
       "    </tr>\n",
       "  </tbody>\n",
       "</table>\n",
       "</div>"
      ],
      "text/plain": [
       "   GeneratingCap_H/id  GeneratingCap_H/GeneratingCap_H\n",
       "11   id_DK_Central_HS                            276.3"
      ]
     },
     "execution_count": 98,
     "metadata": {},
     "output_type": "execute_result"
    }
   ],
   "source": [
    "GeneratingCap_HS['GeneratingCap_H/GeneratingCap_H'] = DEA_GeneratingCap_H.iloc[0]\n",
    "GeneratingCap_HS"
   ]
  },
  {
   "cell_type": "markdown",
   "metadata": {},
   "source": [
    "### chargeCap_H"
   ]
  },
  {
   "cell_type": "code",
   "execution_count": 99,
   "metadata": {},
   "outputs": [],
   "source": [
    "chargeCap_HS = GeneratingCap_HS.rename(columns={\n",
    "    'GeneratingCap_H/id':'chargeCap_H/id'}).drop(columns='GeneratingCap_H/GeneratingCap_H')"
   ]
  },
  {
   "cell_type": "markdown",
   "metadata": {},
   "source": [
    "In DEA's *technology datasheet*, `chargeCap_H` corresponds to *Input capacity for one unit [MW]*. "
   ]
  },
  {
   "cell_type": "code",
   "execution_count": 100,
   "metadata": {},
   "outputs": [
    {
     "data": {
      "text/plain": [
       "0    276.3\n",
       "Name: val, dtype: float64"
      ]
     },
     "execution_count": 100,
     "metadata": {},
     "output_type": "execute_result"
    }
   ],
   "source": [
    "DEA_chargeCap_H = pd.to_numeric((technology_datasheet_for_energy_storage.loc[technology_datasheet_for_energy_storage['par']=='Input capacity for one unit [MW]', 'val']).reset_index(drop=True))\n",
    "DEA_chargeCap_H"
   ]
  },
  {
   "cell_type": "code",
   "execution_count": 101,
   "metadata": {},
   "outputs": [
    {
     "data": {
      "text/html": [
       "<div>\n",
       "<style scoped>\n",
       "    .dataframe tbody tr th:only-of-type {\n",
       "        vertical-align: middle;\n",
       "    }\n",
       "\n",
       "    .dataframe tbody tr th {\n",
       "        vertical-align: top;\n",
       "    }\n",
       "\n",
       "    .dataframe thead th {\n",
       "        text-align: right;\n",
       "    }\n",
       "</style>\n",
       "<table border=\"1\" class=\"dataframe\">\n",
       "  <thead>\n",
       "    <tr style=\"text-align: right;\">\n",
       "      <th></th>\n",
       "      <th>chargeCap_H/id</th>\n",
       "      <th>chargeCap_H/chargeCap_H</th>\n",
       "    </tr>\n",
       "  </thead>\n",
       "  <tbody>\n",
       "    <tr>\n",
       "      <th>11</th>\n",
       "      <td>id_DK_Central_HS</td>\n",
       "      <td>276.3</td>\n",
       "    </tr>\n",
       "  </tbody>\n",
       "</table>\n",
       "</div>"
      ],
      "text/plain": [
       "      chargeCap_H/id  chargeCap_H/chargeCap_H\n",
       "11  id_DK_Central_HS                    276.3"
      ]
     },
     "execution_count": 101,
     "metadata": {},
     "output_type": "execute_result"
    }
   ],
   "source": [
    "chargeCap_HS['chargeCap_H/chargeCap_H'] = DEA_chargeCap_H.iloc[0]\n",
    "chargeCap_HS"
   ]
  },
  {
   "cell_type": "markdown",
   "metadata": {},
   "source": [
    "### sCap"
   ]
  },
  {
   "cell_type": "code",
   "execution_count": 102,
   "metadata": {},
   "outputs": [],
   "source": [
    "sCap = GeneratingCap_HS.rename(columns={\n",
    "    'GeneratingCap_H/id':'sCap/id'}).drop(columns='GeneratingCap_H/GeneratingCap_H')"
   ]
  },
  {
   "cell_type": "markdown",
   "metadata": {},
   "source": [
    "In DEA's *technology datasheet*, `sCap` corresponds to *Energy storage capacity for one unit [MWh)*. "
   ]
  },
  {
   "cell_type": "code",
   "execution_count": 103,
   "metadata": {},
   "outputs": [
    {
     "data": {
      "text/plain": [
       "0    16575\n",
       "Name: val, dtype: int64"
      ]
     },
     "execution_count": 103,
     "metadata": {},
     "output_type": "execute_result"
    }
   ],
   "source": [
    "DEA_sCap = pd.to_numeric((technology_datasheet_for_energy_storage.loc[technology_datasheet_for_energy_storage['par']=='Energy storage capacity for one unit [MWh)', 'val']).reset_index(drop=True))\n",
    "DEA_sCap"
   ]
  },
  {
   "cell_type": "code",
   "execution_count": 104,
   "metadata": {},
   "outputs": [
    {
     "data": {
      "text/html": [
       "<div>\n",
       "<style scoped>\n",
       "    .dataframe tbody tr th:only-of-type {\n",
       "        vertical-align: middle;\n",
       "    }\n",
       "\n",
       "    .dataframe tbody tr th {\n",
       "        vertical-align: top;\n",
       "    }\n",
       "\n",
       "    .dataframe thead th {\n",
       "        text-align: right;\n",
       "    }\n",
       "</style>\n",
       "<table border=\"1\" class=\"dataframe\">\n",
       "  <thead>\n",
       "    <tr style=\"text-align: right;\">\n",
       "      <th></th>\n",
       "      <th>sCap/id</th>\n",
       "      <th>sCap/sCap</th>\n",
       "    </tr>\n",
       "  </thead>\n",
       "  <tbody>\n",
       "    <tr>\n",
       "      <th>11</th>\n",
       "      <td>id_DK_Central_HS</td>\n",
       "      <td>16575</td>\n",
       "    </tr>\n",
       "  </tbody>\n",
       "</table>\n",
       "</div>"
      ],
      "text/plain": [
       "             sCap/id  sCap/sCap\n",
       "11  id_DK_Central_HS      16575"
      ]
     },
     "execution_count": 104,
     "metadata": {},
     "output_type": "execute_result"
    }
   ],
   "source": [
    "sCap['sCap/sCap'] = DEA_sCap.iloc[0]\n",
    "sCap"
   ]
  },
  {
   "cell_type": "markdown",
   "metadata": {},
   "source": [
    "### effC"
   ]
  },
  {
   "cell_type": "markdown",
   "metadata": {},
   "source": [
    "In DEA's *technology datasheet*, `effC` corresponds to *Charge efficiency [%]*. "
   ]
  },
  {
   "cell_type": "code",
   "execution_count": 105,
   "metadata": {},
   "outputs": [],
   "source": [
    "effC = GeneratingCap_HS.rename(columns={\n",
    "    'GeneratingCap_H/id':'effC/id'}).drop(columns='GeneratingCap_H/GeneratingCap_H')"
   ]
  },
  {
   "cell_type": "code",
   "execution_count": 106,
   "metadata": {},
   "outputs": [
    {
     "data": {
      "text/plain": [
       "0    1.0\n",
       "Name: val, dtype: float64"
      ]
     },
     "execution_count": 106,
     "metadata": {},
     "output_type": "execute_result"
    }
   ],
   "source": [
    "DEA_effC = pd.to_numeric((technology_datasheet_for_energy_storage.loc[technology_datasheet_for_energy_storage['par']=='- Charge efficiency [%]', 'val']).reset_index(drop=True) / 100)\n",
    "DEA_effC"
   ]
  },
  {
   "cell_type": "code",
   "execution_count": 107,
   "metadata": {},
   "outputs": [],
   "source": [
    "effC['effC/effC'] = DEA_effC.iloc[0]"
   ]
  },
  {
   "cell_type": "code",
   "execution_count": 108,
   "metadata": {},
   "outputs": [
    {
     "data": {
      "text/html": [
       "<div>\n",
       "<style scoped>\n",
       "    .dataframe tbody tr th:only-of-type {\n",
       "        vertical-align: middle;\n",
       "    }\n",
       "\n",
       "    .dataframe tbody tr th {\n",
       "        vertical-align: top;\n",
       "    }\n",
       "\n",
       "    .dataframe thead th {\n",
       "        text-align: right;\n",
       "    }\n",
       "</style>\n",
       "<table border=\"1\" class=\"dataframe\">\n",
       "  <thead>\n",
       "    <tr style=\"text-align: right;\">\n",
       "      <th></th>\n",
       "      <th>effC/id</th>\n",
       "      <th>effC/effC</th>\n",
       "    </tr>\n",
       "  </thead>\n",
       "  <tbody>\n",
       "    <tr>\n",
       "      <th>11</th>\n",
       "      <td>id_DK_Central_HS</td>\n",
       "      <td>1.0</td>\n",
       "    </tr>\n",
       "  </tbody>\n",
       "</table>\n",
       "</div>"
      ],
      "text/plain": [
       "             effC/id  effC/effC\n",
       "11  id_DK_Central_HS        1.0"
      ]
     },
     "execution_count": 108,
     "metadata": {},
     "output_type": "execute_result"
    }
   ],
   "source": [
    "effC"
   ]
  },
  {
   "cell_type": "markdown",
   "metadata": {},
   "source": [
    "### effD"
   ]
  },
  {
   "cell_type": "markdown",
   "metadata": {},
   "source": [
    "In DEA's *technology datasheet*, `effD` corresponds to *Discharge efficiency [%]*. "
   ]
  },
  {
   "cell_type": "code",
   "execution_count": 109,
   "metadata": {},
   "outputs": [],
   "source": [
    "effD = GeneratingCap_HS.rename(columns={\n",
    "    'GeneratingCap_H/id':'effD/id'}).drop(columns='GeneratingCap_H/GeneratingCap_H')"
   ]
  },
  {
   "cell_type": "code",
   "execution_count": 110,
   "metadata": {},
   "outputs": [
    {
     "data": {
      "text/plain": [
       "0    1.0\n",
       "Name: val, dtype: float64"
      ]
     },
     "execution_count": 110,
     "metadata": {},
     "output_type": "execute_result"
    }
   ],
   "source": [
    "DEA_effD = pd.to_numeric((technology_datasheet_for_energy_storage.loc[technology_datasheet_for_energy_storage['par']=='- Discharge efficiency [%]', 'val']).reset_index(drop=True) / 100)\n",
    "DEA_effD"
   ]
  },
  {
   "cell_type": "code",
   "execution_count": 111,
   "metadata": {},
   "outputs": [],
   "source": [
    "effD['effD/effD'] = DEA_effD.iloc[0]"
   ]
  },
  {
   "cell_type": "code",
   "execution_count": 112,
   "metadata": {},
   "outputs": [
    {
     "data": {
      "text/html": [
       "<div>\n",
       "<style scoped>\n",
       "    .dataframe tbody tr th:only-of-type {\n",
       "        vertical-align: middle;\n",
       "    }\n",
       "\n",
       "    .dataframe tbody tr th {\n",
       "        vertical-align: top;\n",
       "    }\n",
       "\n",
       "    .dataframe thead th {\n",
       "        text-align: right;\n",
       "    }\n",
       "</style>\n",
       "<table border=\"1\" class=\"dataframe\">\n",
       "  <thead>\n",
       "    <tr style=\"text-align: right;\">\n",
       "      <th></th>\n",
       "      <th>effD/id</th>\n",
       "      <th>effD/effD</th>\n",
       "    </tr>\n",
       "  </thead>\n",
       "  <tbody>\n",
       "    <tr>\n",
       "      <th>11</th>\n",
       "      <td>id_DK_Central_HS</td>\n",
       "      <td>1.0</td>\n",
       "    </tr>\n",
       "  </tbody>\n",
       "</table>\n",
       "</div>"
      ],
      "text/plain": [
       "             effD/id  effD/effD\n",
       "11  id_DK_Central_HS        1.0"
      ]
     },
     "execution_count": 112,
     "metadata": {},
     "output_type": "execute_result"
    }
   ],
   "source": [
    "effD"
   ]
  },
  {
   "cell_type": "markdown",
   "metadata": {},
   "source": [
    "### selfDischarge"
   ]
  },
  {
   "cell_type": "markdown",
   "metadata": {},
   "source": [
    "In DEA's *technology datasheet*, `selfDischarge` corresponds to *Energy losses during storage [%/day]*.\n",
    "\n",
    "We follow the calculations in *mBasicPH_storage.xlsx* (file path: EnergyEconomicsE2023\\Documentation\\Data\\mBasicPH_storage.xlsx) and calculate the selfDischarge as follows:\n",
    "\n",
    "$selfDischarge = 1 - \\left(\\frac{\\overbrace{\\text{Round trip efficiency [\\%] from DEA}}^{\\equiv \\ 98}}{100}\\right)^{\\frac{1}{24}} = 1 - 0.98^{\\frac{1}{24}}$."
   ]
  },
  {
   "cell_type": "code",
   "execution_count": 113,
   "metadata": {},
   "outputs": [],
   "source": [
    "selfDischarge = GeneratingCap_HS.rename(columns={\n",
    "    'GeneratingCap_H/id':'selfDischarge/id'}).drop(columns='GeneratingCap_H/GeneratingCap_H')"
   ]
  },
  {
   "cell_type": "code",
   "execution_count": 114,
   "metadata": {},
   "outputs": [
    {
     "data": {
      "text/plain": [
       "98"
      ]
     },
     "execution_count": 114,
     "metadata": {},
     "output_type": "execute_result"
    }
   ],
   "source": [
    "DEA_RoundTripEfficiency = (pd.to_numeric((technology_datasheet_for_energy_storage.loc[technology_datasheet_for_energy_storage['par']=='Round trip efficiency [%]', 'val']).reset_index(drop=True))).iloc[0]\n",
    "DEA_RoundTripEfficiency"
   ]
  },
  {
   "cell_type": "code",
   "execution_count": 115,
   "metadata": {},
   "outputs": [
    {
     "data": {
      "text/plain": [
       "0.0008414252746161699"
      ]
     },
     "execution_count": 115,
     "metadata": {},
     "output_type": "execute_result"
    }
   ],
   "source": [
    "beta = 1 - (DEA_RoundTripEfficiency/100)**(1/24)\n",
    "beta"
   ]
  },
  {
   "cell_type": "markdown",
   "metadata": {},
   "source": [
    "Construct df"
   ]
  },
  {
   "cell_type": "code",
   "execution_count": 116,
   "metadata": {},
   "outputs": [],
   "source": [
    "selfDischarge['selfDischarge/selfDischarge'] = beta"
   ]
  },
  {
   "cell_type": "code",
   "execution_count": 117,
   "metadata": {},
   "outputs": [
    {
     "data": {
      "text/html": [
       "<div>\n",
       "<style scoped>\n",
       "    .dataframe tbody tr th:only-of-type {\n",
       "        vertical-align: middle;\n",
       "    }\n",
       "\n",
       "    .dataframe tbody tr th {\n",
       "        vertical-align: top;\n",
       "    }\n",
       "\n",
       "    .dataframe thead th {\n",
       "        text-align: right;\n",
       "    }\n",
       "</style>\n",
       "<table border=\"1\" class=\"dataframe\">\n",
       "  <thead>\n",
       "    <tr style=\"text-align: right;\">\n",
       "      <th></th>\n",
       "      <th>selfDischarge/id</th>\n",
       "      <th>selfDischarge/selfDischarge</th>\n",
       "    </tr>\n",
       "  </thead>\n",
       "  <tbody>\n",
       "    <tr>\n",
       "      <th>11</th>\n",
       "      <td>id_DK_Central_HS</td>\n",
       "      <td>0.000841</td>\n",
       "    </tr>\n",
       "  </tbody>\n",
       "</table>\n",
       "</div>"
      ],
      "text/plain": [
       "    selfDischarge/id  selfDischarge/selfDischarge\n",
       "11  id_DK_Central_HS                     0.000841"
      ]
     },
     "execution_count": 117,
     "metadata": {},
     "output_type": "execute_result"
    }
   ],
   "source": [
    "selfDischarge"
   ]
  },
  {
   "cell_type": "markdown",
   "metadata": {},
   "source": [
    "### OtherMC"
   ]
  },
  {
   "cell_type": "markdown",
   "metadata": {},
   "source": [
    "In DEA's *technology datasheet*, `OtherMC` corresponds to *Variable O&M [EUR2015/MWhoutput]*. We note that they are zero and thus we do not have to inflation adjust them."
   ]
  },
  {
   "cell_type": "code",
   "execution_count": 118,
   "metadata": {},
   "outputs": [],
   "source": [
    "OtherMC_HS = GeneratingCap_HS.rename(columns={\n",
    "    'GeneratingCap_H/id':'OtherMC/id'}).drop(columns='GeneratingCap_H/GeneratingCap_H')"
   ]
  },
  {
   "cell_type": "code",
   "execution_count": 119,
   "metadata": {},
   "outputs": [
    {
     "data": {
      "text/plain": [
       "0"
      ]
     },
     "execution_count": 119,
     "metadata": {},
     "output_type": "execute_result"
    }
   ],
   "source": [
    "DEA_OtherMC = (pd.to_numeric((technology_datasheet_for_energy_storage.loc[technology_datasheet_for_energy_storage['par']=='Variable O&M [EUR2015/MWhoutput]', 'val']).reset_index(drop=True))).iloc[0]\n",
    "DEA_OtherMC"
   ]
  },
  {
   "cell_type": "code",
   "execution_count": 120,
   "metadata": {},
   "outputs": [],
   "source": [
    "OtherMC_HS['OtherMC/OtherMC'] = DEA_OtherMC"
   ]
  },
  {
   "cell_type": "code",
   "execution_count": 121,
   "metadata": {},
   "outputs": [
    {
     "data": {
      "text/html": [
       "<div>\n",
       "<style scoped>\n",
       "    .dataframe tbody tr th:only-of-type {\n",
       "        vertical-align: middle;\n",
       "    }\n",
       "\n",
       "    .dataframe tbody tr th {\n",
       "        vertical-align: top;\n",
       "    }\n",
       "\n",
       "    .dataframe thead th {\n",
       "        text-align: right;\n",
       "    }\n",
       "</style>\n",
       "<table border=\"1\" class=\"dataframe\">\n",
       "  <thead>\n",
       "    <tr style=\"text-align: right;\">\n",
       "      <th></th>\n",
       "      <th>OtherMC/id</th>\n",
       "      <th>OtherMC/OtherMC</th>\n",
       "    </tr>\n",
       "  </thead>\n",
       "  <tbody>\n",
       "    <tr>\n",
       "      <th>11</th>\n",
       "      <td>id_DK_Central_HS</td>\n",
       "      <td>0</td>\n",
       "    </tr>\n",
       "  </tbody>\n",
       "</table>\n",
       "</div>"
      ],
      "text/plain": [
       "          OtherMC/id  OtherMC/OtherMC\n",
       "11  id_DK_Central_HS                0"
      ]
     },
     "execution_count": 121,
     "metadata": {},
     "output_type": "execute_result"
    }
   ],
   "source": [
    "OtherMC_HS"
   ]
  },
  {
   "cell_type": "markdown",
   "metadata": {},
   "source": [
    "### FOM"
   ]
  },
  {
   "cell_type": "markdown",
   "metadata": {},
   "source": [
    "In DEA's *technology datasheet*, `FOM` corresponds to *Fixed O&M [EUR2015/MWhCapacity/year)*. They are not zero and thus we inflation adjust them."
   ]
  },
  {
   "cell_type": "code",
   "execution_count": 122,
   "metadata": {},
   "outputs": [],
   "source": [
    "FOM_HS = GeneratingCap_HS.rename(columns={\n",
    "    'GeneratingCap_H/id':'FOM/id'}).drop(columns='GeneratingCap_H/GeneratingCap_H')"
   ]
  },
  {
   "cell_type": "code",
   "execution_count": 123,
   "metadata": {},
   "outputs": [
    {
     "data": {
      "text/plain": [
       "9.14524"
      ]
     },
     "execution_count": 123,
     "metadata": {},
     "output_type": "execute_result"
    }
   ],
   "source": [
    "DEA_FOM_2020 = (pd.to_numeric((technology_datasheet_for_energy_storage.loc[technology_datasheet_for_energy_storage['par']=='Fixed O&M [EUR2015/MWhCapacity/year)', 'val']).reset_index(drop=True))).iloc[0]\n",
    "DEA_FOM_2020"
   ]
  },
  {
   "cell_type": "markdown",
   "metadata": {},
   "source": [
    "Inflation rates:"
   ]
  },
  {
   "cell_type": "code",
   "execution_count": 124,
   "metadata": {},
   "outputs": [],
   "source": [
    "π = pd.Series([1.531122704, 3.289449396, 2.662841655, 1.219993423, 0.199343827, -0.06164468, 0.183334861, 1.429107433, 1.73860862, 1.630522608, 0.476498853, 2.554506996, 8.833698867],index=pd.Index(range(2010,2023),name='t')).div(100).add(1)"
   ]
  },
  {
   "cell_type": "code",
   "execution_count": 125,
   "metadata": {},
   "outputs": [
    {
     "data": {
      "text/plain": [
       "9.101869695300339"
      ]
     },
     "execution_count": 125,
     "metadata": {},
     "output_type": "execute_result"
    }
   ],
   "source": [
    "DEA_FOM_2019 = DEA_FOM_2020 / π[2020]\n",
    "DEA_FOM_2019"
   ]
  },
  {
   "cell_type": "markdown",
   "metadata": {},
   "source": [
    "Add to df:"
   ]
  },
  {
   "cell_type": "code",
   "execution_count": 126,
   "metadata": {},
   "outputs": [],
   "source": [
    "FOM_HS['FOM/FOM'] = DEA_FOM_2019"
   ]
  },
  {
   "cell_type": "code",
   "execution_count": 127,
   "metadata": {},
   "outputs": [
    {
     "data": {
      "text/html": [
       "<div>\n",
       "<style scoped>\n",
       "    .dataframe tbody tr th:only-of-type {\n",
       "        vertical-align: middle;\n",
       "    }\n",
       "\n",
       "    .dataframe tbody tr th {\n",
       "        vertical-align: top;\n",
       "    }\n",
       "\n",
       "    .dataframe thead th {\n",
       "        text-align: right;\n",
       "    }\n",
       "</style>\n",
       "<table border=\"1\" class=\"dataframe\">\n",
       "  <thead>\n",
       "    <tr style=\"text-align: right;\">\n",
       "      <th></th>\n",
       "      <th>FOM/id</th>\n",
       "      <th>FOM/FOM</th>\n",
       "    </tr>\n",
       "  </thead>\n",
       "  <tbody>\n",
       "    <tr>\n",
       "      <th>11</th>\n",
       "      <td>id_DK_Central_HS</td>\n",
       "      <td>9.10187</td>\n",
       "    </tr>\n",
       "  </tbody>\n",
       "</table>\n",
       "</div>"
      ],
      "text/plain": [
       "              FOM/id  FOM/FOM\n",
       "11  id_DK_Central_HS  9.10187"
      ]
     },
     "execution_count": 127,
     "metadata": {},
     "output_type": "execute_result"
    }
   ],
   "source": [
    "FOM_HS"
   ]
  },
  {
   "cell_type": "markdown",
   "metadata": {},
   "source": [
    "### InvestCost"
   ]
  },
  {
   "cell_type": "markdown",
   "metadata": {},
   "source": [
    "`As with generators we abstract from investment costs.`"
   ]
  },
  {
   "cell_type": "markdown",
   "metadata": {},
   "source": [
    "In DEA's *technology datasheet*, `InvestCost` corresponds to *Specific investment [MEUR2015/GWhCapacity]*. They are not zero and thus we inflation adjust them. Additionally, we need to adjust to have them in EUR (not in millions of EUR) and MWh (not in GWh).\n",
    "\n",
    "Formally, we do the following:\n",
    "\n",
    "$InvestCost \\cdot \\frac{MEUR}{1 \\ GWh} = InvestCost \\cdot \\frac{1'000'000 \\ EUR}{1'000 \\ MWh} = InvestCost \\cdot 1'000 \\frac{EUR}{MWh}$"
   ]
  },
  {
   "cell_type": "code",
   "execution_count": 128,
   "metadata": {},
   "outputs": [],
   "source": [
    "#InvestCost_HS = GeneratingCap_HS.rename(columns={\n",
    "#    'GeneratingCap_H/id':'InvestCost/tech'}).drop(columns='GeneratingCap_H/GeneratingCap_H')"
   ]
  },
  {
   "cell_type": "code",
   "execution_count": 129,
   "metadata": {},
   "outputs": [],
   "source": [
    "#DEA_InvestCost_2020 = (pd.to_numeric((technology_datasheet_for_energy_storage.loc[technology_datasheet_for_energy_storage['par']=='Specific investment [MEUR2015/GWhCapacity]', 'val']).reset_index(drop=True))).iloc[0]\n",
    "#DEA_InvestCost_2020"
   ]
  },
  {
   "cell_type": "markdown",
   "metadata": {},
   "source": [
    "Adjust units:"
   ]
  },
  {
   "cell_type": "code",
   "execution_count": 130,
   "metadata": {},
   "outputs": [],
   "source": [
    "#DEA_InvestCost_2020_adj = DEA_InvestCost_2020 * 1000\n",
    "#DEA_InvestCost_2020_adj"
   ]
  },
  {
   "cell_type": "code",
   "execution_count": 131,
   "metadata": {},
   "outputs": [],
   "source": [
    "#DEA_InvestCost_2019_adj = DEA_InvestCost_2020_adj / π[2020]\n",
    "#DEA_InvestCost_2019_adj"
   ]
  },
  {
   "cell_type": "markdown",
   "metadata": {},
   "source": [
    "Add to df:"
   ]
  },
  {
   "cell_type": "code",
   "execution_count": 132,
   "metadata": {},
   "outputs": [],
   "source": [
    "#InvestCost_HS['InvestCost/InvestCost'] = DEA_InvestCost_2019_adj"
   ]
  },
  {
   "cell_type": "markdown",
   "metadata": {},
   "source": [
    "### Put dataframes together"
   ]
  },
  {
   "cell_type": "code",
   "execution_count": 133,
   "metadata": {},
   "outputs": [],
   "source": [
    "StorageVariables_df = pd.concat([GeneratingCap_HS,chargeCap_HS,sCap,effC,effD,selfDischarge,OtherMC_HS,FOM_HS], axis=1)"
   ]
  },
  {
   "cell_type": "code",
   "execution_count": 134,
   "metadata": {},
   "outputs": [
    {
     "data": {
      "text/html": [
       "<div>\n",
       "<style scoped>\n",
       "    .dataframe tbody tr th:only-of-type {\n",
       "        vertical-align: middle;\n",
       "    }\n",
       "\n",
       "    .dataframe tbody tr th {\n",
       "        vertical-align: top;\n",
       "    }\n",
       "\n",
       "    .dataframe thead th {\n",
       "        text-align: right;\n",
       "    }\n",
       "</style>\n",
       "<table border=\"1\" class=\"dataframe\">\n",
       "  <thead>\n",
       "    <tr style=\"text-align: right;\">\n",
       "      <th></th>\n",
       "      <th>GeneratingCap_H/id</th>\n",
       "      <th>GeneratingCap_H/GeneratingCap_H</th>\n",
       "      <th>chargeCap_H/id</th>\n",
       "      <th>chargeCap_H/chargeCap_H</th>\n",
       "      <th>sCap/id</th>\n",
       "      <th>sCap/sCap</th>\n",
       "      <th>effC/id</th>\n",
       "      <th>effC/effC</th>\n",
       "      <th>effD/id</th>\n",
       "      <th>effD/effD</th>\n",
       "      <th>selfDischarge/id</th>\n",
       "      <th>selfDischarge/selfDischarge</th>\n",
       "      <th>OtherMC/id</th>\n",
       "      <th>OtherMC/OtherMC</th>\n",
       "      <th>FOM/id</th>\n",
       "      <th>FOM/FOM</th>\n",
       "    </tr>\n",
       "  </thead>\n",
       "  <tbody>\n",
       "    <tr>\n",
       "      <th>11</th>\n",
       "      <td>id_DK_Central_HS</td>\n",
       "      <td>276.3</td>\n",
       "      <td>id_DK_Central_HS</td>\n",
       "      <td>276.3</td>\n",
       "      <td>id_DK_Central_HS</td>\n",
       "      <td>16575</td>\n",
       "      <td>id_DK_Central_HS</td>\n",
       "      <td>1.0</td>\n",
       "      <td>id_DK_Central_HS</td>\n",
       "      <td>1.0</td>\n",
       "      <td>id_DK_Central_HS</td>\n",
       "      <td>0.000841</td>\n",
       "      <td>id_DK_Central_HS</td>\n",
       "      <td>0</td>\n",
       "      <td>id_DK_Central_HS</td>\n",
       "      <td>9.10187</td>\n",
       "    </tr>\n",
       "  </tbody>\n",
       "</table>\n",
       "</div>"
      ],
      "text/plain": [
       "   GeneratingCap_H/id  GeneratingCap_H/GeneratingCap_H    chargeCap_H/id  \\\n",
       "11   id_DK_Central_HS                            276.3  id_DK_Central_HS   \n",
       "\n",
       "    chargeCap_H/chargeCap_H           sCap/id  sCap/sCap           effC/id  \\\n",
       "11                    276.3  id_DK_Central_HS      16575  id_DK_Central_HS   \n",
       "\n",
       "    effC/effC           effD/id  effD/effD  selfDischarge/id  \\\n",
       "11        1.0  id_DK_Central_HS        1.0  id_DK_Central_HS   \n",
       "\n",
       "    selfDischarge/selfDischarge        OtherMC/id  OtherMC/OtherMC  \\\n",
       "11                     0.000841  id_DK_Central_HS                0   \n",
       "\n",
       "              FOM/id  FOM/FOM  \n",
       "11  id_DK_Central_HS  9.10187  "
      ]
     },
     "execution_count": 134,
     "metadata": {},
     "output_type": "execute_result"
    }
   ],
   "source": [
    "StorageVariables_df"
   ]
  },
  {
   "cell_type": "markdown",
   "metadata": {},
   "source": [
    "### Save as excel"
   ]
  },
  {
   "cell_type": "code",
   "execution_count": 135,
   "metadata": {},
   "outputs": [],
   "source": [
    "StorageVariables_df.to_excel(os.path.join(output_dir,'StorageVariables.xlsx'),sheet_name='StorageVariables', index=False)"
   ]
  },
  {
   "cell_type": "markdown",
   "metadata": {},
   "source": [
    "## Sheet \"StorageMaps\""
   ]
  },
  {
   "cell_type": "markdown",
   "metadata": {},
   "source": [
    "### id2tech"
   ]
  },
  {
   "cell_type": "code",
   "execution_count": 136,
   "metadata": {},
   "outputs": [],
   "source": [
    "id2tech_HS = GeneratingCap_HS.rename(columns={\n",
    "    'GeneratingCap_H/id':'id2tech/id'}).drop(columns='GeneratingCap_H/GeneratingCap_H').reset_index(drop=True)"
   ]
  },
  {
   "cell_type": "code",
   "execution_count": 137,
   "metadata": {},
   "outputs": [],
   "source": [
    "id2tech_HS['id2tech/tech'] = 'HS'"
   ]
  },
  {
   "cell_type": "code",
   "execution_count": 138,
   "metadata": {},
   "outputs": [
    {
     "data": {
      "text/html": [
       "<div>\n",
       "<style scoped>\n",
       "    .dataframe tbody tr th:only-of-type {\n",
       "        vertical-align: middle;\n",
       "    }\n",
       "\n",
       "    .dataframe tbody tr th {\n",
       "        vertical-align: top;\n",
       "    }\n",
       "\n",
       "    .dataframe thead th {\n",
       "        text-align: right;\n",
       "    }\n",
       "</style>\n",
       "<table border=\"1\" class=\"dataframe\">\n",
       "  <thead>\n",
       "    <tr style=\"text-align: right;\">\n",
       "      <th></th>\n",
       "      <th>id2tech/id</th>\n",
       "      <th>id2tech/tech</th>\n",
       "    </tr>\n",
       "  </thead>\n",
       "  <tbody>\n",
       "    <tr>\n",
       "      <th>0</th>\n",
       "      <td>id_DK_Central_HS</td>\n",
       "      <td>HS</td>\n",
       "    </tr>\n",
       "  </tbody>\n",
       "</table>\n",
       "</div>"
      ],
      "text/plain": [
       "         id2tech/id id2tech/tech\n",
       "0  id_DK_Central_HS           HS"
      ]
     },
     "execution_count": 138,
     "metadata": {},
     "output_type": "execute_result"
    }
   ],
   "source": [
    "id2tech_HS"
   ]
  },
  {
   "cell_type": "markdown",
   "metadata": {},
   "source": [
    "### id2hvt"
   ]
  },
  {
   "cell_type": "code",
   "execution_count": 139,
   "metadata": {},
   "outputs": [],
   "source": [
    "id2hvt_HS = GeneratingCap_HS.rename(columns={\n",
    "    'GeneratingCap_H/id':'id2hvt/id'}).drop(columns='GeneratingCap_H/GeneratingCap_H').reset_index(drop=True)"
   ]
  },
  {
   "cell_type": "code",
   "execution_count": 140,
   "metadata": {},
   "outputs": [],
   "source": [
    "id2hvt_HS['id2hvt/hvt'] = 'Standard'"
   ]
  },
  {
   "cell_type": "code",
   "execution_count": 141,
   "metadata": {},
   "outputs": [
    {
     "data": {
      "text/html": [
       "<div>\n",
       "<style scoped>\n",
       "    .dataframe tbody tr th:only-of-type {\n",
       "        vertical-align: middle;\n",
       "    }\n",
       "\n",
       "    .dataframe tbody tr th {\n",
       "        vertical-align: top;\n",
       "    }\n",
       "\n",
       "    .dataframe thead th {\n",
       "        text-align: right;\n",
       "    }\n",
       "</style>\n",
       "<table border=\"1\" class=\"dataframe\">\n",
       "  <thead>\n",
       "    <tr style=\"text-align: right;\">\n",
       "      <th></th>\n",
       "      <th>id2hvt/id</th>\n",
       "      <th>id2hvt/hvt</th>\n",
       "    </tr>\n",
       "  </thead>\n",
       "  <tbody>\n",
       "    <tr>\n",
       "      <th>0</th>\n",
       "      <td>id_DK_Central_HS</td>\n",
       "      <td>Standard</td>\n",
       "    </tr>\n",
       "  </tbody>\n",
       "</table>\n",
       "</div>"
      ],
      "text/plain": [
       "          id2hvt/id id2hvt/hvt\n",
       "0  id_DK_Central_HS   Standard"
      ]
     },
     "execution_count": 141,
     "metadata": {},
     "output_type": "execute_result"
    }
   ],
   "source": [
    "id2hvt_HS"
   ]
  },
  {
   "cell_type": "markdown",
   "metadata": {},
   "source": [
    "### id2g_H"
   ]
  },
  {
   "cell_type": "code",
   "execution_count": 142,
   "metadata": {},
   "outputs": [],
   "source": [
    "id2g_HS = GeneratingCap_HS.rename(columns={\n",
    "    'GeneratingCap_H/id':'id2g_H/id'}).drop(columns='GeneratingCap_H/GeneratingCap_H').reset_index(drop=True)"
   ]
  },
  {
   "cell_type": "markdown",
   "metadata": {},
   "source": [
    "Define a function to create correct mapping of heat storage to district heat areas:"
   ]
  },
  {
   "cell_type": "code",
   "execution_count": 143,
   "metadata": {},
   "outputs": [],
   "source": [
    "def mapping_HS(value):\n",
    "    if isinstance(value, str):\n",
    "        if 'id_DK_Central' in value:\n",
    "            return 'DK_Central'\n",
    "        elif 'id_DK_Decentral' in value:\n",
    "            return 'DK_Decentral'\n",
    "    return np.nan"
   ]
  },
  {
   "cell_type": "code",
   "execution_count": 144,
   "metadata": {},
   "outputs": [],
   "source": [
    "id2g_HS['id2g_H/g_H'] = id2g_HS['id2g_H/id'].apply(mapping_HS)"
   ]
  },
  {
   "cell_type": "code",
   "execution_count": 145,
   "metadata": {},
   "outputs": [
    {
     "data": {
      "text/html": [
       "<div>\n",
       "<style scoped>\n",
       "    .dataframe tbody tr th:only-of-type {\n",
       "        vertical-align: middle;\n",
       "    }\n",
       "\n",
       "    .dataframe tbody tr th {\n",
       "        vertical-align: top;\n",
       "    }\n",
       "\n",
       "    .dataframe thead th {\n",
       "        text-align: right;\n",
       "    }\n",
       "</style>\n",
       "<table border=\"1\" class=\"dataframe\">\n",
       "  <thead>\n",
       "    <tr style=\"text-align: right;\">\n",
       "      <th></th>\n",
       "      <th>id2g_H/id</th>\n",
       "      <th>id2g_H/g_H</th>\n",
       "    </tr>\n",
       "  </thead>\n",
       "  <tbody>\n",
       "    <tr>\n",
       "      <th>0</th>\n",
       "      <td>id_DK_Central_HS</td>\n",
       "      <td>DK_Central</td>\n",
       "    </tr>\n",
       "  </tbody>\n",
       "</table>\n",
       "</div>"
      ],
      "text/plain": [
       "          id2g_H/id  id2g_H/g_H\n",
       "0  id_DK_Central_HS  DK_Central"
      ]
     },
     "execution_count": 145,
     "metadata": {},
     "output_type": "execute_result"
    }
   ],
   "source": [
    "id2g_HS"
   ]
  },
  {
   "cell_type": "markdown",
   "metadata": {},
   "source": [
    "### tech2modelTech"
   ]
  },
  {
   "cell_type": "code",
   "execution_count": 146,
   "metadata": {},
   "outputs": [],
   "source": [
    "tech2modelTech_data = {\n",
    "    'tech2modelTech/tech':['HS'],\n",
    "    'tech2modelTech/modelTech':['HS']\n",
    "}"
   ]
  },
  {
   "cell_type": "markdown",
   "metadata": {},
   "source": [
    "As dataframe:"
   ]
  },
  {
   "cell_type": "code",
   "execution_count": 147,
   "metadata": {},
   "outputs": [],
   "source": [
    "tech2modelTech = pd.DataFrame(tech2modelTech_data)"
   ]
  },
  {
   "cell_type": "code",
   "execution_count": 148,
   "metadata": {},
   "outputs": [
    {
     "data": {
      "text/html": [
       "<div>\n",
       "<style scoped>\n",
       "    .dataframe tbody tr th:only-of-type {\n",
       "        vertical-align: middle;\n",
       "    }\n",
       "\n",
       "    .dataframe tbody tr th {\n",
       "        vertical-align: top;\n",
       "    }\n",
       "\n",
       "    .dataframe thead th {\n",
       "        text-align: right;\n",
       "    }\n",
       "</style>\n",
       "<table border=\"1\" class=\"dataframe\">\n",
       "  <thead>\n",
       "    <tr style=\"text-align: right;\">\n",
       "      <th></th>\n",
       "      <th>tech2modelTech/tech</th>\n",
       "      <th>tech2modelTech/modelTech</th>\n",
       "    </tr>\n",
       "  </thead>\n",
       "  <tbody>\n",
       "    <tr>\n",
       "      <th>0</th>\n",
       "      <td>HS</td>\n",
       "      <td>HS</td>\n",
       "    </tr>\n",
       "  </tbody>\n",
       "</table>\n",
       "</div>"
      ],
      "text/plain": [
       "  tech2modelTech/tech tech2modelTech/modelTech\n",
       "0                  HS                       HS"
      ]
     },
     "execution_count": 148,
     "metadata": {},
     "output_type": "execute_result"
    }
   ],
   "source": [
    "tech2modelTech"
   ]
  },
  {
   "cell_type": "markdown",
   "metadata": {},
   "source": [
    "### Put dataframes together"
   ]
  },
  {
   "cell_type": "code",
   "execution_count": 149,
   "metadata": {},
   "outputs": [],
   "source": [
    "StorageMaps_df = pd.concat([id2tech_HS,id2hvt_HS,id2g_HS,tech2modelTech], axis=1)"
   ]
  },
  {
   "cell_type": "code",
   "execution_count": 150,
   "metadata": {},
   "outputs": [
    {
     "data": {
      "text/html": [
       "<div>\n",
       "<style scoped>\n",
       "    .dataframe tbody tr th:only-of-type {\n",
       "        vertical-align: middle;\n",
       "    }\n",
       "\n",
       "    .dataframe tbody tr th {\n",
       "        vertical-align: top;\n",
       "    }\n",
       "\n",
       "    .dataframe thead th {\n",
       "        text-align: right;\n",
       "    }\n",
       "</style>\n",
       "<table border=\"1\" class=\"dataframe\">\n",
       "  <thead>\n",
       "    <tr style=\"text-align: right;\">\n",
       "      <th></th>\n",
       "      <th>id2tech/id</th>\n",
       "      <th>id2tech/tech</th>\n",
       "      <th>id2hvt/id</th>\n",
       "      <th>id2hvt/hvt</th>\n",
       "      <th>id2g_H/id</th>\n",
       "      <th>id2g_H/g_H</th>\n",
       "      <th>tech2modelTech/tech</th>\n",
       "      <th>tech2modelTech/modelTech</th>\n",
       "    </tr>\n",
       "  </thead>\n",
       "  <tbody>\n",
       "    <tr>\n",
       "      <th>0</th>\n",
       "      <td>id_DK_Central_HS</td>\n",
       "      <td>HS</td>\n",
       "      <td>id_DK_Central_HS</td>\n",
       "      <td>Standard</td>\n",
       "      <td>id_DK_Central_HS</td>\n",
       "      <td>DK_Central</td>\n",
       "      <td>HS</td>\n",
       "      <td>HS</td>\n",
       "    </tr>\n",
       "  </tbody>\n",
       "</table>\n",
       "</div>"
      ],
      "text/plain": [
       "         id2tech/id id2tech/tech         id2hvt/id id2hvt/hvt  \\\n",
       "0  id_DK_Central_HS           HS  id_DK_Central_HS   Standard   \n",
       "\n",
       "          id2g_H/id  id2g_H/g_H tech2modelTech/tech tech2modelTech/modelTech  \n",
       "0  id_DK_Central_HS  DK_Central                  HS                       HS  "
      ]
     },
     "execution_count": 150,
     "metadata": {},
     "output_type": "execute_result"
    }
   ],
   "source": [
    "StorageMaps_df"
   ]
  },
  {
   "cell_type": "markdown",
   "metadata": {},
   "source": [
    "### Save as excel"
   ]
  },
  {
   "cell_type": "code",
   "execution_count": 151,
   "metadata": {},
   "outputs": [],
   "source": [
    "StorageMaps_df.to_excel(os.path.join(output_dir,'StorageMaps.xlsx'),sheet_name='StorageMaps', index=False)"
   ]
  },
  {
   "cell_type": "markdown",
   "metadata": {},
   "source": [
    "## Sheet \"HourlyVariation\""
   ]
  },
  {
   "cell_type": "markdown",
   "metadata": {},
   "source": [
    "We use the excel file *CapVariation.xlsx* (file path: EnergyEconGroupWork\\DownloadDataForDK\\ModelData\\CapVariation.xlsx)."
   ]
  },
  {
   "cell_type": "code",
   "execution_count": 152,
   "metadata": {},
   "outputs": [],
   "source": [
    "HourlyVariation_df = pd.read_excel(os.path.join(os.getcwd(), 'CapVariation.xlsx')).rename(columns={'h':'CapVariation/h/hvt'})"
   ]
  },
  {
   "cell_type": "code",
   "execution_count": 153,
   "metadata": {},
   "outputs": [
    {
     "data": {
      "text/html": [
       "<div>\n",
       "<style scoped>\n",
       "    .dataframe tbody tr th:only-of-type {\n",
       "        vertical-align: middle;\n",
       "    }\n",
       "\n",
       "    .dataframe tbody tr th {\n",
       "        vertical-align: top;\n",
       "    }\n",
       "\n",
       "    .dataframe thead th {\n",
       "        text-align: right;\n",
       "    }\n",
       "</style>\n",
       "<table border=\"1\" class=\"dataframe\">\n",
       "  <thead>\n",
       "    <tr style=\"text-align: right;\">\n",
       "      <th></th>\n",
       "      <th>CapVariation/h/hvt</th>\n",
       "      <th>PV_DK</th>\n",
       "      <th>WS_DK</th>\n",
       "      <th>WL_DK</th>\n",
       "      <th>SH_DK_Central</th>\n",
       "      <th>Standard</th>\n",
       "      <th>ROR_DK</th>\n",
       "    </tr>\n",
       "  </thead>\n",
       "  <tbody>\n",
       "    <tr>\n",
       "      <th>0</th>\n",
       "      <td>1</td>\n",
       "      <td>0.00036</td>\n",
       "      <td>0.307815</td>\n",
       "      <td>0.591691</td>\n",
       "      <td>8.973731e-07</td>\n",
       "      <td>1</td>\n",
       "      <td>0.145054</td>\n",
       "    </tr>\n",
       "    <tr>\n",
       "      <th>1</th>\n",
       "      <td>2</td>\n",
       "      <td>0.00036</td>\n",
       "      <td>0.350893</td>\n",
       "      <td>0.619209</td>\n",
       "      <td>8.973731e-07</td>\n",
       "      <td>1</td>\n",
       "      <td>0.145054</td>\n",
       "    </tr>\n",
       "    <tr>\n",
       "      <th>2</th>\n",
       "      <td>3</td>\n",
       "      <td>0.00036</td>\n",
       "      <td>0.186378</td>\n",
       "      <td>0.584036</td>\n",
       "      <td>8.973731e-07</td>\n",
       "      <td>1</td>\n",
       "      <td>0.145054</td>\n",
       "    </tr>\n",
       "    <tr>\n",
       "      <th>3</th>\n",
       "      <td>4</td>\n",
       "      <td>0.00036</td>\n",
       "      <td>0.160754</td>\n",
       "      <td>0.565829</td>\n",
       "      <td>8.973731e-07</td>\n",
       "      <td>1</td>\n",
       "      <td>0.145054</td>\n",
       "    </tr>\n",
       "    <tr>\n",
       "      <th>4</th>\n",
       "      <td>5</td>\n",
       "      <td>0.00036</td>\n",
       "      <td>0.158525</td>\n",
       "      <td>0.553001</td>\n",
       "      <td>8.973731e-07</td>\n",
       "      <td>1</td>\n",
       "      <td>0.145054</td>\n",
       "    </tr>\n",
       "    <tr>\n",
       "      <th>...</th>\n",
       "      <td>...</td>\n",
       "      <td>...</td>\n",
       "      <td>...</td>\n",
       "      <td>...</td>\n",
       "      <td>...</td>\n",
       "      <td>...</td>\n",
       "      <td>...</td>\n",
       "    </tr>\n",
       "    <tr>\n",
       "      <th>8755</th>\n",
       "      <td>8756</td>\n",
       "      <td>0.00036</td>\n",
       "      <td>0.229828</td>\n",
       "      <td>0.242859</td>\n",
       "      <td>8.973731e-07</td>\n",
       "      <td>1</td>\n",
       "      <td>0.290107</td>\n",
       "    </tr>\n",
       "    <tr>\n",
       "      <th>8756</th>\n",
       "      <td>8757</td>\n",
       "      <td>0.00036</td>\n",
       "      <td>0.206432</td>\n",
       "      <td>0.205617</td>\n",
       "      <td>8.973731e-07</td>\n",
       "      <td>1</td>\n",
       "      <td>0.290107</td>\n",
       "    </tr>\n",
       "    <tr>\n",
       "      <th>8757</th>\n",
       "      <td>8758</td>\n",
       "      <td>0.00036</td>\n",
       "      <td>0.194919</td>\n",
       "      <td>0.183685</td>\n",
       "      <td>8.973731e-07</td>\n",
       "      <td>1</td>\n",
       "      <td>0.290107</td>\n",
       "    </tr>\n",
       "    <tr>\n",
       "      <th>8758</th>\n",
       "      <td>8759</td>\n",
       "      <td>0.00036</td>\n",
       "      <td>0.199004</td>\n",
       "      <td>0.174582</td>\n",
       "      <td>8.973731e-07</td>\n",
       "      <td>1</td>\n",
       "      <td>0.290107</td>\n",
       "    </tr>\n",
       "    <tr>\n",
       "      <th>8759</th>\n",
       "      <td>8760</td>\n",
       "      <td>0.00036</td>\n",
       "      <td>0.217201</td>\n",
       "      <td>0.196720</td>\n",
       "      <td>8.973731e-07</td>\n",
       "      <td>1</td>\n",
       "      <td>0.299778</td>\n",
       "    </tr>\n",
       "  </tbody>\n",
       "</table>\n",
       "<p>8760 rows × 7 columns</p>\n",
       "</div>"
      ],
      "text/plain": [
       "      CapVariation/h/hvt    PV_DK     WS_DK     WL_DK  SH_DK_Central  \\\n",
       "0                      1  0.00036  0.307815  0.591691   8.973731e-07   \n",
       "1                      2  0.00036  0.350893  0.619209   8.973731e-07   \n",
       "2                      3  0.00036  0.186378  0.584036   8.973731e-07   \n",
       "3                      4  0.00036  0.160754  0.565829   8.973731e-07   \n",
       "4                      5  0.00036  0.158525  0.553001   8.973731e-07   \n",
       "...                  ...      ...       ...       ...            ...   \n",
       "8755                8756  0.00036  0.229828  0.242859   8.973731e-07   \n",
       "8756                8757  0.00036  0.206432  0.205617   8.973731e-07   \n",
       "8757                8758  0.00036  0.194919  0.183685   8.973731e-07   \n",
       "8758                8759  0.00036  0.199004  0.174582   8.973731e-07   \n",
       "8759                8760  0.00036  0.217201  0.196720   8.973731e-07   \n",
       "\n",
       "      Standard    ROR_DK  \n",
       "0            1  0.145054  \n",
       "1            1  0.145054  \n",
       "2            1  0.145054  \n",
       "3            1  0.145054  \n",
       "4            1  0.145054  \n",
       "...        ...       ...  \n",
       "8755         1  0.290107  \n",
       "8756         1  0.290107  \n",
       "8757         1  0.290107  \n",
       "8758         1  0.290107  \n",
       "8759         1  0.299778  \n",
       "\n",
       "[8760 rows x 7 columns]"
      ]
     },
     "execution_count": 153,
     "metadata": {},
     "output_type": "execute_result"
    }
   ],
   "source": [
    "HourlyVariation_df"
   ]
  },
  {
   "cell_type": "markdown",
   "metadata": {},
   "source": [
    "Drop \"import\" columns:"
   ]
  },
  {
   "cell_type": "code",
   "execution_count": 154,
   "metadata": {},
   "outputs": [],
   "source": [
    "#HourlyVariation_df = HourlyVariation_df.filter(regex='^(?!.*ImportFrom).*$', axis=1)"
   ]
  },
  {
   "cell_type": "markdown",
   "metadata": {},
   "source": [
    "Save as excel:"
   ]
  },
  {
   "cell_type": "code",
   "execution_count": 155,
   "metadata": {},
   "outputs": [],
   "source": [
    "HourlyVariation_df.to_excel(os.path.join(output_dir,'HourlyVariation.xlsx'),sheet_name='HourlyVariation', index=False)"
   ]
  },
  {
   "cell_type": "markdown",
   "metadata": {},
   "source": [
    "## Sheet \"Scalars\""
   ]
  },
  {
   "cell_type": "markdown",
   "metadata": {},
   "source": [
    "We get the data from *MWP_E.xlsx*:"
   ]
  },
  {
   "cell_type": "code",
   "execution_count": 156,
   "metadata": {},
   "outputs": [],
   "source": [
    "Scalars_E = pd.read_excel(os.path.join(os.getcwd(), 'MWP_E.xlsx')).rename(columns={'c_DK':'MWP_E'}).drop(columns='index')"
   ]
  },
  {
   "cell_type": "markdown",
   "metadata": {},
   "source": [
    "We assume the same MWP on the heat market:"
   ]
  },
  {
   "cell_type": "code",
   "execution_count": 157,
   "metadata": {},
   "outputs": [],
   "source": [
    "Scalars_H = pd.read_excel(os.path.join(os.getcwd(), 'MWP_E.xlsx')).rename(columns={'c_DK':'MWP_H'}).drop(columns='index')"
   ]
  },
  {
   "cell_type": "markdown",
   "metadata": {},
   "source": [
    "Put dataframes together:"
   ]
  },
  {
   "cell_type": "code",
   "execution_count": 158,
   "metadata": {},
   "outputs": [],
   "source": [
    "Scalars_df = pd.concat([Scalars_E,Scalars_H], axis=1)"
   ]
  },
  {
   "cell_type": "code",
   "execution_count": 159,
   "metadata": {},
   "outputs": [
    {
     "data": {
      "text/html": [
       "<div>\n",
       "<style scoped>\n",
       "    .dataframe tbody tr th:only-of-type {\n",
       "        vertical-align: middle;\n",
       "    }\n",
       "\n",
       "    .dataframe tbody tr th {\n",
       "        vertical-align: top;\n",
       "    }\n",
       "\n",
       "    .dataframe thead th {\n",
       "        text-align: right;\n",
       "    }\n",
       "</style>\n",
       "<table border=\"1\" class=\"dataframe\">\n",
       "  <thead>\n",
       "    <tr style=\"text-align: right;\">\n",
       "      <th></th>\n",
       "      <th>MWP_E</th>\n",
       "      <th>MWP_H</th>\n",
       "    </tr>\n",
       "  </thead>\n",
       "  <tbody>\n",
       "    <tr>\n",
       "      <th>0</th>\n",
       "      <td>1000</td>\n",
       "      <td>1000</td>\n",
       "    </tr>\n",
       "  </tbody>\n",
       "</table>\n",
       "</div>"
      ],
      "text/plain": [
       "   MWP_E  MWP_H\n",
       "0   1000   1000"
      ]
     },
     "execution_count": 159,
     "metadata": {},
     "output_type": "execute_result"
    }
   ],
   "source": [
    "Scalars_df"
   ]
  },
  {
   "cell_type": "markdown",
   "metadata": {},
   "source": [
    "Add *lineLoss*:"
   ]
  },
  {
   "cell_type": "code",
   "execution_count": 160,
   "metadata": {},
   "outputs": [],
   "source": [
    "Scalars_df['lineLoss'] = 0"
   ]
  },
  {
   "cell_type": "markdown",
   "metadata": {},
   "source": [
    "Transfer df from wide to long:"
   ]
  },
  {
   "cell_type": "code",
   "execution_count": 161,
   "metadata": {},
   "outputs": [],
   "source": [
    "Scalars_df = Scalars_df.melt(var_name='Variable', value_name='Value')"
   ]
  },
  {
   "cell_type": "code",
   "execution_count": 162,
   "metadata": {},
   "outputs": [
    {
     "data": {
      "text/html": [
       "<div>\n",
       "<style scoped>\n",
       "    .dataframe tbody tr th:only-of-type {\n",
       "        vertical-align: middle;\n",
       "    }\n",
       "\n",
       "    .dataframe tbody tr th {\n",
       "        vertical-align: top;\n",
       "    }\n",
       "\n",
       "    .dataframe thead th {\n",
       "        text-align: right;\n",
       "    }\n",
       "</style>\n",
       "<table border=\"1\" class=\"dataframe\">\n",
       "  <thead>\n",
       "    <tr style=\"text-align: right;\">\n",
       "      <th></th>\n",
       "      <th>Variable</th>\n",
       "      <th>Value</th>\n",
       "    </tr>\n",
       "  </thead>\n",
       "  <tbody>\n",
       "    <tr>\n",
       "      <th>0</th>\n",
       "      <td>MWP_E</td>\n",
       "      <td>1000</td>\n",
       "    </tr>\n",
       "    <tr>\n",
       "      <th>1</th>\n",
       "      <td>MWP_H</td>\n",
       "      <td>1000</td>\n",
       "    </tr>\n",
       "    <tr>\n",
       "      <th>2</th>\n",
       "      <td>lineLoss</td>\n",
       "      <td>0</td>\n",
       "    </tr>\n",
       "  </tbody>\n",
       "</table>\n",
       "</div>"
      ],
      "text/plain": [
       "   Variable  Value\n",
       "0     MWP_E   1000\n",
       "1     MWP_H   1000\n",
       "2  lineLoss      0"
      ]
     },
     "execution_count": 162,
     "metadata": {},
     "output_type": "execute_result"
    }
   ],
   "source": [
    "Scalars_df"
   ]
  },
  {
   "cell_type": "markdown",
   "metadata": {},
   "source": [
    "Save as excel:"
   ]
  },
  {
   "cell_type": "code",
   "execution_count": 163,
   "metadata": {},
   "outputs": [],
   "source": [
    "Scalars_df.to_excel(os.path.join(output_dir,'Scalars.xlsx'),sheet_name='Scalars', index=False, header=False)"
   ]
  },
  {
   "cell_type": "markdown",
   "metadata": {},
   "source": [
    "## Sheet \"TransmissionLines\""
   ]
  },
  {
   "cell_type": "markdown",
   "metadata": {},
   "source": [
    "We copy the sheet from *E42_Data.xlsx* as we have the same data in file *lineCapacity.xlsx*. But as we do not include Transmission in our model we set the *linecapacity* to zero."
   ]
  },
  {
   "cell_type": "markdown",
   "metadata": {},
   "source": [
    "## Sheet \"MarketMaps\""
   ]
  },
  {
   "cell_type": "markdown",
   "metadata": {},
   "source": [
    "We copy the sheet from *E42_Data.xlsx* and adjust the data manually directly in the excel spreadsheet."
   ]
  },
  {
   "cell_type": "markdown",
   "metadata": {},
   "source": [
    "## Sheet \"hMaps\""
   ]
  },
  {
   "cell_type": "markdown",
   "metadata": {},
   "source": [
    "We copy the sheet from *E44_Data.xlsx*, so we do not have to do the headeradjustment ourselves."
   ]
  },
  {
   "cell_type": "markdown",
   "metadata": {},
   "source": [
    "## Combine excel files as different sheets within one file"
   ]
  },
  {
   "cell_type": "markdown",
   "metadata": {},
   "source": [
    "Define directory where final dataset is saved to:"
   ]
  },
  {
   "cell_type": "code",
   "execution_count": 164,
   "metadata": {},
   "outputs": [],
   "source": [
    "df_final_dir = 'C:\\\\Users\\\\mpher\\\\Documents\\\\Uni\\\\Master\\\\02_Exchange\\\\01_Academics\\\\Energy Economics of the Green Transition\\\\EnergyEconGroupWork\\\\Data\\\\mBasicPH_storage_Data.xlsx'"
   ]
  },
  {
   "cell_type": "markdown",
   "metadata": {},
   "source": [
    "In this last step, we combine the different excel files into one excel file split up into multiple sheets."
   ]
  },
  {
   "cell_type": "code",
   "execution_count": 165,
   "metadata": {},
   "outputs": [],
   "source": [
    "#List all excel files in folder\n",
    "output_dir_final = [os.path.join(root, file) for root, folder, files in os.walk(output_dir) for file in files if file.endswith(\".xlsx\")]\n",
    "\n",
    "# Define order of sheets\n",
    "defined_order = ['log.xlsx', 'Fundamentals.xlsx','LoadVariables.xlsx', 'LoadMaps.xlsx','GeneratorsVariables.xlsx','GeneratorsMaps.xlsx','StorageVariables.xlsx','StorageMaps.xlsx','HourlyVariation.xlsx','Scalars.xlsx','TransmissionLines.xlsx','MarketMaps.xlsx','hMaps.xlsx']\n",
    "output_dir_final.sort(key=lambda x: defined_order.index(os.path.basename(x)))\n",
    "\n",
    "with pd.ExcelWriter(df_final_dir) as writer:\n",
    "    for excel in output_dir_final: #For each excel\n",
    "        sheet_name = pd.ExcelFile(excel).sheet_names[0] #Find the sheet name\n",
    "        df = pd.read_excel(excel) #Create a dataframe\n",
    "        df.to_excel(writer, sheet_name=sheet_name, index=False) #Write it to a sheet in the output excel"
   ]
  },
  {
   "cell_type": "markdown",
   "metadata": {},
   "source": [
    "We do some minor adjustments manually (yellow marked in file):\n",
    "- GeneratorsVariables: shifting empy cells up, so no gap with empy lines (came from omitting NAs and not adjusting index number of dataframes)\n",
    "- HourlyVariation: \n",
    "    - The WS_DK column contained 44 cells with negative values. This makes no sense, as it would mean that the wind turbine is producing wind instead of utilising it. We have overwritten the cells in question with a formula that calculates the average of the preceding and subsequent cell. It does not significantly influence our results as the absolute values were very low (Max: 0.000048) and only 44 out of 8760 hours were affected.\n",
    "    - As the HourlyVariation for ROR does not get imported when we aggregate the heating and electricity areas, we manually copy this data from the deaggregated data file *mBasicPH_storage_Data.xlsx* (stored locally on our computer)."
   ]
  }
 ],
 "metadata": {
  "kernelspec": {
   "display_name": "EE2023",
   "language": "python",
   "name": "python3"
  },
  "language_info": {
   "codemirror_mode": {
    "name": "ipython",
    "version": 3
   },
   "file_extension": ".py",
   "mimetype": "text/x-python",
   "name": "python",
   "nbconvert_exporter": "python",
   "pygments_lexer": "ipython3",
   "version": "3.11.3"
  }
 },
 "nbformat": 4,
 "nbformat_minor": 2
}
