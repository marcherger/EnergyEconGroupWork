{
 "cells": [
  {
   "cell_type": "markdown",
   "metadata": {},
   "source": [
    "# Construct Dataset"
   ]
  },
  {
   "cell_type": "markdown",
   "metadata": {},
   "source": [
    "In this Jupyter notebook, the dataset going into the $mBasicPH\\_storage$ is being constructed. Basically, this file constructs an excel file (stored in \"EnergyEconGroupWork\\Data\") from the various excel files (stored in \"EnergyEconGroupWork\\DownloadDataForDK\\ModelData\") which were constructed from real world data."
   ]
  },
  {
   "cell_type": "markdown",
   "metadata": {},
   "source": [
    "Import standard packages:"
   ]
  },
  {
   "cell_type": "code",
   "execution_count": 3,
   "metadata": {},
   "outputs": [],
   "source": [
    "import pandas as pd,os, numpy as np"
   ]
  },
  {
   "cell_type": "markdown",
   "metadata": {},
   "source": [
    "Let's specify an output folder:"
   ]
  },
  {
   "cell_type": "code",
   "execution_count": 4,
   "metadata": {},
   "outputs": [],
   "source": [
    "output_dir = os.getcwd()"
   ]
  },
  {
   "cell_type": "code",
   "execution_count": 5,
   "metadata": {},
   "outputs": [
    {
     "name": "stdout",
     "output_type": "stream",
     "text": [
      "c:\\Users\\mpher\\Documents\\Uni\\Master\\02_Exchange\\01_Academics\\Energy Economics of the Green Transition\\0_Final Project\\EnergyEconGroupWork\\Data\n"
     ]
    }
   ],
   "source": [
    "print(data_dir)"
   ]
  },
  {
   "cell_type": "markdown",
   "metadata": {},
   "source": [
    "## Sheet \"Log\""
   ]
  },
  {
   "cell_type": "markdown",
   "metadata": {},
   "source": [
    "Here we construct the sheet \"Log\", which defines the **UNITS** of variables."
   ]
  },
  {
   "cell_type": "markdown",
   "metadata": {},
   "source": [
    "Define **UNITS**:"
   ]
  },
  {
   "cell_type": "code",
   "execution_count": 9,
   "metadata": {},
   "outputs": [],
   "source": [
    "UNITS = {\n",
    "    'FuelPrice':'EUR/MWh',\n",
    "    'EmissionIntensity':'Ton CO2/MWh input',\n",
    "    'EmissionTax':'EUR/TCO2',\n",
    "    'Load':'MWh',\n",
    "    'FuelMix':'MWh input / MWh output', # Data: 'TWh input / TWh output' -> adjust\n",
    "    'GeneratingCapacity':'MW', \n",
    "    'OtherMC':'EUR/MWh output',\n",
    "    'FOM':'EUR/MW/(hours per model year)/8760', # convert from year to hours per model year\n",
    "    'InvestCost':'Million EUR2015/MWhCapacity', # Data: 'Million EUR2015/GWhCapacity' -> adjust\n",
    "    'LoadVariation':'Percent of annual demand',\n",
    "    'CapVariation':'Percent of generating capacity',\n",
    "    'MWP_E':'EUR/MWh',\n",
    "    'MWP_H':'EUR/MWh'\n",
    "}"
   ]
  },
  {
   "cell_type": "markdown",
   "metadata": {},
   "source": [
    "Add dictionary to \"Log\" dataset:"
   ]
  },
  {
   "cell_type": "code",
   "execution_count": 10,
   "metadata": {},
   "outputs": [],
   "source": [
    "df_Log = pd.DataFrame(list(UNITS.items()), columns=['Variable', ''])"
   ]
  },
  {
   "cell_type": "markdown",
   "metadata": {},
   "source": [
    "Save as excel:"
   ]
  },
  {
   "cell_type": "code",
   "execution_count": null,
   "metadata": {},
   "outputs": [],
   "source": [
    "df_Log.to_excel(os.path.join(output_dir,'log.xlsx'),index=False)"
   ]
  }
 ],
 "metadata": {
  "kernelspec": {
   "display_name": "EE2023",
   "language": "python",
   "name": "python3"
  },
  "language_info": {
   "codemirror_mode": {
    "name": "ipython",
    "version": 3
   },
   "file_extension": ".py",
   "mimetype": "text/x-python",
   "name": "python",
   "nbconvert_exporter": "python",
   "pygments_lexer": "ipython3",
   "version": "3.11.3"
  }
 },
 "nbformat": 4,
 "nbformat_minor": 2
}
