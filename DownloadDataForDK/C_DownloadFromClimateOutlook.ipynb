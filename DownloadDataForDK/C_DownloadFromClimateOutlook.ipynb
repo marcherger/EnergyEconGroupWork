{
 "cells": [
  {
   "cell_type": "markdown",
   "id": "9fbe143c-bfc9-479d-9490-6332640156da",
   "metadata": {},
   "source": [
    "In this notebook, we will be downloading data from the [**Danish Climate Outlook 2023**](https://ens.dk/service/fremskrivninger-analyser-modeller/klimastatus-og-fremskrivning-2023) that is produced by the Danish Energy Agency. The Danish Energy Agency uses a linear programming model of the European electricity system called [**RAMSES**](https://ens.dk/sites/ens.dk/files/Analyser/ramses_energisystemmodel.pdf) as part of the producing the climate outlook. The input data for Ramses is based on an inventory of all Danish electricity and district heat generating plants in Denmark as well as a set of representative plants in the rest of Europe. The Ramses data is confidential, but the Danish Energy Agency does make available a list of representative plants for each area/country. \n",
    "\n",
    "We will be using this data on representative plants. It is made available on their [**website**](https://ens.dk/service/fremskrivninger-analyser-modeller/klimastatus-og-fremskrivning-2023) under the heading **\"Dataark for resultater\"**, but can also be directly downloaded here: [**\"KF23 dataark – El og fjernvarme\"**](https://ens.dk/sites/ens.dk/files/Basisfremskrivning/kf23_el_og_fjernvarme.xlsx).  Unfortunately, the data is only available in Danish but it is not difficult to translate using Google translate. We will be using:"
   ]
  },
  {
   "cell_type": "markdown",
   "id": "2c88018d-5c78-4470-8c76-1dfd58b96310",
   "metadata": {},
   "source": [
    "Import standard packages:"
   ]
  },
  {
   "cell_type": "code",
   "execution_count": 1,
   "id": "0693ba61-1a47-4132-914b-c54a9b787911",
   "metadata": {
    "tags": []
   },
   "outputs": [],
   "source": [
    "import pandas as pd,os, numpy as np"
   ]
  },
  {
   "cell_type": "markdown",
   "id": "2279bca1-94c7-4edb-b4e5-0d91ef52f16a",
   "metadata": {
    "tags": []
   },
   "source": [
    "Let's specify an output folder:"
   ]
  },
  {
   "cell_type": "code",
   "execution_count": 2,
   "id": "ae2d0e5a-ba80-49c4-ae8f-5e8feb19d502",
   "metadata": {
    "tags": []
   },
   "outputs": [],
   "source": [
    "direc = os.getcwd()\n",
    "data_dir = os.path.join(direc,'CleanedData')"
   ]
  },
  {
   "cell_type": "markdown",
   "id": "a51dc923-2860-44f6-a817-82b01f23437c",
   "metadata": {
    "tags": []
   },
   "source": [
    "## 1 Settings"
   ]
  },
  {
   "cell_type": "code",
   "execution_count": 3,
   "id": "a03a005a-26e3-4047-990f-c82443d4dad7",
   "metadata": {
    "tags": []
   },
   "outputs": [],
   "source": [
    "year = 2022"
   ]
  },
  {
   "cell_type": "markdown",
   "id": "e250874a-0379-47bf-94a4-df4af363b4c6",
   "metadata": {},
   "source": [
    "Electricity areas:"
   ]
  },
  {
   "cell_type": "code",
   "execution_count": 4,
   "id": "4cfb005f-ca58-4ee8-964d-47d48f843532",
   "metadata": {
    "tags": []
   },
   "outputs": [],
   "source": [
    "g_E = {'DK1':'DK1','DK2':'DK2'}"
   ]
  },
  {
   "cell_type": "markdown",
   "id": "f1c8fbf8-d02a-458d-9b28-20c63819f4c8",
   "metadata": {
    "tags": []
   },
   "source": [
    "Heating areas:"
   ]
  },
  {
   "cell_type": "code",
   "execution_count": 5,
   "id": "1786b547-5484-47e0-bcef-9d06d92ca76a",
   "metadata": {
    "tags": []
   },
   "outputs": [],
   "source": [
    "g_H = {\n",
    "    'Centrale områder':'Central', # Large plants located at central nodes in the grid (often urban areas)\n",
    "    'Større decentrale områder':'LargeDecentral', # large plant distributed close to actual consumption (distribution generation)\n",
    "    'Mindre decentrale områder':'SmallDecentral', # small plants distributed very close to actual consumption (distributed generation)\n",
    "}"
   ]
  },
  {
   "cell_type": "markdown",
   "id": "ef1093fd-8dac-449d-bfa0-724302fd66b0",
   "metadata": {},
   "source": [
    "Technology types:"
   ]
  },
  {
   "cell_type": "code",
   "execution_count": 6,
   "id": "b64c4892-aae3-4f83-aab8-61404ea983b3",
   "metadata": {
    "tags": []
   },
   "outputs": [],
   "source": [
    "tech = {\n",
    "    'Industriel overskudsel':'IndustryE', # Industrial surplus electricity\n",
    "    'Kondens':'CD', \n",
    "    'Havvind':'WS', \n",
    "    'Hydro':'ROR', # Run-of-river hydro (intermittent without storage)\n",
    "    'Kedel':'BH',\n",
    "    'Kraftvarme':'BP', # Assume all CHP plants are Back Pressure. \n",
    "    'Industrivarme':'IndustryH', # Industrial surplus heat\n",
    "    'PtX_Brint': 'EP', # Electrolyzer Plant \n",
    "    'Elpatron':'IH', # Electric immersion water heater \n",
    "    'Solvarme':'SH',\n",
    "    'Varmepumper':'HPstandard', \n",
    "    'Varmepumper(overskudsvarme)':'HPsurplusheat', \n",
    "    'Geotermi':'GT',\n",
    "    'Landvind':'WL', \n",
    "    'Solceller':'PV',\n",
    "}"
   ]
  },
  {
   "cell_type": "markdown",
   "id": "ea0f5426-aa26-4048-b9dc-50217f697b72",
   "metadata": {},
   "source": [
    "Mapping between tech and model tech:"
   ]
  },
  {
   "cell_type": "code",
   "execution_count": 7,
   "id": "ecffeaab-8fe3-4ec0-9a78-db892512d435",
   "metadata": {
    "tags": []
   },
   "outputs": [],
   "source": [
    "tech2modelTech = {tech:'standard_E' for tech in ['IndustryE','CD','WS','ROR','WL','PV']}\n",
    "tech2modelTech.update({tech:'standard_H' for tech in ['BH','IndustryH','SH','GT']})\n",
    "tech2modelTech.update({'BP':'BP','HPstandard':'HP','HPsurplusheat':'HP','IH':'HP','EP':'HP'})"
   ]
  },
  {
   "cell_type": "markdown",
   "id": "d07856be-7e79-487a-bbf7-46197f63a58a",
   "metadata": {
    "tags": []
   },
   "source": [
    "Fuel types:"
   ]
  },
  {
   "cell_type": "code",
   "execution_count": 8,
   "id": "651691f6-f8b6-44e5-b5bb-5769666ba59d",
   "metadata": {
    "tags": []
   },
   "outputs": [],
   "source": [
    "BFt = {\n",
    "    'Biogas':'Biogas',\n",
    "    'Havvind':np.nan,\n",
    "    'Hydro':np.nan,\n",
    "    'Naturgas':'Natgas',\n",
    "    'Olie':'Oil',\n",
    "    'Affald':'Waste',\n",
    "    'Biomasse':'Biomass',\n",
    "    'Elkedler':np.nan,\n",
    "    'Kul':'Coal',\n",
    "    'Solvarme':np.nan,\n",
    "    'Varmepumper':np.nan,\n",
    "    'Varmepumper(overskudsvarme)':np.nan,\n",
    "    'Geotermi':np.nan,\n",
    "    'Landvind':np.nan,\n",
    "    'Solceller':np.nan,\n",
    "    'Industrivarme':np.nan\n",
    "}"
   ]
  },
  {
   "cell_type": "markdown",
   "id": "1b445ad6-e307-47bb-822d-77fc170fc610",
   "metadata": {
    "tags": []
   },
   "source": [
    "## 2 Clean Plant Data"
   ]
  },
  {
   "cell_type": "markdown",
   "id": "9e244d3c-c704-4524-addc-0f99ad32e870",
   "metadata": {},
   "source": [
    "Get raw plant data:"
   ]
  },
  {
   "cell_type": "code",
   "execution_count": 9,
   "id": "60324fe5-630c-4748-a595-e40ca0fddfc8",
   "metadata": {
    "tags": []
   },
   "outputs": [],
   "source": [
    "df_plant = pd.read_excel(os.path.join(os.getcwd(),'RawData','ClimateOutlook2023_PlantData_and_TTC.xlsx'),sheet_name='Rådata_prod').drop(columns='version').rename(columns={\n",
    "    'year':'Year',\n",
    "    'ElArea':'g_E',\n",
    "    'HeatArea_Category':'g_H',\n",
    "    'Teknologitype':'TechnologyType',\n",
    "    'Brændselstype':'BFt',\n",
    "    'Elkapacitet_MW':'GeneratingCapacity_E',\n",
    "    'Varmekapacitet_MW':'GeneratingCapacity_H',\n",
    "    'Elproduktion_TWh':'Generation_E',\n",
    "    'Varmeproduktion_TWh':'Generation_H',\n",
    "    'Brændselsforbrug_TWh':'FuelConsumption',\n",
    "})"
   ]
  },
  {
   "cell_type": "markdown",
   "id": "ce3477ba",
   "metadata": {},
   "source": [
    "---"
   ]
  },
  {
   "cell_type": "code",
   "execution_count": 10,
   "id": "3e29bca8",
   "metadata": {},
   "outputs": [
    {
     "data": {
      "text/html": [
       "<div>\n",
       "<style scoped>\n",
       "    .dataframe tbody tr th:only-of-type {\n",
       "        vertical-align: middle;\n",
       "    }\n",
       "\n",
       "    .dataframe tbody tr th {\n",
       "        vertical-align: top;\n",
       "    }\n",
       "\n",
       "    .dataframe thead th {\n",
       "        text-align: right;\n",
       "    }\n",
       "</style>\n",
       "<table border=\"1\" class=\"dataframe\">\n",
       "  <thead>\n",
       "    <tr style=\"text-align: right;\">\n",
       "      <th></th>\n",
       "      <th>Year</th>\n",
       "      <th>g_E</th>\n",
       "      <th>g_H</th>\n",
       "      <th>BFt</th>\n",
       "      <th>TechnologyType</th>\n",
       "      <th>GeneratingCapacity_E</th>\n",
       "      <th>GeneratingCapacity_H</th>\n",
       "      <th>Generation_E</th>\n",
       "      <th>Generation_H</th>\n",
       "      <th>FuelConsumption</th>\n",
       "    </tr>\n",
       "  </thead>\n",
       "  <tbody>\n",
       "    <tr>\n",
       "      <th>0</th>\n",
       "      <td>2022</td>\n",
       "      <td>AT</td>\n",
       "      <td>NaN</td>\n",
       "      <td>Biomasse</td>\n",
       "      <td>Kraftvarme</td>\n",
       "      <td>482.000</td>\n",
       "      <td>0.0</td>\n",
       "      <td>2.715</td>\n",
       "      <td>0.0</td>\n",
       "      <td>3.824</td>\n",
       "    </tr>\n",
       "    <tr>\n",
       "      <th>1</th>\n",
       "      <td>2022</td>\n",
       "      <td>AT</td>\n",
       "      <td>NaN</td>\n",
       "      <td>Hydro</td>\n",
       "      <td>Hydro</td>\n",
       "      <td>8728.000</td>\n",
       "      <td>0.0</td>\n",
       "      <td>27.556</td>\n",
       "      <td>0.0</td>\n",
       "      <td>25.188</td>\n",
       "    </tr>\n",
       "    <tr>\n",
       "      <th>2</th>\n",
       "      <td>2022</td>\n",
       "      <td>AT</td>\n",
       "      <td>NaN</td>\n",
       "      <td>Landvind</td>\n",
       "      <td>Landvind</td>\n",
       "      <td>3500.000</td>\n",
       "      <td>0.0</td>\n",
       "      <td>7.187</td>\n",
       "      <td>0.0</td>\n",
       "      <td>7.187</td>\n",
       "    </tr>\n",
       "    <tr>\n",
       "      <th>3</th>\n",
       "      <td>2022</td>\n",
       "      <td>AT</td>\n",
       "      <td>NaN</td>\n",
       "      <td>Naturgas</td>\n",
       "      <td>Industriel overskudsel</td>\n",
       "      <td>1057.000</td>\n",
       "      <td>0.0</td>\n",
       "      <td>5.259</td>\n",
       "      <td>0.0</td>\n",
       "      <td>11.687</td>\n",
       "    </tr>\n",
       "    <tr>\n",
       "      <th>4</th>\n",
       "      <td>2022</td>\n",
       "      <td>AT</td>\n",
       "      <td>NaN</td>\n",
       "      <td>Naturgas</td>\n",
       "      <td>Kondens</td>\n",
       "      <td>4348.999</td>\n",
       "      <td>0.0</td>\n",
       "      <td>1.693</td>\n",
       "      <td>0.0</td>\n",
       "      <td>2.930</td>\n",
       "    </tr>\n",
       "  </tbody>\n",
       "</table>\n",
       "</div>"
      ],
      "text/plain": [
       "   Year g_E  g_H       BFt          TechnologyType  GeneratingCapacity_E  \\\n",
       "0  2022  AT  NaN  Biomasse              Kraftvarme               482.000   \n",
       "1  2022  AT  NaN     Hydro                   Hydro              8728.000   \n",
       "2  2022  AT  NaN  Landvind                Landvind              3500.000   \n",
       "3  2022  AT  NaN  Naturgas  Industriel overskudsel              1057.000   \n",
       "4  2022  AT  NaN  Naturgas                 Kondens              4348.999   \n",
       "\n",
       "   GeneratingCapacity_H  Generation_E  Generation_H  FuelConsumption  \n",
       "0                   0.0         2.715           0.0            3.824  \n",
       "1                   0.0        27.556           0.0           25.188  \n",
       "2                   0.0         7.187           0.0            7.187  \n",
       "3                   0.0         5.259           0.0           11.687  \n",
       "4                   0.0         1.693           0.0            2.930  "
      ]
     },
     "execution_count": 10,
     "metadata": {},
     "output_type": "execute_result"
    }
   ],
   "source": [
    "df_plant.head()"
   ]
  },
  {
   "cell_type": "markdown",
   "id": "df8ecfc2",
   "metadata": {},
   "source": [
    "---"
   ]
  },
  {
   "cell_type": "markdown",
   "id": "07f5a5b0-a8a6-4506-8de6-51423d5fda0b",
   "metadata": {
    "jp-MarkdownHeadingCollapsed": true,
    "tags": []
   },
   "source": [
    "Subset year:"
   ]
  },
  {
   "cell_type": "code",
   "execution_count": 11,
   "id": "81bdea80-e1db-4efb-8e07-7bc3379d3699",
   "metadata": {
    "tags": []
   },
   "outputs": [],
   "source": [
    "df_plant = df_plant[df_plant['Year']==year]"
   ]
  },
  {
   "cell_type": "markdown",
   "id": "2006eef5-ee65-43b7-878a-60a9115577e6",
   "metadata": {
    "tags": []
   },
   "source": [
    "Subset and aggregate electricity area:"
   ]
  },
  {
   "cell_type": "code",
   "execution_count": 12,
   "id": "72dfa6d2-9cc5-4753-bfbb-6606bcef02d6",
   "metadata": {
    "tags": []
   },
   "outputs": [],
   "source": [
    "df_plant = df_plant[df_plant['g_E'].isin(g_E.keys())].replace({'g_E':g_E})"
   ]
  },
  {
   "cell_type": "markdown",
   "id": "69bc96d8-3a92-4c47-a58d-dd4f67c68b6f",
   "metadata": {
    "tags": []
   },
   "source": [
    "Subset and aggregate district heat area:"
   ]
  },
  {
   "cell_type": "code",
   "execution_count": 13,
   "id": "a6428c8f-2cd6-4adb-b51c-66b0b248e9cf",
   "metadata": {
    "tags": []
   },
   "outputs": [],
   "source": [
    "df_plant = df_plant[df_plant['g_H'].isin([x for x in g_H.keys()] + [np.nan])].replace({'g_H':g_H})"
   ]
  },
  {
   "cell_type": "markdown",
   "id": "26d01398-129c-4e9d-aeb4-9e06dd4d4974",
   "metadata": {
    "tags": []
   },
   "source": [
    "Aggregate fuel types:"
   ]
  },
  {
   "cell_type": "code",
   "execution_count": 14,
   "id": "ef96f407-3ca7-49ea-a7ae-31543d74b256",
   "metadata": {
    "tags": []
   },
   "outputs": [],
   "source": [
    "df_plant['BFt'] = df_plant['BFt'].replace(BFt)"
   ]
  },
  {
   "cell_type": "markdown",
   "id": "806efd41-d3eb-4ce8-932c-c22403ab401c",
   "metadata": {
    "tags": []
   },
   "source": [
    "Deal with PtX because it is split over multiple cells:"
   ]
  },
  {
   "cell_type": "code",
   "execution_count": 15,
   "id": "3c543a65-7937-41e4-9ae1-f4685fa3ac69",
   "metadata": {
    "tags": []
   },
   "outputs": [],
   "source": [
    "idx = df_plant['TechnologyType']=='PtX_Brint'\n",
    "df_plant.loc[idx,'BFt'] = np.nan"
   ]
  },
  {
   "cell_type": "markdown",
   "id": "a8c72184-f3e4-4888-9946-79ca7311d513",
   "metadata": {
    "tags": []
   },
   "source": [
    "Aggregate technology types:"
   ]
  },
  {
   "cell_type": "code",
   "execution_count": 16,
   "id": "52797637-e1d8-46de-afc6-ec82106ddb1a",
   "metadata": {},
   "outputs": [],
   "source": [
    "df_plant['tech'] = ['_'.join([y,x]) if isinstance(x,str) else y for x,y in zip(df_plant['BFt'],df_plant['TechnologyType'].replace(tech))]"
   ]
  },
  {
   "cell_type": "markdown",
   "id": "3069bb2b-4c04-429e-9cc7-5f01470a0de3",
   "metadata": {
    "tags": []
   },
   "source": [
    "Add model technology:"
   ]
  },
  {
   "cell_type": "code",
   "execution_count": 17,
   "id": "a339de0a-2b44-4284-b607-c0d36bd3e388",
   "metadata": {
    "tags": []
   },
   "outputs": [],
   "source": [
    "df_plant['modelTech'] = df_plant['TechnologyType'].replace(tech).replace(tech2modelTech)"
   ]
  },
  {
   "cell_type": "markdown",
   "id": "a05b79f0-fb72-45c6-a7f8-05a538885e7b",
   "metadata": {
    "tags": []
   },
   "source": [
    "Correct some purely electricity producing plants that are part of heating areas:"
   ]
  },
  {
   "cell_type": "code",
   "execution_count": 18,
   "id": "eb477cf0-7d87-43fa-9ba6-bc8587c7ea58",
   "metadata": {
    "tags": []
   },
   "outputs": [],
   "source": [
    "idx = (~df_plant['g_H'].isna()) & (df_plant['GeneratingCapacity_H']==0) & (df_plant['tech']!='EP')\n",
    "df_plant.loc[idx,'g_H'] = np.nan"
   ]
  },
  {
   "cell_type": "markdown",
   "id": "3ea391ea-85f8-43c4-883d-a897a5e23d29",
   "metadata": {},
   "source": [
    "Aggregate plants:"
   ]
  },
  {
   "cell_type": "code",
   "execution_count": 19,
   "id": "7910ad16-1548-4839-9183-7856e9e78804",
   "metadata": {
    "tags": []
   },
   "outputs": [],
   "source": [
    "g_cols = ['Year','g_E','g_H','BFt','tech','modelTech']\n",
    "num_cols = ['GeneratingCapacity_E','GeneratingCapacity_H','Generation_E','Generation_H','FuelConsumption']\n",
    "df_plant[num_cols] = df_plant[num_cols].astype(float)\n",
    "df_plant = df_plant.groupby(g_cols,dropna=False)[num_cols].agg('sum').reset_index()"
   ]
  },
  {
   "cell_type": "markdown",
   "id": "123da14a-f570-411c-8447-f147d41b8e68",
   "metadata": {},
   "source": [
    "Calculate inverse fuel efficiencies for standard thermal plants:"
   ]
  },
  {
   "cell_type": "code",
   "execution_count": 20,
   "id": "54dab5f2-1f5f-4669-951f-1567b01c895b",
   "metadata": {
    "tags": []
   },
   "outputs": [],
   "source": [
    "df_plant['FuelMix'] = np.nan\n",
    "idx = (df_plant['modelTech'].str.find('standard_')!=-1) & (~df_plant['BFt'].isna())\n",
    "df_plant.loc[idx,'FuelMix'] = df_plant.loc[idx,'FuelConsumption']/(df_plant.loc[idx,'Generation_E']+df_plant.loc[idx,'Generation_H'])"
   ]
  },
  {
   "cell_type": "markdown",
   "id": "af0552ab-e0d5-4f72-91f1-b6fec18c990c",
   "metadata": {
    "tags": []
   },
   "source": [
    "Calculate inverse fuel efficiens for back pressure plants:"
   ]
  },
  {
   "cell_type": "code",
   "execution_count": 21,
   "id": "f152f88c-0c8c-456c-b021-2c5b958aadf2",
   "metadata": {
    "tags": []
   },
   "outputs": [],
   "source": [
    "idx = df_plant['modelTech']=='BP'\n",
    "df_plant.loc[idx,'FuelMix'] = df_plant.loc[idx,'FuelConsumption']/df_plant.loc[idx,'Generation_E']"
   ]
  },
  {
   "cell_type": "markdown",
   "id": "2bcf02a8-b381-4db5-9a3d-ede036d2771a",
   "metadata": {
    "tags": []
   },
   "source": [
    "Calculate electricity-to-heat ratio of back pressure, heat pumps and ptx plants:"
   ]
  },
  {
   "cell_type": "code",
   "execution_count": 22,
   "id": "165c253e-6ca8-42f1-bfbc-6211fc661fb6",
   "metadata": {
    "tags": []
   },
   "outputs": [],
   "source": [
    "df_plant['E2H'] = np.nan\n",
    "idx = df_plant['modelTech'].isin(['BP','HP'])\n",
    "df_plant.loc[idx,'E2H'] = df_plant.loc[idx,'GeneratingCapacity_E']/df_plant.loc[idx,'GeneratingCapacity_H']"
   ]
  },
  {
   "cell_type": "markdown",
   "id": "af189890-582b-4a93-bec0-0260849fa3ee",
   "metadata": {
    "tags": []
   },
   "source": [
    "Calculate electricity to hydrogen for ptx plants:"
   ]
  },
  {
   "cell_type": "code",
   "execution_count": 23,
   "id": "32306ba5-41ec-4b3c-8b94-5ce4d0a9da4f",
   "metadata": {
    "tags": []
   },
   "outputs": [],
   "source": [
    "df_plant['E2HH'] = np.nan\n",
    "idx = df_plant['tech']=='EP'\n",
    "df_plant.loc[idx,'E2HH'] = df_plant.loc[idx,'Generation_E']/df_plant.loc[idx,'FuelConsumption']"
   ]
  },
  {
   "cell_type": "markdown",
   "id": "97df0668-1ab6-4f47-ab31-c864db314483",
   "metadata": {
    "tags": []
   },
   "source": [
    "Correct capacities:"
   ]
  },
  {
   "cell_type": "code",
   "execution_count": 24,
   "id": "60b64999-c6c9-4262-94e1-071a49ea575d",
   "metadata": {
    "tags": []
   },
   "outputs": [],
   "source": [
    "df_plant = df_plant.replace({'GeneratingCapacity_E':{0:np.nan},'GeneratingCapacity_H':{0:np.nan}})\n",
    "df_plant.loc[df_plant['modelTech']=='BP','GeneratingCapacity_H'] = np.nan\n",
    "df_plant.loc[df_plant['modelTech']=='HP','GeneratingCapacity_E'] = np.nan"
   ]
  },
  {
   "cell_type": "markdown",
   "id": "7b054e40-ab8f-4965-8f60-31ca0b6ca658",
   "metadata": {
    "tags": []
   },
   "source": [
    "Subset database:"
   ]
  },
  {
   "cell_type": "code",
   "execution_count": 25,
   "id": "6e0df5f3-f596-4016-afd2-ef4eb208e27c",
   "metadata": {},
   "outputs": [],
   "source": [
    "df_plant = df_plant[g_cols+['GeneratingCapacity_E','GeneratingCapacity_H','FuelMix','E2H','E2HH','Generation_E','Generation_H']]"
   ]
  },
  {
   "cell_type": "markdown",
   "id": "7ed734a1-b882-4ef4-98b0-e19119b358c9",
   "metadata": {},
   "source": [
    "Make plant id:"
   ]
  },
  {
   "cell_type": "code",
   "execution_count": 26,
   "id": "6bb25d75-1e9f-40ec-b635-87c39db61397",
   "metadata": {},
   "outputs": [],
   "source": [
    "df_plant['id'] = ['id_'+'_'.join([str(x),str(y),str(z)]) for x,y,z in zip(df_plant['g_E'],df_plant['g_H'],df_plant['tech'])]"
   ]
  },
  {
   "cell_type": "markdown",
   "id": "2f35b8f5-9716-4f2b-918e-27cb6ffb4d7f",
   "metadata": {
    "tags": []
   },
   "source": [
    "Adjust g_H label:"
   ]
  },
  {
   "cell_type": "code",
   "execution_count": 27,
   "id": "6ba19b1a-dce2-488c-8965-52256d9173c5",
   "metadata": {},
   "outputs": [],
   "source": [
    "df_plant['g_H'] = ['_'.join([g_E,g_H]) if isinstance(g_H,str) else g_H for g_E,g_H in zip(df_plant['g_E'],df_plant['g_H'])]"
   ]
  },
  {
   "cell_type": "markdown",
   "id": "f50b10fb-b9b8-49b5-bc89-ef62048f8b94",
   "metadata": {},
   "source": [
    "Save database:"
   ]
  },
  {
   "cell_type": "code",
   "execution_count": 28,
   "id": "a127a290-40e5-4b0b-8142-b29a2228d97e",
   "metadata": {
    "tags": []
   },
   "outputs": [],
   "source": [
    "file_path = os.path.join(data_dir,'PlantData_DK_'+str(year))\n",
    "df_plant.to_pickle(file_path)"
   ]
  },
  {
   "cell_type": "markdown",
   "id": "7a9d10c6",
   "metadata": {},
   "source": [
    "---"
   ]
  },
  {
   "cell_type": "code",
   "execution_count": 29,
   "id": "60ebcdc0",
   "metadata": {},
   "outputs": [
    {
     "data": {
      "text/html": [
       "<div>\n",
       "<style scoped>\n",
       "    .dataframe tbody tr th:only-of-type {\n",
       "        vertical-align: middle;\n",
       "    }\n",
       "\n",
       "    .dataframe tbody tr th {\n",
       "        vertical-align: top;\n",
       "    }\n",
       "\n",
       "    .dataframe thead th {\n",
       "        text-align: right;\n",
       "    }\n",
       "</style>\n",
       "<table border=\"1\" class=\"dataframe\">\n",
       "  <thead>\n",
       "    <tr style=\"text-align: right;\">\n",
       "      <th></th>\n",
       "      <th>Year</th>\n",
       "      <th>g_E</th>\n",
       "      <th>g_H</th>\n",
       "      <th>BFt</th>\n",
       "      <th>tech</th>\n",
       "      <th>modelTech</th>\n",
       "      <th>GeneratingCapacity_E</th>\n",
       "      <th>GeneratingCapacity_H</th>\n",
       "      <th>FuelMix</th>\n",
       "      <th>E2H</th>\n",
       "      <th>E2HH</th>\n",
       "      <th>Generation_E</th>\n",
       "      <th>Generation_H</th>\n",
       "      <th>id</th>\n",
       "    </tr>\n",
       "  </thead>\n",
       "  <tbody>\n",
       "    <tr>\n",
       "      <th>0</th>\n",
       "      <td>2022</td>\n",
       "      <td>DK1</td>\n",
       "      <td>DK1_Central</td>\n",
       "      <td>Biogas</td>\n",
       "      <td>BP_Biogas</td>\n",
       "      <td>BP</td>\n",
       "      <td>9.412</td>\n",
       "      <td>NaN</td>\n",
       "      <td>2.525641</td>\n",
       "      <td>0.895869</td>\n",
       "      <td>NaN</td>\n",
       "      <td>0.078</td>\n",
       "      <td>0.085</td>\n",
       "      <td>id_DK1_Central_BP_Biogas</td>\n",
       "    </tr>\n",
       "    <tr>\n",
       "      <th>1</th>\n",
       "      <td>2022</td>\n",
       "      <td>DK1</td>\n",
       "      <td>DK1_Central</td>\n",
       "      <td>Biogas</td>\n",
       "      <td>IndustryH_Biogas</td>\n",
       "      <td>standard_H</td>\n",
       "      <td>NaN</td>\n",
       "      <td>8.414</td>\n",
       "      <td>0.565217</td>\n",
       "      <td>NaN</td>\n",
       "      <td>NaN</td>\n",
       "      <td>0.000</td>\n",
       "      <td>0.023</td>\n",
       "      <td>id_DK1_Central_IndustryH_Biogas</td>\n",
       "    </tr>\n",
       "    <tr>\n",
       "      <th>2</th>\n",
       "      <td>2022</td>\n",
       "      <td>DK1</td>\n",
       "      <td>DK1_Central</td>\n",
       "      <td>Biomass</td>\n",
       "      <td>BH_Biomass</td>\n",
       "      <td>standard_H</td>\n",
       "      <td>NaN</td>\n",
       "      <td>206.306</td>\n",
       "      <td>0.981132</td>\n",
       "      <td>NaN</td>\n",
       "      <td>NaN</td>\n",
       "      <td>0.000</td>\n",
       "      <td>0.106</td>\n",
       "      <td>id_DK1_Central_BH_Biomass</td>\n",
       "    </tr>\n",
       "    <tr>\n",
       "      <th>3</th>\n",
       "      <td>2022</td>\n",
       "      <td>DK1</td>\n",
       "      <td>DK1_Central</td>\n",
       "      <td>Biomass</td>\n",
       "      <td>BP_Biomass</td>\n",
       "      <td>BP</td>\n",
       "      <td>663.909</td>\n",
       "      <td>NaN</td>\n",
       "      <td>3.415162</td>\n",
       "      <td>0.507757</td>\n",
       "      <td>NaN</td>\n",
       "      <td>3.324</td>\n",
       "      <td>5.473</td>\n",
       "      <td>id_DK1_Central_BP_Biomass</td>\n",
       "    </tr>\n",
       "    <tr>\n",
       "      <th>4</th>\n",
       "      <td>2022</td>\n",
       "      <td>DK1</td>\n",
       "      <td>DK1_Central</td>\n",
       "      <td>Coal</td>\n",
       "      <td>BP_Coal</td>\n",
       "      <td>BP</td>\n",
       "      <td>970.006</td>\n",
       "      <td>NaN</td>\n",
       "      <td>2.645989</td>\n",
       "      <td>0.771789</td>\n",
       "      <td>NaN</td>\n",
       "      <td>5.497</td>\n",
       "      <td>2.702</td>\n",
       "      <td>id_DK1_Central_BP_Coal</td>\n",
       "    </tr>\n",
       "  </tbody>\n",
       "</table>\n",
       "</div>"
      ],
      "text/plain": [
       "   Year  g_E          g_H      BFt              tech   modelTech  \\\n",
       "0  2022  DK1  DK1_Central   Biogas         BP_Biogas          BP   \n",
       "1  2022  DK1  DK1_Central   Biogas  IndustryH_Biogas  standard_H   \n",
       "2  2022  DK1  DK1_Central  Biomass        BH_Biomass  standard_H   \n",
       "3  2022  DK1  DK1_Central  Biomass        BP_Biomass          BP   \n",
       "4  2022  DK1  DK1_Central     Coal           BP_Coal          BP   \n",
       "\n",
       "   GeneratingCapacity_E  GeneratingCapacity_H   FuelMix       E2H  E2HH  \\\n",
       "0                 9.412                   NaN  2.525641  0.895869   NaN   \n",
       "1                   NaN                 8.414  0.565217       NaN   NaN   \n",
       "2                   NaN               206.306  0.981132       NaN   NaN   \n",
       "3               663.909                   NaN  3.415162  0.507757   NaN   \n",
       "4               970.006                   NaN  2.645989  0.771789   NaN   \n",
       "\n",
       "   Generation_E  Generation_H                               id  \n",
       "0         0.078         0.085         id_DK1_Central_BP_Biogas  \n",
       "1         0.000         0.023  id_DK1_Central_IndustryH_Biogas  \n",
       "2         0.000         0.106        id_DK1_Central_BH_Biomass  \n",
       "3         3.324         5.473        id_DK1_Central_BP_Biomass  \n",
       "4         5.497         2.702           id_DK1_Central_BP_Coal  "
      ]
     },
     "execution_count": 29,
     "metadata": {},
     "output_type": "execute_result"
    }
   ],
   "source": [
    "obj = pd.read_pickle(file_path)\n",
    "obj.head()"
   ]
  },
  {
   "cell_type": "markdown",
   "id": "6ad978b1-e82a-42cd-b12f-d01c0df81620",
   "metadata": {
    "tags": []
   },
   "source": [
    "## 2 Clean TTC Data"
   ]
  },
  {
   "cell_type": "markdown",
   "id": "5d88d9a2-92ed-43e0-a19d-43f418e6b7b8",
   "metadata": {
    "tags": []
   },
   "source": [
    "Get raw data:"
   ]
  },
  {
   "cell_type": "code",
   "execution_count": 29,
   "id": "3fffb94e-facc-47bd-9871-1db3f3fd45dc",
   "metadata": {
    "tags": []
   },
   "outputs": [],
   "source": [
    "df_ttc = pd.read_excel(os.path.join(os.getcwd(),'RawData','ClimateOutlook2023_PlantData_and_TTC.xlsx'),sheet_name='Rådata_NTC').drop(columns='version').rename(columns={'From':'g_E','To':'g_EE','NTC_MW':'TTC','year':'Year'})"
   ]
  },
  {
   "cell_type": "markdown",
   "id": "42bb5079-c85a-4e35-bac1-59be98d774e5",
   "metadata": {},
   "source": [
    "Subset year:"
   ]
  },
  {
   "cell_type": "code",
   "execution_count": 30,
   "id": "c410080f-c388-45c3-ae1a-3f985dad34d9",
   "metadata": {
    "tags": []
   },
   "outputs": [],
   "source": [
    "df_ttc = df_ttc[df_ttc['Year']==year]"
   ]
  },
  {
   "cell_type": "markdown",
   "id": "254611c7-728f-42f9-a55f-a80f0482eecb",
   "metadata": {
    "tags": []
   },
   "source": [
    "Subset to DK:"
   ]
  },
  {
   "cell_type": "code",
   "execution_count": 31,
   "id": "c34887b9-3739-4b71-ba8d-0c33210eb19c",
   "metadata": {
    "tags": []
   },
   "outputs": [],
   "source": [
    "df_ttc = df_ttc[(df_ttc['g_E'].isin(g_E.keys())) | (df_ttc['g_EE'].isin(g_E.keys()))].replace({'g_E':g_E,'g_EE':g_E})"
   ]
  },
  {
   "cell_type": "markdown",
   "id": "51d565d8-dc2e-4999-a848-1d1384722701",
   "metadata": {
    "tags": []
   },
   "source": [
    "Drop DK to DK if aggregated:"
   ]
  },
  {
   "cell_type": "code",
   "execution_count": 32,
   "id": "64b40ba7-f4ac-49c1-91dd-ac146f9a22fa",
   "metadata": {
    "tags": []
   },
   "outputs": [],
   "source": [
    "df_ttc = df_ttc[df_ttc['g_E']!=df_ttc['g_EE']].reset_index(drop=True)"
   ]
  },
  {
   "cell_type": "markdown",
   "id": "117a008b-8d95-41cd-9f01-e82b7ad6a102",
   "metadata": {
    "tags": []
   },
   "source": [
    "Shift columns to make export and import:"
   ]
  },
  {
   "cell_type": "code",
   "execution_count": 33,
   "id": "d9c5c937-88cb-42db-b0da-c906daf96bf7",
   "metadata": {
    "tags": []
   },
   "outputs": [],
   "source": [
    "# idx = (df_ttc['g_E'].str.find('DK')!=-1) \n",
    "# idx_DK = (idx) & (df_ttc['g_EE'].str.find('DK')!=-1)\n",
    "# df_ttc['ExportCapacity'] = 0\n",
    "# df_ttc.loc[idx,'ExportCapacity'] = df_ttc.loc[idx,'TTC']\n",
    "# df_ttc['ImportCapacity'] = 0\n",
    "# df_ttc.loc[~idx,'ImportCapacity'] = df_ttc.loc[~idx,'TTC']\n",
    "# df_ttc.loc[idx_DK,'ImportCapacity'] = df_ttc.loc[idx_DK,'TTC']\n",
    "# g_EE = df_ttc.loc[(~idx) & (~idx_DK),'g_EE']\n",
    "# df_ttc.loc[(~idx) & (~idx_DK),'g_EE'] = df_ttc.loc[(~idx) & (~idx_DK),'g_E']\n",
    "# df_ttc.loc[(~idx) & (~idx_DK),'g_E'] = g_EE"
   ]
  },
  {
   "cell_type": "markdown",
   "id": "d9451dd9-06e6-425f-a8e1-d750647adb66",
   "metadata": {
    "tags": []
   },
   "source": [
    "Aggregate:"
   ]
  },
  {
   "cell_type": "code",
   "execution_count": 34,
   "id": "8ae4a770-e122-4834-8fba-3e5e8972d4d7",
   "metadata": {
    "tags": []
   },
   "outputs": [],
   "source": [
    "df_ttc = df_ttc.groupby(['Year','g_E','g_EE']).agg('sum').reset_index()"
   ]
  },
  {
   "cell_type": "markdown",
   "id": "bd9c1bb2-5fe9-46af-9c2d-2df6756a0a66",
   "metadata": {
    "tags": []
   },
   "source": [
    "Save database:"
   ]
  },
  {
   "cell_type": "code",
   "execution_count": 35,
   "id": "4fa40d2e-5a62-4f7e-a36d-0f72dad910c4",
   "metadata": {},
   "outputs": [],
   "source": [
    "file_path = os.path.join(data_dir,'TTC_DK_'+str(year))\n",
    "df_ttc.to_pickle(file_path)"
   ]
  },
  {
   "cell_type": "code",
   "execution_count": null,
   "id": "769caf1c-a6e0-4c5a-a1e2-2fd7ee1e8f40",
   "metadata": {},
   "outputs": [],
   "source": []
  }
 ],
 "metadata": {
  "kernelspec": {
   "display_name": "Python 3 (ipykernel)",
   "language": "python",
   "name": "python3"
  },
  "language_info": {
   "codemirror_mode": {
    "name": "ipython",
    "version": 3
   },
   "file_extension": ".py",
   "mimetype": "text/x-python",
   "name": "python",
   "nbconvert_exporter": "python",
   "pygments_lexer": "ipython3",
   "version": "3.11.5"
  }
 },
 "nbformat": 4,
 "nbformat_minor": 5
}
