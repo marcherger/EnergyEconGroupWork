{
 "cells": [
  {
   "cell_type": "markdown",
   "metadata": {},
   "source": [
    "# Analysing the $mBasicPH\\_storage$ model"
   ]
  },
  {
   "cell_type": "markdown",
   "metadata": {},
   "source": [
    "## Settings"
   ]
  },
  {
   "cell_type": "markdown",
   "metadata": {},
   "source": [
    "For working with the model, we first import some packages and the modelclass:"
   ]
  },
  {
   "cell_type": "code",
   "execution_count": 1,
   "metadata": {},
   "outputs": [],
   "source": [
    "# In case, working directory is not set correctly\n",
    "#os.chdir('C:\\\\Users\\\\mpher\\\\Documents\\\\Uni\\\\Master\\\\02_Exchange\\\\01_Academics\\\\Energy Economics of the Green Transition\\\\0_Final Project\\EnergyEconGroupWork')"
   ]
  },
  {
   "cell_type": "code",
   "execution_count": 2,
   "metadata": {},
   "outputs": [
    {
     "name": "stdout",
     "output_type": "stream",
     "text": [
      "c:\\Users\\mpher\\Documents\\Uni\\Master\\02_Exchange\\01_Academics\\Energy Economics of the Green Transition\\EnergyEconGroupWork\n"
     ]
    }
   ],
   "source": [
    "import os\n",
    "current_directory = os.getcwd()\n",
    "print(current_directory)"
   ]
  },
  {
   "cell_type": "code",
   "execution_count": 3,
   "metadata": {},
   "outputs": [],
   "source": [
    "%run ./stdPackages.ipynb\n",
    "from pyDbs import *\n",
    "\n",
    "os.chdir(os.path.join(d['curr'], 'py'))\n",
    "\n",
    "from mBasicPH_storage import *\n",
    "os.chdir(d['curr'])"
   ]
  },
  {
   "cell_type": "markdown",
   "metadata": {},
   "source": [
    "Next we load the database:"
   ]
  },
  {
   "cell_type": "code",
   "execution_count": 4,
   "metadata": {},
   "outputs": [],
   "source": [
    "kwargs = {'variables': ['Fundamentals', 'LoadVariables', 'GeneratorsVariables','StorageVariables','TransmissionLines'],\n",
    "        'maps': ['LoadMaps','GeneratorsMaps','StorageMaps','MarketMaps','hMaps'],\n",
    "        'variable2D': ['HourlyVariation'],\n",
    "        'scalars': ['Scalars']}\n",
    "\n",
    "path_to_data = os.path.join(d['curr'], 'Data', 'mBasicPH_storage_Data.xlsx')\n",
    "\n",
    "db = read.dbFromWB(path_to_data, kwargs)\n",
    "readSets(db)"
   ]
  },
  {
   "cell_type": "markdown",
   "metadata": {},
   "source": [
    "Convert variables to floats:"
   ]
  },
  {
   "cell_type": "code",
   "execution_count": 5,
   "metadata": {},
   "outputs": [],
   "source": [
    "[db.__setitem__(var,db[var].astype(float).sort_index()) for var in db.getTypes('variable').keys()];"
   ]
  },
  {
   "cell_type": "markdown",
   "metadata": {},
   "source": [
    "We need to read in heat areas manually:"
   ]
  },
  {
   "cell_type": "code",
   "execution_count": 6,
   "metadata": {},
   "outputs": [],
   "source": [
    "db['g_H'] = db['id2g_H'].get_level_values('g_H').unique()"
   ]
  },
  {
   "cell_type": "code",
   "execution_count": 7,
   "metadata": {},
   "outputs": [
    {
     "data": {
      "text/plain": [
       "Index(['DK_Central'], dtype='object', name='g_H')"
      ]
     },
     "execution_count": 7,
     "metadata": {},
     "output_type": "execute_result"
    }
   ],
   "source": [
    "db['g_H']"
   ]
  },
  {
   "cell_type": "markdown",
   "metadata": {},
   "source": [
    "We need to read in electricity areas manually:"
   ]
  },
  {
   "cell_type": "code",
   "execution_count": 8,
   "metadata": {},
   "outputs": [],
   "source": [
    "db['g_E'] = db['id2g_E'].get_level_values('g_E').unique()"
   ]
  },
  {
   "cell_type": "code",
   "execution_count": 9,
   "metadata": {},
   "outputs": [
    {
     "data": {
      "text/plain": [
       "Index(['DK'], dtype='object', name='g_E')"
      ]
     },
     "execution_count": 9,
     "metadata": {},
     "output_type": "execute_result"
    }
   ],
   "source": [
    "db['g_E']"
   ]
  },
  {
   "cell_type": "markdown",
   "metadata": {},
   "source": [
    "Collect all areas in one:"
   ]
  },
  {
   "cell_type": "code",
   "execution_count": 10,
   "metadata": {},
   "outputs": [],
   "source": [
    "db['g'] = db['g_E'].copy()"
   ]
  },
  {
   "cell_type": "markdown",
   "metadata": {},
   "source": [
    "## Initialze Baseline Model and Debug"
   ]
  },
  {
   "cell_type": "code",
   "execution_count": 11,
   "metadata": {},
   "outputs": [
    {
     "data": {
      "text/plain": [
       "dict_keys(['EmissionIntensity', 'EmissionTax', 'FuelPrice', 'LoadVariation_H', 'LoadVariation_E', 'Load_E', 'Load_H', 'FOM', 'FuelMix', 'GeneratingCap_H', 'GeneratingCap_E', 'OtherMC', 'E2H', 'sCap', 'chargeCap_H', 'selfDischarge', 'effC', 'effD', 'lineFOM', 'lineCapacity', 'lineMC', 'c_E2g_E', 'c_H2g_H', 'id2hvt', 'id2g_E', 'tech2modelTech', 'id2tech', 'id2g_H', 'g_E2g_H', 'g_E2g', 'g_H2g', 'h2Weekday', 'h2Month', 'h2Week', 'h2HourOfTheDay', 'CapVariation', 'MWP_E', 'MWP_H', 'lineLoss', 'BFt', 'EmissionType', 'c_H', 'h', 'c_E', 'id', 'g_E', 'g_E_alias', 'hvt', 'g_H', 'g', 'gConnected', 'id2modelTech2tech'])"
      ]
     },
     "execution_count": 11,
     "metadata": {},
     "output_type": "execute_result"
    }
   ],
   "source": [
    "m=mSimple(db)\n",
    "m.db.symbols.keys()"
   ]
  },
  {
   "cell_type": "markdown",
   "metadata": {},
   "source": [
    "The problem was, that the storage was not correctly mapped to the heating area. Now it is included in the index below. You can check so by searching for *id_DK_Central_HS* and *id_DK_Decentral_HS*."
   ]
  },
  {
   "cell_type": "code",
   "execution_count": 12,
   "metadata": {},
   "outputs": [
    {
     "data": {
      "text/plain": [
       "MultiIndex([(        'id_DK_Central_BH_Biogas', 'DK_Central'),\n",
       "            (       'id_DK_Central_BH_Biomass', 'DK_Central'),\n",
       "            (        'id_DK_Central_BH_Natgas', 'DK_Central'),\n",
       "            (           'id_DK_Central_BH_Oil', 'DK_Central'),\n",
       "            (         'id_DK_Central_BH_Waste', 'DK_Central'),\n",
       "            (        'id_DK_Central_BP_Biogas', 'DK_Central'),\n",
       "            (       'id_DK_Central_BP_Biomass', 'DK_Central'),\n",
       "            (          'id_DK_Central_BP_Coal', 'DK_Central'),\n",
       "            (        'id_DK_Central_BP_Natgas', 'DK_Central'),\n",
       "            (           'id_DK_Central_BP_Oil', 'DK_Central'),\n",
       "            (         'id_DK_Central_BP_Waste', 'DK_Central'),\n",
       "            (               'id_DK_Central_EP', 'DK_Central'),\n",
       "            (               'id_DK_Central_GT', 'DK_Central'),\n",
       "            (       'id_DK_Central_HPstandard', 'DK_Central'),\n",
       "            (    'id_DK_Central_HPsurplusheat', 'DK_Central'),\n",
       "            (               'id_DK_Central_HS', 'DK_Central'),\n",
       "            (               'id_DK_Central_IH', 'DK_Central'),\n",
       "            (        'id_DK_Central_IndustryH', 'DK_Central'),\n",
       "            ( 'id_DK_Central_IndustryH_Biogas', 'DK_Central'),\n",
       "            ('id_DK_Central_IndustryH_Biomass', 'DK_Central'),\n",
       "            ( 'id_DK_Central_IndustryH_Natgas', 'DK_Central'),\n",
       "            (    'id_DK_Central_IndustryH_Oil', 'DK_Central'),\n",
       "            (               'id_DK_Central_SH', 'DK_Central')],\n",
       "           names=['id', 'g_H'])"
      ]
     },
     "execution_count": 12,
     "metadata": {},
     "output_type": "execute_result"
    }
   ],
   "source": [
    "m.db['id2g_H']"
   ]
  },
  {
   "cell_type": "markdown",
   "metadata": {},
   "source": [
    "## Solve Baseline Model"
   ]
  },
  {
   "cell_type": "markdown",
   "metadata": {},
   "source": [
    "We then initialize and solve the model:"
   ]
  },
  {
   "cell_type": "code",
   "execution_count": 13,
   "metadata": {},
   "outputs": [
    {
     "name": "stdout",
     "output_type": "stream",
     "text": [
      "Solution status 2: The problem is infeasible. (HiGHS Status 8: model_status is Infeasible; primal_status is At lower/fixed bound)\n"
     ]
    }
   ],
   "source": [
    "m()"
   ]
  },
  {
   "cell_type": "code",
   "execution_count": 14,
   "metadata": {},
   "outputs": [
    {
     "data": {
      "text/plain": [
       "dict_keys(['EmissionIntensity', 'EmissionTax', 'FuelPrice', 'LoadVariation_H', 'LoadVariation_E', 'Load_E', 'Load_H', 'FOM', 'FuelMix', 'GeneratingCap_H', 'GeneratingCap_E', 'OtherMC', 'E2H', 'sCap', 'chargeCap_H', 'selfDischarge', 'effC', 'effD', 'lineFOM', 'lineCapacity', 'lineMC', 'c_E2g_E', 'c_H2g_H', 'id2hvt', 'id2g_E', 'tech2modelTech', 'id2tech', 'id2g_H', 'g_E2g_H', 'g_E2g', 'g_H2g', 'h2Weekday', 'h2Month', 'h2Week', 'h2HourOfTheDay', 'CapVariation', 'MWP_E', 'MWP_H', 'lineLoss', 'BFt', 'EmissionType', 'c_H', 'h', 'c_E', 'id', 'g_E', 'g_E_alias', 'hvt', 'g_H', 'g', 'gConnected', 'id2modelTech2tech', 'mc'])"
      ]
     },
     "execution_count": 14,
     "metadata": {},
     "output_type": "execute_result"
    }
   ],
   "source": [
    "m.db.symbols.keys()"
   ]
  },
  {
   "cell_type": "markdown",
   "metadata": {},
   "source": [
    "Save solution for later:"
   ]
  },
  {
   "cell_type": "code",
   "execution_count": 15,
   "metadata": {},
   "outputs": [],
   "source": [
    "base_db = m.db.copy()"
   ]
  },
  {
   "cell_type": "markdown",
   "metadata": {},
   "source": [
    "### Inspect Baseline Solution"
   ]
  },
  {
   "cell_type": "code",
   "execution_count": 16,
   "metadata": {},
   "outputs": [
    {
     "ename": "TypeError",
     "evalue": "Symbol charge_H not in database",
     "output_type": "error",
     "traceback": [
      "\u001b[1;31m---------------------------------------------------------------------------\u001b[0m",
      "\u001b[1;31mKeyError\u001b[0m                                  Traceback (most recent call last)",
      "File \u001b[1;32mc:\\Users\\mpher\\anaconda3\\envs\\EE2023\\Lib\\site-packages\\pyDbs\\simpleDB.py:44\u001b[0m, in \u001b[0;36mSimpleDB.__getitem__\u001b[1;34m(self, item)\u001b[0m\n\u001b[0;32m     43\u001b[0m \u001b[38;5;28;01mtry\u001b[39;00m:\n\u001b[1;32m---> 44\u001b[0m \t\u001b[38;5;28;01mreturn\u001b[39;00m \u001b[38;5;28mself\u001b[39m\u001b[38;5;241m.\u001b[39msymbols[item]\n\u001b[0;32m     45\u001b[0m \u001b[38;5;28;01mexcept\u001b[39;00m \u001b[38;5;167;01mKeyError\u001b[39;00m:\n",
      "\u001b[1;31mKeyError\u001b[0m: 'charge_H'",
      "\nDuring handling of the above exception, another exception occurred:\n",
      "\u001b[1;31mTypeError\u001b[0m                                 Traceback (most recent call last)",
      "File \u001b[1;32mc:\\Users\\mpher\\anaconda3\\envs\\EE2023\\Lib\\site-packages\\pyDbs\\simpleDB.py:47\u001b[0m, in \u001b[0;36mSimpleDB.__getitem__\u001b[1;34m(self, item)\u001b[0m\n\u001b[0;32m     46\u001b[0m \u001b[38;5;28;01mtry\u001b[39;00m:\n\u001b[1;32m---> 47\u001b[0m \t\u001b[38;5;28;01mreturn\u001b[39;00m \u001b[38;5;28mself\u001b[39m\u001b[38;5;241m.\u001b[39msymbols[\u001b[38;5;28mself\u001b[39m\u001b[38;5;241m.\u001b[39mgetAlias(item)]\u001b[38;5;241m.\u001b[39mrename(item)\n\u001b[0;32m     48\u001b[0m \u001b[38;5;28;01mexcept\u001b[39;00m \u001b[38;5;167;01mTypeError\u001b[39;00m:\n",
      "File \u001b[1;32mc:\\Users\\mpher\\anaconda3\\envs\\EE2023\\Lib\\site-packages\\pyDbs\\simpleDB.py:88\u001b[0m, in \u001b[0;36mSimpleDB.getAlias\u001b[1;34m(self, x, index_)\u001b[0m\n\u001b[0;32m     87\u001b[0m \u001b[38;5;28;01melse\u001b[39;00m:\n\u001b[1;32m---> 88\u001b[0m \t\u001b[38;5;28;01mraise\u001b[39;00m \u001b[38;5;167;01mTypeError\u001b[39;00m(\u001b[38;5;124mf\u001b[39m\u001b[38;5;124m\"\u001b[39m\u001b[38;5;132;01m{\u001b[39;00mx\u001b[38;5;132;01m}\u001b[39;00m\u001b[38;5;124m is not aliased\u001b[39m\u001b[38;5;124m\"\u001b[39m)\n",
      "\u001b[1;31mTypeError\u001b[0m: charge_H is not aliased",
      "\nDuring handling of the above exception, another exception occurred:\n",
      "\u001b[1;31mTypeError\u001b[0m                                 Traceback (most recent call last)",
      "Cell \u001b[1;32mIn[16], line 1\u001b[0m\n\u001b[1;32m----> 1\u001b[0m base_db[\u001b[38;5;124m'\u001b[39m\u001b[38;5;124mcharge_H\u001b[39m\u001b[38;5;124m'\u001b[39m]\n",
      "File \u001b[1;32mc:\\Users\\mpher\\anaconda3\\envs\\EE2023\\Lib\\site-packages\\pyDbs\\simpleDB.py:49\u001b[0m, in \u001b[0;36mSimpleDB.__getitem__\u001b[1;34m(self, item)\u001b[0m\n\u001b[0;32m     47\u001b[0m \t\u001b[38;5;28;01mreturn\u001b[39;00m \u001b[38;5;28mself\u001b[39m\u001b[38;5;241m.\u001b[39msymbols[\u001b[38;5;28mself\u001b[39m\u001b[38;5;241m.\u001b[39mgetAlias(item)]\u001b[38;5;241m.\u001b[39mrename(item)\n\u001b[0;32m     48\u001b[0m \u001b[38;5;28;01mexcept\u001b[39;00m \u001b[38;5;167;01mTypeError\u001b[39;00m:\n\u001b[1;32m---> 49\u001b[0m \t\u001b[38;5;28;01mraise\u001b[39;00m \u001b[38;5;167;01mTypeError\u001b[39;00m(\u001b[38;5;124mf\u001b[39m\u001b[38;5;124m\"\u001b[39m\u001b[38;5;124mSymbol \u001b[39m\u001b[38;5;132;01m{\u001b[39;00mitem\u001b[38;5;132;01m}\u001b[39;00m\u001b[38;5;124m not in database\u001b[39m\u001b[38;5;124m\"\u001b[39m)\n",
      "\u001b[1;31mTypeError\u001b[0m: Symbol charge_H not in database"
     ]
    }
   ],
   "source": [
    "base_db['charge_H']"
   ]
  },
  {
   "cell_type": "code",
   "execution_count": null,
   "metadata": {},
   "outputs": [],
   "source": [
    "base_db['discharge_H']"
   ]
  },
  {
   "cell_type": "markdown",
   "metadata": {},
   "source": [
    "### Plot Residual Demand"
   ]
  },
  {
   "cell_type": "code",
   "execution_count": null,
   "metadata": {},
   "outputs": [],
   "source": [
    "# Make dataframe\n",
    "int_id = adj.rc_pd(m.db['id2hvt'], pd.Index(['SH_DK_Central'], name = 'hvt')).droplevel('hvt')\n",
    "df_sort =  pd.concat([\n",
    "    m.hourlyGeneratingCapacity_H.xs('SH_DK_Central', level = 'id'),\n",
    "    m.hourlyLoad_H.rename('L').astype(float),\n",
    "    m.db['marginalSystemCosts_H'].rename('p').astype(float)\n",
    "],axis=1)\n",
    "\n",
    "# Calculate residual demand\n",
    "df_sort['resd'] = df_sort['L']-df_sort['E']\n",
    "\n",
    "# Plot\n"
   ]
  },
  {
   "cell_type": "code",
   "execution_count": null,
   "metadata": {},
   "outputs": [],
   "source": [
    "m.hourlyGeneratingCap_H.to_excel(os.path.join(current_directory, 'hourlyGeneratingCap_H.xlsx'), index=True, header=False)"
   ]
  },
  {
   "cell_type": "code",
   "execution_count": null,
   "metadata": {},
   "outputs": [],
   "source": [
    "m.hourlyGeneratingCap_H.to_excel()"
   ]
  },
  {
   "cell_type": "markdown",
   "metadata": {},
   "source": [
    "### Plotting:"
   ]
  },
  {
   "cell_type": "code",
   "execution_count": null,
   "metadata": {},
   "outputs": [],
   "source": [
    "tick_positions = range(0, 8761, 1000)\n",
    "\n",
    "# Plot the subset DataFrame\n",
    "base_db['marginalSystemCosts_H'].plot()\n",
    "plt.xlabel('Hours')\n",
    "plt.ylabel('marginalSystemCosts_H')\n",
    "plt.xticks(tick_positions, tick_positions)\n",
    "plt.title('marginalSystemCosts_H')\n",
    "plt.show()"
   ]
  },
  {
   "cell_type": "code",
   "execution_count": null,
   "metadata": {},
   "outputs": [],
   "source": [
    "start_hour = 1\n",
    "end_hour = 1000\n",
    "\n",
    "# For axis names\n",
    "tick_positions = range(0, 1000, 100)\n",
    "\n",
    "# Filter the Series for the specified range of hours\n",
    "filtered_series_charged_H = base_db['charge_H'][(base_db['charge_H'].index.get_level_values('h') >= start_hour) & (base_db['charge_H'].index.get_level_values('h') <= end_hour)]\n",
    "\n",
    "# Plot the subset DataFrame\n",
    "filtered_series_charged_H.plot()\n",
    "plt.xlabel('Hours')\n",
    "plt.ylabel('Charged Heat')\n",
    "#plt.xticks(tick_positions, tick_positions)\n",
    "plt.show()"
   ]
  },
  {
   "cell_type": "markdown",
   "metadata": {},
   "source": [
    "Plotting **marginalSystemCosts_H**:"
   ]
  },
  {
   "cell_type": "code",
   "execution_count": null,
   "metadata": {},
   "outputs": [],
   "source": [
    "# For axis names\n",
    "tick_positions = range(0, 8761, 1000)\n",
    "\n",
    "# Plot the subset DataFrame\n",
    "base_db['marginalSystemCosts_H'].plot()\n",
    "plt.xlabel('Hours')\n",
    "plt.ylabel('Marginal System Costs')\n",
    "plt.xticks(tick_positions, tick_positions)\n",
    "plt.title('Marginal System Costs DK_Central')\n",
    "plt.show()"
   ]
  },
  {
   "cell_type": "code",
   "execution_count": null,
   "metadata": {},
   "outputs": [],
   "source": [
    "base_db['Generation_H'][(base_db['Generation_H'].index.get_level_values('id') == 'id_DK_Central_HPstandard')].plot()"
   ]
  },
  {
   "cell_type": "markdown",
   "metadata": {},
   "source": [
    "## Increase Storage Capacity"
   ]
  },
  {
   "cell_type": "markdown",
   "metadata": {},
   "source": [
    "These are the baseline storage capacities:"
   ]
  },
  {
   "cell_type": "code",
   "execution_count": null,
   "metadata": {},
   "outputs": [],
   "source": [
    "base_db['sCap']"
   ]
  },
  {
   "cell_type": "markdown",
   "metadata": {},
   "source": [
    "In the following, we will run an experiment where we are exogenously increase the capacity of the storage technology from the baseline levels. We will assume the same storage duration of **60.344828 hours** as in the baseline scenario."
   ]
  },
  {
   "cell_type": "markdown",
   "metadata": {},
   "source": [
    "We will also be extracting the following variables:"
   ]
  },
  {
   "cell_type": "code",
   "execution_count": null,
   "metadata": {},
   "outputs": [],
   "source": [
    "extract = ['marginalSystemCosts_E','marginalSystemCosts_H','stored_H','Welfare','Emissions', 'marginalEconomicValue', 'meanConsumerPrice_E', 'meanConsumerPrice_H']"
   ]
  },
  {
   "cell_type": "code",
   "execution_count": null,
   "metadata": {},
   "outputs": [],
   "source": [
    "# Setting\n",
    "E2H = 60.344828 # The \"energy storage to heat\"-ratio/storage duration\n",
    "maxcap = base_db['GeneratingCap_H']*2\n",
    "loop = pd.Index(range(5), name = 'loop')\n",
    "v0_GCap = pd.Series(base_db['GeneratingCap_H'], index = getTechs(['HS'],m.db))\n",
    "vT_GCap = pd.Series(maxcap, index = v0_GCap.index)\n",
    "v0_SCap = v0_GCap.mul(E2H)\n",
    "vT_SCap = vT_GCap.mul(E2H)\n",
    "\n",
    "grid_GCap = adjMultiIndex.addGrid(v0_GCap,vT_GCap,loop,'GeneratingCapacity').astype(int)\n",
    "grid_SCap = adjMultiIndex.addGrid(v0_SCap,vT_SCap,loop,'sCap').astype(int)"
   ]
  },
  {
   "cell_type": "code",
   "execution_count": null,
   "metadata": {},
   "outputs": [],
   "source": [
    "grid_GCap"
   ]
  },
  {
   "cell_type": "code",
   "execution_count": null,
   "metadata": {},
   "outputs": [],
   "source": [
    "grid_SCap"
   ]
  },
  {
   "cell_type": "markdown",
   "metadata": {},
   "source": [
    "We now run the counterfactual scenarios:"
   ]
  },
  {
   "cell_type": "code",
   "execution_count": null,
   "metadata": {},
   "outputs": [],
   "source": [
    "solution = m.loopSolveExtract(loop, [grid_GCap, grid_SCap], extract)"
   ]
  },
  {
   "cell_type": "code",
   "execution_count": null,
   "metadata": {},
   "outputs": [],
   "source": [
    "solution['stored_H']"
   ]
  },
  {
   "cell_type": "code",
   "execution_count": null,
   "metadata": {},
   "outputs": [],
   "source": [
    "%%capture\n",
    "loop_id=loop[[0,1,2,3,4]]"
   ]
  },
  {
   "cell_type": "code",
   "execution_count": null,
   "metadata": {},
   "outputs": [],
   "source": [
    "# Calculate tick positions for every 1000\n",
    "tick_positions = range(0,  8761, 1000)\n",
    "\n",
    "# Plot the subset Series\n",
    "adj.rc_pd(solution['stored_H'],loop_id).unstack('loop').plot()\n",
    "plt.xlabel('Hours')\n",
    "plt.ylabel('Stored Heat')\n",
    "plt.xticks(tick_positions,tick_positions)\n",
    "plt.title('Counterfactual Scenario DK_Central')\n",
    "plt.show()"
   ]
  },
  {
   "cell_type": "code",
   "execution_count": null,
   "metadata": {},
   "outputs": [],
   "source": [
    "start_hour = 1\n",
    "end_hour = 1000\n",
    "\n",
    "# Filter the Series for the specified range of hours\n",
    "filtered_series = solution['stored_H'][(solution['stored_H'].index.get_level_values('h') >= start_hour) & (solution['stored_H'].index.get_level_values('h') <= end_hour)]\n",
    "\n",
    "# Calculate tick positions for every 1000\n",
    "tick_positions = range(0,  1000, 100)\n",
    "\n",
    "# Plot the subset Series\n",
    "adj.rc_pd(filtered_series,loop_id).unstack('loop').plot()\n",
    "plt.xlabel('Hours')\n",
    "plt.ylabel('Stored Heat')\n",
    "plt.xticks(tick_positions,tick_positions)\n",
    "plt.title('Counterfactual Scenario DK_Central')\n",
    "plt.show()"
   ]
  },
  {
   "cell_type": "code",
   "execution_count": null,
   "metadata": {},
   "outputs": [],
   "source": [
    "tick_positions"
   ]
  },
  {
   "cell_type": "markdown",
   "metadata": {},
   "source": [
    "What to plot?\n",
    "\n",
    "- CO2 Emissions\n",
    "- Usage of Storage\n",
    "- Marginal Economic value of storage\n",
    "- seasonal storage?"
   ]
  }
 ],
 "metadata": {
  "kernelspec": {
   "display_name": "EE2023",
   "language": "python",
   "name": "python3"
  },
  "language_info": {
   "codemirror_mode": {
    "name": "ipython",
    "version": 3
   },
   "file_extension": ".py",
   "mimetype": "text/x-python",
   "name": "python",
   "nbconvert_exporter": "python",
   "pygments_lexer": "ipython3",
   "version": "3.11.3"
  }
 },
 "nbformat": 4,
 "nbformat_minor": 2
}
