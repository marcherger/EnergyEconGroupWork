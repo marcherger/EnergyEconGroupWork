{
 "cells": [
  {
   "cell_type": "markdown",
   "metadata": {},
   "source": [
    "For working with the model, we first import some packages and the modelclass:"
   ]
  },
  {
   "cell_type": "code",
   "execution_count": null,
   "metadata": {},
   "outputs": [],
   "source": [
    "#os.chdir('C:\\\\Users\\\\mpher\\\\Documents\\\\Uni\\\\Master\\\\02_Exchange\\\\01_Academics\\\\Energy Economics of the Green Transition\\\\0_Final Project\\EnergyEconGroupWork')"
   ]
  },
  {
   "cell_type": "code",
   "execution_count": 1,
   "metadata": {},
   "outputs": [
    {
     "name": "stdout",
     "output_type": "stream",
     "text": [
      "c:\\Users\\mpher\\Documents\\Uni\\Master\\02_Exchange\\01_Academics\\Energy Economics of the Green Transition\\EnergyEconGroupWork\n"
     ]
    }
   ],
   "source": [
    "import os\n",
    "current_directory = os.getcwd()\n",
    "print(current_directory)"
   ]
  },
  {
   "cell_type": "code",
   "execution_count": 2,
   "metadata": {},
   "outputs": [],
   "source": [
    "%run ./stdPackages.ipynb\n",
    "from pyDbs import *\n",
    "\n",
    "os.chdir(os.path.join(d['curr'], 'py'))\n",
    "\n",
    "from mBasicPH_storage import *\n",
    "os.chdir(d['curr'])"
   ]
  },
  {
   "cell_type": "markdown",
   "metadata": {},
   "source": [
    "Next we load the database:"
   ]
  },
  {
   "cell_type": "code",
   "execution_count": 3,
   "metadata": {},
   "outputs": [
    {
     "ename": "IndexingError",
     "evalue": "Too many indexers",
     "output_type": "error",
     "traceback": [
      "\u001b[1;31m---------------------------------------------------------------------------\u001b[0m",
      "\u001b[1;31mIndexingError\u001b[0m                             Traceback (most recent call last)",
      "\u001b[1;32mc:\\Users\\mpher\\Documents\\Uni\\Master\\02_Exchange\\01_Academics\\Energy Economics of the Green Transition\\EnergyEconGroupWork\\Analysis_mBasicPH_storage.ipynb Cell 6\u001b[0m line \u001b[0;36m7\n\u001b[0;32m      <a href='vscode-notebook-cell:/c%3A/Users/mpher/Documents/Uni/Master/02_Exchange/01_Academics/Energy%20Economics%20of%20the%20Green%20Transition/EnergyEconGroupWork/Analysis_mBasicPH_storage.ipynb#W5sZmlsZQ%3D%3D?line=0'>1</a>\u001b[0m kwargs \u001b[39m=\u001b[39m {\u001b[39m'\u001b[39m\u001b[39mvariables\u001b[39m\u001b[39m'\u001b[39m: [\u001b[39m'\u001b[39m\u001b[39mFundamentals\u001b[39m\u001b[39m'\u001b[39m, \u001b[39m'\u001b[39m\u001b[39mLoadVariables\u001b[39m\u001b[39m'\u001b[39m, \u001b[39m'\u001b[39m\u001b[39mGeneratorsVariables\u001b[39m\u001b[39m'\u001b[39m,\u001b[39m'\u001b[39m\u001b[39mStorageVariables\u001b[39m\u001b[39m'\u001b[39m],\n\u001b[0;32m      <a href='vscode-notebook-cell:/c%3A/Users/mpher/Documents/Uni/Master/02_Exchange/01_Academics/Energy%20Economics%20of%20the%20Green%20Transition/EnergyEconGroupWork/Analysis_mBasicPH_storage.ipynb#W5sZmlsZQ%3D%3D?line=1'>2</a>\u001b[0m         \u001b[39m'\u001b[39m\u001b[39mmaps\u001b[39m\u001b[39m'\u001b[39m: [\u001b[39m'\u001b[39m\u001b[39mLoadMaps\u001b[39m\u001b[39m'\u001b[39m,\u001b[39m'\u001b[39m\u001b[39mGeneratorsMaps\u001b[39m\u001b[39m'\u001b[39m,\u001b[39m'\u001b[39m\u001b[39mStorageMaps\u001b[39m\u001b[39m'\u001b[39m, \u001b[39m'\u001b[39m\u001b[39mMarketMaps\u001b[39m\u001b[39m'\u001b[39m],\n\u001b[0;32m      <a href='vscode-notebook-cell:/c%3A/Users/mpher/Documents/Uni/Master/02_Exchange/01_Academics/Energy%20Economics%20of%20the%20Green%20Transition/EnergyEconGroupWork/Analysis_mBasicPH_storage.ipynb#W5sZmlsZQ%3D%3D?line=2'>3</a>\u001b[0m         \u001b[39m'\u001b[39m\u001b[39mvariable2D\u001b[39m\u001b[39m'\u001b[39m: [\u001b[39m'\u001b[39m\u001b[39mHourlyVariation\u001b[39m\u001b[39m'\u001b[39m]}\n\u001b[0;32m      <a href='vscode-notebook-cell:/c%3A/Users/mpher/Documents/Uni/Master/02_Exchange/01_Academics/Energy%20Economics%20of%20the%20Green%20Transition/EnergyEconGroupWork/Analysis_mBasicPH_storage.ipynb#W5sZmlsZQ%3D%3D?line=4'>5</a>\u001b[0m path_to_data \u001b[39m=\u001b[39m os\u001b[39m.\u001b[39mpath\u001b[39m.\u001b[39mjoin(d[\u001b[39m'\u001b[39m\u001b[39mcurr\u001b[39m\u001b[39m'\u001b[39m], \u001b[39m'\u001b[39m\u001b[39mData\u001b[39m\u001b[39m'\u001b[39m, \u001b[39m'\u001b[39m\u001b[39mmBasicPH_storage_Data.xlsx\u001b[39m\u001b[39m'\u001b[39m)\n\u001b[1;32m----> <a href='vscode-notebook-cell:/c%3A/Users/mpher/Documents/Uni/Master/02_Exchange/01_Academics/Energy%20Economics%20of%20the%20Green%20Transition/EnergyEconGroupWork/Analysis_mBasicPH_storage.ipynb#W5sZmlsZQ%3D%3D?line=6'>7</a>\u001b[0m db \u001b[39m=\u001b[39m read\u001b[39m.\u001b[39mdbFromWB(path_to_data, kwargs)\n\u001b[0;32m      <a href='vscode-notebook-cell:/c%3A/Users/mpher/Documents/Uni/Master/02_Exchange/01_Academics/Energy%20Economics%20of%20the%20Green%20Transition/EnergyEconGroupWork/Analysis_mBasicPH_storage.ipynb#W5sZmlsZQ%3D%3D?line=7'>8</a>\u001b[0m readSets(db)\n",
      "File \u001b[1;32mc:\\Users\\mpher\\anaconda3\\envs\\EE2023\\Lib\\site-packages\\pyDbs\\simpleDB.py:107\u001b[0m, in \u001b[0;36mread.dbFromWB\u001b[1;34m(workbook, kwargs, spliton)\u001b[0m\n\u001b[0;32m    105\u001b[0m wb \u001b[39m=\u001b[39m read\u001b[39m.\u001b[39msimpleLoad(workbook) \u001b[39mif\u001b[39;00m \u001b[39misinstance\u001b[39m(workbook,\u001b[39mstr\u001b[39m) \u001b[39melse\u001b[39;00m workbook\n\u001b[0;32m    106\u001b[0m db \u001b[39m=\u001b[39m SimpleDB()\n\u001b[1;32m--> 107\u001b[0m [db\u001b[39m.\u001b[39mmergeDbs(\u001b[39mgetattr\u001b[39m(read, function)(wb[sheet],spliton\u001b[39m=\u001b[39mspliton)) \u001b[39mfor\u001b[39;00m function,sheets \u001b[39min\u001b[39;00m kwargs\u001b[39m.\u001b[39mitems() \u001b[39mfor\u001b[39;00m sheet \u001b[39min\u001b[39;00m sheets];\n\u001b[0;32m    108\u001b[0m \u001b[39mreturn\u001b[39;00m db\n",
      "File \u001b[1;32mc:\\Users\\mpher\\anaconda3\\envs\\EE2023\\Lib\\site-packages\\pyDbs\\simpleDB.py:107\u001b[0m, in \u001b[0;36m<listcomp>\u001b[1;34m(.0)\u001b[0m\n\u001b[0;32m    105\u001b[0m wb \u001b[39m=\u001b[39m read\u001b[39m.\u001b[39msimpleLoad(workbook) \u001b[39mif\u001b[39;00m \u001b[39misinstance\u001b[39m(workbook,\u001b[39mstr\u001b[39m) \u001b[39melse\u001b[39;00m workbook\n\u001b[0;32m    106\u001b[0m db \u001b[39m=\u001b[39m SimpleDB()\n\u001b[1;32m--> 107\u001b[0m [db\u001b[39m.\u001b[39mmergeDbs(\u001b[39mgetattr\u001b[39m(read, function)(wb[sheet],spliton\u001b[39m=\u001b[39mspliton)) \u001b[39mfor\u001b[39;00m function,sheets \u001b[39min\u001b[39;00m kwargs\u001b[39m.\u001b[39mitems() \u001b[39mfor\u001b[39;00m sheet \u001b[39min\u001b[39;00m sheets];\n\u001b[0;32m    108\u001b[0m \u001b[39mreturn\u001b[39;00m db\n",
      "File \u001b[1;32mc:\\Users\\mpher\\anaconda3\\envs\\EE2023\\Lib\\site-packages\\pyDbs\\simpleDB.py:158\u001b[0m, in \u001b[0;36mread.variables\u001b[1;34m(sheet, spliton)\u001b[0m\n\u001b[0;32m    156\u001b[0m pd_sheet \u001b[39m=\u001b[39m pd\u001b[39m.\u001b[39mDataFrame(sheet\u001b[39m.\u001b[39mvalues)\n\u001b[0;32m    157\u001b[0m pd_sheet\u001b[39m.\u001b[39mcolumns \u001b[39m=\u001b[39m [x\u001b[39m.\u001b[39msplit(spliton)[\u001b[39m0\u001b[39m] \u001b[39mfor\u001b[39;00m x \u001b[39min\u001b[39;00m pd_sheet\u001b[39m.\u001b[39miloc[\u001b[39m0\u001b[39m,:]]\n\u001b[1;32m--> 158\u001b[0m \u001b[39mreturn\u001b[39;00m {col: read\u001b[39m.\u001b[39maux_var(pd_sheet,col,spliton) \u001b[39mfor\u001b[39;00m col \u001b[39min\u001b[39;00m \u001b[39mset\u001b[39m(pd_sheet\u001b[39m.\u001b[39mcolumns)}\n",
      "File \u001b[1;32mc:\\Users\\mpher\\anaconda3\\envs\\EE2023\\Lib\\site-packages\\pyDbs\\simpleDB.py:158\u001b[0m, in \u001b[0;36m<dictcomp>\u001b[1;34m(.0)\u001b[0m\n\u001b[0;32m    156\u001b[0m pd_sheet \u001b[39m=\u001b[39m pd\u001b[39m.\u001b[39mDataFrame(sheet\u001b[39m.\u001b[39mvalues)\n\u001b[0;32m    157\u001b[0m pd_sheet\u001b[39m.\u001b[39mcolumns \u001b[39m=\u001b[39m [x\u001b[39m.\u001b[39msplit(spliton)[\u001b[39m0\u001b[39m] \u001b[39mfor\u001b[39;00m x \u001b[39min\u001b[39;00m pd_sheet\u001b[39m.\u001b[39miloc[\u001b[39m0\u001b[39m,:]]\n\u001b[1;32m--> 158\u001b[0m \u001b[39mreturn\u001b[39;00m {col: read\u001b[39m.\u001b[39maux_var(pd_sheet,col,spliton) \u001b[39mfor\u001b[39;00m col \u001b[39min\u001b[39;00m \u001b[39mset\u001b[39m(pd_sheet\u001b[39m.\u001b[39mcolumns)}\n",
      "File \u001b[1;32mc:\\Users\\mpher\\anaconda3\\envs\\EE2023\\Lib\\site-packages\\pyDbs\\simpleDB.py:147\u001b[0m, in \u001b[0;36mread.aux_var\u001b[1;34m(sheet, col, spliton)\u001b[0m\n\u001b[0;32m    144\u001b[0m \u001b[39m@staticmethod\u001b[39m\n\u001b[0;32m    145\u001b[0m \u001b[39mdef\u001b[39;00m \u001b[39maux_var\u001b[39m(sheet,col,spliton):\n\u001b[0;32m    146\u001b[0m \tpd_temp \u001b[39m=\u001b[39m sheet[col]\u001b[39m.\u001b[39mdropna()\n\u001b[1;32m--> 147\u001b[0m \tpd_temp\u001b[39m.\u001b[39mcolumns \u001b[39m=\u001b[39m [x\u001b[39m.\u001b[39msplit(spliton)[\u001b[39m1\u001b[39m] \u001b[39mfor\u001b[39;00m x \u001b[39min\u001b[39;00m pd_temp\u001b[39m.\u001b[39miloc[\u001b[39m0\u001b[39m,:]]\n\u001b[0;32m    148\u001b[0m \t\u001b[39mif\u001b[39;00m pd_temp\u001b[39m.\u001b[39mshape[\u001b[39m1\u001b[39m]\u001b[39m==\u001b[39m\u001b[39m2\u001b[39m:\n\u001b[0;32m    149\u001b[0m \t\tindex \u001b[39m=\u001b[39m pd\u001b[39m.\u001b[39mIndex(pd_temp\u001b[39m.\u001b[39miloc[\u001b[39m1\u001b[39m:,\u001b[39m0\u001b[39m])\n",
      "File \u001b[1;32mc:\\Users\\mpher\\anaconda3\\envs\\EE2023\\Lib\\site-packages\\pandas\\core\\indexing.py:1067\u001b[0m, in \u001b[0;36m_LocationIndexer.__getitem__\u001b[1;34m(self, key)\u001b[0m\n\u001b[0;32m   1065\u001b[0m     \u001b[39mif\u001b[39;00m \u001b[39mself\u001b[39m\u001b[39m.\u001b[39m_is_scalar_access(key):\n\u001b[0;32m   1066\u001b[0m         \u001b[39mreturn\u001b[39;00m \u001b[39mself\u001b[39m\u001b[39m.\u001b[39mobj\u001b[39m.\u001b[39m_get_value(\u001b[39m*\u001b[39mkey, takeable\u001b[39m=\u001b[39m\u001b[39mself\u001b[39m\u001b[39m.\u001b[39m_takeable)\n\u001b[1;32m-> 1067\u001b[0m     \u001b[39mreturn\u001b[39;00m \u001b[39mself\u001b[39m\u001b[39m.\u001b[39m_getitem_tuple(key)\n\u001b[0;32m   1068\u001b[0m \u001b[39melse\u001b[39;00m:\n\u001b[0;32m   1069\u001b[0m     \u001b[39m# we by definition only have the 0th axis\u001b[39;00m\n\u001b[0;32m   1070\u001b[0m     axis \u001b[39m=\u001b[39m \u001b[39mself\u001b[39m\u001b[39m.\u001b[39maxis \u001b[39mor\u001b[39;00m \u001b[39m0\u001b[39m\n",
      "File \u001b[1;32mc:\\Users\\mpher\\anaconda3\\envs\\EE2023\\Lib\\site-packages\\pandas\\core\\indexing.py:1563\u001b[0m, in \u001b[0;36m_iLocIndexer._getitem_tuple\u001b[1;34m(self, tup)\u001b[0m\n\u001b[0;32m   1561\u001b[0m \u001b[39mdef\u001b[39;00m \u001b[39m_getitem_tuple\u001b[39m(\u001b[39mself\u001b[39m, tup: \u001b[39mtuple\u001b[39m):\n\u001b[1;32m-> 1563\u001b[0m     tup \u001b[39m=\u001b[39m \u001b[39mself\u001b[39m\u001b[39m.\u001b[39m_validate_tuple_indexer(tup)\n\u001b[0;32m   1564\u001b[0m     \u001b[39mwith\u001b[39;00m suppress(IndexingError):\n\u001b[0;32m   1565\u001b[0m         \u001b[39mreturn\u001b[39;00m \u001b[39mself\u001b[39m\u001b[39m.\u001b[39m_getitem_lowerdim(tup)\n",
      "File \u001b[1;32mc:\\Users\\mpher\\anaconda3\\envs\\EE2023\\Lib\\site-packages\\pandas\\core\\indexing.py:869\u001b[0m, in \u001b[0;36m_LocationIndexer._validate_tuple_indexer\u001b[1;34m(self, key)\u001b[0m\n\u001b[0;32m    864\u001b[0m \u001b[39m@final\u001b[39m\n\u001b[0;32m    865\u001b[0m \u001b[39mdef\u001b[39;00m \u001b[39m_validate_tuple_indexer\u001b[39m(\u001b[39mself\u001b[39m, key: \u001b[39mtuple\u001b[39m) \u001b[39m-\u001b[39m\u001b[39m>\u001b[39m \u001b[39mtuple\u001b[39m:\n\u001b[0;32m    866\u001b[0m \u001b[39m    \u001b[39m\u001b[39m\"\"\"\u001b[39;00m\n\u001b[0;32m    867\u001b[0m \u001b[39m    Check the key for valid keys across my indexer.\u001b[39;00m\n\u001b[0;32m    868\u001b[0m \u001b[39m    \"\"\"\u001b[39;00m\n\u001b[1;32m--> 869\u001b[0m     key \u001b[39m=\u001b[39m \u001b[39mself\u001b[39m\u001b[39m.\u001b[39m_validate_key_length(key)\n\u001b[0;32m    870\u001b[0m     key \u001b[39m=\u001b[39m \u001b[39mself\u001b[39m\u001b[39m.\u001b[39m_expand_ellipsis(key)\n\u001b[0;32m    871\u001b[0m     \u001b[39mfor\u001b[39;00m i, k \u001b[39min\u001b[39;00m \u001b[39menumerate\u001b[39m(key):\n",
      "File \u001b[1;32mc:\\Users\\mpher\\anaconda3\\envs\\EE2023\\Lib\\site-packages\\pandas\\core\\indexing.py:908\u001b[0m, in \u001b[0;36m_LocationIndexer._validate_key_length\u001b[1;34m(self, key)\u001b[0m\n\u001b[0;32m    906\u001b[0m             \u001b[39mraise\u001b[39;00m IndexingError(_one_ellipsis_message)\n\u001b[0;32m    907\u001b[0m         \u001b[39mreturn\u001b[39;00m \u001b[39mself\u001b[39m\u001b[39m.\u001b[39m_validate_key_length(key)\n\u001b[1;32m--> 908\u001b[0m     \u001b[39mraise\u001b[39;00m IndexingError(\u001b[39m\"\u001b[39m\u001b[39mToo many indexers\u001b[39m\u001b[39m\"\u001b[39m)\n\u001b[0;32m    909\u001b[0m \u001b[39mreturn\u001b[39;00m key\n",
      "\u001b[1;31mIndexingError\u001b[0m: Too many indexers"
     ]
    }
   ],
   "source": [
    "kwargs = {'variables': ['Fundamentals', 'LoadVariables', 'GeneratorsVariables','StorageVariables'],\n",
    "        'maps': ['LoadMaps','GeneratorsMaps','StorageMaps', 'MarketMaps'],\n",
    "        'variable2D': ['HourlyVariation']}\n",
    "\n",
    "path_to_data = os.path.join(d['curr'], 'Data', 'mBasicPH_storage_Data.xlsx')\n",
    "\n",
    "db = read.dbFromWB(path_to_data, kwargs)\n",
    "readSets(db)"
   ]
  },
  {
   "cell_type": "markdown",
   "metadata": {},
   "source": [
    "Convert variables to floats:"
   ]
  },
  {
   "cell_type": "code",
   "execution_count": null,
   "metadata": {},
   "outputs": [],
   "source": [
    "[db.__setitem__(var,db[var].astype(float).sort_index()) for var in db.getTypes('variable').keys()];"
   ]
  },
  {
   "cell_type": "markdown",
   "metadata": {},
   "source": [
    "We need to read in heat areas manually:"
   ]
  },
  {
   "cell_type": "code",
   "execution_count": null,
   "metadata": {},
   "outputs": [],
   "source": [
    "db['g_H'] = db['g_E2g_H'].get_level_values('g_H')"
   ]
  },
  {
   "cell_type": "markdown",
   "metadata": {},
   "source": [
    "Collect all areas in one:"
   ]
  },
  {
   "cell_type": "code",
   "execution_count": null,
   "metadata": {},
   "outputs": [],
   "source": [
    "db['g'] = db['g_E'].copy()"
   ]
  },
  {
   "cell_type": "markdown",
   "metadata": {},
   "source": [
    "Finally, we will assume that linelosses and trade are zero such that the marginal willingness to pay and marginal generation costs of \"transmission lines\" does not have to be corrected. "
   ]
  },
  {
   "cell_type": "markdown",
   "metadata": {},
   "source": [
    "We then initialize and solve the model:"
   ]
  },
  {
   "cell_type": "code",
   "execution_count": null,
   "metadata": {},
   "outputs": [],
   "source": [
    "m = mSimple(db)\n",
    "m()"
   ]
  },
  {
   "cell_type": "code",
   "execution_count": null,
   "metadata": {},
   "outputs": [],
   "source": [
    "# Example: Assuming 'Welfare', 'FuelConsumption', 'Emissions', etc., are columns in your DataFrame\n",
    "result_columns = ['Welfare', 'FuelConsumption', 'Emissions', 'marginalSystemCosts_E', 'marginalSystemCosts_H', 'marginalEconomicValue', 'meanConsumerPrice_E', 'meanConsumerPrice_H']\n",
    "# Extract relevant columns from self.db and create a DataFrame\n",
    "result_df = pd.DataFrame({column: m.db[column] for column in result_columns})\n",
    "\n",
    "# Export the DataFrame to Excel\n",
    "result_df.to_excel(os.path.join(d['curr'], 'solutions.xlsx'), engine='openpyxl')"
   ]
  },
  {
   "cell_type": "code",
   "execution_count": null,
   "metadata": {},
   "outputs": [],
   "source": [
    "# Example: Assuming 'Welfare', 'FuelConsumption', 'Emissions', etc., are columns in your DataFrame\n",
    "result_columns = ['Welfare', 'FuelConsumption', 'Emissions', 'marginalSystemCosts_E', 'marginalSystemCosts_H', 'marginalEconomicValue', 'meanConsumerPrice_E', 'meanConsumerPrice_H']\n",
    "\n",
    "# Extract relevant columns from self.db and create a DataFrame\n",
    "result_df = pd.DataFrame({column: m.db[column] for column in result_columns})\n",
    "\n",
    "# Export the DataFrame to Excel with each variable on a separate sheet\n",
    "excel_path = os.path.join(d['curr'], 'solutions.xlsx')\n",
    "\n",
    "with pd.ExcelWriter(excel_path, engine='openpyxl') as writer:\n",
    "    for column in result_columns:\n",
    "        result_df[[column]].to_excel(writer, sheet_name=column)\n"
   ]
  },
  {
   "cell_type": "code",
   "execution_count": null,
   "metadata": {},
   "outputs": [],
   "source": [
    "mc_HS = db['mc']\n",
    "mc_HS = mc_HS[mc_HS.index.str.contains('HS')]\n",
    "mc_HS"
   ]
  },
  {
   "cell_type": "code",
   "execution_count": null,
   "metadata": {},
   "outputs": [],
   "source": [
    "df = pd.DataFrame(db['marginalSystemCosts_E'])\n",
    "df.to_excel(os.path.join(d['curr'], 'solutions_marginalSystemCosts_E.xlsx'), engine='openpyxl')\n",
    "\n",
    "db['marginalSystemCosts_E']"
   ]
  },
  {
   "cell_type": "code",
   "execution_count": null,
   "metadata": {},
   "outputs": [],
   "source": [
    "base_db = m.db.copy()\n",
    "\n",
    "agg_BFt = {\n",
    "    'Fueloil':'Oil','Gasoil':'Oil', \n",
    "    'Straw':'Biomass','WoodPellets':'Biomass','WoodChips':'Biomass','WoodWaste':'Biomass',\n",
    "    'Biogas':'Other Bio','BioOil':'Other Bio',\n",
    "    'Coal':'Coal',\n",
    "    'NatGas':'Natural gas',\n",
    "    'Waste':'Waste'\n",
    "}\n",
    "\n",
    "#%%capture\n",
    "# Settings\n",
    "ϵ=np.finfo(float).eps*1e10\n",
    "lower_point=0\n",
    "upper_point=m.db['MWP_H']*1.1\n",
    "\n",
    "# Make dataframe\n",
    "df_fuelineff = m.db['FuelMix'].rename(agg_BFt,level='BFt').groupby(['id','BFt']).sum().unstack('BFt').rename_axis(None,axis=1)\n",
    "df = pd.concat(\n",
    "    [m.hourlyGeneratingCap_H.groupby('id').agg('mean').rename('q').astype(float),m.db['mc'].rename('p').astype(float)]+\n",
    "    [df_fuelineff]+\n",
    "    [plantEmissionIntensity(m.db).xs('CO2',level='EmissionType').rename('m').mul(1000)]\n",
    "    ,axis=1\n",
    ").fillna(0)\n",
    "\n",
    "# Sort and aggregate\n",
    "df = df.sort_values(['p'])\n",
    "df['q_cs'] = df['q'].transform('cumsum')\n",
    "\n",
    "# Add upper points for step plotting\n",
    "df_up = df.copy()\n",
    "df_up['q_cs'] = df_up['q_cs']+ϵ\n",
    "df_up['p'] = df_up['p'].shift(-1).fillna(upper_point)\n",
    "df_up[df_fuelineff.columns.values] = df_up[df_fuelineff.columns.values].shift(-1)\n",
    "df_up['m'] = df_up['m'].shift(-1)\n",
    "df = pd.concat([df,df_up],axis=0).sort_values(['p','q_cs'])\n",
    "df['q_diff'] = df['q_cs'].diff().div(2)\n",
    "df['q_mean'] = df['q_cs']-df['q_diff']\n",
    "\n",
    "# Now plot\n",
    "fig, ax = plt.subplots(ncols=1,nrows=3,sharex=True,sharey=False)\n",
    "\n",
    "# Merit order cuve:\n",
    "df.set_index(['q_cs'])['p'].plot(ax=ax[0],ylabel=r'$€/$MWh',title='Average merit order curve')\n",
    "for i in adj.rc_pd(m.db['id'],getTechs(['Standard'],m.db)):\n",
    "    df_tmp = df.loc[i].copy()\n",
    "    ax[0].text(x=df_tmp.iloc[0]['q_mean'],y=df_tmp.iloc[0]['p']-1,s=i,ha='center',va='top')\n",
    "\n",
    "# Marginal fuel inefficiency\n",
    "df.set_index(['q_cs'])[df_fuelineff.columns].plot(kind='area',linewidth=0,ax=ax[1],legend=False,stacked=True,ylabel='MWh input/MWh output',title='Average marginal inverse fuel efficiency')\n",
    "ax[1].set_ylim(top=2)\n",
    "fig.legend(handles=ax[1].get_legend_handles_labels()[0],loc='upper center', ncol=len(df_fuelineff.columns), frameon=True, bbox_to_anchor=(0.55,0.64))\n",
    "\n",
    "# Marginal emission coefficient\n",
    "df.set_index(['q_cs'])['m'].plot(kind='area',linewidth=0,ax=ax[2],legend=False,xlabel='MWh output',ylabel=r'kg CO$_2/$MWh',title=r'Average marginal CO$_2$ intensity')\n",
    "\n",
    "fig.tight_layout()"
   ]
  },
  {
   "cell_type": "markdown",
   "metadata": {},
   "source": [
    "What to plot?\n",
    "\n",
    "- CO2 Emissions\n",
    "- Usage of Storage\n",
    "- Marginal Economic value of storage\n",
    "- seasonal storage?"
   ]
  }
 ],
 "metadata": {
  "kernelspec": {
   "display_name": "EE2023",
   "language": "python",
   "name": "python3"
  },
  "language_info": {
   "codemirror_mode": {
    "name": "ipython",
    "version": 3
   },
   "file_extension": ".py",
   "mimetype": "text/x-python",
   "name": "python",
   "nbconvert_exporter": "python",
   "pygments_lexer": "ipython3",
   "version": "3.11.3"
  }
 },
 "nbformat": 4,
 "nbformat_minor": 2
}
