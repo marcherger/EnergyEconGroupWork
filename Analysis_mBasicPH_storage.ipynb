{
 "cells": [
  {
   "cell_type": "markdown",
   "metadata": {},
   "source": [
    "For working with the model, we first import some packages and the modelclass:"
   ]
  },
  {
   "cell_type": "code",
   "execution_count": null,
   "metadata": {},
   "outputs": [],
   "source": [
    "#os.chdir('C:\\\\Users\\\\mpher\\\\Documents\\\\Uni\\\\Master\\\\02_Exchange\\\\01_Academics\\\\Energy Economics of the Green Transition\\\\0_Final Project\\EnergyEconGroupWork')"
   ]
  },
  {
   "cell_type": "code",
   "execution_count": null,
   "metadata": {},
   "outputs": [],
   "source": [
    "import os\n",
    "current_directory = os.getcwd()\n",
    "print(current_directory)"
   ]
  },
  {
   "cell_type": "code",
   "execution_count": 1,
   "metadata": {},
   "outputs": [],
   "source": [
    "%run ./stdPackages.ipynb\n",
    "from pyDbs import *\n",
    "\n",
    "os.chdir(os.path.join(d['curr'], 'py'))\n",
    "\n",
    "from mBasicPH_storage import *\n",
    "os.chdir(d['curr'])"
   ]
  },
  {
   "cell_type": "markdown",
   "metadata": {},
   "source": [
    "Next we load the database:"
   ]
  },
  {
   "cell_type": "code",
   "execution_count": 2,
   "metadata": {},
   "outputs": [],
   "source": [
    "kwargs = {'variables': ['Fundamentals', 'LoadVariables', 'StorageVariables', 'GeneratorsVariables'],#'TransmissionLines'],\n",
    "        'maps': ['LoadMaps','GeneratorsMaps','StorageMaps'], #'MarketMaps','hMaps'],\n",
    "        'variable2D': ['HourlyVariation']}\n",
    "\n",
    "path_to_data = os.path.join(d['curr'], 'Data', 'mBasicPH_storage_Data.xlsx')\n",
    "\n",
    "db = read.dbFromWB(path_to_data, kwargs)\n",
    "readSets(db)"
   ]
  },
  {
   "cell_type": "markdown",
   "metadata": {},
   "source": [
    "Convert variables to floats:"
   ]
  },
  {
   "cell_type": "code",
   "execution_count": 3,
   "metadata": {},
   "outputs": [],
   "source": [
    "[db.__setitem__(var,db[var].astype(float).sort_index()) for var in db.getTypes('variable').keys()];"
   ]
  },
  {
   "cell_type": "markdown",
   "metadata": {},
   "source": [
    "We need to read in heat areas manually:"
   ]
  },
  {
   "cell_type": "code",
   "execution_count": null,
   "metadata": {},
   "outputs": [],
   "source": [
    "db['g_H'] = db['g_E2g_H'].get_level_values('g_H')"
   ]
  },
  {
   "cell_type": "markdown",
   "metadata": {},
   "source": [
    "We need to read in electricity areas manually:"
   ]
  },
  {
   "cell_type": "code",
   "execution_count": null,
   "metadata": {},
   "outputs": [],
   "source": [
    "db['g_E'] = db['g_E2g'].get_level_values('g_E')"
   ]
  },
  {
   "cell_type": "markdown",
   "metadata": {},
   "source": [
    "Collect all areas in one:"
   ]
  },
  {
   "cell_type": "code",
   "execution_count": null,
   "metadata": {},
   "outputs": [],
   "source": [
    "db['g'] = db['g_E'].copy()"
   ]
  },
  {
   "cell_type": "markdown",
   "metadata": {},
   "source": [
    "Finally, we will assume that linelosses and trade are zero such that the marginal willingness to pay and marginal generation costs of \"transmission lines\" does not have to be corrected. "
   ]
  },
  {
   "cell_type": "markdown",
   "metadata": {},
   "source": [
    "We then initialize and solve the model:"
   ]
  },
  {
   "cell_type": "code",
   "execution_count": 4,
   "metadata": {},
   "outputs": [
    {
     "ename": "TypeError",
     "evalue": "Symbol c_E2g_E not in database",
     "output_type": "error",
     "traceback": [
      "\u001b[0;31m---------------------------------------------------------------------------\u001b[0m",
      "\u001b[0;31mKeyError\u001b[0m                                  Traceback (most recent call last)",
      "File \u001b[0;32m~/anaconda3/envs/EE2023/lib/python3.11/site-packages/pyDbs/simpleDB.py:44\u001b[0m, in \u001b[0;36mSimpleDB.__getitem__\u001b[0;34m(self, item)\u001b[0m\n\u001b[1;32m     43\u001b[0m \u001b[38;5;28;01mtry\u001b[39;00m:\n\u001b[0;32m---> 44\u001b[0m \t\u001b[38;5;28;01mreturn\u001b[39;00m \u001b[38;5;28mself\u001b[39m\u001b[38;5;241m.\u001b[39msymbols[item]\n\u001b[1;32m     45\u001b[0m \u001b[38;5;28;01mexcept\u001b[39;00m \u001b[38;5;167;01mKeyError\u001b[39;00m:\n",
      "\u001b[0;31mKeyError\u001b[0m: 'c_E2g_E'",
      "\nDuring handling of the above exception, another exception occurred:\n",
      "\u001b[0;31mTypeError\u001b[0m                                 Traceback (most recent call last)",
      "File \u001b[0;32m~/anaconda3/envs/EE2023/lib/python3.11/site-packages/pyDbs/simpleDB.py:47\u001b[0m, in \u001b[0;36mSimpleDB.__getitem__\u001b[0;34m(self, item)\u001b[0m\n\u001b[1;32m     46\u001b[0m \u001b[38;5;28;01mtry\u001b[39;00m:\n\u001b[0;32m---> 47\u001b[0m \t\u001b[38;5;28;01mreturn\u001b[39;00m \u001b[38;5;28mself\u001b[39m\u001b[38;5;241m.\u001b[39msymbols[\u001b[38;5;28mself\u001b[39m\u001b[38;5;241m.\u001b[39mgetAlias(item)]\u001b[38;5;241m.\u001b[39mrename(item)\n\u001b[1;32m     48\u001b[0m \u001b[38;5;28;01mexcept\u001b[39;00m \u001b[38;5;167;01mTypeError\u001b[39;00m:\n",
      "File \u001b[0;32m~/anaconda3/envs/EE2023/lib/python3.11/site-packages/pyDbs/simpleDB.py:88\u001b[0m, in \u001b[0;36mSimpleDB.getAlias\u001b[0;34m(self, x, index_)\u001b[0m\n\u001b[1;32m     87\u001b[0m \u001b[38;5;28;01melse\u001b[39;00m:\n\u001b[0;32m---> 88\u001b[0m \t\u001b[38;5;28;01mraise\u001b[39;00m \u001b[38;5;167;01mTypeError\u001b[39;00m(\u001b[38;5;124mf\u001b[39m\u001b[38;5;124m\"\u001b[39m\u001b[38;5;132;01m{\u001b[39;00mx\u001b[38;5;132;01m}\u001b[39;00m\u001b[38;5;124m is not aliased\u001b[39m\u001b[38;5;124m\"\u001b[39m)\n",
      "\u001b[0;31mTypeError\u001b[0m: c_E2g_E is not aliased",
      "\nDuring handling of the above exception, another exception occurred:\n",
      "\u001b[0;31mTypeError\u001b[0m                                 Traceback (most recent call last)",
      "Cell \u001b[0;32mIn[4], line 1\u001b[0m\n\u001b[0;32m----> 1\u001b[0m m \u001b[38;5;241m=\u001b[39m mSimple(db)\n\u001b[1;32m      2\u001b[0m m\u001b[38;5;241m.\u001b[39mdb\u001b[38;5;241m.\u001b[39msymbols\u001b[38;5;241m.\u001b[39mkeys()\n",
      "File \u001b[0;32m~/EnergyEcon/EnergyEconGroupWork/py/mBasicPH_storage.py:70\u001b[0m, in \u001b[0;36mmSimple.__init__\u001b[0;34m(self, db, blocks, **kwargs)\u001b[0m\n\u001b[1;32m     68\u001b[0m \u001b[38;5;66;03m#db['gConnected'] = db['lineCapacity'].index\u001b[39;00m\n\u001b[1;32m     69\u001b[0m db[\u001b[38;5;124m'\u001b[39m\u001b[38;5;124mid2modelTech2tech\u001b[39m\u001b[38;5;124m'\u001b[39m] \u001b[38;5;241m=\u001b[39m sortAll(adjMultiIndex\u001b[38;5;241m.\u001b[39mbc(pd\u001b[38;5;241m.\u001b[39mSeries(\u001b[38;5;241m0\u001b[39m, index \u001b[38;5;241m=\u001b[39m db[\u001b[38;5;124m'\u001b[39m\u001b[38;5;124mid2tech\u001b[39m\u001b[38;5;124m'\u001b[39m]), db[\u001b[38;5;124m'\u001b[39m\u001b[38;5;124mtech2modelTech\u001b[39m\u001b[38;5;124m'\u001b[39m]))\u001b[38;5;241m.\u001b[39mindex\n\u001b[0;32m---> 70\u001b[0m \u001b[38;5;28msuper\u001b[39m()\u001b[38;5;241m.\u001b[39m\u001b[38;5;21m__init__\u001b[39m(db, blocks\u001b[38;5;241m=\u001b[39mblocks, \u001b[38;5;241m*\u001b[39m\u001b[38;5;241m*\u001b[39mkwargs)\n",
      "File \u001b[0;32m~/EnergyEcon/EnergyEconGroupWork/py/lpModels.py:23\u001b[0m, in \u001b[0;36mmodelShell.__init__\u001b[0;34m(self, db, blocks, method, scalarDualAtUpper, computeDual, standardSolve, **kwargs)\u001b[0m\n\u001b[1;32m     21\u001b[0m \u001b[38;5;28mself\u001b[39m\u001b[38;5;241m.\u001b[39mcomputeDual \u001b[38;5;241m=\u001b[39m computeDual\n\u001b[1;32m     22\u001b[0m \u001b[38;5;28mself\u001b[39m\u001b[38;5;241m.\u001b[39mblocks \u001b[38;5;241m=\u001b[39m noneInit(blocks, lpCompiler\u001b[38;5;241m.\u001b[39mlpBlock(\u001b[38;5;241m*\u001b[39m\u001b[38;5;241m*\u001b[39mkwargs))\n\u001b[0;32m---> 23\u001b[0m \u001b[38;5;28;01mif\u001b[39;00m \u001b[38;5;28mhasattr\u001b[39m(\u001b[38;5;28mself\u001b[39m, \u001b[38;5;124m'\u001b[39m\u001b[38;5;124mglobalDomains\u001b[39m\u001b[38;5;124m'\u001b[39m):\n\u001b[1;32m     24\u001b[0m \t\u001b[38;5;28mself\u001b[39m\u001b[38;5;241m.\u001b[39mblocks\u001b[38;5;241m.\u001b[39mglobalDomains \u001b[38;5;241m=\u001b[39m \u001b[38;5;28mself\u001b[39m\u001b[38;5;241m.\u001b[39mglobalDomains\n",
      "File \u001b[0;32m~/EnergyEcon/EnergyEconGroupWork/py/mBasicPH_storage.py:116\u001b[0m, in \u001b[0;36mmSimple.globalDomains\u001b[0;34m(self)\u001b[0m\n\u001b[1;32m    109\u001b[0m \u001b[38;5;129m@property\u001b[39m\n\u001b[1;32m    110\u001b[0m \u001b[38;5;28;01mdef\u001b[39;00m \u001b[38;5;21mglobalDomains\u001b[39m(\u001b[38;5;28mself\u001b[39m):\n\u001b[1;32m    111\u001b[0m \t\u001b[38;5;28;01mreturn\u001b[39;00m {\u001b[38;5;124m'\u001b[39m\u001b[38;5;124mGeneration_E\u001b[39m\u001b[38;5;124m'\u001b[39m: pyDbs\u001b[38;5;241m.\u001b[39mcartesianProductIndex([subsetIdsTech(\u001b[38;5;28mself\u001b[39m\u001b[38;5;241m.\u001b[39mdb[\u001b[38;5;124m'\u001b[39m\u001b[38;5;124mid2g_E\u001b[39m\u001b[38;5;124m'\u001b[39m], \u001b[38;5;28mself\u001b[39m\u001b[38;5;241m.\u001b[39mmodelTech_E, \u001b[38;5;28mself\u001b[39m\u001b[38;5;241m.\u001b[39mdb), \u001b[38;5;28mself\u001b[39m\u001b[38;5;241m.\u001b[39mdb[\u001b[38;5;124m'\u001b[39m\u001b[38;5;124mh\u001b[39m\u001b[38;5;124m'\u001b[39m]]),\n\u001b[1;32m    112\u001b[0m \t\t\t\u001b[38;5;124m'\u001b[39m\u001b[38;5;124mGeneration_H\u001b[39m\u001b[38;5;124m'\u001b[39m: pyDbs\u001b[38;5;241m.\u001b[39mcartesianProductIndex([subsetIdsTech(\u001b[38;5;28mself\u001b[39m\u001b[38;5;241m.\u001b[39mdb[\u001b[38;5;124m'\u001b[39m\u001b[38;5;124mid2g_H\u001b[39m\u001b[38;5;124m'\u001b[39m], \u001b[38;5;28mself\u001b[39m\u001b[38;5;241m.\u001b[39mmodelTech_H, \u001b[38;5;28mself\u001b[39m\u001b[38;5;241m.\u001b[39mdb), \u001b[38;5;28mself\u001b[39m\u001b[38;5;241m.\u001b[39mdb[\u001b[38;5;124m'\u001b[39m\u001b[38;5;124mh\u001b[39m\u001b[38;5;124m'\u001b[39m]]),\n\u001b[1;32m    113\u001b[0m \t\t\t\u001b[38;5;124m'\u001b[39m\u001b[38;5;124mdischarge_H\u001b[39m\u001b[38;5;124m'\u001b[39m : adj\u001b[38;5;241m.\u001b[39mrc_pd(pyDbs\u001b[38;5;241m.\u001b[39mcartesianProductIndex([subsetIdsTech(\u001b[38;5;28mself\u001b[39m\u001b[38;5;241m.\u001b[39mdb[\u001b[38;5;124m'\u001b[39m\u001b[38;5;124mid2g_H\u001b[39m\u001b[38;5;124m'\u001b[39m], \u001b[38;5;124m'\u001b[39m\u001b[38;5;124mHS\u001b[39m\u001b[38;5;124m'\u001b[39m, \u001b[38;5;28mself\u001b[39m\u001b[38;5;241m.\u001b[39mdb), \u001b[38;5;28mself\u001b[39m\u001b[38;5;241m.\u001b[39mdb[\u001b[38;5;124m'\u001b[39m\u001b[38;5;124mh\u001b[39m\u001b[38;5;124m'\u001b[39m]]), \u001b[38;5;28mself\u001b[39m\u001b[38;5;241m.\u001b[39mdb[\u001b[38;5;124m'\u001b[39m\u001b[38;5;124msCap\u001b[39m\u001b[38;5;124m'\u001b[39m]),\n\u001b[1;32m    114\u001b[0m \t\t\t\u001b[38;5;124m'\u001b[39m\u001b[38;5;124mcharge_H\u001b[39m\u001b[38;5;124m'\u001b[39m\t: adj\u001b[38;5;241m.\u001b[39mrc_pd(pyDbs\u001b[38;5;241m.\u001b[39mcartesianProductIndex([subsetIdsTech(\u001b[38;5;28mself\u001b[39m\u001b[38;5;241m.\u001b[39mdb[\u001b[38;5;124m'\u001b[39m\u001b[38;5;124mid2g_H\u001b[39m\u001b[38;5;124m'\u001b[39m], \u001b[38;5;124m'\u001b[39m\u001b[38;5;124mHS\u001b[39m\u001b[38;5;124m'\u001b[39m, \u001b[38;5;28mself\u001b[39m\u001b[38;5;241m.\u001b[39mdb), \u001b[38;5;28mself\u001b[39m\u001b[38;5;241m.\u001b[39mdb[\u001b[38;5;124m'\u001b[39m\u001b[38;5;124mh\u001b[39m\u001b[38;5;124m'\u001b[39m]]), \u001b[38;5;28mself\u001b[39m\u001b[38;5;241m.\u001b[39mdb[\u001b[38;5;124m'\u001b[39m\u001b[38;5;124msCap\u001b[39m\u001b[38;5;124m'\u001b[39m]),\n\u001b[1;32m    115\u001b[0m \t\t\t\u001b[38;5;124m'\u001b[39m\u001b[38;5;124mstored_H\u001b[39m\u001b[38;5;124m'\u001b[39m\t: adj\u001b[38;5;241m.\u001b[39mrc_pd(pyDbs\u001b[38;5;241m.\u001b[39mcartesianProductIndex([subsetIdsTech(\u001b[38;5;28mself\u001b[39m\u001b[38;5;241m.\u001b[39mdb[\u001b[38;5;124m'\u001b[39m\u001b[38;5;124mid2g_H\u001b[39m\u001b[38;5;124m'\u001b[39m], \u001b[38;5;124m'\u001b[39m\u001b[38;5;124mHS\u001b[39m\u001b[38;5;124m'\u001b[39m, \u001b[38;5;28mself\u001b[39m\u001b[38;5;241m.\u001b[39mdb), \u001b[38;5;28mself\u001b[39m\u001b[38;5;241m.\u001b[39mdb[\u001b[38;5;124m'\u001b[39m\u001b[38;5;124mh\u001b[39m\u001b[38;5;124m'\u001b[39m]]), \u001b[38;5;28mself\u001b[39m\u001b[38;5;241m.\u001b[39mdb[\u001b[38;5;124m'\u001b[39m\u001b[38;5;124msCap\u001b[39m\u001b[38;5;124m'\u001b[39m]),\t\t\t\t\n\u001b[0;32m--> 116\u001b[0m \t\t\t\u001b[38;5;124m'\u001b[39m\u001b[38;5;124mHourlyDemand_E\u001b[39m\u001b[38;5;124m'\u001b[39m: pyDbs\u001b[38;5;241m.\u001b[39mcartesianProductIndex([\u001b[38;5;28mself\u001b[39m\u001b[38;5;241m.\u001b[39mdb[\u001b[38;5;124m'\u001b[39m\u001b[38;5;124mc_E2g_E\u001b[39m\u001b[38;5;124m'\u001b[39m], \u001b[38;5;28mself\u001b[39m\u001b[38;5;241m.\u001b[39mdb[\u001b[38;5;124m'\u001b[39m\u001b[38;5;124mh\u001b[39m\u001b[38;5;124m'\u001b[39m]]),\n\u001b[1;32m    117\u001b[0m \t\t\t\u001b[38;5;124m'\u001b[39m\u001b[38;5;124mHourlyDemand_H\u001b[39m\u001b[38;5;124m'\u001b[39m: pyDbs\u001b[38;5;241m.\u001b[39mcartesianProductIndex([\u001b[38;5;28mself\u001b[39m\u001b[38;5;241m.\u001b[39mdb[\u001b[38;5;124m'\u001b[39m\u001b[38;5;124mc_H2g_H\u001b[39m\u001b[38;5;124m'\u001b[39m], \u001b[38;5;28mself\u001b[39m\u001b[38;5;241m.\u001b[39mdb[\u001b[38;5;124m'\u001b[39m\u001b[38;5;124mh\u001b[39m\u001b[38;5;124m'\u001b[39m]]),\n\u001b[1;32m    118\u001b[0m \t\t\t\u001b[38;5;66;03m#'Transmission_E': pyDbs.cartesianProductIndex([self.db['gConnected'],self.db['h']]),\u001b[39;00m\n\u001b[1;32m    119\u001b[0m \t\t\t\u001b[38;5;124m'\u001b[39m\u001b[38;5;124mequilibrium_E\u001b[39m\u001b[38;5;124m'\u001b[39m: pd\u001b[38;5;241m.\u001b[39mMultiIndex\u001b[38;5;241m.\u001b[39mfrom_product([\u001b[38;5;28mself\u001b[39m\u001b[38;5;241m.\u001b[39mdb[\u001b[38;5;124m'\u001b[39m\u001b[38;5;124mg_E_constr\u001b[39m\u001b[38;5;124m'\u001b[39m], \u001b[38;5;28mself\u001b[39m\u001b[38;5;241m.\u001b[39mdb[\u001b[38;5;124m'\u001b[39m\u001b[38;5;124mh_constr\u001b[39m\u001b[38;5;124m'\u001b[39m]]),\n\u001b[1;32m    120\u001b[0m \t\t\t\u001b[38;5;124m'\u001b[39m\u001b[38;5;124mequilibrium_H\u001b[39m\u001b[38;5;124m'\u001b[39m: pd\u001b[38;5;241m.\u001b[39mMultiIndex\u001b[38;5;241m.\u001b[39mfrom_product([\u001b[38;5;28mself\u001b[39m\u001b[38;5;241m.\u001b[39mdb[\u001b[38;5;124m'\u001b[39m\u001b[38;5;124mg_H_constr\u001b[39m\u001b[38;5;124m'\u001b[39m], \u001b[38;5;28mself\u001b[39m\u001b[38;5;241m.\u001b[39mdb[\u001b[38;5;124m'\u001b[39m\u001b[38;5;124mh_constr\u001b[39m\u001b[38;5;124m'\u001b[39m]]),\n\u001b[1;32m    121\u001b[0m \t\t\t\u001b[38;5;124m'\u001b[39m\u001b[38;5;124mPowerToHeat\u001b[39m\u001b[38;5;124m'\u001b[39m:\t pyDbs\u001b[38;5;241m.\u001b[39mcartesianProductIndex([adj\u001b[38;5;241m.\u001b[39mrc_AdjPd(getTechs([\u001b[38;5;124m'\u001b[39m\u001b[38;5;124mBP\u001b[39m\u001b[38;5;124m'\u001b[39m,\u001b[38;5;124m'\u001b[39m\u001b[38;5;124mHP\u001b[39m\u001b[38;5;124m'\u001b[39m],\u001b[38;5;28mself\u001b[39m\u001b[38;5;241m.\u001b[39mdb), alias \u001b[38;5;241m=\u001b[39m {\u001b[38;5;124m'\u001b[39m\u001b[38;5;124mid\u001b[39m\u001b[38;5;124m'\u001b[39m:\u001b[38;5;124m'\u001b[39m\u001b[38;5;124mid_constr\u001b[39m\u001b[38;5;124m'\u001b[39m}), \u001b[38;5;28mself\u001b[39m\u001b[38;5;241m.\u001b[39mdb[\u001b[38;5;124m'\u001b[39m\u001b[38;5;124mh_constr\u001b[39m\u001b[38;5;124m'\u001b[39m]]),\n\u001b[1;32m    122\u001b[0m \t\t\t\u001b[38;5;124m'\u001b[39m\u001b[38;5;124mLawOfMotion_H\u001b[39m\u001b[38;5;124m'\u001b[39m: pyDbs\u001b[38;5;241m.\u001b[39mcartesianProductIndex([adj\u001b[38;5;241m.\u001b[39mrc_AdjPd(getTechs(\u001b[38;5;124m'\u001b[39m\u001b[38;5;124mHS\u001b[39m\u001b[38;5;124m'\u001b[39m,\u001b[38;5;28mself\u001b[39m\u001b[38;5;241m.\u001b[39mdb), alias \u001b[38;5;241m=\u001b[39m {\u001b[38;5;124m'\u001b[39m\u001b[38;5;124mid\u001b[39m\u001b[38;5;124m'\u001b[39m:\u001b[38;5;124m'\u001b[39m\u001b[38;5;124mid_constr\u001b[39m\u001b[38;5;124m'\u001b[39m}), \u001b[38;5;28mself\u001b[39m\u001b[38;5;241m.\u001b[39mdb[\u001b[38;5;124m'\u001b[39m\u001b[38;5;124mh_constr\u001b[39m\u001b[38;5;124m'\u001b[39m]])}\n",
      "File \u001b[0;32m~/anaconda3/envs/EE2023/lib/python3.11/site-packages/pyDbs/simpleDB.py:49\u001b[0m, in \u001b[0;36mSimpleDB.__getitem__\u001b[0;34m(self, item)\u001b[0m\n\u001b[1;32m     47\u001b[0m \t\u001b[38;5;28;01mreturn\u001b[39;00m \u001b[38;5;28mself\u001b[39m\u001b[38;5;241m.\u001b[39msymbols[\u001b[38;5;28mself\u001b[39m\u001b[38;5;241m.\u001b[39mgetAlias(item)]\u001b[38;5;241m.\u001b[39mrename(item)\n\u001b[1;32m     48\u001b[0m \u001b[38;5;28;01mexcept\u001b[39;00m \u001b[38;5;167;01mTypeError\u001b[39;00m:\n\u001b[0;32m---> 49\u001b[0m \t\u001b[38;5;28;01mraise\u001b[39;00m \u001b[38;5;167;01mTypeError\u001b[39;00m(\u001b[38;5;124mf\u001b[39m\u001b[38;5;124m\"\u001b[39m\u001b[38;5;124mSymbol \u001b[39m\u001b[38;5;132;01m{\u001b[39;00mitem\u001b[38;5;132;01m}\u001b[39;00m\u001b[38;5;124m not in database\u001b[39m\u001b[38;5;124m\"\u001b[39m)\n",
      "\u001b[0;31mTypeError\u001b[0m: Symbol c_E2g_E not in database"
     ]
    }
   ],
   "source": [
    "m = mSimple(db)\n",
    "m.db.symbols.keys()"
   ]
  },
  {
   "cell_type": "code",
   "execution_count": null,
   "metadata": {},
   "outputs": [],
   "source": [
    "variable_names = ['FuelPrice', 'EmissionIntensity', 'EmissionTax', 'LoadVariation_H', 'MWP_H', 'Load_E', 'MWP_E', \n",
    "                  'LoadVariation_E', 'Load_H', 'effD', 'sCap', 'InvestCost', 'selfDischarge', 'effC', 'OtherMC', \n",
    "                  'GeneratingCap_H', 'FOM', 'chargeCap_H', 'GeneratingCap_E', 'E2H', 'FuelMix', 'c_H2g_H', 'c_E2g_E', \n",
    "                  'id2tech', 'tech2modelTech', 'id2g_E', 'id2g_H', 'id2hvt', 'g_E2g_H', 'g_E2g', 'g_H2g', 'h2Month', \n",
    "                  'h2Weekday', 'h2Week', 'h2HourOfTheDay', 'CapVariation', 'BFt', 'EmissionType', 'c_H', 'h', 'c_E', \n",
    "                  'id', 'tech', 'hvt', 'g_H', 'g_E', 'g', 'id2modelTech2tech', 'mc']\n",
    "\n",
    "m.db['c_H2g_H']"
   ]
  },
  {
   "cell_type": "code",
   "execution_count": null,
   "metadata": {},
   "outputs": [],
   "source": [
    "#m()"
   ]
  },
  {
   "cell_type": "code",
   "execution_count": null,
   "metadata": {},
   "outputs": [],
   "source": [
    "#df = pd.DataFrame(db['x'])\n",
    "#df.to_excel(os.path.join(d['curr'], 'x.xlsx'), engine='openpyxl')\n",
    "\n",
    "#db['x']"
   ]
  },
  {
   "cell_type": "markdown",
   "metadata": {},
   "source": [
    "What to plot?\n",
    "\n",
    "- CO2 Emissions\n",
    "- Usage of Storage\n",
    "- Marginal Economic value of storage\n",
    "- seasonal storage?"
   ]
  }
 ],
 "metadata": {
  "kernelspec": {
   "display_name": "EE2023",
   "language": "python",
   "name": "python3"
  },
  "language_info": {
   "codemirror_mode": {
    "name": "ipython",
    "version": 3
   },
   "file_extension": ".py",
   "mimetype": "text/x-python",
   "name": "python",
   "nbconvert_exporter": "python",
   "pygments_lexer": "ipython3",
   "version": "3.11.3"
  }
 },
 "nbformat": 4,
 "nbformat_minor": 2
}
