{
 "cells": [
  {
   "cell_type": "markdown",
   "metadata": {},
   "source": [
    "For working with the model, we first import some packages and the modelclass:"
   ]
  },
  {
   "cell_type": "code",
   "execution_count": null,
   "metadata": {},
   "outputs": [],
   "source": [
    "#os.chdir('C:\\\\Users\\\\mpher\\\\Documents\\\\Uni\\\\Master\\\\02_Exchange\\\\01_Academics\\\\Energy Economics of the Green Transition\\\\0_Final Project\\EnergyEconGroupWork')"
   ]
  },
  {
   "cell_type": "code",
   "execution_count": null,
   "metadata": {},
   "outputs": [],
   "source": [
    "import os\n",
    "current_directory = os.getcwd()\n",
    "print(current_directory)"
   ]
  },
  {
   "cell_type": "code",
   "execution_count": 1,
   "metadata": {},
   "outputs": [],
   "source": [
    "%run ./stdPackages.ipynb\n",
    "from pyDbs import *\n",
    "\n",
    "os.chdir(os.path.join(d['curr'], 'py'))\n",
    "\n",
    "from mBasicPH_storage import *\n",
    "os.chdir(d['curr'])"
   ]
  },
  {
   "cell_type": "markdown",
   "metadata": {},
   "source": [
    "Next we load the database:"
   ]
  },
  {
   "cell_type": "code",
   "execution_count": 24,
   "metadata": {},
   "outputs": [],
   "source": [
    "kwargs = {'variables': ['Fundamentals', 'LoadVariables', 'GeneratorsVariables','StorageVariables','TransmissionLines'],\n",
    "        'maps': ['LoadMaps','GeneratorsMaps','StorageMaps'],\n",
    "        'variable2D': ['HourlyVariation'],\n",
    "        'scalars': ['Scalars']}\n",
    "\n",
    "path_to_data = os.path.join(d['curr'], 'Data', 'mBasicPH_storage_Data.xlsx')\n",
    "\n",
    "db = read.dbFromWB(path_to_data, kwargs)\n",
    "readSets(db)"
   ]
  },
  {
   "cell_type": "markdown",
   "metadata": {},
   "source": [
    "Convert variables to floats:"
   ]
  },
  {
   "cell_type": "code",
   "execution_count": 25,
   "metadata": {},
   "outputs": [],
   "source": [
    "[db.__setitem__(var,db[var].astype(float).sort_index()) for var in db.getTypes('variable').keys()];"
   ]
  },
  {
   "cell_type": "markdown",
   "metadata": {},
   "source": [
    "We need to read in heat areas manually:"
   ]
  },
  {
   "cell_type": "code",
   "execution_count": 26,
   "metadata": {},
   "outputs": [],
   "source": [
    "db['g_H'] = db['id2g_H'].get_level_values('g_H')"
   ]
  },
  {
   "cell_type": "code",
   "execution_count": 27,
   "metadata": {},
   "outputs": [
    {
     "data": {
      "text/plain": [
       "Index(['DK_Central', 'DK_Central', 'DK_Central', 'DK_Central', 'DK_Central',\n",
       "       'DK_Central', 'DK_Central', 'DK_Central', 'DK_Central', 'DK_Central',\n",
       "       'DK_Central', 'DK_Central', 'DK_Central', 'DK_Central', 'DK_Central',\n",
       "       'DK_Central', 'DK_Central', 'DK_Central', 'DK_Central', 'DK_Central',\n",
       "       'DK_Decentral', 'DK_Decentral', 'DK_Decentral', 'DK_Decentral',\n",
       "       'DK_Decentral', 'DK_Decentral', 'DK_Decentral', 'DK_Decentral',\n",
       "       'DK_Decentral', 'DK_Decentral', 'DK_Decentral', 'DK_Decentral',\n",
       "       'DK_Decentral', 'DK_Decentral', 'DK_Decentral', 'DK_Decentral',\n",
       "       'DK_Decentral', 'DK_Decentral', 'DK_Decentral', 'DK_Decentral',\n",
       "       'DK_Decentral'],\n",
       "      dtype='object', name='g_H')"
      ]
     },
     "execution_count": 27,
     "metadata": {},
     "output_type": "execute_result"
    }
   ],
   "source": [
    "db['g_H']"
   ]
  },
  {
   "cell_type": "markdown",
   "metadata": {},
   "source": [
    "We need to read in electricity areas manually:"
   ]
  },
  {
   "cell_type": "code",
   "execution_count": 17,
   "metadata": {},
   "outputs": [],
   "source": [
    "#db['g_E'] = db['id2g_E'].get_level_values('g_E')"
   ]
  },
  {
   "cell_type": "code",
   "execution_count": 18,
   "metadata": {},
   "outputs": [
    {
     "data": {
      "text/plain": [
       "Index(['DK'], dtype='object', name='g_E')"
      ]
     },
     "execution_count": 18,
     "metadata": {},
     "output_type": "execute_result"
    }
   ],
   "source": [
    "#db['g_E']"
   ]
  },
  {
   "cell_type": "markdown",
   "metadata": {},
   "source": [
    "Collect all areas in one:"
   ]
  },
  {
   "cell_type": "code",
   "execution_count": 28,
   "metadata": {},
   "outputs": [],
   "source": [
    "db['g'] = db['g_E'].copy()"
   ]
  },
  {
   "cell_type": "code",
   "execution_count": 29,
   "metadata": {},
   "outputs": [
    {
     "data": {
      "text/plain": [
       "Index(['DK1', 'DK2'], dtype='object', name='g_E')"
      ]
     },
     "execution_count": 29,
     "metadata": {},
     "output_type": "execute_result"
    }
   ],
   "source": [
    "db['g']"
   ]
  },
  {
   "cell_type": "markdown",
   "metadata": {},
   "source": [
    "Finally, we will assume that linelosses and trade are zero such that the marginal willingness to pay and marginal generation costs of \"transmission lines\" does not have to be corrected. "
   ]
  },
  {
   "cell_type": "markdown",
   "metadata": {},
   "source": [
    "We then initialize and solve the model:"
   ]
  },
  {
   "cell_type": "code",
   "execution_count": 30,
   "metadata": {},
   "outputs": [
    {
     "data": {
      "text/plain": [
       "dict_keys(['EmissionIntensity', 'FuelPrice', 'EmissionTax', 'Load_H', 'Load_E', 'LoadVariation_H', 'LoadVariation_E', 'FOM', 'GeneratingCap_H', 'E2H', 'FuelMix', 'GeneratingCap_E', 'OtherMC', 'effD', 'sCap', 'selfDischarge', 'effC', 'chargeCap_H', 'lineFOM', 'lineCapacity', 'lineMC', 'c_E2g', 'c_H2g', 'id2g_E', 'id2g_H', 'id2tech', 'id2hvt', 'tech2modelTech', 'id2g', 'CapVariation', 'MWP_E', 'MWP_H', None, 'BFt', 'EmissionType', 'c_H', 'c_E', 'h', 'id', 'g_E', 'g_E_alias', 'hvt', 'g_H', 'g', 'id2modelTech2tech'])"
      ]
     },
     "execution_count": 30,
     "metadata": {},
     "output_type": "execute_result"
    }
   ],
   "source": [
    "m = mSimple(db)\n",
    "m.db.symbols.keys()"
   ]
  },
  {
   "cell_type": "code",
   "execution_count": null,
   "metadata": {},
   "outputs": [],
   "source": [
    "variable_names = ['FuelPrice', 'EmissionIntensity', 'EmissionTax', 'LoadVariation_H', 'MWP_H', 'Load_E', 'MWP_E', \n",
    "                  'LoadVariation_E', 'Load_H', 'effD', 'sCap', 'InvestCost', 'selfDischarge', 'effC', 'OtherMC', \n",
    "                  'GeneratingCap_H', 'FOM', 'chargeCap_H', 'GeneratingCap_E', 'E2H', 'FuelMix', 'c_H2g_H', 'c_E2g_E', \n",
    "                  'id2tech', 'tech2modelTech', 'id2g_E', 'id2g_H', 'id2hvt', 'g_E2g_H', 'g_E2g', 'g_H2g', 'h2Month', \n",
    "                  'h2Weekday', 'h2Week', 'h2HourOfTheDay', 'CapVariation', 'BFt', 'EmissionType', 'c_H', 'h', 'c_E', \n",
    "                  'id', 'tech', 'hvt', 'g_H', 'g_E', 'g', 'id2modelTech2tech', 'mc']"
   ]
  },
  {
   "cell_type": "code",
   "execution_count": 22,
   "metadata": {},
   "outputs": [
    {
     "data": {
      "text/plain": [
       "Index(['DK'], dtype='object', name='g_E')"
      ]
     },
     "execution_count": 22,
     "metadata": {},
     "output_type": "execute_result"
    }
   ],
   "source": [
    "m.db['g_E']"
   ]
  },
  {
   "cell_type": "code",
   "execution_count": 31,
   "metadata": {},
   "outputs": [
    {
     "ename": "KeyError",
     "evalue": "'Level g_E not found'",
     "output_type": "error",
     "traceback": [
      "\u001b[1;31m---------------------------------------------------------------------------\u001b[0m",
      "\u001b[1;31mValueError\u001b[0m                                Traceback (most recent call last)",
      "File \u001b[1;32mc:\\Users\\mpher\\anaconda3\\envs\\EE2023\\Lib\\site-packages\\pandas\\core\\indexes\\multi.py:1555\u001b[0m, in \u001b[0;36mMultiIndex._get_level_number\u001b[1;34m(self, level)\u001b[0m\n\u001b[0;32m   1554\u001b[0m \u001b[39mtry\u001b[39;00m:\n\u001b[1;32m-> 1555\u001b[0m     level \u001b[39m=\u001b[39m \u001b[39mself\u001b[39m\u001b[39m.\u001b[39mnames\u001b[39m.\u001b[39mindex(level)\n\u001b[0;32m   1556\u001b[0m \u001b[39mexcept\u001b[39;00m \u001b[39mValueError\u001b[39;00m \u001b[39mas\u001b[39;00m err:\n",
      "\u001b[1;31mValueError\u001b[0m: 'g_E' is not in list",
      "\nThe above exception was the direct cause of the following exception:\n",
      "\u001b[1;31mKeyError\u001b[0m                                  Traceback (most recent call last)",
      "\u001b[1;32mc:\\Users\\mpher\\Documents\\Uni\\Master\\02_Exchange\\01_Academics\\Energy Economics of the Green Transition\\EnergyEconGroupWork\\Analysis_mBasicPH_storage.ipynb Cell 23\u001b[0m line \u001b[0;36m1\n\u001b[1;32m----> <a href='vscode-notebook-cell:/c%3A/Users/mpher/Documents/Uni/Master/02_Exchange/01_Academics/Energy%20Economics%20of%20the%20Green%20Transition/EnergyEconGroupWork/Analysis_mBasicPH_storage.ipynb#X24sZmlsZQ%3D%3D?line=0'>1</a>\u001b[0m m()\n",
      "File \u001b[1;32mc:\\Users\\mpher\\Documents\\Uni\\Master\\02_Exchange\\01_Academics\\Energy Economics of the Green Transition\\EnergyEconGroupWork\\py\\lpModels.py:27\u001b[0m, in \u001b[0;36mmodelShell.__call__\u001b[1;34m(self, execute)\u001b[0m\n\u001b[0;32m     26\u001b[0m \u001b[39mdef\u001b[39;00m \u001b[39m__call__\u001b[39m(\u001b[39mself\u001b[39m, execute \u001b[39m=\u001b[39m \u001b[39mNone\u001b[39;00m):\n\u001b[1;32m---> 27\u001b[0m \t[\u001b[39mgetattr\u001b[39m(\u001b[39mself\u001b[39m, k)(\u001b[39m*\u001b[39m\u001b[39m*\u001b[39mv) \u001b[39mfor\u001b[39;00m k,v \u001b[39min\u001b[39;00m noneInit(execute, \u001b[39mdict\u001b[39m\u001b[39m.\u001b[39mfromkeys([\u001b[39m'\u001b[39m\u001b[39mpreSolve\u001b[39m\u001b[39m'\u001b[39m,\u001b[39m'\u001b[39m\u001b[39minitBlocks\u001b[39m\u001b[39m'\u001b[39m,\u001b[39m'\u001b[39m\u001b[39msolve\u001b[39m\u001b[39m'\u001b[39m], {}))\u001b[39m.\u001b[39mitems() \u001b[39mif\u001b[39;00m \u001b[39mhasattr\u001b[39m(\u001b[39mself\u001b[39m,k)]\n",
      "File \u001b[1;32mc:\\Users\\mpher\\Documents\\Uni\\Master\\02_Exchange\\01_Academics\\Energy Economics of the Green Transition\\EnergyEconGroupWork\\py\\lpModels.py:27\u001b[0m, in \u001b[0;36m<listcomp>\u001b[1;34m(.0)\u001b[0m\n\u001b[0;32m     26\u001b[0m \u001b[39mdef\u001b[39;00m \u001b[39m__call__\u001b[39m(\u001b[39mself\u001b[39m, execute \u001b[39m=\u001b[39m \u001b[39mNone\u001b[39;00m):\n\u001b[1;32m---> 27\u001b[0m \t[\u001b[39mgetattr\u001b[39m(\u001b[39mself\u001b[39m, k)(\u001b[39m*\u001b[39m\u001b[39m*\u001b[39mv) \u001b[39mfor\u001b[39;00m k,v \u001b[39min\u001b[39;00m noneInit(execute, \u001b[39mdict\u001b[39m\u001b[39m.\u001b[39mfromkeys([\u001b[39m'\u001b[39m\u001b[39mpreSolve\u001b[39m\u001b[39m'\u001b[39m,\u001b[39m'\u001b[39m\u001b[39minitBlocks\u001b[39m\u001b[39m'\u001b[39m,\u001b[39m'\u001b[39m\u001b[39msolve\u001b[39m\u001b[39m'\u001b[39m], {}))\u001b[39m.\u001b[39mitems() \u001b[39mif\u001b[39;00m \u001b[39mhasattr\u001b[39m(\u001b[39mself\u001b[39m,k)]\n",
      "File \u001b[1;32mc:\\Users\\mpher\\Documents\\Uni\\Master\\02_Exchange\\01_Academics\\Energy Economics of the Green Transition\\EnergyEconGroupWork\\py\\mBasicPH_storage.py:125\u001b[0m, in \u001b[0;36mmSimple.initBlocks\u001b[1;34m(self, **kwargs)\u001b[0m\n\u001b[0;32m    124\u001b[0m \u001b[39mdef\u001b[39;00m \u001b[39minitBlocks\u001b[39m(\u001b[39mself\u001b[39m, \u001b[39m*\u001b[39m\u001b[39m*\u001b[39mkwargs):\n\u001b[1;32m--> 125\u001b[0m \t[\u001b[39mgetattr\u001b[39m(\u001b[39mself\u001b[39m\u001b[39m.\u001b[39mblocks, \u001b[39mf\u001b[39m\u001b[39m'\u001b[39m\u001b[39madd_\u001b[39m\u001b[39m{\u001b[39;00mt\u001b[39m}\u001b[39;00m\u001b[39m'\u001b[39m)(\u001b[39m*\u001b[39m\u001b[39m*\u001b[39mv) \u001b[39mfor\u001b[39;00m t \u001b[39min\u001b[39;00m _blocks \u001b[39mif\u001b[39;00m \u001b[39mhasattr\u001b[39m(\u001b[39mself\u001b[39m,t) \u001b[39mfor\u001b[39;00m v \u001b[39min\u001b[39;00m \u001b[39mgetattr\u001b[39m(\u001b[39mself\u001b[39m,t)]\n",
      "File \u001b[1;32mc:\\Users\\mpher\\Documents\\Uni\\Master\\02_Exchange\\01_Academics\\Energy Economics of the Green Transition\\EnergyEconGroupWork\\py\\mBasicPH_storage.py:125\u001b[0m, in \u001b[0;36m<listcomp>\u001b[1;34m(.0)\u001b[0m\n\u001b[0;32m    124\u001b[0m \u001b[39mdef\u001b[39;00m \u001b[39minitBlocks\u001b[39m(\u001b[39mself\u001b[39m, \u001b[39m*\u001b[39m\u001b[39m*\u001b[39mkwargs):\n\u001b[1;32m--> 125\u001b[0m \t[\u001b[39mgetattr\u001b[39m(\u001b[39mself\u001b[39m\u001b[39m.\u001b[39mblocks, \u001b[39mf\u001b[39m\u001b[39m'\u001b[39m\u001b[39madd_\u001b[39m\u001b[39m{\u001b[39;00mt\u001b[39m}\u001b[39;00m\u001b[39m'\u001b[39m)(\u001b[39m*\u001b[39m\u001b[39m*\u001b[39mv) \u001b[39mfor\u001b[39;00m t \u001b[39min\u001b[39;00m _blocks \u001b[39mif\u001b[39;00m \u001b[39mhasattr\u001b[39m(\u001b[39mself\u001b[39m,t) \u001b[39mfor\u001b[39;00m v \u001b[39min\u001b[39;00m \u001b[39mgetattr\u001b[39m(\u001b[39mself\u001b[39m,t)]\n",
      "File \u001b[1;32mc:\\Users\\mpher\\Documents\\Uni\\Master\\02_Exchange\\01_Academics\\Energy Economics of the Green Transition\\EnergyEconGroupWork\\py\\mBasicPH_storage.py:164\u001b[0m, in \u001b[0;36mmSimple.A_ub\u001b[1;34m(self)\u001b[0m\n\u001b[0;32m    161\u001b[0m \u001b[39m@property\u001b[39m\n\u001b[0;32m    162\u001b[0m \u001b[39mdef\u001b[39;00m \u001b[39mA_ub\u001b[39m(\u001b[39mself\u001b[39m):\n\u001b[0;32m    163\u001b[0m \t\u001b[39mreturn\u001b[39;00m [{\u001b[39m'\u001b[39m\u001b[39mconstrName\u001b[39m\u001b[39m'\u001b[39m: \u001b[39m'\u001b[39m\u001b[39mequilibrium_E\u001b[39m\u001b[39m'\u001b[39m, \u001b[39m'\u001b[39m\u001b[39mvarName\u001b[39m\u001b[39m'\u001b[39m: \u001b[39m'\u001b[39m\u001b[39mGeneration_E\u001b[39m\u001b[39m'\u001b[39m, \u001b[39m'\u001b[39m\u001b[39mvalue\u001b[39m\u001b[39m'\u001b[39m: appIndexWithCopySeries(pd\u001b[39m.\u001b[39mSeries(\u001b[39m-\u001b[39m\u001b[39m1\u001b[39m, index \u001b[39m=\u001b[39m \u001b[39mself\u001b[39m\u001b[39m.\u001b[39mglobalDomains[\u001b[39m'\u001b[39m\u001b[39mGeneration_E\u001b[39m\u001b[39m'\u001b[39m]), [\u001b[39m'\u001b[39m\u001b[39mg_E\u001b[39m\u001b[39m'\u001b[39m,\u001b[39m'\u001b[39m\u001b[39mh\u001b[39m\u001b[39m'\u001b[39m],[\u001b[39m'\u001b[39m\u001b[39mg_E_constr\u001b[39m\u001b[39m'\u001b[39m,\u001b[39m'\u001b[39m\u001b[39mh_constr\u001b[39m\u001b[39m'\u001b[39m])},\n\u001b[1;32m--> 164\u001b[0m \t\t\t{\u001b[39m'\u001b[39m\u001b[39mconstrName\u001b[39m\u001b[39m'\u001b[39m: \u001b[39m'\u001b[39m\u001b[39mequilibrium_E\u001b[39m\u001b[39m'\u001b[39m, \u001b[39m'\u001b[39m\u001b[39mvarName\u001b[39m\u001b[39m'\u001b[39m: \u001b[39m'\u001b[39m\u001b[39mHourlyDemand_E\u001b[39m\u001b[39m'\u001b[39m, \u001b[39m'\u001b[39m\u001b[39mvalue\u001b[39m\u001b[39m'\u001b[39m: appIndexWithCopySeries(pd\u001b[39m.\u001b[39mSeries(\u001b[39m1\u001b[39m, index \u001b[39m=\u001b[39m \u001b[39mself\u001b[39m\u001b[39m.\u001b[39mglobalDomains[\u001b[39m'\u001b[39m\u001b[39mHourlyDemand_E\u001b[39m\u001b[39m'\u001b[39m]), [\u001b[39m'\u001b[39m\u001b[39mg_E\u001b[39m\u001b[39m'\u001b[39m,\u001b[39m'\u001b[39m\u001b[39mh\u001b[39m\u001b[39m'\u001b[39m],[\u001b[39m'\u001b[39m\u001b[39mg_E_constr\u001b[39m\u001b[39m'\u001b[39m,\u001b[39m'\u001b[39m\u001b[39mh_constr\u001b[39m\u001b[39m'\u001b[39m])},\n\u001b[0;32m    165\u001b[0m \t\t\t\u001b[39m#{'constrName': 'equilibrium_E', 'varName': 'Transmission_E', 'value': [appIndexWithCopySeries(pd.Series(1, index = self.globalDomains['Transmission_E']), ['g_E','h'],['g_E_constr','h_constr']),\u001b[39;00m\n\u001b[0;32m    166\u001b[0m \t\t\t\u001b[39m#\t\t\t\t\t\t\t\t\t\t\t\t\t\t\t\t\t   appIndexWithCopySeries(pd.Series(self.db['lineLoss']-1, index = self.globalDomains['Transmission_E']), ['g_E_alias','h'], ['g_E_constr','h_constr'])]},\u001b[39;00m\n\u001b[0;32m    167\u001b[0m \t\t\t{\u001b[39m'\u001b[39m\u001b[39mconstrName\u001b[39m\u001b[39m'\u001b[39m: \u001b[39m'\u001b[39m\u001b[39mequilibrium_H\u001b[39m\u001b[39m'\u001b[39m, \u001b[39m'\u001b[39m\u001b[39mvarName\u001b[39m\u001b[39m'\u001b[39m: \u001b[39m'\u001b[39m\u001b[39mGeneration_H\u001b[39m\u001b[39m'\u001b[39m, \u001b[39m'\u001b[39m\u001b[39mvalue\u001b[39m\u001b[39m'\u001b[39m: appIndexWithCopySeries(pd\u001b[39m.\u001b[39mSeries(\u001b[39m-\u001b[39m\u001b[39m1\u001b[39m, index \u001b[39m=\u001b[39m \u001b[39mself\u001b[39m\u001b[39m.\u001b[39mglobalDomains[\u001b[39m'\u001b[39m\u001b[39mGeneration_H\u001b[39m\u001b[39m'\u001b[39m]), [\u001b[39m'\u001b[39m\u001b[39mg_H\u001b[39m\u001b[39m'\u001b[39m,\u001b[39m'\u001b[39m\u001b[39mh\u001b[39m\u001b[39m'\u001b[39m],[\u001b[39m'\u001b[39m\u001b[39mg_H_constr\u001b[39m\u001b[39m'\u001b[39m,\u001b[39m'\u001b[39m\u001b[39mh_constr\u001b[39m\u001b[39m'\u001b[39m])},\n\u001b[0;32m    168\u001b[0m \t\t\t{\u001b[39m'\u001b[39m\u001b[39mconstrName\u001b[39m\u001b[39m'\u001b[39m: \u001b[39m'\u001b[39m\u001b[39mequilibrium_H\u001b[39m\u001b[39m'\u001b[39m, \u001b[39m'\u001b[39m\u001b[39mvarName\u001b[39m\u001b[39m'\u001b[39m: \u001b[39m'\u001b[39m\u001b[39mHourlyDemand_H\u001b[39m\u001b[39m'\u001b[39m,\u001b[39m'\u001b[39m\u001b[39mvalue\u001b[39m\u001b[39m'\u001b[39m:appIndexWithCopySeries(pd\u001b[39m.\u001b[39mSeries(\u001b[39m1\u001b[39m, index \u001b[39m=\u001b[39m \u001b[39mself\u001b[39m\u001b[39m.\u001b[39mglobalDomains[\u001b[39m'\u001b[39m\u001b[39mHourlyDemand_H\u001b[39m\u001b[39m'\u001b[39m]), [\u001b[39m'\u001b[39m\u001b[39mg_H\u001b[39m\u001b[39m'\u001b[39m,\u001b[39m'\u001b[39m\u001b[39mh\u001b[39m\u001b[39m'\u001b[39m],[\u001b[39m'\u001b[39m\u001b[39mg_H_constr\u001b[39m\u001b[39m'\u001b[39m,\u001b[39m'\u001b[39m\u001b[39mh_constr\u001b[39m\u001b[39m'\u001b[39m])},\n\u001b[0;32m    169\u001b[0m \t\t\t{\u001b[39m'\u001b[39m\u001b[39mconstrName\u001b[39m\u001b[39m'\u001b[39m: \u001b[39m'\u001b[39m\u001b[39mequilibrium_H\u001b[39m\u001b[39m'\u001b[39m, \u001b[39m'\u001b[39m\u001b[39mvarName\u001b[39m\u001b[39m'\u001b[39m: \u001b[39m'\u001b[39m\u001b[39mdischarge_H\u001b[39m\u001b[39m'\u001b[39m, \u001b[39m'\u001b[39m\u001b[39mvalue\u001b[39m\u001b[39m'\u001b[39m: appIndexWithCopySeries(pd\u001b[39m.\u001b[39mSeries(\u001b[39m-\u001b[39m\u001b[39m1\u001b[39m, index \u001b[39m=\u001b[39m \u001b[39mself\u001b[39m\u001b[39m.\u001b[39mglobalDomains[\u001b[39m'\u001b[39m\u001b[39mdischarge_H\u001b[39m\u001b[39m'\u001b[39m]), [\u001b[39m'\u001b[39m\u001b[39mg_H\u001b[39m\u001b[39m'\u001b[39m,\u001b[39m'\u001b[39m\u001b[39mh\u001b[39m\u001b[39m'\u001b[39m], [\u001b[39m'\u001b[39m\u001b[39mg_H_constr\u001b[39m\u001b[39m'\u001b[39m,\u001b[39m'\u001b[39m\u001b[39mh_constr\u001b[39m\u001b[39m'\u001b[39m])},\n\u001b[0;32m    170\u001b[0m \t\t\t{\u001b[39m'\u001b[39m\u001b[39mconstrName\u001b[39m\u001b[39m'\u001b[39m: \u001b[39m'\u001b[39m\u001b[39mequilibrium_H\u001b[39m\u001b[39m'\u001b[39m, \u001b[39m'\u001b[39m\u001b[39mvarName\u001b[39m\u001b[39m'\u001b[39m: \u001b[39m'\u001b[39m\u001b[39mcharge_H\u001b[39m\u001b[39m'\u001b[39m, \u001b[39m'\u001b[39m\u001b[39mvalue\u001b[39m\u001b[39m'\u001b[39m: appIndexWithCopySeries(pd\u001b[39m.\u001b[39mSeries(\u001b[39m1\u001b[39m, index \u001b[39m=\u001b[39m \u001b[39mself\u001b[39m\u001b[39m.\u001b[39mglobalDomains[\u001b[39m'\u001b[39m\u001b[39mcharge_H\u001b[39m\u001b[39m'\u001b[39m]), [\u001b[39m'\u001b[39m\u001b[39mg_H\u001b[39m\u001b[39m'\u001b[39m,\u001b[39m'\u001b[39m\u001b[39mh\u001b[39m\u001b[39m'\u001b[39m], [\u001b[39m'\u001b[39m\u001b[39mg_H_constr\u001b[39m\u001b[39m'\u001b[39m,\u001b[39m'\u001b[39m\u001b[39mh_constr\u001b[39m\u001b[39m'\u001b[39m])},\n\u001b[0;32m    171\u001b[0m \t\t\t{\u001b[39m'\u001b[39m\u001b[39mconstrName\u001b[39m\u001b[39m'\u001b[39m: \u001b[39m'\u001b[39m\u001b[39mLawOfMotion_H\u001b[39m\u001b[39m'\u001b[39m, \u001b[39m'\u001b[39m\u001b[39mvarName\u001b[39m\u001b[39m'\u001b[39m: \u001b[39m'\u001b[39m\u001b[39mstored_H\u001b[39m\u001b[39m'\u001b[39m, \u001b[39m'\u001b[39m\u001b[39mvalue\u001b[39m\u001b[39m'\u001b[39m: [appIndexWithCopySeries(pd\u001b[39m.\u001b[39mSeries(\u001b[39m1\u001b[39m, index \u001b[39m=\u001b[39m \u001b[39mself\u001b[39m\u001b[39m.\u001b[39mglobalDomains[\u001b[39m'\u001b[39m\u001b[39mstored_H\u001b[39m\u001b[39m'\u001b[39m]), [\u001b[39m'\u001b[39m\u001b[39mid\u001b[39m\u001b[39m'\u001b[39m,\u001b[39m'\u001b[39m\u001b[39mh\u001b[39m\u001b[39m'\u001b[39m], [\u001b[39m'\u001b[39m\u001b[39mid_constr\u001b[39m\u001b[39m'\u001b[39m,\u001b[39m'\u001b[39m\u001b[39mh_constr\u001b[39m\u001b[39m'\u001b[39m]),\n\u001b[0;32m    172\u001b[0m \t\t\t\t\t\t\t\t\t\t\t\t\t\t\t\t\t\t\t rollLevelS(appIndexWithCopySeries(adjMultiIndex\u001b[39m.\u001b[39mbc(\u001b[39mself\u001b[39m\u001b[39m.\u001b[39mdb[\u001b[39m'\u001b[39m\u001b[39mselfDischarge\u001b[39m\u001b[39m'\u001b[39m]\u001b[39m-\u001b[39m\u001b[39m1\u001b[39m, \u001b[39mself\u001b[39m\u001b[39m.\u001b[39mglobalDomains[\u001b[39m'\u001b[39m\u001b[39mstored_H\u001b[39m\u001b[39m'\u001b[39m]), [\u001b[39m'\u001b[39m\u001b[39mid\u001b[39m\u001b[39m'\u001b[39m,\u001b[39m'\u001b[39m\u001b[39mh\u001b[39m\u001b[39m'\u001b[39m], [\u001b[39m'\u001b[39m\u001b[39mid_constr\u001b[39m\u001b[39m'\u001b[39m,\u001b[39m'\u001b[39m\u001b[39mh_constr\u001b[39m\u001b[39m'\u001b[39m]), \u001b[39m'\u001b[39m\u001b[39mh\u001b[39m\u001b[39m'\u001b[39m,\u001b[39m1\u001b[39m)]},\n\u001b[0;32m    173\u001b[0m \t\t\t{\u001b[39m'\u001b[39m\u001b[39mconstrName\u001b[39m\u001b[39m'\u001b[39m: \u001b[39m'\u001b[39m\u001b[39mLawOfMotion_H\u001b[39m\u001b[39m'\u001b[39m, \u001b[39m'\u001b[39m\u001b[39mvarName\u001b[39m\u001b[39m'\u001b[39m: \u001b[39m'\u001b[39m\u001b[39mdischarge_H\u001b[39m\u001b[39m'\u001b[39m, \u001b[39m'\u001b[39m\u001b[39mvalue\u001b[39m\u001b[39m'\u001b[39m: appIndexWithCopySeries(adjMultiIndex\u001b[39m.\u001b[39mbc(\u001b[39m1\u001b[39m\u001b[39m/\u001b[39m\u001b[39mself\u001b[39m\u001b[39m.\u001b[39mdb[\u001b[39m'\u001b[39m\u001b[39meffD\u001b[39m\u001b[39m'\u001b[39m], \u001b[39mself\u001b[39m\u001b[39m.\u001b[39mglobalDomains[\u001b[39m'\u001b[39m\u001b[39mstored_H\u001b[39m\u001b[39m'\u001b[39m]), [\u001b[39m'\u001b[39m\u001b[39mid\u001b[39m\u001b[39m'\u001b[39m,\u001b[39m'\u001b[39m\u001b[39mh\u001b[39m\u001b[39m'\u001b[39m], [\u001b[39m'\u001b[39m\u001b[39mid_constr\u001b[39m\u001b[39m'\u001b[39m,\u001b[39m'\u001b[39m\u001b[39mh_constr\u001b[39m\u001b[39m'\u001b[39m]), \u001b[39m'\u001b[39m\u001b[39mconditions\u001b[39m\u001b[39m'\u001b[39m: getTechs(\u001b[39m'\u001b[39m\u001b[39mHS\u001b[39m\u001b[39m'\u001b[39m,\u001b[39mself\u001b[39m\u001b[39m.\u001b[39mdb)},\n\u001b[0;32m    174\u001b[0m \t\t\t{\u001b[39m'\u001b[39m\u001b[39mconstrName\u001b[39m\u001b[39m'\u001b[39m: \u001b[39m'\u001b[39m\u001b[39mLawOfMotion_H\u001b[39m\u001b[39m'\u001b[39m, \u001b[39m'\u001b[39m\u001b[39mvarName\u001b[39m\u001b[39m'\u001b[39m: \u001b[39m'\u001b[39m\u001b[39mcharge_H\u001b[39m\u001b[39m'\u001b[39m, \u001b[39m'\u001b[39m\u001b[39mvalue\u001b[39m\u001b[39m'\u001b[39m: appIndexWithCopySeries(adjMultiIndex\u001b[39m.\u001b[39mbc(\u001b[39m-\u001b[39m\u001b[39mself\u001b[39m\u001b[39m.\u001b[39mdb[\u001b[39m'\u001b[39m\u001b[39meffC\u001b[39m\u001b[39m'\u001b[39m] , \u001b[39mself\u001b[39m\u001b[39m.\u001b[39mglobalDomains[\u001b[39m'\u001b[39m\u001b[39mstored_H\u001b[39m\u001b[39m'\u001b[39m]), [\u001b[39m'\u001b[39m\u001b[39mid\u001b[39m\u001b[39m'\u001b[39m,\u001b[39m'\u001b[39m\u001b[39mh\u001b[39m\u001b[39m'\u001b[39m], [\u001b[39m'\u001b[39m\u001b[39mid_constr\u001b[39m\u001b[39m'\u001b[39m,\u001b[39m'\u001b[39m\u001b[39mh_constr\u001b[39m\u001b[39m'\u001b[39m]), \u001b[39m'\u001b[39m\u001b[39mconditions\u001b[39m\u001b[39m'\u001b[39m: getTechs(\u001b[39m'\u001b[39m\u001b[39mHS\u001b[39m\u001b[39m'\u001b[39m,\u001b[39mself\u001b[39m\u001b[39m.\u001b[39mdb)}]\n",
      "File \u001b[1;32mc:\\Users\\mpher\\Documents\\Uni\\Master\\02_Exchange\\01_Academics\\Energy Economics of the Green Transition\\EnergyEconGroupWork\\py\\base.py:92\u001b[0m, in \u001b[0;36mappIndexWithCopySeries\u001b[1;34m(s, copyLevel, newLevel)\u001b[0m\n\u001b[0;32m     91\u001b[0m \u001b[39mdef\u001b[39;00m \u001b[39mappIndexWithCopySeries\u001b[39m(s, copyLevel, newLevel):\n\u001b[1;32m---> 92\u001b[0m \ts\u001b[39m.\u001b[39mindex \u001b[39m=\u001b[39m appendIndexWithCopy(s\u001b[39m.\u001b[39mindex,copyLevel,newLevel)\n\u001b[0;32m     93\u001b[0m \t\u001b[39mreturn\u001b[39;00m s\n",
      "File \u001b[1;32mc:\\Users\\mpher\\Documents\\Uni\\Master\\02_Exchange\\01_Academics\\Energy Economics of the Green Transition\\EnergyEconGroupWork\\py\\base.py:97\u001b[0m, in \u001b[0;36mappendIndexWithCopy\u001b[1;34m(index, copyLevel, newLevel)\u001b[0m\n\u001b[0;32m     95\u001b[0m \u001b[39mdef\u001b[39;00m \u001b[39mappendIndexWithCopy\u001b[39m(index, copyLevel, newLevel):\n\u001b[0;32m     96\u001b[0m \t\u001b[39mif\u001b[39;00m is_iterable(copyLevel):\n\u001b[1;32m---> 97\u001b[0m \t\t\u001b[39mreturn\u001b[39;00m pd\u001b[39m.\u001b[39mMultiIndex\u001b[39m.\u001b[39mfrom_frame(index\u001b[39m.\u001b[39mto_frame(index\u001b[39m=\u001b[39m\u001b[39mFalse\u001b[39;00m)\u001b[39m.\u001b[39massign(\u001b[39m*\u001b[39m\u001b[39m*\u001b[39m{newLevel[i]: index\u001b[39m.\u001b[39mget_level_values(copyLevel[i]) \u001b[39mfor\u001b[39;00m i \u001b[39min\u001b[39;00m \u001b[39mrange\u001b[39m(\u001b[39mlen\u001b[39m(copyLevel))}))\n\u001b[0;32m     98\u001b[0m \t\u001b[39melse\u001b[39;00m: \n\u001b[0;32m     99\u001b[0m \t\t\u001b[39mreturn\u001b[39;00m pd\u001b[39m.\u001b[39mMultiIndex\u001b[39m.\u001b[39mfrom_frame(index\u001b[39m.\u001b[39mto_frame(index\u001b[39m=\u001b[39m\u001b[39mFalse\u001b[39;00m)\u001b[39m.\u001b[39massign(\u001b[39m*\u001b[39m\u001b[39m*\u001b[39m{newLevel: index\u001b[39m.\u001b[39mget_level_values(copyLevel)}))\n",
      "File \u001b[1;32mc:\\Users\\mpher\\Documents\\Uni\\Master\\02_Exchange\\01_Academics\\Energy Economics of the Green Transition\\EnergyEconGroupWork\\py\\base.py:97\u001b[0m, in \u001b[0;36m<dictcomp>\u001b[1;34m(.0)\u001b[0m\n\u001b[0;32m     95\u001b[0m \u001b[39mdef\u001b[39;00m \u001b[39mappendIndexWithCopy\u001b[39m(index, copyLevel, newLevel):\n\u001b[0;32m     96\u001b[0m \t\u001b[39mif\u001b[39;00m is_iterable(copyLevel):\n\u001b[1;32m---> 97\u001b[0m \t\t\u001b[39mreturn\u001b[39;00m pd\u001b[39m.\u001b[39mMultiIndex\u001b[39m.\u001b[39mfrom_frame(index\u001b[39m.\u001b[39mto_frame(index\u001b[39m=\u001b[39m\u001b[39mFalse\u001b[39;00m)\u001b[39m.\u001b[39massign(\u001b[39m*\u001b[39m\u001b[39m*\u001b[39m{newLevel[i]: index\u001b[39m.\u001b[39mget_level_values(copyLevel[i]) \u001b[39mfor\u001b[39;00m i \u001b[39min\u001b[39;00m \u001b[39mrange\u001b[39m(\u001b[39mlen\u001b[39m(copyLevel))}))\n\u001b[0;32m     98\u001b[0m \t\u001b[39melse\u001b[39;00m: \n\u001b[0;32m     99\u001b[0m \t\t\u001b[39mreturn\u001b[39;00m pd\u001b[39m.\u001b[39mMultiIndex\u001b[39m.\u001b[39mfrom_frame(index\u001b[39m.\u001b[39mto_frame(index\u001b[39m=\u001b[39m\u001b[39mFalse\u001b[39;00m)\u001b[39m.\u001b[39massign(\u001b[39m*\u001b[39m\u001b[39m*\u001b[39m{newLevel: index\u001b[39m.\u001b[39mget_level_values(copyLevel)}))\n",
      "File \u001b[1;32mc:\\Users\\mpher\\anaconda3\\envs\\EE2023\\Lib\\site-packages\\pandas\\core\\indexes\\multi.py:1723\u001b[0m, in \u001b[0;36mMultiIndex.get_level_values\u001b[1;34m(self, level)\u001b[0m\n\u001b[0;32m   1675\u001b[0m \u001b[39mdef\u001b[39;00m \u001b[39mget_level_values\u001b[39m(\u001b[39mself\u001b[39m, level):\n\u001b[0;32m   1676\u001b[0m \u001b[39m    \u001b[39m\u001b[39m\"\"\"\u001b[39;00m\n\u001b[0;32m   1677\u001b[0m \u001b[39m    Return vector of label values for requested level.\u001b[39;00m\n\u001b[0;32m   1678\u001b[0m \n\u001b[1;32m   (...)\u001b[0m\n\u001b[0;32m   1721\u001b[0m \u001b[39m    Float64Index([1.0, nan, 2.0], dtype='float64')\u001b[39;00m\n\u001b[0;32m   1722\u001b[0m \u001b[39m    \"\"\"\u001b[39;00m\n\u001b[1;32m-> 1723\u001b[0m     level \u001b[39m=\u001b[39m \u001b[39mself\u001b[39m\u001b[39m.\u001b[39m_get_level_number(level)\n\u001b[0;32m   1724\u001b[0m     values \u001b[39m=\u001b[39m \u001b[39mself\u001b[39m\u001b[39m.\u001b[39m_get_level_values(level)\n\u001b[0;32m   1725\u001b[0m     \u001b[39mreturn\u001b[39;00m values\n",
      "File \u001b[1;32mc:\\Users\\mpher\\anaconda3\\envs\\EE2023\\Lib\\site-packages\\pandas\\core\\indexes\\multi.py:1558\u001b[0m, in \u001b[0;36mMultiIndex._get_level_number\u001b[1;34m(self, level)\u001b[0m\n\u001b[0;32m   1556\u001b[0m \u001b[39mexcept\u001b[39;00m \u001b[39mValueError\u001b[39;00m \u001b[39mas\u001b[39;00m err:\n\u001b[0;32m   1557\u001b[0m     \u001b[39mif\u001b[39;00m \u001b[39mnot\u001b[39;00m is_integer(level):\n\u001b[1;32m-> 1558\u001b[0m         \u001b[39mraise\u001b[39;00m \u001b[39mKeyError\u001b[39;00m(\u001b[39mf\u001b[39m\u001b[39m\"\u001b[39m\u001b[39mLevel \u001b[39m\u001b[39m{\u001b[39;00mlevel\u001b[39m}\u001b[39;00m\u001b[39m not found\u001b[39m\u001b[39m\"\u001b[39m) \u001b[39mfrom\u001b[39;00m \u001b[39merr\u001b[39;00m\n\u001b[0;32m   1559\u001b[0m     \u001b[39melif\u001b[39;00m level \u001b[39m<\u001b[39m \u001b[39m0\u001b[39m:\n\u001b[0;32m   1560\u001b[0m         level \u001b[39m+\u001b[39m\u001b[39m=\u001b[39m \u001b[39mself\u001b[39m\u001b[39m.\u001b[39mnlevels\n",
      "\u001b[1;31mKeyError\u001b[0m: 'Level g_E not found'"
     ]
    }
   ],
   "source": [
    "m()"
   ]
  },
  {
   "cell_type": "code",
   "execution_count": null,
   "metadata": {},
   "outputs": [],
   "source": [
    "#df = pd.DataFrame(db['x'])\n",
    "#df.to_excel(os.path.join(d['curr'], 'x.xlsx'), engine='openpyxl')\n",
    "\n",
    "#db['x']"
   ]
  },
  {
   "cell_type": "markdown",
   "metadata": {},
   "source": [
    "What to plot?\n",
    "\n",
    "- CO2 Emissions\n",
    "- Usage of Storage\n",
    "- Marginal Economic value of storage\n",
    "- seasonal storage?"
   ]
  }
 ],
 "metadata": {
  "kernelspec": {
   "display_name": "EE2023",
   "language": "python",
   "name": "python3"
  },
  "language_info": {
   "codemirror_mode": {
    "name": "ipython",
    "version": 3
   },
   "file_extension": ".py",
   "mimetype": "text/x-python",
   "name": "python",
   "nbconvert_exporter": "python",
   "pygments_lexer": "ipython3",
   "version": "3.11.3"
  }
 },
 "nbformat": 4,
 "nbformat_minor": 2
}
