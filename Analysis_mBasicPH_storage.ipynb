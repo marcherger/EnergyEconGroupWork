{
 "cells": [
  {
   "cell_type": "markdown",
   "metadata": {},
   "source": [
    "# Analysing the $mBasicPH\\_storage$ model"
   ]
  },
  {
   "cell_type": "markdown",
   "metadata": {},
   "source": [
    "## Settings"
   ]
  },
  {
   "cell_type": "markdown",
   "metadata": {},
   "source": [
    "For working with the model, we first import some packages and the modelclass:"
   ]
  },
  {
   "cell_type": "code",
   "execution_count": 1,
   "metadata": {},
   "outputs": [],
   "source": [
    "# In case, working directory is not set correctly\n",
    "#os.chdir('C:\\\\Users\\\\mpher\\\\Documents\\\\Uni\\\\Master\\\\02_Exchange\\\\01_Academics\\\\Energy Economics of the Green Transition\\\\0_Final Project\\EnergyEconGroupWork')"
   ]
  },
  {
   "cell_type": "code",
   "execution_count": 2,
   "metadata": {},
   "outputs": [
    {
     "name": "stdout",
     "output_type": "stream",
     "text": [
      "/Users/paul/EnergyEcon/EnergyEconGroupWork\n"
     ]
    }
   ],
   "source": [
    "import os\n",
    "current_directory = os.getcwd()\n",
    "print(current_directory)"
   ]
  },
  {
   "cell_type": "code",
   "execution_count": 3,
   "metadata": {},
   "outputs": [],
   "source": [
    "%run ./stdPackages.ipynb\n",
    "from pyDbs import *\n",
    "\n",
    "os.chdir(os.path.join(d['curr'], 'py'))\n",
    "\n",
    "from mBasicPH_storage import *\n",
    "os.chdir(d['curr'])"
   ]
  },
  {
   "cell_type": "markdown",
   "metadata": {},
   "source": [
    "Next we load the database:"
   ]
  },
  {
   "cell_type": "code",
   "execution_count": 4,
   "metadata": {},
   "outputs": [],
   "source": [
    "kwargs = {'variables': ['Fundamentals', 'LoadVariables', 'GeneratorsVariables','StorageVariables','TransmissionLines'],\n",
    "        'maps': ['LoadMaps','GeneratorsMaps','StorageMaps','MarketMaps','hMaps'],\n",
    "        'variable2D': ['HourlyVariation'],\n",
    "        'scalars': ['Scalars']}\n",
    "\n",
    "path_to_data = os.path.join(d['curr'], 'Data', 'mBasicPH_storage_Data.xlsx')\n",
    "\n",
    "db = read.dbFromWB(path_to_data, kwargs)\n",
    "readSets(db)"
   ]
  },
  {
   "cell_type": "markdown",
   "metadata": {},
   "source": [
    "Convert variables to floats:"
   ]
  },
  {
   "cell_type": "code",
   "execution_count": 5,
   "metadata": {},
   "outputs": [],
   "source": [
    "[db.__setitem__(var,db[var].astype(float).sort_index()) for var in db.getTypes('variable').keys()];"
   ]
  },
  {
   "cell_type": "markdown",
   "metadata": {},
   "source": [
    "We need to read in heat areas manually:"
   ]
  },
  {
   "cell_type": "code",
   "execution_count": 6,
   "metadata": {},
   "outputs": [],
   "source": [
    "db['g_H'] = db['id2g_H'].get_level_values('g_H').unique()"
   ]
  },
  {
   "cell_type": "code",
   "execution_count": 7,
   "metadata": {},
   "outputs": [
    {
     "data": {
      "text/plain": [
       "Index(['DK_Central'], dtype='object', name='g_H')"
      ]
     },
     "execution_count": 7,
     "metadata": {},
     "output_type": "execute_result"
    }
   ],
   "source": [
    "db['g_H']"
   ]
  },
  {
   "cell_type": "markdown",
   "metadata": {},
   "source": [
    "We need to read in electricity areas manually:"
   ]
  },
  {
   "cell_type": "code",
   "execution_count": 8,
   "metadata": {},
   "outputs": [],
   "source": [
    "db['g_E'] = db['id2g_E'].get_level_values('g_E').unique()"
   ]
  },
  {
   "cell_type": "code",
   "execution_count": 9,
   "metadata": {},
   "outputs": [
    {
     "data": {
      "text/plain": [
       "Index(['DK'], dtype='object', name='g_E')"
      ]
     },
     "execution_count": 9,
     "metadata": {},
     "output_type": "execute_result"
    }
   ],
   "source": [
    "db['g_E']"
   ]
  },
  {
   "cell_type": "markdown",
   "metadata": {},
   "source": [
    "Collect all areas in one:"
   ]
  },
  {
   "cell_type": "code",
   "execution_count": 10,
   "metadata": {},
   "outputs": [],
   "source": [
    "db['g'] = db['g_E'].copy()"
   ]
  },
  {
   "cell_type": "markdown",
   "metadata": {},
   "source": [
    "## Initialze Baseline Model and Debug"
   ]
  },
  {
   "cell_type": "code",
   "execution_count": 11,
   "metadata": {},
   "outputs": [
    {
     "data": {
      "text/plain": [
       "dict_keys(['FuelPrice', 'EmissionTax', 'EmissionIntensity', 'LoadVariation_E', 'LoadVariation_H', 'Load_H', 'Load_E', 'E2H', 'OtherMC', 'GeneratingCap_E', 'FuelMix', 'FOM', 'GeneratingCap_H', 'sCap', 'effC', 'chargeCap_H', 'selfDischarge', 'effD', 'lineFOM', 'lineMC', 'lineCapacity', 'c_H2g_H', 'c_E2g_E', 'id2tech', 'tech2modelTech', 'id2hvt', 'id2g_E', 'id2g_H', 'g_E2g_H', 'g_H2g', 'g_E2g', 'h2Week', 'h2Weekday', 'h2HourOfTheDay', 'h2Month', 'CapVariation', 'MWP_E', 'MWP_H', 'lineLoss', 'BFt', 'EmissionType', 'c_E', 'h', 'c_H', 'id', 'g_E', 'g_E_alias', 'hvt', 'g_H', 'g', 'gConnected', 'id2modelTech2tech'])"
      ]
     },
     "execution_count": 11,
     "metadata": {},
     "output_type": "execute_result"
    }
   ],
   "source": [
    "m=mSimple(db)\n",
    "m.db.symbols.keys()"
   ]
  },
  {
   "cell_type": "markdown",
   "metadata": {},
   "source": [
    "The problem was, that the storage was not correctly mapped to the heating area. Now it is included in the index below. You can check so by searching for *id_DK_Central_HS* and *id_DK_Decentral_HS*."
   ]
  },
  {
   "cell_type": "code",
   "execution_count": 12,
   "metadata": {},
   "outputs": [
    {
     "data": {
      "text/plain": [
       "MultiIndex([(        'id_DK_Central_BH_Biogas', 'DK_Central'),\n",
       "            (       'id_DK_Central_BH_Biomass', 'DK_Central'),\n",
       "            (        'id_DK_Central_BH_Natgas', 'DK_Central'),\n",
       "            (           'id_DK_Central_BH_Oil', 'DK_Central'),\n",
       "            (         'id_DK_Central_BH_Waste', 'DK_Central'),\n",
       "            (        'id_DK_Central_BP_Biogas', 'DK_Central'),\n",
       "            (       'id_DK_Central_BP_Biomass', 'DK_Central'),\n",
       "            (          'id_DK_Central_BP_Coal', 'DK_Central'),\n",
       "            (        'id_DK_Central_BP_Natgas', 'DK_Central'),\n",
       "            (           'id_DK_Central_BP_Oil', 'DK_Central'),\n",
       "            (         'id_DK_Central_BP_Waste', 'DK_Central'),\n",
       "            (               'id_DK_Central_EP', 'DK_Central'),\n",
       "            (               'id_DK_Central_GT', 'DK_Central'),\n",
       "            (       'id_DK_Central_HPstandard', 'DK_Central'),\n",
       "            (    'id_DK_Central_HPsurplusheat', 'DK_Central'),\n",
       "            (               'id_DK_Central_HS', 'DK_Central'),\n",
       "            (               'id_DK_Central_IH', 'DK_Central'),\n",
       "            (        'id_DK_Central_IndustryH', 'DK_Central'),\n",
       "            ( 'id_DK_Central_IndustryH_Biogas', 'DK_Central'),\n",
       "            ('id_DK_Central_IndustryH_Biomass', 'DK_Central'),\n",
       "            ( 'id_DK_Central_IndustryH_Natgas', 'DK_Central'),\n",
       "            (    'id_DK_Central_IndustryH_Oil', 'DK_Central'),\n",
       "            (               'id_DK_Central_SH', 'DK_Central')],\n",
       "           names=['id', 'g_H'])"
      ]
     },
     "execution_count": 12,
     "metadata": {},
     "output_type": "execute_result"
    }
   ],
   "source": [
    "m.db['id2g_H']"
   ]
  },
  {
   "cell_type": "markdown",
   "metadata": {},
   "source": [
    "## Baseline"
   ]
  },
  {
   "cell_type": "markdown",
   "metadata": {},
   "source": [
    "### Solving"
   ]
  },
  {
   "cell_type": "markdown",
   "metadata": {},
   "source": [
    "We then initialize and solve the model:"
   ]
  },
  {
   "cell_type": "code",
   "execution_count": 13,
   "metadata": {},
   "outputs": [
    {
     "name": "stdout",
     "output_type": "stream",
     "text": [
      "Solution status 0: Optimization terminated successfully. (HiGHS Status 7: Optimal)\n"
     ]
    }
   ],
   "source": [
    "m()"
   ]
  },
  {
   "cell_type": "code",
   "execution_count": 14,
   "metadata": {},
   "outputs": [
    {
     "data": {
      "text/plain": [
       "dict_keys(['FuelPrice', 'EmissionTax', 'EmissionIntensity', 'LoadVariation_E', 'LoadVariation_H', 'Load_H', 'Load_E', 'E2H', 'OtherMC', 'GeneratingCap_E', 'FuelMix', 'FOM', 'GeneratingCap_H', 'sCap', 'effC', 'chargeCap_H', 'selfDischarge', 'effD', 'lineFOM', 'lineMC', 'lineCapacity', 'c_H2g_H', 'c_E2g_E', 'id2tech', 'tech2modelTech', 'id2hvt', 'id2g_E', 'id2g_H', 'g_E2g_H', 'g_H2g', 'g_E2g', 'h2Week', 'h2Weekday', 'h2HourOfTheDay', 'h2Month', 'CapVariation', 'MWP_E', 'MWP_H', 'lineLoss', 'BFt', 'EmissionType', 'c_E', 'h', 'c_H', 'id', 'g_E', 'g_E_alias', 'hvt', 'g_H', 'g', 'gConnected', 'id2modelTech2tech', 'mc', 'discharge_H', 'Generation_E', 'Generation_H', 'HourlyDemand_E', 'Transmission_E', 'charge_H', 'HourlyDemand_H', 'stored_H', 'λ_PowerToHeat', 'λ_LawOfMotion_H', 'λ_equilibrium_E', 'λ_equilibrium_H', 'λ_discharge_H', 'λ_Generation_E', 'λ_Generation_H', 'λ_HourlyDemand_E', 'λ_Transmission_E', 'λ_charge_H', 'λ_HourlyDemand_H', 'λ_stored_H', 'Welfare', 'FuelConsumption', 'hourlyEmissions_H', 'hourlyEmissions_E', 'Emissions_H', 'Emissions_E', 'marginalSystemCosts_E', 'marginalSystemCosts_H', 'marginalEconomicValue', 'meanConsumerPrice_E', 'meanConsumerPrice_H'])"
      ]
     },
     "execution_count": 14,
     "metadata": {},
     "output_type": "execute_result"
    }
   ],
   "source": [
    "m.db.symbols.keys()"
   ]
  },
  {
   "cell_type": "markdown",
   "metadata": {},
   "source": [
    "Save solution for later:"
   ]
  },
  {
   "cell_type": "code",
   "execution_count": 15,
   "metadata": {},
   "outputs": [],
   "source": [
    "base_db = m.db.copy()"
   ]
  },
  {
   "cell_type": "markdown",
   "metadata": {},
   "source": [
    "### Plotting:"
   ]
  },
  {
   "cell_type": "markdown",
   "metadata": {},
   "source": [
    "#### Intermittent Hourly Variation"
   ]
  },
  {
   "cell_type": "code",
   "execution_count": 16,
   "metadata": {},
   "outputs": [
    {
     "data": {
      "text/plain": [
       "Index(['PV_DK', 'ROR_DK', 'SH_DK_Central', 'Standard', 'WL_DK', 'WS_DK'], dtype='object', name='hvt')"
      ]
     },
     "execution_count": 16,
     "metadata": {},
     "output_type": "execute_result"
    }
   ],
   "source": [
    "# Find out range_names\n",
    "db['CapVariation'].index.levels[1]"
   ]
  },
  {
   "cell_type": "code",
   "execution_count": 17,
   "metadata": {},
   "outputs": [
    {
     "name": "stderr",
     "output_type": "stream",
     "text": [
      "findfont: Font family 'Palatino Linotype' not found.\n",
      "findfont: Font family 'Palatino Linotype' not found.\n",
      "findfont: Font family 'Palatino Linotype' not found.\n",
      "findfont: Font family 'Palatino Linotype' not found.\n",
      "findfont: Font family 'Palatino Linotype' not found.\n",
      "findfont: Font family 'Palatino Linotype' not found.\n",
      "findfont: Font family 'Palatino Linotype' not found.\n",
      "findfont: Font family 'Palatino Linotype' not found.\n",
      "findfont: Font family 'Palatino Linotype' not found.\n",
      "findfont: Font family 'Palatino Linotype' not found.\n",
      "findfont: Font family ['Palatino Linotype'] not found. Falling back to DejaVu Sans.\n",
      "findfont: Font family 'Palatino Linotype' not found.\n",
      "findfont: Font family 'Palatino Linotype' not found.\n",
      "findfont: Font family 'Palatino Linotype' not found.\n",
      "findfont: Font family 'Palatino Linotype' not found.\n",
      "findfont: Font family 'Palatino Linotype' not found.\n",
      "findfont: Font family 'Palatino Linotype' not found.\n",
      "findfont: Font family 'Palatino Linotype' not found.\n",
      "findfont: Font family 'Palatino Linotype' not found.\n",
      "findfont: Font family 'Palatino Linotype' not found.\n",
      "findfont: Font family 'Palatino Linotype' not found.\n",
      "findfont: Font family 'Palatino Linotype' not found.\n",
      "findfont: Font family 'Palatino Linotype' not found.\n",
      "findfont: Font family 'Palatino Linotype' not found.\n",
      "findfont: Font family 'Palatino Linotype' not found.\n",
      "findfont: Font family 'Palatino Linotype' not found.\n",
      "findfont: Font family 'Palatino Linotype' not found.\n",
      "findfont: Font family 'Palatino Linotype' not found.\n",
      "findfont: Font family 'Palatino Linotype' not found.\n",
      "findfont: Font family 'Palatino Linotype' not found.\n",
      "findfont: Font family 'Palatino Linotype' not found.\n",
      "findfont: Font family 'Palatino Linotype' not found.\n",
      "findfont: Font family 'Palatino Linotype' not found.\n",
      "findfont: Font family 'Palatino Linotype' not found.\n",
      "findfont: Font family 'Palatino Linotype' not found.\n",
      "findfont: Font family 'Palatino Linotype' not found.\n",
      "findfont: Font family 'Palatino Linotype' not found.\n",
      "findfont: Font family 'Palatino Linotype' not found.\n",
      "findfont: Font family 'Palatino Linotype' not found.\n",
      "findfont: Font family 'Palatino Linotype' not found.\n",
      "findfont: Font family 'Palatino Linotype' not found.\n",
      "findfont: Font family 'Palatino Linotype' not found.\n",
      "findfont: Font family 'Palatino Linotype' not found.\n",
      "findfont: Font family 'Palatino Linotype' not found.\n",
      "findfont: Font family 'Palatino Linotype' not found.\n",
      "findfont: Font family 'Palatino Linotype' not found.\n",
      "findfont: Font family 'Palatino Linotype' not found.\n",
      "findfont: Font family 'Palatino Linotype' not found.\n",
      "findfont: Font family 'Palatino Linotype' not found.\n",
      "findfont: Font family 'Palatino Linotype' not found.\n",
      "findfont: Font family 'Palatino Linotype' not found.\n",
      "findfont: Font family 'Palatino Linotype' not found.\n",
      "findfont: Font family 'Palatino Linotype' not found.\n",
      "findfont: Font family 'Palatino Linotype' not found.\n",
      "findfont: Font family 'Palatino Linotype' not found.\n",
      "findfont: Font family 'Palatino Linotype' not found.\n",
      "findfont: Font family 'Palatino Linotype' not found.\n",
      "findfont: Font family 'Palatino Linotype' not found.\n",
      "findfont: Font family 'Palatino Linotype' not found.\n",
      "findfont: Font family 'Palatino Linotype' not found.\n",
      "findfont: Font family 'Palatino Linotype' not found.\n",
      "findfont: Font family 'Palatino Linotype' not found.\n",
      "findfont: Font family 'Palatino Linotype' not found.\n",
      "findfont: Font family 'Palatino Linotype' not found.\n",
      "findfont: Font family 'Palatino Linotype' not found.\n",
      "findfont: Font family 'Palatino Linotype' not found.\n",
      "findfont: Font family 'Palatino Linotype' not found.\n",
      "findfont: Font family 'Palatino Linotype' not found.\n",
      "findfont: Font family 'Palatino Linotype' not found.\n",
      "findfont: Font family 'Palatino Linotype' not found.\n",
      "findfont: Font family 'Palatino Linotype' not found.\n",
      "findfont: Font family 'Palatino Linotype' not found.\n",
      "findfont: Font family 'Palatino Linotype' not found.\n",
      "findfont: Font family 'Palatino Linotype' not found.\n",
      "findfont: Font family 'Palatino Linotype' not found.\n",
      "findfont: Font family 'Palatino Linotype' not found.\n",
      "findfont: Font family 'Palatino Linotype' not found.\n",
      "findfont: Font family 'Palatino Linotype' not found.\n",
      "findfont: Font family 'Palatino Linotype' not found.\n",
      "findfont: Font family 'Palatino Linotype' not found.\n",
      "findfont: Font family 'Palatino Linotype' not found.\n",
      "findfont: Font family 'Palatino Linotype' not found.\n",
      "findfont: Font family 'Palatino Linotype' not found.\n",
      "findfont: Font family 'Palatino Linotype' not found.\n",
      "findfont: Font family 'Palatino Linotype' not found.\n",
      "findfont: Font family 'Palatino Linotype' not found.\n",
      "findfont: Font family 'Palatino Linotype' not found.\n",
      "findfont: Font family 'Palatino Linotype' not found.\n",
      "findfont: Font family 'Palatino Linotype' not found.\n",
      "findfont: Font family 'Palatino Linotype' not found.\n",
      "findfont: Font family 'Palatino Linotype' not found.\n",
      "findfont: Font family 'Palatino Linotype' not found.\n",
      "findfont: Font family 'Palatino Linotype' not found.\n",
      "findfont: Font family 'Palatino Linotype' not found.\n",
      "findfont: Font family 'Palatino Linotype' not found.\n",
      "findfont: Font family 'Palatino Linotype' not found.\n",
      "findfont: Font family 'Palatino Linotype' not found.\n",
      "findfont: Font family 'Palatino Linotype' not found.\n",
      "findfont: Font family 'Palatino Linotype' not found.\n",
      "findfont: Font family 'Palatino Linotype' not found.\n",
      "findfont: Font family 'Palatino Linotype' not found.\n",
      "findfont: Font family 'Palatino Linotype' not found.\n",
      "findfont: Font family 'Palatino Linotype' not found.\n",
      "findfont: Font family 'Palatino Linotype' not found.\n",
      "findfont: Font family 'Palatino Linotype' not found.\n",
      "findfont: Font family 'Palatino Linotype' not found.\n",
      "findfont: Font family 'Palatino Linotype' not found.\n",
      "findfont: Font family 'Palatino Linotype' not found.\n",
      "findfont: Font family 'Palatino Linotype' not found.\n",
      "findfont: Font family 'Palatino Linotype' not found.\n",
      "findfont: Font family 'Palatino Linotype' not found.\n",
      "findfont: Font family 'Palatino Linotype' not found.\n",
      "findfont: Font family 'Palatino Linotype' not found.\n",
      "findfont: Font family 'Palatino Linotype' not found.\n",
      "findfont: Font family 'Palatino Linotype' not found.\n",
      "findfont: Font family 'Palatino Linotype' not found.\n",
      "findfont: Font family 'Palatino Linotype' not found.\n",
      "findfont: Font family 'Palatino Linotype' not found.\n",
      "findfont: Font family 'Palatino Linotype' not found.\n",
      "findfont: Font family 'Palatino Linotype' not found.\n",
      "findfont: Font family 'Palatino Linotype' not found.\n",
      "findfont: Font family 'Palatino Linotype' not found.\n",
      "findfont: Font family 'Palatino Linotype' not found.\n",
      "findfont: Font family 'Palatino Linotype' not found.\n",
      "findfont: Font family 'Palatino Linotype' not found.\n",
      "findfont: Font family 'Palatino Linotype' not found.\n",
      "findfont: Font family 'Palatino Linotype' not found.\n",
      "findfont: Font family 'Palatino Linotype' not found.\n",
      "findfont: Font family 'Palatino Linotype' not found.\n",
      "findfont: Font family 'Palatino Linotype' not found.\n",
      "findfont: Font family 'Palatino Linotype' not found.\n",
      "findfont: Font family 'Palatino Linotype' not found.\n",
      "findfont: Font family 'Palatino Linotype' not found.\n",
      "findfont: Font family 'Palatino Linotype' not found.\n",
      "findfont: Font family 'Palatino Linotype' not found.\n",
      "findfont: Font family 'Palatino Linotype' not found.\n",
      "findfont: Font family 'Palatino Linotype' not found.\n",
      "findfont: Font family 'Palatino Linotype' not found.\n",
      "findfont: Font family 'Palatino Linotype' not found.\n",
      "findfont: Font family 'Palatino Linotype' not found.\n",
      "findfont: Font family 'Palatino Linotype' not found.\n",
      "findfont: Font family 'Palatino Linotype' not found.\n",
      "findfont: Font family 'Palatino Linotype' not found.\n",
      "findfont: Font family 'Palatino Linotype' not found.\n",
      "findfont: Font family 'Palatino Linotype' not found.\n",
      "findfont: Font family 'Palatino Linotype' not found.\n",
      "findfont: Font family 'Palatino Linotype' not found.\n",
      "findfont: Font family 'Palatino Linotype' not found.\n",
      "findfont: Font family 'Palatino Linotype' not found.\n",
      "findfont: Font family 'Palatino Linotype' not found.\n",
      "findfont: Font family 'Palatino Linotype' not found.\n",
      "findfont: Font family 'Palatino Linotype' not found.\n",
      "findfont: Font family 'Palatino Linotype' not found.\n",
      "findfont: Font family 'Palatino Linotype' not found.\n",
      "findfont: Font family 'Palatino Linotype' not found.\n",
      "findfont: Font family 'Palatino Linotype' not found.\n",
      "findfont: Font family 'Palatino Linotype' not found.\n",
      "findfont: Font family 'Palatino Linotype' not found.\n",
      "findfont: Font family 'Palatino Linotype' not found.\n",
      "findfont: Font family 'Palatino Linotype' not found.\n",
      "findfont: Font family 'Palatino Linotype' not found.\n",
      "findfont: Font family 'Palatino Linotype' not found.\n",
      "findfont: Font family 'Palatino Linotype' not found.\n",
      "findfont: Font family 'Palatino Linotype' not found.\n",
      "findfont: Font family 'Palatino Linotype' not found.\n",
      "findfont: Font family 'Palatino Linotype' not found.\n",
      "findfont: Font family 'Palatino Linotype' not found.\n",
      "findfont: Font family 'Palatino Linotype' not found.\n",
      "findfont: Font family 'Palatino Linotype' not found.\n",
      "findfont: Font family 'Palatino Linotype' not found.\n",
      "findfont: Font family 'Palatino Linotype' not found.\n",
      "findfont: Font family 'Palatino Linotype' not found.\n",
      "findfont: Font family 'Palatino Linotype' not found.\n",
      "findfont: Font family 'Palatino Linotype' not found.\n",
      "findfont: Font family 'Palatino Linotype' not found.\n",
      "findfont: Font family 'Palatino Linotype' not found.\n",
      "findfont: Font family 'Palatino Linotype' not found.\n",
      "findfont: Font family 'Palatino Linotype' not found.\n",
      "findfont: Font family 'Palatino Linotype' not found.\n",
      "findfont: Font family 'Palatino Linotype' not found.\n",
      "findfont: Font family 'Palatino Linotype' not found.\n",
      "findfont: Font family 'Palatino Linotype' not found.\n",
      "findfont: Font family 'Palatino Linotype' not found.\n",
      "findfont: Font family 'Palatino Linotype' not found.\n",
      "findfont: Font family 'Palatino Linotype' not found.\n",
      "findfont: Font family 'Palatino Linotype' not found.\n",
      "findfont: Font family 'Palatino Linotype' not found.\n",
      "findfont: Font family 'Palatino Linotype' not found.\n",
      "findfont: Font family 'Palatino Linotype' not found.\n",
      "findfont: Font family 'Palatino Linotype' not found.\n",
      "findfont: Font family 'Palatino Linotype' not found.\n",
      "findfont: Font family 'Palatino Linotype' not found.\n",
      "findfont: Font family 'Palatino Linotype' not found.\n",
      "findfont: Font family 'Palatino Linotype' not found.\n",
      "findfont: Font family 'Palatino Linotype' not found.\n",
      "findfont: Font family 'Palatino Linotype' not found.\n",
      "findfont: Font family 'Palatino Linotype' not found.\n",
      "findfont: Font family 'Palatino Linotype' not found.\n",
      "findfont: Font family 'Palatino Linotype' not found.\n",
      "findfont: Font family 'Palatino Linotype' not found.\n",
      "findfont: Font family 'Palatino Linotype' not found.\n",
      "findfont: Font family 'Palatino Linotype' not found.\n",
      "findfont: Font family 'Palatino Linotype' not found.\n",
      "findfont: Font family 'Palatino Linotype' not found.\n",
      "findfont: Font family 'Palatino Linotype' not found.\n",
      "findfont: Font family 'Palatino Linotype' not found.\n",
      "findfont: Font family 'Palatino Linotype' not found.\n",
      "findfont: Font family 'Palatino Linotype' not found.\n",
      "findfont: Font family 'Palatino Linotype' not found.\n",
      "findfont: Font family 'Palatino Linotype' not found.\n",
      "findfont: Font family 'Palatino Linotype' not found.\n",
      "findfont: Font family 'Palatino Linotype' not found.\n",
      "findfont: Font family 'Palatino Linotype' not found.\n",
      "findfont: Font family 'Palatino Linotype' not found.\n",
      "findfont: Font family 'Palatino Linotype' not found.\n",
      "findfont: Font family 'Palatino Linotype' not found.\n",
      "findfont: Font family 'Palatino Linotype' not found.\n",
      "findfont: Font family 'Palatino Linotype' not found.\n",
      "findfont: Font family 'Palatino Linotype' not found.\n",
      "findfont: Font family 'Palatino Linotype' not found.\n",
      "findfont: Font family 'Palatino Linotype' not found.\n",
      "findfont: Font family 'Palatino Linotype' not found.\n",
      "findfont: Font family 'Palatino Linotype' not found.\n",
      "findfont: Font family 'Palatino Linotype' not found.\n",
      "findfont: Font family 'Palatino Linotype' not found.\n",
      "findfont: Font family 'Palatino Linotype' not found.\n",
      "findfont: Font family 'Palatino Linotype' not found.\n",
      "findfont: Font family 'Palatino Linotype' not found.\n",
      "findfont: Font family 'Palatino Linotype' not found.\n",
      "findfont: Font family 'Palatino Linotype' not found.\n",
      "findfont: Font family 'Palatino Linotype' not found.\n",
      "findfont: Font family 'Palatino Linotype' not found.\n",
      "findfont: Font family 'Palatino Linotype' not found.\n",
      "findfont: Font family 'Palatino Linotype' not found.\n",
      "findfont: Font family 'Palatino Linotype' not found.\n",
      "findfont: Font family 'Palatino Linotype' not found.\n",
      "findfont: Font family 'Palatino Linotype' not found.\n",
      "findfont: Font family 'Palatino Linotype' not found.\n",
      "findfont: Font family 'Palatino Linotype' not found.\n",
      "findfont: Font family 'Palatino Linotype' not found.\n",
      "findfont: Font family 'Palatino Linotype' not found.\n",
      "findfont: Font family 'Palatino Linotype' not found.\n",
      "findfont: Font family 'Palatino Linotype' not found.\n",
      "findfont: Font family 'Palatino Linotype' not found.\n",
      "findfont: Font family 'Palatino Linotype' not found.\n",
      "findfont: Font family 'Palatino Linotype' not found.\n",
      "findfont: Font family 'Palatino Linotype' not found.\n",
      "findfont: Font family 'Palatino Linotype' not found.\n",
      "findfont: Font family 'Palatino Linotype' not found.\n",
      "findfont: Font family 'Palatino Linotype' not found.\n",
      "findfont: Font family 'Palatino Linotype' not found.\n",
      "findfont: Font family 'Palatino Linotype' not found.\n",
      "findfont: Font family 'Palatino Linotype' not found.\n",
      "findfont: Font family 'Palatino Linotype' not found.\n",
      "findfont: Font family 'Palatino Linotype' not found.\n",
      "findfont: Font family 'Palatino Linotype' not found.\n",
      "findfont: Font family 'Palatino Linotype' not found.\n"
     ]
    },
    {
     "data": {
      "image/png": "[encoded data removed]",
      "text/plain": [
       "<Figure size 800x550 with 1 Axes>"
      ]
     },
     "metadata": {},
     "output_type": "display_data"
    }
   ],
   "source": [
    "range_names = [0, 1, 2, 4, 5]\n",
    "plants_names_intermit = db['CapVariation'].index.levels[1][range_names]\n",
    "\n",
    "month = adj.rc_pd(m.db['h2Month'], name= 'Month')\n",
    "\n",
    "for n, i in enumerate(plants_names_intermit):\n",
    "    adjMultiIndex.applyMult(db['CapVariation'], month).loc[:,i].mean(level=['Month']).plot(label= plants_names_intermit[n])\n",
    "\n",
    "months= ['Jan', 'Feb', 'Mar', 'Apr','May', 'Jun', 'Jul', 'Aug', 'Sep', 'Oct','Nov', 'Dec']\n",
    "plt.xticks(np.arange(start=1, stop=13, step=1), months)\n",
    "plt.xlabel('Month of the Year')\n",
    "plt.ylabel('$\\gamma_{i,h}$')\n",
    "plt.title('Average Monthly Variation in Natural Conditions')\n",
    "plt.legend()\n",
    "plt.savefig('monthly_variation_natural_conditions_plot.png')"
   ]
  },
  {
   "cell_type": "code",
   "execution_count": 18,
   "metadata": {},
   "outputs": [
    {
     "name": "stderr",
     "output_type": "stream",
     "text": [
      "findfont: Font family 'Palatino Linotype' not found.\n",
      "findfont: Font family 'Palatino Linotype' not found.\n",
      "findfont: Font family 'Palatino Linotype' not found.\n",
      "findfont: Font family 'Palatino Linotype' not found.\n",
      "findfont: Font family 'Palatino Linotype' not found.\n",
      "findfont: Font family 'Palatino Linotype' not found.\n",
      "findfont: Font family 'Palatino Linotype' not found.\n",
      "findfont: Font family 'Palatino Linotype' not found.\n",
      "findfont: Font family 'Palatino Linotype' not found.\n",
      "findfont: Font family 'Palatino Linotype' not found.\n",
      "findfont: Font family 'Palatino Linotype' not found.\n",
      "findfont: Font family 'Palatino Linotype' not found.\n",
      "findfont: Font family 'Palatino Linotype' not found.\n",
      "findfont: Font family 'Palatino Linotype' not found.\n",
      "findfont: Font family 'Palatino Linotype' not found.\n",
      "findfont: Font family 'Palatino Linotype' not found.\n",
      "findfont: Font family 'Palatino Linotype' not found.\n",
      "findfont: Font family 'Palatino Linotype' not found.\n",
      "findfont: Font family 'Palatino Linotype' not found.\n",
      "findfont: Font family 'Palatino Linotype' not found.\n",
      "findfont: Font family 'Palatino Linotype' not found.\n",
      "findfont: Font family 'Palatino Linotype' not found.\n",
      "findfont: Font family 'Palatino Linotype' not found.\n",
      "findfont: Font family 'Palatino Linotype' not found.\n",
      "findfont: Font family 'Palatino Linotype' not found.\n",
      "findfont: Font family 'Palatino Linotype' not found.\n",
      "findfont: Font family 'Palatino Linotype' not found.\n",
      "findfont: Font family 'Palatino Linotype' not found.\n",
      "findfont: Font family 'Palatino Linotype' not found.\n",
      "findfont: Font family 'Palatino Linotype' not found.\n",
      "findfont: Font family 'Palatino Linotype' not found.\n",
      "findfont: Font family 'Palatino Linotype' not found.\n",
      "findfont: Font family 'Palatino Linotype' not found.\n",
      "findfont: Font family 'Palatino Linotype' not found.\n",
      "findfont: Font family 'Palatino Linotype' not found.\n",
      "findfont: Font family 'Palatino Linotype' not found.\n",
      "findfont: Font family 'Palatino Linotype' not found.\n",
      "findfont: Font family 'Palatino Linotype' not found.\n",
      "findfont: Font family 'Palatino Linotype' not found.\n",
      "findfont: Font family 'Palatino Linotype' not found.\n",
      "findfont: Font family 'Palatino Linotype' not found.\n",
      "findfont: Font family 'Palatino Linotype' not found.\n",
      "findfont: Font family 'Palatino Linotype' not found.\n",
      "findfont: Font family 'Palatino Linotype' not found.\n",
      "findfont: Font family 'Palatino Linotype' not found.\n",
      "findfont: Font family 'Palatino Linotype' not found.\n",
      "findfont: Font family 'Palatino Linotype' not found.\n",
      "findfont: Font family 'Palatino Linotype' not found.\n",
      "findfont: Font family 'Palatino Linotype' not found.\n",
      "findfont: Font family 'Palatino Linotype' not found.\n",
      "findfont: Font family 'Palatino Linotype' not found.\n",
      "findfont: Font family 'Palatino Linotype' not found.\n",
      "findfont: Font family 'Palatino Linotype' not found.\n",
      "findfont: Font family 'Palatino Linotype' not found.\n",
      "findfont: Font family 'Palatino Linotype' not found.\n",
      "findfont: Font family 'Palatino Linotype' not found.\n",
      "findfont: Font family 'Palatino Linotype' not found.\n",
      "findfont: Font family 'Palatino Linotype' not found.\n",
      "findfont: Font family 'Palatino Linotype' not found.\n",
      "findfont: Font family 'Palatino Linotype' not found.\n",
      "findfont: Font family 'Palatino Linotype' not found.\n",
      "findfont: Font family 'Palatino Linotype' not found.\n",
      "findfont: Font family 'Palatino Linotype' not found.\n",
      "findfont: Font family 'Palatino Linotype' not found.\n",
      "findfont: Font family 'Palatino Linotype' not found.\n",
      "findfont: Font family 'Palatino Linotype' not found.\n",
      "findfont: Font family 'Palatino Linotype' not found.\n",
      "findfont: Font family 'Palatino Linotype' not found.\n",
      "findfont: Font family 'Palatino Linotype' not found.\n",
      "findfont: Font family 'Palatino Linotype' not found.\n",
      "findfont: Font family 'Palatino Linotype' not found.\n",
      "findfont: Font family 'Palatino Linotype' not found.\n",
      "findfont: Font family 'Palatino Linotype' not found.\n",
      "findfont: Font family 'Palatino Linotype' not found.\n",
      "findfont: Font family 'Palatino Linotype' not found.\n",
      "findfont: Font family 'Palatino Linotype' not found.\n",
      "findfont: Font family 'Palatino Linotype' not found.\n",
      "findfont: Font family 'Palatino Linotype' not found.\n",
      "findfont: Font family 'Palatino Linotype' not found.\n",
      "findfont: Font family 'Palatino Linotype' not found.\n",
      "findfont: Font family 'Palatino Linotype' not found.\n",
      "findfont: Font family 'Palatino Linotype' not found.\n",
      "findfont: Font family 'Palatino Linotype' not found.\n",
      "findfont: Font family 'Palatino Linotype' not found.\n",
      "findfont: Font family 'Palatino Linotype' not found.\n",
      "findfont: Font family 'Palatino Linotype' not found.\n",
      "findfont: Font family 'Palatino Linotype' not found.\n",
      "findfont: Font family 'Palatino Linotype' not found.\n",
      "findfont: Font family 'Palatino Linotype' not found.\n",
      "findfont: Font family 'Palatino Linotype' not found.\n",
      "findfont: Font family 'Palatino Linotype' not found.\n",
      "findfont: Font family 'Palatino Linotype' not found.\n",
      "findfont: Font family 'Palatino Linotype' not found.\n",
      "findfont: Font family 'Palatino Linotype' not found.\n",
      "findfont: Font family 'Palatino Linotype' not found.\n",
      "findfont: Font family 'Palatino Linotype' not found.\n",
      "findfont: Font family 'Palatino Linotype' not found.\n",
      "findfont: Font family 'Palatino Linotype' not found.\n",
      "findfont: Font family 'Palatino Linotype' not found.\n",
      "findfont: Font family 'Palatino Linotype' not found.\n",
      "findfont: Font family 'Palatino Linotype' not found.\n",
      "findfont: Font family 'Palatino Linotype' not found.\n",
      "findfont: Font family 'Palatino Linotype' not found.\n",
      "findfont: Font family 'Palatino Linotype' not found.\n",
      "findfont: Font family 'Palatino Linotype' not found.\n",
      "findfont: Font family 'Palatino Linotype' not found.\n",
      "findfont: Font family 'Palatino Linotype' not found.\n",
      "findfont: Font family 'Palatino Linotype' not found.\n",
      "findfont: Font family 'Palatino Linotype' not found.\n",
      "findfont: Font family 'Palatino Linotype' not found.\n",
      "findfont: Font family 'Palatino Linotype' not found.\n",
      "findfont: Font family 'Palatino Linotype' not found.\n",
      "findfont: Font family 'Palatino Linotype' not found.\n",
      "findfont: Font family 'Palatino Linotype' not found.\n",
      "findfont: Font family 'Palatino Linotype' not found.\n",
      "findfont: Font family 'Palatino Linotype' not found.\n",
      "findfont: Font family 'Palatino Linotype' not found.\n",
      "findfont: Font family 'Palatino Linotype' not found.\n",
      "findfont: Font family 'Palatino Linotype' not found.\n",
      "findfont: Font family 'Palatino Linotype' not found.\n",
      "findfont: Font family 'Palatino Linotype' not found.\n",
      "findfont: Font family 'Palatino Linotype' not found.\n",
      "findfont: Font family 'Palatino Linotype' not found.\n",
      "findfont: Font family 'Palatino Linotype' not found.\n",
      "findfont: Font family 'Palatino Linotype' not found.\n",
      "findfont: Font family 'Palatino Linotype' not found.\n",
      "findfont: Font family 'Palatino Linotype' not found.\n",
      "findfont: Font family 'Palatino Linotype' not found.\n",
      "findfont: Font family 'Palatino Linotype' not found.\n",
      "findfont: Font family 'Palatino Linotype' not found.\n",
      "findfont: Font family 'Palatino Linotype' not found.\n",
      "findfont: Font family 'Palatino Linotype' not found.\n",
      "findfont: Font family 'Palatino Linotype' not found.\n",
      "findfont: Font family 'Palatino Linotype' not found.\n",
      "findfont: Font family 'Palatino Linotype' not found.\n",
      "findfont: Font family 'Palatino Linotype' not found.\n",
      "findfont: Font family 'Palatino Linotype' not found.\n",
      "findfont: Font family 'Palatino Linotype' not found.\n",
      "findfont: Font family 'Palatino Linotype' not found.\n",
      "findfont: Font family 'Palatino Linotype' not found.\n",
      "findfont: Font family 'Palatino Linotype' not found.\n",
      "findfont: Font family 'Palatino Linotype' not found.\n",
      "findfont: Font family 'Palatino Linotype' not found.\n",
      "findfont: Font family 'Palatino Linotype' not found.\n",
      "findfont: Font family 'Palatino Linotype' not found.\n",
      "findfont: Font family 'Palatino Linotype' not found.\n",
      "findfont: Font family 'Palatino Linotype' not found.\n",
      "findfont: Font family 'Palatino Linotype' not found.\n",
      "findfont: Font family 'Palatino Linotype' not found.\n",
      "findfont: Font family 'Palatino Linotype' not found.\n",
      "findfont: Font family 'Palatino Linotype' not found.\n",
      "findfont: Font family 'Palatino Linotype' not found.\n",
      "findfont: Font family 'Palatino Linotype' not found.\n",
      "findfont: Font family 'Palatino Linotype' not found.\n",
      "findfont: Font family 'Palatino Linotype' not found.\n",
      "findfont: Font family 'Palatino Linotype' not found.\n",
      "findfont: Font family 'Palatino Linotype' not found.\n",
      "findfont: Font family 'Palatino Linotype' not found.\n",
      "findfont: Font family 'Palatino Linotype' not found.\n",
      "findfont: Font family 'Palatino Linotype' not found.\n",
      "findfont: Font family 'Palatino Linotype' not found.\n",
      "findfont: Font family 'Palatino Linotype' not found.\n",
      "findfont: Font family 'Palatino Linotype' not found.\n",
      "findfont: Font family 'Palatino Linotype' not found.\n",
      "findfont: Font family 'Palatino Linotype' not found.\n",
      "findfont: Font family 'Palatino Linotype' not found.\n",
      "findfont: Font family 'Palatino Linotype' not found.\n",
      "findfont: Font family 'Palatino Linotype' not found.\n",
      "findfont: Font family 'Palatino Linotype' not found.\n",
      "findfont: Font family 'Palatino Linotype' not found.\n",
      "findfont: Font family 'Palatino Linotype' not found.\n",
      "findfont: Font family 'Palatino Linotype' not found.\n",
      "findfont: Font family 'Palatino Linotype' not found.\n",
      "findfont: Font family 'Palatino Linotype' not found.\n",
      "findfont: Font family 'Palatino Linotype' not found.\n",
      "findfont: Font family 'Palatino Linotype' not found.\n",
      "findfont: Font family 'Palatino Linotype' not found.\n",
      "findfont: Font family 'Palatino Linotype' not found.\n",
      "findfont: Font family 'Palatino Linotype' not found.\n",
      "findfont: Font family 'Palatino Linotype' not found.\n",
      "findfont: Font family 'Palatino Linotype' not found.\n",
      "findfont: Font family 'Palatino Linotype' not found.\n",
      "findfont: Font family 'Palatino Linotype' not found.\n",
      "findfont: Font family 'Palatino Linotype' not found.\n",
      "findfont: Font family 'Palatino Linotype' not found.\n",
      "findfont: Font family 'Palatino Linotype' not found.\n",
      "findfont: Font family 'Palatino Linotype' not found.\n",
      "findfont: Font family 'Palatino Linotype' not found.\n",
      "findfont: Font family 'Palatino Linotype' not found.\n",
      "findfont: Font family 'Palatino Linotype' not found.\n",
      "findfont: Font family 'Palatino Linotype' not found.\n",
      "findfont: Font family 'Palatino Linotype' not found.\n",
      "findfont: Font family 'Palatino Linotype' not found.\n",
      "findfont: Font family 'Palatino Linotype' not found.\n",
      "findfont: Font family 'Palatino Linotype' not found.\n",
      "findfont: Font family 'Palatino Linotype' not found.\n",
      "findfont: Font family 'Palatino Linotype' not found.\n",
      "findfont: Font family 'Palatino Linotype' not found.\n",
      "findfont: Font family 'Palatino Linotype' not found.\n",
      "findfont: Font family 'Palatino Linotype' not found.\n",
      "findfont: Font family 'Palatino Linotype' not found.\n",
      "findfont: Font family 'Palatino Linotype' not found.\n",
      "findfont: Font family 'Palatino Linotype' not found.\n",
      "findfont: Font family 'Palatino Linotype' not found.\n",
      "findfont: Font family 'Palatino Linotype' not found.\n",
      "findfont: Font family 'Palatino Linotype' not found.\n",
      "findfont: Font family 'Palatino Linotype' not found.\n",
      "findfont: Font family 'Palatino Linotype' not found.\n",
      "findfont: Font family 'Palatino Linotype' not found.\n",
      "findfont: Font family 'Palatino Linotype' not found.\n",
      "findfont: Font family 'Palatino Linotype' not found.\n",
      "findfont: Font family 'Palatino Linotype' not found.\n",
      "findfont: Font family 'Palatino Linotype' not found.\n",
      "findfont: Font family 'Palatino Linotype' not found.\n",
      "findfont: Font family 'Palatino Linotype' not found.\n",
      "findfont: Font family 'Palatino Linotype' not found.\n",
      "findfont: Font family 'Palatino Linotype' not found.\n",
      "findfont: Font family 'Palatino Linotype' not found.\n",
      "findfont: Font family 'Palatino Linotype' not found.\n",
      "findfont: Font family 'Palatino Linotype' not found.\n",
      "findfont: Font family 'Palatino Linotype' not found.\n",
      "findfont: Font family 'Palatino Linotype' not found.\n",
      "findfont: Font family 'Palatino Linotype' not found.\n",
      "findfont: Font family 'Palatino Linotype' not found.\n",
      "findfont: Font family 'Palatino Linotype' not found.\n",
      "findfont: Font family 'Palatino Linotype' not found.\n"
     ]
    },
    {
     "data": {
      "image/png": "[encoded data removed]",
      "text/plain": [
       "<Figure size 800x550 with 1 Axes>"
      ]
     },
     "metadata": {},
     "output_type": "display_data"
    }
   ],
   "source": [
    "range_names = [0, 1, 2, 4, 5]\n",
    "plants_names_intermit = db['CapVariation'].index.levels[1][range_names]\n",
    "\n",
    "h2HourOfTheDay = adj.rc_pd(m.db['h2HourOfTheDay'], name= 'HourOfTheDay')\n",
    "\n",
    "for n, i in enumerate(plants_names_intermit):\n",
    "    adjMultiIndex.applyMult(db['CapVariation'], h2HourOfTheDay).loc[:,i].mean(level=['HourOfTheDay']).plot(label= plants_names_intermit[n])\n",
    "\n",
    "hs2HourOfTheDay= np.arange(start=0, stop=23, step=3)\n",
    "plt.xticks(hs2HourOfTheDay,hs2HourOfTheDay)\n",
    "plt.xlabel('Hour of the Day')\n",
    "plt.ylabel('$\\gamma_{i,h}$')\n",
    "plt.title('Average Hourly Variation in Natural Conditions')\n",
    "plt.legend()\n",
    "plt.savefig('hourly_variation_natural_conditions_plot.png')"
   ]
  },
  {
   "cell_type": "code",
   "execution_count": 19,
   "metadata": {},
   "outputs": [],
   "source": [
    "range_names = [0, 1, 2, 4, 5]\n",
    "plants_names_intermit = db['CapVariation'].index.levels[1][range_names]\n",
    "\n",
    "h2HourOfTheDay = adj.rc_pd(m.db['h2HourOfTheDay'], name= 'HourOfTheDay')\n",
    "\n",
    "#for n, i in enumerate(plants_names_intermit):\n",
    "#    adjMultiIndex.applyMult(db['CapVariation'], h2HourOfTheDay).loc[:,i].mean(level=['HourOfTheDay']).plot(label= plants_names_intermit[n])\n",
    "\n",
    "hs2HourOfTheDay= np.arange(start=0, stop=24, step=1)\n",
    "#plt.xticks(hs2HourOfTheDay,hs2HourOfTheDay)\n",
    "#plt.ylabel('$\\gamma_{i,h}$')\n",
    "#plt.title('Average Hourly Variation in Natural Conditions')\n",
    "#plt.legend()\n",
    "#plt.savefig('hourly_variation_plot.png')"
   ]
  },
  {
   "cell_type": "code",
   "execution_count": 20,
   "metadata": {},
   "outputs": [],
   "source": [
    "range_names = [2]\n",
    "plants_names_intermit = db['CapVariation'].index.levels[1][range_names]\n",
    "\n",
    "month = adj.rc_pd(m.db['h2Month'], name= 'Month')\n",
    "\n",
    "#for n, i in enumerate(plants_names_intermit):\n",
    "#    adjMultiIndex.applyMult(db['CapVariation'], month).loc[:,i].mean(level=['Month']).plot(label= plants_names_intermit[n])\n",
    "\n",
    "months= ['Jan', 'Feb', 'Mar', 'Apr','May', 'Jun', 'Jul', 'Aug', 'Sep', 'Oct','Nov', 'Dec']\n",
    "#plt.xticks(np.arange(start=1, stop=13, step=1), months)\n",
    "#plt.ylabel('$\\gamma_{i,h}$')\n",
    "#plt.title('Monthly Variation in Natural Conditions')\n",
    "#plt.legend()\n",
    "#plt.savefig('monthly_variation_SH_plot.png')"
   ]
  },
  {
   "cell_type": "code",
   "execution_count": null,
   "metadata": {},
   "outputs": [],
   "source": [
    "range_names = [2]\n",
    "plants_names_intermit = db['CapVariation'].index.levels[1][range_names]\n",
    "\n",
    "h2HourOfTheDay = adj.rc_pd(m.db['h2HourOfTheDay'], name= 'HourOfTheDay')\n",
    "\n",
    "for n, i in enumerate(plants_names_intermit):\n",
    "    adjMultiIndex.applyMult(db['CapVariation'], h2HourOfTheDay).loc[:,i].mean(level=['HourOfTheDay']).plot(label= plants_names_intermit[n], color='firebrick')\n",
    "\n",
    "hs2HourOfTheDay= np.arange(start=0, stop=23, step=3)\n",
    "plt.xticks(hs2HourOfTheDay,hs2HourOfTheDay)\n",
    "plt.xlabel('Hour of the Day')\n",
    "plt.ylabel('$\\gamma_{i,h}$')\n",
    "plt.title('Average Hourly Variation in Natural Conditions')\n",
    "plt.legend()\n",
    "plt.savefig('hourly_variation_SH_plot.png')"
   ]
  },
  {
   "cell_type": "markdown",
   "metadata": {},
   "source": [
    "#### Heat Generation"
   ]
  },
  {
   "cell_type": "code",
   "execution_count": null,
   "metadata": {},
   "outputs": [],
   "source": [
    "#GenH_platn_names = base_db['Generation_H'].index.levels[2]\n",
    "\n",
    "#month = adj.rc_pd(base_db['h2Month'], name= 'Month')\n",
    "\n",
    "\n",
    "\n",
    "#for n, i in enumerate(GenH_platn_names):\n",
    "#    adjMultiIndex.applyMult(base_db['Generation_H'], month).reset_index(level=['g_H'], drop=True).loc[:,i].mean(level=['Month']).plot(label= GenH_platn_names[n])\n",
    "\n",
    "#months= ['Jan', 'Feb', 'Mar', 'Apr','May', 'Jun', 'Jul', 'Aug', 'Sep', 'Oct','Nov', 'Dec']\n",
    "#plt.xticks(np.arange(start=1, stop=13, step=1), months)\n",
    "#plt.ylabel('MWh')\n",
    "#plt.title('Heat Generation')\n",
    "#plt.legend()"
   ]
  },
  {
   "cell_type": "code",
   "execution_count": null,
   "metadata": {},
   "outputs": [],
   "source": [
    "GenH_plant_names = base_db['Generation_H'].index.levels[2]\n",
    "\n",
    "hvt = adj.rc_pd(base_db['id2hvt'], name= 'HVT')\n",
    "\n",
    "GenH_2_hvt = adjMultiIndex.applyMult(base_db['Generation_H'], hvt).reset_index(level=['g_H'], drop=True)\n",
    "\n",
    "month = adj.rc_pd(base_db['h2Month'], name= 'Month')\n",
    "\n",
    "range_xyz = [2,3]\n",
    "hvt_plant_names = base_db['id2hvt'].levels[1][range_xyz]\n",
    "\n",
    "#for n, i in enumerate(hvt_plant_names):\n",
    "#    adjMultiIndex.applyMult(GenH_2_hvt, month).reset_index(level=['id'], drop=True).loc[:,i].mean(level=['Month']).plot(label= hvt_plant_names[n])\n",
    "\n",
    "months= ['Jan', 'Feb', 'Mar', 'Apr','May', 'Jun', 'Jul', 'Aug', 'Sep', 'Oct','Nov', 'Dec']\n",
    "#plt.xticks(np.arange(start=1, stop=13, step=1), months)\n",
    "#plt.ylabel('MWh')\n",
    "#plt.title('Intermittent Heat Generation')\n",
    "#plt.legend()"
   ]
  },
  {
   "cell_type": "code",
   "execution_count": null,
   "metadata": {},
   "outputs": [],
   "source": [
    "GenH_plant_names = base_db['Generation_H'].index.levels[2]\n",
    "\n",
    "id2tech = adj.rc_pd(base_db['id2tech'], name = 'id2tech')\n",
    "GenH_id2tech = adjMultiIndex.applyMult(base_db['Generation_H'], id2tech).reset_index(level=['g_H'], drop=True)\n",
    "\n",
    "tech2modelTech = adj.rc_pd(base_db['tech2modelTech'], name = 'tech2modelTech')\n",
    "GenH_id2tech_tech2modelTech = adjMultiIndex.applyMult(GenH_id2tech, tech2modelTech)\n",
    "\n",
    "range_tech2modelTec = [2]\n",
    "names = GenH_id2tech_tech2modelTech.index.levels[3]\n",
    "\n",
    "month = adj.rc_pd(base_db['h2Month'], name= 'Month')\n",
    "\n",
    "#for n, i in enumerate(names):\n",
    "#    adjMultiIndex.applyMult(GenH_id2tech_tech2modelTech, month).reset_index(level=['id','tech'], drop=True).loc[:,i].mean(level=['Month']).plot(label= names[n])\n",
    "\n",
    "months= ['Jan', 'Feb', 'Mar', 'Apr','May', 'Jun', 'Jul', 'Aug', 'Sep', 'Oct','Nov', 'Dec']\n",
    "#plt.xticks(np.arange(start=1, stop=13, step=1), months)\n",
    "#plt.ylabel('MWh')\n",
    "#plt.title('Intermittent Heat Generation')\n",
    "#plt.legend()"
   ]
  },
  {
   "cell_type": "code",
   "execution_count": null,
   "metadata": {},
   "outputs": [],
   "source": [
    "GenH_plant_names = base_db['Generation_H'].index.levels[2]\n",
    "\n",
    "id2tech = adj.rc_pd(base_db['id2tech'], name = 'id2tech')\n",
    "GenH_id2tech = adjMultiIndex.applyMult(base_db['Generation_H'], id2tech).reset_index(level=['g_H'], drop=True)\n",
    "\n",
    "tech2modelTech = adj.rc_pd(base_db['tech2modelTech'], name = 'tech2modelTech')\n",
    "GenH_id2tech_tech2modelTech = adjMultiIndex.applyMult(GenH_id2tech, tech2modelTech)\n",
    "\n",
    "range_tech2modelTec = [2]\n",
    "names = GenH_id2tech_tech2modelTech.index.levels[3][range_tech2modelTec]\n",
    "\n",
    "month = adj.rc_pd(base_db['h2Month'], name= 'Month')\n",
    "\n",
    "for n, i in enumerate(names):\n",
    "    adjMultiIndex.applyMult(GenH_id2tech_tech2modelTech, month).reset_index(level=['id','tech'], drop=True).loc[:,i].mean(level=['Month']).plot()\n",
    "\n",
    "months= ['Jan', 'Feb', 'Mar', 'Apr','May', 'Jun', 'Jul', 'Aug', 'Sep', 'Oct','Nov', 'Dec']\n",
    "plt.xticks(np.arange(start=1, stop=13, step=1), months)\n",
    "plt.ylabel('$H_{i,h}$')\n",
    "plt.xlabel('Month of the Year')\n",
    "plt.title('Heat Pump - Heat Generation')\n",
    "#plt.savefig('baseline_monthly_generation_H_HP_plot.png')"
   ]
  },
  {
   "cell_type": "code",
   "execution_count": null,
   "metadata": {},
   "outputs": [],
   "source": [
    "id2tech = adj.rc_pd(base_db['id2tech'], name = 'id2tech')\n",
    "GenH_id2tech = adjMultiIndex.applyMult(base_db['Generation_H'], id2tech).reset_index(level=['g_H'], drop=True)\n",
    "\n",
    "range_id2tech = [21]\n",
    "names_id2tech = GenH_id2tech.index.levels[2][range_id2tech]\n",
    "\n",
    "month = adj.rc_pd(base_db['h2Month'], name= 'Month')\n",
    "\n",
    "for n, i in enumerate(names_id2tech):\n",
    "    adjMultiIndex.applyMult(GenH_id2tech, month).reset_index(level=['id'], drop=True).loc[:,i].mean(level=['Month']).plot()\n",
    "\n",
    "months= ['Jan', 'Feb', 'Mar', 'Apr','May', 'Jun', 'Jul', 'Aug', 'Sep', 'Oct','Nov', 'Dec']\n",
    "plt.xticks(np.arange(start=1, stop=13, step=1), months)\n",
    "plt.ylabel('$H_{i,h}$')\n",
    "plt.xlabel('Month of the Year')\n",
    "plt.title('Solar Heat - Heat Generation')\n",
    "#plt.savefig('baseline_monthly_generation_H_SH_plot.png')"
   ]
  },
  {
   "cell_type": "code",
   "execution_count": null,
   "metadata": {},
   "outputs": [],
   "source": [
    "#month = adj.rc_pd(m.db['h2Month'], name= 'Month')\n",
    "\n",
    "#adjMultiIndex.applyMult(base_db['Generation_H'], month).sum(level=['Month']).plot(legend=False)\n",
    "\n",
    "#months= ['Jan', 'Feb', 'Mar', 'Apr','May', 'Jun', 'Jul', 'Aug', 'Sep', 'Oct','Nov', 'Dec']\n",
    "#plt.xticks(np.arange(start=1, stop=13, step=1), months)\n",
    "#plt.ylabel('MWh')\n",
    "#plt.title('Total Heat Generation')"
   ]
  },
  {
   "cell_type": "markdown",
   "metadata": {},
   "source": [
    "#### Electricity Generation"
   ]
  },
  {
   "cell_type": "code",
   "execution_count": null,
   "metadata": {},
   "outputs": [],
   "source": [
    "range_E = [18,19,20,21]\n",
    "plants_names_intermit_E = base_db['Generation_E'].index.levels[2][range_E]\n",
    "\n",
    "month = adj.rc_pd(m.db['h2Month'], name= 'Month')\n",
    "\n",
    "for n, i in enumerate(plants_names_intermit_E):\n",
    "    adjMultiIndex.applyMult(base_db['Generation_E'], month).reset_index(level=['g_E'], drop=True).loc[:,i].mean(level=['Month']).plot(label= plants_names_intermit_E[n])\n",
    "\n",
    "months= ['Jan', 'Feb', 'Mar', 'Apr','May', 'Jun', 'Jul', 'Aug', 'Sep', 'Oct','Nov', 'Dec']\n",
    "plt.xticks(np.arange(start=1, stop=13, step=1), months)\n",
    "plt.xlabel('Month of the Year')\n",
    "plt.ylabel('$E_{i,h}$')\n",
    "plt.title('Intermittent Electricity Generation')\n",
    "plt.legend()\n",
    "#plt.savefig('baseline_monthly_generation_E_intermittent_plot.png')"
   ]
  },
  {
   "cell_type": "markdown",
   "metadata": {},
   "source": [
    "#### Marginal System Costs H"
   ]
  },
  {
   "cell_type": "code",
   "execution_count": null,
   "metadata": {},
   "outputs": [],
   "source": [
    "# Save as df\n",
    "marginalSystemCosts_H_df = base_db['marginalSystemCosts_H'].to_frame().reset_index().rename(columns={0: 'MarginalSystemCosts'})\n",
    "\n",
    "# Add hour mapping to df\n",
    "marginalSystemCosts_H_df = marginalSystemCosts_H_df.reset_index().merge(m.db['h2HourOfTheDay'].to_frame(index=False))\n",
    "\n",
    "#tick_positions = range(0, 8761, 1000)\n",
    "\n",
    "# Plot the subset DataFrame\n",
    "marginalSystemCosts_H_df.groupby('HourOfTheDay')['MarginalSystemCosts'].mean().plot()\n",
    "\n",
    "hs2HourOfTheDay= np.arange(start=0, stop=23, step=3)\n",
    "plt.xticks(hs2HourOfTheDay,hs2HourOfTheDay)\n",
    "\n",
    "plt.xlabel('Hour of the Day')\n",
    "plt.ylabel('Average marginal system costs ($€/$MWh)')\n",
    "plt.title('Heat: Average Marginal System Costs')\n",
    "plt.savefig('baseline_hourly_systemcosts_H_plot.png')\n",
    "plt.show()"
   ]
  },
  {
   "cell_type": "code",
   "execution_count": null,
   "metadata": {},
   "outputs": [],
   "source": [
    "# Save as df\n",
    "#marginalSystemCosts_H_df = base_db['marginalSystemCosts_H'].to_frame().reset_index().rename(columns={0: 'MarginalSystemCosts'})\n",
    "\n",
    "# Add hour mapping to df\n",
    "#marginalSystemCosts_H_df = marginalSystemCosts_H_df.reset_index().merge(m.db['h2Day'].to_frame(index=False))\n",
    "\n",
    "#tick_positions = range(0, 8761, 1000)\n",
    "\n",
    "# Plot the subset DataFrame\n",
    "#marginalSystemCosts_H_df.groupby('Day')['MarginalSystemCosts'].mean().plot()\n",
    "#plt.xlabel('Day of the Year')\n",
    "#plt.ylabel('Average marginal system costs ($€/$MWh)')\n",
    "#plt.title('Heat: Average Marginal System Costs')\n",
    "#plt.show()"
   ]
  },
  {
   "cell_type": "code",
   "execution_count": null,
   "metadata": {},
   "outputs": [],
   "source": [
    "# Save as df\n",
    "marginalSystemCosts_H_df = base_db['marginalSystemCosts_H'].to_frame().reset_index().rename(columns={0: 'MarginalSystemCosts'})\n",
    "\n",
    "# Add hour mapping to df\n",
    "marginalSystemCosts_H_df = marginalSystemCosts_H_df.reset_index().merge(m.db['h2Week'].to_frame(index=False))\n",
    "\n",
    "#tick_positions = range(0, 8761, 1000)\n",
    "\n",
    "# Plot the subset DataFrame\n",
    "marginalSystemCosts_H_df.groupby('Week')['MarginalSystemCosts'].mean().plot()\n",
    "plt.xlabel('Week of the Year')\n",
    "plt.ylabel('Average marginal system costs ($€/$MWh)')\n",
    "plt.title('Heat: Average Marginal System Costs')\n",
    "plt.savefig('baseline_weekly_systemcosts_H_plot.png')\n",
    "plt.show()"
   ]
  },
  {
   "cell_type": "markdown",
   "metadata": {},
   "source": [
    "#### Storage Technology"
   ]
  },
  {
   "cell_type": "code",
   "execution_count": null,
   "metadata": {},
   "outputs": [],
   "source": [
    "df.groupby('HourOfTheDay').mean()"
   ]
  },
  {
   "cell_type": "code",
   "execution_count": null,
   "metadata": {},
   "outputs": [],
   "source": [
    "# Make dataframe\n",
    "charge = (base_db['charge_H'].droplevel('id')).to_frame(name='charge')\n",
    "discharge = (base_db['discharge_H'].droplevel('id')).to_frame(name='discharge')\n",
    "\n",
    "df_Y = pd.concat([charge, discharge], axis=0).groupby('h').agg('sum')\n",
    "df_Y['result_column'] = df_Y['charge'] - df_Y['discharge']\n",
    "\n",
    "# Make new dataframe with time mappings\n",
    "df = df_Y['result_column'].reset_index().merge(base_db['h2HourOfTheDay'].to_frame(index=False))\n",
    "df = df.drop(columns=['h'])\n",
    "\n",
    "# Make plot\n",
    "fig, ax = plt.subplots()\n",
    "df.groupby('HourOfTheDay').mean().plot(xlabel='Hour of the Day', ylabel=r'$Y^c - Y^d$', ax=ax, legend=False)\n",
    "hs2HourOfTheDay= np.arange(start=0, stop=23, step=3)\n",
    "ax.axhline(y=0, color='black', linewidth=1, linestyle='-')\n",
    "plt.xticks(hs2HourOfTheDay,hs2HourOfTheDay)\n",
    "plt.title('Heat: Average Net Charge of the Storage Facility')\n",
    "plt.savefig('baseline_hourly_net_charge_H_plot.png')\n",
    "plt.show()\n"
   ]
  },
  {
   "cell_type": "code",
   "execution_count": null,
   "metadata": {},
   "outputs": [],
   "source": [
    "# Save as df\n",
    "charge_df = base_db['charge_H'].to_frame().reset_index().rename(columns={0: 'charge'})\n",
    "\n",
    "# Add hour mapping to df\n",
    "charge_df = charge_df.reset_index().merge(m.db['h2HourOfTheDay'].to_frame(index=False))\n",
    "\n",
    "#tick_positions = range(0, 8761, 1000)\n",
    "\n",
    "# Plot the subset DataFrame\n",
    "#charge_df.groupby('HourOfTheDay')['charge'].mean().plot()\n",
    "#plt.xlabel('Average hour of the day')\n",
    "#plt.ylabel('Average charging (MW)')\n",
    "#plt.xticks(tick_positions, tick_positions)\n",
    "#plt.title('Average charging')\n",
    "#plt.show()"
   ]
  },
  {
   "cell_type": "code",
   "execution_count": null,
   "metadata": {},
   "outputs": [],
   "source": [
    "# Save as df\n",
    "discharge_df = base_db['discharge_H'].to_frame().reset_index().rename(columns={0: 'discharge'})\n",
    "\n",
    "# Add hour mapping to df\n",
    "discharge_df = discharge_df.reset_index().merge(m.db['h2HourOfTheDay'].to_frame(index=False))\n",
    "\n",
    "#tick_positions = range(0, 8761, 1000)\n",
    "\n",
    "# Plot the subset DataFrame\n",
    "#discharge_df.groupby('HourOfTheDay')['discharge'].mean().plot()\n",
    "#plt.xlabel('Average hour of the day')\n",
    "#plt.ylabel('Average discharging (MW)')\n",
    "#plt.xticks(tick_positions, tick_positions)\n",
    "#plt.title('Average discharging')\n",
    "#plt.show()"
   ]
  },
  {
   "cell_type": "markdown",
   "metadata": {},
   "source": [
    "## Counterfactual Scenarios"
   ]
  },
  {
   "cell_type": "markdown",
   "metadata": {},
   "source": [
    "### Solving"
   ]
  },
  {
   "cell_type": "markdown",
   "metadata": {},
   "source": [
    "In the following, we will run an experiment where we are exogenously increase the capacity of the storage technology from the baseline levels. We exogenously take the size of the large hot water tank recently built in Germany ([Vattenfall's press release](https://group.vattenfall.com/press-and-media/newsroom/2022/germanys-largest-heat-storage-in-the-starting-blocks)) as the maximum size of our counterfactual scenarios. The tank has a size of 56'000 $m^3$. We then exogenously insert this number in cell *C30* in the file *\\EnergyEconGroupWork\\DownloadDataForDK\\ModelData\\technology_datasheet_for_energy_storage.xlsx* in sheet *141 Large hot water tank Berlin* to get the maximum values for $GeneratingCap\\_H$, $chargeCap\\_H$ and $sCap$. Note that we keep the energy to heat ratio constant at 60 hours (the time it takes to fully load or deload the tank)."
   ]
  },
  {
   "cell_type": "markdown",
   "metadata": {},
   "source": [
    "We will also be extracting the following variables:"
   ]
  },
  {
   "cell_type": "code",
   "execution_count": null,
   "metadata": {},
   "outputs": [],
   "source": [
    "extract = ['marginalSystemCosts_H','charge_H','discharge_H','Welfare', 'marginalEconomicValue', 'λ_stored_H','λ_discharge_H','λ_charge_H','meanConsumerPrice_H','meanConsumerPrice_E']"
   ]
  },
  {
   "cell_type": "code",
   "execution_count": null,
   "metadata": {},
   "outputs": [],
   "source": [
    "# Setting\n",
    "#E2H = 60.344828 # The \"energy storage to heat\"-ratio/storage duration\n",
    "#maxcap = 53.8\n",
    "loop = pd.Index(range(5), name = 'loop')\n",
    "v0_GCap = pd.Series(base_db['GeneratingCap_H'], index = getTechs(['HS'],m.db))\n",
    "vT_GCap = pd.Series(1678.8, index = v0_GCap.index)\n",
    "v0_SCap = pd.Series(base_db['sCap'], index = getTechs(['HS'],m.db))\n",
    "vT_SCap = pd.Series(100725, index = v0_GCap.index)\n",
    "\n",
    "grid_GCap = adjMultiIndex.addGrid(v0_GCap,vT_GCap,loop,'GeneratingCapacity').astype(int)\n",
    "grid_SCap = adjMultiIndex.addGrid(v0_SCap,vT_SCap,loop,'sCap').astype(int)"
   ]
  },
  {
   "cell_type": "code",
   "execution_count": null,
   "metadata": {},
   "outputs": [],
   "source": [
    "base_db['sCap']"
   ]
  },
  {
   "cell_type": "code",
   "execution_count": null,
   "metadata": {},
   "outputs": [],
   "source": [
    "grid_GCap"
   ]
  },
  {
   "cell_type": "code",
   "execution_count": null,
   "metadata": {},
   "outputs": [],
   "source": [
    "grid_SCap"
   ]
  },
  {
   "cell_type": "markdown",
   "metadata": {},
   "source": [
    "We now run the counterfactual scenarios:"
   ]
  },
  {
   "cell_type": "code",
   "execution_count": null,
   "metadata": {},
   "outputs": [],
   "source": [
    "solution = m.loopSolveExtract(loop, [grid_GCap, grid_SCap], extract)"
   ]
  },
  {
   "cell_type": "markdown",
   "metadata": {},
   "source": [
    "### Plotting:"
   ]
  },
  {
   "cell_type": "markdown",
   "metadata": {},
   "source": [
    "#### Marginal System Costs H"
   ]
  },
  {
   "cell_type": "code",
   "execution_count": null,
   "metadata": {},
   "outputs": [],
   "source": [
    "loop_id=loop[[0,1,2,3,4]]"
   ]
  },
  {
   "cell_type": "code",
   "execution_count": null,
   "metadata": {},
   "outputs": [],
   "source": [
    "# Add hour mapping to df\n",
    "marginalSystemCosts_H_df_loop = adj.rc_pd(solution['marginalSystemCosts_H'],loop_id).unstack('loop').reset_index().merge(m.db['h2HourOfTheDay'].to_frame(index=False))\n",
    "\n",
    "# Deleta h column as it messes up plotting\n",
    "marginalSystemCosts_H_df_loop = marginalSystemCosts_H_df_loop.drop('h', axis=1)\n",
    "\n",
    "# Plot the subset Series\n",
    "marginalSystemCosts_H_df_loop.groupby('HourOfTheDay').mean().plot()\n",
    "\n",
    "hs2HourOfTheDay= np.arange(start=0, stop=23, step=3)\n",
    "plt.xticks(hs2HourOfTheDay,hs2HourOfTheDay)\n",
    "\n",
    "plt.xlabel('Hour of the Day')\n",
    "plt.ylabel('Average marginal system costs ($€/$MWh)')\n",
    "plt.title('Heat: Average marginal system costs')\n",
    "plt.savefig('counterfactual_hourly_systemcosts_H_plot.png')\n",
    "plt.show()"
   ]
  },
  {
   "cell_type": "code",
   "execution_count": null,
   "metadata": {},
   "outputs": [],
   "source": [
    "# Add hour mapping to df\n",
    "marginalSystemCosts_H_df_loop_week = adj.rc_pd(solution['marginalSystemCosts_H'],loop_id).unstack('loop').reset_index().merge(m.db['h2Week'].to_frame(index=False))\n",
    "\n",
    "# Deleta h column as it messes up plotting\n",
    "marginalSystemCosts_H_df_loop_week = marginalSystemCosts_H_df_loop_week.drop('h', axis=1)\n",
    "\n",
    "# Plot the subset Series\n",
    "marginalSystemCosts_H_df_loop_week.groupby('Week').mean().plot()\n",
    "plt.xlabel('Week of the Year')\n",
    "plt.ylabel('Average marginal system costs ($€/$MWh)')\n",
    "plt.title('Heat: Average marginal system costs')\n",
    "plt.savefig('counterfactual_weekly_systemcosts_H_plot.png')\n",
    "plt.show()"
   ]
  },
  {
   "cell_type": "code",
   "execution_count": null,
   "metadata": {},
   "outputs": [],
   "source": [
    "# Add hour mapping to df\n",
    "marginalSystemCosts_H_df_loop_month = adj.rc_pd(solution['marginalSystemCosts_H'],loop_id).unstack('loop').reset_index().merge(m.db['h2Month'].to_frame(index=False))\n",
    "\n",
    "# Deleta h column as it messes up plotting\n",
    "marginalSystemCosts_H_df_loop_month = marginalSystemCosts_H_df_loop_month.drop('h', axis=1)\n",
    "\n",
    "# Plot the subset Series\n",
    "marginalSystemCosts_H_df_loop_month.groupby('Month').mean().plot()\n",
    "months= ['Jan', 'Feb', 'Mar', 'Apr','May', 'Jun', 'Jul', 'Aug', 'Sep', 'Oct','Nov', 'Dec']\n",
    "plt.xticks(np.arange(start=1, stop=13, step=1), months)\n",
    "plt.xlabel('Month of the Year')\n",
    "plt.ylabel('Average marginal system costs ($€/$MWh)')\n",
    "plt.title('Heat: Average marginal system costs')\n",
    "#plt.savefig('counterfactual_monthly_systemcosts_H_plot.png')\n",
    "plt.show()"
   ]
  },
  {
   "cell_type": "markdown",
   "metadata": {},
   "source": [
    "#### Mean Consumer Prices"
   ]
  },
  {
   "cell_type": "code",
   "execution_count": null,
   "metadata": {},
   "outputs": [],
   "source": [
    "# Add hour mapping to df\n",
    "meanConsumerPrice_H_df_loop = adj.rc_pd(solution['meanConsumerPrice_H'],loop_id).unstack('loop').reset_index()\n",
    "meanConsumerPrice_E_df_loop = adj.rc_pd(solution['meanConsumerPrice_E'],loop_id).unstack('loop').reset_index()\n",
    "\n",
    "# Delete some columns\n",
    "meanConsumerPrice_H_df_loop = meanConsumerPrice_H_df_loop.drop(['g_H','c_H'], axis=1)\n",
    "meanConsumerPrice_E_df_loop = meanConsumerPrice_E_df_loop.drop(['g_E','c_E'], axis=1)\n",
    "\n",
    "# From wide to long\n",
    "meanConsumerPrice_H_df_loop_long = pd.melt(meanConsumerPrice_H_df_loop, var_name='loop', value_name='meanConsumerPrice_H')\n",
    "meanConsumerPrice_E_df_loop_long = pd.melt(meanConsumerPrice_E_df_loop, var_name='loop', value_name='meanConsumerPrice_E')\n",
    "\n",
    "# Create subplots\n",
    "fig, (ax1, ax2) = plt.subplots(1, 2, figsize=(12, 4))\n",
    "\n",
    "# Plot for Heat Market\n",
    "ax1.plot(meanConsumerPrice_H_df_loop_long['loop'], meanConsumerPrice_H_df_loop_long['meanConsumerPrice_H'], marker='o', linestyle='-')\n",
    "loops_xticks = np.arange(start=0, stop=5, step=1)\n",
    "ax1.set_xticks(loops_xticks)\n",
    "ax1.set_xlabel('Loop')\n",
    "ax1.set_ylabel('Price ($/MWh)')\n",
    "ax1.set_title('Mean Consumer Price per Year on the Heat Market')\n",
    "\n",
    "# Plot for Electricity Market\n",
    "ax2.plot(meanConsumerPrice_E_df_loop_long['loop'], meanConsumerPrice_E_df_loop_long['meanConsumerPrice_E'], marker='o', linestyle='-')\n",
    "loops_xticks = np.arange(start=0, stop=5, step=1)\n",
    "ax2.set_xticks(loops_xticks)\n",
    "ax2.set_xlabel('Loop')\n",
    "ax2.set_ylabel('Price ($/MWh)')\n",
    "ax2.set_title('Mean Consumer Price per Year on the Electricity Market')\n",
    "\n",
    "# Layout\n",
    "plt.tight_layout()\n",
    "\n",
    "# Save Figure\n",
    "plt.savefig('counterfactual_meanConsumerPrices_plot.png')\n",
    "\n",
    "# Show the plots\n",
    "plt.show()"
   ]
  },
  {
   "cell_type": "markdown",
   "metadata": {},
   "source": [
    "#### Storage Technology"
   ]
  },
  {
   "cell_type": "code",
   "execution_count": null,
   "metadata": {},
   "outputs": [],
   "source": [
    "# Make dataframe\n",
    "charge_H = adj.rc_pd(solution['charge_H'].droplevel('id'),loop_id).unstack('loop').rename_axis(None,axis=1)\n",
    "discharge_H = adj.rc_pd(-solution['discharge_H'].droplevel('id'),loop_id).unstack('loop').rename_axis(None,axis=1)\n",
    "\n",
    "df_Y =  pd.concat([charge_H,discharge_H],axis=0).groupby('h').agg('sum')\n",
    "\n",
    "# Make new dataframe with time mappings\n",
    "p_names = df_Y.columns.copy()\n",
    "df = df_Y.reset_index().merge(m.db['h2HourOfTheDay'].to_frame(index=False))\n",
    "\n",
    "# Make plot\n",
    "fig, ax = plt.subplots()\n",
    "df.groupby('HourOfTheDay')[p_names].mean().plot(xlabel='Hour of the Day',ylabel=r'$Y^c-Y^d$',ax=ax,legend=False)\n",
    "fig.legend(grid_SCap[loop_id].tolist(),loc='lower center', frameon=True, bbox_to_anchor=(0.7,0.2),title=r'Heat Storage Capacity (MWh):')\n",
    "hs2HourOfTheDay= np.arange(start=0, stop=23, step=3)\n",
    "ax.axhline(y=0, color='black', linewidth=1, linestyle='-')\n",
    "plt.xticks(hs2HourOfTheDay,hs2HourOfTheDay)\n",
    "plt.title('Heat: Average Net Charge of the Storage Facility')\n",
    "plt.savefig('counterfactual_hourly_net_charge_H_plot.png')\n",
    "fig.tight_layout()"
   ]
  },
  {
   "cell_type": "markdown",
   "metadata": {},
   "source": [
    "#### Marginal Economic Value of Stored Heat"
   ]
  },
  {
   "cell_type": "markdown",
   "metadata": {},
   "source": [
    "#### Marginal Economic Value of Generators"
   ]
  },
  {
   "cell_type": "code",
   "execution_count": null,
   "metadata": {},
   "outputs": [],
   "source": [
    "import seaborn as sns"
   ]
  },
  {
   "cell_type": "markdown",
   "metadata": {},
   "source": [
    "##### All Generators"
   ]
  },
  {
   "cell_type": "code",
   "execution_count": null,
   "metadata": {},
   "outputs": [],
   "source": [
    "marginalEconomicValue_df_loop = adj.rc_pd(solution['marginalEconomicValue'],loop_id).unstack('loop').reset_index().merge(m.db['id2hvt'].to_frame(index=False))\n",
    "\n",
    "# Plot the subset Series\n",
    "marginalEconomicValue_df_loop_mean = marginalEconomicValue_df_loop.groupby('hvt').mean().reset_index()\n",
    "\n",
    "# From wide to long\n",
    "marginalEconomicValue_df_loop_mean_long = pd.melt(marginalEconomicValue_df_loop_mean,\n",
    "                                                  id_vars=['hvt'],\n",
    "                                                  value_vars=[0,1,2,3,4],\n",
    "                                                  var_name='Loops',\n",
    "                                                  value_name='Marginal Economic Value')\n",
    "\n",
    "marginalEconomicValue_df_loop_mean_long['Marginal Economic Value positive'] = marginalEconomicValue_df_loop_mean_long['Marginal Economic Value']*(-1)\n",
    "\n",
    "# Plot\n",
    "sns.pointplot(x='Loops', y='Marginal Economic Value positive', hue='hvt', data=marginalEconomicValue_df_loop_mean_long, linestyles='-', dodge=False)\n",
    "plt.title('Marginal Economic Value per Generator')\n",
    "\n",
    "plt.legend(title='Generator Type', bbox_to_anchor=(1.05, 1), loc='upper left')\n",
    "plt.show()"
   ]
  },
  {
   "cell_type": "markdown",
   "metadata": {},
   "source": [
    "##### Per Generator"
   ]
  },
  {
   "cell_type": "code",
   "execution_count": null,
   "metadata": {},
   "outputs": [],
   "source": [
    "# Unique 'hvt' values\n",
    "hvt_values = marginalEconomicValue_df_loop_mean_long['hvt'].unique()\n",
    "\n",
    "# Create a 2x3 subplot grid\n",
    "fig, axes = plt.subplots(2, 3, figsize=(18, 12))\n",
    "\n",
    "# Reshape the axes into a flat list for easy iteration\n",
    "axes_flat = axes.flatten()\n",
    "\n",
    "# Loop over each 'hvt' value and plot in a subplot\n",
    "for i, hvt in enumerate(hvt_values):\n",
    "    ax = axes_flat[i]\n",
    "    df_subset = marginalEconomicValue_df_loop_mean_long[marginalEconomicValue_df_loop_mean_long['hvt'] == hvt]\n",
    "    sns.pointplot(x='Loops', y='Marginal Economic Value positive', hue='hvt', data=df_subset, linestyles='-', dodge=False, ax=ax)\n",
    "    ax.set_title(f'Marginal Economic Value - {hvt}')\n",
    "    ax.set_xlabel('Loops')\n",
    "    ax.set_ylabel('Marginal Economic Value')\n",
    "    ax.get_legend().remove()  # Remove legend from each subplot\n",
    "    ax.grid(True, which='both', linestyle='-', linewidth=1)  # Add vertical grid lines\n",
    "\n",
    "# Hide any remaining empty subplots\n",
    "for i in range(len(hvt_values), len(axes_flat)):\n",
    "    fig.delaxes(axes_flat[i])\n",
    "\n",
    "# Adjust layout\n",
    "plt.tight_layout()\n",
    "\n",
    "# Save the figure\n",
    "plt.savefig('counterfactual_marginalEconomicValue_plot.png')\n",
    "\n",
    "plt.show()"
   ]
  },
  {
   "cell_type": "code",
   "execution_count": null,
   "metadata": {},
   "outputs": [],
   "source": [
    "marginalEconomicValue_df_loop_mean_long_PV_DK = marginalEconomicValue_df_loop_mean_long[marginalEconomicValue_df_loop_mean_long['hvt'] == 'PV_DK']\n",
    "\n",
    "# Plot\n",
    "sns.pointplot(x='Loops', y='Marginal Economic Value', hue='hvt', data=marginalEconomicValue_df_loop_mean_long_PV_DK, linestyles='-', dodge=False)\n",
    "#plt.title('Marginal Economic Value for Pholtovotaics')\n",
    "plt.show()"
   ]
  },
  {
   "cell_type": "code",
   "execution_count": null,
   "metadata": {},
   "outputs": [],
   "source": [
    "marginalEconomicValue_df_loop_mean_long_PV_DK = marginalEconomicValue_df_loop_mean_long[marginalEconomicValue_df_loop_mean_long['hvt'] == 'ROR_DK']\n",
    "\n",
    "# Plot\n",
    "sns.pointplot(x='Loops', y='Marginal Economic Value', hue='hvt', data=marginalEconomicValue_df_loop_mean_long_PV_DK, linestyles='-', dodge=False)\n",
    "#plt.title('Marginal Economic Value for Pholtovotaics')\n",
    "plt.show()"
   ]
  },
  {
   "cell_type": "code",
   "execution_count": null,
   "metadata": {},
   "outputs": [],
   "source": [
    "marginalEconomicValue_df_loop_mean_long_PV_DK = marginalEconomicValue_df_loop_mean_long[marginalEconomicValue_df_loop_mean_long['hvt'] == 'SH_DK_Central']\n",
    "\n",
    "# Plot\n",
    "sns.pointplot(x='Loops', y='Marginal Economic Value', hue='hvt', data=marginalEconomicValue_df_loop_mean_long_PV_DK, linestyles='-', dodge=False)\n",
    "#plt.title('Marginal Economic Value for Pholtovotaics')\n",
    "plt.show()"
   ]
  },
  {
   "cell_type": "code",
   "execution_count": null,
   "metadata": {},
   "outputs": [],
   "source": [
    "marginalEconomicValue_df_loop_mean_long_PV_DK = marginalEconomicValue_df_loop_mean_long[marginalEconomicValue_df_loop_mean_long['hvt'] == 'Standard']\n",
    "\n",
    "# Plot\n",
    "sns.pointplot(x='Loops', y='Marginal Economic Value', hue='hvt', data=marginalEconomicValue_df_loop_mean_long_PV_DK, linestyles='-', dodge=False)\n",
    "#plt.title('Marginal Economic Value for Pholtovotaics')\n",
    "plt.show()"
   ]
  },
  {
   "cell_type": "code",
   "execution_count": null,
   "metadata": {},
   "outputs": [],
   "source": [
    "marginalEconomicValue_df_loop_mean_long_PV_DK = marginalEconomicValue_df_loop_mean_long[marginalEconomicValue_df_loop_mean_long['hvt'] == 'WL_DK']\n",
    "\n",
    "# Plot\n",
    "sns.pointplot(x='Loops', y='Marginal Economic Value', hue='hvt', data=marginalEconomicValue_df_loop_mean_long_PV_DK, linestyles='-', dodge=False)\n",
    "#plt.title('Marginal Economic Value for Pholtovotaics')\n",
    "plt.show()"
   ]
  },
  {
   "cell_type": "code",
   "execution_count": null,
   "metadata": {},
   "outputs": [],
   "source": [
    "marginalEconomicValue_df_loop_mean_long_PV_DK = marginalEconomicValue_df_loop_mean_long[marginalEconomicValue_df_loop_mean_long['hvt'] == 'WS_DK']\n",
    "\n",
    "# Plot\n",
    "sns.pointplot(x='Loops', y='Marginal Economic Value', hue='hvt', data=marginalEconomicValue_df_loop_mean_long_PV_DK, linestyles='-', dodge=False)\n",
    "#plt.title('Marginal Economic Value for Pholtovotaics')\n",
    "plt.show()"
   ]
  }
 ],
 "metadata": {
  "kernelspec": {
   "display_name": "EE2023",
   "language": "python",
   "name": "python3"
  },
  "language_info": {
   "codemirror_mode": {
    "name": "ipython",
    "version": 3
   },
   "file_extension": ".py",
   "mimetype": "text/x-python",
   "name": "python",
   "nbconvert_exporter": "python",
   "pygments_lexer": "ipython3",
   "version": "3.11.3"
  }
 },
 "nbformat": 4,
 "nbformat_minor": 2
}
