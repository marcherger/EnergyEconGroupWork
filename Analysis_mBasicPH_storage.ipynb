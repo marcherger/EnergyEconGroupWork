{
 "cells": [
  {
   "cell_type": "markdown",
   "metadata": {},
   "source": [
    "For working with the model, we first import some packages and the modelclass:"
   ]
  },
  {
   "cell_type": "code",
   "execution_count": 1,
   "metadata": {},
   "outputs": [],
   "source": [
    "#os.chdir('C:\\\\Users\\\\mpher\\\\Documents\\\\Uni\\\\Master\\\\02_Exchange\\\\01_Academics\\\\Energy Economics of the Green Transition\\\\0_Final Project\\EnergyEconGroupWork')"
   ]
  },
  {
   "cell_type": "code",
   "execution_count": 2,
   "metadata": {},
   "outputs": [
    {
     "name": "stdout",
     "output_type": "stream",
     "text": [
      "/Users/paul/EnergyEcon/EnergyEconGroupWork\n"
     ]
    }
   ],
   "source": [
    "import os\n",
    "current_directory = os.getcwd()\n",
    "print(current_directory)"
   ]
  },
  {
   "cell_type": "code",
   "execution_count": 3,
   "metadata": {},
   "outputs": [],
   "source": [
    "%run ./stdPackages.ipynb\n",
    "from pyDbs import *\n",
    "\n",
    "os.chdir(os.path.join(d['curr'], 'py'))\n",
    "\n",
    "from mBasicPH_storage import *\n",
    "os.chdir(d['curr'])"
   ]
  },
  {
   "cell_type": "markdown",
   "metadata": {},
   "source": [
    "Next we load the database:"
   ]
  },
  {
   "cell_type": "code",
   "execution_count": 4,
   "metadata": {},
   "outputs": [],
   "source": [
    "kwargs = {'variables': ['Fundamentals', 'LoadVariables', 'GeneratorsVariables','StorageVariables','TransmissionLines'],\n",
    "        'maps': ['LoadMaps','GeneratorsMaps','StorageMaps', 'MarketMaps'],\n",
    "        'variable2D': ['HourlyVariation']}\n",
    "\n",
    "path_to_data = os.path.join(d['curr'], 'Data', 'mBasicPH_storage_Data.xlsx')\n",
    "\n",
    "db = read.dbFromWB(path_to_data, kwargs)\n",
    "readSets(db)"
   ]
  },
  {
   "cell_type": "markdown",
   "metadata": {},
   "source": [
    "Convert variables to floats:"
   ]
  },
  {
   "cell_type": "code",
   "execution_count": 5,
   "metadata": {},
   "outputs": [],
   "source": [
    "[db.__setitem__(var,db[var].astype(float).sort_index()) for var in db.getTypes('variable').keys()];"
   ]
  },
  {
   "cell_type": "markdown",
   "metadata": {},
   "source": [
    "We need to read in heat areas manually:"
   ]
  },
  {
   "cell_type": "code",
   "execution_count": 6,
   "metadata": {},
   "outputs": [],
   "source": [
    "db['g_H'] = db['g_E2g_H'].get_level_values('g_H')"
   ]
  },
  {
   "cell_type": "markdown",
   "metadata": {},
   "source": [
    "Collect all areas in one:"
   ]
  },
  {
   "cell_type": "code",
   "execution_count": 7,
   "metadata": {},
   "outputs": [],
   "source": [
    "db['g'] = db['g_E'].copy()"
   ]
  },
  {
   "cell_type": "markdown",
   "metadata": {},
   "source": [
    "Finally, we will assume that linelosses and trade are zero such that the marginal willingness to pay and marginal generation costs of \"transmission lines\" does not have to be corrected. "
   ]
  },
  {
   "cell_type": "markdown",
   "metadata": {},
   "source": [
    "We then initialize and solve the model:"
   ]
  },
  {
   "cell_type": "code",
   "execution_count": 8,
   "metadata": {},
   "outputs": [
    {
     "name": "stderr",
     "output_type": "stream",
     "text": [
      "/Users/paul/anaconda3/envs/EE2023/lib/python3.11/site-packages/pyDbs/base.py:289: RuntimeWarning: The values in the array are unorderable. Pass `sort=False` to suppress this warning.\n",
      "  return x.sort_index().add(pd.Series(0, index = y).sort_index(),fill_value=fill_value) if (set(x_dom)-set(y_dom)) else pd.Series(0, index = y).sort_index().add(x.sort_index(),fill_value=fill_value)\n",
      "/Users/paul/anaconda3/envs/EE2023/lib/python3.11/site-packages/pyDbs/base.py:289: RuntimeWarning: The values in the array are unorderable. Pass `sort=False` to suppress this warning.\n",
      "  return x.sort_index().add(pd.Series(0, index = y).sort_index(),fill_value=fill_value) if (set(x_dom)-set(y_dom)) else pd.Series(0, index = y).sort_index().add(x.sort_index(),fill_value=fill_value)\n",
      "/Users/paul/anaconda3/envs/EE2023/lib/python3.11/site-packages/pyDbs/base.py:289: RuntimeWarning: The values in the array are unorderable. Pass `sort=False` to suppress this warning.\n",
      "  return x.sort_index().add(pd.Series(0, index = y).sort_index(),fill_value=fill_value) if (set(x_dom)-set(y_dom)) else pd.Series(0, index = y).sort_index().add(x.sort_index(),fill_value=fill_value)\n",
      "/Users/paul/anaconda3/envs/EE2023/lib/python3.11/site-packages/pyDbs/base.py:289: RuntimeWarning: The values in the array are unorderable. Pass `sort=False` to suppress this warning.\n",
      "  return x.sort_index().add(pd.Series(0, index = y).sort_index(),fill_value=fill_value) if (set(x_dom)-set(y_dom)) else pd.Series(0, index = y).sort_index().add(x.sort_index(),fill_value=fill_value)\n",
      "/Users/paul/anaconda3/envs/EE2023/lib/python3.11/site-packages/pyDbs/base.py:289: RuntimeWarning: The values in the array are unorderable. Pass `sort=False` to suppress this warning.\n",
      "  return x.sort_index().add(pd.Series(0, index = y).sort_index(),fill_value=fill_value) if (set(x_dom)-set(y_dom)) else pd.Series(0, index = y).sort_index().add(x.sort_index(),fill_value=fill_value)\n",
      "/Users/paul/anaconda3/envs/EE2023/lib/python3.11/site-packages/pyDbs/base.py:289: RuntimeWarning: The values in the array are unorderable. Pass `sort=False` to suppress this warning.\n",
      "  return x.sort_index().add(pd.Series(0, index = y).sort_index(),fill_value=fill_value) if (set(x_dom)-set(y_dom)) else pd.Series(0, index = y).sort_index().add(x.sort_index(),fill_value=fill_value)\n",
      "/Users/paul/anaconda3/envs/EE2023/lib/python3.11/site-packages/pandas/core/indexes/base.py:935: RuntimeWarning: invalid value encountered in cast\n",
      "  return np.asarray(self._data, dtype=dtype)\n"
     ]
    },
    {
     "name": "stdout",
     "output_type": "stream",
     "text": [
      "Solution status 0: Optimization terminated successfully. (HiGHS Status 7: Optimal)\n"
     ]
    }
   ],
   "source": [
    "m = mSimple(db)\n",
    "m()"
   ]
  },
  {
   "cell_type": "code",
   "execution_count": 14,
   "metadata": {},
   "outputs": [
    {
     "name": "stderr",
     "output_type": "stream",
     "text": [
      "/var/folders/yp/j0c37_w920sg_vxm7smcssjw0000gn/T/ipykernel_32128/2501508323.py:4: RuntimeWarning: The values in the array are unorderable. Pass `sort=False` to suppress this warning.\n",
      "  result_df = pd.DataFrame({column: m.db[column] for column in result_columns})\n",
      "/var/folders/yp/j0c37_w920sg_vxm7smcssjw0000gn/T/ipykernel_32128/2501508323.py:4: RuntimeWarning: The values in the array are unorderable. Pass `sort=False` to suppress this warning.\n",
      "  result_df = pd.DataFrame({column: m.db[column] for column in result_columns})\n",
      "/var/folders/yp/j0c37_w920sg_vxm7smcssjw0000gn/T/ipykernel_32128/2501508323.py:4: RuntimeWarning: The values in the array are unorderable. Pass `sort=False` to suppress this warning.\n",
      "  result_df = pd.DataFrame({column: m.db[column] for column in result_columns})\n"
     ]
    }
   ],
   "source": [
    "# Example: Assuming 'Welfare', 'FuelConsumption', 'Emissions', etc., are columns in your DataFrame\n",
    "result_columns = ['Welfare', 'FuelConsumption', 'Emissions', 'marginalSystemCosts_E', 'marginalSystemCosts_H', 'marginalEconomicValue', 'meanConsumerPrice_E', 'meanConsumerPrice_H']\n",
    "# Extract relevant columns from self.db and create a DataFrame\n",
    "result_df = pd.DataFrame({column: m.db[column] for column in result_columns})\n",
    "\n",
    "# Export the DataFrame to Excel\n",
    "result_df.to_excel(os.path.join(d['curr'], 'solutions.xlsx'), engine='openpyxl')"
   ]
  },
  {
   "cell_type": "code",
   "execution_count": 16,
   "metadata": {},
   "outputs": [
    {
     "name": "stderr",
     "output_type": "stream",
     "text": [
      "/var/folders/yp/j0c37_w920sg_vxm7smcssjw0000gn/T/ipykernel_32128/1980561573.py:5: RuntimeWarning: The values in the array are unorderable. Pass `sort=False` to suppress this warning.\n",
      "  result_df = pd.DataFrame({column: m.db[column] for column in result_columns})\n",
      "/var/folders/yp/j0c37_w920sg_vxm7smcssjw0000gn/T/ipykernel_32128/1980561573.py:5: RuntimeWarning: The values in the array are unorderable. Pass `sort=False` to suppress this warning.\n",
      "  result_df = pd.DataFrame({column: m.db[column] for column in result_columns})\n",
      "/var/folders/yp/j0c37_w920sg_vxm7smcssjw0000gn/T/ipykernel_32128/1980561573.py:5: RuntimeWarning: The values in the array are unorderable. Pass `sort=False` to suppress this warning.\n",
      "  result_df = pd.DataFrame({column: m.db[column] for column in result_columns})\n"
     ]
    }
   ],
   "source": [
    "# Example: Assuming 'Welfare', 'FuelConsumption', 'Emissions', etc., are columns in your DataFrame\n",
    "result_columns = ['Welfare', 'FuelConsumption', 'Emissions', 'marginalSystemCosts_E', 'marginalSystemCosts_H', 'marginalEconomicValue', 'meanConsumerPrice_E', 'meanConsumerPrice_H']\n",
    "\n",
    "# Extract relevant columns from self.db and create a DataFrame\n",
    "result_df = pd.DataFrame({column: m.db[column] for column in result_columns})\n",
    "\n",
    "# Export the DataFrame to Excel with each variable on a separate sheet\n",
    "excel_path = os.path.join(d['curr'], 'solutions.xlsx')\n",
    "\n",
    "with pd.ExcelWriter(excel_path, engine='openpyxl') as writer:\n",
    "    for column in result_columns:\n",
    "        result_df[[column]].to_excel(writer, sheet_name=column)\n"
   ]
  },
  {
   "cell_type": "code",
   "execution_count": 17,
   "metadata": {},
   "outputs": [
    {
     "data": {
      "text/plain": [
       "g    EmissionType\n",
       "DK1  CO2             1.428162e+07\n",
       "DK2  CO2             2.774823e+06\n",
       "dtype: float64"
      ]
     },
     "execution_count": 17,
     "metadata": {},
     "output_type": "execute_result"
    }
   ],
   "source": [
    "db['Emissions']"
   ]
  },
  {
   "cell_type": "code",
   "execution_count": 20,
   "metadata": {},
   "outputs": [
    {
     "data": {
      "text/plain": [
       "g_E  h   \n",
       "DK1  1         53.096936\n",
       "     2         53.096936\n",
       "     3         53.096936\n",
       "     4         53.096936\n",
       "     5         53.096936\n",
       "                ...     \n",
       "DK2  8756    1000.000000\n",
       "     8757    1000.000000\n",
       "     8758    1000.000000\n",
       "     8759    1000.000000\n",
       "     8760     158.259726\n",
       "Name: 0, Length: 17520, dtype: float64"
      ]
     },
     "execution_count": 20,
     "metadata": {},
     "output_type": "execute_result"
    }
   ],
   "source": [
    "df = pd.DataFrame(db['marginalSystemCosts_E'])\n",
    "df.to_excel(os.path.join(d['curr'], 'solutions_marginalSystemCosts_E.xlsx'), engine='openpyxl')\n",
    "\n",
    "db['marginalSystemCosts_E']"
   ]
  },
  {
   "cell_type": "code",
   "execution_count": 28,
   "metadata": {},
   "outputs": [
    {
     "name": "stderr",
     "output_type": "stream",
     "text": [
      "findfont: Font family 'Palatino Linotype' not found.\n",
      "findfont: Font family 'Palatino Linotype' not found.\n",
      "findfont: Font family 'Palatino Linotype' not found.\n",
      "findfont: Font family 'Palatino Linotype' not found.\n",
      "findfont: Font family 'Palatino Linotype' not found.\n",
      "findfont: Font family 'Palatino Linotype' not found.\n",
      "findfont: Font family 'Palatino Linotype' not found.\n",
      "findfont: Font family 'Palatino Linotype' not found.\n",
      "findfont: Font family 'Palatino Linotype' not found.\n",
      "findfont: Font family 'Palatino Linotype' not found.\n",
      "findfont: Font family 'Palatino Linotype' not found.\n",
      "findfont: Font family 'Palatino Linotype' not found.\n",
      "findfont: Font family 'Palatino Linotype' not found.\n",
      "findfont: Font family 'Palatino Linotype' not found.\n",
      "findfont: Font family 'Palatino Linotype' not found.\n",
      "findfont: Font family 'Palatino Linotype' not found.\n",
      "findfont: Font family 'Palatino Linotype' not found.\n",
      "findfont: Font family 'Palatino Linotype' not found.\n",
      "findfont: Font family 'Palatino Linotype' not found.\n",
      "findfont: Font family 'Palatino Linotype' not found.\n",
      "findfont: Font family 'Palatino Linotype' not found.\n",
      "findfont: Font family 'Palatino Linotype' not found.\n",
      "findfont: Font family 'Palatino Linotype' not found.\n",
      "findfont: Font family 'Palatino Linotype' not found.\n",
      "findfont: Font family 'Palatino Linotype' not found.\n",
      "findfont: Font family 'Palatino Linotype' not found.\n",
      "findfont: Font family 'Palatino Linotype' not found.\n",
      "findfont: Font family 'Palatino Linotype' not found.\n",
      "findfont: Font family 'Palatino Linotype' not found.\n",
      "findfont: Font family 'Palatino Linotype' not found.\n",
      "findfont: Font family 'Palatino Linotype' not found.\n",
      "findfont: Font family 'Palatino Linotype' not found.\n",
      "findfont: Font family 'Palatino Linotype' not found.\n",
      "findfont: Font family 'Palatino Linotype' not found.\n",
      "findfont: Font family 'Palatino Linotype' not found.\n",
      "findfont: Font family 'Palatino Linotype' not found.\n",
      "findfont: Font family 'Palatino Linotype' not found.\n",
      "findfont: Font family 'Palatino Linotype' not found.\n",
      "findfont: Font family 'Palatino Linotype' not found.\n",
      "findfont: Font family 'Palatino Linotype' not found.\n",
      "findfont: Font family 'Palatino Linotype' not found.\n",
      "findfont: Font family 'Palatino Linotype' not found.\n",
      "findfont: Font family 'Palatino Linotype' not found.\n",
      "findfont: Font family 'Palatino Linotype' not found.\n",
      "findfont: Font family 'Palatino Linotype' not found.\n",
      "findfont: Font family 'Palatino Linotype' not found.\n",
      "findfont: Font family 'Palatino Linotype' not found.\n",
      "findfont: Font family 'Palatino Linotype' not found.\n",
      "findfont: Font family 'Palatino Linotype' not found.\n",
      "findfont: Font family 'Palatino Linotype' not found.\n",
      "findfont: Font family 'Palatino Linotype' not found.\n",
      "findfont: Font family 'Palatino Linotype' not found.\n",
      "findfont: Font family 'Palatino Linotype' not found.\n",
      "findfont: Font family 'Palatino Linotype' not found.\n",
      "findfont: Font family 'Palatino Linotype' not found.\n",
      "findfont: Font family 'Palatino Linotype' not found.\n",
      "findfont: Font family 'Palatino Linotype' not found.\n",
      "findfont: Font family 'Palatino Linotype' not found.\n",
      "findfont: Font family 'Palatino Linotype' not found.\n",
      "findfont: Font family 'Palatino Linotype' not found.\n",
      "findfont: Font family 'Palatino Linotype' not found.\n",
      "findfont: Font family 'Palatino Linotype' not found.\n",
      "findfont: Font family 'Palatino Linotype' not found.\n",
      "findfont: Font family 'Palatino Linotype' not found.\n",
      "findfont: Font family 'Palatino Linotype' not found.\n",
      "findfont: Font family 'Palatino Linotype' not found.\n",
      "findfont: Font family 'Palatino Linotype' not found.\n",
      "findfont: Font family 'Palatino Linotype' not found.\n",
      "findfont: Font family 'Palatino Linotype' not found.\n",
      "findfont: Font family 'Palatino Linotype' not found.\n",
      "findfont: Font family 'Palatino Linotype' not found.\n",
      "findfont: Font family 'Palatino Linotype' not found.\n",
      "findfont: Font family 'Palatino Linotype' not found.\n",
      "findfont: Font family 'Palatino Linotype' not found.\n",
      "findfont: Font family 'Palatino Linotype' not found.\n",
      "findfont: Font family 'Palatino Linotype' not found.\n",
      "findfont: Font family 'Palatino Linotype' not found.\n",
      "findfont: Font family 'Palatino Linotype' not found.\n",
      "findfont: Font family 'Palatino Linotype' not found.\n",
      "findfont: Font family 'Palatino Linotype' not found.\n",
      "findfont: Font family 'Palatino Linotype' not found.\n",
      "findfont: Font family 'Palatino Linotype' not found.\n",
      "findfont: Font family 'Palatino Linotype' not found.\n",
      "findfont: Font family 'Palatino Linotype' not found.\n",
      "findfont: Font family 'Palatino Linotype' not found.\n",
      "findfont: Font family 'Palatino Linotype' not found.\n",
      "findfont: Font family 'Palatino Linotype' not found.\n",
      "findfont: Font family 'Palatino Linotype' not found.\n",
      "findfont: Font family 'Palatino Linotype' not found.\n",
      "findfont: Font family 'Palatino Linotype' not found.\n",
      "findfont: Font family 'Palatino Linotype' not found.\n",
      "findfont: Font family 'Palatino Linotype' not found.\n",
      "findfont: Font family 'Palatino Linotype' not found.\n",
      "findfont: Font family 'Palatino Linotype' not found.\n",
      "findfont: Font family 'Palatino Linotype' not found.\n",
      "findfont: Font family 'Palatino Linotype' not found.\n",
      "findfont: Font family 'Palatino Linotype' not found.\n",
      "findfont: Font family 'Palatino Linotype' not found.\n",
      "findfont: Font family 'Palatino Linotype' not found.\n",
      "findfont: Font family 'Palatino Linotype' not found.\n",
      "findfont: Font family 'Palatino Linotype' not found.\n",
      "findfont: Font family 'Palatino Linotype' not found.\n",
      "findfont: Font family 'Palatino Linotype' not found.\n",
      "findfont: Font family 'Palatino Linotype' not found.\n",
      "findfont: Font family 'Palatino Linotype' not found.\n",
      "findfont: Font family 'Palatino Linotype' not found.\n",
      "findfont: Font family 'Palatino Linotype' not found.\n",
      "findfont: Font family 'Palatino Linotype' not found.\n",
      "findfont: Font family 'Palatino Linotype' not found.\n",
      "findfont: Font family 'Palatino Linotype' not found.\n",
      "findfont: Font family 'Palatino Linotype' not found.\n",
      "findfont: Font family 'Palatino Linotype' not found.\n",
      "findfont: Font family 'Palatino Linotype' not found.\n",
      "findfont: Font family 'Palatino Linotype' not found.\n",
      "findfont: Font family 'Palatino Linotype' not found.\n",
      "findfont: Font family 'Palatino Linotype' not found.\n",
      "findfont: Font family 'Palatino Linotype' not found.\n",
      "findfont: Font family 'Palatino Linotype' not found.\n",
      "findfont: Font family 'Palatino Linotype' not found.\n",
      "findfont: Font family 'Palatino Linotype' not found.\n",
      "findfont: Font family 'Palatino Linotype' not found.\n",
      "findfont: Font family 'Palatino Linotype' not found.\n",
      "findfont: Font family 'Palatino Linotype' not found.\n",
      "findfont: Font family 'Palatino Linotype' not found.\n",
      "findfont: Font family 'Palatino Linotype' not found.\n",
      "findfont: Font family 'Palatino Linotype' not found.\n",
      "findfont: Font family 'Palatino Linotype' not found.\n",
      "findfont: Font family 'Palatino Linotype' not found.\n",
      "findfont: Font family 'Palatino Linotype' not found.\n",
      "findfont: Font family 'Palatino Linotype' not found.\n",
      "findfont: Font family 'Palatino Linotype' not found.\n",
      "findfont: Font family 'Palatino Linotype' not found.\n",
      "findfont: Font family 'Palatino Linotype' not found.\n",
      "findfont: Font family 'Palatino Linotype' not found.\n",
      "findfont: Font family 'Palatino Linotype' not found.\n",
      "findfont: Font family 'Palatino Linotype' not found.\n",
      "findfont: Font family 'Palatino Linotype' not found.\n",
      "findfont: Font family 'Palatino Linotype' not found.\n",
      "findfont: Font family 'Palatino Linotype' not found.\n",
      "findfont: Font family 'Palatino Linotype' not found.\n",
      "findfont: Font family 'Palatino Linotype' not found.\n",
      "findfont: Font family 'Palatino Linotype' not found.\n",
      "findfont: Font family 'Palatino Linotype' not found.\n",
      "findfont: Font family 'Palatino Linotype' not found.\n",
      "findfont: Font family 'Palatino Linotype' not found.\n",
      "findfont: Font family 'Palatino Linotype' not found.\n",
      "findfont: Font family 'Palatino Linotype' not found.\n",
      "findfont: Font family 'Palatino Linotype' not found.\n",
      "findfont: Font family 'Palatino Linotype' not found.\n",
      "findfont: Font family 'Palatino Linotype' not found.\n",
      "findfont: Font family 'Palatino Linotype' not found.\n",
      "findfont: Font family 'Palatino Linotype' not found.\n",
      "findfont: Font family 'Palatino Linotype' not found.\n",
      "findfont: Font family 'Palatino Linotype' not found.\n",
      "findfont: Font family 'Palatino Linotype' not found.\n",
      "findfont: Font family 'Palatino Linotype' not found.\n",
      "findfont: Font family 'Palatino Linotype' not found.\n",
      "findfont: Font family 'Palatino Linotype' not found.\n",
      "findfont: Font family 'Palatino Linotype' not found.\n",
      "findfont: Font family 'Palatino Linotype' not found.\n",
      "findfont: Font family 'Palatino Linotype' not found.\n",
      "findfont: Font family 'Palatino Linotype' not found.\n",
      "findfont: Font family 'Palatino Linotype' not found.\n",
      "findfont: Font family 'Palatino Linotype' not found.\n",
      "findfont: Font family 'Palatino Linotype' not found.\n",
      "findfont: Font family 'Palatino Linotype' not found.\n",
      "findfont: Font family 'Palatino Linotype' not found.\n",
      "findfont: Font family 'Palatino Linotype' not found.\n",
      "findfont: Font family 'Palatino Linotype' not found.\n",
      "findfont: Font family 'Palatino Linotype' not found.\n",
      "findfont: Font family 'Palatino Linotype' not found.\n",
      "findfont: Font family 'Palatino Linotype' not found.\n",
      "findfont: Font family 'Palatino Linotype' not found.\n",
      "findfont: Font family 'Palatino Linotype' not found.\n",
      "findfont: Font family 'Palatino Linotype' not found.\n",
      "findfont: Font family 'Palatino Linotype' not found.\n",
      "findfont: Font family 'Palatino Linotype' not found.\n",
      "findfont: Font family 'Palatino Linotype' not found.\n",
      "findfont: Font family 'Palatino Linotype' not found.\n",
      "findfont: Font family 'Palatino Linotype' not found.\n",
      "findfont: Font family 'Palatino Linotype' not found.\n",
      "findfont: Font family 'Palatino Linotype' not found.\n",
      "findfont: Font family 'Palatino Linotype' not found.\n",
      "findfont: Font family 'Palatino Linotype' not found.\n",
      "findfont: Font family 'Palatino Linotype' not found.\n",
      "findfont: Font family 'Palatino Linotype' not found.\n",
      "findfont: Font family 'Palatino Linotype' not found.\n",
      "findfont: Font family 'Palatino Linotype' not found.\n",
      "findfont: Font family 'Palatino Linotype' not found.\n",
      "findfont: Font family 'Palatino Linotype' not found.\n",
      "findfont: Font family 'Palatino Linotype' not found.\n",
      "findfont: Font family 'Palatino Linotype' not found.\n",
      "findfont: Font family 'Palatino Linotype' not found.\n",
      "findfont: Font family 'Palatino Linotype' not found.\n",
      "findfont: Font family 'Palatino Linotype' not found.\n",
      "findfont: Font family 'Palatino Linotype' not found.\n",
      "findfont: Font family 'Palatino Linotype' not found.\n",
      "findfont: Font family 'Palatino Linotype' not found.\n",
      "findfont: Font family 'Palatino Linotype' not found.\n",
      "findfont: Font family 'Palatino Linotype' not found.\n",
      "findfont: Font family 'Palatino Linotype' not found.\n",
      "findfont: Font family 'Palatino Linotype' not found.\n",
      "findfont: Font family 'Palatino Linotype' not found.\n",
      "findfont: Font family 'Palatino Linotype' not found.\n",
      "findfont: Font family 'Palatino Linotype' not found.\n",
      "findfont: Font family 'Palatino Linotype' not found.\n",
      "findfont: Font family 'Palatino Linotype' not found.\n",
      "findfont: Font family 'Palatino Linotype' not found.\n",
      "findfont: Font family 'Palatino Linotype' not found.\n",
      "findfont: Font family 'Palatino Linotype' not found.\n",
      "findfont: Font family 'Palatino Linotype' not found.\n",
      "findfont: Font family 'Palatino Linotype' not found.\n",
      "findfont: Font family 'Palatino Linotype' not found.\n",
      "findfont: Font family 'Palatino Linotype' not found.\n",
      "findfont: Font family 'Palatino Linotype' not found.\n",
      "findfont: Font family 'Palatino Linotype' not found.\n",
      "findfont: Font family 'Palatino Linotype' not found.\n",
      "findfont: Font family 'Palatino Linotype' not found.\n"
     ]
    },
    {
     "data": {
      "image/png": "[encoded data removed]",
      "text/plain": [
       "<Figure size 800x550 with 3 Axes>"
      ]
     },
     "metadata": {},
     "output_type": "display_data"
    }
   ],
   "source": [
    "base_db = m.db.copy()\n",
    "\n",
    "agg_BFt = {\n",
    "    'Fueloil':'Oil','Gasoil':'Oil', \n",
    "    'Straw':'Biomass','WoodPellets':'Biomass','WoodChips':'Biomass','WoodWaste':'Biomass',\n",
    "    'Biogas':'Other Bio','BioOil':'Other Bio',\n",
    "    'Coal':'Coal',\n",
    "    'NatGas':'Natural gas',\n",
    "    'Waste':'Waste'\n",
    "}\n",
    "\n",
    "#%%capture\n",
    "# Settings\n",
    "ϵ=np.finfo(float).eps*1e10\n",
    "lower_point=0\n",
    "upper_point=m.db['MWP_H']*1.1\n",
    "\n",
    "# Make dataframe\n",
    "df_fuelineff = m.db['FuelMix'].rename(agg_BFt,level='BFt').groupby(['id','BFt']).sum().unstack('BFt').rename_axis(None,axis=1)\n",
    "df = pd.concat(\n",
    "    [m.hourlyGeneratingCap_H.groupby('id').agg('mean').rename('q').astype(float),m.db['mc'].rename('p').astype(float)]+\n",
    "    [df_fuelineff]+\n",
    "    [plantEmissionIntensity(m.db).xs('CO2',level='EmissionType').rename('m').mul(1000)]\n",
    "    ,axis=1\n",
    ").fillna(0)\n",
    "\n",
    "# Sort and aggregate\n",
    "df = df.sort_values(['p'])\n",
    "df['q_cs'] = df['q'].transform('cumsum')\n",
    "\n",
    "# Add upper points for step plotting\n",
    "df_up = df.copy()\n",
    "df_up['q_cs'] = df_up['q_cs']+ϵ\n",
    "df_up['p'] = df_up['p'].shift(-1).fillna(upper_point)\n",
    "df_up[df_fuelineff.columns.values] = df_up[df_fuelineff.columns.values].shift(-1)\n",
    "df_up['m'] = df_up['m'].shift(-1)\n",
    "df = pd.concat([df,df_up],axis=0).sort_values(['p','q_cs'])\n",
    "df['q_diff'] = df['q_cs'].diff().div(2)\n",
    "df['q_mean'] = df['q_cs']-df['q_diff']\n",
    "\n",
    "# Now plot\n",
    "fig, ax = plt.subplots(ncols=1,nrows=3,sharex=True,sharey=False)\n",
    "\n",
    "# Merit order cuve:\n",
    "df.set_index(['q_cs'])['p'].plot(ax=ax[0],ylabel=r'$€/$MWh',title='Average merit order curve')\n",
    "for i in adj.rc_pd(m.db['id'],getTechs(['Standard'],m.db)):\n",
    "    df_tmp = df.loc[i].copy()\n",
    "    ax[0].text(x=df_tmp.iloc[0]['q_mean'],y=df_tmp.iloc[0]['p']-1,s=i,ha='center',va='top')\n",
    "\n",
    "# Marginal fuel inefficiency\n",
    "df.set_index(['q_cs'])[df_fuelineff.columns].plot(kind='area',linewidth=0,ax=ax[1],legend=False,stacked=True,ylabel='MWh input/MWh output',title='Average marginal inverse fuel efficiency')\n",
    "ax[1].set_ylim(top=2)\n",
    "fig.legend(handles=ax[1].get_legend_handles_labels()[0],loc='upper center', ncol=len(df_fuelineff.columns), frameon=True, bbox_to_anchor=(0.55,0.64))\n",
    "\n",
    "# Marginal emission coefficient\n",
    "df.set_index(['q_cs'])['m'].plot(kind='area',linewidth=0,ax=ax[2],legend=False,xlabel='MWh output',ylabel=r'kg CO$_2/$MWh',title=r'Average marginal CO$_2$ intensity')\n",
    "\n",
    "fig.tight_layout()"
   ]
  },
  {
   "cell_type": "markdown",
   "metadata": {},
   "source": [
    "What to plot?\n",
    "\n",
    "- CO2 Emissions\n",
    "- Usage of Storage\n",
    "- Marginal Economic value of storage\n",
    "- seasonal storage?"
   ]
  }
 ],
 "metadata": {
  "kernelspec": {
   "display_name": "EE2023",
   "language": "python",
   "name": "python3"
  },
  "language_info": {
   "codemirror_mode": {
    "name": "ipython",
    "version": 3
   },
   "file_extension": ".py",
   "mimetype": "text/x-python",
   "name": "python",
   "nbconvert_exporter": "python",
   "pygments_lexer": "ipython3",
   "version": "3.11.3"
  }
 },
 "nbformat": 4,
 "nbformat_minor": 2
}
