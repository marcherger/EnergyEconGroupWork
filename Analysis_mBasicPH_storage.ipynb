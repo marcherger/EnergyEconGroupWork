{
 "cells": [
  {
   "cell_type": "markdown",
   "metadata": {},
   "source": [
    "Import stdPackages manually:"
   ]
  },
  {
   "cell_type": "markdown",
   "metadata": {},
   "source": [
    "import warnings\n",
    "warnings.simplefilter(action='ignore', category=FutureWarning)\n",
    "import os, pandas as pd, numpy as np, pickle, math, pyDbs, scipy\n",
    "from scipy import optimize, sparse, stats\n",
    "from importlib.metadata import version\n",
    "from IPython.display import IFrame\n",
    "_repo = 'EnergyEconGroupWork'\n",
    "d = {'main': os.path.join(os.getcwd().split(_repo,1)[0],_repo),\n",
    "     'curr': os.getcwd()}\n",
    "d.update({'py': os.path.join(d['main'], 'py'),\n",
    "          'data': os.path.join(d['main'], 'Data')})\n",
    "os.chdir(d['py'])\n",
    "import base, lpCompiler, lpModels, mBasicPH_storage\n",
    "os.chdir(d['curr'])"
   ]
  },
  {
   "cell_type": "markdown",
   "metadata": {},
   "source": [
    "For working with the model, we first import some packages and the modelclass:"
   ]
  },
  {
   "cell_type": "code",
   "execution_count": 1,
   "metadata": {},
   "outputs": [
    {
     "name": "stdout",
     "output_type": "stream",
     "text": [
      "The autoreload extension is already loaded. To reload it, use:\n",
      "  %reload_ext autoreload\n"
     ]
    }
   ],
   "source": [
    "%run ../stdPackages.ipynb\n",
    "from pyDbs import *\n",
    "os.chdir(os.path.join(d['curr'],'EnergyEconGroupWork', 'py'))\n",
    "from mBasicPH_storage import *\n",
    "os.chdir(d['curr'])"
   ]
  },
  {
   "cell_type": "markdown",
   "metadata": {},
   "source": [
    "Next we load the database:"
   ]
  },
  {
   "cell_type": "code",
   "execution_count": 2,
   "metadata": {},
   "outputs": [],
   "source": [
    "kwargs = {'variables': ['Fundamentals', 'LoadVariables', 'GeneratorsVariables','StorageVariables','TransmissionLines'],\n",
    "        'maps': ['LoadMaps','GeneratorsMaps','StorageMaps', 'MarketMaps'],\n",
    "        'variable2D': ['HourlyVariation']}\n",
    "path_to_data = os.path.join(d['curr'],'EnergyEconGroupWork', 'Data', 'mBasicPH_storage_Data.xlsx')\n",
    "db = read.dbFromWB(path_to_data, kwargs)\n",
    "readSets(db)"
   ]
  },
  {
   "cell_type": "markdown",
   "metadata": {},
   "source": [
    "Convert variables to floats:"
   ]
  },
  {
   "cell_type": "code",
   "execution_count": 3,
   "metadata": {},
   "outputs": [],
   "source": [
    "[db.__setitem__(var,db[var].astype(float).sort_index()) for var in db.getTypes('variable').keys()];"
   ]
  },
  {
   "cell_type": "markdown",
   "metadata": {},
   "source": [
    "We need to read in heat areas manually:"
   ]
  },
  {
   "cell_type": "code",
   "execution_count": 4,
   "metadata": {},
   "outputs": [],
   "source": [
    "db['g_H'] = db['g_E2g_H'].get_level_values('g_H')"
   ]
  },
  {
   "cell_type": "markdown",
   "metadata": {},
   "source": [
    "Collect all areas in one:"
   ]
  },
  {
   "cell_type": "code",
   "execution_count": 5,
   "metadata": {},
   "outputs": [],
   "source": [
    "db['g'] = db['g_E'].copy()"
   ]
  },
  {
   "cell_type": "markdown",
   "metadata": {},
   "source": [
    "Finally, we will assume that linelosses and trade are zero such that the marginal willingness to pay and marginal generation costs of \"transmission lines\" does not have to be corrected. "
   ]
  },
  {
   "cell_type": "markdown",
   "metadata": {},
   "source": [
    "We then initialize and solve the model:"
   ]
  },
  {
   "cell_type": "code",
   "execution_count": 6,
   "metadata": {},
   "outputs": [
    {
     "name": "stderr",
     "output_type": "stream",
     "text": [
      "c:\\Users\\mpher\\anaconda3\\envs\\EE2023\\Lib\\site-packages\\pyDbs\\base.py:289: RuntimeWarning: The values in the array are unorderable. Pass `sort=False` to suppress this warning.\n",
      "  return x.sort_index().add(pd.Series(0, index = y).sort_index(),fill_value=fill_value) if (set(x_dom)-set(y_dom)) else pd.Series(0, index = y).sort_index().add(x.sort_index(),fill_value=fill_value)\n",
      "c:\\Users\\mpher\\anaconda3\\envs\\EE2023\\Lib\\site-packages\\pyDbs\\base.py:289: RuntimeWarning: The values in the array are unorderable. Pass `sort=False` to suppress this warning.\n",
      "  return x.sort_index().add(pd.Series(0, index = y).sort_index(),fill_value=fill_value) if (set(x_dom)-set(y_dom)) else pd.Series(0, index = y).sort_index().add(x.sort_index(),fill_value=fill_value)\n",
      "c:\\Users\\mpher\\anaconda3\\envs\\EE2023\\Lib\\site-packages\\pyDbs\\base.py:289: RuntimeWarning: The values in the array are unorderable. Pass `sort=False` to suppress this warning.\n",
      "  return x.sort_index().add(pd.Series(0, index = y).sort_index(),fill_value=fill_value) if (set(x_dom)-set(y_dom)) else pd.Series(0, index = y).sort_index().add(x.sort_index(),fill_value=fill_value)\n",
      "c:\\Users\\mpher\\anaconda3\\envs\\EE2023\\Lib\\site-packages\\pyDbs\\base.py:289: RuntimeWarning: The values in the array are unorderable. Pass `sort=False` to suppress this warning.\n",
      "  return x.sort_index().add(pd.Series(0, index = y).sort_index(),fill_value=fill_value) if (set(x_dom)-set(y_dom)) else pd.Series(0, index = y).sort_index().add(x.sort_index(),fill_value=fill_value)\n",
      "c:\\Users\\mpher\\anaconda3\\envs\\EE2023\\Lib\\site-packages\\pyDbs\\base.py:289: RuntimeWarning: The values in the array are unorderable. Pass `sort=False` to suppress this warning.\n",
      "  return x.sort_index().add(pd.Series(0, index = y).sort_index(),fill_value=fill_value) if (set(x_dom)-set(y_dom)) else pd.Series(0, index = y).sort_index().add(x.sort_index(),fill_value=fill_value)\n",
      "c:\\Users\\mpher\\anaconda3\\envs\\EE2023\\Lib\\site-packages\\pyDbs\\base.py:289: RuntimeWarning: The values in the array are unorderable. Pass `sort=False` to suppress this warning.\n",
      "  return x.sort_index().add(pd.Series(0, index = y).sort_index(),fill_value=fill_value) if (set(x_dom)-set(y_dom)) else pd.Series(0, index = y).sort_index().add(x.sort_index(),fill_value=fill_value)\n",
      "c:\\Users\\mpher\\anaconda3\\envs\\EE2023\\Lib\\site-packages\\pandas\\core\\indexes\\base.py:935: RuntimeWarning: invalid value encountered in cast\n",
      "  return np.asarray(self._data, dtype=dtype)\n"
     ]
    },
    {
     "ename": "ValueError",
     "evalue": "negative row index found",
     "output_type": "error",
     "traceback": [
      "\u001b[1;31m---------------------------------------------------------------------------\u001b[0m",
      "\u001b[1;31mValueError\u001b[0m                                Traceback (most recent call last)",
      "\u001b[1;32mc:\\Users\\mpher\\Documents\\Uni\\Master\\02_Exchange\\01_Academics\\Energy Economics of the Green Transition\\0_Final Project\\EnergyEconGroupWork\\Analysis_mBasicPH_storage.ipynb Cell 15\u001b[0m line \u001b[0;36m2\n\u001b[0;32m      <a href='vscode-notebook-cell:/c%3A/Users/mpher/Documents/Uni/Master/02_Exchange/01_Academics/Energy%20Economics%20of%20the%20Green%20Transition/0_Final%20Project/EnergyEconGroupWork/Analysis_mBasicPH_storage.ipynb#X11sZmlsZQ%3D%3D?line=0'>1</a>\u001b[0m m \u001b[39m=\u001b[39m mSimple(db)\n\u001b[1;32m----> <a href='vscode-notebook-cell:/c%3A/Users/mpher/Documents/Uni/Master/02_Exchange/01_Academics/Energy%20Economics%20of%20the%20Green%20Transition/0_Final%20Project/EnergyEconGroupWork/Analysis_mBasicPH_storage.ipynb#X11sZmlsZQ%3D%3D?line=1'>2</a>\u001b[0m m()\n",
      "File \u001b[1;32mc:\\Users\\mpher\\Documents\\Uni\\Master\\02_Exchange\\01_Academics\\Energy Economics of the Green Transition\\0_Final Project\\EnergyEconGroupWork\\py\\lpModels.py:27\u001b[0m, in \u001b[0;36mmodelShell.__call__\u001b[1;34m(self, execute)\u001b[0m\n\u001b[0;32m     26\u001b[0m \u001b[39mdef\u001b[39;00m \u001b[39m__call__\u001b[39m(\u001b[39mself\u001b[39m, execute \u001b[39m=\u001b[39m \u001b[39mNone\u001b[39;00m):\n\u001b[1;32m---> 27\u001b[0m \t[\u001b[39mgetattr\u001b[39m(\u001b[39mself\u001b[39m, k)(\u001b[39m*\u001b[39m\u001b[39m*\u001b[39mv) \u001b[39mfor\u001b[39;00m k,v \u001b[39min\u001b[39;00m noneInit(execute, \u001b[39mdict\u001b[39m\u001b[39m.\u001b[39mfromkeys([\u001b[39m'\u001b[39m\u001b[39mpreSolve\u001b[39m\u001b[39m'\u001b[39m,\u001b[39m'\u001b[39m\u001b[39minitBlocks\u001b[39m\u001b[39m'\u001b[39m,\u001b[39m'\u001b[39m\u001b[39msolve\u001b[39m\u001b[39m'\u001b[39m], {}))\u001b[39m.\u001b[39mitems() \u001b[39mif\u001b[39;00m \u001b[39mhasattr\u001b[39m(\u001b[39mself\u001b[39m,k)]\n",
      "File \u001b[1;32mc:\\Users\\mpher\\Documents\\Uni\\Master\\02_Exchange\\01_Academics\\Energy Economics of the Green Transition\\0_Final Project\\EnergyEconGroupWork\\py\\lpModels.py:27\u001b[0m, in \u001b[0;36m<listcomp>\u001b[1;34m(.0)\u001b[0m\n\u001b[0;32m     26\u001b[0m \u001b[39mdef\u001b[39;00m \u001b[39m__call__\u001b[39m(\u001b[39mself\u001b[39m, execute \u001b[39m=\u001b[39m \u001b[39mNone\u001b[39;00m):\n\u001b[1;32m---> 27\u001b[0m \t[\u001b[39mgetattr\u001b[39m(\u001b[39mself\u001b[39m, k)(\u001b[39m*\u001b[39m\u001b[39m*\u001b[39mv) \u001b[39mfor\u001b[39;00m k,v \u001b[39min\u001b[39;00m noneInit(execute, \u001b[39mdict\u001b[39m\u001b[39m.\u001b[39mfromkeys([\u001b[39m'\u001b[39m\u001b[39mpreSolve\u001b[39m\u001b[39m'\u001b[39m,\u001b[39m'\u001b[39m\u001b[39minitBlocks\u001b[39m\u001b[39m'\u001b[39m,\u001b[39m'\u001b[39m\u001b[39msolve\u001b[39m\u001b[39m'\u001b[39m], {}))\u001b[39m.\u001b[39mitems() \u001b[39mif\u001b[39;00m \u001b[39mhasattr\u001b[39m(\u001b[39mself\u001b[39m,k)]\n",
      "File \u001b[1;32mc:\\Users\\mpher\\Documents\\Uni\\Master\\02_Exchange\\01_Academics\\Energy Economics of the Green Transition\\0_Final Project\\EnergyEconGroupWork\\py\\lpModels.py:30\u001b[0m, in \u001b[0;36mmodelShell.solve\u001b[1;34m(self, printSol, solKwargs, solOptions, postKwargs, **kwargs)\u001b[0m\n\u001b[0;32m     29\u001b[0m \u001b[39mdef\u001b[39;00m \u001b[39msolve\u001b[39m(\u001b[39mself\u001b[39m, printSol \u001b[39m=\u001b[39m \u001b[39mTrue\u001b[39;00m, solKwargs \u001b[39m=\u001b[39m \u001b[39mNone\u001b[39;00m, solOptions\u001b[39m=\u001b[39m\u001b[39mNone\u001b[39;00m, postKwargs \u001b[39m=\u001b[39m \u001b[39mNone\u001b[39;00m, \u001b[39m*\u001b[39m\u001b[39m*\u001b[39mkwargs):\n\u001b[1;32m---> 30\u001b[0m \tsol \u001b[39m=\u001b[39m optimize\u001b[39m.\u001b[39mlinprog(method \u001b[39m=\u001b[39m \u001b[39mself\u001b[39m\u001b[39m.\u001b[39mmethod, \u001b[39m*\u001b[39m\u001b[39m*\u001b[39m\u001b[39mself\u001b[39m\u001b[39m.\u001b[39mblocks(execute \u001b[39m=\u001b[39m solKwargs), \u001b[39m*\u001b[39m\u001b[39m*\u001b[39mnoneInit(solOptions, {}))\n\u001b[0;32m     31\u001b[0m \t\u001b[39mif\u001b[39;00m printSol:\n\u001b[0;32m     32\u001b[0m \t\t\u001b[39mprint\u001b[39m(\u001b[39mf\u001b[39m\u001b[39m\"\u001b[39m\u001b[39mSolution status \u001b[39m\u001b[39m{\u001b[39;00msol[\u001b[39m'\u001b[39m\u001b[39mstatus\u001b[39m\u001b[39m'\u001b[39m]\u001b[39m}\u001b[39;00m\u001b[39m: \u001b[39m\u001b[39m{\u001b[39;00msol[\u001b[39m'\u001b[39m\u001b[39mmessage\u001b[39m\u001b[39m'\u001b[39m]\u001b[39m}\u001b[39;00m\u001b[39m\"\u001b[39m)\n",
      "File \u001b[1;32mc:\\Users\\mpher\\Documents\\Uni\\Master\\02_Exchange\\01_Academics\\Energy Economics of the Green Transition\\0_Final Project\\EnergyEconGroupWork\\py\\lpCompiler.py:146\u001b[0m, in \u001b[0;36mlpBlock.__call__\u001b[1;34m(self, execute)\u001b[0m\n\u001b[0;32m    144\u001b[0m \u001b[39mdef\u001b[39;00m \u001b[39m__call__\u001b[39m(\u001b[39mself\u001b[39m, execute\u001b[39m=\u001b[39m\u001b[39mNone\u001b[39;00m):\n\u001b[0;32m    145\u001b[0m \t[\u001b[39mgetattr\u001b[39m(\u001b[39mself\u001b[39m, k)() \u001b[39mfor\u001b[39;00m k \u001b[39min\u001b[39;00m noneInit(execute, [\u001b[39m'\u001b[39m\u001b[39mcompileParameters\u001b[39m\u001b[39m'\u001b[39m,\u001b[39m'\u001b[39m\u001b[39msettingsFromCompiled\u001b[39m\u001b[39m'\u001b[39m,\u001b[39m'\u001b[39m\u001b[39minferGlobalDomains\u001b[39m\u001b[39m'\u001b[39m,\u001b[39m'\u001b[39m\u001b[39mgetDenseArgs\u001b[39m\u001b[39m'\u001b[39m])];\n\u001b[1;32m--> 146\u001b[0m \t\u001b[39mreturn\u001b[39;00m \u001b[39mself\u001b[39m\u001b[39m.\u001b[39mlp_args\n",
      "File \u001b[1;32mc:\\Users\\mpher\\Documents\\Uni\\Master\\02_Exchange\\01_Academics\\Energy Economics of the Green Transition\\0_Final Project\\EnergyEconGroupWork\\py\\lpCompiler.py:150\u001b[0m, in \u001b[0;36mlpBlock.lp_args\u001b[1;34m(self)\u001b[0m\n\u001b[0;32m    148\u001b[0m \u001b[39m@property\u001b[39m\n\u001b[0;32m    149\u001b[0m \u001b[39mdef\u001b[39;00m \u001b[39mlp_args\u001b[39m(\u001b[39mself\u001b[39m):\n\u001b[1;32m--> 150\u001b[0m \t\u001b[39mreturn\u001b[39;00m {k: \u001b[39mgetattr\u001b[39m(\u001b[39mself\u001b[39m, \u001b[39m'\u001b[39m\u001b[39mlp_\u001b[39m\u001b[39m'\u001b[39m\u001b[39m+\u001b[39mk) \u001b[39mfor\u001b[39;00m k \u001b[39min\u001b[39;00m _stdLinProg}\n",
      "File \u001b[1;32mc:\\Users\\mpher\\Documents\\Uni\\Master\\02_Exchange\\01_Academics\\Energy Economics of the Green Transition\\0_Final Project\\EnergyEconGroupWork\\py\\lpCompiler.py:150\u001b[0m, in \u001b[0;36m<dictcomp>\u001b[1;34m(.0)\u001b[0m\n\u001b[0;32m    148\u001b[0m \u001b[39m@property\u001b[39m\n\u001b[0;32m    149\u001b[0m \u001b[39mdef\u001b[39;00m \u001b[39mlp_args\u001b[39m(\u001b[39mself\u001b[39m):\n\u001b[1;32m--> 150\u001b[0m \t\u001b[39mreturn\u001b[39;00m {k: \u001b[39mgetattr\u001b[39m(\u001b[39mself\u001b[39m, \u001b[39m'\u001b[39m\u001b[39mlp_\u001b[39m\u001b[39m'\u001b[39m\u001b[39m+\u001b[39mk) \u001b[39mfor\u001b[39;00m k \u001b[39min\u001b[39;00m _stdLinProg}\n",
      "File \u001b[1;32mc:\\Users\\mpher\\Documents\\Uni\\Master\\02_Exchange\\01_Academics\\Energy Economics of the Green Transition\\0_Final Project\\EnergyEconGroupWork\\py\\lpCompiler.py:168\u001b[0m, in \u001b[0;36mlpBlock.lp_A_ub\u001b[1;34m(self)\u001b[0m\n\u001b[0;32m    166\u001b[0m \u001b[39m@property\u001b[39m\n\u001b[0;32m    167\u001b[0m \u001b[39mdef\u001b[39;00m \u001b[39mlp_A_ub\u001b[39m(\u001b[39mself\u001b[39m):\n\u001b[1;32m--> 168\u001b[0m \t\u001b[39mreturn\u001b[39;00m sparse\u001b[39m.\u001b[39mcoo_matrix((\u001b[39mself\u001b[39m\u001b[39m.\u001b[39mdenseArgs[\u001b[39m'\u001b[39m\u001b[39mA_ub\u001b[39m\u001b[39m'\u001b[39m]\u001b[39m.\u001b[39mvalues, (\u001b[39mself\u001b[39m\u001b[39m.\u001b[39mrowIndexFromA(\u001b[39mself\u001b[39m\u001b[39m.\u001b[39mdenseArgs[\u001b[39m'\u001b[39m\u001b[39mA_ub\u001b[39m\u001b[39m'\u001b[39m],\u001b[39m'\u001b[39m\u001b[39mub\u001b[39m\u001b[39m'\u001b[39m), \u001b[39mself\u001b[39m\u001b[39m.\u001b[39mcolumnIndexFromA(\u001b[39mself\u001b[39m\u001b[39m.\u001b[39mdenseArgs[\u001b[39m'\u001b[39m\u001b[39mA_ub\u001b[39m\u001b[39m'\u001b[39m],\u001b[39m'\u001b[39m\u001b[39mub\u001b[39m\u001b[39m'\u001b[39m))), shape \u001b[39m=\u001b[39m (\u001b[39mlen\u001b[39m(\u001b[39mself\u001b[39m\u001b[39m.\u001b[39mglobalConstraintIndex[\u001b[39m'\u001b[39m\u001b[39mub\u001b[39m\u001b[39m'\u001b[39m]), \u001b[39mlen\u001b[39m(\u001b[39mself\u001b[39m\u001b[39m.\u001b[39mglobalVariableIndex))) \u001b[39mif\u001b[39;00m \u001b[39mself\u001b[39m\u001b[39m.\u001b[39mallconstr[\u001b[39m'\u001b[39m\u001b[39mub\u001b[39m\u001b[39m'\u001b[39m] \u001b[39melse\u001b[39;00m \u001b[39mNone\u001b[39;00m\n",
      "File \u001b[1;32mc:\\Users\\mpher\\anaconda3\\envs\\EE2023\\Lib\\site-packages\\scipy\\sparse\\_coo.py:197\u001b[0m, in \u001b[0;36mcoo_matrix.__init__\u001b[1;34m(self, arg1, shape, dtype, copy)\u001b[0m\n\u001b[0;32m    194\u001b[0m \u001b[39mif\u001b[39;00m dtype \u001b[39mis\u001b[39;00m \u001b[39mnot\u001b[39;00m \u001b[39mNone\u001b[39;00m:\n\u001b[0;32m    195\u001b[0m     \u001b[39mself\u001b[39m\u001b[39m.\u001b[39mdata \u001b[39m=\u001b[39m \u001b[39mself\u001b[39m\u001b[39m.\u001b[39mdata\u001b[39m.\u001b[39mastype(dtype, copy\u001b[39m=\u001b[39m\u001b[39mFalse\u001b[39;00m)\n\u001b[1;32m--> 197\u001b[0m \u001b[39mself\u001b[39m\u001b[39m.\u001b[39m_check()\n",
      "File \u001b[1;32mc:\\Users\\mpher\\anaconda3\\envs\\EE2023\\Lib\\site-packages\\scipy\\sparse\\_coo.py:288\u001b[0m, in \u001b[0;36mcoo_matrix._check\u001b[1;34m(self)\u001b[0m\n\u001b[0;32m    286\u001b[0m     \u001b[39mraise\u001b[39;00m \u001b[39mValueError\u001b[39;00m(\u001b[39m'\u001b[39m\u001b[39mcolumn index exceeds matrix dimensions\u001b[39m\u001b[39m'\u001b[39m)\n\u001b[0;32m    287\u001b[0m \u001b[39mif\u001b[39;00m \u001b[39mself\u001b[39m\u001b[39m.\u001b[39mrow\u001b[39m.\u001b[39mmin() \u001b[39m<\u001b[39m \u001b[39m0\u001b[39m:\n\u001b[1;32m--> 288\u001b[0m     \u001b[39mraise\u001b[39;00m \u001b[39mValueError\u001b[39;00m(\u001b[39m'\u001b[39m\u001b[39mnegative row index found\u001b[39m\u001b[39m'\u001b[39m)\n\u001b[0;32m    289\u001b[0m \u001b[39mif\u001b[39;00m \u001b[39mself\u001b[39m\u001b[39m.\u001b[39mcol\u001b[39m.\u001b[39mmin() \u001b[39m<\u001b[39m \u001b[39m0\u001b[39m:\n\u001b[0;32m    290\u001b[0m     \u001b[39mraise\u001b[39;00m \u001b[39mValueError\u001b[39;00m(\u001b[39m'\u001b[39m\u001b[39mnegative column index found\u001b[39m\u001b[39m'\u001b[39m)\n",
      "\u001b[1;31mValueError\u001b[0m: negative row index found"
     ]
    }
   ],
   "source": [
    "m = mSimple(db)\n",
    "m()"
   ]
  },
  {
   "cell_type": "code",
   "execution_count": null,
   "metadata": {},
   "outputs": [],
   "source": [
    "db['g_H']"
   ]
  },
  {
   "cell_type": "code",
   "execution_count": null,
   "metadata": {},
   "outputs": [],
   "source": []
  },
  {
   "cell_type": "code",
   "execution_count": null,
   "metadata": {},
   "outputs": [],
   "source": []
  }
 ],
 "metadata": {
  "kernelspec": {
   "display_name": "EE2023",
   "language": "python",
   "name": "python3"
  },
  "language_info": {
   "codemirror_mode": {
    "name": "ipython",
    "version": 3
   },
   "file_extension": ".py",
   "mimetype": "text/x-python",
   "name": "python",
   "nbconvert_exporter": "python",
   "pygments_lexer": "ipython3",
   "version": "3.11.3"
  }
 },
 "nbformat": 4,
 "nbformat_minor": 2
}
