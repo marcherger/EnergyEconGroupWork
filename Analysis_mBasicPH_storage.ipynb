{
 "cells": [
  {
   "cell_type": "markdown",
   "metadata": {},
   "source": [
    "For working with the model, we first import some packages and the modelclass:"
   ]
  },
  {
   "cell_type": "code",
   "execution_count": 1,
   "metadata": {},
   "outputs": [],
   "source": [
    "#os.chdir('C:\\\\Users\\\\mpher\\\\Documents\\\\Uni\\\\Master\\\\02_Exchange\\\\01_Academics\\\\Energy Economics of the Green Transition\\\\0_Final Project\\EnergyEconGroupWork')"
   ]
  },
  {
   "cell_type": "code",
   "execution_count": 2,
   "metadata": {},
   "outputs": [
    {
     "name": "stdout",
     "output_type": "stream",
     "text": [
      "/Users/paul/EnergyEcon/EnergyEconGroupWork\n"
     ]
    }
   ],
   "source": [
    "import os\n",
    "current_directory = os.getcwd()\n",
    "print(current_directory)"
   ]
  },
  {
   "cell_type": "code",
   "execution_count": 3,
   "metadata": {},
   "outputs": [],
   "source": [
    "%run ./stdPackages.ipynb\n",
    "from pyDbs import *\n",
    "\n",
    "os.chdir(os.path.join(d['curr'], 'py'))\n",
    "\n",
    "from mBasicPH_storage import *\n",
    "os.chdir(d['curr'])"
   ]
  },
  {
   "cell_type": "markdown",
   "metadata": {},
   "source": [
    "Next we load the database:"
   ]
  },
  {
   "cell_type": "code",
   "execution_count": 4,
   "metadata": {},
   "outputs": [],
   "source": [
    "kwargs = {'variables': ['Fundamentals', 'LoadVariables', 'GeneratorsVariables','StorageVariables'],\n",
    "        'maps': ['LoadMaps','GeneratorsMaps','StorageMaps'],\n",
    "        'variable2D': ['HourlyVariation'],\n",
    "        'scalars': ['Scalars']}\n",
    "\n",
    "path_to_data = os.path.join(d['curr'], 'Data', 'mBasicPH_storage_Data.xlsx')\n",
    "\n",
    "db = read.dbFromWB(path_to_data, kwargs)\n",
    "readSets(db)"
   ]
  },
  {
   "cell_type": "markdown",
   "metadata": {},
   "source": [
    "Convert variables to floats:"
   ]
  },
  {
   "cell_type": "code",
   "execution_count": 5,
   "metadata": {},
   "outputs": [],
   "source": [
    "[db.__setitem__(var,db[var].astype(float).sort_index()) for var in db.getTypes('variable').keys()];"
   ]
  },
  {
   "cell_type": "markdown",
   "metadata": {},
   "source": [
    "We need to read in heat areas manually:"
   ]
  },
  {
   "cell_type": "code",
   "execution_count": 6,
   "metadata": {},
   "outputs": [],
   "source": [
    "db['g_H'] = db['id2g_H'].get_level_values('g_H').unique()"
   ]
  },
  {
   "cell_type": "code",
   "execution_count": 7,
   "metadata": {},
   "outputs": [
    {
     "data": {
      "text/plain": [
       "Index(['DK_Central', 'DK_Decentral'], dtype='object', name='g_H')"
      ]
     },
     "execution_count": 7,
     "metadata": {},
     "output_type": "execute_result"
    }
   ],
   "source": [
    "db['g_H']"
   ]
  },
  {
   "cell_type": "markdown",
   "metadata": {},
   "source": [
    "We need to read in electricity areas manually:"
   ]
  },
  {
   "cell_type": "code",
   "execution_count": 8,
   "metadata": {},
   "outputs": [],
   "source": [
    "db['g_E'] = db['id2g_E'].get_level_values('g_E').unique()"
   ]
  },
  {
   "cell_type": "code",
   "execution_count": 9,
   "metadata": {},
   "outputs": [
    {
     "data": {
      "text/plain": [
       "Index(['DK'], dtype='object', name='g_E')"
      ]
     },
     "execution_count": 9,
     "metadata": {},
     "output_type": "execute_result"
    }
   ],
   "source": [
    "db['g_E']"
   ]
  },
  {
   "cell_type": "markdown",
   "metadata": {},
   "source": [
    "Collect all areas in one:"
   ]
  },
  {
   "cell_type": "code",
   "execution_count": 10,
   "metadata": {},
   "outputs": [],
   "source": [
    "db['g'] = db['g_E'].copy()"
   ]
  },
  {
   "cell_type": "code",
   "execution_count": 11,
   "metadata": {},
   "outputs": [
    {
     "data": {
      "text/plain": [
       "Index(['DK'], dtype='object', name='g_E')"
      ]
     },
     "execution_count": 11,
     "metadata": {},
     "output_type": "execute_result"
    }
   ],
   "source": [
    "db['g']"
   ]
  },
  {
   "cell_type": "code",
   "execution_count": 13,
   "metadata": {},
   "outputs": [
    {
     "ename": "NameError",
     "evalue": "name 'm' is not defined",
     "output_type": "error",
     "traceback": [
      "\u001b[0;31m---------------------------------------------------------------------------\u001b[0m",
      "\u001b[0;31mNameError\u001b[0m                                 Traceback (most recent call last)",
      "Cell \u001b[0;32mIn[13], line 1\u001b[0m\n\u001b[0;32m----> 1\u001b[0m m\u001b[38;5;241m.\u001b[39mpreSolve()\n",
      "\u001b[0;31mNameError\u001b[0m: name 'm' is not defined"
     ]
    }
   ],
   "source": []
  },
  {
   "cell_type": "code",
   "execution_count": 15,
   "metadata": {},
   "outputs": [
    {
     "data": {
      "text/plain": [
       "Int64Index([   1,    2,    3,    4,    5,    6,    7,    8,    9,   10,\n",
       "            ...\n",
       "            8751, 8752, 8753, 8754, 8755, 8756, 8757, 8758, 8759, 8760],\n",
       "           dtype='int64', name='h', length=8760)"
      ]
     },
     "execution_count": 15,
     "metadata": {},
     "output_type": "execute_result"
    }
   ],
   "source": [
    "\n",
    "db['h']"
   ]
  },
  {
   "cell_type": "code",
   "execution_count": 16,
   "metadata": {},
   "outputs": [
    {
     "data": {
      "text/plain": [
       "Index(['id_DK_Central_BH_Biogas', 'id_DK_Central_BH_Biomass',\n",
       "       'id_DK_Central_BH_Natgas', 'id_DK_Central_BH_Oil',\n",
       "       'id_DK_Central_BH_Waste', 'id_DK_Central_BP_Biogas',\n",
       "       'id_DK_Central_BP_Biomass', 'id_DK_Central_BP_Coal',\n",
       "       'id_DK_Central_BP_Natgas', 'id_DK_Central_BP_Oil',\n",
       "       'id_DK_Central_BP_Waste', 'id_DK_Central_EP',\n",
       "       'id_DK_Central_HPstandard', 'id_DK_Central_HPsurplusheat',\n",
       "       'id_DK_Central_HS', 'id_DK_Central_IH', 'id_DK_Central_IndustryH',\n",
       "       'id_DK_Central_IndustryH_Biogas', 'id_DK_Central_IndustryH_Natgas',\n",
       "       'id_DK_Central_IndustryH_Oil', 'id_DK_Central_SH',\n",
       "       'id_DK_Decentral_BH_Biogas', 'id_DK_Decentral_BH_Biomass',\n",
       "       'id_DK_Decentral_BH_Natgas', 'id_DK_Decentral_BH_Oil',\n",
       "       'id_DK_Decentral_BH_Waste', 'id_DK_Decentral_BP_Biogas',\n",
       "       'id_DK_Decentral_BP_Biomass', 'id_DK_Decentral_BP_Natgas',\n",
       "       'id_DK_Decentral_BP_Oil', 'id_DK_Decentral_BP_Waste',\n",
       "       'id_DK_Decentral_EP', 'id_DK_Decentral_GT',\n",
       "       'id_DK_Decentral_HPstandard', 'id_DK_Decentral_HPsurplusheat',\n",
       "       'id_DK_Decentral_HS', 'id_DK_Decentral_IH', 'id_DK_Decentral_IndustryH',\n",
       "       'id_DK_Decentral_IndustryH_Biogas', 'id_DK_Decentral_IndustryH_Biomass',\n",
       "       'id_DK_Decentral_IndustryH_Natgas', 'id_DK_Decentral_IndustryH_Oil',\n",
       "       'id_DK_Decentral_SH', 'id_DK_nan_CD_Biogas', 'id_DK_nan_CD_Coal',\n",
       "       'id_DK_nan_CD_Natgas', 'id_DK_nan_CD_Oil', 'id_DK_nan_IndustryE_Biogas',\n",
       "       'id_DK_nan_IndustryE_Biomass', 'id_DK_nan_IndustryE_Natgas',\n",
       "       'id_DK_nan_IndustryE_Oil', 'id_DK_nan_PV', 'id_DK_nan_ROR',\n",
       "       'id_DK_nan_WL', 'id_DK_nan_WS'],\n",
       "      dtype='object', name='id')"
      ]
     },
     "execution_count": 16,
     "metadata": {},
     "output_type": "execute_result"
    }
   ],
   "source": [
    "db['id']"
   ]
  },
  {
   "cell_type": "code",
   "execution_count": 17,
   "metadata": {},
   "outputs": [],
   "source": [
    "m=mSimple(db)"
   ]
  },
  {
   "cell_type": "markdown",
   "metadata": {},
   "source": [
    "Finally, we will assume that linelosses and trade are zero such that the marginal willingness to pay and marginal generation costs of \"transmission lines\" does not have to be corrected. "
   ]
  },
  {
   "cell_type": "markdown",
   "metadata": {},
   "source": [
    "We then initialize and solve the model:"
   ]
  },
  {
   "cell_type": "code",
   "execution_count": 17,
   "metadata": {},
   "outputs": [
    {
     "ename": "ValueError",
     "evalue": "need at least one array to concatenate",
     "output_type": "error",
     "traceback": [
      "\u001b[0;31m---------------------------------------------------------------------------\u001b[0m",
      "\u001b[0;31mValueError\u001b[0m                                Traceback (most recent call last)",
      "Cell \u001b[0;32mIn[17], line 3\u001b[0m\n\u001b[1;32m      1\u001b[0m m \u001b[38;5;241m=\u001b[39m mSimple(db)\n\u001b[1;32m      2\u001b[0m m\u001b[38;5;241m.\u001b[39mpreSolve()\n\u001b[0;32m----> 3\u001b[0m m\u001b[38;5;241m.\u001b[39msolve()\n\u001b[1;32m      4\u001b[0m m\u001b[38;5;241m.\u001b[39mpostSolve()\n\u001b[1;32m      5\u001b[0m m()\n",
      "File \u001b[0;32m~/EnergyEcon/EnergyEconGroupWork/py/lpModels.py:30\u001b[0m, in \u001b[0;36mmodelShell.solve\u001b[0;34m(self, printSol, solKwargs, solOptions, postKwargs, **kwargs)\u001b[0m\n\u001b[1;32m     29\u001b[0m \u001b[38;5;28;01mdef\u001b[39;00m \u001b[38;5;21msolve\u001b[39m(\u001b[38;5;28mself\u001b[39m, printSol \u001b[38;5;241m=\u001b[39m \u001b[38;5;28;01mTrue\u001b[39;00m, solKwargs \u001b[38;5;241m=\u001b[39m \u001b[38;5;28;01mNone\u001b[39;00m, solOptions\u001b[38;5;241m=\u001b[39m\u001b[38;5;28;01mNone\u001b[39;00m, postKwargs \u001b[38;5;241m=\u001b[39m \u001b[38;5;28;01mNone\u001b[39;00m, \u001b[38;5;241m*\u001b[39m\u001b[38;5;241m*\u001b[39mkwargs):\n\u001b[0;32m---> 30\u001b[0m \tsol \u001b[38;5;241m=\u001b[39m optimize\u001b[38;5;241m.\u001b[39mlinprog(method \u001b[38;5;241m=\u001b[39m \u001b[38;5;28mself\u001b[39m\u001b[38;5;241m.\u001b[39mmethod, \u001b[38;5;241m*\u001b[39m\u001b[38;5;241m*\u001b[39m\u001b[38;5;28mself\u001b[39m\u001b[38;5;241m.\u001b[39mblocks(execute \u001b[38;5;241m=\u001b[39m solKwargs), \u001b[38;5;241m*\u001b[39m\u001b[38;5;241m*\u001b[39mnoneInit(solOptions, {}))\n\u001b[1;32m     31\u001b[0m \t\u001b[38;5;28;01mif\u001b[39;00m printSol:\n\u001b[1;32m     32\u001b[0m \t\t\u001b[38;5;28mprint\u001b[39m(\u001b[38;5;124mf\u001b[39m\u001b[38;5;124m\"\u001b[39m\u001b[38;5;124mSolution status \u001b[39m\u001b[38;5;132;01m{\u001b[39;00msol[\u001b[38;5;124m'\u001b[39m\u001b[38;5;124mstatus\u001b[39m\u001b[38;5;124m'\u001b[39m]\u001b[38;5;132;01m}\u001b[39;00m\u001b[38;5;124m: \u001b[39m\u001b[38;5;132;01m{\u001b[39;00msol[\u001b[38;5;124m'\u001b[39m\u001b[38;5;124mmessage\u001b[39m\u001b[38;5;124m'\u001b[39m]\u001b[38;5;132;01m}\u001b[39;00m\u001b[38;5;124m\"\u001b[39m)\n",
      "File \u001b[0;32m~/EnergyEcon/EnergyEconGroupWork/py/lpCompiler.py:145\u001b[0m, in \u001b[0;36mlpBlock.__call__\u001b[0;34m(self, execute)\u001b[0m\n\u001b[1;32m    144\u001b[0m \u001b[38;5;28;01mdef\u001b[39;00m \u001b[38;5;21m__call__\u001b[39m(\u001b[38;5;28mself\u001b[39m, execute\u001b[38;5;241m=\u001b[39m\u001b[38;5;28;01mNone\u001b[39;00m):\n\u001b[0;32m--> 145\u001b[0m \t[\u001b[38;5;28mgetattr\u001b[39m(\u001b[38;5;28mself\u001b[39m, k)() \u001b[38;5;28;01mfor\u001b[39;00m k \u001b[38;5;129;01min\u001b[39;00m noneInit(execute, [\u001b[38;5;124m'\u001b[39m\u001b[38;5;124mcompileParameters\u001b[39m\u001b[38;5;124m'\u001b[39m,\u001b[38;5;124m'\u001b[39m\u001b[38;5;124msettingsFromCompiled\u001b[39m\u001b[38;5;124m'\u001b[39m,\u001b[38;5;124m'\u001b[39m\u001b[38;5;124minferGlobalDomains\u001b[39m\u001b[38;5;124m'\u001b[39m,\u001b[38;5;124m'\u001b[39m\u001b[38;5;124mgetDenseArgs\u001b[39m\u001b[38;5;124m'\u001b[39m])];\n\u001b[1;32m    146\u001b[0m \t\u001b[38;5;28;01mreturn\u001b[39;00m \u001b[38;5;28mself\u001b[39m\u001b[38;5;241m.\u001b[39mlp_args\n",
      "File \u001b[0;32m~/EnergyEcon/EnergyEconGroupWork/py/lpCompiler.py:145\u001b[0m, in \u001b[0;36m<listcomp>\u001b[0;34m(.0)\u001b[0m\n\u001b[1;32m    144\u001b[0m \u001b[38;5;28;01mdef\u001b[39;00m \u001b[38;5;21m__call__\u001b[39m(\u001b[38;5;28mself\u001b[39m, execute\u001b[38;5;241m=\u001b[39m\u001b[38;5;28;01mNone\u001b[39;00m):\n\u001b[0;32m--> 145\u001b[0m \t[\u001b[38;5;28mgetattr\u001b[39m(\u001b[38;5;28mself\u001b[39m, k)() \u001b[38;5;28;01mfor\u001b[39;00m k \u001b[38;5;129;01min\u001b[39;00m noneInit(execute, [\u001b[38;5;124m'\u001b[39m\u001b[38;5;124mcompileParameters\u001b[39m\u001b[38;5;124m'\u001b[39m,\u001b[38;5;124m'\u001b[39m\u001b[38;5;124msettingsFromCompiled\u001b[39m\u001b[38;5;124m'\u001b[39m,\u001b[38;5;124m'\u001b[39m\u001b[38;5;124minferGlobalDomains\u001b[39m\u001b[38;5;124m'\u001b[39m,\u001b[38;5;124m'\u001b[39m\u001b[38;5;124mgetDenseArgs\u001b[39m\u001b[38;5;124m'\u001b[39m])];\n\u001b[1;32m    146\u001b[0m \t\u001b[38;5;28;01mreturn\u001b[39;00m \u001b[38;5;28mself\u001b[39m\u001b[38;5;241m.\u001b[39mlp_args\n",
      "File \u001b[0;32m~/EnergyEcon/EnergyEconGroupWork/py/lpCompiler.py:120\u001b[0m, in \u001b[0;36mlpBlock.inferGlobalDomains\u001b[0;34m(self)\u001b[0m\n\u001b[1;32m    118\u001b[0m \u001b[38;5;28;01mdef\u001b[39;00m \u001b[38;5;21minferGlobalDomains\u001b[39m(\u001b[38;5;28mself\u001b[39m):\n\u001b[1;32m    119\u001b[0m \t\u001b[38;5;28mself\u001b[39m\u001b[38;5;241m.\u001b[39mgIndex \u001b[38;5;241m=\u001b[39m {k: fIndex(k, \u001b[38;5;28mself\u001b[39m\u001b[38;5;241m.\u001b[39mvariableDomains(k)) \u001b[38;5;28;01mfor\u001b[39;00m k \u001b[38;5;129;01min\u001b[39;00m \u001b[38;5;28mself\u001b[39m\u001b[38;5;241m.\u001b[39mallvars}\n\u001b[0;32m--> 120\u001b[0m \t\u001b[38;5;28mself\u001b[39m\u001b[38;5;241m.\u001b[39mglobalVariableIndex \u001b[38;5;241m=\u001b[39m stackIndex(\u001b[38;5;28mself\u001b[39m\u001b[38;5;241m.\u001b[39mgIndex\u001b[38;5;241m.\u001b[39mvalues(), names \u001b[38;5;241m=\u001b[39m stdNames(\u001b[38;5;124m'\u001b[39m\u001b[38;5;124mv\u001b[39m\u001b[38;5;124m'\u001b[39m))\n\u001b[1;32m    121\u001b[0m \t\u001b[38;5;28mself\u001b[39m\u001b[38;5;241m.\u001b[39mglobalConstraintIndex \u001b[38;5;241m=\u001b[39m {t: stackIndex([\u001b[38;5;28mself\u001b[39m\u001b[38;5;241m.\u001b[39mcompiled[\u001b[38;5;124mf\u001b[39m\u001b[38;5;124m'\u001b[39m\u001b[38;5;124mb_\u001b[39m\u001b[38;5;132;01m{\u001b[39;00mt\u001b[38;5;132;01m}\u001b[39;00m\u001b[38;5;124m'\u001b[39m][k] \u001b[38;5;28;01mfor\u001b[39;00m k \u001b[38;5;129;01min\u001b[39;00m \u001b[38;5;28mself\u001b[39m\u001b[38;5;241m.\u001b[39mallconstr[t]], names \u001b[38;5;241m=\u001b[39m stdNames(t)) \u001b[38;5;28;01mif\u001b[39;00m \u001b[38;5;28mself\u001b[39m\u001b[38;5;241m.\u001b[39mcompiled[\u001b[38;5;124mf\u001b[39m\u001b[38;5;124m'\u001b[39m\u001b[38;5;124mb_\u001b[39m\u001b[38;5;132;01m{\u001b[39;00mt\u001b[38;5;132;01m}\u001b[39;00m\u001b[38;5;124m'\u001b[39m] \u001b[38;5;28;01melse\u001b[39;00m \u001b[38;5;28;01mNone\u001b[39;00m \u001b[38;5;28;01mfor\u001b[39;00m t \u001b[38;5;129;01min\u001b[39;00m (\u001b[38;5;124m'\u001b[39m\u001b[38;5;124meq\u001b[39m\u001b[38;5;124m'\u001b[39m,\u001b[38;5;124m'\u001b[39m\u001b[38;5;124mub\u001b[39m\u001b[38;5;124m'\u001b[39m)}\n\u001b[1;32m    122\u001b[0m \t\u001b[38;5;28mself\u001b[39m\u001b[38;5;241m.\u001b[39mglobalMaps \u001b[38;5;241m=\u001b[39m ({\u001b[38;5;124m'\u001b[39m\u001b[38;5;124mv\u001b[39m\u001b[38;5;124m'\u001b[39m: pd\u001b[38;5;241m.\u001b[39mSeries(\u001b[38;5;28mrange\u001b[39m(\u001b[38;5;28mlen\u001b[39m(\u001b[38;5;28mself\u001b[39m\u001b[38;5;241m.\u001b[39mglobalVariableIndex)), index \u001b[38;5;241m=\u001b[39m \u001b[38;5;28mself\u001b[39m\u001b[38;5;241m.\u001b[39mglobalVariableIndex)} \u001b[38;5;241m|\u001b[39m \n\u001b[1;32m    123\u001b[0m \t\t\t\t\t\t{t: pd\u001b[38;5;241m.\u001b[39mSeries(\u001b[38;5;28mrange\u001b[39m(\u001b[38;5;28mlen\u001b[39m(\u001b[38;5;28mself\u001b[39m\u001b[38;5;241m.\u001b[39mglobalConstraintIndex[t])), index \u001b[38;5;241m=\u001b[39m \u001b[38;5;28mself\u001b[39m\u001b[38;5;241m.\u001b[39mglobalConstraintIndex[t]) \u001b[38;5;28;01mif\u001b[39;00m \u001b[38;5;28mself\u001b[39m\u001b[38;5;241m.\u001b[39mcompiled[\u001b[38;5;124mf\u001b[39m\u001b[38;5;124m'\u001b[39m\u001b[38;5;124mb_\u001b[39m\u001b[38;5;132;01m{\u001b[39;00mt\u001b[38;5;132;01m}\u001b[39;00m\u001b[38;5;124m'\u001b[39m] \u001b[38;5;28;01melse\u001b[39;00m \u001b[38;5;28;01mNone\u001b[39;00m \u001b[38;5;28;01mfor\u001b[39;00m t \u001b[38;5;129;01min\u001b[39;00m (\u001b[38;5;124m'\u001b[39m\u001b[38;5;124meq\u001b[39m\u001b[38;5;124m'\u001b[39m,\u001b[38;5;124m'\u001b[39m\u001b[38;5;124mub\u001b[39m\u001b[38;5;124m'\u001b[39m)}\n\u001b[1;32m    124\u001b[0m \t\t\t\t\t)\n",
      "File \u001b[0;32m~/EnergyEcon/EnergyEconGroupWork/py/base.py:80\u001b[0m, in \u001b[0;36mstackIndex\u001b[0;34m(ite, names)\u001b[0m\n\u001b[1;32m     79\u001b[0m \u001b[38;5;28;01mdef\u001b[39;00m \u001b[38;5;21mstackIndex\u001b[39m(ite,names):\n\u001b[0;32m---> 80\u001b[0m \t\u001b[38;5;28;01mreturn\u001b[39;00m pd\u001b[38;5;241m.\u001b[39mMultiIndex\u001b[38;5;241m.\u001b[39mfrom_tuples(np\u001b[38;5;241m.\u001b[39mhstack([pyDbs\u001b[38;5;241m.\u001b[39mgetIndex(f)\u001b[38;5;241m.\u001b[39mvalues \u001b[38;5;28;01mfor\u001b[39;00m f \u001b[38;5;129;01min\u001b[39;00m ite]), names \u001b[38;5;241m=\u001b[39m names)\n",
      "File \u001b[0;32m~/anaconda3/envs/EE2023/lib/python3.11/site-packages/numpy/core/shape_base.py:359\u001b[0m, in \u001b[0;36mhstack\u001b[0;34m(tup, dtype, casting)\u001b[0m\n\u001b[1;32m    357\u001b[0m     \u001b[38;5;28;01mreturn\u001b[39;00m _nx\u001b[38;5;241m.\u001b[39mconcatenate(arrs, \u001b[38;5;241m0\u001b[39m, dtype\u001b[38;5;241m=\u001b[39mdtype, casting\u001b[38;5;241m=\u001b[39mcasting)\n\u001b[1;32m    358\u001b[0m \u001b[38;5;28;01melse\u001b[39;00m:\n\u001b[0;32m--> 359\u001b[0m     \u001b[38;5;28;01mreturn\u001b[39;00m _nx\u001b[38;5;241m.\u001b[39mconcatenate(arrs, \u001b[38;5;241m1\u001b[39m, dtype\u001b[38;5;241m=\u001b[39mdtype, casting\u001b[38;5;241m=\u001b[39mcasting)\n",
      "\u001b[0;31mValueError\u001b[0m: need at least one array to concatenate"
     ]
    }
   ],
   "source": [
    "m = mSimple(db)\n",
    "m.preSolve()\n",
    "m.solve()\n",
    "m.postSolve()\n",
    "m()\n",
    "m.db.symbols.keys()"
   ]
  },
  {
   "cell_type": "code",
   "execution_count": 19,
   "metadata": {},
   "outputs": [
    {
     "ename": "TypeError",
     "evalue": "Symbol marginalSystemCosts_E not in database",
     "output_type": "error",
     "traceback": [
      "\u001b[0;31m---------------------------------------------------------------------------\u001b[0m",
      "\u001b[0;31mKeyError\u001b[0m                                  Traceback (most recent call last)",
      "File \u001b[0;32m~/anaconda3/envs/EE2023/lib/python3.11/site-packages/pyDbs/simpleDB.py:44\u001b[0m, in \u001b[0;36mSimpleDB.__getitem__\u001b[0;34m(self, item)\u001b[0m\n\u001b[1;32m     43\u001b[0m \u001b[38;5;28;01mtry\u001b[39;00m:\n\u001b[0;32m---> 44\u001b[0m \t\u001b[38;5;28;01mreturn\u001b[39;00m \u001b[38;5;28mself\u001b[39m\u001b[38;5;241m.\u001b[39msymbols[item]\n\u001b[1;32m     45\u001b[0m \u001b[38;5;28;01mexcept\u001b[39;00m \u001b[38;5;167;01mKeyError\u001b[39;00m:\n",
      "\u001b[0;31mKeyError\u001b[0m: 'marginalSystemCosts_E'",
      "\nDuring handling of the above exception, another exception occurred:\n",
      "\u001b[0;31mTypeError\u001b[0m                                 Traceback (most recent call last)",
      "File \u001b[0;32m~/anaconda3/envs/EE2023/lib/python3.11/site-packages/pyDbs/simpleDB.py:47\u001b[0m, in \u001b[0;36mSimpleDB.__getitem__\u001b[0;34m(self, item)\u001b[0m\n\u001b[1;32m     46\u001b[0m \u001b[38;5;28;01mtry\u001b[39;00m:\n\u001b[0;32m---> 47\u001b[0m \t\u001b[38;5;28;01mreturn\u001b[39;00m \u001b[38;5;28mself\u001b[39m\u001b[38;5;241m.\u001b[39msymbols[\u001b[38;5;28mself\u001b[39m\u001b[38;5;241m.\u001b[39mgetAlias(item)]\u001b[38;5;241m.\u001b[39mrename(item)\n\u001b[1;32m     48\u001b[0m \u001b[38;5;28;01mexcept\u001b[39;00m \u001b[38;5;167;01mTypeError\u001b[39;00m:\n",
      "File \u001b[0;32m~/anaconda3/envs/EE2023/lib/python3.11/site-packages/pyDbs/simpleDB.py:88\u001b[0m, in \u001b[0;36mSimpleDB.getAlias\u001b[0;34m(self, x, index_)\u001b[0m\n\u001b[1;32m     87\u001b[0m \u001b[38;5;28;01melse\u001b[39;00m:\n\u001b[0;32m---> 88\u001b[0m \t\u001b[38;5;28;01mraise\u001b[39;00m \u001b[38;5;167;01mTypeError\u001b[39;00m(\u001b[38;5;124mf\u001b[39m\u001b[38;5;124m\"\u001b[39m\u001b[38;5;132;01m{\u001b[39;00mx\u001b[38;5;132;01m}\u001b[39;00m\u001b[38;5;124m is not aliased\u001b[39m\u001b[38;5;124m\"\u001b[39m)\n",
      "\u001b[0;31mTypeError\u001b[0m: marginalSystemCosts_E is not aliased",
      "\nDuring handling of the above exception, another exception occurred:\n",
      "\u001b[0;31mTypeError\u001b[0m                                 Traceback (most recent call last)",
      "Cell \u001b[0;32mIn[19], line 1\u001b[0m\n\u001b[0;32m----> 1\u001b[0m m\u001b[38;5;241m.\u001b[39mdb[\u001b[38;5;124m'\u001b[39m\u001b[38;5;124mmarginalSystemCosts_E\u001b[39m\u001b[38;5;124m'\u001b[39m]\u001b[38;5;241m.\u001b[39mplot()\n",
      "File \u001b[0;32m~/anaconda3/envs/EE2023/lib/python3.11/site-packages/pyDbs/simpleDB.py:49\u001b[0m, in \u001b[0;36mSimpleDB.__getitem__\u001b[0;34m(self, item)\u001b[0m\n\u001b[1;32m     47\u001b[0m \t\u001b[38;5;28;01mreturn\u001b[39;00m \u001b[38;5;28mself\u001b[39m\u001b[38;5;241m.\u001b[39msymbols[\u001b[38;5;28mself\u001b[39m\u001b[38;5;241m.\u001b[39mgetAlias(item)]\u001b[38;5;241m.\u001b[39mrename(item)\n\u001b[1;32m     48\u001b[0m \u001b[38;5;28;01mexcept\u001b[39;00m \u001b[38;5;167;01mTypeError\u001b[39;00m:\n\u001b[0;32m---> 49\u001b[0m \t\u001b[38;5;28;01mraise\u001b[39;00m \u001b[38;5;167;01mTypeError\u001b[39;00m(\u001b[38;5;124mf\u001b[39m\u001b[38;5;124m\"\u001b[39m\u001b[38;5;124mSymbol \u001b[39m\u001b[38;5;132;01m{\u001b[39;00mitem\u001b[38;5;132;01m}\u001b[39;00m\u001b[38;5;124m not in database\u001b[39m\u001b[38;5;124m\"\u001b[39m)\n",
      "\u001b[0;31mTypeError\u001b[0m: Symbol marginalSystemCosts_E not in database"
     ]
    }
   ],
   "source": [
    "m.db['marginalSystemCosts_E']."
   ]
  },
  {
   "cell_type": "code",
   "execution_count": null,
   "metadata": {},
   "outputs": [],
   "source": [
    "variable_names = ['FuelPrice', 'EmissionIntensity', 'EmissionTax', 'LoadVariation_H', 'MWP_H', 'Load_E', 'MWP_E', \n",
    "                  'LoadVariation_E', 'Load_H', 'effD', 'sCap', 'InvestCost', 'selfDischarge', 'effC', 'OtherMC', \n",
    "                  'GeneratingCap_H', 'FOM', 'chargeCap_H', 'GeneratingCap_E', 'E2H', 'FuelMix', 'c_H2g_H', 'c_E2g_E', \n",
    "                  'id2tech', 'tech2modelTech', 'id2g_E', 'id2g_H', 'id2hvt', 'g_E2g_H', 'g_E2g', 'g_H2g', 'h2Month', \n",
    "                  'h2Weekday', 'h2Week', 'h2HourOfTheDay', 'CapVariation', 'BFt', 'EmissionType', 'c_H', 'h', 'c_E', \n",
    "                  'id', 'tech', 'hvt', 'g_H', 'g_E', 'g', 'id2modelTech2tech', 'mc']"
   ]
  },
  {
   "cell_type": "code",
   "execution_count": 15,
   "metadata": {},
   "outputs": [
    {
     "data": {
      "text/plain": [
       "Index(['DK', 'DK', 'DK', 'DK', 'DK', 'DK', 'DK', 'DK', 'DK', 'DK', 'DK', 'DK',\n",
       "       'DK', 'DK', 'DK', 'DK', 'DK', 'DK', 'DK', 'DK', 'DK', 'DK', 'DK', 'DK',\n",
       "       'DK', 'DK', 'DK', 'DK', 'DK', 'DK', 'DK'],\n",
       "      dtype='object', name='g_E')"
      ]
     },
     "execution_count": 15,
     "metadata": {},
     "output_type": "execute_result"
    }
   ],
   "source": [
    "m.db['g_E']"
   ]
  },
  {
   "cell_type": "code",
   "execution_count": null,
   "metadata": {},
   "outputs": [],
   "source": [
    "#m()"
   ]
  },
  {
   "cell_type": "code",
   "execution_count": null,
   "metadata": {},
   "outputs": [],
   "source": [
    "#df = pd.DataFrame(db['x'])\n",
    "#df.to_excel(os.path.join(d['curr'], 'x.xlsx'), engine='openpyxl')\n",
    "\n",
    "#db['x']"
   ]
  },
  {
   "cell_type": "markdown",
   "metadata": {},
   "source": [
    "What to plot?\n",
    "\n",
    "- CO2 Emissions\n",
    "- Usage of Storage\n",
    "- Marginal Economic value of storage\n",
    "- seasonal storage?"
   ]
  }
 ],
 "metadata": {
  "kernelspec": {
   "display_name": "EE2023",
   "language": "python",
   "name": "python3"
  },
  "language_info": {
   "codemirror_mode": {
    "name": "ipython",
    "version": 3
   },
   "file_extension": ".py",
   "mimetype": "text/x-python",
   "name": "python",
   "nbconvert_exporter": "python",
   "pygments_lexer": "ipython3",
   "version": "3.11.3"
  }
 },
 "nbformat": 4,
 "nbformat_minor": 2
}
