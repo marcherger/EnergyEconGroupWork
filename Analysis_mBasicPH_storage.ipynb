{
 "cells": [
  {
   "cell_type": "markdown",
   "metadata": {},
   "source": [
    "Import stdPackages manually:"
   ]
  },
  {
   "cell_type": "markdown",
   "metadata": {},
   "source": [
    "import warnings\n",
    "warnings.simplefilter(action='ignore', category=FutureWarning)\n",
    "import os, pandas as pd, numpy as np, pickle, math, pyDbs, scipy\n",
    "from scipy import optimize, sparse, stats\n",
    "from importlib.metadata import version\n",
    "from IPython.display import IFrame\n",
    "_repo = 'EnergyEconGroupWork'\n",
    "d = {'main': os.path.join(os.getcwd().split(_repo,1)[0],_repo),\n",
    "     'curr': os.getcwd()}\n",
    "d.update({'py': os.path.join(d['main'], 'py'),\n",
    "          'data': os.path.join(d['main'], 'Data')})\n",
    "os.chdir(d['py'])\n",
    "import base, lpCompiler, lpModels, mBasicPH_storage\n",
    "os.chdir(d['curr'])"
   ]
  },
  {
   "cell_type": "markdown",
   "metadata": {},
   "source": [
    "For working with the model, we first import some packages and the modelclass:"
   ]
  },
  {
   "cell_type": "code",
   "execution_count": 1,
   "metadata": {},
   "outputs": [
    {
     "name": "stdout",
     "output_type": "stream",
     "text": [
      "The autoreload extension is already loaded. To reload it, use:\n",
      "  %reload_ext autoreload\n"
     ]
    }
   ],
   "source": [
    "%run ../stdPackages.ipynb\n",
    "from pyDbs import *\n",
    "os.chdir(os.path.join(d['curr'],'EnergyEconGroupWork', 'py'))\n",
    "from mBasicPH_storage import *\n",
    "os.chdir(d['curr'])"
   ]
  },
  {
   "cell_type": "markdown",
   "metadata": {},
   "source": [
    "Next we load the database:"
   ]
  },
  {
   "cell_type": "code",
   "execution_count": 2,
   "metadata": {},
   "outputs": [],
   "source": [
    "kwargs = {'variables': ['Fundamentals', 'LoadVariables', 'GeneratorsVariables','StorageVariables'],\n",
    "        'maps': ['LoadMaps','GeneratorsMaps','StorageMaps', 'MarketMaps'],\n",
    "        'variable2D': ['HourlyVariation']}\n",
    "path_to_data = os.path.join(d['curr'],'EnergyEconGroupWork', 'Data', 'mBasicPH_storage_Data.xlsx')\n",
    "db = read.dbFromWB(path_to_data, kwargs)\n",
    "readSets(db)"
   ]
  },
  {
   "cell_type": "markdown",
   "metadata": {},
   "source": [
    "We then initialize and solve the model:"
   ]
  },
  {
   "cell_type": "code",
   "execution_count": 3,
   "metadata": {},
   "outputs": [
    {
     "ename": "KeyError",
     "evalue": "'g_E'",
     "output_type": "error",
     "traceback": [
      "\u001b[1;31m---------------------------------------------------------------------------\u001b[0m",
      "\u001b[1;31mKeyError\u001b[0m                                  Traceback (most recent call last)",
      "File \u001b[1;32mc:\\Users\\mpher\\anaconda3\\envs\\EE2023\\Lib\\site-packages\\pyDbs\\simpleDB.py:44\u001b[0m, in \u001b[0;36mSimpleDB.__getitem__\u001b[1;34m(self, item)\u001b[0m\n\u001b[0;32m     43\u001b[0m \u001b[39mtry\u001b[39;00m:\n\u001b[1;32m---> 44\u001b[0m \t\u001b[39mreturn\u001b[39;00m \u001b[39mself\u001b[39m\u001b[39m.\u001b[39msymbols[item]\n\u001b[0;32m     45\u001b[0m \u001b[39mexcept\u001b[39;00m \u001b[39mKeyError\u001b[39;00m:\n",
      "\u001b[1;31mKeyError\u001b[0m: 'g_E_constr'",
      "\nDuring handling of the above exception, another exception occurred:\n",
      "\u001b[1;31mKeyError\u001b[0m                                  Traceback (most recent call last)",
      "\u001b[1;32mc:\\Users\\mpher\\Documents\\Uni\\Master\\02_Exchange\\01_Academics\\Energy Economics of the Green Transition\\0_Final Project\\EnergyEconGroupWork\\Analysis_mBasicPH_storage.ipynb Cell 8\u001b[0m line \u001b[0;36m1\n\u001b[1;32m----> <a href='vscode-notebook-cell:/c%3A/Users/mpher/Documents/Uni/Master/02_Exchange/01_Academics/Energy%20Economics%20of%20the%20Green%20Transition/0_Final%20Project/EnergyEconGroupWork/Analysis_mBasicPH_storage.ipynb#X10sZmlsZQ%3D%3D?line=0'>1</a>\u001b[0m m \u001b[39m=\u001b[39m mSimple(db\u001b[39m.\u001b[39mcopy())\n\u001b[0;32m      <a href='vscode-notebook-cell:/c%3A/Users/mpher/Documents/Uni/Master/02_Exchange/01_Academics/Energy%20Economics%20of%20the%20Green%20Transition/0_Final%20Project/EnergyEconGroupWork/Analysis_mBasicPH_storage.ipynb#X10sZmlsZQ%3D%3D?line=1'>2</a>\u001b[0m m()\n",
      "File \u001b[1;32mc:\\Users\\mpher\\Documents\\Uni\\Master\\02_Exchange\\01_Academics\\Energy Economics of the Green Transition\\0_Final Project\\EnergyEconGroupWork\\py\\mBasicPH_storage.py:70\u001b[0m, in \u001b[0;36mmSimple.__init__\u001b[1;34m(self, db, blocks, **kwargs)\u001b[0m\n\u001b[0;32m     68\u001b[0m \u001b[39m#db['gConnected'] = db['lineCapacity'].index\u001b[39;00m\n\u001b[0;32m     69\u001b[0m db[\u001b[39m'\u001b[39m\u001b[39mid2modelTech2tech\u001b[39m\u001b[39m'\u001b[39m] \u001b[39m=\u001b[39m sortAll(adjMultiIndex\u001b[39m.\u001b[39mbc(pd\u001b[39m.\u001b[39mSeries(\u001b[39m0\u001b[39m, index \u001b[39m=\u001b[39m db[\u001b[39m'\u001b[39m\u001b[39mid2tech\u001b[39m\u001b[39m'\u001b[39m]), db[\u001b[39m'\u001b[39m\u001b[39mtech2modelTech\u001b[39m\u001b[39m'\u001b[39m]))\u001b[39m.\u001b[39mindex\n\u001b[1;32m---> 70\u001b[0m \u001b[39msuper\u001b[39m()\u001b[39m.\u001b[39m\u001b[39m__init__\u001b[39m(db, blocks\u001b[39m=\u001b[39mblocks, \u001b[39m*\u001b[39m\u001b[39m*\u001b[39mkwargs)\n",
      "File \u001b[1;32mc:\\Users\\mpher\\Documents\\Uni\\Master\\02_Exchange\\01_Academics\\Energy Economics of the Green Transition\\0_Final Project\\EnergyEconGroupWork\\py\\lpModels.py:23\u001b[0m, in \u001b[0;36mmodelShell.__init__\u001b[1;34m(self, db, blocks, method, scalarDualAtUpper, computeDual, standardSolve, **kwargs)\u001b[0m\n\u001b[0;32m     21\u001b[0m \u001b[39mself\u001b[39m\u001b[39m.\u001b[39mcomputeDual \u001b[39m=\u001b[39m computeDual\n\u001b[0;32m     22\u001b[0m \u001b[39mself\u001b[39m\u001b[39m.\u001b[39mblocks \u001b[39m=\u001b[39m noneInit(blocks, lpCompiler\u001b[39m.\u001b[39mlpBlock(\u001b[39m*\u001b[39m\u001b[39m*\u001b[39mkwargs))\n\u001b[1;32m---> 23\u001b[0m \u001b[39mif\u001b[39;00m \u001b[39mhasattr\u001b[39m(\u001b[39mself\u001b[39m, \u001b[39m'\u001b[39m\u001b[39mglobalDomains\u001b[39m\u001b[39m'\u001b[39m):\n\u001b[0;32m     24\u001b[0m \t\u001b[39mself\u001b[39m\u001b[39m.\u001b[39mblocks\u001b[39m.\u001b[39mglobalDomains \u001b[39m=\u001b[39m \u001b[39mself\u001b[39m\u001b[39m.\u001b[39mglobalDomains\n",
      "File \u001b[1;32mc:\\Users\\mpher\\Documents\\Uni\\Master\\02_Exchange\\01_Academics\\Energy Economics of the Green Transition\\0_Final Project\\EnergyEconGroupWork\\py\\mBasicPH_storage.py:119\u001b[0m, in \u001b[0;36mmSimple.globalDomains\u001b[1;34m(self)\u001b[0m\n\u001b[0;32m    109\u001b[0m \u001b[39m@property\u001b[39m\n\u001b[0;32m    110\u001b[0m \u001b[39mdef\u001b[39;00m \u001b[39mglobalDomains\u001b[39m(\u001b[39mself\u001b[39m):\n\u001b[0;32m    111\u001b[0m \t\u001b[39mreturn\u001b[39;00m {\u001b[39m'\u001b[39m\u001b[39mGeneration_E\u001b[39m\u001b[39m'\u001b[39m: pyDbs\u001b[39m.\u001b[39mcartesianProductIndex([subsetIdsTech(\u001b[39mself\u001b[39m\u001b[39m.\u001b[39mdb[\u001b[39m'\u001b[39m\u001b[39mid2g_E\u001b[39m\u001b[39m'\u001b[39m], \u001b[39mself\u001b[39m\u001b[39m.\u001b[39mmodelTech_E, \u001b[39mself\u001b[39m\u001b[39m.\u001b[39mdb), \u001b[39mself\u001b[39m\u001b[39m.\u001b[39mdb[\u001b[39m'\u001b[39m\u001b[39mh\u001b[39m\u001b[39m'\u001b[39m]]),\n\u001b[0;32m    112\u001b[0m \t\t\t\u001b[39m'\u001b[39m\u001b[39mGeneration_H\u001b[39m\u001b[39m'\u001b[39m: pyDbs\u001b[39m.\u001b[39mcartesianProductIndex([subsetIdsTech(\u001b[39mself\u001b[39m\u001b[39m.\u001b[39mdb[\u001b[39m'\u001b[39m\u001b[39mid2g_H\u001b[39m\u001b[39m'\u001b[39m], \u001b[39mself\u001b[39m\u001b[39m.\u001b[39mmodelTech_H, \u001b[39mself\u001b[39m\u001b[39m.\u001b[39mdb), \u001b[39mself\u001b[39m\u001b[39m.\u001b[39mdb[\u001b[39m'\u001b[39m\u001b[39mh\u001b[39m\u001b[39m'\u001b[39m]]),\n\u001b[0;32m    113\u001b[0m \t\t\t\u001b[39m'\u001b[39m\u001b[39mdischarge_H\u001b[39m\u001b[39m'\u001b[39m : adj\u001b[39m.\u001b[39mrc_pd(pyDbs\u001b[39m.\u001b[39mcartesianProductIndex([subsetIdsTech(\u001b[39mself\u001b[39m\u001b[39m.\u001b[39mdb[\u001b[39m'\u001b[39m\u001b[39mid2g_H\u001b[39m\u001b[39m'\u001b[39m], \u001b[39m'\u001b[39m\u001b[39mHS\u001b[39m\u001b[39m'\u001b[39m, \u001b[39mself\u001b[39m\u001b[39m.\u001b[39mdb), \u001b[39mself\u001b[39m\u001b[39m.\u001b[39mdb[\u001b[39m'\u001b[39m\u001b[39mh\u001b[39m\u001b[39m'\u001b[39m]]), \u001b[39mself\u001b[39m\u001b[39m.\u001b[39mdb[\u001b[39m'\u001b[39m\u001b[39msCap\u001b[39m\u001b[39m'\u001b[39m]),\n\u001b[0;32m    114\u001b[0m \t\t\t\u001b[39m'\u001b[39m\u001b[39mcharge_H\u001b[39m\u001b[39m'\u001b[39m\t: adj\u001b[39m.\u001b[39mrc_pd(pyDbs\u001b[39m.\u001b[39mcartesianProductIndex([subsetIdsTech(\u001b[39mself\u001b[39m\u001b[39m.\u001b[39mdb[\u001b[39m'\u001b[39m\u001b[39mid2g_H\u001b[39m\u001b[39m'\u001b[39m], \u001b[39m'\u001b[39m\u001b[39mHS\u001b[39m\u001b[39m'\u001b[39m, \u001b[39mself\u001b[39m\u001b[39m.\u001b[39mdb), \u001b[39mself\u001b[39m\u001b[39m.\u001b[39mdb[\u001b[39m'\u001b[39m\u001b[39mh\u001b[39m\u001b[39m'\u001b[39m]]), \u001b[39mself\u001b[39m\u001b[39m.\u001b[39mdb[\u001b[39m'\u001b[39m\u001b[39msCap\u001b[39m\u001b[39m'\u001b[39m]),\n\u001b[0;32m    115\u001b[0m \t\t\t\u001b[39m'\u001b[39m\u001b[39mstored_H\u001b[39m\u001b[39m'\u001b[39m\t: adj\u001b[39m.\u001b[39mrc_pd(pyDbs\u001b[39m.\u001b[39mcartesianProductIndex([subsetIdsTech(\u001b[39mself\u001b[39m\u001b[39m.\u001b[39mdb[\u001b[39m'\u001b[39m\u001b[39mid2g_H\u001b[39m\u001b[39m'\u001b[39m], \u001b[39m'\u001b[39m\u001b[39mHS\u001b[39m\u001b[39m'\u001b[39m, \u001b[39mself\u001b[39m\u001b[39m.\u001b[39mdb), \u001b[39mself\u001b[39m\u001b[39m.\u001b[39mdb[\u001b[39m'\u001b[39m\u001b[39mh\u001b[39m\u001b[39m'\u001b[39m]]), \u001b[39mself\u001b[39m\u001b[39m.\u001b[39mdb[\u001b[39m'\u001b[39m\u001b[39msCap\u001b[39m\u001b[39m'\u001b[39m]),\t\t\t\t\n\u001b[0;32m    116\u001b[0m \t\t\t\u001b[39m'\u001b[39m\u001b[39mHourlyDemand_E\u001b[39m\u001b[39m'\u001b[39m: pyDbs\u001b[39m.\u001b[39mcartesianProductIndex([\u001b[39mself\u001b[39m\u001b[39m.\u001b[39mdb[\u001b[39m'\u001b[39m\u001b[39mc_E2g_E\u001b[39m\u001b[39m'\u001b[39m], \u001b[39mself\u001b[39m\u001b[39m.\u001b[39mdb[\u001b[39m'\u001b[39m\u001b[39mh\u001b[39m\u001b[39m'\u001b[39m]]),\n\u001b[0;32m    117\u001b[0m \t\t\t\u001b[39m'\u001b[39m\u001b[39mHourlyDemand_H\u001b[39m\u001b[39m'\u001b[39m: pyDbs\u001b[39m.\u001b[39mcartesianProductIndex([\u001b[39mself\u001b[39m\u001b[39m.\u001b[39mdb[\u001b[39m'\u001b[39m\u001b[39mc_H2g_H\u001b[39m\u001b[39m'\u001b[39m], \u001b[39mself\u001b[39m\u001b[39m.\u001b[39mdb[\u001b[39m'\u001b[39m\u001b[39mh\u001b[39m\u001b[39m'\u001b[39m]]),\n\u001b[0;32m    118\u001b[0m \t\t\t\u001b[39m#'Transmission_E': pyDbs.cartesianProductIndex([self.db['gConnected'],self.db['h']]),\u001b[39;00m\n\u001b[1;32m--> 119\u001b[0m \t\t\t\u001b[39m'\u001b[39m\u001b[39mequilibrium_E\u001b[39m\u001b[39m'\u001b[39m: pd\u001b[39m.\u001b[39mMultiIndex\u001b[39m.\u001b[39mfrom_product([\u001b[39mself\u001b[39m\u001b[39m.\u001b[39mdb[\u001b[39m'\u001b[39m\u001b[39mg_E_constr\u001b[39m\u001b[39m'\u001b[39m], \u001b[39mself\u001b[39m\u001b[39m.\u001b[39mdb[\u001b[39m'\u001b[39m\u001b[39mh_constr\u001b[39m\u001b[39m'\u001b[39m]]),\n\u001b[0;32m    120\u001b[0m \t\t\t\u001b[39m'\u001b[39m\u001b[39mequilibrium_H\u001b[39m\u001b[39m'\u001b[39m: pd\u001b[39m.\u001b[39mMultiIndex\u001b[39m.\u001b[39mfrom_product([\u001b[39mself\u001b[39m\u001b[39m.\u001b[39mdb[\u001b[39m'\u001b[39m\u001b[39mg_H_constr\u001b[39m\u001b[39m'\u001b[39m], \u001b[39mself\u001b[39m\u001b[39m.\u001b[39mdb[\u001b[39m'\u001b[39m\u001b[39mh_constr\u001b[39m\u001b[39m'\u001b[39m]]),\n\u001b[0;32m    121\u001b[0m \t\t\t\u001b[39m'\u001b[39m\u001b[39mPowerToHeat\u001b[39m\u001b[39m'\u001b[39m:\t pyDbs\u001b[39m.\u001b[39mcartesianProductIndex([adj\u001b[39m.\u001b[39mrc_AdjPd(getTechs([\u001b[39m'\u001b[39m\u001b[39mBP\u001b[39m\u001b[39m'\u001b[39m,\u001b[39m'\u001b[39m\u001b[39mHP\u001b[39m\u001b[39m'\u001b[39m],\u001b[39mself\u001b[39m\u001b[39m.\u001b[39mdb), alias \u001b[39m=\u001b[39m {\u001b[39m'\u001b[39m\u001b[39mid\u001b[39m\u001b[39m'\u001b[39m:\u001b[39m'\u001b[39m\u001b[39mid_constr\u001b[39m\u001b[39m'\u001b[39m}), \u001b[39mself\u001b[39m\u001b[39m.\u001b[39mdb[\u001b[39m'\u001b[39m\u001b[39mh_constr\u001b[39m\u001b[39m'\u001b[39m]]),\n\u001b[0;32m    122\u001b[0m \t\t\t\u001b[39m'\u001b[39m\u001b[39mLawOfMotion_H\u001b[39m\u001b[39m'\u001b[39m: pyDbs\u001b[39m.\u001b[39mcartesianProductIndex([adj\u001b[39m.\u001b[39mrc_AdjPd(getTechs(\u001b[39m'\u001b[39m\u001b[39mHS\u001b[39m\u001b[39m'\u001b[39m,\u001b[39mself\u001b[39m\u001b[39m.\u001b[39mdb), alias \u001b[39m=\u001b[39m {\u001b[39m'\u001b[39m\u001b[39mid\u001b[39m\u001b[39m'\u001b[39m:\u001b[39m'\u001b[39m\u001b[39mid_constr\u001b[39m\u001b[39m'\u001b[39m}), \u001b[39mself\u001b[39m\u001b[39m.\u001b[39mdb[\u001b[39m'\u001b[39m\u001b[39mh_constr\u001b[39m\u001b[39m'\u001b[39m]])}\n",
      "File \u001b[1;32mc:\\Users\\mpher\\anaconda3\\envs\\EE2023\\Lib\\site-packages\\pyDbs\\simpleDB.py:47\u001b[0m, in \u001b[0;36mSimpleDB.__getitem__\u001b[1;34m(self, item)\u001b[0m\n\u001b[0;32m     45\u001b[0m \u001b[39mexcept\u001b[39;00m \u001b[39mKeyError\u001b[39;00m:\n\u001b[0;32m     46\u001b[0m \t\u001b[39mtry\u001b[39;00m:\n\u001b[1;32m---> 47\u001b[0m \t\t\u001b[39mreturn\u001b[39;00m \u001b[39mself\u001b[39m\u001b[39m.\u001b[39msymbols[\u001b[39mself\u001b[39m\u001b[39m.\u001b[39mgetAlias(item)]\u001b[39m.\u001b[39mrename(item)\n\u001b[0;32m     48\u001b[0m \t\u001b[39mexcept\u001b[39;00m \u001b[39mTypeError\u001b[39;00m:\n\u001b[0;32m     49\u001b[0m \t\t\u001b[39mraise\u001b[39;00m \u001b[39mTypeError\u001b[39;00m(\u001b[39mf\u001b[39m\u001b[39m\"\u001b[39m\u001b[39mSymbol \u001b[39m\u001b[39m{\u001b[39;00mitem\u001b[39m}\u001b[39;00m\u001b[39m not in database\u001b[39m\u001b[39m\"\u001b[39m)\n",
      "\u001b[1;31mKeyError\u001b[0m: 'g_E'"
     ]
    }
   ],
   "source": [
    "m = mSimple(db.copy())\n",
    "m()"
   ]
  }
 ],
 "metadata": {
  "kernelspec": {
   "display_name": "EE2023",
   "language": "python",
   "name": "python3"
  },
  "language_info": {
   "codemirror_mode": {
    "name": "ipython",
    "version": 3
   },
   "file_extension": ".py",
   "mimetype": "text/x-python",
   "name": "python",
   "nbconvert_exporter": "python",
   "pygments_lexer": "ipython3",
   "version": "3.11.3"
  }
 },
 "nbformat": 4,
 "nbformat_minor": 2
}
