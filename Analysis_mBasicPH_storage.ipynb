{
 "cells": [
  {
   "cell_type": "markdown",
   "metadata": {},
   "source": [
    "For working with the model, we first import some packages and the modelclass:"
   ]
  },
  {
   "cell_type": "code",
   "execution_count": null,
   "metadata": {},
   "outputs": [],
   "source": [
    "#os.chdir('C:\\\\Users\\\\mpher\\\\Documents\\\\Uni\\\\Master\\\\02_Exchange\\\\01_Academics\\\\Energy Economics of the Green Transition\\\\0_Final Project\\EnergyEconGroupWork')"
   ]
  },
  {
   "cell_type": "code",
   "execution_count": 1,
   "metadata": {},
   "outputs": [
    {
     "name": "stdout",
     "output_type": "stream",
     "text": [
      "c:\\Users\\mpher\\Documents\\Uni\\Master\\02_Exchange\\01_Academics\\Energy Economics of the Green Transition\\EnergyEconGroupWork\n"
     ]
    }
   ],
   "source": [
    "import os\n",
    "current_directory = os.getcwd()\n",
    "print(current_directory)"
   ]
  },
  {
   "cell_type": "code",
   "execution_count": 2,
   "metadata": {},
   "outputs": [],
   "source": [
    "%run ./stdPackages.ipynb\n",
    "from pyDbs import *\n",
    "\n",
    "os.chdir(os.path.join(d['curr'], 'py'))\n",
    "\n",
    "from mBasicPH_storage import *\n",
    "os.chdir(d['curr'])"
   ]
  },
  {
   "cell_type": "markdown",
   "metadata": {},
   "source": [
    "Next we load the database:"
   ]
  },
  {
   "cell_type": "code",
   "execution_count": 23,
   "metadata": {},
   "outputs": [],
   "source": [
    "kwargs = {'variables': ['Fundamentals', 'LoadVariables', 'StorageVariables', 'GeneratorsVariables'],\n",
    "        'maps': ['LoadMaps','GeneratorsMaps','StorageMaps', 'MarketMaps'],\n",
    "        'variable2D': ['HourlyVariation']}\n",
    "\n",
    "path_to_data = os.path.join(d['curr'], 'Data', 'mBasicPH_storage_Data.xlsx')\n",
    "\n",
    "db = read.dbFromWB(path_to_data, kwargs)\n",
    "readSets(db)"
   ]
  },
  {
   "cell_type": "markdown",
   "metadata": {},
   "source": [
    "Convert variables to floats:"
   ]
  },
  {
   "cell_type": "code",
   "execution_count": 24,
   "metadata": {},
   "outputs": [],
   "source": [
    "[db.__setitem__(var,db[var].astype(float).sort_index()) for var in db.getTypes('variable').keys()];"
   ]
  },
  {
   "cell_type": "markdown",
   "metadata": {},
   "source": [
    "We need to read in heat areas manually:"
   ]
  },
  {
   "cell_type": "code",
   "execution_count": 25,
   "metadata": {},
   "outputs": [],
   "source": [
    "db['g_H'] = db['g_E2g_H'].get_level_values('g_H')"
   ]
  },
  {
   "cell_type": "markdown",
   "metadata": {},
   "source": [
    "Collect all areas in one:"
   ]
  },
  {
   "cell_type": "code",
   "execution_count": 29,
   "metadata": {},
   "outputs": [
    {
     "ename": "KeyError",
     "evalue": "'g_E'",
     "output_type": "error",
     "traceback": [
      "\u001b[1;31m---------------------------------------------------------------------------\u001b[0m",
      "\u001b[1;31mKeyError\u001b[0m                                  Traceback (most recent call last)",
      "File \u001b[1;32mc:\\Users\\mpher\\anaconda3\\envs\\EE2023\\Lib\\site-packages\\pyDbs\\simpleDB.py:44\u001b[0m, in \u001b[0;36mSimpleDB.__getitem__\u001b[1;34m(self, item)\u001b[0m\n\u001b[0;32m     43\u001b[0m \u001b[39mtry\u001b[39;00m:\n\u001b[1;32m---> 44\u001b[0m \t\u001b[39mreturn\u001b[39;00m \u001b[39mself\u001b[39m\u001b[39m.\u001b[39msymbols[item]\n\u001b[0;32m     45\u001b[0m \u001b[39mexcept\u001b[39;00m \u001b[39mKeyError\u001b[39;00m:\n",
      "\u001b[1;31mKeyError\u001b[0m: 'g_E'",
      "\nDuring handling of the above exception, another exception occurred:\n",
      "\u001b[1;31mKeyError\u001b[0m                                  Traceback (most recent call last)",
      "\u001b[1;32mc:\\Users\\mpher\\Documents\\Uni\\Master\\02_Exchange\\01_Academics\\Energy Economics of the Green Transition\\EnergyEconGroupWork\\Analysis_mBasicPH_storage.ipynb Cell 12\u001b[0m line \u001b[0;36m1\n\u001b[1;32m----> <a href='vscode-notebook-cell:/c%3A/Users/mpher/Documents/Uni/Master/02_Exchange/01_Academics/Energy%20Economics%20of%20the%20Green%20Transition/EnergyEconGroupWork/Analysis_mBasicPH_storage.ipynb#X14sZmlsZQ%3D%3D?line=0'>1</a>\u001b[0m db[\u001b[39m'\u001b[39m\u001b[39mg\u001b[39m\u001b[39m'\u001b[39m] \u001b[39m=\u001b[39m db[\u001b[39m'\u001b[39m\u001b[39mg_E\u001b[39m\u001b[39m'\u001b[39m]\u001b[39m.\u001b[39mcopy()\n",
      "File \u001b[1;32mc:\\Users\\mpher\\anaconda3\\envs\\EE2023\\Lib\\site-packages\\pyDbs\\simpleDB.py:47\u001b[0m, in \u001b[0;36mSimpleDB.__getitem__\u001b[1;34m(self, item)\u001b[0m\n\u001b[0;32m     45\u001b[0m \u001b[39mexcept\u001b[39;00m \u001b[39mKeyError\u001b[39;00m:\n\u001b[0;32m     46\u001b[0m \t\u001b[39mtry\u001b[39;00m:\n\u001b[1;32m---> 47\u001b[0m \t\t\u001b[39mreturn\u001b[39;00m \u001b[39mself\u001b[39m\u001b[39m.\u001b[39msymbols[\u001b[39mself\u001b[39m\u001b[39m.\u001b[39mgetAlias(item)]\u001b[39m.\u001b[39mrename(item)\n\u001b[0;32m     48\u001b[0m \t\u001b[39mexcept\u001b[39;00m \u001b[39mTypeError\u001b[39;00m:\n\u001b[0;32m     49\u001b[0m \t\t\u001b[39mraise\u001b[39;00m \u001b[39mTypeError\u001b[39;00m(\u001b[39mf\u001b[39m\u001b[39m\"\u001b[39m\u001b[39mSymbol \u001b[39m\u001b[39m{\u001b[39;00mitem\u001b[39m}\u001b[39;00m\u001b[39m not in database\u001b[39m\u001b[39m\"\u001b[39m)\n",
      "\u001b[1;31mKeyError\u001b[0m: 'g_E'"
     ]
    }
   ],
   "source": [
    "db['g'] = db['g_E'].copy()"
   ]
  },
  {
   "cell_type": "markdown",
   "metadata": {},
   "source": [
    "Finally, we will assume that linelosses and trade are zero such that the marginal willingness to pay and marginal generation costs of \"transmission lines\" does not have to be corrected. "
   ]
  },
  {
   "cell_type": "markdown",
   "metadata": {},
   "source": [
    "We then initialize and solve the model:"
   ]
  },
  {
   "cell_type": "code",
   "execution_count": 27,
   "metadata": {},
   "outputs": [
    {
     "ename": "KeyError",
     "evalue": "'g_E'",
     "output_type": "error",
     "traceback": [
      "\u001b[1;31m---------------------------------------------------------------------------\u001b[0m",
      "\u001b[1;31mKeyError\u001b[0m                                  Traceback (most recent call last)",
      "File \u001b[1;32mc:\\Users\\mpher\\anaconda3\\envs\\EE2023\\Lib\\site-packages\\pyDbs\\simpleDB.py:44\u001b[0m, in \u001b[0;36mSimpleDB.__getitem__\u001b[1;34m(self, item)\u001b[0m\n\u001b[0;32m     43\u001b[0m \u001b[39mtry\u001b[39;00m:\n\u001b[1;32m---> 44\u001b[0m \t\u001b[39mreturn\u001b[39;00m \u001b[39mself\u001b[39m\u001b[39m.\u001b[39msymbols[item]\n\u001b[0;32m     45\u001b[0m \u001b[39mexcept\u001b[39;00m \u001b[39mKeyError\u001b[39;00m:\n",
      "\u001b[1;31mKeyError\u001b[0m: 'g_E_constr'",
      "\nDuring handling of the above exception, another exception occurred:\n",
      "\u001b[1;31mKeyError\u001b[0m                                  Traceback (most recent call last)",
      "\u001b[1;32mc:\\Users\\mpher\\Documents\\Uni\\Master\\02_Exchange\\01_Academics\\Energy Economics of the Green Transition\\EnergyEconGroupWork\\Analysis_mBasicPH_storage.ipynb Cell 15\u001b[0m line \u001b[0;36m1\n\u001b[1;32m----> <a href='vscode-notebook-cell:/c%3A/Users/mpher/Documents/Uni/Master/02_Exchange/01_Academics/Energy%20Economics%20of%20the%20Green%20Transition/EnergyEconGroupWork/Analysis_mBasicPH_storage.ipynb#X20sZmlsZQ%3D%3D?line=0'>1</a>\u001b[0m m \u001b[39m=\u001b[39m mSimple(db)\n\u001b[0;32m      <a href='vscode-notebook-cell:/c%3A/Users/mpher/Documents/Uni/Master/02_Exchange/01_Academics/Energy%20Economics%20of%20the%20Green%20Transition/EnergyEconGroupWork/Analysis_mBasicPH_storage.ipynb#X20sZmlsZQ%3D%3D?line=1'>2</a>\u001b[0m m()\n",
      "File \u001b[1;32mc:\\Users\\mpher\\Documents\\Uni\\Master\\02_Exchange\\01_Academics\\Energy Economics of the Green Transition\\EnergyEconGroupWork\\py\\mBasicPH_storage.py:70\u001b[0m, in \u001b[0;36mmSimple.__init__\u001b[1;34m(self, db, blocks, **kwargs)\u001b[0m\n\u001b[0;32m     68\u001b[0m \u001b[39m#db['gConnected'] = db['lineCapacity'].index\u001b[39;00m\n\u001b[0;32m     69\u001b[0m db[\u001b[39m'\u001b[39m\u001b[39mid2modelTech2tech\u001b[39m\u001b[39m'\u001b[39m] \u001b[39m=\u001b[39m sortAll(adjMultiIndex\u001b[39m.\u001b[39mbc(pd\u001b[39m.\u001b[39mSeries(\u001b[39m0\u001b[39m, index \u001b[39m=\u001b[39m db[\u001b[39m'\u001b[39m\u001b[39mid2tech\u001b[39m\u001b[39m'\u001b[39m]), db[\u001b[39m'\u001b[39m\u001b[39mtech2modelTech\u001b[39m\u001b[39m'\u001b[39m]))\u001b[39m.\u001b[39mindex\n\u001b[1;32m---> 70\u001b[0m \u001b[39msuper\u001b[39m()\u001b[39m.\u001b[39m\u001b[39m__init__\u001b[39m(db, blocks\u001b[39m=\u001b[39mblocks, \u001b[39m*\u001b[39m\u001b[39m*\u001b[39mkwargs)\n",
      "File \u001b[1;32mc:\\Users\\mpher\\Documents\\Uni\\Master\\02_Exchange\\01_Academics\\Energy Economics of the Green Transition\\EnergyEconGroupWork\\py\\lpModels.py:23\u001b[0m, in \u001b[0;36mmodelShell.__init__\u001b[1;34m(self, db, blocks, method, scalarDualAtUpper, computeDual, standardSolve, **kwargs)\u001b[0m\n\u001b[0;32m     21\u001b[0m \u001b[39mself\u001b[39m\u001b[39m.\u001b[39mcomputeDual \u001b[39m=\u001b[39m computeDual\n\u001b[0;32m     22\u001b[0m \u001b[39mself\u001b[39m\u001b[39m.\u001b[39mblocks \u001b[39m=\u001b[39m noneInit(blocks, lpCompiler\u001b[39m.\u001b[39mlpBlock(\u001b[39m*\u001b[39m\u001b[39m*\u001b[39mkwargs))\n\u001b[1;32m---> 23\u001b[0m \u001b[39mif\u001b[39;00m \u001b[39mhasattr\u001b[39m(\u001b[39mself\u001b[39m, \u001b[39m'\u001b[39m\u001b[39mglobalDomains\u001b[39m\u001b[39m'\u001b[39m):\n\u001b[0;32m     24\u001b[0m \t\u001b[39mself\u001b[39m\u001b[39m.\u001b[39mblocks\u001b[39m.\u001b[39mglobalDomains \u001b[39m=\u001b[39m \u001b[39mself\u001b[39m\u001b[39m.\u001b[39mglobalDomains\n",
      "File \u001b[1;32mc:\\Users\\mpher\\Documents\\Uni\\Master\\02_Exchange\\01_Academics\\Energy Economics of the Green Transition\\EnergyEconGroupWork\\py\\mBasicPH_storage.py:119\u001b[0m, in \u001b[0;36mmSimple.globalDomains\u001b[1;34m(self)\u001b[0m\n\u001b[0;32m    109\u001b[0m \u001b[39m@property\u001b[39m\n\u001b[0;32m    110\u001b[0m \u001b[39mdef\u001b[39;00m \u001b[39mglobalDomains\u001b[39m(\u001b[39mself\u001b[39m):\n\u001b[0;32m    111\u001b[0m \t\u001b[39mreturn\u001b[39;00m {\u001b[39m'\u001b[39m\u001b[39mGeneration_E\u001b[39m\u001b[39m'\u001b[39m: pyDbs\u001b[39m.\u001b[39mcartesianProductIndex([subsetIdsTech(\u001b[39mself\u001b[39m\u001b[39m.\u001b[39mdb[\u001b[39m'\u001b[39m\u001b[39mid2g_E\u001b[39m\u001b[39m'\u001b[39m], \u001b[39mself\u001b[39m\u001b[39m.\u001b[39mmodelTech_E, \u001b[39mself\u001b[39m\u001b[39m.\u001b[39mdb), \u001b[39mself\u001b[39m\u001b[39m.\u001b[39mdb[\u001b[39m'\u001b[39m\u001b[39mh\u001b[39m\u001b[39m'\u001b[39m]]),\n\u001b[0;32m    112\u001b[0m \t\t\t\u001b[39m'\u001b[39m\u001b[39mGeneration_H\u001b[39m\u001b[39m'\u001b[39m: pyDbs\u001b[39m.\u001b[39mcartesianProductIndex([subsetIdsTech(\u001b[39mself\u001b[39m\u001b[39m.\u001b[39mdb[\u001b[39m'\u001b[39m\u001b[39mid2g_H\u001b[39m\u001b[39m'\u001b[39m], \u001b[39mself\u001b[39m\u001b[39m.\u001b[39mmodelTech_H, \u001b[39mself\u001b[39m\u001b[39m.\u001b[39mdb), \u001b[39mself\u001b[39m\u001b[39m.\u001b[39mdb[\u001b[39m'\u001b[39m\u001b[39mh\u001b[39m\u001b[39m'\u001b[39m]]),\n\u001b[0;32m    113\u001b[0m \t\t\t\u001b[39m'\u001b[39m\u001b[39mdischarge_H\u001b[39m\u001b[39m'\u001b[39m : adj\u001b[39m.\u001b[39mrc_pd(pyDbs\u001b[39m.\u001b[39mcartesianProductIndex([subsetIdsTech(\u001b[39mself\u001b[39m\u001b[39m.\u001b[39mdb[\u001b[39m'\u001b[39m\u001b[39mid2g_H\u001b[39m\u001b[39m'\u001b[39m], \u001b[39m'\u001b[39m\u001b[39mHS\u001b[39m\u001b[39m'\u001b[39m, \u001b[39mself\u001b[39m\u001b[39m.\u001b[39mdb), \u001b[39mself\u001b[39m\u001b[39m.\u001b[39mdb[\u001b[39m'\u001b[39m\u001b[39mh\u001b[39m\u001b[39m'\u001b[39m]]), \u001b[39mself\u001b[39m\u001b[39m.\u001b[39mdb[\u001b[39m'\u001b[39m\u001b[39msCap\u001b[39m\u001b[39m'\u001b[39m]),\n\u001b[0;32m    114\u001b[0m \t\t\t\u001b[39m'\u001b[39m\u001b[39mcharge_H\u001b[39m\u001b[39m'\u001b[39m\t: adj\u001b[39m.\u001b[39mrc_pd(pyDbs\u001b[39m.\u001b[39mcartesianProductIndex([subsetIdsTech(\u001b[39mself\u001b[39m\u001b[39m.\u001b[39mdb[\u001b[39m'\u001b[39m\u001b[39mid2g_H\u001b[39m\u001b[39m'\u001b[39m], \u001b[39m'\u001b[39m\u001b[39mHS\u001b[39m\u001b[39m'\u001b[39m, \u001b[39mself\u001b[39m\u001b[39m.\u001b[39mdb), \u001b[39mself\u001b[39m\u001b[39m.\u001b[39mdb[\u001b[39m'\u001b[39m\u001b[39mh\u001b[39m\u001b[39m'\u001b[39m]]), \u001b[39mself\u001b[39m\u001b[39m.\u001b[39mdb[\u001b[39m'\u001b[39m\u001b[39msCap\u001b[39m\u001b[39m'\u001b[39m]),\n\u001b[0;32m    115\u001b[0m \t\t\t\u001b[39m'\u001b[39m\u001b[39mstored_H\u001b[39m\u001b[39m'\u001b[39m\t: adj\u001b[39m.\u001b[39mrc_pd(pyDbs\u001b[39m.\u001b[39mcartesianProductIndex([subsetIdsTech(\u001b[39mself\u001b[39m\u001b[39m.\u001b[39mdb[\u001b[39m'\u001b[39m\u001b[39mid2g_H\u001b[39m\u001b[39m'\u001b[39m], \u001b[39m'\u001b[39m\u001b[39mHS\u001b[39m\u001b[39m'\u001b[39m, \u001b[39mself\u001b[39m\u001b[39m.\u001b[39mdb), \u001b[39mself\u001b[39m\u001b[39m.\u001b[39mdb[\u001b[39m'\u001b[39m\u001b[39mh\u001b[39m\u001b[39m'\u001b[39m]]), \u001b[39mself\u001b[39m\u001b[39m.\u001b[39mdb[\u001b[39m'\u001b[39m\u001b[39msCap\u001b[39m\u001b[39m'\u001b[39m]),\t\t\t\t\n\u001b[0;32m    116\u001b[0m \t\t\t\u001b[39m'\u001b[39m\u001b[39mHourlyDemand_E\u001b[39m\u001b[39m'\u001b[39m: pyDbs\u001b[39m.\u001b[39mcartesianProductIndex([\u001b[39mself\u001b[39m\u001b[39m.\u001b[39mdb[\u001b[39m'\u001b[39m\u001b[39mc_E2g_E\u001b[39m\u001b[39m'\u001b[39m], \u001b[39mself\u001b[39m\u001b[39m.\u001b[39mdb[\u001b[39m'\u001b[39m\u001b[39mh\u001b[39m\u001b[39m'\u001b[39m]]),\n\u001b[0;32m    117\u001b[0m \t\t\t\u001b[39m'\u001b[39m\u001b[39mHourlyDemand_H\u001b[39m\u001b[39m'\u001b[39m: pyDbs\u001b[39m.\u001b[39mcartesianProductIndex([\u001b[39mself\u001b[39m\u001b[39m.\u001b[39mdb[\u001b[39m'\u001b[39m\u001b[39mc_H2g_H\u001b[39m\u001b[39m'\u001b[39m], \u001b[39mself\u001b[39m\u001b[39m.\u001b[39mdb[\u001b[39m'\u001b[39m\u001b[39mh\u001b[39m\u001b[39m'\u001b[39m]]),\n\u001b[0;32m    118\u001b[0m \t\t\t\u001b[39m#'Transmission_E': pyDbs.cartesianProductIndex([self.db['gConnected'],self.db['h']]),\u001b[39;00m\n\u001b[1;32m--> 119\u001b[0m \t\t\t\u001b[39m'\u001b[39m\u001b[39mequilibrium_E\u001b[39m\u001b[39m'\u001b[39m: pd\u001b[39m.\u001b[39mMultiIndex\u001b[39m.\u001b[39mfrom_product([\u001b[39mself\u001b[39m\u001b[39m.\u001b[39mdb[\u001b[39m'\u001b[39m\u001b[39mg_E_constr\u001b[39m\u001b[39m'\u001b[39m], \u001b[39mself\u001b[39m\u001b[39m.\u001b[39mdb[\u001b[39m'\u001b[39m\u001b[39mh_constr\u001b[39m\u001b[39m'\u001b[39m]]),\n\u001b[0;32m    120\u001b[0m \t\t\t\u001b[39m'\u001b[39m\u001b[39mequilibrium_H\u001b[39m\u001b[39m'\u001b[39m: pd\u001b[39m.\u001b[39mMultiIndex\u001b[39m.\u001b[39mfrom_product([\u001b[39mself\u001b[39m\u001b[39m.\u001b[39mdb[\u001b[39m'\u001b[39m\u001b[39mg_H_constr\u001b[39m\u001b[39m'\u001b[39m], \u001b[39mself\u001b[39m\u001b[39m.\u001b[39mdb[\u001b[39m'\u001b[39m\u001b[39mh_constr\u001b[39m\u001b[39m'\u001b[39m]]),\n\u001b[0;32m    121\u001b[0m \t\t\t\u001b[39m'\u001b[39m\u001b[39mPowerToHeat\u001b[39m\u001b[39m'\u001b[39m:\t pyDbs\u001b[39m.\u001b[39mcartesianProductIndex([adj\u001b[39m.\u001b[39mrc_AdjPd(getTechs([\u001b[39m'\u001b[39m\u001b[39mBP\u001b[39m\u001b[39m'\u001b[39m,\u001b[39m'\u001b[39m\u001b[39mHP\u001b[39m\u001b[39m'\u001b[39m],\u001b[39mself\u001b[39m\u001b[39m.\u001b[39mdb), alias \u001b[39m=\u001b[39m {\u001b[39m'\u001b[39m\u001b[39mid\u001b[39m\u001b[39m'\u001b[39m:\u001b[39m'\u001b[39m\u001b[39mid_constr\u001b[39m\u001b[39m'\u001b[39m}), \u001b[39mself\u001b[39m\u001b[39m.\u001b[39mdb[\u001b[39m'\u001b[39m\u001b[39mh_constr\u001b[39m\u001b[39m'\u001b[39m]]),\n\u001b[0;32m    122\u001b[0m \t\t\t\u001b[39m'\u001b[39m\u001b[39mLawOfMotion_H\u001b[39m\u001b[39m'\u001b[39m: pyDbs\u001b[39m.\u001b[39mcartesianProductIndex([adj\u001b[39m.\u001b[39mrc_AdjPd(getTechs(\u001b[39m'\u001b[39m\u001b[39mHS\u001b[39m\u001b[39m'\u001b[39m,\u001b[39mself\u001b[39m\u001b[39m.\u001b[39mdb), alias \u001b[39m=\u001b[39m {\u001b[39m'\u001b[39m\u001b[39mid\u001b[39m\u001b[39m'\u001b[39m:\u001b[39m'\u001b[39m\u001b[39mid_constr\u001b[39m\u001b[39m'\u001b[39m}), \u001b[39mself\u001b[39m\u001b[39m.\u001b[39mdb[\u001b[39m'\u001b[39m\u001b[39mh_constr\u001b[39m\u001b[39m'\u001b[39m]])}\n",
      "File \u001b[1;32mc:\\Users\\mpher\\anaconda3\\envs\\EE2023\\Lib\\site-packages\\pyDbs\\simpleDB.py:47\u001b[0m, in \u001b[0;36mSimpleDB.__getitem__\u001b[1;34m(self, item)\u001b[0m\n\u001b[0;32m     45\u001b[0m \u001b[39mexcept\u001b[39;00m \u001b[39mKeyError\u001b[39;00m:\n\u001b[0;32m     46\u001b[0m \t\u001b[39mtry\u001b[39;00m:\n\u001b[1;32m---> 47\u001b[0m \t\t\u001b[39mreturn\u001b[39;00m \u001b[39mself\u001b[39m\u001b[39m.\u001b[39msymbols[\u001b[39mself\u001b[39m\u001b[39m.\u001b[39mgetAlias(item)]\u001b[39m.\u001b[39mrename(item)\n\u001b[0;32m     48\u001b[0m \t\u001b[39mexcept\u001b[39;00m \u001b[39mTypeError\u001b[39;00m:\n\u001b[0;32m     49\u001b[0m \t\t\u001b[39mraise\u001b[39;00m \u001b[39mTypeError\u001b[39;00m(\u001b[39mf\u001b[39m\u001b[39m\"\u001b[39m\u001b[39mSymbol \u001b[39m\u001b[39m{\u001b[39;00mitem\u001b[39m}\u001b[39;00m\u001b[39m not in database\u001b[39m\u001b[39m\"\u001b[39m)\n",
      "\u001b[1;31mKeyError\u001b[0m: 'g_E'"
     ]
    }
   ],
   "source": [
    "m = mSimple(db)\n",
    "m()"
   ]
  },
  {
   "cell_type": "code",
   "execution_count": null,
   "metadata": {},
   "outputs": [],
   "source": [
    "# Example: Assuming 'Welfare', 'FuelConsumption', 'Emissions', etc., are columns in your DataFrame\n",
    "result_columns = ['Welfare', 'FuelConsumption', 'Emissions', 'marginalSystemCosts_E', 'marginalSystemCosts_H', 'marginalEconomicValue', 'meanConsumerPrice_E', 'meanConsumerPrice_H']\n",
    "# Extract relevant columns from self.db and create a DataFrame\n",
    "result_df = pd.DataFrame({column: m.db[column] for column in result_columns})\n",
    "\n",
    "# Export the DataFrame to Excel\n",
    "result_df.to_excel(os.path.join(d['curr'], 'solutions.xlsx'), engine='openpyxl')"
   ]
  },
  {
   "cell_type": "code",
   "execution_count": null,
   "metadata": {},
   "outputs": [],
   "source": [
    "# Example: Assuming 'Welfare', 'FuelConsumption', 'Emissions', etc., are columns in your DataFrame\n",
    "result_columns = ['Welfare', 'FuelConsumption', 'Emissions', 'marginalSystemCosts_E', 'marginalSystemCosts_H', 'marginalEconomicValue', 'meanConsumerPrice_E', 'meanConsumerPrice_H']\n",
    "\n",
    "# Extract relevant columns from self.db and create a DataFrame\n",
    "result_df = pd.DataFrame({column: m.db[column] for column in result_columns})\n",
    "\n",
    "# Export the DataFrame to Excel with each variable on a separate sheet\n",
    "excel_path = os.path.join(d['curr'], 'solutions.xlsx')\n",
    "\n",
    "with pd.ExcelWriter(excel_path, engine='openpyxl') as writer:\n",
    "    for column in result_columns:\n",
    "        result_df[[column]].to_excel(writer, sheet_name=column)\n"
   ]
  },
  {
   "cell_type": "code",
   "execution_count": null,
   "metadata": {},
   "outputs": [],
   "source": [
    "mc_HS = db['mc']\n",
    "mc_HS = mc_HS[mc_HS.index.str.contains('HS')]\n",
    "mc_HS"
   ]
  },
  {
   "cell_type": "code",
   "execution_count": null,
   "metadata": {},
   "outputs": [],
   "source": [
    "df = pd.DataFrame(db['marginalSystemCosts_E'])\n",
    "df.to_excel(os.path.join(d['curr'], 'solutions_marginalSystemCosts_E.xlsx'), engine='openpyxl')\n",
    "\n",
    "db['marginalSystemCosts_E']"
   ]
  },
  {
   "cell_type": "code",
   "execution_count": null,
   "metadata": {},
   "outputs": [],
   "source": [
    "base_db = m.db.copy()\n",
    "\n",
    "agg_BFt = {\n",
    "    'Fueloil':'Oil','Gasoil':'Oil', \n",
    "    'Straw':'Biomass','WoodPellets':'Biomass','WoodChips':'Biomass','WoodWaste':'Biomass',\n",
    "    'Biogas':'Other Bio','BioOil':'Other Bio',\n",
    "    'Coal':'Coal',\n",
    "    'NatGas':'Natural gas',\n",
    "    'Waste':'Waste'\n",
    "}\n",
    "\n",
    "#%%capture\n",
    "# Settings\n",
    "ϵ=np.finfo(float).eps*1e10\n",
    "lower_point=0\n",
    "upper_point=m.db['MWP_H']*1.1\n",
    "\n",
    "# Make dataframe\n",
    "df_fuelineff = m.db['FuelMix'].rename(agg_BFt,level='BFt').groupby(['id','BFt']).sum().unstack('BFt').rename_axis(None,axis=1)\n",
    "df = pd.concat(\n",
    "    [m.hourlyGeneratingCap_H.groupby('id').agg('mean').rename('q').astype(float),m.db['mc'].rename('p').astype(float)]+\n",
    "    [df_fuelineff]+\n",
    "    [plantEmissionIntensity(m.db).xs('CO2',level='EmissionType').rename('m').mul(1000)]\n",
    "    ,axis=1\n",
    ").fillna(0)\n",
    "\n",
    "# Sort and aggregate\n",
    "df = df.sort_values(['p'])\n",
    "df['q_cs'] = df['q'].transform('cumsum')\n",
    "\n",
    "# Add upper points for step plotting\n",
    "df_up = df.copy()\n",
    "df_up['q_cs'] = df_up['q_cs']+ϵ\n",
    "df_up['p'] = df_up['p'].shift(-1).fillna(upper_point)\n",
    "df_up[df_fuelineff.columns.values] = df_up[df_fuelineff.columns.values].shift(-1)\n",
    "df_up['m'] = df_up['m'].shift(-1)\n",
    "df = pd.concat([df,df_up],axis=0).sort_values(['p','q_cs'])\n",
    "df['q_diff'] = df['q_cs'].diff().div(2)\n",
    "df['q_mean'] = df['q_cs']-df['q_diff']\n",
    "\n",
    "# Now plot\n",
    "fig, ax = plt.subplots(ncols=1,nrows=3,sharex=True,sharey=False)\n",
    "\n",
    "# Merit order cuve:\n",
    "df.set_index(['q_cs'])['p'].plot(ax=ax[0],ylabel=r'$€/$MWh',title='Average merit order curve')\n",
    "for i in adj.rc_pd(m.db['id'],getTechs(['Standard'],m.db)):\n",
    "    df_tmp = df.loc[i].copy()\n",
    "    ax[0].text(x=df_tmp.iloc[0]['q_mean'],y=df_tmp.iloc[0]['p']-1,s=i,ha='center',va='top')\n",
    "\n",
    "# Marginal fuel inefficiency\n",
    "df.set_index(['q_cs'])[df_fuelineff.columns].plot(kind='area',linewidth=0,ax=ax[1],legend=False,stacked=True,ylabel='MWh input/MWh output',title='Average marginal inverse fuel efficiency')\n",
    "ax[1].set_ylim(top=2)\n",
    "fig.legend(handles=ax[1].get_legend_handles_labels()[0],loc='upper center', ncol=len(df_fuelineff.columns), frameon=True, bbox_to_anchor=(0.55,0.64))\n",
    "\n",
    "# Marginal emission coefficient\n",
    "df.set_index(['q_cs'])['m'].plot(kind='area',linewidth=0,ax=ax[2],legend=False,xlabel='MWh output',ylabel=r'kg CO$_2/$MWh',title=r'Average marginal CO$_2$ intensity')\n",
    "\n",
    "fig.tight_layout()"
   ]
  },
  {
   "cell_type": "markdown",
   "metadata": {},
   "source": [
    "What to plot?\n",
    "\n",
    "- CO2 Emissions\n",
    "- Usage of Storage\n",
    "- Marginal Economic value of storage\n",
    "- seasonal storage?"
   ]
  }
 ],
 "metadata": {
  "kernelspec": {
   "display_name": "EE2023",
   "language": "python",
   "name": "python3"
  },
  "language_info": {
   "codemirror_mode": {
    "name": "ipython",
    "version": 3
   },
   "file_extension": ".py",
   "mimetype": "text/x-python",
   "name": "python",
   "nbconvert_exporter": "python",
   "pygments_lexer": "ipython3",
   "version": "3.11.3"
  }
 },
 "nbformat": 4,
 "nbformat_minor": 2
}
